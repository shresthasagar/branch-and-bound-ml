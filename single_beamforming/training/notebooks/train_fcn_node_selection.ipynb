{
 "cells": [
  {
   "cell_type": "code",
   "execution_count": null,
   "id": "2d97f097",
   "metadata": {},
   "outputs": [],
   "source": [
    "import gzip\n",
    "import pickle\n",
    "import numpy as np\n",
    "from pathlib import Path\n",
    "import torch\n",
    "from  acr_bb import Observation, ACRBBenv, DefaultBranchingPolicy, RandomPolicy, LinearObservation\n",
    "from fcn_policy import FCNDataset, FCNBranchingPolicy, FCNNodeSelectionPolicy \n",
    "\n",
    "MAX_SAMPLES = 100000\n",
    "\n",
    "N = 8 # antennas\n",
    "M = 4 # users\n",
    "expert_prob = 0.5\n",
    "\n",
    "def instance_generator(M, N):\n",
    "    while 1:\n",
    "        yield np.random.randn(2,N,M)\n",
    "\n",
    "# instances = np.random.randn(MAX_SAMPLES, 2, N, M)\n",
    "instances = instance_generator(M,N)\n",
    "\n",
    "env = ACRBBenv()\n",
    "\n",
    "expert_policy = DefaultBranchingPolicy()\n",
    "random_policy = RandomPolicy()\n",
    "\n",
    "episode_counter, sample_counter = 0, 0\n",
    "Path('positive_node_samples/').mkdir(exist_ok=True)\n",
    "Path('negative_node_samples/').mkdir(exist_ok=True)\n",
    "\n",
    "# We will solve problems (run episodes) until we have saved enough samples\n",
    "max_samples_reached = False\n",
    "\n",
    "while not max_samples_reached:\n",
    "    episode_counter += 1\n",
    "    \n",
    "    observation_list = []\n",
    "    node_indices = []\n",
    "    observation, action_set, reward, done, _ = env.reset(next(instances))\n",
    "    node_indices.append(env.active_node.node_index)\n",
    "    observation_list.append(observation)\n",
    "    while not done and reward > -5:\n",
    "        if np.random.rand(1) > expert_prob:\n",
    "            action_id = expert_policy.select_variable(observation, action_set)\n",
    "        else:\n",
    "            action_id = random_policy.select_variable(observation, action_set)\n",
    "\n",
    "        observation, action_set, reward, done, _ = env.step(action_id)\n",
    "    \n",
    "    for node in env.all_nodes:\n",
    "        if node.optimal:\n",
    "            for i in range(len(node_indices)):\n",
    "                if node_indices[i] == node.node_index:\n",
    "                    data = [observation_list[i], True]\n",
    "                    break\n",
    "        else:\n",
    "            for i in range(len(node_indices)):\n",
    "                if node_indices[i] == node.node_index:\n",
    "                    data = [observation_list[i], False]\n",
    "                    break\n",
    "            \n",
    "        if not max_samples_reached:\n",
    "            sample_counter += 1\n",
    "            \n",
    "            if node.optimal:\n",
    "                filename = f'positive_node_samples/sample_{sample_counter}.pkl'\n",
    "            else:\n",
    "                filename = f'negative_node_samples/sample_{sample_counter}.pkl'\n",
    "                \n",
    "            with gzip.open(filename, 'wb') as f:\n",
    "                pickle.dump(data, f)\n",
    "            # If we collected enough samples, we finish the current episode but stop saving samples\n",
    "            if sample_counter >= MAX_SAMPLES:\n",
    "                max_samples_reached = True\n",
    "                break;\n",
    "    print(f\"Episode {episode_counter}, {sample_counter} samples collected so far\")\n"
   ]
  },
  {
   "cell_type": "markdown",
   "id": "886fa0bc",
   "metadata": {},
   "source": [
    "# Train FCN model for node Selection classifier"
   ]
  },
  {
   "cell_type": "code",
   "execution_count": 1,
   "id": "449d0c80",
   "metadata": {},
   "outputs": [
    {
     "name": "stdout",
     "output_type": "stream",
     "text": [
      "4132423\n",
      "Epoch 1\n"
     ]
    },
    {
     "name": "stderr",
     "output_type": "stream",
     "text": [
      "100%|██████████| 3305/3305 [01:12<00:00, 45.40it/s]\n"
     ]
    },
    {
     "name": "stdout",
     "output_type": "stream",
     "text": [
      "tensor([[130575,  80889],\n",
      "        [ 75927, 135537]])\n",
      "422928\n",
      "Train loss: 0.635, accuracy 0.634\n"
     ]
    },
    {
     "name": "stderr",
     "output_type": "stream",
     "text": [
      "100%|██████████| 827/827 [00:20<00:00, 40.98it/s]\n"
     ]
    },
    {
     "name": "stdout",
     "output_type": "stream",
     "text": [
      "tensor([[26043, 26824],\n",
      "        [10706, 42161]])\n",
      "105734\n",
      "Valid loss: 0.624, accuracy 0.692\n",
      "Epoch 2\n"
     ]
    },
    {
     "name": "stderr",
     "output_type": "stream",
     "text": [
      "100%|██████████| 3305/3305 [01:18<00:00, 42.08it/s]\n"
     ]
    },
    {
     "name": "stdout",
     "output_type": "stream",
     "text": [
      "tensor([[130301,  81163],\n",
      "        [ 62623, 148841]])\n",
      "422928\n",
      "Train loss: 0.617, accuracy 0.674\n"
     ]
    },
    {
     "name": "stderr",
     "output_type": "stream",
     "text": [
      "100%|██████████| 827/827 [00:17<00:00, 47.08it/s]\n"
     ]
    },
    {
     "name": "stdout",
     "output_type": "stream",
     "text": [
      "tensor([[28017, 24850],\n",
      "        [11381, 41486]])\n",
      "105734\n",
      "Valid loss: 0.616, accuracy 0.696\n",
      "Epoch 3\n"
     ]
    },
    {
     "name": "stderr",
     "output_type": "stream",
     "text": [
      "100%|██████████| 3305/3305 [01:16<00:00, 42.93it/s]\n"
     ]
    },
    {
     "name": "stdout",
     "output_type": "stream",
     "text": [
      "tensor([[132262,  79202],\n",
      "        [ 61245, 150219]])\n",
      "422928\n",
      "Train loss: 0.613, accuracy 0.681\n"
     ]
    },
    {
     "name": "stderr",
     "output_type": "stream",
     "text": [
      "100%|██████████| 827/827 [00:17<00:00, 47.39it/s]\n"
     ]
    },
    {
     "name": "stdout",
     "output_type": "stream",
     "text": [
      "tensor([[31914, 20953],\n",
      "        [13732, 39135]])\n",
      "105734\n",
      "Valid loss: 0.611, accuracy 0.693\n",
      "Epoch 4\n"
     ]
    },
    {
     "name": "stderr",
     "output_type": "stream",
     "text": [
      "100%|██████████| 3305/3305 [01:20<00:00, 41.19it/s]\n"
     ]
    },
    {
     "name": "stdout",
     "output_type": "stream",
     "text": [
      "tensor([[133740,  77724],\n",
      "        [ 59861, 151603]])\n",
      "422928\n",
      "Train loss: 0.610, accuracy 0.688\n"
     ]
    },
    {
     "name": "stderr",
     "output_type": "stream",
     "text": [
      "100%|██████████| 827/827 [00:17<00:00, 46.54it/s]\n"
     ]
    },
    {
     "name": "stdout",
     "output_type": "stream",
     "text": [
      "tensor([[31721, 21146],\n",
      "        [13241, 39626]])\n",
      "105734\n",
      "Valid loss: 0.607, accuracy 0.697\n",
      "Epoch 5\n"
     ]
    },
    {
     "name": "stderr",
     "output_type": "stream",
     "text": [
      "100%|██████████| 3305/3305 [01:14<00:00, 44.43it/s]\n"
     ]
    },
    {
     "name": "stdout",
     "output_type": "stream",
     "text": [
      "tensor([[134680,  76784],\n",
      "        [ 59004, 152460]])\n",
      "422928\n",
      "Train loss: 0.607, accuracy 0.692\n"
     ]
    },
    {
     "name": "stderr",
     "output_type": "stream",
     "text": [
      "100%|██████████| 827/827 [00:17<00:00, 46.50it/s]\n"
     ]
    },
    {
     "name": "stdout",
     "output_type": "stream",
     "text": [
      "tensor([[26658, 26209],\n",
      "        [ 8900, 43967]])\n",
      "105734\n",
      "Valid loss: 0.608, accuracy 0.715\n",
      "Epoch 6\n"
     ]
    },
    {
     "name": "stderr",
     "output_type": "stream",
     "text": [
      "100%|██████████| 3305/3305 [01:17<00:00, 42.86it/s]\n"
     ]
    },
    {
     "name": "stdout",
     "output_type": "stream",
     "text": [
      "tensor([[135231,  76233],\n",
      "        [ 58550, 152914]])\n",
      "422928\n",
      "Train loss: 0.604, accuracy 0.694\n"
     ]
    },
    {
     "name": "stderr",
     "output_type": "stream",
     "text": [
      "100%|██████████| 827/827 [00:17<00:00, 46.99it/s]\n"
     ]
    },
    {
     "name": "stdout",
     "output_type": "stream",
     "text": [
      "tensor([[30919, 21948],\n",
      "        [11931, 40936]])\n",
      "105734\n",
      "Valid loss: 0.601, accuracy 0.707\n",
      "Epoch 7\n"
     ]
    },
    {
     "name": "stderr",
     "output_type": "stream",
     "text": [
      "100%|██████████| 3305/3305 [01:14<00:00, 44.21it/s]\n"
     ]
    },
    {
     "name": "stdout",
     "output_type": "stream",
     "text": [
      "tensor([[135826,  75638],\n",
      "        [ 57928, 153536]])\n",
      "422928\n",
      "Train loss: 0.601, accuracy 0.697\n"
     ]
    },
    {
     "name": "stderr",
     "output_type": "stream",
     "text": [
      "100%|██████████| 827/827 [00:17<00:00, 47.29it/s]\n"
     ]
    },
    {
     "name": "stdout",
     "output_type": "stream",
     "text": [
      "tensor([[28539, 24328],\n",
      "        [ 9600, 43267]])\n",
      "105734\n",
      "Valid loss: 0.600, accuracy 0.718\n",
      "Epoch 8\n"
     ]
    },
    {
     "name": "stderr",
     "output_type": "stream",
     "text": [
      "100%|██████████| 3305/3305 [01:20<00:00, 40.87it/s]\n"
     ]
    },
    {
     "name": "stdout",
     "output_type": "stream",
     "text": [
      "tensor([[136258,  75206],\n",
      "        [ 57464, 154000]])\n",
      "422928\n",
      "Train loss: 0.599, accuracy 0.699\n"
     ]
    },
    {
     "name": "stderr",
     "output_type": "stream",
     "text": [
      "100%|██████████| 827/827 [00:17<00:00, 46.63it/s]\n"
     ]
    },
    {
     "name": "stdout",
     "output_type": "stream",
     "text": [
      "tensor([[29575, 23292],\n",
      "        [10278, 42589]])\n",
      "105734\n",
      "Valid loss: 0.596, accuracy 0.717\n",
      "Epoch 9\n"
     ]
    },
    {
     "name": "stderr",
     "output_type": "stream",
     "text": [
      "100%|██████████| 3305/3305 [01:15<00:00, 43.85it/s]\n"
     ]
    },
    {
     "name": "stdout",
     "output_type": "stream",
     "text": [
      "tensor([[136585,  74879],\n",
      "        [ 57303, 154161]])\n",
      "422928\n",
      "Train loss: 0.597, accuracy 0.700\n"
     ]
    },
    {
     "name": "stderr",
     "output_type": "stream",
     "text": [
      "100%|██████████| 827/827 [00:17<00:00, 46.11it/s]\n"
     ]
    },
    {
     "name": "stdout",
     "output_type": "stream",
     "text": [
      "tensor([[32199, 20668],\n",
      "        [12370, 40497]])\n",
      "105734\n",
      "Valid loss: 0.593, accuracy 0.710\n",
      "Epoch 10\n"
     ]
    },
    {
     "name": "stderr",
     "output_type": "stream",
     "text": [
      "100%|██████████| 3305/3305 [01:20<00:00, 41.25it/s]\n"
     ]
    },
    {
     "name": "stdout",
     "output_type": "stream",
     "text": [
      "tensor([[136802,  74662],\n",
      "        [ 57039, 154425]])\n",
      "422928\n",
      "Train loss: 0.595, accuracy 0.701\n"
     ]
    },
    {
     "name": "stderr",
     "output_type": "stream",
     "text": [
      "100%|██████████| 827/827 [00:17<00:00, 47.15it/s]\n"
     ]
    },
    {
     "name": "stdout",
     "output_type": "stream",
     "text": [
      "tensor([[32327, 20540],\n",
      "        [12347, 40520]])\n",
      "105734\n",
      "Valid loss: 0.591, accuracy 0.711\n",
      "Epoch 11\n"
     ]
    },
    {
     "name": "stderr",
     "output_type": "stream",
     "text": [
      "100%|██████████| 3305/3305 [01:13<00:00, 44.73it/s]\n"
     ]
    },
    {
     "name": "stdout",
     "output_type": "stream",
     "text": [
      "tensor([[137209,  74255],\n",
      "        [ 57086, 154378]])\n",
      "422928\n",
      "Train loss: 0.593, accuracy 0.702\n"
     ]
    },
    {
     "name": "stderr",
     "output_type": "stream",
     "text": [
      "100%|██████████| 827/827 [00:17<00:00, 47.38it/s]\n"
     ]
    },
    {
     "name": "stdout",
     "output_type": "stream",
     "text": [
      "tensor([[37783, 15084],\n",
      "        [18074, 34793]])\n",
      "105734\n",
      "Valid loss: 0.590, accuracy 0.677\n",
      "Epoch 12\n"
     ]
    },
    {
     "name": "stderr",
     "output_type": "stream",
     "text": [
      "100%|██████████| 3305/3305 [01:20<00:00, 40.92it/s]\n"
     ]
    },
    {
     "name": "stdout",
     "output_type": "stream",
     "text": [
      "tensor([[137502,  73962],\n",
      "        [ 56895, 154569]])\n",
      "422928\n",
      "Train loss: 0.591, accuracy 0.703\n"
     ]
    },
    {
     "name": "stderr",
     "output_type": "stream",
     "text": [
      "100%|██████████| 827/827 [00:17<00:00, 46.28it/s]\n"
     ]
    },
    {
     "name": "stdout",
     "output_type": "stream",
     "text": [
      "tensor([[36769, 16098],\n",
      "        [16861, 36006]])\n",
      "105734\n",
      "Valid loss: 0.588, accuracy 0.686\n",
      "Epoch 13\n"
     ]
    },
    {
     "name": "stderr",
     "output_type": "stream",
     "text": [
      "100%|██████████| 3305/3305 [01:18<00:00, 42.04it/s]\n"
     ]
    },
    {
     "name": "stdout",
     "output_type": "stream",
     "text": [
      "tensor([[137642,  73822],\n",
      "        [ 56649, 154815]])\n",
      "422928\n",
      "Train loss: 0.590, accuracy 0.704\n"
     ]
    },
    {
     "name": "stderr",
     "output_type": "stream",
     "text": [
      "100%|██████████| 827/827 [00:16<00:00, 51.04it/s]\n"
     ]
    },
    {
     "name": "stdout",
     "output_type": "stream",
     "text": [
      "tensor([[30649, 22218],\n",
      "        [10518, 42349]])\n",
      "105734\n",
      "Valid loss: 0.588, accuracy 0.721\n",
      "Epoch 14\n"
     ]
    },
    {
     "name": "stderr",
     "output_type": "stream",
     "text": [
      "100%|██████████| 3305/3305 [01:15<00:00, 43.63it/s]\n"
     ]
    },
    {
     "name": "stdout",
     "output_type": "stream",
     "text": [
      "tensor([[137762,  73702],\n",
      "        [ 56506, 154958]])\n",
      "422928\n",
      "Train loss: 0.589, accuracy 0.704\n"
     ]
    },
    {
     "name": "stderr",
     "output_type": "stream",
     "text": [
      "100%|██████████| 827/827 [00:17<00:00, 47.96it/s]\n"
     ]
    },
    {
     "name": "stdout",
     "output_type": "stream",
     "text": [
      "tensor([[33490, 19377],\n",
      "        [13075, 39792]])\n",
      "105734\n",
      "Valid loss: 0.585, accuracy 0.710\n",
      "Epoch 15\n"
     ]
    },
    {
     "name": "stderr",
     "output_type": "stream",
     "text": [
      "100%|██████████| 3305/3305 [01:14<00:00, 44.46it/s]\n"
     ]
    },
    {
     "name": "stdout",
     "output_type": "stream",
     "text": [
      "tensor([[137996,  73468],\n",
      "        [ 56589, 154875]])\n",
      "422928\n",
      "Train loss: 0.587, accuracy 0.704\n"
     ]
    },
    {
     "name": "stderr",
     "output_type": "stream",
     "text": [
      "100%|██████████| 827/827 [00:16<00:00, 48.79it/s]\n"
     ]
    },
    {
     "name": "stdout",
     "output_type": "stream",
     "text": [
      "tensor([[34930, 17937],\n",
      "        [14544, 38323]])\n",
      "105734\n",
      "Valid loss: 0.581, accuracy 0.702\n",
      "Epoch 16\n"
     ]
    },
    {
     "name": "stderr",
     "output_type": "stream",
     "text": [
      "100%|██████████| 3305/3305 [01:14<00:00, 44.15it/s]\n"
     ]
    },
    {
     "name": "stdout",
     "output_type": "stream",
     "text": [
      "tensor([[137802,  73662],\n",
      "        [ 56386, 155078]])\n",
      "422928\n",
      "Train loss: 0.586, accuracy 0.705\n"
     ]
    },
    {
     "name": "stderr",
     "output_type": "stream",
     "text": [
      "100%|██████████| 827/827 [00:16<00:00, 50.02it/s]\n"
     ]
    },
    {
     "name": "stdout",
     "output_type": "stream",
     "text": [
      "tensor([[32309, 20558],\n",
      "        [11825, 41042]])\n",
      "105734\n",
      "Valid loss: 0.581, accuracy 0.717\n",
      "Epoch 17\n"
     ]
    },
    {
     "name": "stderr",
     "output_type": "stream",
     "text": [
      "100%|██████████| 3305/3305 [01:16<00:00, 43.23it/s]\n"
     ]
    },
    {
     "name": "stdout",
     "output_type": "stream",
     "text": [
      "tensor([[138081,  73383],\n",
      "        [ 56246, 155218]])\n",
      "422928\n",
      "Train loss: 0.584, accuracy 0.705\n"
     ]
    },
    {
     "name": "stderr",
     "output_type": "stream",
     "text": [
      "100%|██████████| 827/827 [00:15<00:00, 53.64it/s]\n"
     ]
    },
    {
     "name": "stdout",
     "output_type": "stream",
     "text": [
      "tensor([[33515, 19352],\n",
      "        [13260, 39607]])\n",
      "105734\n",
      "Valid loss: 0.580, accuracy 0.708\n",
      "Epoch 18\n"
     ]
    },
    {
     "name": "stderr",
     "output_type": "stream",
     "text": [
      "100%|██████████| 3305/3305 [01:15<00:00, 43.82it/s]\n"
     ]
    },
    {
     "name": "stdout",
     "output_type": "stream",
     "text": [
      "tensor([[138259,  73205],\n",
      "        [ 56269, 155195]])\n",
      "422928\n",
      "Train loss: 0.582, accuracy 0.706\n"
     ]
    },
    {
     "name": "stderr",
     "output_type": "stream",
     "text": [
      "100%|██████████| 827/827 [00:16<00:00, 48.98it/s]\n"
     ]
    },
    {
     "name": "stdout",
     "output_type": "stream",
     "text": [
      "tensor([[35258, 17609],\n",
      "        [14820, 38047]])\n",
      "105734\n",
      "Valid loss: 0.578, accuracy 0.701\n",
      "Epoch 19\n"
     ]
    },
    {
     "name": "stderr",
     "output_type": "stream",
     "text": [
      "100%|██████████| 3305/3305 [01:15<00:00, 43.69it/s]\n"
     ]
    },
    {
     "name": "stdout",
     "output_type": "stream",
     "text": [
      "tensor([[138088,  73376],\n",
      "        [ 56056, 155408]])\n",
      "422928\n",
      "Train loss: 0.581, accuracy 0.706\n"
     ]
    },
    {
     "name": "stderr",
     "output_type": "stream",
     "text": [
      "100%|██████████| 827/827 [00:16<00:00, 51.49it/s]\n"
     ]
    },
    {
     "name": "stdout",
     "output_type": "stream",
     "text": [
      "tensor([[28707, 24160],\n",
      "        [ 8746, 44121]])\n",
      "105734\n",
      "Valid loss: 0.583, accuracy 0.728\n",
      "Epoch 20\n"
     ]
    },
    {
     "name": "stderr",
     "output_type": "stream",
     "text": [
      "100%|██████████| 3305/3305 [01:13<00:00, 44.78it/s]\n"
     ]
    },
    {
     "name": "stdout",
     "output_type": "stream",
     "text": [
      "tensor([[138386,  73078],\n",
      "        [ 56271, 155193]])\n",
      "422928\n",
      "Train loss: 0.582, accuracy 0.706\n"
     ]
    },
    {
     "name": "stderr",
     "output_type": "stream",
     "text": [
      "100%|██████████| 827/827 [00:16<00:00, 49.09it/s]\n"
     ]
    },
    {
     "name": "stdout",
     "output_type": "stream",
     "text": [
      "tensor([[34982, 17885],\n",
      "        [14356, 38511]])\n",
      "105734\n",
      "Valid loss: 0.577, accuracy 0.705\n",
      "Epoch 21\n"
     ]
    },
    {
     "name": "stderr",
     "output_type": "stream",
     "text": [
      "100%|██████████| 3305/3305 [01:16<00:00, 43.43it/s]\n"
     ]
    },
    {
     "name": "stdout",
     "output_type": "stream",
     "text": [
      "tensor([[138114,  73350],\n",
      "        [ 55902, 155562]])\n",
      "422928\n",
      "Train loss: 0.581, accuracy 0.706\n"
     ]
    },
    {
     "name": "stderr",
     "output_type": "stream",
     "text": [
      "100%|██████████| 827/827 [00:17<00:00, 48.33it/s]\n"
     ]
    },
    {
     "name": "stdout",
     "output_type": "stream",
     "text": [
      "tensor([[30932, 21935],\n",
      "        [10491, 42376]])\n",
      "105734\n",
      "Valid loss: 0.579, accuracy 0.723\n",
      "Epoch 22\n"
     ]
    },
    {
     "name": "stderr",
     "output_type": "stream",
     "text": [
      "100%|██████████| 3305/3305 [01:13<00:00, 45.19it/s]\n"
     ]
    },
    {
     "name": "stdout",
     "output_type": "stream",
     "text": [
      "tensor([[138340,  73124],\n",
      "        [ 55849, 155615]])\n",
      "422928\n",
      "Train loss: 0.581, accuracy 0.707\n"
     ]
    },
    {
     "name": "stderr",
     "output_type": "stream",
     "text": [
      "100%|██████████| 827/827 [00:17<00:00, 48.32it/s]\n"
     ]
    },
    {
     "name": "stdout",
     "output_type": "stream",
     "text": [
      "tensor([[33906, 18961],\n",
      "        [13282, 39585]])\n",
      "105734\n",
      "Valid loss: 0.576, accuracy 0.711\n",
      "Epoch 23\n"
     ]
    },
    {
     "name": "stderr",
     "output_type": "stream",
     "text": [
      "100%|██████████| 3305/3305 [01:17<00:00, 42.87it/s]\n"
     ]
    },
    {
     "name": "stdout",
     "output_type": "stream",
     "text": [
      "tensor([[138503,  72961],\n",
      "        [ 55975, 155489]])\n",
      "422928\n",
      "Train loss: 0.582, accuracy 0.707\n"
     ]
    },
    {
     "name": "stderr",
     "output_type": "stream",
     "text": [
      "100%|██████████| 827/827 [00:17<00:00, 48.23it/s]\n"
     ]
    },
    {
     "name": "stdout",
     "output_type": "stream",
     "text": [
      "tensor([[36349, 16518],\n",
      "        [15711, 37156]])\n",
      "105734\n",
      "Valid loss: 0.576, accuracy 0.697\n",
      "Epoch 24\n"
     ]
    },
    {
     "name": "stderr",
     "output_type": "stream",
     "text": [
      "100%|██████████| 3305/3305 [01:14<00:00, 44.42it/s]\n"
     ]
    },
    {
     "name": "stdout",
     "output_type": "stream",
     "text": [
      "tensor([[138635,  72829],\n",
      "        [ 55609, 155855]])\n",
      "422928\n",
      "Train loss: 0.582, accuracy 0.708\n"
     ]
    },
    {
     "name": "stderr",
     "output_type": "stream",
     "text": [
      "100%|██████████| 827/827 [00:17<00:00, 48.24it/s]\n"
     ]
    },
    {
     "name": "stdout",
     "output_type": "stream",
     "text": [
      "tensor([[34223, 18644],\n",
      "        [13433, 39434]])\n",
      "105734\n",
      "Valid loss: 0.578, accuracy 0.711\n",
      "Epoch 25\n"
     ]
    },
    {
     "name": "stderr",
     "output_type": "stream",
     "text": [
      "100%|██████████| 3305/3305 [01:16<00:00, 43.24it/s]\n"
     ]
    },
    {
     "name": "stdout",
     "output_type": "stream",
     "text": [
      "tensor([[138476,  72988],\n",
      "        [ 55566, 155898]])\n",
      "422928\n",
      "Train loss: 0.582, accuracy 0.708\n"
     ]
    },
    {
     "name": "stderr",
     "output_type": "stream",
     "text": [
      "100%|██████████| 827/827 [00:17<00:00, 48.17it/s]\n"
     ]
    },
    {
     "name": "stdout",
     "output_type": "stream",
     "text": [
      "tensor([[38132, 14735],\n",
      "        [17884, 34983]])\n",
      "105734\n",
      "Valid loss: 0.578, accuracy 0.682\n",
      "Epoch 26\n"
     ]
    },
    {
     "name": "stderr",
     "output_type": "stream",
     "text": [
      "100%|██████████| 3305/3305 [01:14<00:00, 44.40it/s]\n"
     ]
    },
    {
     "name": "stdout",
     "output_type": "stream",
     "text": [
      "tensor([[138699,  72765],\n",
      "        [ 55564, 155900]])\n",
      "422928\n",
      "Train loss: 0.582, accuracy 0.708\n"
     ]
    },
    {
     "name": "stderr",
     "output_type": "stream",
     "text": [
      "100%|██████████| 827/827 [00:16<00:00, 49.37it/s]\n"
     ]
    },
    {
     "name": "stdout",
     "output_type": "stream",
     "text": [
      "tensor([[28086, 24781],\n",
      "        [ 7943, 44924]])\n",
      "105734\n",
      "Valid loss: 0.584, accuracy 0.733\n",
      "Epoch 27\n"
     ]
    },
    {
     "name": "stderr",
     "output_type": "stream",
     "text": [
      "100%|██████████| 3305/3305 [01:16<00:00, 43.03it/s]\n"
     ]
    },
    {
     "name": "stdout",
     "output_type": "stream",
     "text": [
      "tensor([[138510,  72954],\n",
      "        [ 55181, 156283]])\n",
      "422928\n",
      "Train loss: 0.582, accuracy 0.709\n"
     ]
    },
    {
     "name": "stderr",
     "output_type": "stream",
     "text": [
      "100%|██████████| 827/827 [00:16<00:00, 48.83it/s]\n"
     ]
    },
    {
     "name": "stdout",
     "output_type": "stream",
     "text": [
      "tensor([[37308, 15559],\n",
      "        [16901, 35966]])\n",
      "105734\n",
      "Valid loss: 0.578, accuracy 0.689\n",
      "Epoch 28\n"
     ]
    },
    {
     "name": "stderr",
     "output_type": "stream",
     "text": [
      "100%|██████████| 3305/3305 [01:13<00:00, 44.96it/s]\n"
     ]
    },
    {
     "name": "stdout",
     "output_type": "stream",
     "text": [
      "tensor([[138650,  72814],\n",
      "        [ 55334, 156130]])\n",
      "422928\n",
      "Train loss: 0.583, accuracy 0.709\n"
     ]
    },
    {
     "name": "stderr",
     "output_type": "stream",
     "text": [
      "100%|██████████| 827/827 [00:16<00:00, 50.89it/s]\n"
     ]
    },
    {
     "name": "stdout",
     "output_type": "stream",
     "text": [
      "tensor([[33356, 19511],\n",
      "        [12529, 40338]])\n",
      "105734\n",
      "Valid loss: 0.577, accuracy 0.716\n",
      "Epoch 29\n"
     ]
    },
    {
     "name": "stderr",
     "output_type": "stream",
     "text": [
      "100%|██████████| 3305/3305 [01:16<00:00, 43.44it/s]\n"
     ]
    },
    {
     "name": "stdout",
     "output_type": "stream",
     "text": [
      "tensor([[138710,  72754],\n",
      "        [ 55159, 156305]])\n",
      "422928\n",
      "Train loss: 0.583, accuracy 0.710\n"
     ]
    },
    {
     "name": "stderr",
     "output_type": "stream",
     "text": [
      "100%|██████████| 827/827 [00:17<00:00, 47.73it/s]\n"
     ]
    },
    {
     "name": "stdout",
     "output_type": "stream",
     "text": [
      "tensor([[33083, 19784],\n",
      "        [12179, 40688]])\n",
      "105734\n",
      "Valid loss: 0.579, accuracy 0.718\n",
      "Epoch 30\n"
     ]
    },
    {
     "name": "stderr",
     "output_type": "stream",
     "text": [
      "100%|██████████| 3305/3305 [01:16<00:00, 43.06it/s]\n"
     ]
    },
    {
     "name": "stdout",
     "output_type": "stream",
     "text": [
      "tensor([[138523,  72941],\n",
      "        [ 55099, 156365]])\n",
      "422928\n",
      "Train loss: 0.583, accuracy 0.710\n"
     ]
    },
    {
     "name": "stderr",
     "output_type": "stream",
     "text": [
      "100%|██████████| 827/827 [00:16<00:00, 48.68it/s]\n"
     ]
    },
    {
     "name": "stdout",
     "output_type": "stream",
     "text": [
      "tensor([[34885, 17982],\n",
      "        [14088, 38779]])\n",
      "105734\n",
      "Valid loss: 0.579, accuracy 0.707\n",
      "Epoch 31\n"
     ]
    },
    {
     "name": "stderr",
     "output_type": "stream",
     "text": [
      "100%|██████████| 3305/3305 [01:15<00:00, 43.50it/s]\n"
     ]
    },
    {
     "name": "stdout",
     "output_type": "stream",
     "text": [
      "tensor([[138471,  72993],\n",
      "        [ 54957, 156507]])\n",
      "422928\n",
      "Train loss: 0.582, accuracy 0.710\n"
     ]
    },
    {
     "name": "stderr",
     "output_type": "stream",
     "text": [
      "100%|██████████| 827/827 [00:17<00:00, 47.87it/s]\n"
     ]
    },
    {
     "name": "stdout",
     "output_type": "stream",
     "text": [
      "tensor([[34793, 18074],\n",
      "        [14000, 38867]])\n",
      "105734\n",
      "Valid loss: 0.580, accuracy 0.708\n",
      "Epoch 32\n"
     ]
    },
    {
     "name": "stderr",
     "output_type": "stream",
     "text": [
      "100%|██████████| 3305/3305 [01:16<00:00, 43.07it/s]\n"
     ]
    },
    {
     "name": "stdout",
     "output_type": "stream",
     "text": [
      "tensor([[138560,  72904],\n",
      "        [ 55062, 156402]])\n",
      "422928\n",
      "Train loss: 0.583, accuracy 0.710\n"
     ]
    },
    {
     "name": "stderr",
     "output_type": "stream",
     "text": [
      "100%|██████████| 827/827 [00:14<00:00, 56.64it/s]\n"
     ]
    },
    {
     "name": "stdout",
     "output_type": "stream",
     "text": [
      "tensor([[34525, 18342],\n",
      "        [13535, 39332]])\n",
      "105734\n",
      "Valid loss: 0.580, accuracy 0.712\n",
      "Epoch 33\n"
     ]
    },
    {
     "name": "stderr",
     "output_type": "stream",
     "text": [
      "100%|██████████| 3305/3305 [01:16<00:00, 43.40it/s]\n"
     ]
    },
    {
     "name": "stdout",
     "output_type": "stream",
     "text": [
      "tensor([[138668,  72796],\n",
      "        [ 54811, 156653]])\n",
      "422928\n",
      "Train loss: 0.582, accuracy 0.711\n"
     ]
    },
    {
     "name": "stderr",
     "output_type": "stream",
     "text": [
      "100%|██████████| 827/827 [00:17<00:00, 48.27it/s]\n"
     ]
    },
    {
     "name": "stdout",
     "output_type": "stream",
     "text": [
      "tensor([[38408, 14459],\n",
      "        [18167, 34700]])\n",
      "105734\n",
      "Valid loss: 0.583, accuracy 0.680\n",
      "Epoch 34\n"
     ]
    },
    {
     "name": "stderr",
     "output_type": "stream",
     "text": [
      "100%|██████████| 3305/3305 [01:16<00:00, 42.93it/s]\n"
     ]
    },
    {
     "name": "stdout",
     "output_type": "stream",
     "text": [
      "tensor([[138663,  72801],\n",
      "        [ 55082, 156382]])\n",
      "422928\n",
      "Train loss: 0.583, accuracy 0.710\n"
     ]
    },
    {
     "name": "stderr",
     "output_type": "stream",
     "text": [
      "100%|██████████| 827/827 [00:17<00:00, 48.55it/s]\n"
     ]
    },
    {
     "name": "stdout",
     "output_type": "stream",
     "text": [
      "tensor([[35209, 17658],\n",
      "        [14333, 38534]])\n",
      "105734\n",
      "Valid loss: 0.581, accuracy 0.707\n",
      "Epoch 35\n"
     ]
    },
    {
     "name": "stderr",
     "output_type": "stream",
     "text": [
      "100%|██████████| 3305/3305 [01:13<00:00, 44.97it/s]\n"
     ]
    },
    {
     "name": "stdout",
     "output_type": "stream",
     "text": [
      "tensor([[138605,  72859],\n",
      "        [ 54796, 156668]])\n",
      "422928\n",
      "Train loss: 0.583, accuracy 0.711\n"
     ]
    },
    {
     "name": "stderr",
     "output_type": "stream",
     "text": [
      "100%|██████████| 827/827 [00:17<00:00, 48.44it/s]\n"
     ]
    },
    {
     "name": "stdout",
     "output_type": "stream",
     "text": [
      "tensor([[31787, 21080],\n",
      "        [11010, 41857]])\n",
      "105734\n",
      "Valid loss: 0.585, accuracy 0.723\n",
      "Epoch 36\n"
     ]
    },
    {
     "name": "stderr",
     "output_type": "stream",
     "text": [
      "100%|██████████| 3305/3305 [01:15<00:00, 43.68it/s]\n"
     ]
    },
    {
     "name": "stdout",
     "output_type": "stream",
     "text": [
      "tensor([[138678,  72786],\n",
      "        [ 54753, 156711]])\n",
      "422928\n",
      "Train loss: 0.584, accuracy 0.711\n"
     ]
    },
    {
     "name": "stderr",
     "output_type": "stream",
     "text": [
      "100%|██████████| 827/827 [00:16<00:00, 48.80it/s]\n"
     ]
    },
    {
     "name": "stdout",
     "output_type": "stream",
     "text": [
      "tensor([[27734, 25133],\n",
      "        [ 7559, 45308]])\n",
      "105734\n",
      "Valid loss: 0.594, accuracy 0.735\n",
      "Epoch 37\n"
     ]
    },
    {
     "name": "stderr",
     "output_type": "stream",
     "text": [
      "100%|██████████| 3305/3305 [01:14<00:00, 44.59it/s]\n"
     ]
    },
    {
     "name": "stdout",
     "output_type": "stream",
     "text": [
      "tensor([[138624,  72840],\n",
      "        [ 54721, 156743]])\n",
      "422928\n",
      "Train loss: 0.584, accuracy 0.711\n"
     ]
    },
    {
     "name": "stderr",
     "output_type": "stream",
     "text": [
      "100%|██████████| 827/827 [00:17<00:00, 48.00it/s]\n"
     ]
    },
    {
     "name": "stdout",
     "output_type": "stream",
     "text": [
      "tensor([[33087, 19780],\n",
      "        [12154, 40713]])\n",
      "105734\n",
      "Valid loss: 0.583, accuracy 0.718\n",
      "Epoch 38\n"
     ]
    },
    {
     "name": "stderr",
     "output_type": "stream",
     "text": [
      "100%|██████████| 3305/3305 [01:15<00:00, 43.65it/s]\n"
     ]
    },
    {
     "name": "stdout",
     "output_type": "stream",
     "text": [
      "tensor([[138743,  72721],\n",
      "        [ 54656, 156808]])\n",
      "422928\n",
      "Train loss: 0.585, accuracy 0.711\n"
     ]
    },
    {
     "name": "stderr",
     "output_type": "stream",
     "text": [
      " 54%|█████▎    | 443/827 [00:08<00:07, 50.63it/s]\n"
     ]
    },
    {
     "ename": "KeyboardInterrupt",
     "evalue": "",
     "output_type": "error",
     "traceback": [
      "\u001b[0;31m---------------------------------------------------------------------------\u001b[0m",
      "\u001b[0;31mKeyboardInterrupt\u001b[0m                         Traceback (most recent call last)",
      "\u001b[0;32m<ipython-input-1-71e0c7914cd5>\u001b[0m in \u001b[0;36m<module>\u001b[0;34m\u001b[0m\n\u001b[1;32m    150\u001b[0m     \u001b[0mtrains\u001b[0m\u001b[0;34m.\u001b[0m\u001b[0mappend\u001b[0m\u001b[0;34m(\u001b[0m\u001b[0mtrain_acc\u001b[0m\u001b[0;34m)\u001b[0m\u001b[0;34m\u001b[0m\u001b[0;34m\u001b[0m\u001b[0m\n\u001b[1;32m    151\u001b[0m \u001b[0;34m\u001b[0m\u001b[0m\n\u001b[0;32m--> 152\u001b[0;31m     \u001b[0mvalid_loss\u001b[0m\u001b[0;34m,\u001b[0m \u001b[0mvalid_acc\u001b[0m \u001b[0;34m=\u001b[0m \u001b[0mprocess\u001b[0m\u001b[0;34m(\u001b[0m\u001b[0mpolicy\u001b[0m\u001b[0;34m,\u001b[0m \u001b[0mvalid_loader\u001b[0m\u001b[0;34m,\u001b[0m \u001b[0;32mNone\u001b[0m\u001b[0;34m)\u001b[0m\u001b[0;34m\u001b[0m\u001b[0;34m\u001b[0m\u001b[0m\n\u001b[0m\u001b[1;32m    153\u001b[0m     \u001b[0mprint\u001b[0m\u001b[0;34m(\u001b[0m\u001b[0;34mf\"Valid loss: {valid_loss:0.3f}, accuracy {valid_acc:0.3f}\"\u001b[0m \u001b[0;34m)\u001b[0m\u001b[0;34m\u001b[0m\u001b[0;34m\u001b[0m\u001b[0m\n\u001b[1;32m    154\u001b[0m     \u001b[0mvalids\u001b[0m\u001b[0;34m.\u001b[0m\u001b[0mappend\u001b[0m\u001b[0;34m(\u001b[0m\u001b[0mvalid_acc\u001b[0m\u001b[0;34m)\u001b[0m\u001b[0;34m\u001b[0m\u001b[0;34m\u001b[0m\u001b[0m\n",
      "\u001b[0;32m<ipython-input-1-71e0c7914cd5>\u001b[0m in \u001b[0;36mprocess\u001b[0;34m(policy, data_loader, optimizer)\u001b[0m\n\u001b[1;32m     29\u001b[0m     \u001b[0mpreds_list\u001b[0m \u001b[0;34m=\u001b[0m \u001b[0mtorch\u001b[0m\u001b[0;34m.\u001b[0m\u001b[0mTensor\u001b[0m\u001b[0;34m(\u001b[0m\u001b[0;34m[\u001b[0m\u001b[0;34m]\u001b[0m\u001b[0;34m)\u001b[0m\u001b[0;34m.\u001b[0m\u001b[0mto\u001b[0m\u001b[0;34m(\u001b[0m\u001b[0mDEVICE\u001b[0m\u001b[0;34m)\u001b[0m\u001b[0;34m\u001b[0m\u001b[0;34m\u001b[0m\u001b[0m\n\u001b[1;32m     30\u001b[0m     \u001b[0;32mwith\u001b[0m \u001b[0mtorch\u001b[0m\u001b[0;34m.\u001b[0m\u001b[0mset_grad_enabled\u001b[0m\u001b[0;34m(\u001b[0m\u001b[0moptimizer\u001b[0m \u001b[0;32mis\u001b[0m \u001b[0;32mnot\u001b[0m \u001b[0;32mNone\u001b[0m\u001b[0;34m)\u001b[0m\u001b[0;34m:\u001b[0m\u001b[0;34m\u001b[0m\u001b[0;34m\u001b[0m\u001b[0m\n\u001b[0;32m---> 31\u001b[0;31m         \u001b[0;32mfor\u001b[0m \u001b[0mbatch_data\u001b[0m \u001b[0;32min\u001b[0m \u001b[0mtqdm\u001b[0m\u001b[0;34m(\u001b[0m\u001b[0mdata_loader\u001b[0m\u001b[0;34m)\u001b[0m\u001b[0;34m:\u001b[0m\u001b[0;34m\u001b[0m\u001b[0;34m\u001b[0m\u001b[0m\n\u001b[0m\u001b[1;32m     32\u001b[0m             \u001b[0mbatch\u001b[0m\u001b[0;34m,\u001b[0m \u001b[0mtarget\u001b[0m \u001b[0;34m=\u001b[0m \u001b[0mbatch_data\u001b[0m\u001b[0;34m\u001b[0m\u001b[0;34m\u001b[0m\u001b[0m\n\u001b[1;32m     33\u001b[0m \u001b[0;31m#             print(batch[0], batch[1])\u001b[0m\u001b[0;34m\u001b[0m\u001b[0;34m\u001b[0m\u001b[0;34m\u001b[0m\u001b[0m\n",
      "\u001b[0;32m/scratch/sagar/Projects/combopt/venv/lib/python3.6/site-packages/tqdm/std.py\u001b[0m in \u001b[0;36m__iter__\u001b[0;34m(self)\u001b[0m\n\u001b[1;32m   1178\u001b[0m \u001b[0;34m\u001b[0m\u001b[0m\n\u001b[1;32m   1179\u001b[0m         \u001b[0;32mtry\u001b[0m\u001b[0;34m:\u001b[0m\u001b[0;34m\u001b[0m\u001b[0;34m\u001b[0m\u001b[0m\n\u001b[0;32m-> 1180\u001b[0;31m             \u001b[0;32mfor\u001b[0m \u001b[0mobj\u001b[0m \u001b[0;32min\u001b[0m \u001b[0miterable\u001b[0m\u001b[0;34m:\u001b[0m\u001b[0;34m\u001b[0m\u001b[0;34m\u001b[0m\u001b[0m\n\u001b[0m\u001b[1;32m   1181\u001b[0m                 \u001b[0;32myield\u001b[0m \u001b[0mobj\u001b[0m\u001b[0;34m\u001b[0m\u001b[0;34m\u001b[0m\u001b[0m\n\u001b[1;32m   1182\u001b[0m                 \u001b[0;31m# Update and possibly print the progressbar.\u001b[0m\u001b[0;34m\u001b[0m\u001b[0;34m\u001b[0m\u001b[0;34m\u001b[0m\u001b[0m\n",
      "\u001b[0;32m/scratch/sagar/Projects/combopt/venv/lib/python3.6/site-packages/torch/utils/data/dataloader.py\u001b[0m in \u001b[0;36m__next__\u001b[0;34m(self)\u001b[0m\n\u001b[1;32m    515\u001b[0m             \u001b[0;32mif\u001b[0m \u001b[0mself\u001b[0m\u001b[0;34m.\u001b[0m\u001b[0m_sampler_iter\u001b[0m \u001b[0;32mis\u001b[0m \u001b[0;32mNone\u001b[0m\u001b[0;34m:\u001b[0m\u001b[0;34m\u001b[0m\u001b[0;34m\u001b[0m\u001b[0m\n\u001b[1;32m    516\u001b[0m                 \u001b[0mself\u001b[0m\u001b[0;34m.\u001b[0m\u001b[0m_reset\u001b[0m\u001b[0;34m(\u001b[0m\u001b[0;34m)\u001b[0m\u001b[0;34m\u001b[0m\u001b[0;34m\u001b[0m\u001b[0m\n\u001b[0;32m--> 517\u001b[0;31m             \u001b[0mdata\u001b[0m \u001b[0;34m=\u001b[0m \u001b[0mself\u001b[0m\u001b[0;34m.\u001b[0m\u001b[0m_next_data\u001b[0m\u001b[0;34m(\u001b[0m\u001b[0;34m)\u001b[0m\u001b[0;34m\u001b[0m\u001b[0;34m\u001b[0m\u001b[0m\n\u001b[0m\u001b[1;32m    518\u001b[0m             \u001b[0mself\u001b[0m\u001b[0;34m.\u001b[0m\u001b[0m_num_yielded\u001b[0m \u001b[0;34m+=\u001b[0m \u001b[0;36m1\u001b[0m\u001b[0;34m\u001b[0m\u001b[0;34m\u001b[0m\u001b[0m\n\u001b[1;32m    519\u001b[0m             \u001b[0;32mif\u001b[0m \u001b[0mself\u001b[0m\u001b[0;34m.\u001b[0m\u001b[0m_dataset_kind\u001b[0m \u001b[0;34m==\u001b[0m \u001b[0m_DatasetKind\u001b[0m\u001b[0;34m.\u001b[0m\u001b[0mIterable\u001b[0m \u001b[0;32mand\u001b[0m\u001b[0;31m \u001b[0m\u001b[0;31m\\\u001b[0m\u001b[0;34m\u001b[0m\u001b[0;34m\u001b[0m\u001b[0m\n",
      "\u001b[0;32m/scratch/sagar/Projects/combopt/venv/lib/python3.6/site-packages/torch/utils/data/dataloader.py\u001b[0m in \u001b[0;36m_next_data\u001b[0;34m(self)\u001b[0m\n\u001b[1;32m    555\u001b[0m     \u001b[0;32mdef\u001b[0m \u001b[0m_next_data\u001b[0m\u001b[0;34m(\u001b[0m\u001b[0mself\u001b[0m\u001b[0;34m)\u001b[0m\u001b[0;34m:\u001b[0m\u001b[0;34m\u001b[0m\u001b[0;34m\u001b[0m\u001b[0m\n\u001b[1;32m    556\u001b[0m         \u001b[0mindex\u001b[0m \u001b[0;34m=\u001b[0m \u001b[0mself\u001b[0m\u001b[0;34m.\u001b[0m\u001b[0m_next_index\u001b[0m\u001b[0;34m(\u001b[0m\u001b[0;34m)\u001b[0m  \u001b[0;31m# may raise StopIteration\u001b[0m\u001b[0;34m\u001b[0m\u001b[0;34m\u001b[0m\u001b[0m\n\u001b[0;32m--> 557\u001b[0;31m         \u001b[0mdata\u001b[0m \u001b[0;34m=\u001b[0m \u001b[0mself\u001b[0m\u001b[0;34m.\u001b[0m\u001b[0m_dataset_fetcher\u001b[0m\u001b[0;34m.\u001b[0m\u001b[0mfetch\u001b[0m\u001b[0;34m(\u001b[0m\u001b[0mindex\u001b[0m\u001b[0;34m)\u001b[0m  \u001b[0;31m# may raise StopIteration\u001b[0m\u001b[0;34m\u001b[0m\u001b[0;34m\u001b[0m\u001b[0m\n\u001b[0m\u001b[1;32m    558\u001b[0m         \u001b[0;32mif\u001b[0m \u001b[0mself\u001b[0m\u001b[0;34m.\u001b[0m\u001b[0m_pin_memory\u001b[0m\u001b[0;34m:\u001b[0m\u001b[0;34m\u001b[0m\u001b[0;34m\u001b[0m\u001b[0m\n\u001b[1;32m    559\u001b[0m             \u001b[0mdata\u001b[0m \u001b[0;34m=\u001b[0m \u001b[0m_utils\u001b[0m\u001b[0;34m.\u001b[0m\u001b[0mpin_memory\u001b[0m\u001b[0;34m.\u001b[0m\u001b[0mpin_memory\u001b[0m\u001b[0;34m(\u001b[0m\u001b[0mdata\u001b[0m\u001b[0;34m)\u001b[0m\u001b[0;34m\u001b[0m\u001b[0;34m\u001b[0m\u001b[0m\n",
      "\u001b[0;32m/scratch/sagar/Projects/combopt/venv/lib/python3.6/site-packages/torch/utils/data/_utils/fetch.py\u001b[0m in \u001b[0;36mfetch\u001b[0;34m(self, possibly_batched_index)\u001b[0m\n\u001b[1;32m     42\u001b[0m     \u001b[0;32mdef\u001b[0m \u001b[0mfetch\u001b[0m\u001b[0;34m(\u001b[0m\u001b[0mself\u001b[0m\u001b[0;34m,\u001b[0m \u001b[0mpossibly_batched_index\u001b[0m\u001b[0;34m)\u001b[0m\u001b[0;34m:\u001b[0m\u001b[0;34m\u001b[0m\u001b[0;34m\u001b[0m\u001b[0m\n\u001b[1;32m     43\u001b[0m         \u001b[0;32mif\u001b[0m \u001b[0mself\u001b[0m\u001b[0;34m.\u001b[0m\u001b[0mauto_collation\u001b[0m\u001b[0;34m:\u001b[0m\u001b[0;34m\u001b[0m\u001b[0;34m\u001b[0m\u001b[0m\n\u001b[0;32m---> 44\u001b[0;31m             \u001b[0mdata\u001b[0m \u001b[0;34m=\u001b[0m \u001b[0;34m[\u001b[0m\u001b[0mself\u001b[0m\u001b[0;34m.\u001b[0m\u001b[0mdataset\u001b[0m\u001b[0;34m[\u001b[0m\u001b[0midx\u001b[0m\u001b[0;34m]\u001b[0m \u001b[0;32mfor\u001b[0m \u001b[0midx\u001b[0m \u001b[0;32min\u001b[0m \u001b[0mpossibly_batched_index\u001b[0m\u001b[0;34m]\u001b[0m\u001b[0;34m\u001b[0m\u001b[0;34m\u001b[0m\u001b[0m\n\u001b[0m\u001b[1;32m     45\u001b[0m         \u001b[0;32melse\u001b[0m\u001b[0;34m:\u001b[0m\u001b[0;34m\u001b[0m\u001b[0;34m\u001b[0m\u001b[0m\n\u001b[1;32m     46\u001b[0m             \u001b[0mdata\u001b[0m \u001b[0;34m=\u001b[0m \u001b[0mself\u001b[0m\u001b[0;34m.\u001b[0m\u001b[0mdataset\u001b[0m\u001b[0;34m[\u001b[0m\u001b[0mpossibly_batched_index\u001b[0m\u001b[0;34m]\u001b[0m\u001b[0;34m\u001b[0m\u001b[0;34m\u001b[0m\u001b[0m\n",
      "\u001b[0;32m/scratch/sagar/Projects/combopt/venv/lib/python3.6/site-packages/torch/utils/data/_utils/fetch.py\u001b[0m in \u001b[0;36m<listcomp>\u001b[0;34m(.0)\u001b[0m\n\u001b[1;32m     42\u001b[0m     \u001b[0;32mdef\u001b[0m \u001b[0mfetch\u001b[0m\u001b[0;34m(\u001b[0m\u001b[0mself\u001b[0m\u001b[0;34m,\u001b[0m \u001b[0mpossibly_batched_index\u001b[0m\u001b[0;34m)\u001b[0m\u001b[0;34m:\u001b[0m\u001b[0;34m\u001b[0m\u001b[0;34m\u001b[0m\u001b[0m\n\u001b[1;32m     43\u001b[0m         \u001b[0;32mif\u001b[0m \u001b[0mself\u001b[0m\u001b[0;34m.\u001b[0m\u001b[0mauto_collation\u001b[0m\u001b[0;34m:\u001b[0m\u001b[0;34m\u001b[0m\u001b[0;34m\u001b[0m\u001b[0m\n\u001b[0;32m---> 44\u001b[0;31m             \u001b[0mdata\u001b[0m \u001b[0;34m=\u001b[0m \u001b[0;34m[\u001b[0m\u001b[0mself\u001b[0m\u001b[0;34m.\u001b[0m\u001b[0mdataset\u001b[0m\u001b[0;34m[\u001b[0m\u001b[0midx\u001b[0m\u001b[0;34m]\u001b[0m \u001b[0;32mfor\u001b[0m \u001b[0midx\u001b[0m \u001b[0;32min\u001b[0m \u001b[0mpossibly_batched_index\u001b[0m\u001b[0;34m]\u001b[0m\u001b[0;34m\u001b[0m\u001b[0;34m\u001b[0m\u001b[0m\n\u001b[0m\u001b[1;32m     45\u001b[0m         \u001b[0;32melse\u001b[0m\u001b[0;34m:\u001b[0m\u001b[0;34m\u001b[0m\u001b[0;34m\u001b[0m\u001b[0m\n\u001b[1;32m     46\u001b[0m             \u001b[0mdata\u001b[0m \u001b[0;34m=\u001b[0m \u001b[0mself\u001b[0m\u001b[0;34m.\u001b[0m\u001b[0mdataset\u001b[0m\u001b[0;34m[\u001b[0m\u001b[0mpossibly_batched_index\u001b[0m\u001b[0;34m]\u001b[0m\u001b[0;34m\u001b[0m\u001b[0;34m\u001b[0m\u001b[0m\n",
      "\u001b[0;32m/scratch/sagar/Projects/combopt/branch-and-bound-ml/acr_bb/fcn_policy.py\u001b[0m in \u001b[0;36m__getitem__\u001b[0;34m(self, index)\u001b[0m\n\u001b[1;32m     42\u001b[0m         \"\"\"\n\u001b[1;32m     43\u001b[0m         \u001b[0;32mwith\u001b[0m \u001b[0mgzip\u001b[0m\u001b[0;34m.\u001b[0m\u001b[0mopen\u001b[0m\u001b[0;34m(\u001b[0m\u001b[0mself\u001b[0m\u001b[0;34m.\u001b[0m\u001b[0msample_files\u001b[0m\u001b[0;34m[\u001b[0m\u001b[0mindex\u001b[0m\u001b[0;34m]\u001b[0m\u001b[0;34m,\u001b[0m \u001b[0;34m'rb'\u001b[0m\u001b[0;34m)\u001b[0m \u001b[0;32mas\u001b[0m \u001b[0mf\u001b[0m\u001b[0;34m:\u001b[0m\u001b[0;34m\u001b[0m\u001b[0;34m\u001b[0m\u001b[0m\n\u001b[0;32m---> 44\u001b[0;31m             \u001b[0msample\u001b[0m \u001b[0;34m=\u001b[0m \u001b[0mpickle\u001b[0m\u001b[0;34m.\u001b[0m\u001b[0mload\u001b[0m\u001b[0;34m(\u001b[0m\u001b[0mf\u001b[0m\u001b[0;34m)\u001b[0m\u001b[0;34m\u001b[0m\u001b[0;34m\u001b[0m\u001b[0m\n\u001b[0m\u001b[1;32m     45\u001b[0m         \u001b[0msample_observation\u001b[0m\u001b[0;34m,\u001b[0m \u001b[0mlabel\u001b[0m\u001b[0;34m,\u001b[0m\u001b[0m_\u001b[0m\u001b[0;34m,\u001b[0m\u001b[0m_\u001b[0m\u001b[0;34m,\u001b[0m\u001b[0m_\u001b[0m \u001b[0;34m=\u001b[0m \u001b[0msample\u001b[0m\u001b[0;34m\u001b[0m\u001b[0;34m\u001b[0m\u001b[0m\n\u001b[1;32m     46\u001b[0m         \u001b[0;31m# out = sample_observation.observation - torch.mean(sample_observation.observation)\u001b[0m\u001b[0;34m\u001b[0m\u001b[0;34m\u001b[0m\u001b[0;34m\u001b[0m\u001b[0m\n",
      "\u001b[0;32m/usr/lib64/python3.6/gzip.py\u001b[0m in \u001b[0;36mread\u001b[0;34m(self, size)\u001b[0m\n\u001b[1;32m    269\u001b[0m         \u001b[0;32mreturn\u001b[0m \u001b[0mlength\u001b[0m\u001b[0;34m\u001b[0m\u001b[0;34m\u001b[0m\u001b[0m\n\u001b[1;32m    270\u001b[0m \u001b[0;34m\u001b[0m\u001b[0m\n\u001b[0;32m--> 271\u001b[0;31m     \u001b[0;32mdef\u001b[0m \u001b[0mread\u001b[0m\u001b[0;34m(\u001b[0m\u001b[0mself\u001b[0m\u001b[0;34m,\u001b[0m \u001b[0msize\u001b[0m\u001b[0;34m=\u001b[0m\u001b[0;34m-\u001b[0m\u001b[0;36m1\u001b[0m\u001b[0;34m)\u001b[0m\u001b[0;34m:\u001b[0m\u001b[0;34m\u001b[0m\u001b[0;34m\u001b[0m\u001b[0m\n\u001b[0m\u001b[1;32m    272\u001b[0m         \u001b[0mself\u001b[0m\u001b[0;34m.\u001b[0m\u001b[0m_check_not_closed\u001b[0m\u001b[0;34m(\u001b[0m\u001b[0;34m)\u001b[0m\u001b[0;34m\u001b[0m\u001b[0;34m\u001b[0m\u001b[0m\n\u001b[1;32m    273\u001b[0m         \u001b[0;32mif\u001b[0m \u001b[0mself\u001b[0m\u001b[0;34m.\u001b[0m\u001b[0mmode\u001b[0m \u001b[0;34m!=\u001b[0m \u001b[0mREAD\u001b[0m\u001b[0;34m:\u001b[0m\u001b[0;34m\u001b[0m\u001b[0;34m\u001b[0m\u001b[0m\n",
      "\u001b[0;31mKeyboardInterrupt\u001b[0m: "
     ]
    }
   ],
   "source": [
    "import torch\n",
    "import torch.nn.functional as F\n",
    "import torch_geometric\n",
    "from fcn_policy import FCNNodeDataset, FCNNodeFakeDataset, FCNBranchingPolicy, FCNNodeSelectionPolicy, FCNNodeSelectionLinearPolicy\n",
    "from tqdm import tqdm\n",
    "from pathlib import Path\n",
    "import torch.nn as nn\n",
    "import matplotlib.pyplot as plt\n",
    "import random\n",
    "import math \n",
    "from torch.utils.data import DataLoader\n",
    "\n",
    "LEARNING_RATE = 0.001\n",
    "NB_EPOCHS = 150\n",
    "PATIENCE = 10\n",
    "EARLY_STOPPING = 20\n",
    "DEVICE = torch.device('cuda' if torch.cuda.is_available() else 'cpu')\n",
    "sig = nn.Sigmoid()\n",
    "\n",
    "def process(policy, data_loader, optimizer=None):\n",
    "    \"\"\"\n",
    "    This function will process a whole epoch of training or validation, depending on whether an optimizer is provided.\n",
    "    \"\"\"\n",
    "    mean_loss = 0\n",
    "    mean_acc = 0\n",
    "\n",
    "    n_samples_processed = 0\n",
    "    targets_list = torch.Tensor([]).to(DEVICE)\n",
    "    preds_list = torch.Tensor([]).to(DEVICE)\n",
    "    with torch.set_grad_enabled(optimizer is not None):\n",
    "        for batch_data in tqdm(data_loader):\n",
    "            batch, target = batch_data\n",
    "#             print(batch[0], batch[1])\n",
    "#             print(target.sum())\n",
    "            batch = batch.to(DEVICE)\n",
    "            target = target.squeeze().to(DEVICE)*1\n",
    "            \n",
    "            out = policy(batch).squeeze()\n",
    "\n",
    "            bce = nn.BCELoss()\n",
    "            \n",
    "            loss = bce(out, target.to(torch.float))\n",
    "            \n",
    "            if optimizer is not None:\n",
    "                optimizer.zero_grad()\n",
    "                loss.backward()\n",
    "                optimizer.step()\n",
    "            predicted_bestindex = (out>0.5)*1\n",
    "            accuracy = sum(predicted_bestindex.reshape(-1) == target)\n",
    "            \n",
    "            targets_list = torch.cat((targets_list, target))\n",
    "            preds_list = torch.cat((preds_list, predicted_bestindex))\n",
    "            \n",
    "            mean_loss += loss.item() * batch.shape[0]\n",
    "            mean_acc += float(accuracy)\n",
    "            n_samples_processed += batch.shape[0]\n",
    "\n",
    "    stacked = torch.stack((targets_list, preds_list), dim=1).to(torch.int)\n",
    "    cmt = torch.zeros(2,2,dtype=torch.int64)\n",
    "    for p in stacked:\n",
    "        tl, pl = p.tolist()\n",
    "        cmt[tl, pl] = cmt[tl, pl] + 1\n",
    "    print(cmt)\n",
    "    precision = cmt[1,1]/(cmt[0,1]+cmt[1,1])\n",
    "    recall = cmt[1,1]/(cmt[1,0]+cmt[1,1])\n",
    "    mean_acc = 2* (precision*recall)/(precision+recall)\n",
    "    print(n_samples_processed)\n",
    "    mean_loss /= n_samples_processed\n",
    "#     mean_acc /= n_samples_processed\n",
    "    return mean_loss, mean_acc\n",
    "\n",
    "\n",
    "def pad_tensor(input_, pad_sizes, pad_value=-1e8):\n",
    "    \"\"\"\n",
    "    This utility function splits a tensor and pads each split to make them all the same size, then stacks them.\n",
    "    \"\"\"\n",
    "    max_pad_size = pad_sizes.max()\n",
    "    output = input_.split(pad_sizes.cpu().numpy().tolist())\n",
    "    output = torch.stack([F.pad(slice_, (0, max_pad_size-slice_.size(0)), 'constant', pad_value)\n",
    "                          for slice_ in output], dim=0)\n",
    "    return output\n",
    "\n",
    "\n",
    "\n",
    "positive_sample_files = [str(path) for path in Path('data/2_fcn_10k_positive_node_samples/').glob('sample_*.pkl')]\n",
    "positive_trains = positive_sample_files[:int(0.8*len(positive_sample_files))]\n",
    "positive_valids = positive_sample_files[int(0.8*len(positive_sample_files)):]\n",
    "\n",
    "# negative_sample_files = ['data/1_fcn_10k_negative_node_samples/sample_'+str(i)+'.pkl' for i in sample_indices]\n",
    "negative_sample_files = [str(path) for path in Path('data/2_fcn_10k_negative_node_samples/').glob('sample_*.pkl')]\n",
    "print(len(negative_sample_files))\n",
    "negative_trains = negative_sample_files[:int(0.8*len(negative_sample_files))]\n",
    "negative_valids = negative_sample_files[int(0.8*len(negative_sample_files)):]\n",
    "\n",
    "random.shuffle(negative_trains)\n",
    "negative_trains = negative_trains[:len(positive_trains)]\n",
    "\n",
    "random.shuffle(negative_valids)\n",
    "negative_valids = negative_valids[:len(positive_valids)]\n",
    "\n",
    "\n",
    "train_files = positive_trains + negative_trains\n",
    "valid_files = positive_valids + negative_valids\n",
    "\n",
    "random.shuffle(train_files)\n",
    "\n",
    "\n",
    "# positive_sample_files1 = [str(path) for path in Path('data/1_fcn_10k_positive_node_samples/').glob('sample_*.pkl')]\n",
    "# # positive_sample_files2 = [str(path) for path in Path('positive_node_samples3/').glob('sample_*.pkl')]\n",
    "# positive_sample_files = positive_sample_files1\n",
    "# random.shuffle(positive_sample_files)\n",
    "# positive_sample_files = positive_sample_files[:100000]\n",
    "# print('files loaded')\n",
    "\n",
    "# sample_indices = random.sample(range(0, 3831121), 100000)\n",
    "# negative_sample_files = ['data/1_fcn_10k_negative_node_samples/sample_'+str(i)+'.pkl' for i in sample_indices]\n",
    "# # negative_sample_files = [str(path) for path in Path('data/10k_negative_node_samples/').glob('sample_*.pkl')]\n",
    "# print(len(negative_sample_files))\n",
    "# imbalance_ratio = len(negative_sample_files)/len(positive_sample_files)\n",
    "\n",
    "# random.shuffle(negative_sample_files)\n",
    "# print(len(positive_sample_files), len(negative_sample_files))\n",
    "# negative_sample_files = negative_sample_files[:len(positive_sample_files)]\n",
    "# sample_files = positive_sample_files + negative_sample_files\n",
    "# random.shuffle(sample_files)\n",
    "\n",
    "# valid_sample_files = [str(path) for path in Path('node_samples/').glob('sample_*.pkl')]\n",
    "# random.shuffle(valid_sample_files)\n",
    "# valid_sample_files = valid_sample_files[:2000]\n",
    "\n",
    "# train_files = sample_files[:int(0.8*len(sample_files))]\n",
    "# valid_files = sample_files[int(0.8*len(sample_files)):]\n",
    "\n",
    "\n",
    "train_data = FCNNodeDataset(train_files)\n",
    "train_loader = DataLoader(train_data, batch_size=128, shuffle=True)\n",
    "valid_data = FCNNodeDataset(valid_files)\n",
    "valid_loader = DataLoader(valid_data, batch_size=128, shuffle=False)\n",
    "\n",
    "policy = FCNNodeSelectionLinearPolicy().to(DEVICE)\n",
    "optimizer = torch.optim.Adam(policy.parameters(), lr=LEARNING_RATE)\n",
    "\n",
    "valids = []\n",
    "trains = []\n",
    "for epoch in range(NB_EPOCHS):\n",
    "    print(f\"Epoch {epoch+1}\")\n",
    "    \n",
    "    train_loss, train_acc = process(policy, train_loader, optimizer)\n",
    "    print(f\"Train loss: {train_loss:0.3f}, accuracy {train_acc:0.3f}\" )\n",
    "    trains.append(train_acc)\n",
    "    \n",
    "    valid_loss, valid_acc = process(policy, valid_loader, None)\n",
    "    print(f\"Valid loss: {valid_loss:0.3f}, accuracy {valid_acc:0.3f}\" )\n",
    "    valids.append(valid_acc)\n",
    "\n",
    "torch.save(policy.state_dict(), 'trained_params_fcn.pkl')"
   ]
  },
  {
   "cell_type": "markdown",
   "id": "689f0b37",
   "metadata": {},
   "source": [
    "# Train svm for node selection classifier"
   ]
  },
  {
   "cell_type": "code",
   "execution_count": 6,
   "id": "817214b7",
   "metadata": {},
   "outputs": [
    {
     "name": "stdout",
     "output_type": "stream",
     "text": [
      "4165808\n"
     ]
    }
   ],
   "source": [
    "import torch\n",
    "import torch.nn.functional as F\n",
    "import torch_geometric\n",
    "from fcn_policy import FCNNodeDataset, FCNNodeFakeDataset, FCNBranchingPolicy, FCNNodeSelectionPolicy, FCNNodeSelectionLinearPolicy\n",
    "from tqdm import tqdm\n",
    "from pathlib import Path\n",
    "import torch.nn as nn\n",
    "import matplotlib.pyplot as plt\n",
    "import random\n",
    "import math \n",
    "from torch.utils.data import DataLoader\n",
    "from sklearn import svm, datasets\n",
    "\n",
    "LEARNING_RATE = 0.001\n",
    "NB_EPOCHS = 150\n",
    "PATIENCE = 10\n",
    "EARLY_STOPPING = 20\n",
    "DEVICE = torch.device('cuda' if torch.cuda.is_available() else 'cpu')\n",
    "\n",
    "\n",
    "positive_sample_files = [str(path) for path in Path('data/1_fcn_10k_positive_node_samples/').glob('sample_*.pkl')]\n",
    "positive_trains = positive_sample_files[:int(0.8*len(positive_sample_files))]\n",
    "positive_valids = positive_sample_files[int(0.8*len(positive_sample_files)):]\n",
    "\n",
    "# negative_sample_files = ['data/1_fcn_10k_negative_node_samples/sample_'+str(i)+'.pkl' for i in sample_indices]\n",
    "negative_sample_files = [str(path) for path in Path('data/1_fcn_10k_negative_node_samples/').glob('sample_*.pkl')]\n",
    "print(len(negative_sample_files))\n",
    "negative_trains = negative_sample_files[:int(0.8*len(negative_sample_files))]\n",
    "negative_valids = negative_sample_files[int(0.8*len(negative_sample_files)):]\n",
    "\n",
    "random.shuffle(negative_trains)\n",
    "negative_trains = negative_trains[:len(positive_trains)]\n",
    "\n",
    "random.shuffle(negative_valids)\n",
    "negative_valids = negative_valids[:len(positive_valids)]\n",
    "\n",
    "\n",
    "train_files = positive_trains + negative_trains\n",
    "valid_files = positive_valids + negative_valids\n",
    "\n",
    "random.shuffle(train_files)\n",
    "random.shuffle(valid_files)\n",
    "\n",
    "\n",
    "train_data = FCNNodeDataset(train_files)\n",
    "train_loader = DataLoader(train_data, batch_size=10000, shuffle=True)\n",
    "train_loader_iter = iter(train_loader)\n",
    "train_set = next(train_loader_iter)\n",
    "\n",
    "valid_data = FCNNodeDataset(valid_files)\n",
    "valid_loader = DataLoader(valid_data, batch_size=1000, shuffle=False)\n",
    "valid_loader_iter = iter(valid_loader)\n",
    "valid_set = next(valid_loader_iter)\n",
    "\n"
   ]
  },
  {
   "cell_type": "code",
   "execution_count": null,
   "id": "e8bfa848",
   "metadata": {},
   "outputs": [
    {
     "name": "stdout",
     "output_type": "stream",
     "text": [
      "training model\n",
      "[LibSVM]"
     ]
    }
   ],
   "source": [
    "print('training model')\n",
    "# model = svm.SVC(kernel='rbf', probability=True, verbose=True, gamma=0.01)\n",
    "model = svm.SVC(kernel='linear', probability=True, verbose=True)\n",
    "clf = model.fit(train_set[0], train_set[1])\n",
    "\n",
    "score_valid = model.score(valid_set[0], valid_set[1])\n",
    "score_train = model.score(train_set[0], train_set[1])\n",
    "print(score_valid, score_train)"
   ]
  },
  {
   "cell_type": "code",
   "execution_count": 10,
   "id": "07a21e4c",
   "metadata": {},
   "outputs": [
    {
     "data": {
      "text/plain": [
       "0.546875"
      ]
     },
     "execution_count": 10,
     "metadata": {},
     "output_type": "execute_result"
    }
   ],
   "source": [
    "score_valid"
   ]
  },
  {
   "cell_type": "code",
   "execution_count": 11,
   "id": "2b3b0fa8",
   "metadata": {},
   "outputs": [
    {
     "data": {
      "text/plain": [
       "0.5959"
      ]
     },
     "execution_count": 11,
     "metadata": {},
     "output_type": "execute_result"
    }
   ],
   "source": [
    "score_train"
   ]
  },
  {
   "cell_type": "code",
   "execution_count": null,
   "id": "9f895608",
   "metadata": {},
   "outputs": [],
   "source": [
    "pred_labels_train = model.predict(train_set[:1000])\n",
    "pred_labels_valid = model.predict(valid_set)\n"
   ]
  },
  {
   "cell_type": "code",
   "execution_count": 8,
   "id": "75887269",
   "metadata": {},
   "outputs": [
    {
     "data": {
      "text/plain": [
       "tensor([False,  True,  True,  ..., False,  True, False])"
      ]
     },
     "execution_count": 8,
     "metadata": {},
     "output_type": "execute_result"
    }
   ],
   "source": [
    "train_set[1]"
   ]
  },
  {
   "cell_type": "code",
   "execution_count": 2,
   "id": "27c380d1",
   "metadata": {},
   "outputs": [
    {
     "data": {
      "text/plain": [
       "Text(0, 0.5, 'F1-score')"
      ]
     },
     "execution_count": 2,
     "metadata": {},
     "output_type": "execute_result"
    },
    {
     "data": {
      "image/png": "[encoded data removed]",
      "text/plain": [
       "<Figure size 432x288 with 1 Axes>"
      ]
     },
     "metadata": {
      "needs_background": "light"
     },
     "output_type": "display_data"
    }
   ],
   "source": [
    "import matplotlib.pyplot as plt\n",
    "\n",
    "plt.plot(trains)\n",
    "plt.plot(valids)\n",
    "plt.legend(['training', 'validation'])\n",
    "plt.xlabel('epochs')\n",
    "plt.ylabel('F1-score')"
   ]
  },
  {
   "cell_type": "code",
   "execution_count": 11,
   "id": "eece6b2a",
   "metadata": {},
   "outputs": [
    {
     "data": {
      "text/plain": [
       "211791"
      ]
     },
     "execution_count": 11,
     "metadata": {},
     "output_type": "execute_result"
    }
   ],
   "source": [
    "len(positive_trains)"
   ]
  },
  {
   "cell_type": "code",
   "execution_count": 12,
   "id": "885c1a8a",
   "metadata": {},
   "outputs": [
    {
     "data": {
      "text/plain": [
       "80000"
      ]
     },
     "execution_count": 12,
     "metadata": {},
     "output_type": "execute_result"
    }
   ],
   "source": []
  },
  {
   "cell_type": "code",
   "execution_count": 3,
   "id": "69d4e08e",
   "metadata": {},
   "outputs": [],
   "source": [
    "import torch\n",
    "import torch.nn.functional as F\n",
    "import torch_geometric\n",
    "from fcn_policy import FCNNodeDataset, FCNBranchingPolicy, FCNNodeSelectionPolicy\n",
    "from tqdm import tqdm\n",
    "from pathlib import Path\n",
    "import torch.nn as nn\n",
    "import matplotlib.pyplot as plt\n",
    "import random\n",
    "import math \n",
    "from torch.utils.data import DataLoader\n",
    "import numpy as np\n",
    "\n",
    "from  acr_bb import Observation, ACRBBenv, DefaultBranchingPolicy, RandomPolicy, LinearObservation\n",
    "from fcn_training import FCNDataset, FCNBranchingPolicy, FCNNodeSelectionPolicy \n",
    "\n",
    "MAX_SAMPLES = 100000\n",
    "\n",
    "N = 8 # antennas\n",
    "M = 4 # users\n",
    "expert_prob = 0.5\n",
    "\n",
    "def instance_generator(M, N):\n",
    "    while 1:\n",
    "        yield np.random.randn(2,N,M)\n",
    "\n",
    "# instances = np.random.randn(MAX_SAMPLES, 2, N, M)\n",
    "instances = instance_generator(M,N)\n",
    "\n",
    "env = ACRBBenv(observation_function=LinearObservation)\n",
    "\n",
    "obs, _,_,_,_  = env.reset(next(instances))\n",
    "\n",
    "obs, _,_,_,_ = env.step(2)\n",
    "\n",
    "\n",
    "# a = obs.observation[24:28] + 1j*obs.observation[28:32]\n",
    "# angle = np.angle(a) \n",
    "# angle[angle<0] += 2*np.pi\n",
    "# lb = obs.observation[24+3*8*4+2:126]\n",
    "# ub = obs.observation[126:130]\n",
    "# if np.random.rand(1)>0.3:\n",
    "#     mid = lb + np.random.rand(4)*(ub-lb)\n",
    "#     r = 1\n",
    "#     comp = np.exp(1j*mid)\n",
    "#     print('here')\n",
    "# else:\n",
    "#     mid = np.random.rand(4)*2*np.pi\n",
    "#     r = 1\n",
    "#     comp = np.exp(1j*mid)\n",
    "# if sum(mid<ub)+sum(mid>lb) == 8:\n",
    "#     label = 1\n",
    "# else:\n",
    "#     label = 0\n",
    "\n",
    "# print(mid)\n",
    "# print(lb)\n",
    "# print(ub)"
   ]
  },
  {
   "cell_type": "code",
   "execution_count": null,
   "id": "197d4910",
   "metadata": {},
   "outputs": [],
   "source": [
    "env.H_complex"
   ]
  },
  {
   "cell_type": "code",
   "execution_count": null,
   "id": "fd5bd28a",
   "metadata": {},
   "outputs": [],
   "source": [
    "obs.observation[24:24+ 32*2]\n"
   ]
  },
  {
   "cell_type": "code",
   "execution_count": 207,
   "id": "fcc28fa7",
   "metadata": {},
   "outputs": [
    {
     "data": {
      "text/plain": [
       "torch.Size([158])"
      ]
     },
     "execution_count": 207,
     "metadata": {},
     "output_type": "execute_result"
    }
   ],
   "source": [
    "import torch\n",
    "\n",
    "torch.cat((torch.tensor(np.real(mid)), torch.tensor(np.imag(mid)), torch.tensor(np.abs(mid)), torch.tensor(obs.observation))).shape"
   ]
  },
  {
   "cell_type": "code",
   "execution_count": 4,
   "id": "5ca36ec2",
   "metadata": {},
   "outputs": [],
   "source": [
    "import numpy as np\n",
    "a = np.random.rand(5,1)"
   ]
  },
  {
   "cell_type": "code",
   "execution_count": 5,
   "id": "7f61e6c9",
   "metadata": {},
   "outputs": [
    {
     "data": {
      "text/plain": [
       "array([0.76917677, 0.74182199, 0.45606417, 0.49266163, 0.1881559 ])"
      ]
     },
     "execution_count": 5,
     "metadata": {},
     "output_type": "execute_result"
    }
   ],
   "source": [
    "a.squeeze()"
   ]
  },
  {
   "cell_type": "code",
   "execution_count": null,
   "id": "15b8c015",
   "metadata": {},
   "outputs": [],
   "source": []
  },
  {
   "cell_type": "code",
   "execution_count": 85,
   "id": "5a659e04",
   "metadata": {},
   "outputs": [],
   "source": [
    "a = np.random.rand(4)*2*np.pi\n",
    "b = np.random.rand(4)*2*np.pi\n",
    "c = np.random.rand(4)*2*np.pi\n",
    "\n"
   ]
  },
  {
   "cell_type": "code",
   "execution_count": 86,
   "id": "0cc1d4f9",
   "metadata": {},
   "outputs": [
    {
     "data": {
      "text/plain": [
       "3"
      ]
     },
     "execution_count": 86,
     "metadata": {},
     "output_type": "execute_result"
    }
   ],
   "source": [
    "sum(c< a)"
   ]
  },
  {
   "cell_type": "code",
   "execution_count": 76,
   "id": "797fb55a",
   "metadata": {},
   "outputs": [
    {
     "data": {
      "text/plain": [
       "array([False, False, False,  True])"
      ]
     },
     "execution_count": 76,
     "metadata": {},
     "output_type": "execute_result"
    }
   ],
   "source": [
    "b<c"
   ]
  },
  {
   "cell_type": "code",
   "execution_count": null,
   "id": "39f8e915",
   "metadata": {},
   "outputs": [],
   "source": []
  },
  {
   "cell_type": "code",
   "execution_count": null,
   "id": "025ab9ef",
   "metadata": {},
   "outputs": [],
   "source": []
  },
  {
   "cell_type": "code",
   "execution_count": null,
   "id": "60488929",
   "metadata": {},
   "outputs": [],
   "source": []
  },
  {
   "cell_type": "code",
   "execution_count": 66,
   "id": "5268b37e",
   "metadata": {},
   "outputs": [
    {
     "data": {
      "text/plain": [
       "array([-1.+1.2246468e-16j, -1.+1.2246468e-16j, -1.+1.2246468e-16j,\n",
       "       -1.+1.2246468e-16j])"
      ]
     },
     "execution_count": 66,
     "metadata": {},
     "output_type": "execute_result"
    }
   ],
   "source": [
    "comp"
   ]
  },
  {
   "cell_type": "code",
   "execution_count": 67,
   "id": "dd8c869a",
   "metadata": {},
   "outputs": [
    {
     "data": {
      "text/plain": [
       "array([0., 0., 0., 0.])"
      ]
     },
     "execution_count": 67,
     "metadata": {},
     "output_type": "execute_result"
    }
   ],
   "source": [
    "lb"
   ]
  },
  {
   "cell_type": "code",
   "execution_count": 68,
   "id": "37277933",
   "metadata": {},
   "outputs": [
    {
     "data": {
      "text/plain": [
       "array([6.28318531, 6.28318531, 6.28318531, 6.28318531])"
      ]
     },
     "execution_count": 68,
     "metadata": {},
     "output_type": "execute_result"
    }
   ],
   "source": [
    "ub"
   ]
  },
  {
   "cell_type": "code",
   "execution_count": 59,
   "id": "7cd3709a",
   "metadata": {},
   "outputs": [],
   "source": [
    "a = 3*np.pi/2 + np.pi/4"
   ]
  },
  {
   "cell_type": "code",
   "execution_count": 60,
   "id": "0bf60a68",
   "metadata": {},
   "outputs": [
    {
     "data": {
      "text/plain": [
       "5.497787143782138"
      ]
     },
     "execution_count": 60,
     "metadata": {},
     "output_type": "execute_result"
    }
   ],
   "source": [
    "a"
   ]
  },
  {
   "cell_type": "code",
   "execution_count": 62,
   "id": "a2481f33",
   "metadata": {},
   "outputs": [],
   "source": [
    "b = 1*np.exp(1j*a)"
   ]
  },
  {
   "cell_type": "code",
   "execution_count": 64,
   "id": "1c2697b6",
   "metadata": {},
   "outputs": [
    {
     "data": {
      "text/plain": [
       "5.497787143782138"
      ]
     },
     "execution_count": 64,
     "metadata": {},
     "output_type": "execute_result"
    }
   ],
   "source": [
    "np.angle(b)+2*np.pi"
   ]
  },
  {
   "cell_type": "code",
   "execution_count": null,
   "id": "ba9e3937",
   "metadata": {},
   "outputs": [],
   "source": []
  },
  {
   "cell_type": "code",
   "execution_count": null,
   "id": "c249e10d",
   "metadata": {},
   "outputs": [],
   "source": []
  },
  {
   "cell_type": "code",
   "execution_count": 53,
   "id": "53537ebc",
   "metadata": {},
   "outputs": [
    {
     "data": {
      "text/plain": [
       "array([ True])"
      ]
     },
     "execution_count": 53,
     "metadata": {},
     "output_type": "execute_result"
    }
   ],
   "source": [
    "np.random.rand(1)> 0.5"
   ]
  },
  {
   "cell_type": "code",
   "execution_count": 28,
   "id": "14221424",
   "metadata": {},
   "outputs": [
    {
     "data": {
      "text/plain": [
       "array([0.14602925, 3.63327729, 1.08245673, 1.55202076])"
      ]
     },
     "execution_count": 28,
     "metadata": {},
     "output_type": "execute_result"
    }
   ],
   "source": [
    "angle"
   ]
  },
  {
   "cell_type": "code",
   "execution_count": 26,
   "id": "4cc6f766",
   "metadata": {},
   "outputs": [
    {
     "data": {
      "text/plain": [
       "array([ 1.90497712+0.28017676j, -2.52041463-1.34981818j,\n",
       "        1.24287801+2.33950317j,  0.02418395+1.28790262j])"
      ]
     },
     "execution_count": 26,
     "metadata": {},
     "output_type": "execute_result"
    }
   ],
   "source": []
  },
  {
   "cell_type": "code",
   "execution_count": 16,
   "id": "ca6524f7",
   "metadata": {},
   "outputs": [
    {
     "data": {
      "text/plain": [
       "<acr_bb.Observation at 0x7f6e097478d0>"
      ]
     },
     "execution_count": 16,
     "metadata": {},
     "output_type": "execute_result"
    }
   ],
   "source": [
    "obs"
   ]
  },
  {
   "cell_type": "code",
   "execution_count": 14,
   "id": "1a5aad03",
   "metadata": {},
   "outputs": [
    {
     "ename": "AttributeError",
     "evalue": "'ACRBBenv' object has no attribute 'observation'",
     "output_type": "error",
     "traceback": [
      "\u001b[0;31m---------------------------------------------------------------------------\u001b[0m",
      "\u001b[0;31mAttributeError\u001b[0m                            Traceback (most recent call last)",
      "\u001b[0;32m<ipython-input-14-f6d3d8ab6b1d>\u001b[0m in \u001b[0;36m<module>\u001b[0;34m\u001b[0m\n\u001b[0;32m----> 1\u001b[0;31m \u001b[0menv\u001b[0m\u001b[0;34m.\u001b[0m\u001b[0mobservation\u001b[0m\u001b[0;34m\u001b[0m\u001b[0;34m\u001b[0m\u001b[0m\n\u001b[0m",
      "\u001b[0;31mAttributeError\u001b[0m: 'ACRBBenv' object has no attribute 'observation'"
     ]
    }
   ],
   "source": [
    "env.observation"
   ]
  },
  {
   "cell_type": "code",
   "execution_count": 12,
   "id": "40d122de",
   "metadata": {},
   "outputs": [
    {
     "data": {
      "text/plain": [
       "<acr_bb.ACRBBenv at 0x7f713c9ba358>"
      ]
     },
     "execution_count": 12,
     "metadata": {},
     "output_type": "execute_result"
    }
   ],
   "source": [
    "env."
   ]
  },
  {
   "cell_type": "code",
   "execution_count": null,
   "id": "5128fa29",
   "metadata": {},
   "outputs": [],
   "source": [
    "policy = FCNNodeSelectionPolicy()\n",
    "\n"
   ]
  },
  {
   "cell_type": "code",
   "execution_count": null,
   "id": "a264b8b9",
   "metadata": {},
   "outputs": [],
   "source": [
    "a = torch.randn(())"
   ]
  },
  {
   "cell_type": "code",
   "execution_count": 4,
   "id": "99a8ed40",
   "metadata": {},
   "outputs": [],
   "source": [
    "a, b = train_data[0]"
   ]
  },
  {
   "cell_type": "code",
   "execution_count": 5,
   "id": "d476fb46",
   "metadata": {},
   "outputs": [
    {
     "data": {
      "text/plain": [
       "torch.Size([146])"
      ]
     },
     "execution_count": 5,
     "metadata": {},
     "output_type": "execute_result"
    }
   ],
   "source": [
    "a.shape"
   ]
  },
  {
   "cell_type": "code",
   "execution_count": 6,
   "id": "89d5c6bc",
   "metadata": {},
   "outputs": [
    {
     "data": {
      "text/plain": [
       "torch.Size([])"
      ]
     },
     "execution_count": 6,
     "metadata": {},
     "output_type": "execute_result"
    }
   ],
   "source": [
    "b.shape"
   ]
  },
  {
   "cell_type": "code",
   "execution_count": 21,
   "id": "b36965fc",
   "metadata": {},
   "outputs": [],
   "source": [
    "import gzip\n",
    "import pickle\n",
    "\n",
    "with gzip.open('fcn_negative_node_samples/sample_10.pkl','rb') as f:\n",
    "    sample = pickle.load(f)"
   ]
  },
  {
   "cell_type": "code",
   "execution_count": 7,
   "id": "f1f80cac",
   "metadata": {},
   "outputs": [
    {
     "data": {
      "text/plain": [
       "3.3041506361597035"
      ]
     },
     "execution_count": 7,
     "metadata": {},
     "output_type": "execute_result"
    }
   ],
   "source": [
    "import numpy as np\n",
    "\n",
    "np.linalg.norm(np.random.randn(5,1),'fro')**2"
   ]
  },
  {
   "cell_type": "code",
   "execution_count": 10,
   "id": "4731fecd",
   "metadata": {},
   "outputs": [
    {
     "data": {
      "text/plain": [
       "array([5.49778714])"
      ]
     },
     "execution_count": 10,
     "metadata": {},
     "output_type": "execute_result"
    }
   ],
   "source": [
    "2*np.pi + np.angle([1-1j])"
   ]
  }
 ],
 "metadata": {
  "interpreter": {
   "hash": "dfe34b9b52c4e45fab7b1847c7129bfa972d8ad3fe0814fefa0caa86633382ec"
  },
  "kernelspec": {
   "display_name": "Python 3",
   "language": "python",
   "name": "python3"
  },
  "language_info": {
   "codemirror_mode": {
    "name": "ipython",
    "version": 3
   },
   "file_extension": ".py",
   "mimetype": "text/x-python",
   "name": "python",
   "nbconvert_exporter": "python",
   "pygments_lexer": "ipython3",
   "version": "3.6.8"
  }
 },
 "nbformat": 4,
 "nbformat_minor": 5
}
