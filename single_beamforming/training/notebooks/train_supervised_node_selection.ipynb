{
 "cells": [
  {
   "cell_type": "code",
   "execution_count": 8,
   "id": "6ee48e5c",
   "metadata": {},
   "outputs": [],
   "source": [
    "import gzip\n",
    "import pickle\n",
    "import numpy as np\n",
    "from pathlib import Path\n",
    "import torch\n",
    "from  acr_bb import Observation, ACRBBenv, DefaultBranchingPolicy, RandomPolicy, LinearObservation\n",
    "from fcn_policy import FCNDataset, FCNBranchingPolicy, FCNNodeSelectionPolicy \n",
    "\n",
    "MAX_SAMPLES = 100000\n",
    "\n",
    "N = 8 # antennas\n",
    "M = 4 # users\n",
    "expert_prob = 0.5\n",
    "\n",
    "def instance_generator(M, N):\n",
    "    while 1:\n",
    "        yield np.random.randn(2,N,M)\n",
    "\n",
    "# instances = np.random.randn(MAX_SAMPLES, 2, N, M)\n",
    "instances = instance_generator(M,N)\n",
    "\n",
    "env = ACRBBenv()\n",
    "\n",
    "expert_policy = DefaultBranchingPolicy()\n",
    "random_policy = RandomPolicy()"
   ]
  },
  {
   "cell_type": "code",
   "execution_count": 9,
   "id": "8b39262e",
   "metadata": {},
   "outputs": [
    {
     "name": "stdout",
     "output_type": "stream",
     "text": [
      "Episode 1, 571 samples collected so far\n",
      "Episode 2, 1210 samples collected so far\n",
      "Episode 3, 1463 samples collected so far\n",
      "Episode 4, 2024 samples collected so far\n",
      "Episode 5, 2385 samples collected so far\n",
      "Episode 6, 2938 samples collected so far\n",
      "Episode 7, 3861 samples collected so far\n",
      "Episode 8, 5330 samples collected so far\n",
      "Episode 9, 6307 samples collected so far\n",
      "Episode 10, 7234 samples collected so far\n",
      "Episode 11, 8493 samples collected so far\n",
      "Episode 12, 11502 samples collected so far\n",
      "Episode 13, 13549 samples collected so far\n",
      "Episode 14, 14962 samples collected so far\n",
      "Episode 15, 16523 samples collected so far\n",
      "Episode 16, 17244 samples collected so far\n",
      "Episode 17, 18419 samples collected so far\n",
      "Episode 18, 18930 samples collected so far\n",
      "Episode 19, 22365 samples collected so far\n",
      "Episode 20, 23004 samples collected so far\n",
      "Episode 21, 23929 samples collected so far\n",
      "Episode 22, 24652 samples collected so far\n",
      "Episode 23, 25699 samples collected so far\n",
      "Episode 24, 27212 samples collected so far\n",
      "Episode 25, 28641 samples collected so far\n",
      "Episode 26, 29598 samples collected so far\n",
      "Episode 27, 30091 samples collected so far\n",
      "Episode 28, 31280 samples collected so far\n",
      "Episode 29, 31435 samples collected so far\n",
      "Episode 30, 31926 samples collected so far\n",
      "Episode 31, 32465 samples collected so far\n",
      "Episode 32, 33668 samples collected so far\n",
      "Episode 33, 34447 samples collected so far\n",
      "Episode 34, 34740 samples collected so far\n",
      "Episode 35, 35701 samples collected so far\n",
      "Episode 36, 36598 samples collected so far\n",
      "Episode 37, 37301 samples collected so far\n",
      "Episode 38, 38238 samples collected so far\n",
      "Episode 39, 38541 samples collected so far\n",
      "Episode 40, 39060 samples collected so far\n",
      "Episode 41, 39757 samples collected so far\n",
      "Episode 42, 43684 samples collected so far\n",
      "Episode 43, 44925 samples collected so far\n",
      "Episode 44, 45388 samples collected so far\n",
      "Episode 45, 46511 samples collected so far\n",
      "Episode 46, 49392 samples collected so far\n",
      "Episode 47, 49859 samples collected so far\n",
      "Episode 48, 50748 samples collected so far\n",
      "Episode 49, 51063 samples collected so far\n",
      "Episode 50, 52614 samples collected so far\n",
      "Episode 51, 53969 samples collected so far\n",
      "Episode 52, 54420 samples collected so far\n",
      "Episode 53, 55275 samples collected so far\n",
      "Episode 54, 55858 samples collected so far\n",
      "Episode 55, 56757 samples collected so far\n",
      "Episode 56, 56934 samples collected so far\n",
      "Episode 57, 57345 samples collected so far\n",
      "Episode 58, 57916 samples collected so far\n",
      "Episode 59, 58725 samples collected so far\n",
      "Episode 60, 59194 samples collected so far\n",
      "Episode 61, 60119 samples collected so far\n",
      "Episode 62, 60672 samples collected so far\n",
      "Episode 63, 61087 samples collected so far\n",
      "Episode 64, 61246 samples collected so far\n",
      "Episode 65, 62103 samples collected so far\n",
      "Episode 66, 63636 samples collected so far\n",
      "Episode 67, 64017 samples collected so far\n",
      "Episode 68, 64246 samples collected so far\n",
      "Episode 69, 64531 samples collected so far\n",
      "Episode 70, 65964 samples collected so far\n",
      "Episode 71, 66503 samples collected so far\n",
      "Episode 72, 67082 samples collected so far\n",
      "Episode 73, 67615 samples collected so far\n",
      "Episode 74, 67884 samples collected so far\n",
      "Episode 75, 69095 samples collected so far\n",
      "Episode 76, 69966 samples collected so far\n",
      "Episode 77, 70763 samples collected so far\n",
      "Episode 78, 71938 samples collected so far\n",
      "Episode 79, 72501 samples collected so far\n",
      "Episode 80, 72864 samples collected so far\n",
      "Episode 81, 75333 samples collected so far\n",
      "Episode 82, 75704 samples collected so far\n",
      "Episode 83, 76703 samples collected so far\n",
      "Episode 84, 77234 samples collected so far\n",
      "Episode 85, 78285 samples collected so far\n",
      "Episode 86, 78798 samples collected so far\n",
      "Episode 87, 79607 samples collected so far\n",
      "Episode 88, 81160 samples collected so far\n",
      "Episode 89, 81765 samples collected so far\n",
      "Episode 90, 82844 samples collected so far\n",
      "Episode 91, 83385 samples collected so far\n",
      "Episode 92, 83984 samples collected so far\n",
      "Episode 93, 85429 samples collected so far\n",
      "Episode 94, 86546 samples collected so far\n",
      "Episode 95, 87101 samples collected so far\n",
      "Episode 96, 87630 samples collected so far\n",
      "Episode 97, 88613 samples collected so far\n",
      "Episode 98, 89276 samples collected so far\n",
      "Episode 99, 90043 samples collected so far\n",
      "Episode 100, 91066 samples collected so far\n",
      "Episode 101, 91739 samples collected so far\n",
      "Episode 102, 92618 samples collected so far\n",
      "Episode 103, 93351 samples collected so far\n",
      "Episode 104, 93802 samples collected so far\n",
      "Episode 105, 94393 samples collected so far\n",
      "Episode 106, 94936 samples collected so far\n",
      "Episode 107, 97499 samples collected so far\n",
      "Episode 108, 98602 samples collected so far\n",
      "Episode 109, 99525 samples collected so far\n",
      "Episode 110, 100000 samples collected so far\n"
     ]
    }
   ],
   "source": [
    "episode_counter, sample_counter = 0, 10000\n",
    "Path('positive_node_samples/').mkdir(exist_ok=True)\n",
    "Path('negative_node_samples/').mkdir(exist_ok=True)\n",
    "\n",
    "# We will solve problems (run episodes) until we have saved enough samples\n",
    "max_samples_reached = False\n",
    "\n",
    "while not max_samples_reached:\n",
    "    episode_counter += 1\n",
    "    \n",
    "    observation_list = []\n",
    "    node_indices = []\n",
    "    observation, action_set, reward, done, _ = env.reset(next(instances))\n",
    "    node_indices.append(env.active_node.node_index)\n",
    "    observation_list.append(observation)\n",
    "    while not done and reward > -5:\n",
    "        if np.random.rand(1) > expert_prob:\n",
    "            action_id = expert_policy.select_variable(observation, action_set)\n",
    "        else:\n",
    "            action_id = random_policy.select_variable(observation, action_set)\n",
    "\n",
    "        observation, action_set, reward, done, _ = env.step(action_id)\n",
    "    \n",
    "    for node in env.all_nodes:\n",
    "        if node.optimal:\n",
    "            for i in range(len(node_indices)):\n",
    "                if node_indices[i] == node.node_index:\n",
    "                    data = [observation_list[i], True]\n",
    "                    break\n",
    "        else:\n",
    "            for i in range(len(node_indices)):\n",
    "                if node_indices[i] == node.node_index:\n",
    "                    data = [observation_list[i], False]\n",
    "                    break\n",
    "            \n",
    "        if not max_samples_reached:\n",
    "            sample_counter += 1\n",
    "            \n",
    "            if node.optimal:\n",
    "                filename = f'positive_node_samples/sample_{sample_counter}.pkl'\n",
    "            else:\n",
    "                filename = f'negative_node_samples/sample_{sample_counter}.pkl'\n",
    "                \n",
    "            with gzip.open(filename, 'wb') as f:\n",
    "                pickle.dump(data, f)\n",
    "            # If we collected enough samples, we finish the current episode but stop saving samples\n",
    "            if sample_counter >= MAX_SAMPLES:\n",
    "                max_samples_reached = True\n",
    "                break;\n",
    "    print(f\"Episode {episode_counter}, {sample_counter} samples collected so far\")\n"
   ]
  },
  {
   "cell_type": "code",
   "execution_count": 1,
   "id": "982bd33d",
   "metadata": {},
   "outputs": [
    {
     "name": "stderr",
     "output_type": "stream",
     "text": [
      "/scratch/sagar/Projects/combopt/venv/lib/python3.6/site-packages/torch_geometric/deprecation.py:13: UserWarning: 'data.DataLoader' is deprecated, use 'loader.DataLoader' instead\n",
      "  warnings.warn(out)\n"
     ]
    },
    {
     "name": "stdout",
     "output_type": "stream",
     "text": [
      "Epoch 1\n"
     ]
    },
    {
     "name": "stderr",
     "output_type": "stream",
     "text": [
      "  6%|▌         | 74/1250 [00:02<00:36, 32.00it/s]\n"
     ]
    },
    {
     "ename": "KeyboardInterrupt",
     "evalue": "",
     "output_type": "error",
     "traceback": [
      "\u001b[0;31m---------------------------------------------------------------------------\u001b[0m",
      "\u001b[0;31mKeyboardInterrupt\u001b[0m                         Traceback (most recent call last)",
      "\u001b[0;32m<ipython-input-1-4b8c30c33493>\u001b[0m in \u001b[0;36m<module>\u001b[0;34m\u001b[0m\n\u001b[1;32m     97\u001b[0m     \u001b[0mprint\u001b[0m\u001b[0;34m(\u001b[0m\u001b[0;34mf\"Epoch {epoch+1}\"\u001b[0m\u001b[0;34m)\u001b[0m\u001b[0;34m\u001b[0m\u001b[0;34m\u001b[0m\u001b[0m\n\u001b[1;32m     98\u001b[0m \u001b[0;34m\u001b[0m\u001b[0m\n\u001b[0;32m---> 99\u001b[0;31m     \u001b[0mtrain_loss\u001b[0m\u001b[0;34m,\u001b[0m \u001b[0mtrain_acc\u001b[0m \u001b[0;34m=\u001b[0m \u001b[0mprocess\u001b[0m\u001b[0;34m(\u001b[0m\u001b[0mpolicy\u001b[0m\u001b[0;34m,\u001b[0m \u001b[0mtrain_loader\u001b[0m\u001b[0;34m,\u001b[0m \u001b[0moptimizer\u001b[0m\u001b[0;34m)\u001b[0m\u001b[0;34m\u001b[0m\u001b[0;34m\u001b[0m\u001b[0m\n\u001b[0m\u001b[1;32m    100\u001b[0m     \u001b[0mprint\u001b[0m\u001b[0;34m(\u001b[0m\u001b[0;34mf\"Train loss: {train_loss:0.3f}, accuracy {train_acc:0.3f}\"\u001b[0m \u001b[0;34m)\u001b[0m\u001b[0;34m\u001b[0m\u001b[0;34m\u001b[0m\u001b[0m\n\u001b[1;32m    101\u001b[0m \u001b[0;34m\u001b[0m\u001b[0m\n",
      "\u001b[0;32m<ipython-input-1-4b8c30c33493>\u001b[0m in \u001b[0;36mprocess\u001b[0;34m(policy, data_loader, optimizer)\u001b[0m\n\u001b[1;32m     44\u001b[0m                 \u001b[0moptimizer\u001b[0m\u001b[0;34m.\u001b[0m\u001b[0mzero_grad\u001b[0m\u001b[0;34m(\u001b[0m\u001b[0;34m)\u001b[0m\u001b[0;34m\u001b[0m\u001b[0;34m\u001b[0m\u001b[0m\n\u001b[1;32m     45\u001b[0m                 \u001b[0mloss\u001b[0m\u001b[0;34m.\u001b[0m\u001b[0mbackward\u001b[0m\u001b[0;34m(\u001b[0m\u001b[0;34m)\u001b[0m\u001b[0;34m\u001b[0m\u001b[0;34m\u001b[0m\u001b[0m\n\u001b[0;32m---> 46\u001b[0;31m                 \u001b[0moptimizer\u001b[0m\u001b[0;34m.\u001b[0m\u001b[0mstep\u001b[0m\u001b[0;34m(\u001b[0m\u001b[0;34m)\u001b[0m\u001b[0;34m\u001b[0m\u001b[0;34m\u001b[0m\u001b[0m\n\u001b[0m\u001b[1;32m     47\u001b[0m \u001b[0;31m#             print('target and wts', target, wts)\u001b[0m\u001b[0;34m\u001b[0m\u001b[0;34m\u001b[0m\u001b[0;34m\u001b[0m\u001b[0m\n\u001b[1;32m     48\u001b[0m             \u001b[0mpredicted_bestindex\u001b[0m \u001b[0;34m=\u001b[0m \u001b[0;34m(\u001b[0m\u001b[0msig\u001b[0m\u001b[0;34m(\u001b[0m\u001b[0mlogits\u001b[0m\u001b[0;34m)\u001b[0m\u001b[0;34m>\u001b[0m\u001b[0;36m0.5\u001b[0m\u001b[0;34m)\u001b[0m\u001b[0;34m*\u001b[0m\u001b[0;36m1\u001b[0m\u001b[0;34m\u001b[0m\u001b[0;34m\u001b[0m\u001b[0m\n",
      "\u001b[0;32m/scratch/sagar/Projects/combopt/venv/lib/python3.6/site-packages/torch/optim/optimizer.py\u001b[0m in \u001b[0;36mwrapper\u001b[0;34m(*args, **kwargs)\u001b[0m\n\u001b[1;32m     87\u001b[0m                 \u001b[0mprofile_name\u001b[0m \u001b[0;34m=\u001b[0m \u001b[0;34m\"Optimizer.step#{}.step\"\u001b[0m\u001b[0;34m.\u001b[0m\u001b[0mformat\u001b[0m\u001b[0;34m(\u001b[0m\u001b[0mobj\u001b[0m\u001b[0;34m.\u001b[0m\u001b[0m__class__\u001b[0m\u001b[0;34m.\u001b[0m\u001b[0m__name__\u001b[0m\u001b[0;34m)\u001b[0m\u001b[0;34m\u001b[0m\u001b[0;34m\u001b[0m\u001b[0m\n\u001b[1;32m     88\u001b[0m                 \u001b[0;32mwith\u001b[0m \u001b[0mtorch\u001b[0m\u001b[0;34m.\u001b[0m\u001b[0mautograd\u001b[0m\u001b[0;34m.\u001b[0m\u001b[0mprofiler\u001b[0m\u001b[0;34m.\u001b[0m\u001b[0mrecord_function\u001b[0m\u001b[0;34m(\u001b[0m\u001b[0mprofile_name\u001b[0m\u001b[0;34m)\u001b[0m\u001b[0;34m:\u001b[0m\u001b[0;34m\u001b[0m\u001b[0;34m\u001b[0m\u001b[0m\n\u001b[0;32m---> 89\u001b[0;31m                     \u001b[0;32mreturn\u001b[0m \u001b[0mfunc\u001b[0m\u001b[0;34m(\u001b[0m\u001b[0;34m*\u001b[0m\u001b[0margs\u001b[0m\u001b[0;34m,\u001b[0m \u001b[0;34m**\u001b[0m\u001b[0mkwargs\u001b[0m\u001b[0;34m)\u001b[0m\u001b[0;34m\u001b[0m\u001b[0;34m\u001b[0m\u001b[0m\n\u001b[0m\u001b[1;32m     90\u001b[0m             \u001b[0;32mreturn\u001b[0m \u001b[0mwrapper\u001b[0m\u001b[0;34m\u001b[0m\u001b[0;34m\u001b[0m\u001b[0m\n\u001b[1;32m     91\u001b[0m \u001b[0;34m\u001b[0m\u001b[0m\n",
      "\u001b[0;32m/scratch/sagar/Projects/combopt/venv/lib/python3.6/site-packages/torch/autograd/grad_mode.py\u001b[0m in \u001b[0;36mdecorate_context\u001b[0;34m(*args, **kwargs)\u001b[0m\n\u001b[1;32m     25\u001b[0m         \u001b[0;32mdef\u001b[0m \u001b[0mdecorate_context\u001b[0m\u001b[0;34m(\u001b[0m\u001b[0;34m*\u001b[0m\u001b[0margs\u001b[0m\u001b[0;34m,\u001b[0m \u001b[0;34m**\u001b[0m\u001b[0mkwargs\u001b[0m\u001b[0;34m)\u001b[0m\u001b[0;34m:\u001b[0m\u001b[0;34m\u001b[0m\u001b[0;34m\u001b[0m\u001b[0m\n\u001b[1;32m     26\u001b[0m             \u001b[0;32mwith\u001b[0m \u001b[0mself\u001b[0m\u001b[0;34m.\u001b[0m\u001b[0m__class__\u001b[0m\u001b[0;34m(\u001b[0m\u001b[0;34m)\u001b[0m\u001b[0;34m:\u001b[0m\u001b[0;34m\u001b[0m\u001b[0;34m\u001b[0m\u001b[0m\n\u001b[0;32m---> 27\u001b[0;31m                 \u001b[0;32mreturn\u001b[0m \u001b[0mfunc\u001b[0m\u001b[0;34m(\u001b[0m\u001b[0;34m*\u001b[0m\u001b[0margs\u001b[0m\u001b[0;34m,\u001b[0m \u001b[0;34m**\u001b[0m\u001b[0mkwargs\u001b[0m\u001b[0;34m)\u001b[0m\u001b[0;34m\u001b[0m\u001b[0;34m\u001b[0m\u001b[0m\n\u001b[0m\u001b[1;32m     28\u001b[0m         \u001b[0;32mreturn\u001b[0m \u001b[0mcast\u001b[0m\u001b[0;34m(\u001b[0m\u001b[0mF\u001b[0m\u001b[0;34m,\u001b[0m \u001b[0mdecorate_context\u001b[0m\u001b[0;34m)\u001b[0m\u001b[0;34m\u001b[0m\u001b[0;34m\u001b[0m\u001b[0m\n\u001b[1;32m     29\u001b[0m \u001b[0;34m\u001b[0m\u001b[0m\n",
      "\u001b[0;32m/scratch/sagar/Projects/combopt/venv/lib/python3.6/site-packages/torch/optim/adam.py\u001b[0m in \u001b[0;36mstep\u001b[0;34m(self, closure)\u001b[0m\n\u001b[1;32m    117\u001b[0m                    \u001b[0mgroup\u001b[0m\u001b[0;34m[\u001b[0m\u001b[0;34m'lr'\u001b[0m\u001b[0;34m]\u001b[0m\u001b[0;34m,\u001b[0m\u001b[0;34m\u001b[0m\u001b[0;34m\u001b[0m\u001b[0m\n\u001b[1;32m    118\u001b[0m                    \u001b[0mgroup\u001b[0m\u001b[0;34m[\u001b[0m\u001b[0;34m'weight_decay'\u001b[0m\u001b[0;34m]\u001b[0m\u001b[0;34m,\u001b[0m\u001b[0;34m\u001b[0m\u001b[0;34m\u001b[0m\u001b[0m\n\u001b[0;32m--> 119\u001b[0;31m                    group['eps'])\n\u001b[0m\u001b[1;32m    120\u001b[0m         \u001b[0;32mreturn\u001b[0m \u001b[0mloss\u001b[0m\u001b[0;34m\u001b[0m\u001b[0;34m\u001b[0m\u001b[0m\n",
      "\u001b[0;32m/scratch/sagar/Projects/combopt/venv/lib/python3.6/site-packages/torch/optim/_functional.py\u001b[0m in \u001b[0;36madam\u001b[0;34m(params, grads, exp_avgs, exp_avg_sqs, max_exp_avg_sqs, state_steps, amsgrad, beta1, beta2, lr, weight_decay, eps)\u001b[0m\n\u001b[1;32m     82\u001b[0m \u001b[0;34m\u001b[0m\u001b[0m\n\u001b[1;32m     83\u001b[0m         \u001b[0;31m# Decay the first and second moment running average coefficient\u001b[0m\u001b[0;34m\u001b[0m\u001b[0;34m\u001b[0m\u001b[0;34m\u001b[0m\u001b[0m\n\u001b[0;32m---> 84\u001b[0;31m         \u001b[0mexp_avg\u001b[0m\u001b[0;34m.\u001b[0m\u001b[0mmul_\u001b[0m\u001b[0;34m(\u001b[0m\u001b[0mbeta1\u001b[0m\u001b[0;34m)\u001b[0m\u001b[0;34m.\u001b[0m\u001b[0madd_\u001b[0m\u001b[0;34m(\u001b[0m\u001b[0mgrad\u001b[0m\u001b[0;34m,\u001b[0m \u001b[0malpha\u001b[0m\u001b[0;34m=\u001b[0m\u001b[0;36m1\u001b[0m \u001b[0;34m-\u001b[0m \u001b[0mbeta1\u001b[0m\u001b[0;34m)\u001b[0m\u001b[0;34m\u001b[0m\u001b[0;34m\u001b[0m\u001b[0m\n\u001b[0m\u001b[1;32m     85\u001b[0m         \u001b[0mexp_avg_sq\u001b[0m\u001b[0;34m.\u001b[0m\u001b[0mmul_\u001b[0m\u001b[0;34m(\u001b[0m\u001b[0mbeta2\u001b[0m\u001b[0;34m)\u001b[0m\u001b[0;34m.\u001b[0m\u001b[0maddcmul_\u001b[0m\u001b[0;34m(\u001b[0m\u001b[0mgrad\u001b[0m\u001b[0;34m,\u001b[0m \u001b[0mgrad\u001b[0m\u001b[0;34m,\u001b[0m \u001b[0mvalue\u001b[0m\u001b[0;34m=\u001b[0m\u001b[0;36m1\u001b[0m \u001b[0;34m-\u001b[0m \u001b[0mbeta2\u001b[0m\u001b[0;34m)\u001b[0m\u001b[0;34m\u001b[0m\u001b[0;34m\u001b[0m\u001b[0m\n\u001b[1;32m     86\u001b[0m         \u001b[0;32mif\u001b[0m \u001b[0mamsgrad\u001b[0m\u001b[0;34m:\u001b[0m\u001b[0;34m\u001b[0m\u001b[0;34m\u001b[0m\u001b[0m\n",
      "\u001b[0;31mKeyboardInterrupt\u001b[0m: "
     ]
    }
   ],
   "source": [
    "import torch\n",
    "import torch.nn.functional as F\n",
    "import torch_geometric\n",
    "from gnn_dataset import BipartiteNodeData, GraphNodeDataset\n",
    "from gnn_policy import GNNPolicy, BipartiteGraphConvolution\n",
    "from tqdm import tqdm\n",
    "from pathlib import Path\n",
    "import torch.nn as nn\n",
    "import matplotlib.pyplot as plt\n",
    "\n",
    "\n",
    "LEARNING_RATE = 0.001\n",
    "NB_EPOCHS = 50\n",
    "PATIENCE = 10\n",
    "EARLY_STOPPING = 20\n",
    "DEVICE = torch.device('cuda' if torch.cuda.is_available() else 'cpu')\n",
    "sig = nn.Sigmoid()\n",
    "\n",
    "def process(policy, data_loader, optimizer=None):\n",
    "    \"\"\"\n",
    "    This function will process a whole epoch of training or validation, depending on whether an optimizer is provided.\n",
    "    \"\"\"\n",
    "    mean_loss = 0\n",
    "    mean_acc = 0\n",
    "\n",
    "    n_samples_processed = 0\n",
    "    targets_list = torch.Tensor([]).to(DEVICE)\n",
    "    preds_list = torch.Tensor([]).to(DEVICE)\n",
    "    with torch.set_grad_enabled(optimizer is not None):\n",
    "        for batch_data in tqdm(data_loader):\n",
    "            batch, target = batch_data\n",
    "            batch = batch.to(DEVICE)\n",
    "            target = target.to(DEVICE)*1\n",
    "#             print(target)\n",
    "            logits = policy(batch.antenna_features, batch.edge_index, batch.edge_attr, batch.variable_features)            \n",
    "            logits = logits.reshape([batch.num_graphs, -1]).sum(dim=1)\n",
    "            wts = target*29\n",
    "            wts = wts+1\n",
    "            bce = nn.BCEWithLogitsLoss(weight=wts)\n",
    "            \n",
    "            loss = bce(logits, target.to(torch.float))\n",
    "            \n",
    "            if optimizer is not None:\n",
    "                optimizer.zero_grad()\n",
    "                loss.backward()\n",
    "                optimizer.step()\n",
    "#             print('target and wts', target, wts)\n",
    "            predicted_bestindex = (sig(logits)>0.5)*1\n",
    "#             print('prediction', predicted_bestindex)\n",
    "            accuracy = sum(predicted_bestindex.reshape(-1) == target)\n",
    "            \n",
    "            targets_list = torch.cat((targets_list, target))\n",
    "            preds_list = torch.cat((preds_list, predicted_bestindex))\n",
    "#             accuracy = (true_scores.gather(-1, predicted_bestindex) == true_bestscore).float().mean().item()\n",
    "\n",
    "            mean_loss += loss.item() * batch.num_graphs\n",
    "            mean_acc += float(accuracy)\n",
    "            n_samples_processed += batch.num_graphs\n",
    "#             if n_samples_processed > 500:\n",
    "#                 break\n",
    "    stacked = torch.stack((targets_list, preds_list), dim=1).to(torch.int)\n",
    "    cmt = torch.zeros(2,2,dtype=torch.int64)\n",
    "    for p in stacked:\n",
    "        tl, pl = p.tolist()\n",
    "        cmt[tl, pl] = cmt[tl, pl] + 1\n",
    "    print(cmt)\n",
    "    mean_loss /= n_samples_processed\n",
    "    mean_acc /= n_samples_processed\n",
    "    return mean_loss, mean_acc\n",
    "\n",
    "\n",
    "def pad_tensor(input_, pad_sizes, pad_value=-1e8):\n",
    "    \"\"\"\n",
    "    This utility function splits a tensor and pads each split to make them all the same size, then stacks them.\n",
    "    \"\"\"\n",
    "    max_pad_size = pad_sizes.max()\n",
    "    output = input_.split(pad_sizes.cpu().numpy().tolist())\n",
    "    output = torch.stack([F.pad(slice_, (0, max_pad_size-slice_.size(0)), 'constant', pad_value)\n",
    "                          for slice_ in output], dim=0)\n",
    "    return output\n",
    "\n",
    "\n",
    "sample_files = [str(path) for path in Path('node_samples/').glob('sample_*.pkl')]\n",
    "train_files = sample_files[:int(0.8*len(sample_files))]\n",
    "valid_files = sample_files[int(0.8*len(sample_files)):]\n",
    "\n",
    "train_data = GraphNodeDataset(train_files)\n",
    "train_loader = torch_geometric.data.DataLoader(train_data, batch_size=64, shuffle=True)\n",
    "valid_data = GraphNodeDataset(valid_files)\n",
    "valid_loader = torch_geometric.data.DataLoader(valid_data, batch_size=64, shuffle=False)\n",
    "\n",
    "policy = GNNPolicy().to(DEVICE)\n",
    "optimizer = torch.optim.Adam(policy.parameters(), lr=LEARNING_RATE)\n",
    "\n",
    "valids = []\n",
    "for epoch in range(NB_EPOCHS):\n",
    "    print(f\"Epoch {epoch+1}\")\n",
    "    \n",
    "    train_loss, train_acc = process(policy, train_loader, optimizer)\n",
    "    print(f\"Train loss: {train_loss:0.3f}, accuracy {train_acc:0.3f}\" )\n",
    "\n",
    "    valid_loss, valid_acc = process(policy, valid_loader, None)\n",
    "    print(f\"Valid loss: {valid_loss:0.3f}, accuracy {valid_acc:0.3f}\" )\n",
    "    valids.append(valid_acc)\n",
    "\n",
    "torch.save(policy.state_dict(), 'trained_params.pkl')"
   ]
  },
  {
   "cell_type": "markdown",
   "id": "c158e92e",
   "metadata": {},
   "source": [
    "# Random Over-Sampling"
   ]
  },
  {
   "cell_type": "code",
   "execution_count": null,
   "id": "48945e83",
   "metadata": {},
   "outputs": [
    {
     "name": "stdout",
     "output_type": "stream",
     "text": [
      "100000 100000\n",
      "Epoch 1\n"
     ]
    },
    {
     "name": "stderr",
     "output_type": "stream",
     "text": [
      "100%|██████████| 2500/2500 [01:04<00:00, 38.83it/s]\n"
     ]
    },
    {
     "name": "stdout",
     "output_type": "stream",
     "text": [
      "tensor([[52121, 27731],\n",
      "        [45263, 34885]])\n",
      "Train loss: 0.687, accuracy 0.489\n"
     ]
    },
    {
     "name": "stderr",
     "output_type": "stream",
     "text": [
      "100%|██████████| 625/625 [00:12<00:00, 49.33it/s]\n"
     ]
    },
    {
     "name": "stdout",
     "output_type": "stream",
     "text": [
      "tensor([[12466,  7682],\n",
      "        [10498,  9354]])\n",
      "Valid loss: 0.684, accuracy 0.507\n",
      "Epoch 2\n"
     ]
    },
    {
     "name": "stderr",
     "output_type": "stream",
     "text": [
      "100%|██████████| 2500/2500 [01:03<00:00, 39.33it/s]\n"
     ]
    },
    {
     "name": "stdout",
     "output_type": "stream",
     "text": [
      "tensor([[52712, 27140],\n",
      "        [44051, 36097]])\n",
      "Train loss: 0.683, accuracy 0.503\n"
     ]
    },
    {
     "name": "stderr",
     "output_type": "stream",
     "text": [
      "100%|██████████| 625/625 [00:12<00:00, 49.69it/s]\n"
     ]
    },
    {
     "name": "stdout",
     "output_type": "stream",
     "text": [
      "tensor([[10226,  9922],\n",
      "        [ 7430, 12422]])\n",
      "Valid loss: 0.683, accuracy 0.589\n",
      "Epoch 3\n"
     ]
    },
    {
     "name": "stderr",
     "output_type": "stream",
     "text": [
      "100%|██████████| 2500/2500 [01:05<00:00, 38.26it/s]\n"
     ]
    },
    {
     "name": "stdout",
     "output_type": "stream",
     "text": [
      "tensor([[51998, 27854],\n",
      "        [40985, 39163]])\n",
      "Train loss: 0.681, accuracy 0.532\n"
     ]
    },
    {
     "name": "stderr",
     "output_type": "stream",
     "text": [
      "100%|██████████| 625/625 [00:12<00:00, 49.10it/s]\n"
     ]
    },
    {
     "name": "stdout",
     "output_type": "stream",
     "text": [
      "tensor([[10218,  9930],\n",
      "        [ 7233, 12619]])\n",
      "Valid loss: 0.681, accuracy 0.595\n",
      "Epoch 4\n"
     ]
    },
    {
     "name": "stderr",
     "output_type": "stream",
     "text": [
      "100%|██████████| 2500/2500 [01:08<00:00, 36.32it/s]\n"
     ]
    },
    {
     "name": "stdout",
     "output_type": "stream",
     "text": [
      "tensor([[50849, 29003],\n",
      "        [39594, 40554]])\n",
      "Train loss: 0.679, accuracy 0.542\n"
     ]
    },
    {
     "name": "stderr",
     "output_type": "stream",
     "text": [
      "100%|██████████| 625/625 [00:13<00:00, 44.85it/s]\n"
     ]
    },
    {
     "name": "stdout",
     "output_type": "stream",
     "text": [
      "tensor([[15551,  4597],\n",
      "        [12614,  7238]])\n",
      "Valid loss: 0.680, accuracy 0.457\n",
      "Epoch 5\n"
     ]
    },
    {
     "name": "stderr",
     "output_type": "stream",
     "text": [
      "100%|██████████| 2500/2500 [01:08<00:00, 36.49it/s]\n"
     ]
    },
    {
     "name": "stdout",
     "output_type": "stream",
     "text": [
      "tensor([[50014, 29838],\n",
      "        [38517, 41631]])\n",
      "Train loss: 0.678, accuracy 0.549\n"
     ]
    },
    {
     "name": "stderr",
     "output_type": "stream",
     "text": [
      "100%|██████████| 625/625 [00:12<00:00, 48.28it/s]\n"
     ]
    },
    {
     "name": "stdout",
     "output_type": "stream",
     "text": [
      "tensor([[12247,  7901],\n",
      "        [ 8982, 10870]])\n",
      "Valid loss: 0.676, accuracy 0.563\n",
      "Epoch 6\n"
     ]
    },
    {
     "name": "stderr",
     "output_type": "stream",
     "text": [
      "100%|██████████| 2500/2500 [01:04<00:00, 38.97it/s]\n"
     ]
    },
    {
     "name": "stdout",
     "output_type": "stream",
     "text": [
      "tensor([[49524, 30328],\n",
      "        [37789, 42359]])\n",
      "Train loss: 0.676, accuracy 0.554\n"
     ]
    },
    {
     "name": "stderr",
     "output_type": "stream",
     "text": [
      "100%|██████████| 625/625 [00:14<00:00, 43.00it/s]\n"
     ]
    },
    {
     "name": "stdout",
     "output_type": "stream",
     "text": [
      "tensor([[15080,  5068],\n",
      "        [12076,  7776]])\n",
      "Valid loss: 0.677, accuracy 0.476\n",
      "Epoch 7\n"
     ]
    },
    {
     "name": "stderr",
     "output_type": "stream",
     "text": [
      "100%|██████████| 2500/2500 [01:16<00:00, 32.71it/s]\n"
     ]
    },
    {
     "name": "stdout",
     "output_type": "stream",
     "text": [
      "tensor([[49893, 29959],\n",
      "        [37633, 42515]])\n",
      "Train loss: 0.675, accuracy 0.557\n"
     ]
    },
    {
     "name": "stderr",
     "output_type": "stream",
     "text": [
      "100%|██████████| 625/625 [00:14<00:00, 42.49it/s]\n"
     ]
    },
    {
     "name": "stdout",
     "output_type": "stream",
     "text": [
      "tensor([[ 7820, 12328],\n",
      "        [ 5217, 14635]])\n",
      "Valid loss: 0.681, accuracy 0.625\n",
      "Epoch 8\n"
     ]
    },
    {
     "name": "stderr",
     "output_type": "stream",
     "text": [
      "100%|██████████| 2500/2500 [01:08<00:00, 36.41it/s]\n"
     ]
    },
    {
     "name": "stdout",
     "output_type": "stream",
     "text": [
      "tensor([[49774, 30078],\n",
      "        [37421, 42727]])\n",
      "Train loss: 0.673, accuracy 0.559\n"
     ]
    },
    {
     "name": "stderr",
     "output_type": "stream",
     "text": [
      "100%|██████████| 625/625 [00:12<00:00, 49.46it/s]\n"
     ]
    },
    {
     "name": "stdout",
     "output_type": "stream",
     "text": [
      "tensor([[11068,  9080],\n",
      "        [ 7762, 12090]])\n",
      "Valid loss: 0.673, accuracy 0.589\n",
      "Epoch 9\n"
     ]
    },
    {
     "name": "stderr",
     "output_type": "stream",
     "text": [
      "100%|██████████| 2500/2500 [01:04<00:00, 38.89it/s]\n"
     ]
    },
    {
     "name": "stdout",
     "output_type": "stream",
     "text": [
      "tensor([[49987, 29865],\n",
      "        [37266, 42882]])\n",
      "Train loss: 0.672, accuracy 0.561\n"
     ]
    },
    {
     "name": "stderr",
     "output_type": "stream",
     "text": [
      "100%|██████████| 625/625 [00:12<00:00, 49.80it/s]\n"
     ]
    },
    {
     "name": "stdout",
     "output_type": "stream",
     "text": [
      "tensor([[10597,  9551],\n",
      "        [ 7219, 12633]])\n",
      "Valid loss: 0.672, accuracy 0.601\n",
      "Epoch 10\n"
     ]
    },
    {
     "name": "stderr",
     "output_type": "stream",
     "text": [
      "100%|██████████| 2500/2500 [01:04<00:00, 38.97it/s]\n"
     ]
    },
    {
     "name": "stdout",
     "output_type": "stream",
     "text": [
      "tensor([[50361, 29491],\n",
      "        [37168, 42980]])\n",
      "Train loss: 0.670, accuracy 0.563\n"
     ]
    },
    {
     "name": "stderr",
     "output_type": "stream",
     "text": [
      "100%|██████████| 625/625 [00:12<00:00, 49.04it/s]\n"
     ]
    },
    {
     "name": "stdout",
     "output_type": "stream",
     "text": [
      "tensor([[12611,  7537],\n",
      "        [ 9191, 10661]])\n",
      "Valid loss: 0.672, accuracy 0.560\n",
      "Epoch 11\n"
     ]
    },
    {
     "name": "stderr",
     "output_type": "stream",
     "text": [
      "100%|██████████| 2500/2500 [01:04<00:00, 38.81it/s]\n"
     ]
    },
    {
     "name": "stdout",
     "output_type": "stream",
     "text": [
      "tensor([[50375, 29477],\n",
      "        [36492, 43656]])\n",
      "Train loss: 0.669, accuracy 0.570\n"
     ]
    },
    {
     "name": "stderr",
     "output_type": "stream",
     "text": [
      "100%|██████████| 625/625 [00:12<00:00, 49.12it/s]\n"
     ]
    },
    {
     "name": "stdout",
     "output_type": "stream",
     "text": [
      "tensor([[13986,  6162],\n",
      "        [10110,  9742]])\n",
      "Valid loss: 0.666, accuracy 0.545\n",
      "Epoch 12\n"
     ]
    },
    {
     "name": "stderr",
     "output_type": "stream",
     "text": [
      "100%|██████████| 2500/2500 [01:04<00:00, 38.60it/s]\n"
     ]
    },
    {
     "name": "stdout",
     "output_type": "stream",
     "text": [
      "tensor([[49845, 30007],\n",
      "        [35509, 44639]])\n",
      "Train loss: 0.667, accuracy 0.577\n"
     ]
    },
    {
     "name": "stderr",
     "output_type": "stream",
     "text": [
      "100%|██████████| 625/625 [00:12<00:00, 49.77it/s]\n"
     ]
    },
    {
     "name": "stdout",
     "output_type": "stream",
     "text": [
      "tensor([[10928,  9220],\n",
      "        [ 7123, 12729]])\n",
      "Valid loss: 0.666, accuracy 0.609\n",
      "Epoch 13\n"
     ]
    },
    {
     "name": "stderr",
     "output_type": "stream",
     "text": [
      "100%|██████████| 2500/2500 [01:03<00:00, 39.68it/s]\n"
     ]
    },
    {
     "name": "stdout",
     "output_type": "stream",
     "text": [
      "tensor([[49233, 30619],\n",
      "        [34453, 45695]])\n",
      "Train loss: 0.666, accuracy 0.584\n"
     ]
    },
    {
     "name": "stderr",
     "output_type": "stream",
     "text": [
      "100%|██████████| 625/625 [00:12<00:00, 49.15it/s]\n"
     ]
    },
    {
     "name": "stdout",
     "output_type": "stream",
     "text": [
      "tensor([[12273,  7875],\n",
      "        [ 8159, 11693]])\n",
      "Valid loss: 0.665, accuracy 0.593\n",
      "Epoch 14\n"
     ]
    },
    {
     "name": "stderr",
     "output_type": "stream",
     "text": [
      "100%|██████████| 2500/2500 [01:04<00:00, 38.89it/s]\n"
     ]
    },
    {
     "name": "stdout",
     "output_type": "stream",
     "text": [
      "tensor([[49433, 30419],\n",
      "        [33991, 46157]])\n",
      "Train loss: 0.663, accuracy 0.589\n"
     ]
    },
    {
     "name": "stderr",
     "output_type": "stream",
     "text": [
      "100%|██████████| 625/625 [00:12<00:00, 49.25it/s]\n"
     ]
    },
    {
     "name": "stdout",
     "output_type": "stream",
     "text": [
      "tensor([[12568,  7580],\n",
      "        [ 9053, 10799]])\n",
      "Valid loss: 0.668, accuracy 0.565\n",
      "Epoch 15\n"
     ]
    },
    {
     "name": "stderr",
     "output_type": "stream",
     "text": [
      "100%|██████████| 2500/2500 [01:04<00:00, 38.63it/s]\n"
     ]
    },
    {
     "name": "stdout",
     "output_type": "stream",
     "text": [
      "tensor([[49119, 30733],\n",
      "        [34018, 46130]])\n",
      "Train loss: 0.664, accuracy 0.588\n"
     ]
    },
    {
     "name": "stderr",
     "output_type": "stream",
     "text": [
      "100%|██████████| 625/625 [00:12<00:00, 49.08it/s]\n"
     ]
    },
    {
     "name": "stdout",
     "output_type": "stream",
     "text": [
      "tensor([[13140,  7008],\n",
      "        [ 9975,  9877]])\n",
      "Valid loss: 0.677, accuracy 0.538\n",
      "Epoch 16\n"
     ]
    },
    {
     "name": "stderr",
     "output_type": "stream",
     "text": [
      "100%|██████████| 2500/2500 [01:04<00:00, 38.52it/s]\n"
     ]
    },
    {
     "name": "stdout",
     "output_type": "stream",
     "text": [
      "tensor([[49553, 30299],\n",
      "        [34447, 45701]])\n",
      "Train loss: 0.664, accuracy 0.585\n"
     ]
    },
    {
     "name": "stderr",
     "output_type": "stream",
     "text": [
      "100%|██████████| 625/625 [00:12<00:00, 49.10it/s]\n"
     ]
    },
    {
     "name": "stdout",
     "output_type": "stream",
     "text": [
      "tensor([[12050,  8098],\n",
      "        [ 7746, 12106]])\n",
      "Valid loss: 0.661, accuracy 0.604\n",
      "Epoch 17\n"
     ]
    },
    {
     "name": "stderr",
     "output_type": "stream",
     "text": [
      "100%|██████████| 2500/2500 [01:03<00:00, 39.25it/s]\n"
     ]
    },
    {
     "name": "stdout",
     "output_type": "stream",
     "text": [
      "tensor([[49166, 30686],\n",
      "        [33105, 47043]])\n",
      "Train loss: 0.660, accuracy 0.596\n"
     ]
    },
    {
     "name": "stderr",
     "output_type": "stream",
     "text": [
      "100%|██████████| 625/625 [00:12<00:00, 48.45it/s]\n"
     ]
    },
    {
     "name": "stdout",
     "output_type": "stream",
     "text": [
      "tensor([[13088,  7060],\n",
      "        [ 8930, 10922]])\n",
      "Valid loss: 0.660, accuracy 0.577\n",
      "Epoch 18\n"
     ]
    },
    {
     "name": "stderr",
     "output_type": "stream",
     "text": [
      "100%|██████████| 2500/2500 [01:05<00:00, 38.35it/s]\n"
     ]
    },
    {
     "name": "stdout",
     "output_type": "stream",
     "text": [
      "tensor([[49476, 30376],\n",
      "        [33335, 46813]])\n",
      "Train loss: 0.660, accuracy 0.595\n"
     ]
    },
    {
     "name": "stderr",
     "output_type": "stream",
     "text": [
      "100%|██████████| 625/625 [00:12<00:00, 48.31it/s]\n"
     ]
    },
    {
     "name": "stdout",
     "output_type": "stream",
     "text": [
      "tensor([[11155,  8993],\n",
      "        [ 6912, 12940]])\n",
      "Valid loss: 0.659, accuracy 0.619\n",
      "Epoch 19\n"
     ]
    },
    {
     "name": "stderr",
     "output_type": "stream",
     "text": [
      "100%|██████████| 2500/2500 [01:05<00:00, 38.26it/s]\n"
     ]
    },
    {
     "name": "stdout",
     "output_type": "stream",
     "text": [
      "tensor([[48920, 30932],\n",
      "        [32335, 47813]])\n",
      "Train loss: 0.659, accuracy 0.602\n"
     ]
    },
    {
     "name": "stderr",
     "output_type": "stream",
     "text": [
      "100%|██████████| 625/625 [00:12<00:00, 48.67it/s]\n"
     ]
    },
    {
     "name": "stdout",
     "output_type": "stream",
     "text": [
      "tensor([[14608,  5540],\n",
      "        [10622,  9230]])\n",
      "Valid loss: 0.664, accuracy 0.533\n",
      "Epoch 20\n"
     ]
    },
    {
     "name": "stderr",
     "output_type": "stream",
     "text": [
      "100%|██████████| 2500/2500 [01:06<00:00, 37.59it/s]\n"
     ]
    },
    {
     "name": "stdout",
     "output_type": "stream",
     "text": [
      "tensor([[48528, 31324],\n",
      "        [31838, 48310]])\n",
      "Train loss: 0.658, accuracy 0.605\n"
     ]
    },
    {
     "name": "stderr",
     "output_type": "stream",
     "text": [
      "100%|██████████| 625/625 [00:12<00:00, 49.00it/s]\n"
     ]
    },
    {
     "name": "stdout",
     "output_type": "stream",
     "text": [
      "tensor([[14003,  6145],\n",
      "        [10185,  9667]])\n",
      "Valid loss: 0.669, accuracy 0.542\n",
      "Epoch 21\n"
     ]
    },
    {
     "name": "stderr",
     "output_type": "stream",
     "text": [
      "100%|██████████| 2500/2500 [01:06<00:00, 37.48it/s]\n"
     ]
    },
    {
     "name": "stdout",
     "output_type": "stream",
     "text": [
      "tensor([[48672, 31180],\n",
      "        [31728, 48420]])\n",
      "Train loss: 0.657, accuracy 0.606\n"
     ]
    },
    {
     "name": "stderr",
     "output_type": "stream",
     "text": [
      "100%|██████████| 625/625 [00:12<00:00, 48.72it/s]\n"
     ]
    },
    {
     "name": "stdout",
     "output_type": "stream",
     "text": [
      "tensor([[12572,  7576],\n",
      "        [ 8202, 11650]])\n",
      "Valid loss: 0.657, accuracy 0.596\n",
      "Epoch 22\n"
     ]
    },
    {
     "name": "stderr",
     "output_type": "stream",
     "text": [
      "100%|██████████| 2500/2500 [01:05<00:00, 38.18it/s]\n"
     ]
    },
    {
     "name": "stdout",
     "output_type": "stream",
     "text": [
      "tensor([[48480, 31372],\n",
      "        [31541, 48607]])\n",
      "Train loss: 0.656, accuracy 0.607\n"
     ]
    },
    {
     "name": "stderr",
     "output_type": "stream",
     "text": [
      "100%|██████████| 625/625 [00:12<00:00, 49.36it/s]\n"
     ]
    },
    {
     "name": "stdout",
     "output_type": "stream",
     "text": [
      "tensor([[10189,  9959],\n",
      "        [ 5979, 13873]])\n",
      "Valid loss: 0.662, accuracy 0.635\n",
      "Epoch 23\n"
     ]
    },
    {
     "name": "stderr",
     "output_type": "stream",
     "text": [
      "100%|██████████| 2500/2500 [01:06<00:00, 37.67it/s]\n"
     ]
    },
    {
     "name": "stdout",
     "output_type": "stream",
     "text": [
      "tensor([[48558, 31294],\n",
      "        [31277, 48871]])\n",
      "Train loss: 0.655, accuracy 0.610\n"
     ]
    },
    {
     "name": "stderr",
     "output_type": "stream",
     "text": [
      "100%|██████████| 625/625 [00:13<00:00, 46.88it/s]\n"
     ]
    },
    {
     "name": "stdout",
     "output_type": "stream",
     "text": [
      "tensor([[13063,  7085],\n",
      "        [ 8679, 11173]])\n",
      "Valid loss: 0.657, accuracy 0.586\n",
      "Epoch 24\n"
     ]
    },
    {
     "name": "stderr",
     "output_type": "stream",
     "text": [
      "100%|██████████| 2500/2500 [01:05<00:00, 38.42it/s]\n"
     ]
    },
    {
     "name": "stdout",
     "output_type": "stream",
     "text": [
      "tensor([[48607, 31245],\n",
      "        [31180, 48968]])\n",
      "Train loss: 0.655, accuracy 0.611\n"
     ]
    },
    {
     "name": "stderr",
     "output_type": "stream",
     "text": [
      "100%|██████████| 625/625 [00:12<00:00, 48.69it/s]\n"
     ]
    },
    {
     "name": "stdout",
     "output_type": "stream",
     "text": [
      "tensor([[11498,  8650],\n",
      "        [ 6988, 12864]])\n",
      "Valid loss: 0.657, accuracy 0.622\n",
      "Epoch 25\n"
     ]
    },
    {
     "name": "stderr",
     "output_type": "stream",
     "text": [
      "100%|██████████| 2500/2500 [01:10<00:00, 35.22it/s]\n"
     ]
    },
    {
     "name": "stdout",
     "output_type": "stream",
     "text": [
      "tensor([[48589, 31263],\n",
      "        [30841, 49307]])\n",
      "Train loss: 0.654, accuracy 0.614\n"
     ]
    },
    {
     "name": "stderr",
     "output_type": "stream",
     "text": [
      "100%|██████████| 625/625 [00:12<00:00, 50.44it/s]\n"
     ]
    },
    {
     "name": "stdout",
     "output_type": "stream",
     "text": [
      "tensor([[13510,  6638],\n",
      "        [ 9315, 10537]])\n",
      "Valid loss: 0.657, accuracy 0.569\n",
      "Epoch 26\n"
     ]
    },
    {
     "name": "stderr",
     "output_type": "stream",
     "text": [
      "100%|██████████| 2500/2500 [01:06<00:00, 37.44it/s]\n"
     ]
    },
    {
     "name": "stdout",
     "output_type": "stream",
     "text": [
      "tensor([[48756, 31096],\n",
      "        [31070, 49078]])\n",
      "Train loss: 0.654, accuracy 0.612\n"
     ]
    },
    {
     "name": "stderr",
     "output_type": "stream",
     "text": [
      "100%|██████████| 625/625 [00:13<00:00, 47.89it/s]\n"
     ]
    },
    {
     "name": "stdout",
     "output_type": "stream",
     "text": [
      "tensor([[12480,  7668],\n",
      "        [ 8035, 11817]])\n",
      "Valid loss: 0.657, accuracy 0.601\n",
      "Epoch 27\n"
     ]
    },
    {
     "name": "stderr",
     "output_type": "stream",
     "text": [
      "100%|██████████| 2500/2500 [01:05<00:00, 38.39it/s]\n"
     ]
    },
    {
     "name": "stdout",
     "output_type": "stream",
     "text": [
      "tensor([[48667, 31185],\n",
      "        [30802, 49346]])\n",
      "Train loss: 0.654, accuracy 0.614\n"
     ]
    },
    {
     "name": "stderr",
     "output_type": "stream",
     "text": [
      "100%|██████████| 625/625 [00:12<00:00, 48.50it/s]\n"
     ]
    },
    {
     "name": "stdout",
     "output_type": "stream",
     "text": [
      "tensor([[13092,  7056],\n",
      "        [ 8472, 11380]])\n",
      "Valid loss: 0.653, accuracy 0.594\n",
      "Epoch 28\n"
     ]
    },
    {
     "name": "stderr",
     "output_type": "stream",
     "text": [
      "100%|██████████| 2500/2500 [01:05<00:00, 38.04it/s]\n"
     ]
    },
    {
     "name": "stdout",
     "output_type": "stream",
     "text": [
      "tensor([[48555, 31297],\n",
      "        [30594, 49554]])\n",
      "Train loss: 0.653, accuracy 0.616\n"
     ]
    },
    {
     "name": "stderr",
     "output_type": "stream",
     "text": [
      "100%|██████████| 625/625 [00:12<00:00, 48.81it/s]\n"
     ]
    },
    {
     "name": "stdout",
     "output_type": "stream",
     "text": [
      "tensor([[12490,  7658],\n",
      "        [ 7871, 11981]])\n",
      "Valid loss: 0.654, accuracy 0.607\n",
      "Epoch 29\n"
     ]
    },
    {
     "name": "stderr",
     "output_type": "stream",
     "text": [
      "100%|██████████| 2500/2500 [01:09<00:00, 36.03it/s]\n"
     ]
    },
    {
     "name": "stdout",
     "output_type": "stream",
     "text": [
      "tensor([[48474, 31378],\n",
      "        [30567, 49581]])\n",
      "Train loss: 0.653, accuracy 0.616\n"
     ]
    },
    {
     "name": "stderr",
     "output_type": "stream",
     "text": [
      "100%|██████████| 625/625 [00:12<00:00, 49.14it/s]\n"
     ]
    },
    {
     "name": "stdout",
     "output_type": "stream",
     "text": [
      "tensor([[11796,  8352],\n",
      "        [ 7127, 12725]])\n",
      "Valid loss: 0.654, accuracy 0.622\n",
      "Epoch 30\n"
     ]
    },
    {
     "name": "stderr",
     "output_type": "stream",
     "text": [
      "100%|██████████| 2500/2500 [01:05<00:00, 38.40it/s]\n"
     ]
    },
    {
     "name": "stdout",
     "output_type": "stream",
     "text": [
      "tensor([[48590, 31262],\n",
      "        [30547, 49601]])\n",
      "Train loss: 0.653, accuracy 0.616\n"
     ]
    },
    {
     "name": "stderr",
     "output_type": "stream",
     "text": [
      "100%|██████████| 625/625 [00:12<00:00, 48.39it/s]\n"
     ]
    },
    {
     "name": "stdout",
     "output_type": "stream",
     "text": [
      "tensor([[11072,  9076],\n",
      "        [ 6566, 13286]])\n",
      "Valid loss: 0.656, accuracy 0.629\n",
      "Epoch 31\n"
     ]
    },
    {
     "name": "stderr",
     "output_type": "stream",
     "text": [
      "100%|██████████| 2500/2500 [01:05<00:00, 38.32it/s]\n"
     ]
    },
    {
     "name": "stdout",
     "output_type": "stream",
     "text": [
      "tensor([[48829, 31023],\n",
      "        [30672, 49476]])\n",
      "Train loss: 0.652, accuracy 0.616\n"
     ]
    },
    {
     "name": "stderr",
     "output_type": "stream",
     "text": [
      "100%|██████████| 625/625 [00:12<00:00, 49.30it/s]\n"
     ]
    },
    {
     "name": "stdout",
     "output_type": "stream",
     "text": [
      "tensor([[10993,  9155],\n",
      "        [ 6365, 13487]])\n",
      "Valid loss: 0.654, accuracy 0.635\n",
      "Epoch 32\n"
     ]
    },
    {
     "name": "stderr",
     "output_type": "stream",
     "text": [
      "100%|██████████| 2500/2500 [01:05<00:00, 38.07it/s]\n"
     ]
    },
    {
     "name": "stdout",
     "output_type": "stream",
     "text": [
      "tensor([[48728, 31124],\n",
      "        [30527, 49621]])\n",
      "Train loss: 0.652, accuracy 0.617\n"
     ]
    },
    {
     "name": "stderr",
     "output_type": "stream",
     "text": [
      "100%|██████████| 625/625 [00:12<00:00, 48.87it/s]\n"
     ]
    },
    {
     "name": "stdout",
     "output_type": "stream",
     "text": [
      "tensor([[11416,  8732],\n",
      "        [ 7041, 12811]])\n",
      "Valid loss: 0.655, accuracy 0.619\n",
      "Epoch 33\n"
     ]
    },
    {
     "name": "stderr",
     "output_type": "stream",
     "text": [
      "100%|██████████| 2500/2500 [01:06<00:00, 37.41it/s]\n"
     ]
    },
    {
     "name": "stdout",
     "output_type": "stream",
     "text": [
      "tensor([[48788, 31064],\n",
      "        [30594, 49554]])\n",
      "Train loss: 0.652, accuracy 0.616\n"
     ]
    },
    {
     "name": "stderr",
     "output_type": "stream",
     "text": [
      "100%|██████████| 625/625 [00:12<00:00, 49.02it/s]\n"
     ]
    },
    {
     "name": "stdout",
     "output_type": "stream",
     "text": [
      "tensor([[13446,  6702],\n",
      "        [ 8972, 10880]])\n",
      "Valid loss: 0.654, accuracy 0.581\n",
      "Epoch 34\n"
     ]
    },
    {
     "name": "stderr",
     "output_type": "stream",
     "text": [
      "100%|██████████| 2500/2500 [01:04<00:00, 38.78it/s]\n"
     ]
    },
    {
     "name": "stdout",
     "output_type": "stream",
     "text": [
      "tensor([[48567, 31285],\n",
      "        [30418, 49730]])\n",
      "Train loss: 0.652, accuracy 0.617\n"
     ]
    },
    {
     "name": "stderr",
     "output_type": "stream",
     "text": [
      "100%|██████████| 625/625 [00:12<00:00, 49.63it/s]\n"
     ]
    },
    {
     "name": "stdout",
     "output_type": "stream",
     "text": [
      "tensor([[11921,  8227],\n",
      "        [ 7401, 12451]])\n",
      "Valid loss: 0.653, accuracy 0.614\n",
      "Epoch 35\n"
     ]
    },
    {
     "name": "stderr",
     "output_type": "stream",
     "text": [
      "100%|██████████| 2500/2500 [01:04<00:00, 38.84it/s]\n"
     ]
    },
    {
     "name": "stdout",
     "output_type": "stream",
     "text": [
      "tensor([[48569, 31283],\n",
      "        [30406, 49742]])\n",
      "Train loss: 0.652, accuracy 0.617\n"
     ]
    },
    {
     "name": "stderr",
     "output_type": "stream",
     "text": [
      "100%|██████████| 625/625 [00:12<00:00, 50.58it/s]\n"
     ]
    },
    {
     "name": "stdout",
     "output_type": "stream",
     "text": [
      "tensor([[10711,  9437],\n",
      "        [ 6142, 13710]])\n",
      "Valid loss: 0.656, accuracy 0.638\n",
      "Epoch 36\n"
     ]
    },
    {
     "name": "stderr",
     "output_type": "stream",
     "text": [
      "100%|██████████| 2500/2500 [01:06<00:00, 37.49it/s]\n"
     ]
    },
    {
     "name": "stdout",
     "output_type": "stream",
     "text": [
      "tensor([[48723, 31129],\n",
      "        [30304, 49844]])\n",
      "Train loss: 0.652, accuracy 0.619\n"
     ]
    },
    {
     "name": "stderr",
     "output_type": "stream",
     "text": [
      "100%|██████████| 625/625 [00:12<00:00, 48.84it/s]\n"
     ]
    },
    {
     "name": "stdout",
     "output_type": "stream",
     "text": [
      "tensor([[12274,  7874],\n",
      "        [ 7506, 12346]])\n",
      "Valid loss: 0.652, accuracy 0.616\n",
      "Epoch 37\n"
     ]
    },
    {
     "name": "stderr",
     "output_type": "stream",
     "text": [
      "100%|██████████| 2500/2500 [01:05<00:00, 38.25it/s]\n"
     ]
    },
    {
     "name": "stdout",
     "output_type": "stream",
     "text": [
      "tensor([[48658, 31194],\n",
      "        [30398, 49750]])\n",
      "Train loss: 0.652, accuracy 0.618\n"
     ]
    },
    {
     "name": "stderr",
     "output_type": "stream",
     "text": [
      "100%|██████████| 625/625 [00:12<00:00, 49.02it/s]\n"
     ]
    },
    {
     "name": "stdout",
     "output_type": "stream",
     "text": [
      "tensor([[12952,  7196],\n",
      "        [ 8207, 11645]])\n",
      "Valid loss: 0.654, accuracy 0.602\n",
      "Epoch 38\n"
     ]
    },
    {
     "name": "stderr",
     "output_type": "stream",
     "text": [
      "100%|██████████| 2500/2500 [01:04<00:00, 38.51it/s]\n"
     ]
    },
    {
     "name": "stdout",
     "output_type": "stream",
     "text": [
      "tensor([[48847, 31005],\n",
      "        [30566, 49582]])\n",
      "Train loss: 0.652, accuracy 0.617\n"
     ]
    },
    {
     "name": "stderr",
     "output_type": "stream",
     "text": [
      "100%|██████████| 625/625 [00:12<00:00, 48.76it/s]\n"
     ]
    },
    {
     "name": "stdout",
     "output_type": "stream",
     "text": [
      "tensor([[11329,  8819],\n",
      "        [ 6571, 13281]])\n",
      "Valid loss: 0.654, accuracy 0.633\n",
      "Epoch 39\n"
     ]
    },
    {
     "name": "stderr",
     "output_type": "stream",
     "text": [
      "100%|██████████| 2500/2500 [01:05<00:00, 38.15it/s]\n"
     ]
    },
    {
     "name": "stdout",
     "output_type": "stream",
     "text": [
      "tensor([[48877, 30975],\n",
      "        [30349, 49799]])\n",
      "Train loss: 0.651, accuracy 0.619\n"
     ]
    },
    {
     "name": "stderr",
     "output_type": "stream",
     "text": [
      "100%|██████████| 625/625 [00:12<00:00, 48.41it/s]\n"
     ]
    },
    {
     "name": "stdout",
     "output_type": "stream",
     "text": [
      "tensor([[12548,  7600],\n",
      "        [ 7847, 12005]])\n",
      "Valid loss: 0.652, accuracy 0.609\n",
      "Epoch 40\n"
     ]
    },
    {
     "name": "stderr",
     "output_type": "stream",
     "text": [
      "100%|██████████| 2500/2500 [01:13<00:00, 34.19it/s]\n"
     ]
    },
    {
     "name": "stdout",
     "output_type": "stream",
     "text": [
      "tensor([[48815, 31037],\n",
      "        [30301, 49847]])\n",
      "Train loss: 0.651, accuracy 0.619\n"
     ]
    },
    {
     "name": "stderr",
     "output_type": "stream",
     "text": [
      "100%|██████████| 625/625 [00:13<00:00, 47.82it/s]\n"
     ]
    },
    {
     "name": "stdout",
     "output_type": "stream",
     "text": [
      "tensor([[13259,  6889],\n",
      "        [ 8575, 11277]])\n",
      "Valid loss: 0.652, accuracy 0.593\n",
      "Epoch 41\n"
     ]
    },
    {
     "name": "stderr",
     "output_type": "stream",
     "text": [
      "100%|██████████| 2500/2500 [01:04<00:00, 38.93it/s]\n"
     ]
    },
    {
     "name": "stdout",
     "output_type": "stream",
     "text": [
      "tensor([[48587, 31265],\n",
      "        [30083, 50065]])\n",
      "Train loss: 0.651, accuracy 0.620\n"
     ]
    },
    {
     "name": "stderr",
     "output_type": "stream",
     "text": [
      "100%|██████████| 625/625 [00:12<00:00, 48.78it/s]\n"
     ]
    },
    {
     "name": "stdout",
     "output_type": "stream",
     "text": [
      "tensor([[12103,  8045],\n",
      "        [ 7320, 12532]])\n",
      "Valid loss: 0.652, accuracy 0.620\n",
      "Epoch 42\n"
     ]
    },
    {
     "name": "stderr",
     "output_type": "stream",
     "text": [
      "100%|██████████| 2500/2500 [01:04<00:00, 38.53it/s]\n"
     ]
    },
    {
     "name": "stdout",
     "output_type": "stream",
     "text": [
      "tensor([[48718, 31134],\n",
      "        [30127, 50021]])\n",
      "Train loss: 0.651, accuracy 0.620\n"
     ]
    },
    {
     "name": "stderr",
     "output_type": "stream",
     "text": [
      "100%|██████████| 625/625 [00:12<00:00, 48.64it/s]\n"
     ]
    },
    {
     "name": "stdout",
     "output_type": "stream",
     "text": [
      "tensor([[12084,  8064],\n",
      "        [ 7295, 12557]])\n",
      "Valid loss: 0.651, accuracy 0.621\n",
      "Epoch 43\n"
     ]
    },
    {
     "name": "stderr",
     "output_type": "stream",
     "text": [
      "100%|██████████| 2500/2500 [01:04<00:00, 38.74it/s]\n"
     ]
    },
    {
     "name": "stdout",
     "output_type": "stream",
     "text": [
      "tensor([[48611, 31241],\n",
      "        [30266, 49882]])\n",
      "Train loss: 0.651, accuracy 0.619\n"
     ]
    },
    {
     "name": "stderr",
     "output_type": "stream",
     "text": [
      "100%|██████████| 625/625 [00:12<00:00, 48.56it/s]\n"
     ]
    },
    {
     "name": "stdout",
     "output_type": "stream",
     "text": [
      "tensor([[12256,  7892],\n",
      "        [ 7649, 12203]])\n",
      "Valid loss: 0.652, accuracy 0.611\n",
      "Epoch 44\n"
     ]
    },
    {
     "name": "stderr",
     "output_type": "stream",
     "text": [
      "100%|██████████| 2500/2500 [01:05<00:00, 38.15it/s]\n"
     ]
    },
    {
     "name": "stdout",
     "output_type": "stream",
     "text": [
      "tensor([[48883, 30969],\n",
      "        [30390, 49758]])\n",
      "Train loss: 0.651, accuracy 0.619\n"
     ]
    },
    {
     "name": "stderr",
     "output_type": "stream",
     "text": [
      "100%|██████████| 625/625 [00:12<00:00, 48.91it/s]\n"
     ]
    },
    {
     "name": "stdout",
     "output_type": "stream",
     "text": [
      "tensor([[12463,  7685],\n",
      "        [ 7817, 12035]])\n",
      "Valid loss: 0.653, accuracy 0.608\n",
      "Epoch 45\n"
     ]
    },
    {
     "name": "stderr",
     "output_type": "stream",
     "text": [
      "100%|██████████| 2500/2500 [01:04<00:00, 38.93it/s]\n"
     ]
    },
    {
     "name": "stdout",
     "output_type": "stream",
     "text": [
      "tensor([[48764, 31088],\n",
      "        [30239, 49909]])\n",
      "Train loss: 0.651, accuracy 0.619\n"
     ]
    },
    {
     "name": "stderr",
     "output_type": "stream",
     "text": [
      "100%|██████████| 625/625 [00:12<00:00, 48.68it/s]\n"
     ]
    },
    {
     "name": "stdout",
     "output_type": "stream",
     "text": [
      "tensor([[12688,  7460],\n",
      "        [ 7975, 11877]])\n",
      "Valid loss: 0.652, accuracy 0.606\n",
      "Epoch 46\n"
     ]
    },
    {
     "name": "stderr",
     "output_type": "stream",
     "text": [
      "100%|██████████| 2500/2500 [01:05<00:00, 38.40it/s]\n"
     ]
    },
    {
     "name": "stdout",
     "output_type": "stream",
     "text": [
      "tensor([[48834, 31018],\n",
      "        [30213, 49935]])\n",
      "Train loss: 0.650, accuracy 0.620\n"
     ]
    },
    {
     "name": "stderr",
     "output_type": "stream",
     "text": [
      "100%|██████████| 625/625 [00:12<00:00, 49.05it/s]\n"
     ]
    },
    {
     "name": "stdout",
     "output_type": "stream",
     "text": [
      "tensor([[13626,  6522],\n",
      "        [ 9066, 10786]])\n",
      "Valid loss: 0.655, accuracy 0.581\n",
      "Epoch 47\n"
     ]
    },
    {
     "name": "stderr",
     "output_type": "stream",
     "text": [
      "100%|██████████| 2500/2500 [01:06<00:00, 37.32it/s]\n"
     ]
    },
    {
     "name": "stdout",
     "output_type": "stream",
     "text": [
      "tensor([[48712, 31140],\n",
      "        [29999, 50149]])\n",
      "Train loss: 0.650, accuracy 0.621\n"
     ]
    },
    {
     "name": "stderr",
     "output_type": "stream",
     "text": [
      "100%|██████████| 625/625 [00:12<00:00, 48.11it/s]\n"
     ]
    },
    {
     "name": "stdout",
     "output_type": "stream",
     "text": [
      "tensor([[12403,  7745],\n",
      "        [ 7601, 12251]])\n",
      "Valid loss: 0.651, accuracy 0.615\n",
      "Epoch 48\n"
     ]
    },
    {
     "name": "stderr",
     "output_type": "stream",
     "text": [
      "100%|██████████| 2500/2500 [01:10<00:00, 35.37it/s]\n"
     ]
    },
    {
     "name": "stdout",
     "output_type": "stream",
     "text": [
      "tensor([[48828, 31024],\n",
      "        [30325, 49823]])\n",
      "Train loss: 0.650, accuracy 0.619\n"
     ]
    },
    {
     "name": "stderr",
     "output_type": "stream",
     "text": [
      "100%|██████████| 625/625 [00:12<00:00, 48.90it/s]\n"
     ]
    },
    {
     "name": "stdout",
     "output_type": "stream",
     "text": [
      "tensor([[11599,  8549],\n",
      "        [ 6926, 12926]])\n",
      "Valid loss: 0.652, accuracy 0.626\n",
      "Epoch 49\n"
     ]
    },
    {
     "name": "stderr",
     "output_type": "stream",
     "text": [
      "100%|██████████| 2500/2500 [01:04<00:00, 38.71it/s]\n"
     ]
    },
    {
     "name": "stdout",
     "output_type": "stream",
     "text": [
      "tensor([[48728, 31124],\n",
      "        [30179, 49969]])\n",
      "Train loss: 0.650, accuracy 0.620\n"
     ]
    },
    {
     "name": "stderr",
     "output_type": "stream",
     "text": [
      "100%|██████████| 625/625 [00:12<00:00, 48.30it/s]\n"
     ]
    },
    {
     "name": "stdout",
     "output_type": "stream",
     "text": [
      "tensor([[12801,  7347],\n",
      "        [ 8192, 11660]])\n",
      "Valid loss: 0.652, accuracy 0.600\n",
      "Epoch 50\n"
     ]
    },
    {
     "name": "stderr",
     "output_type": "stream",
     "text": [
      "100%|██████████| 2500/2500 [01:05<00:00, 37.95it/s]\n"
     ]
    },
    {
     "name": "stdout",
     "output_type": "stream",
     "text": [
      "tensor([[49025, 30827],\n",
      "        [30245, 49903]])\n",
      "Train loss: 0.650, accuracy 0.620\n"
     ]
    },
    {
     "name": "stderr",
     "output_type": "stream",
     "text": [
      "100%|██████████| 625/625 [00:12<00:00, 49.05it/s]\n"
     ]
    },
    {
     "name": "stdout",
     "output_type": "stream",
     "text": [
      "tensor([[11574,  8574],\n",
      "        [ 6844, 13008]])\n",
      "Valid loss: 0.651, accuracy 0.628\n",
      "Epoch 51\n"
     ]
    },
    {
     "name": "stderr",
     "output_type": "stream",
     "text": [
      "100%|██████████| 2500/2500 [01:05<00:00, 38.14it/s]\n"
     ]
    },
    {
     "name": "stdout",
     "output_type": "stream",
     "text": [
      "tensor([[48520, 31332],\n",
      "        [29816, 50332]])\n",
      "Train loss: 0.650, accuracy 0.622\n"
     ]
    },
    {
     "name": "stderr",
     "output_type": "stream",
     "text": [
      "100%|██████████| 625/625 [00:12<00:00, 48.45it/s]\n"
     ]
    },
    {
     "name": "stdout",
     "output_type": "stream",
     "text": [
      "tensor([[12658,  7490],\n",
      "        [ 7918, 11934]])\n",
      "Valid loss: 0.650, accuracy 0.608\n",
      "Epoch 52\n"
     ]
    },
    {
     "name": "stderr",
     "output_type": "stream",
     "text": [
      "100%|██████████| 2500/2500 [01:05<00:00, 37.94it/s]\n"
     ]
    },
    {
     "name": "stdout",
     "output_type": "stream",
     "text": [
      "tensor([[49101, 30751],\n",
      "        [30393, 49755]])\n",
      "Train loss: 0.650, accuracy 0.619\n"
     ]
    },
    {
     "name": "stderr",
     "output_type": "stream",
     "text": [
      "100%|██████████| 625/625 [00:12<00:00, 49.51it/s]\n"
     ]
    },
    {
     "name": "stdout",
     "output_type": "stream",
     "text": [
      "tensor([[12592,  7556],\n",
      "        [ 7790, 12062]])\n",
      "Valid loss: 0.651, accuracy 0.611\n",
      "Epoch 53\n"
     ]
    },
    {
     "name": "stderr",
     "output_type": "stream",
     "text": [
      "100%|██████████| 2500/2500 [01:04<00:00, 38.52it/s]\n"
     ]
    },
    {
     "name": "stdout",
     "output_type": "stream",
     "text": [
      "tensor([[48888, 30964],\n",
      "        [30314, 49834]])\n",
      "Train loss: 0.650, accuracy 0.619\n"
     ]
    },
    {
     "name": "stderr",
     "output_type": "stream",
     "text": [
      "100%|██████████| 625/625 [00:12<00:00, 48.21it/s]\n"
     ]
    },
    {
     "name": "stdout",
     "output_type": "stream",
     "text": [
      "tensor([[13576,  6572],\n",
      "        [ 8819, 11033]])\n",
      "Valid loss: 0.651, accuracy 0.589\n",
      "Epoch 54\n"
     ]
    },
    {
     "name": "stderr",
     "output_type": "stream",
     "text": [
      "100%|██████████| 2500/2500 [01:07<00:00, 37.03it/s]\n"
     ]
    },
    {
     "name": "stdout",
     "output_type": "stream",
     "text": [
      "tensor([[48722, 31130],\n",
      "        [30092, 50056]])\n",
      "Train loss: 0.650, accuracy 0.621\n"
     ]
    },
    {
     "name": "stderr",
     "output_type": "stream",
     "text": [
      "100%|██████████| 625/625 [00:13<00:00, 46.95it/s]\n"
     ]
    },
    {
     "name": "stdout",
     "output_type": "stream",
     "text": [
      "tensor([[12068,  8080],\n",
      "        [ 7294, 12558]])\n",
      "Valid loss: 0.651, accuracy 0.620\n",
      "Epoch 55\n"
     ]
    },
    {
     "name": "stderr",
     "output_type": "stream",
     "text": [
      "100%|██████████| 2500/2500 [01:04<00:00, 38.68it/s]\n"
     ]
    },
    {
     "name": "stdout",
     "output_type": "stream",
     "text": [
      "tensor([[48677, 31175],\n",
      "        [29863, 50285]])\n",
      "Train loss: 0.650, accuracy 0.622\n"
     ]
    },
    {
     "name": "stderr",
     "output_type": "stream",
     "text": [
      "100%|██████████| 625/625 [00:12<00:00, 49.26it/s]\n"
     ]
    },
    {
     "name": "stdout",
     "output_type": "stream",
     "text": [
      "tensor([[13792,  6356],\n",
      "        [ 9199, 10653]])\n",
      "Valid loss: 0.653, accuracy 0.578\n",
      "Epoch 56\n"
     ]
    },
    {
     "name": "stderr",
     "output_type": "stream",
     "text": [
      "100%|██████████| 2500/2500 [01:09<00:00, 36.04it/s]\n"
     ]
    },
    {
     "name": "stdout",
     "output_type": "stream",
     "text": [
      "tensor([[48964, 30888],\n",
      "        [30081, 50067]])\n",
      "Train loss: 0.650, accuracy 0.622\n"
     ]
    },
    {
     "name": "stderr",
     "output_type": "stream",
     "text": [
      "100%|██████████| 625/625 [00:14<00:00, 44.13it/s]\n"
     ]
    },
    {
     "name": "stdout",
     "output_type": "stream",
     "text": [
      "tensor([[12730,  7418],\n",
      "        [ 7974, 11878]])\n",
      "Valid loss: 0.651, accuracy 0.607\n",
      "Epoch 57\n"
     ]
    },
    {
     "name": "stderr",
     "output_type": "stream",
     "text": [
      "100%|██████████| 2500/2500 [01:05<00:00, 38.44it/s]\n"
     ]
    },
    {
     "name": "stdout",
     "output_type": "stream",
     "text": [
      "tensor([[49058, 30794],\n",
      "        [30313, 49835]])\n",
      "Train loss: 0.650, accuracy 0.620\n"
     ]
    },
    {
     "name": "stderr",
     "output_type": "stream",
     "text": [
      "100%|██████████| 625/625 [00:12<00:00, 48.72it/s]\n"
     ]
    },
    {
     "name": "stdout",
     "output_type": "stream",
     "text": [
      "tensor([[13223,  6925],\n",
      "        [ 8476, 11376]])\n",
      "Valid loss: 0.651, accuracy 0.596\n",
      "Epoch 58\n"
     ]
    },
    {
     "name": "stderr",
     "output_type": "stream",
     "text": [
      " 12%|█▏        | 309/2500 [00:08<00:56, 38.56it/s]"
     ]
    }
   ],
   "source": [
    "import torch\n",
    "import torch.nn.functional as F\n",
    "import torch_geometric\n",
    "from gnn_dataset import BipartiteNodeData, GraphNodeDataset\n",
    "from gnn_policy import GNNPolicy, BipartiteGraphConvolution\n",
    "from tqdm import tqdm\n",
    "from pathlib import Path\n",
    "import torch.nn as nn\n",
    "import matplotlib.pyplot as plt\n",
    "import random\n",
    "import math \n",
    "\n",
    "LEARNING_RATE = 0.001\n",
    "NB_EPOCHS = 150\n",
    "PATIENCE = 10\n",
    "EARLY_STOPPING = 20\n",
    "DEVICE = torch.device('cuda' if torch.cuda.is_available() else 'cpu')\n",
    "sig = nn.Sigmoid()\n",
    "\n",
    "def process(policy, data_loader, optimizer=None):\n",
    "    \"\"\"\n",
    "    This function will process a whole epoch of training or validation, depending on whether an optimizer is provided.\n",
    "    \"\"\"\n",
    "    mean_loss = 0\n",
    "    mean_acc = 0\n",
    "\n",
    "    n_samples_processed = 0\n",
    "    targets_list = torch.Tensor([]).to(DEVICE)\n",
    "    preds_list = torch.Tensor([]).to(DEVICE)\n",
    "    with torch.set_grad_enabled(optimizer is not None):\n",
    "        for batch_data in tqdm(data_loader):\n",
    "            batch, target = batch_data\n",
    "            batch = batch.to(DEVICE)\n",
    "            target = target.to(DEVICE)*1\n",
    "\n",
    "            logits = policy(batch.antenna_features, batch.edge_index, batch.edge_attr, batch.variable_features)            \n",
    "            logits = logits.reshape([batch.num_graphs, -1]).sum(dim=1)\n",
    "#             wts = target*29\n",
    "#             wts = wts+1\n",
    "#             bce = nn.BCEWithLogitsLoss(weight=wts)\n",
    "            bce = nn.BCEWithLogitsLoss()\n",
    "\n",
    "            \n",
    "            loss = bce(logits, target.to(torch.float))\n",
    "            \n",
    "            if optimizer is not None:\n",
    "                optimizer.zero_grad()\n",
    "                loss.backward()\n",
    "                optimizer.step()\n",
    "            predicted_bestindex = (sig(logits)>0.5)*1\n",
    "            accuracy = sum(predicted_bestindex.reshape(-1) == target)\n",
    "            \n",
    "            targets_list = torch.cat((targets_list, target))\n",
    "            preds_list = torch.cat((preds_list, predicted_bestindex))\n",
    "\n",
    "            mean_loss += loss.item() * batch.num_graphs\n",
    "            mean_acc += float(accuracy)\n",
    "            n_samples_processed += batch.num_graphs\n",
    "\n",
    "    stacked = torch.stack((targets_list, preds_list), dim=1).to(torch.int)\n",
    "    cmt = torch.zeros(2,2,dtype=torch.int64)\n",
    "    for p in stacked:\n",
    "        tl, pl = p.tolist()\n",
    "        cmt[tl, pl] = cmt[tl, pl] + 1\n",
    "    print(cmt)\n",
    "    precision = cmt[1,1]/(cmt[0,1]+cmt[1,1])\n",
    "    recall = cmt[1,1]/(cmt[1,0]+cmt[1,1])\n",
    "    mean_acc = 2* (precision*recall)/(precision+recall)\n",
    "    mean_loss /= n_samples_processed\n",
    "#     mean_acc /= n_samples_processed\n",
    "    return mean_loss, mean_acc\n",
    "\n",
    "\n",
    "def pad_tensor(input_, pad_sizes, pad_value=-1e8):\n",
    "    \"\"\"\n",
    "    This utility function splits a tensor and pads each split to make them all the same size, then stacks them.\n",
    "    \"\"\"\n",
    "    max_pad_size = pad_sizes.max()\n",
    "    output = input_.split(pad_sizes.cpu().numpy().tolist())\n",
    "    output = torch.stack([F.pad(slice_, (0, max_pad_size-slice_.size(0)), 'constant', pad_value)\n",
    "                          for slice_ in output], dim=0)\n",
    "    return output\n",
    "\n",
    "\n",
    "\n",
    "# positive_sample_files1 = [str(path) for path in Path('positive_node_samples2/').glob('sample_*.pkl')]\n",
    "positive_sample_files2 = [str(path) for path in Path('positive_node_samples3/').glob('sample_*.pkl')]\n",
    "positive_sample_files1 = []\n",
    "positive_sample_files = positive_sample_files1 + positive_sample_files2\n",
    "\n",
    "negative_sample_files = [str(path) for path in Path('negative_node_samples3/').glob('sample_*.pkl')]\n",
    "random.shuffle(negative_sample_files)\n",
    "negative_sample_files = negative_sample_files[:100000]\n",
    "imbalance_ratio = len(negative_sample_files)/len(positive_sample_files)\n",
    "\n",
    "\n",
    "positive_sample_files = positive_sample_files*math.ceil(imbalance_ratio)\n",
    "print(len(positive_sample_files), len(negative_sample_files))\n",
    "sample_files = positive_sample_files + negative_sample_files\n",
    "random.shuffle(sample_files)\n",
    "\n",
    "valid_sample_files = [str(path) for path in Path('node_samples/').glob('sample_*.pkl')]\n",
    "random.shuffle(valid_sample_files)\n",
    "valid_sample_files = valid_sample_files[:2000]\n",
    "\n",
    "train_files = sample_files[:int(0.8*len(sample_files))]\n",
    "valid_files = sample_files[int(0.8*len(sample_files)):]\n",
    "train_data = GraphNodeDataset(train_files)\n",
    "train_loader = torch_geometric.data.DataLoader(train_data, batch_size=64, shuffle=True)\n",
    "valid_data = GraphNodeDataset(valid_files)\n",
    "valid_loader = torch_geometric.data.DataLoader(valid_data, batch_size=64, shuffle=False)\n",
    "\n",
    "policy = GNNPolicy().to(DEVICE)\n",
    "optimizer = torch.optim.Adam(policy.parameters(), lr=LEARNING_RATE)\n",
    "\n",
    "valids = []\n",
    "for epoch in range(NB_EPOCHS):\n",
    "    print(f\"Epoch {epoch+1}\")\n",
    "    \n",
    "    train_loss, train_acc = process(policy, train_loader, optimizer)\n",
    "    print(f\"Train loss: {train_loss:0.3f}, accuracy {train_acc:0.3f}\" )\n",
    "\n",
    "    valid_loss, valid_acc = process(policy, valid_loader, None)\n",
    "    print(f\"Valid loss: {valid_loss:0.3f}, accuracy {valid_acc:0.3f}\" )\n",
    "    valids.append(valid_acc)\n",
    "\n",
    "torch.save(policy.state_dict(), 'trained_params_ros.pkl')"
   ]
  },
  {
   "cell_type": "markdown",
   "id": "3c91b4c2",
   "metadata": {},
   "source": [
    "# Balanced Dataset"
   ]
  },
  {
   "cell_type": "code",
   "execution_count": 25,
   "id": "37abc60c",
   "metadata": {
    "scrolled": false
   },
   "outputs": [
    {
     "name": "stdout",
     "output_type": "stream",
     "text": [
      "Epoch 1\n"
     ]
    },
    {
     "name": "stderr",
     "output_type": "stream",
     "text": [
      "100%|██████████| 3303/3303 [03:08<00:00, 17.56it/s]\n"
     ]
    },
    {
     "name": "stdout",
     "output_type": "stream",
     "text": [
      "tensor([[154047,  57322],\n",
      "        [ 48363, 163006]])\n",
      "Train loss: 0.121, accuracy 0.755\n"
     ]
    },
    {
     "name": "stderr",
     "output_type": "stream",
     "text": [
      "100%|██████████| 826/826 [00:35<00:00, 23.37it/s]\n"
     ]
    },
    {
     "name": "stdout",
     "output_type": "stream",
     "text": [
      "tensor([[39390, 13453],\n",
      "        [10300, 42543]])\n",
      "Valid loss: 0.114, accuracy 0.782\n",
      "Epoch 2\n"
     ]
    },
    {
     "name": "stderr",
     "output_type": "stream",
     "text": [
      "100%|██████████| 3303/3303 [02:59<00:00, 18.36it/s]\n"
     ]
    },
    {
     "name": "stdout",
     "output_type": "stream",
     "text": [
      "tensor([[157270,  54099],\n",
      "        [ 41476, 169893]])\n",
      "Train loss: 0.114, accuracy 0.780\n"
     ]
    },
    {
     "name": "stderr",
     "output_type": "stream",
     "text": [
      "100%|██████████| 826/826 [00:35<00:00, 23.20it/s]\n"
     ]
    },
    {
     "name": "stdout",
     "output_type": "stream",
     "text": [
      "tensor([[35194, 17649],\n",
      "        [ 6273, 46570]])\n",
      "Valid loss: 0.113, accuracy 0.796\n",
      "Epoch 3\n"
     ]
    },
    {
     "name": "stderr",
     "output_type": "stream",
     "text": [
      "100%|██████████| 3303/3303 [03:00<00:00, 18.27it/s]\n"
     ]
    },
    {
     "name": "stdout",
     "output_type": "stream",
     "text": [
      "tensor([[158174,  53195],\n",
      "        [ 39380, 171989]])\n",
      "Train loss: 0.111, accuracy 0.788\n"
     ]
    },
    {
     "name": "stderr",
     "output_type": "stream",
     "text": [
      "100%|██████████| 826/826 [00:34<00:00, 23.64it/s]\n"
     ]
    },
    {
     "name": "stdout",
     "output_type": "stream",
     "text": [
      "tensor([[35958, 16885],\n",
      "        [ 6073, 46770]])\n",
      "Valid loss: 0.110, accuracy 0.803\n",
      "Epoch 4\n"
     ]
    },
    {
     "name": "stderr",
     "output_type": "stream",
     "text": [
      "100%|██████████| 3303/3303 [03:02<00:00, 18.05it/s]\n"
     ]
    },
    {
     "name": "stdout",
     "output_type": "stream",
     "text": [
      "tensor([[159356,  52013],\n",
      "        [ 38668, 172701]])\n",
      "Train loss: 0.108, accuracy 0.792\n"
     ]
    },
    {
     "name": "stderr",
     "output_type": "stream",
     "text": [
      "100%|██████████| 826/826 [00:34<00:00, 24.15it/s]\n"
     ]
    },
    {
     "name": "stdout",
     "output_type": "stream",
     "text": [
      "tensor([[41495, 11348],\n",
      "        [10926, 41917]])\n",
      "Valid loss: 0.106, accuracy 0.790\n",
      "Epoch 5\n"
     ]
    },
    {
     "name": "stderr",
     "output_type": "stream",
     "text": [
      "100%|██████████| 3303/3303 [03:03<00:00, 17.98it/s]\n"
     ]
    },
    {
     "name": "stdout",
     "output_type": "stream",
     "text": [
      "tensor([[159935,  51434],\n",
      "        [ 38134, 173235]])\n",
      "Train loss: 0.107, accuracy 0.795\n"
     ]
    },
    {
     "name": "stderr",
     "output_type": "stream",
     "text": [
      "100%|██████████| 826/826 [00:36<00:00, 22.55it/s]\n"
     ]
    },
    {
     "name": "stdout",
     "output_type": "stream",
     "text": [
      "tensor([[35741, 17102],\n",
      "        [ 5637, 47206]])\n",
      "Valid loss: 0.106, accuracy 0.806\n",
      "Epoch 6\n"
     ]
    },
    {
     "name": "stderr",
     "output_type": "stream",
     "text": [
      "100%|██████████| 3303/3303 [03:08<00:00, 17.49it/s]\n"
     ]
    },
    {
     "name": "stdout",
     "output_type": "stream",
     "text": [
      "tensor([[160031,  51338],\n",
      "        [ 37291, 174078]])\n",
      "Train loss: 0.106, accuracy 0.797\n"
     ]
    },
    {
     "name": "stderr",
     "output_type": "stream",
     "text": [
      "100%|██████████| 826/826 [00:34<00:00, 23.65it/s]\n"
     ]
    },
    {
     "name": "stdout",
     "output_type": "stream",
     "text": [
      "tensor([[40018, 12825],\n",
      "        [ 8800, 44043]])\n",
      "Valid loss: 0.104, accuracy 0.803\n",
      "Epoch 7\n"
     ]
    },
    {
     "name": "stderr",
     "output_type": "stream",
     "text": [
      "100%|██████████| 3303/3303 [03:05<00:00, 17.84it/s]\n"
     ]
    },
    {
     "name": "stdout",
     "output_type": "stream",
     "text": [
      "tensor([[160494,  50875],\n",
      "        [ 36928, 174441]])\n",
      "Train loss: 0.104, accuracy 0.799\n"
     ]
    },
    {
     "name": "stderr",
     "output_type": "stream",
     "text": [
      "100%|██████████| 826/826 [00:33<00:00, 24.81it/s]\n"
     ]
    },
    {
     "name": "stdout",
     "output_type": "stream",
     "text": [
      "tensor([[43587,  9256],\n",
      "        [13013, 39830]])\n",
      "Valid loss: 0.106, accuracy 0.782\n",
      "Epoch 8\n"
     ]
    },
    {
     "name": "stderr",
     "output_type": "stream",
     "text": [
      "100%|██████████| 3303/3303 [03:00<00:00, 18.30it/s]\n"
     ]
    },
    {
     "name": "stdout",
     "output_type": "stream",
     "text": [
      "tensor([[160474,  50895],\n",
      "        [ 36333, 175036]])\n",
      "Train loss: 0.104, accuracy 0.801\n"
     ]
    },
    {
     "name": "stderr",
     "output_type": "stream",
     "text": [
      "100%|██████████| 826/826 [00:34<00:00, 23.92it/s]\n"
     ]
    },
    {
     "name": "stdout",
     "output_type": "stream",
     "text": [
      "tensor([[43670,  9173],\n",
      "        [12784, 40059]])\n",
      "Valid loss: 0.104, accuracy 0.785\n",
      "Epoch 9\n"
     ]
    },
    {
     "name": "stderr",
     "output_type": "stream",
     "text": [
      "100%|██████████| 3303/3303 [03:02<00:00, 18.13it/s]\n"
     ]
    },
    {
     "name": "stdout",
     "output_type": "stream",
     "text": [
      "tensor([[160949,  50420],\n",
      "        [ 36364, 175005]])\n",
      "Train loss: 0.103, accuracy 0.801\n"
     ]
    },
    {
     "name": "stderr",
     "output_type": "stream",
     "text": [
      "100%|██████████| 826/826 [00:33<00:00, 24.79it/s]\n"
     ]
    },
    {
     "name": "stdout",
     "output_type": "stream",
     "text": [
      "tensor([[39187, 13656],\n",
      "        [ 7778, 45065]])\n",
      "Valid loss: 0.101, accuracy 0.808\n",
      "Epoch 10\n"
     ]
    },
    {
     "name": "stderr",
     "output_type": "stream",
     "text": [
      "100%|██████████| 3303/3303 [03:00<00:00, 18.28it/s]\n"
     ]
    },
    {
     "name": "stdout",
     "output_type": "stream",
     "text": [
      "tensor([[160516,  50853],\n",
      "        [ 35717, 175652]])\n",
      "Train loss: 0.103, accuracy 0.802\n"
     ]
    },
    {
     "name": "stderr",
     "output_type": "stream",
     "text": [
      "100%|██████████| 826/826 [00:33<00:00, 24.60it/s]\n"
     ]
    },
    {
     "name": "stdout",
     "output_type": "stream",
     "text": [
      "tensor([[39489, 13354],\n",
      "        [ 8548, 44295]])\n",
      "Valid loss: 0.105, accuracy 0.802\n",
      "Epoch 11\n"
     ]
    },
    {
     "name": "stderr",
     "output_type": "stream",
     "text": [
      "100%|██████████| 3303/3303 [03:05<00:00, 17.85it/s]\n"
     ]
    },
    {
     "name": "stdout",
     "output_type": "stream",
     "text": [
      "tensor([[160879,  50490],\n",
      "        [ 35639, 175730]])\n",
      "Train loss: 0.102, accuracy 0.803\n"
     ]
    },
    {
     "name": "stderr",
     "output_type": "stream",
     "text": [
      "100%|██████████| 826/826 [00:34<00:00, 23.68it/s]\n"
     ]
    },
    {
     "name": "stdout",
     "output_type": "stream",
     "text": [
      "tensor([[39456, 13387],\n",
      "        [ 8175, 44668]])\n",
      "Valid loss: 0.102, accuracy 0.806\n",
      "Epoch 12\n"
     ]
    },
    {
     "name": "stderr",
     "output_type": "stream",
     "text": [
      "100%|██████████| 3303/3303 [03:01<00:00, 18.19it/s]\n"
     ]
    },
    {
     "name": "stdout",
     "output_type": "stream",
     "text": [
      "tensor([[161141,  50228],\n",
      "        [ 35243, 176126]])\n",
      "Train loss: 0.101, accuracy 0.805\n"
     ]
    },
    {
     "name": "stderr",
     "output_type": "stream",
     "text": [
      "100%|██████████| 826/826 [00:34<00:00, 23.74it/s]\n"
     ]
    },
    {
     "name": "stdout",
     "output_type": "stream",
     "text": [
      "tensor([[42365, 10478],\n",
      "        [10735, 42108]])\n",
      "Valid loss: 0.101, accuracy 0.799\n",
      "Epoch 13\n"
     ]
    },
    {
     "name": "stderr",
     "output_type": "stream",
     "text": [
      "100%|██████████| 3303/3303 [03:01<00:00, 18.17it/s]\n"
     ]
    },
    {
     "name": "stdout",
     "output_type": "stream",
     "text": [
      "tensor([[161621,  49748],\n",
      "        [ 35054, 176315]])\n",
      "Train loss: 0.101, accuracy 0.806\n"
     ]
    },
    {
     "name": "stderr",
     "output_type": "stream",
     "text": [
      "100%|██████████| 826/826 [00:34<00:00, 24.07it/s]\n"
     ]
    },
    {
     "name": "stdout",
     "output_type": "stream",
     "text": [
      "tensor([[39847, 12996],\n",
      "        [ 7916, 44927]])\n",
      "Valid loss: 0.100, accuracy 0.811\n",
      "Epoch 14\n"
     ]
    },
    {
     "name": "stderr",
     "output_type": "stream",
     "text": [
      "100%|██████████| 3303/3303 [03:03<00:00, 17.97it/s]\n"
     ]
    },
    {
     "name": "stdout",
     "output_type": "stream",
     "text": [
      "tensor([[161363,  50006],\n",
      "        [ 34408, 176961]])\n",
      "Train loss: 0.100, accuracy 0.807\n"
     ]
    },
    {
     "name": "stderr",
     "output_type": "stream",
     "text": [
      "100%|██████████| 826/826 [00:33<00:00, 24.57it/s]\n"
     ]
    },
    {
     "name": "stdout",
     "output_type": "stream",
     "text": [
      "tensor([[40226, 12617],\n",
      "        [ 8166, 44677]])\n",
      "Valid loss: 0.099, accuracy 0.811\n",
      "Epoch 15\n"
     ]
    },
    {
     "name": "stderr",
     "output_type": "stream",
     "text": [
      "100%|██████████| 3303/3303 [03:06<00:00, 17.75it/s]\n"
     ]
    },
    {
     "name": "stdout",
     "output_type": "stream",
     "text": [
      "tensor([[161896,  49473],\n",
      "        [ 34579, 176790]])\n",
      "Train loss: 0.100, accuracy 0.808\n"
     ]
    },
    {
     "name": "stderr",
     "output_type": "stream",
     "text": [
      "100%|██████████| 826/826 [00:35<00:00, 23.15it/s]\n"
     ]
    },
    {
     "name": "stdout",
     "output_type": "stream",
     "text": [
      "tensor([[32868, 19975],\n",
      "        [ 3399, 49444]])\n",
      "Valid loss: 0.107, accuracy 0.809\n",
      "Epoch 16\n"
     ]
    },
    {
     "name": "stderr",
     "output_type": "stream",
     "text": [
      "100%|██████████| 3303/3303 [03:07<00:00, 17.59it/s]\n"
     ]
    },
    {
     "name": "stdout",
     "output_type": "stream",
     "text": [
      "tensor([[161996,  49373],\n",
      "        [ 34412, 176957]])\n",
      "Train loss: 0.099, accuracy 0.809\n"
     ]
    },
    {
     "name": "stderr",
     "output_type": "stream",
     "text": [
      "100%|██████████| 826/826 [00:35<00:00, 23.12it/s]\n"
     ]
    },
    {
     "name": "stdout",
     "output_type": "stream",
     "text": [
      "tensor([[36502, 16341],\n",
      "        [ 5334, 47509]])\n",
      "Valid loss: 0.106, accuracy 0.814\n",
      "Epoch 17\n"
     ]
    },
    {
     "name": "stderr",
     "output_type": "stream",
     "text": [
      "100%|██████████| 3303/3303 [03:03<00:00, 18.01it/s]\n"
     ]
    },
    {
     "name": "stdout",
     "output_type": "stream",
     "text": [
      "tensor([[161916,  49453],\n",
      "        [ 33990, 177379]])\n",
      "Train loss: 0.099, accuracy 0.810\n"
     ]
    },
    {
     "name": "stderr",
     "output_type": "stream",
     "text": [
      "100%|██████████| 826/826 [00:34<00:00, 23.77it/s]\n"
     ]
    },
    {
     "name": "stdout",
     "output_type": "stream",
     "text": [
      "tensor([[40842, 12001],\n",
      "        [ 8789, 44054]])\n",
      "Valid loss: 0.099, accuracy 0.809\n",
      "Epoch 18\n"
     ]
    },
    {
     "name": "stderr",
     "output_type": "stream",
     "text": [
      "100%|██████████| 3303/3303 [03:05<00:00, 17.79it/s]\n"
     ]
    },
    {
     "name": "stdout",
     "output_type": "stream",
     "text": [
      "tensor([[161975,  49394],\n",
      "        [ 34197, 177172]])\n",
      "Train loss: 0.099, accuracy 0.809\n"
     ]
    },
    {
     "name": "stderr",
     "output_type": "stream",
     "text": [
      "100%|██████████| 826/826 [00:34<00:00, 23.92it/s]\n"
     ]
    },
    {
     "name": "stdout",
     "output_type": "stream",
     "text": [
      "tensor([[40548, 12295],\n",
      "        [ 8440, 44403]])\n",
      "Valid loss: 0.100, accuracy 0.811\n",
      "Epoch 19\n"
     ]
    },
    {
     "name": "stderr",
     "output_type": "stream",
     "text": [
      "100%|██████████| 3303/3303 [03:07<00:00, 17.59it/s]\n"
     ]
    },
    {
     "name": "stdout",
     "output_type": "stream",
     "text": [
      "tensor([[162452,  48917],\n",
      "        [ 33942, 177427]])\n",
      "Train loss: 0.098, accuracy 0.811\n"
     ]
    },
    {
     "name": "stderr",
     "output_type": "stream",
     "text": [
      "100%|██████████| 826/826 [00:34<00:00, 24.00it/s]\n"
     ]
    },
    {
     "name": "stdout",
     "output_type": "stream",
     "text": [
      "tensor([[43057,  9786],\n",
      "        [11260, 41583]])\n",
      "Valid loss: 0.100, accuracy 0.798\n",
      "Epoch 20\n"
     ]
    },
    {
     "name": "stderr",
     "output_type": "stream",
     "text": [
      "100%|██████████| 3303/3303 [03:09<00:00, 17.44it/s]\n"
     ]
    },
    {
     "name": "stdout",
     "output_type": "stream",
     "text": [
      "tensor([[162681,  48688],\n",
      "        [ 33835, 177534]])\n",
      "Train loss: 0.098, accuracy 0.811\n"
     ]
    },
    {
     "name": "stderr",
     "output_type": "stream",
     "text": [
      "100%|██████████| 826/826 [00:33<00:00, 24.35it/s]\n"
     ]
    },
    {
     "name": "stdout",
     "output_type": "stream",
     "text": [
      "tensor([[38327, 14516],\n",
      "        [ 6316, 46527]])\n",
      "Valid loss: 0.098, accuracy 0.817\n",
      "Epoch 21\n"
     ]
    },
    {
     "name": "stderr",
     "output_type": "stream",
     "text": [
      "100%|██████████| 3303/3303 [02:59<00:00, 18.36it/s]\n"
     ]
    },
    {
     "name": "stdout",
     "output_type": "stream",
     "text": [
      "tensor([[162750,  48619],\n",
      "        [ 33346, 178023]])\n",
      "Train loss: 0.098, accuracy 0.813\n"
     ]
    },
    {
     "name": "stderr",
     "output_type": "stream",
     "text": [
      "100%|██████████| 826/826 [00:34<00:00, 23.93it/s]\n"
     ]
    },
    {
     "name": "stdout",
     "output_type": "stream",
     "text": [
      "tensor([[42206, 10637],\n",
      "        [ 9948, 42895]])\n",
      "Valid loss: 0.098, accuracy 0.806\n",
      "Epoch 22\n"
     ]
    },
    {
     "name": "stderr",
     "output_type": "stream",
     "text": [
      "100%|██████████| 3303/3303 [03:06<00:00, 17.75it/s]\n"
     ]
    },
    {
     "name": "stdout",
     "output_type": "stream",
     "text": [
      "tensor([[162496,  48873],\n",
      "        [ 33200, 178169]])\n",
      "Train loss: 0.098, accuracy 0.813\n"
     ]
    },
    {
     "name": "stderr",
     "output_type": "stream",
     "text": [
      "100%|██████████| 826/826 [00:35<00:00, 23.15it/s]\n"
     ]
    },
    {
     "name": "stdout",
     "output_type": "stream",
     "text": [
      "tensor([[40689, 12154],\n",
      "        [ 8394, 44449]])\n",
      "Valid loss: 0.098, accuracy 0.812\n",
      "Epoch 23\n"
     ]
    },
    {
     "name": "stderr",
     "output_type": "stream",
     "text": [
      "100%|██████████| 3303/3303 [03:02<00:00, 18.05it/s]\n"
     ]
    },
    {
     "name": "stdout",
     "output_type": "stream",
     "text": [
      "tensor([[163195,  48174],\n",
      "        [ 33150, 178219]])\n",
      "Train loss: 0.097, accuracy 0.814\n"
     ]
    },
    {
     "name": "stderr",
     "output_type": "stream",
     "text": [
      "100%|██████████| 826/826 [00:32<00:00, 25.43it/s]\n"
     ]
    },
    {
     "name": "stdout",
     "output_type": "stream",
     "text": [
      "tensor([[41576, 11267],\n",
      "        [ 9966, 42877]])\n",
      "Valid loss: 0.099, accuracy 0.802\n",
      "Epoch 24\n"
     ]
    },
    {
     "name": "stderr",
     "output_type": "stream",
     "text": [
      "100%|██████████| 3303/3303 [02:52<00:00, 19.13it/s]\n"
     ]
    },
    {
     "name": "stdout",
     "output_type": "stream",
     "text": [
      "tensor([[163086,  48283],\n",
      "        [ 33015, 178354]])\n",
      "Train loss: 0.097, accuracy 0.814\n"
     ]
    },
    {
     "name": "stderr",
     "output_type": "stream",
     "text": [
      "100%|██████████| 826/826 [00:34<00:00, 23.77it/s]\n"
     ]
    },
    {
     "name": "stdout",
     "output_type": "stream",
     "text": [
      "tensor([[36981, 15862],\n",
      "        [ 5189, 47654]])\n",
      "Valid loss: 0.098, accuracy 0.819\n",
      "Epoch 25\n"
     ]
    },
    {
     "name": "stderr",
     "output_type": "stream",
     "text": [
      "100%|██████████| 3303/3303 [02:59<00:00, 18.41it/s]\n"
     ]
    },
    {
     "name": "stdout",
     "output_type": "stream",
     "text": [
      "tensor([[163290,  48079],\n",
      "        [ 32670, 178699]])\n",
      "Train loss: 0.096, accuracy 0.816\n"
     ]
    },
    {
     "name": "stderr",
     "output_type": "stream",
     "text": [
      "100%|██████████| 826/826 [00:33<00:00, 24.75it/s]\n"
     ]
    },
    {
     "name": "stdout",
     "output_type": "stream",
     "text": [
      "tensor([[42544, 10299],\n",
      "        [10429, 42414]])\n",
      "Valid loss: 0.099, accuracy 0.804\n",
      "Epoch 26\n"
     ]
    },
    {
     "name": "stderr",
     "output_type": "stream",
     "text": [
      "100%|██████████| 3303/3303 [02:55<00:00, 18.86it/s]\n"
     ]
    },
    {
     "name": "stdout",
     "output_type": "stream",
     "text": [
      "tensor([[163052,  48317],\n",
      "        [ 32464, 178905]])\n",
      "Train loss: 0.096, accuracy 0.816\n"
     ]
    },
    {
     "name": "stderr",
     "output_type": "stream",
     "text": [
      "100%|██████████| 826/826 [00:32<00:00, 25.11it/s]\n"
     ]
    },
    {
     "name": "stdout",
     "output_type": "stream",
     "text": [
      "tensor([[39477, 13366],\n",
      "        [ 6651, 46192]])\n",
      "Valid loss: 0.095, accuracy 0.822\n",
      "Epoch 27\n"
     ]
    },
    {
     "name": "stderr",
     "output_type": "stream",
     "text": [
      "100%|██████████| 3303/3303 [02:52<00:00, 19.12it/s]\n"
     ]
    },
    {
     "name": "stdout",
     "output_type": "stream",
     "text": [
      "tensor([[163387,  47982],\n",
      "        [ 32025, 179344]])\n",
      "Train loss: 0.096, accuracy 0.818\n"
     ]
    },
    {
     "name": "stderr",
     "output_type": "stream",
     "text": [
      "100%|██████████| 826/826 [00:34<00:00, 24.24it/s]\n"
     ]
    },
    {
     "name": "stdout",
     "output_type": "stream",
     "text": [
      "tensor([[44532,  8311],\n",
      "        [12787, 40056]])\n",
      "Valid loss: 0.098, accuracy 0.792\n",
      "Epoch 28\n"
     ]
    },
    {
     "name": "stderr",
     "output_type": "stream",
     "text": [
      "100%|██████████| 3303/3303 [03:01<00:00, 18.17it/s]\n"
     ]
    },
    {
     "name": "stdout",
     "output_type": "stream",
     "text": [
      "tensor([[163630,  47739],\n",
      "        [ 31973, 179396]])\n",
      "Train loss: 0.095, accuracy 0.818\n"
     ]
    },
    {
     "name": "stderr",
     "output_type": "stream",
     "text": [
      "100%|██████████| 826/826 [00:32<00:00, 25.48it/s]\n"
     ]
    },
    {
     "name": "stdout",
     "output_type": "stream",
     "text": [
      "tensor([[40484, 12359],\n",
      "        [ 7951, 44892]])\n",
      "Valid loss: 0.097, accuracy 0.816\n",
      "Epoch 29\n"
     ]
    },
    {
     "name": "stderr",
     "output_type": "stream",
     "text": [
      "100%|██████████| 3303/3303 [02:56<00:00, 18.69it/s]\n"
     ]
    },
    {
     "name": "stdout",
     "output_type": "stream",
     "text": [
      "tensor([[163569,  47800],\n",
      "        [ 31976, 179393]])\n",
      "Train loss: 0.095, accuracy 0.818\n"
     ]
    },
    {
     "name": "stderr",
     "output_type": "stream",
     "text": [
      "100%|██████████| 826/826 [00:34<00:00, 24.07it/s]\n"
     ]
    },
    {
     "name": "stdout",
     "output_type": "stream",
     "text": [
      "tensor([[36732, 16111],\n",
      "        [ 4688, 48155]])\n",
      "Valid loss: 0.098, accuracy 0.822\n",
      "Epoch 30\n"
     ]
    },
    {
     "name": "stderr",
     "output_type": "stream",
     "text": [
      "100%|██████████| 3303/3303 [02:55<00:00, 18.81it/s]\n"
     ]
    },
    {
     "name": "stdout",
     "output_type": "stream",
     "text": [
      "tensor([[163540,  47829],\n",
      "        [ 31561, 179808]])\n",
      "Train loss: 0.095, accuracy 0.819\n"
     ]
    },
    {
     "name": "stderr",
     "output_type": "stream",
     "text": [
      " 85%|████████▌ | 704/826 [00:29<00:05, 24.05it/s]\n"
     ]
    },
    {
     "ename": "KeyboardInterrupt",
     "evalue": "",
     "output_type": "error",
     "traceback": [
      "\u001b[0;31m---------------------------------------------------------------------------\u001b[0m",
      "\u001b[0;31mKeyboardInterrupt\u001b[0m                         Traceback (most recent call last)",
      "\u001b[0;32m<ipython-input-25-dffef19a50cd>\u001b[0m in \u001b[0;36m<module>\u001b[0;34m\u001b[0m\n\u001b[1;32m    151\u001b[0m     \u001b[0mtrains\u001b[0m\u001b[0;34m.\u001b[0m\u001b[0mappend\u001b[0m\u001b[0;34m(\u001b[0m\u001b[0mtrain_acc\u001b[0m\u001b[0;34m)\u001b[0m\u001b[0;34m\u001b[0m\u001b[0;34m\u001b[0m\u001b[0m\n\u001b[1;32m    152\u001b[0m \u001b[0;34m\u001b[0m\u001b[0m\n\u001b[0;32m--> 153\u001b[0;31m     \u001b[0mvalid_loss\u001b[0m\u001b[0;34m,\u001b[0m \u001b[0mvalid_acc\u001b[0m \u001b[0;34m=\u001b[0m \u001b[0mprocess\u001b[0m\u001b[0;34m(\u001b[0m\u001b[0mpolicy\u001b[0m\u001b[0;34m,\u001b[0m \u001b[0mvalid_loader\u001b[0m\u001b[0;34m,\u001b[0m \u001b[0;32mNone\u001b[0m\u001b[0;34m)\u001b[0m\u001b[0;34m\u001b[0m\u001b[0;34m\u001b[0m\u001b[0m\n\u001b[0m\u001b[1;32m    154\u001b[0m     \u001b[0mprint\u001b[0m\u001b[0;34m(\u001b[0m\u001b[0;34mf\"Valid loss: {valid_loss:0.3f}, accuracy {valid_acc:0.3f}\"\u001b[0m \u001b[0;34m)\u001b[0m\u001b[0;34m\u001b[0m\u001b[0;34m\u001b[0m\u001b[0m\n\u001b[1;32m    155\u001b[0m     \u001b[0mvalids\u001b[0m\u001b[0;34m.\u001b[0m\u001b[0mappend\u001b[0m\u001b[0;34m(\u001b[0m\u001b[0mvalid_acc\u001b[0m\u001b[0;34m)\u001b[0m\u001b[0;34m\u001b[0m\u001b[0;34m\u001b[0m\u001b[0m\n",
      "\u001b[0;32m<ipython-input-25-dffef19a50cd>\u001b[0m in \u001b[0;36mprocess\u001b[0;34m(policy, data_loader, optimizer)\u001b[0m\n\u001b[1;32m     29\u001b[0m     \u001b[0mpreds_list\u001b[0m \u001b[0;34m=\u001b[0m \u001b[0mtorch\u001b[0m\u001b[0;34m.\u001b[0m\u001b[0mTensor\u001b[0m\u001b[0;34m(\u001b[0m\u001b[0;34m[\u001b[0m\u001b[0;34m]\u001b[0m\u001b[0;34m)\u001b[0m\u001b[0;34m.\u001b[0m\u001b[0mto\u001b[0m\u001b[0;34m(\u001b[0m\u001b[0mDEVICE\u001b[0m\u001b[0;34m)\u001b[0m\u001b[0;34m\u001b[0m\u001b[0;34m\u001b[0m\u001b[0m\n\u001b[1;32m     30\u001b[0m     \u001b[0;32mwith\u001b[0m \u001b[0mtorch\u001b[0m\u001b[0;34m.\u001b[0m\u001b[0mset_grad_enabled\u001b[0m\u001b[0;34m(\u001b[0m\u001b[0moptimizer\u001b[0m \u001b[0;32mis\u001b[0m \u001b[0;32mnot\u001b[0m \u001b[0;32mNone\u001b[0m\u001b[0;34m)\u001b[0m\u001b[0;34m:\u001b[0m\u001b[0;34m\u001b[0m\u001b[0;34m\u001b[0m\u001b[0m\n\u001b[0;32m---> 31\u001b[0;31m         \u001b[0;32mfor\u001b[0m \u001b[0mbatch_data\u001b[0m \u001b[0;32min\u001b[0m \u001b[0mtqdm\u001b[0m\u001b[0;34m(\u001b[0m\u001b[0mdata_loader\u001b[0m\u001b[0;34m)\u001b[0m\u001b[0;34m:\u001b[0m\u001b[0;34m\u001b[0m\u001b[0;34m\u001b[0m\u001b[0m\n\u001b[0m\u001b[1;32m     32\u001b[0m             \u001b[0mbatch\u001b[0m\u001b[0;34m,\u001b[0m \u001b[0mtarget\u001b[0m \u001b[0;34m=\u001b[0m \u001b[0mbatch_data\u001b[0m\u001b[0;34m\u001b[0m\u001b[0;34m\u001b[0m\u001b[0m\n\u001b[1;32m     33\u001b[0m             \u001b[0mbatch\u001b[0m \u001b[0;34m=\u001b[0m \u001b[0mbatch\u001b[0m\u001b[0;34m.\u001b[0m\u001b[0mto\u001b[0m\u001b[0;34m(\u001b[0m\u001b[0mDEVICE\u001b[0m\u001b[0;34m)\u001b[0m\u001b[0;34m\u001b[0m\u001b[0;34m\u001b[0m\u001b[0m\n",
      "\u001b[0;32m/scratch/sagar/Projects/combopt/venv/lib/python3.6/site-packages/tqdm/std.py\u001b[0m in \u001b[0;36m__iter__\u001b[0;34m(self)\u001b[0m\n\u001b[1;32m   1178\u001b[0m \u001b[0;34m\u001b[0m\u001b[0m\n\u001b[1;32m   1179\u001b[0m         \u001b[0;32mtry\u001b[0m\u001b[0;34m:\u001b[0m\u001b[0;34m\u001b[0m\u001b[0;34m\u001b[0m\u001b[0m\n\u001b[0;32m-> 1180\u001b[0;31m             \u001b[0;32mfor\u001b[0m \u001b[0mobj\u001b[0m \u001b[0;32min\u001b[0m \u001b[0miterable\u001b[0m\u001b[0;34m:\u001b[0m\u001b[0;34m\u001b[0m\u001b[0;34m\u001b[0m\u001b[0m\n\u001b[0m\u001b[1;32m   1181\u001b[0m                 \u001b[0;32myield\u001b[0m \u001b[0mobj\u001b[0m\u001b[0;34m\u001b[0m\u001b[0;34m\u001b[0m\u001b[0m\n\u001b[1;32m   1182\u001b[0m                 \u001b[0;31m# Update and possibly print the progressbar.\u001b[0m\u001b[0;34m\u001b[0m\u001b[0;34m\u001b[0m\u001b[0;34m\u001b[0m\u001b[0m\n",
      "\u001b[0;32m/scratch/sagar/Projects/combopt/venv/lib/python3.6/site-packages/torch/utils/data/dataloader.py\u001b[0m in \u001b[0;36m__next__\u001b[0;34m(self)\u001b[0m\n\u001b[1;32m    515\u001b[0m             \u001b[0;32mif\u001b[0m \u001b[0mself\u001b[0m\u001b[0;34m.\u001b[0m\u001b[0m_sampler_iter\u001b[0m \u001b[0;32mis\u001b[0m \u001b[0;32mNone\u001b[0m\u001b[0;34m:\u001b[0m\u001b[0;34m\u001b[0m\u001b[0;34m\u001b[0m\u001b[0m\n\u001b[1;32m    516\u001b[0m                 \u001b[0mself\u001b[0m\u001b[0;34m.\u001b[0m\u001b[0m_reset\u001b[0m\u001b[0;34m(\u001b[0m\u001b[0;34m)\u001b[0m\u001b[0;34m\u001b[0m\u001b[0;34m\u001b[0m\u001b[0m\n\u001b[0;32m--> 517\u001b[0;31m             \u001b[0mdata\u001b[0m \u001b[0;34m=\u001b[0m \u001b[0mself\u001b[0m\u001b[0;34m.\u001b[0m\u001b[0m_next_data\u001b[0m\u001b[0;34m(\u001b[0m\u001b[0;34m)\u001b[0m\u001b[0;34m\u001b[0m\u001b[0;34m\u001b[0m\u001b[0m\n\u001b[0m\u001b[1;32m    518\u001b[0m             \u001b[0mself\u001b[0m\u001b[0;34m.\u001b[0m\u001b[0m_num_yielded\u001b[0m \u001b[0;34m+=\u001b[0m \u001b[0;36m1\u001b[0m\u001b[0;34m\u001b[0m\u001b[0;34m\u001b[0m\u001b[0m\n\u001b[1;32m    519\u001b[0m             \u001b[0;32mif\u001b[0m \u001b[0mself\u001b[0m\u001b[0;34m.\u001b[0m\u001b[0m_dataset_kind\u001b[0m \u001b[0;34m==\u001b[0m \u001b[0m_DatasetKind\u001b[0m\u001b[0;34m.\u001b[0m\u001b[0mIterable\u001b[0m \u001b[0;32mand\u001b[0m\u001b[0;31m \u001b[0m\u001b[0;31m\\\u001b[0m\u001b[0;34m\u001b[0m\u001b[0;34m\u001b[0m\u001b[0m\n",
      "\u001b[0;32m/scratch/sagar/Projects/combopt/venv/lib/python3.6/site-packages/torch/utils/data/dataloader.py\u001b[0m in \u001b[0;36m_next_data\u001b[0;34m(self)\u001b[0m\n\u001b[1;32m    555\u001b[0m     \u001b[0;32mdef\u001b[0m \u001b[0m_next_data\u001b[0m\u001b[0;34m(\u001b[0m\u001b[0mself\u001b[0m\u001b[0;34m)\u001b[0m\u001b[0;34m:\u001b[0m\u001b[0;34m\u001b[0m\u001b[0;34m\u001b[0m\u001b[0m\n\u001b[1;32m    556\u001b[0m         \u001b[0mindex\u001b[0m \u001b[0;34m=\u001b[0m \u001b[0mself\u001b[0m\u001b[0;34m.\u001b[0m\u001b[0m_next_index\u001b[0m\u001b[0;34m(\u001b[0m\u001b[0;34m)\u001b[0m  \u001b[0;31m# may raise StopIteration\u001b[0m\u001b[0;34m\u001b[0m\u001b[0;34m\u001b[0m\u001b[0m\n\u001b[0;32m--> 557\u001b[0;31m         \u001b[0mdata\u001b[0m \u001b[0;34m=\u001b[0m \u001b[0mself\u001b[0m\u001b[0;34m.\u001b[0m\u001b[0m_dataset_fetcher\u001b[0m\u001b[0;34m.\u001b[0m\u001b[0mfetch\u001b[0m\u001b[0;34m(\u001b[0m\u001b[0mindex\u001b[0m\u001b[0;34m)\u001b[0m  \u001b[0;31m# may raise StopIteration\u001b[0m\u001b[0;34m\u001b[0m\u001b[0;34m\u001b[0m\u001b[0m\n\u001b[0m\u001b[1;32m    558\u001b[0m         \u001b[0;32mif\u001b[0m \u001b[0mself\u001b[0m\u001b[0;34m.\u001b[0m\u001b[0m_pin_memory\u001b[0m\u001b[0;34m:\u001b[0m\u001b[0;34m\u001b[0m\u001b[0;34m\u001b[0m\u001b[0m\n\u001b[1;32m    559\u001b[0m             \u001b[0mdata\u001b[0m \u001b[0;34m=\u001b[0m \u001b[0m_utils\u001b[0m\u001b[0;34m.\u001b[0m\u001b[0mpin_memory\u001b[0m\u001b[0;34m.\u001b[0m\u001b[0mpin_memory\u001b[0m\u001b[0;34m(\u001b[0m\u001b[0mdata\u001b[0m\u001b[0;34m)\u001b[0m\u001b[0;34m\u001b[0m\u001b[0;34m\u001b[0m\u001b[0m\n",
      "\u001b[0;32m/scratch/sagar/Projects/combopt/venv/lib/python3.6/site-packages/torch/utils/data/_utils/fetch.py\u001b[0m in \u001b[0;36mfetch\u001b[0;34m(self, possibly_batched_index)\u001b[0m\n\u001b[1;32m     42\u001b[0m     \u001b[0;32mdef\u001b[0m \u001b[0mfetch\u001b[0m\u001b[0;34m(\u001b[0m\u001b[0mself\u001b[0m\u001b[0;34m,\u001b[0m \u001b[0mpossibly_batched_index\u001b[0m\u001b[0;34m)\u001b[0m\u001b[0;34m:\u001b[0m\u001b[0;34m\u001b[0m\u001b[0;34m\u001b[0m\u001b[0m\n\u001b[1;32m     43\u001b[0m         \u001b[0;32mif\u001b[0m \u001b[0mself\u001b[0m\u001b[0;34m.\u001b[0m\u001b[0mauto_collation\u001b[0m\u001b[0;34m:\u001b[0m\u001b[0;34m\u001b[0m\u001b[0;34m\u001b[0m\u001b[0m\n\u001b[0;32m---> 44\u001b[0;31m             \u001b[0mdata\u001b[0m \u001b[0;34m=\u001b[0m \u001b[0;34m[\u001b[0m\u001b[0mself\u001b[0m\u001b[0;34m.\u001b[0m\u001b[0mdataset\u001b[0m\u001b[0;34m[\u001b[0m\u001b[0midx\u001b[0m\u001b[0;34m]\u001b[0m \u001b[0;32mfor\u001b[0m \u001b[0midx\u001b[0m \u001b[0;32min\u001b[0m \u001b[0mpossibly_batched_index\u001b[0m\u001b[0;34m]\u001b[0m\u001b[0;34m\u001b[0m\u001b[0;34m\u001b[0m\u001b[0m\n\u001b[0m\u001b[1;32m     45\u001b[0m         \u001b[0;32melse\u001b[0m\u001b[0;34m:\u001b[0m\u001b[0;34m\u001b[0m\u001b[0;34m\u001b[0m\u001b[0m\n\u001b[1;32m     46\u001b[0m             \u001b[0mdata\u001b[0m \u001b[0;34m=\u001b[0m \u001b[0mself\u001b[0m\u001b[0;34m.\u001b[0m\u001b[0mdataset\u001b[0m\u001b[0;34m[\u001b[0m\u001b[0mpossibly_batched_index\u001b[0m\u001b[0;34m]\u001b[0m\u001b[0;34m\u001b[0m\u001b[0;34m\u001b[0m\u001b[0m\n",
      "\u001b[0;32m/scratch/sagar/Projects/combopt/venv/lib/python3.6/site-packages/torch/utils/data/_utils/fetch.py\u001b[0m in \u001b[0;36m<listcomp>\u001b[0;34m(.0)\u001b[0m\n\u001b[1;32m     42\u001b[0m     \u001b[0;32mdef\u001b[0m \u001b[0mfetch\u001b[0m\u001b[0;34m(\u001b[0m\u001b[0mself\u001b[0m\u001b[0;34m,\u001b[0m \u001b[0mpossibly_batched_index\u001b[0m\u001b[0;34m)\u001b[0m\u001b[0;34m:\u001b[0m\u001b[0;34m\u001b[0m\u001b[0;34m\u001b[0m\u001b[0m\n\u001b[1;32m     43\u001b[0m         \u001b[0;32mif\u001b[0m \u001b[0mself\u001b[0m\u001b[0;34m.\u001b[0m\u001b[0mauto_collation\u001b[0m\u001b[0;34m:\u001b[0m\u001b[0;34m\u001b[0m\u001b[0;34m\u001b[0m\u001b[0m\n\u001b[0;32m---> 44\u001b[0;31m             \u001b[0mdata\u001b[0m \u001b[0;34m=\u001b[0m \u001b[0;34m[\u001b[0m\u001b[0mself\u001b[0m\u001b[0;34m.\u001b[0m\u001b[0mdataset\u001b[0m\u001b[0;34m[\u001b[0m\u001b[0midx\u001b[0m\u001b[0;34m]\u001b[0m \u001b[0;32mfor\u001b[0m \u001b[0midx\u001b[0m \u001b[0;32min\u001b[0m \u001b[0mpossibly_batched_index\u001b[0m\u001b[0;34m]\u001b[0m\u001b[0;34m\u001b[0m\u001b[0;34m\u001b[0m\u001b[0m\n\u001b[0m\u001b[1;32m     45\u001b[0m         \u001b[0;32melse\u001b[0m\u001b[0;34m:\u001b[0m\u001b[0;34m\u001b[0m\u001b[0;34m\u001b[0m\u001b[0m\n\u001b[1;32m     46\u001b[0m             \u001b[0mdata\u001b[0m \u001b[0;34m=\u001b[0m \u001b[0mself\u001b[0m\u001b[0;34m.\u001b[0m\u001b[0mdataset\u001b[0m\u001b[0;34m[\u001b[0m\u001b[0mpossibly_batched_index\u001b[0m\u001b[0;34m]\u001b[0m\u001b[0;34m\u001b[0m\u001b[0;34m\u001b[0m\u001b[0m\n",
      "\u001b[0;32m/scratch/sagar/Projects/combopt/venv/lib/python3.6/site-packages/torch_geometric/data/dataset.py\u001b[0m in \u001b[0;36m__getitem__\u001b[0;34m(self, idx)\u001b[0m\n\u001b[1;32m    196\u001b[0m                 or (isinstance(idx, np.ndarray) and np.isscalar(idx))):\n\u001b[1;32m    197\u001b[0m \u001b[0;34m\u001b[0m\u001b[0m\n\u001b[0;32m--> 198\u001b[0;31m             \u001b[0mdata\u001b[0m \u001b[0;34m=\u001b[0m \u001b[0mself\u001b[0m\u001b[0;34m.\u001b[0m\u001b[0mget\u001b[0m\u001b[0;34m(\u001b[0m\u001b[0mself\u001b[0m\u001b[0;34m.\u001b[0m\u001b[0mindices\u001b[0m\u001b[0;34m(\u001b[0m\u001b[0;34m)\u001b[0m\u001b[0;34m[\u001b[0m\u001b[0midx\u001b[0m\u001b[0;34m]\u001b[0m\u001b[0;34m)\u001b[0m\u001b[0;34m\u001b[0m\u001b[0;34m\u001b[0m\u001b[0m\n\u001b[0m\u001b[1;32m    199\u001b[0m             \u001b[0mdata\u001b[0m \u001b[0;34m=\u001b[0m \u001b[0mdata\u001b[0m \u001b[0;32mif\u001b[0m \u001b[0mself\u001b[0m\u001b[0;34m.\u001b[0m\u001b[0mtransform\u001b[0m \u001b[0;32mis\u001b[0m \u001b[0;32mNone\u001b[0m \u001b[0;32melse\u001b[0m \u001b[0mself\u001b[0m\u001b[0;34m.\u001b[0m\u001b[0mtransform\u001b[0m\u001b[0;34m(\u001b[0m\u001b[0mdata\u001b[0m\u001b[0;34m)\u001b[0m\u001b[0;34m\u001b[0m\u001b[0;34m\u001b[0m\u001b[0m\n\u001b[1;32m    200\u001b[0m             \u001b[0;32mreturn\u001b[0m \u001b[0mdata\u001b[0m\u001b[0;34m\u001b[0m\u001b[0;34m\u001b[0m\u001b[0m\n",
      "\u001b[0;32m/scratch/sagar/Projects/combopt/branch-and-bound-ml/acr_bb/gnn_dataset.py\u001b[0m in \u001b[0;36mget\u001b[0;34m(self, index)\u001b[0m\n\u001b[1;32m     57\u001b[0m         \"\"\"\n\u001b[1;32m     58\u001b[0m         \u001b[0;32mwith\u001b[0m \u001b[0mgzip\u001b[0m\u001b[0;34m.\u001b[0m\u001b[0mopen\u001b[0m\u001b[0;34m(\u001b[0m\u001b[0mself\u001b[0m\u001b[0;34m.\u001b[0m\u001b[0msample_files\u001b[0m\u001b[0;34m[\u001b[0m\u001b[0mindex\u001b[0m\u001b[0;34m]\u001b[0m\u001b[0;34m,\u001b[0m \u001b[0;34m'rb'\u001b[0m\u001b[0;34m)\u001b[0m \u001b[0;32mas\u001b[0m \u001b[0mf\u001b[0m\u001b[0;34m:\u001b[0m\u001b[0;34m\u001b[0m\u001b[0;34m\u001b[0m\u001b[0m\n\u001b[0;32m---> 59\u001b[0;31m             \u001b[0msample\u001b[0m \u001b[0;34m=\u001b[0m \u001b[0mpickle\u001b[0m\u001b[0;34m.\u001b[0m\u001b[0mload\u001b[0m\u001b[0;34m(\u001b[0m\u001b[0mf\u001b[0m\u001b[0;34m)\u001b[0m\u001b[0;34m\u001b[0m\u001b[0;34m\u001b[0m\u001b[0m\n\u001b[0m\u001b[1;32m     60\u001b[0m \u001b[0;34m\u001b[0m\u001b[0m\n\u001b[1;32m     61\u001b[0m         \u001b[0msample_observation\u001b[0m\u001b[0;34m,\u001b[0m \u001b[0mtarget\u001b[0m\u001b[0;34m,\u001b[0m \u001b[0m_\u001b[0m\u001b[0;34m,\u001b[0m \u001b[0m_\u001b[0m\u001b[0;34m,\u001b[0m\u001b[0m_\u001b[0m \u001b[0;34m=\u001b[0m \u001b[0msample\u001b[0m\u001b[0;34m\u001b[0m\u001b[0;34m\u001b[0m\u001b[0m\n",
      "\u001b[0;32m/usr/lib64/python3.6/gzip.py\u001b[0m in \u001b[0;36mread\u001b[0;34m(self, size)\u001b[0m\n\u001b[1;32m    269\u001b[0m         \u001b[0;32mreturn\u001b[0m \u001b[0mlength\u001b[0m\u001b[0;34m\u001b[0m\u001b[0;34m\u001b[0m\u001b[0m\n\u001b[1;32m    270\u001b[0m \u001b[0;34m\u001b[0m\u001b[0m\n\u001b[0;32m--> 271\u001b[0;31m     \u001b[0;32mdef\u001b[0m \u001b[0mread\u001b[0m\u001b[0;34m(\u001b[0m\u001b[0mself\u001b[0m\u001b[0;34m,\u001b[0m \u001b[0msize\u001b[0m\u001b[0;34m=\u001b[0m\u001b[0;34m-\u001b[0m\u001b[0;36m1\u001b[0m\u001b[0;34m)\u001b[0m\u001b[0;34m:\u001b[0m\u001b[0;34m\u001b[0m\u001b[0;34m\u001b[0m\u001b[0m\n\u001b[0m\u001b[1;32m    272\u001b[0m         \u001b[0mself\u001b[0m\u001b[0;34m.\u001b[0m\u001b[0m_check_not_closed\u001b[0m\u001b[0;34m(\u001b[0m\u001b[0;34m)\u001b[0m\u001b[0;34m\u001b[0m\u001b[0;34m\u001b[0m\u001b[0m\n\u001b[1;32m    273\u001b[0m         \u001b[0;32mif\u001b[0m \u001b[0mself\u001b[0m\u001b[0;34m.\u001b[0m\u001b[0mmode\u001b[0m \u001b[0;34m!=\u001b[0m \u001b[0mREAD\u001b[0m\u001b[0;34m:\u001b[0m\u001b[0;34m\u001b[0m\u001b[0;34m\u001b[0m\u001b[0m\n",
      "\u001b[0;31mKeyboardInterrupt\u001b[0m: "
     ]
    }
   ],
   "source": [
    "import torch\n",
    "import torch.nn.functional as F\n",
    "import torch_geometric\n",
    "from gnn_dataset import BipartiteNodeData, GraphNodeDataset\n",
    "from gnn_policy import GNNPolicy, BipartiteGraphConvolution\n",
    "from tqdm import tqdm\n",
    "from pathlib import Path\n",
    "import torch.nn as nn\n",
    "import matplotlib.pyplot as plt\n",
    "import random\n",
    "import math \n",
    "\n",
    "LEARNING_RATE = 0.001\n",
    "NB_EPOCHS = 150\n",
    "PATIENCE = 10\n",
    "EARLY_STOPPING = 20\n",
    "DEVICE = torch.device('cuda' if torch.cuda.is_available() else 'cpu')\n",
    "sig = nn.Sigmoid()\n",
    "\n",
    "def process(policy, data_loader, optimizer=None):\n",
    "    \"\"\"\n",
    "    This function will process a whole epoch of training or validation, depending on whether an optimizer is provided.\n",
    "    \"\"\"\n",
    "    mean_loss = 0\n",
    "    mean_acc = 0\n",
    "\n",
    "    n_samples_processed = 0\n",
    "    targets_list = torch.Tensor([]).to(DEVICE)\n",
    "    preds_list = torch.Tensor([]).to(DEVICE)\n",
    "    with torch.set_grad_enabled(optimizer is not None):\n",
    "        for batch_data in tqdm(data_loader):\n",
    "            batch, target = batch_data\n",
    "            batch = batch.to(DEVICE)\n",
    "            target = target.to(DEVICE)*1\n",
    "            \n",
    "            logits = policy(batch.antenna_features, batch.edge_index, batch.edge_attr, batch.variable_features)\n",
    "            num_vars = int(batch.variable_features.shape[0]/batch.num_graphs)\n",
    "            wts = torch.tensor([batch.variable_features[i*num_vars, 9] for i in range(batch.num_graphs)], dtype=torch.float32)\n",
    "            wts = 2.68/wts\n",
    "            wts = wts.to(DEVICE)\n",
    "            logits = logits.reshape([batch.num_graphs, -1]).sum(dim=1)\n",
    "#             wts = target*29\n",
    "#             wts = wts+1\n",
    "            bce = nn.BCEWithLogitsLoss(weight=wts)\n",
    "#             bce = nn.BCEWithLogitsLoss()\n",
    "\n",
    "            \n",
    "            loss = bce(logits, target.to(torch.float))\n",
    "            \n",
    "            if optimizer is not None:\n",
    "                optimizer.zero_grad()\n",
    "                loss.backward()\n",
    "                optimizer.step()\n",
    "            predicted_bestindex = (sig(logits)>0.5)*1\n",
    "            accuracy = sum(predicted_bestindex.reshape(-1) == target)\n",
    "            \n",
    "            targets_list = torch.cat((targets_list, target))\n",
    "            preds_list = torch.cat((preds_list, predicted_bestindex))\n",
    "\n",
    "            mean_loss += loss.item() * batch.num_graphs\n",
    "            mean_acc += float(accuracy)\n",
    "            n_samples_processed += batch.num_graphs\n",
    "\n",
    "    stacked = torch.stack((targets_list, preds_list), dim=1).to(torch.int)\n",
    "    cmt = torch.zeros(2,2,dtype=torch.int64)\n",
    "    for p in stacked:\n",
    "        tl, pl = p.tolist()\n",
    "        cmt[tl, pl] = cmt[tl, pl] + 1\n",
    "    print(cmt)\n",
    "    precision = cmt[1,1]/(cmt[0,1]+cmt[1,1])\n",
    "    recall = cmt[1,1]/(cmt[1,0]+cmt[1,1])\n",
    "    mean_acc = 2* (precision*recall)/(precision+recall)\n",
    "    mean_loss /= n_samples_processed\n",
    "#     mean_acc /= n_samples_processed\n",
    "    return mean_loss, mean_acc\n",
    "\n",
    "\n",
    "def pad_tensor(input_, pad_sizes, pad_value=-1e8):\n",
    "    \"\"\"\n",
    "    This utility function splits a tensor and pads each split to make them all the same size, then stacks them.\n",
    "    \"\"\"\n",
    "    max_pad_size = pad_sizes.max()\n",
    "    output = input_.split(pad_sizes.cpu().numpy().tolist())\n",
    "    output = torch.stack([F.pad(slice_, (0, max_pad_size-slice_.size(0)), 'constant', pad_value)\n",
    "                          for slice_ in output], dim=0)\n",
    "    return output\n",
    "\n",
    "\n",
    "\n",
    "positive_sample_files = [str(path) for path in Path('data/1_gnn_10k_positive_node_samples/').glob('sample_*.pkl')]\n",
    "positive_trains = positive_sample_files[:int(0.8*len(positive_sample_files))]\n",
    "positive_valids = positive_sample_files[int(0.8*len(positive_sample_files)):]\n",
    "\n",
    "# negative_sample_files = ['data/1_gnn_10k_negative_node_samples/sample_'+str(i)+'.pkl' for i in sample_indices]\n",
    "negative_sample_files = [str(path) for path in Path('data/1_gnn_10k_negative_node_samples/').glob('sample_*.pkl')]\n",
    "negative_trains = negative_sample_files[:int(0.8*len(negative_sample_files))]\n",
    "negative_valids = negative_sample_files[int(0.8*len(negative_sample_files)):]\n",
    "\n",
    "random.shuffle(negative_trains)\n",
    "negative_trains = negative_trains[:len(positive_trains)]\n",
    "\n",
    "random.shuffle(negative_valids)\n",
    "negative_valids = negative_valids[:len(positive_valids)]\n",
    "\n",
    "\n",
    "train_files = positive_trains + negative_trains\n",
    "valid_files = positive_valids + negative_valids\n",
    "\n",
    "random.shuffle(train_files)\n",
    "\n",
    "\n",
    "# random.shuffle(positive_trains)\n",
    "# positive_sample_files = positive_sample_files[:100000]\n",
    "# print('files loaded')\n",
    "\n",
    "# # sample_indices = random.sample(range(0, 480000), 100000)\n",
    "# negative_sample_files = ['data/1_gnn_10k_negative_node_samples/sample_'+str(i)+'.pkl' for i in sample_indices]\n",
    "# negative_trains = negative_sample_files[:int(0.8*len(negative_sample_files))]\n",
    "# negative_valid = negative_sample_files[int(0.8*len(negative_sample_files)):]\n",
    "\n",
    "# imbalance_ratio = len(negative_sample_files)/len(positive_sample_files)\n",
    "\n",
    "# random.shuffle(negative_sample_files)\n",
    "# print(len(positive_sample_files), len(negative_sample_files))\n",
    "# negative_sample_files = negative_sample_files[:len(positive_sample_files)]\n",
    "# sample_files = positive_sample_files + negative_sample_files\n",
    "# random.shuffle(sample_files)\n",
    "\n",
    "# valid_sample_files = [str(path) for path in Path('node_samples/').glob('sample_*.pkl')]\n",
    "# random.shuffle(valid_sample_files)\n",
    "# valid_sample_files = valid_sample_files[:2000]\n",
    "\n",
    "# train_files = sample_files[:int(0.8*len(sample_files))]\n",
    "# valid_files = sample_files[int(0.8*len(sample_files)):]\n",
    "\n",
    "train_data = GraphNodeDataset(train_files)\n",
    "train_loader = torch_geometric.data.DataLoader(train_data, batch_size=128, shuffle=True)\n",
    "valid_data = GraphNodeDataset(valid_files)\n",
    "valid_loader = torch_geometric.data.DataLoader(valid_data, batch_size=128, shuffle=False)\n",
    "\n",
    "policy = GNNPolicy().to(DEVICE)\n",
    "optimizer = torch.optim.Adam(policy.parameters(), lr=LEARNING_RATE)\n",
    "\n",
    "valids = []\n",
    "trains = []\n",
    "for epoch in range(NB_EPOCHS):\n",
    "    print(f\"Epoch {epoch+1}\")\n",
    "    \n",
    "    train_loss, train_acc = process(policy, train_loader, optimizer)\n",
    "    print(f\"Train loss: {train_loss:0.3f}, f1-score {train_acc:0.3f}\" )\n",
    "    trains.append(train_acc)\n",
    "    \n",
    "    valid_loss, valid_acc = process(policy, valid_loader, None)\n",
    "    print(f\"Valid loss: {valid_loss:0.3f}, accuracy {valid_acc:0.3f}\" )\n",
    "    valids.append(valid_acc)\n",
    "\n",
    "    torch.save(policy.state_dict(), 'data/trained_params_gnn3.pkl')"
   ]
  },
  {
   "cell_type": "code",
   "execution_count": 27,
   "id": "4670fae7",
   "metadata": {},
   "outputs": [],
   "source": [
    "    torch.save(policy.state_dict(), 'data/trained_params_gnn3.pkl')"
   ]
  },
  {
   "cell_type": "code",
   "execution_count": 3,
   "id": "6910a67c",
   "metadata": {},
   "outputs": [],
   "source": [
    "valid_iter = iter(valid_loader)\n",
    "valid_set = next(valid_iter)"
   ]
  },
  {
   "cell_type": "code",
   "execution_count": 5,
   "id": "92f2009e",
   "metadata": {},
   "outputs": [],
   "source": [
    "b, t =valid_set"
   ]
  },
  {
   "cell_type": "code",
   "execution_count": 13,
   "id": "66b78a53",
   "metadata": {},
   "outputs": [
    {
     "data": {
      "text/plain": [
       "4.0"
      ]
     },
     "execution_count": 13,
     "metadata": {},
     "output_type": "execute_result"
    }
   ],
   "source": [
    "b.variable_features.shape[0]/b.num_graphs"
   ]
  },
  {
   "cell_type": "code",
   "execution_count": 20,
   "id": "6a08c0f6",
   "metadata": {},
   "outputs": [],
   "source": [
    "\n",
    "a = torch.tensor([2,3,4,5,5])"
   ]
  },
  {
   "cell_type": "code",
   "execution_count": 21,
   "id": "8f2874f6",
   "metadata": {},
   "outputs": [],
   "source": [
    "b = 0.1/a"
   ]
  },
  {
   "cell_type": "code",
   "execution_count": 22,
   "id": "3a5ffa07",
   "metadata": {},
   "outputs": [
    {
     "data": {
      "text/plain": [
       "tensor([0.0500, 0.0333, 0.0250, 0.0200, 0.0200])"
      ]
     },
     "execution_count": 22,
     "metadata": {},
     "output_type": "execute_result"
    }
   ],
   "source": [
    "b"
   ]
  },
  {
   "cell_type": "code",
   "execution_count": 9,
   "id": "11f8e02c",
   "metadata": {},
   "outputs": [
    {
     "data": {
      "text/plain": [
       "512"
      ]
     },
     "execution_count": 9,
     "metadata": {},
     "output_type": "execute_result"
    }
   ],
   "source": [
    "128*4"
   ]
  },
  {
   "cell_type": "code",
   "execution_count": 15,
   "id": "2a1a81e9",
   "metadata": {},
   "outputs": [],
   "source": [
    "torch.save(policy.state_dict(), 'data/trained_params_gnn2.pkl')"
   ]
  },
  {
   "cell_type": "code",
   "execution_count": 26,
   "id": "f03e55de",
   "metadata": {},
   "outputs": [
    {
     "data": {
      "text/plain": [
       "Text(0, 0.5, 'F1-score')"
      ]
     },
     "execution_count": 26,
     "metadata": {},
     "output_type": "execute_result"
    },
    {
     "data": {
      "image/png": "[encoded data removed]",
      "text/plain": [
       "<Figure size 432x288 with 1 Axes>"
      ]
     },
     "metadata": {
      "needs_background": "light"
     },
     "output_type": "display_data"
    }
   ],
   "source": [
    "import matplotlib.pyplot as plt\n",
    "\n",
    "plt.plot(trains)\n",
    "plt.plot(valids)\n",
    "plt.legend(['training', 'validation'])\n",
    "plt.xlabel('epochs')\n",
    "plt.ylabel('F1-score')"
   ]
  },
  {
   "cell_type": "code",
   "execution_count": null,
   "id": "7365e8ee",
   "metadata": {},
   "outputs": [],
   "source": []
  },
  {
   "cell_type": "code",
   "execution_count": null,
   "id": "00a97b6c",
   "metadata": {},
   "outputs": [],
   "source": [
    "samp = rand"
   ]
  },
  {
   "cell_type": "code",
   "execution_count": 9,
   "id": "6e1a547e",
   "metadata": {},
   "outputs": [
    {
     "data": {
      "text/plain": [
       "[939, 645, 782, 621, 404, 940, 375, 917, 870, 484]"
      ]
     },
     "execution_count": 9,
     "metadata": {},
     "output_type": "execute_result"
    }
   ],
   "source": [
    "import random\n",
    "random.sample(range(0, 1000), 10)"
   ]
  },
  {
   "cell_type": "code",
   "execution_count": 10,
   "id": "c9936c35",
   "metadata": {},
   "outputs": [],
   "source": [
    "a = ['sdfd_'+str(i)+'.pkl' for i in range(1000)]"
   ]
  },
  {
   "cell_type": "code",
   "execution_count": 11,
   "id": "27a3f442",
   "metadata": {},
   "outputs": [
    {
     "data": {
      "text/plain": [
       "['sdfd_0.pkl',\n",
       " 'sdfd_1.pkl',\n",
       " 'sdfd_2.pkl',\n",
       " 'sdfd_3.pkl',\n",
       " 'sdfd_4.pkl',\n",
       " 'sdfd_5.pkl',\n",
       " 'sdfd_6.pkl',\n",
       " 'sdfd_7.pkl',\n",
       " 'sdfd_8.pkl',\n",
       " 'sdfd_9.pkl',\n",
       " 'sdfd_10.pkl',\n",
       " 'sdfd_11.pkl',\n",
       " 'sdfd_12.pkl',\n",
       " 'sdfd_13.pkl',\n",
       " 'sdfd_14.pkl',\n",
       " 'sdfd_15.pkl',\n",
       " 'sdfd_16.pkl',\n",
       " 'sdfd_17.pkl',\n",
       " 'sdfd_18.pkl',\n",
       " 'sdfd_19.pkl',\n",
       " 'sdfd_20.pkl',\n",
       " 'sdfd_21.pkl',\n",
       " 'sdfd_22.pkl',\n",
       " 'sdfd_23.pkl',\n",
       " 'sdfd_24.pkl',\n",
       " 'sdfd_25.pkl',\n",
       " 'sdfd_26.pkl',\n",
       " 'sdfd_27.pkl',\n",
       " 'sdfd_28.pkl',\n",
       " 'sdfd_29.pkl',\n",
       " 'sdfd_30.pkl',\n",
       " 'sdfd_31.pkl',\n",
       " 'sdfd_32.pkl',\n",
       " 'sdfd_33.pkl',\n",
       " 'sdfd_34.pkl',\n",
       " 'sdfd_35.pkl',\n",
       " 'sdfd_36.pkl',\n",
       " 'sdfd_37.pkl',\n",
       " 'sdfd_38.pkl',\n",
       " 'sdfd_39.pkl',\n",
       " 'sdfd_40.pkl',\n",
       " 'sdfd_41.pkl',\n",
       " 'sdfd_42.pkl',\n",
       " 'sdfd_43.pkl',\n",
       " 'sdfd_44.pkl',\n",
       " 'sdfd_45.pkl',\n",
       " 'sdfd_46.pkl',\n",
       " 'sdfd_47.pkl',\n",
       " 'sdfd_48.pkl',\n",
       " 'sdfd_49.pkl',\n",
       " 'sdfd_50.pkl',\n",
       " 'sdfd_51.pkl',\n",
       " 'sdfd_52.pkl',\n",
       " 'sdfd_53.pkl',\n",
       " 'sdfd_54.pkl',\n",
       " 'sdfd_55.pkl',\n",
       " 'sdfd_56.pkl',\n",
       " 'sdfd_57.pkl',\n",
       " 'sdfd_58.pkl',\n",
       " 'sdfd_59.pkl',\n",
       " 'sdfd_60.pkl',\n",
       " 'sdfd_61.pkl',\n",
       " 'sdfd_62.pkl',\n",
       " 'sdfd_63.pkl',\n",
       " 'sdfd_64.pkl',\n",
       " 'sdfd_65.pkl',\n",
       " 'sdfd_66.pkl',\n",
       " 'sdfd_67.pkl',\n",
       " 'sdfd_68.pkl',\n",
       " 'sdfd_69.pkl',\n",
       " 'sdfd_70.pkl',\n",
       " 'sdfd_71.pkl',\n",
       " 'sdfd_72.pkl',\n",
       " 'sdfd_73.pkl',\n",
       " 'sdfd_74.pkl',\n",
       " 'sdfd_75.pkl',\n",
       " 'sdfd_76.pkl',\n",
       " 'sdfd_77.pkl',\n",
       " 'sdfd_78.pkl',\n",
       " 'sdfd_79.pkl',\n",
       " 'sdfd_80.pkl',\n",
       " 'sdfd_81.pkl',\n",
       " 'sdfd_82.pkl',\n",
       " 'sdfd_83.pkl',\n",
       " 'sdfd_84.pkl',\n",
       " 'sdfd_85.pkl',\n",
       " 'sdfd_86.pkl',\n",
       " 'sdfd_87.pkl',\n",
       " 'sdfd_88.pkl',\n",
       " 'sdfd_89.pkl',\n",
       " 'sdfd_90.pkl',\n",
       " 'sdfd_91.pkl',\n",
       " 'sdfd_92.pkl',\n",
       " 'sdfd_93.pkl',\n",
       " 'sdfd_94.pkl',\n",
       " 'sdfd_95.pkl',\n",
       " 'sdfd_96.pkl',\n",
       " 'sdfd_97.pkl',\n",
       " 'sdfd_98.pkl',\n",
       " 'sdfd_99.pkl',\n",
       " 'sdfd_100.pkl',\n",
       " 'sdfd_101.pkl',\n",
       " 'sdfd_102.pkl',\n",
       " 'sdfd_103.pkl',\n",
       " 'sdfd_104.pkl',\n",
       " 'sdfd_105.pkl',\n",
       " 'sdfd_106.pkl',\n",
       " 'sdfd_107.pkl',\n",
       " 'sdfd_108.pkl',\n",
       " 'sdfd_109.pkl',\n",
       " 'sdfd_110.pkl',\n",
       " 'sdfd_111.pkl',\n",
       " 'sdfd_112.pkl',\n",
       " 'sdfd_113.pkl',\n",
       " 'sdfd_114.pkl',\n",
       " 'sdfd_115.pkl',\n",
       " 'sdfd_116.pkl',\n",
       " 'sdfd_117.pkl',\n",
       " 'sdfd_118.pkl',\n",
       " 'sdfd_119.pkl',\n",
       " 'sdfd_120.pkl',\n",
       " 'sdfd_121.pkl',\n",
       " 'sdfd_122.pkl',\n",
       " 'sdfd_123.pkl',\n",
       " 'sdfd_124.pkl',\n",
       " 'sdfd_125.pkl',\n",
       " 'sdfd_126.pkl',\n",
       " 'sdfd_127.pkl',\n",
       " 'sdfd_128.pkl',\n",
       " 'sdfd_129.pkl',\n",
       " 'sdfd_130.pkl',\n",
       " 'sdfd_131.pkl',\n",
       " 'sdfd_132.pkl',\n",
       " 'sdfd_133.pkl',\n",
       " 'sdfd_134.pkl',\n",
       " 'sdfd_135.pkl',\n",
       " 'sdfd_136.pkl',\n",
       " 'sdfd_137.pkl',\n",
       " 'sdfd_138.pkl',\n",
       " 'sdfd_139.pkl',\n",
       " 'sdfd_140.pkl',\n",
       " 'sdfd_141.pkl',\n",
       " 'sdfd_142.pkl',\n",
       " 'sdfd_143.pkl',\n",
       " 'sdfd_144.pkl',\n",
       " 'sdfd_145.pkl',\n",
       " 'sdfd_146.pkl',\n",
       " 'sdfd_147.pkl',\n",
       " 'sdfd_148.pkl',\n",
       " 'sdfd_149.pkl',\n",
       " 'sdfd_150.pkl',\n",
       " 'sdfd_151.pkl',\n",
       " 'sdfd_152.pkl',\n",
       " 'sdfd_153.pkl',\n",
       " 'sdfd_154.pkl',\n",
       " 'sdfd_155.pkl',\n",
       " 'sdfd_156.pkl',\n",
       " 'sdfd_157.pkl',\n",
       " 'sdfd_158.pkl',\n",
       " 'sdfd_159.pkl',\n",
       " 'sdfd_160.pkl',\n",
       " 'sdfd_161.pkl',\n",
       " 'sdfd_162.pkl',\n",
       " 'sdfd_163.pkl',\n",
       " 'sdfd_164.pkl',\n",
       " 'sdfd_165.pkl',\n",
       " 'sdfd_166.pkl',\n",
       " 'sdfd_167.pkl',\n",
       " 'sdfd_168.pkl',\n",
       " 'sdfd_169.pkl',\n",
       " 'sdfd_170.pkl',\n",
       " 'sdfd_171.pkl',\n",
       " 'sdfd_172.pkl',\n",
       " 'sdfd_173.pkl',\n",
       " 'sdfd_174.pkl',\n",
       " 'sdfd_175.pkl',\n",
       " 'sdfd_176.pkl',\n",
       " 'sdfd_177.pkl',\n",
       " 'sdfd_178.pkl',\n",
       " 'sdfd_179.pkl',\n",
       " 'sdfd_180.pkl',\n",
       " 'sdfd_181.pkl',\n",
       " 'sdfd_182.pkl',\n",
       " 'sdfd_183.pkl',\n",
       " 'sdfd_184.pkl',\n",
       " 'sdfd_185.pkl',\n",
       " 'sdfd_186.pkl',\n",
       " 'sdfd_187.pkl',\n",
       " 'sdfd_188.pkl',\n",
       " 'sdfd_189.pkl',\n",
       " 'sdfd_190.pkl',\n",
       " 'sdfd_191.pkl',\n",
       " 'sdfd_192.pkl',\n",
       " 'sdfd_193.pkl',\n",
       " 'sdfd_194.pkl',\n",
       " 'sdfd_195.pkl',\n",
       " 'sdfd_196.pkl',\n",
       " 'sdfd_197.pkl',\n",
       " 'sdfd_198.pkl',\n",
       " 'sdfd_199.pkl',\n",
       " 'sdfd_200.pkl',\n",
       " 'sdfd_201.pkl',\n",
       " 'sdfd_202.pkl',\n",
       " 'sdfd_203.pkl',\n",
       " 'sdfd_204.pkl',\n",
       " 'sdfd_205.pkl',\n",
       " 'sdfd_206.pkl',\n",
       " 'sdfd_207.pkl',\n",
       " 'sdfd_208.pkl',\n",
       " 'sdfd_209.pkl',\n",
       " 'sdfd_210.pkl',\n",
       " 'sdfd_211.pkl',\n",
       " 'sdfd_212.pkl',\n",
       " 'sdfd_213.pkl',\n",
       " 'sdfd_214.pkl',\n",
       " 'sdfd_215.pkl',\n",
       " 'sdfd_216.pkl',\n",
       " 'sdfd_217.pkl',\n",
       " 'sdfd_218.pkl',\n",
       " 'sdfd_219.pkl',\n",
       " 'sdfd_220.pkl',\n",
       " 'sdfd_221.pkl',\n",
       " 'sdfd_222.pkl',\n",
       " 'sdfd_223.pkl',\n",
       " 'sdfd_224.pkl',\n",
       " 'sdfd_225.pkl',\n",
       " 'sdfd_226.pkl',\n",
       " 'sdfd_227.pkl',\n",
       " 'sdfd_228.pkl',\n",
       " 'sdfd_229.pkl',\n",
       " 'sdfd_230.pkl',\n",
       " 'sdfd_231.pkl',\n",
       " 'sdfd_232.pkl',\n",
       " 'sdfd_233.pkl',\n",
       " 'sdfd_234.pkl',\n",
       " 'sdfd_235.pkl',\n",
       " 'sdfd_236.pkl',\n",
       " 'sdfd_237.pkl',\n",
       " 'sdfd_238.pkl',\n",
       " 'sdfd_239.pkl',\n",
       " 'sdfd_240.pkl',\n",
       " 'sdfd_241.pkl',\n",
       " 'sdfd_242.pkl',\n",
       " 'sdfd_243.pkl',\n",
       " 'sdfd_244.pkl',\n",
       " 'sdfd_245.pkl',\n",
       " 'sdfd_246.pkl',\n",
       " 'sdfd_247.pkl',\n",
       " 'sdfd_248.pkl',\n",
       " 'sdfd_249.pkl',\n",
       " 'sdfd_250.pkl',\n",
       " 'sdfd_251.pkl',\n",
       " 'sdfd_252.pkl',\n",
       " 'sdfd_253.pkl',\n",
       " 'sdfd_254.pkl',\n",
       " 'sdfd_255.pkl',\n",
       " 'sdfd_256.pkl',\n",
       " 'sdfd_257.pkl',\n",
       " 'sdfd_258.pkl',\n",
       " 'sdfd_259.pkl',\n",
       " 'sdfd_260.pkl',\n",
       " 'sdfd_261.pkl',\n",
       " 'sdfd_262.pkl',\n",
       " 'sdfd_263.pkl',\n",
       " 'sdfd_264.pkl',\n",
       " 'sdfd_265.pkl',\n",
       " 'sdfd_266.pkl',\n",
       " 'sdfd_267.pkl',\n",
       " 'sdfd_268.pkl',\n",
       " 'sdfd_269.pkl',\n",
       " 'sdfd_270.pkl',\n",
       " 'sdfd_271.pkl',\n",
       " 'sdfd_272.pkl',\n",
       " 'sdfd_273.pkl',\n",
       " 'sdfd_274.pkl',\n",
       " 'sdfd_275.pkl',\n",
       " 'sdfd_276.pkl',\n",
       " 'sdfd_277.pkl',\n",
       " 'sdfd_278.pkl',\n",
       " 'sdfd_279.pkl',\n",
       " 'sdfd_280.pkl',\n",
       " 'sdfd_281.pkl',\n",
       " 'sdfd_282.pkl',\n",
       " 'sdfd_283.pkl',\n",
       " 'sdfd_284.pkl',\n",
       " 'sdfd_285.pkl',\n",
       " 'sdfd_286.pkl',\n",
       " 'sdfd_287.pkl',\n",
       " 'sdfd_288.pkl',\n",
       " 'sdfd_289.pkl',\n",
       " 'sdfd_290.pkl',\n",
       " 'sdfd_291.pkl',\n",
       " 'sdfd_292.pkl',\n",
       " 'sdfd_293.pkl',\n",
       " 'sdfd_294.pkl',\n",
       " 'sdfd_295.pkl',\n",
       " 'sdfd_296.pkl',\n",
       " 'sdfd_297.pkl',\n",
       " 'sdfd_298.pkl',\n",
       " 'sdfd_299.pkl',\n",
       " 'sdfd_300.pkl',\n",
       " 'sdfd_301.pkl',\n",
       " 'sdfd_302.pkl',\n",
       " 'sdfd_303.pkl',\n",
       " 'sdfd_304.pkl',\n",
       " 'sdfd_305.pkl',\n",
       " 'sdfd_306.pkl',\n",
       " 'sdfd_307.pkl',\n",
       " 'sdfd_308.pkl',\n",
       " 'sdfd_309.pkl',\n",
       " 'sdfd_310.pkl',\n",
       " 'sdfd_311.pkl',\n",
       " 'sdfd_312.pkl',\n",
       " 'sdfd_313.pkl',\n",
       " 'sdfd_314.pkl',\n",
       " 'sdfd_315.pkl',\n",
       " 'sdfd_316.pkl',\n",
       " 'sdfd_317.pkl',\n",
       " 'sdfd_318.pkl',\n",
       " 'sdfd_319.pkl',\n",
       " 'sdfd_320.pkl',\n",
       " 'sdfd_321.pkl',\n",
       " 'sdfd_322.pkl',\n",
       " 'sdfd_323.pkl',\n",
       " 'sdfd_324.pkl',\n",
       " 'sdfd_325.pkl',\n",
       " 'sdfd_326.pkl',\n",
       " 'sdfd_327.pkl',\n",
       " 'sdfd_328.pkl',\n",
       " 'sdfd_329.pkl',\n",
       " 'sdfd_330.pkl',\n",
       " 'sdfd_331.pkl',\n",
       " 'sdfd_332.pkl',\n",
       " 'sdfd_333.pkl',\n",
       " 'sdfd_334.pkl',\n",
       " 'sdfd_335.pkl',\n",
       " 'sdfd_336.pkl',\n",
       " 'sdfd_337.pkl',\n",
       " 'sdfd_338.pkl',\n",
       " 'sdfd_339.pkl',\n",
       " 'sdfd_340.pkl',\n",
       " 'sdfd_341.pkl',\n",
       " 'sdfd_342.pkl',\n",
       " 'sdfd_343.pkl',\n",
       " 'sdfd_344.pkl',\n",
       " 'sdfd_345.pkl',\n",
       " 'sdfd_346.pkl',\n",
       " 'sdfd_347.pkl',\n",
       " 'sdfd_348.pkl',\n",
       " 'sdfd_349.pkl',\n",
       " 'sdfd_350.pkl',\n",
       " 'sdfd_351.pkl',\n",
       " 'sdfd_352.pkl',\n",
       " 'sdfd_353.pkl',\n",
       " 'sdfd_354.pkl',\n",
       " 'sdfd_355.pkl',\n",
       " 'sdfd_356.pkl',\n",
       " 'sdfd_357.pkl',\n",
       " 'sdfd_358.pkl',\n",
       " 'sdfd_359.pkl',\n",
       " 'sdfd_360.pkl',\n",
       " 'sdfd_361.pkl',\n",
       " 'sdfd_362.pkl',\n",
       " 'sdfd_363.pkl',\n",
       " 'sdfd_364.pkl',\n",
       " 'sdfd_365.pkl',\n",
       " 'sdfd_366.pkl',\n",
       " 'sdfd_367.pkl',\n",
       " 'sdfd_368.pkl',\n",
       " 'sdfd_369.pkl',\n",
       " 'sdfd_370.pkl',\n",
       " 'sdfd_371.pkl',\n",
       " 'sdfd_372.pkl',\n",
       " 'sdfd_373.pkl',\n",
       " 'sdfd_374.pkl',\n",
       " 'sdfd_375.pkl',\n",
       " 'sdfd_376.pkl',\n",
       " 'sdfd_377.pkl',\n",
       " 'sdfd_378.pkl',\n",
       " 'sdfd_379.pkl',\n",
       " 'sdfd_380.pkl',\n",
       " 'sdfd_381.pkl',\n",
       " 'sdfd_382.pkl',\n",
       " 'sdfd_383.pkl',\n",
       " 'sdfd_384.pkl',\n",
       " 'sdfd_385.pkl',\n",
       " 'sdfd_386.pkl',\n",
       " 'sdfd_387.pkl',\n",
       " 'sdfd_388.pkl',\n",
       " 'sdfd_389.pkl',\n",
       " 'sdfd_390.pkl',\n",
       " 'sdfd_391.pkl',\n",
       " 'sdfd_392.pkl',\n",
       " 'sdfd_393.pkl',\n",
       " 'sdfd_394.pkl',\n",
       " 'sdfd_395.pkl',\n",
       " 'sdfd_396.pkl',\n",
       " 'sdfd_397.pkl',\n",
       " 'sdfd_398.pkl',\n",
       " 'sdfd_399.pkl',\n",
       " 'sdfd_400.pkl',\n",
       " 'sdfd_401.pkl',\n",
       " 'sdfd_402.pkl',\n",
       " 'sdfd_403.pkl',\n",
       " 'sdfd_404.pkl',\n",
       " 'sdfd_405.pkl',\n",
       " 'sdfd_406.pkl',\n",
       " 'sdfd_407.pkl',\n",
       " 'sdfd_408.pkl',\n",
       " 'sdfd_409.pkl',\n",
       " 'sdfd_410.pkl',\n",
       " 'sdfd_411.pkl',\n",
       " 'sdfd_412.pkl',\n",
       " 'sdfd_413.pkl',\n",
       " 'sdfd_414.pkl',\n",
       " 'sdfd_415.pkl',\n",
       " 'sdfd_416.pkl',\n",
       " 'sdfd_417.pkl',\n",
       " 'sdfd_418.pkl',\n",
       " 'sdfd_419.pkl',\n",
       " 'sdfd_420.pkl',\n",
       " 'sdfd_421.pkl',\n",
       " 'sdfd_422.pkl',\n",
       " 'sdfd_423.pkl',\n",
       " 'sdfd_424.pkl',\n",
       " 'sdfd_425.pkl',\n",
       " 'sdfd_426.pkl',\n",
       " 'sdfd_427.pkl',\n",
       " 'sdfd_428.pkl',\n",
       " 'sdfd_429.pkl',\n",
       " 'sdfd_430.pkl',\n",
       " 'sdfd_431.pkl',\n",
       " 'sdfd_432.pkl',\n",
       " 'sdfd_433.pkl',\n",
       " 'sdfd_434.pkl',\n",
       " 'sdfd_435.pkl',\n",
       " 'sdfd_436.pkl',\n",
       " 'sdfd_437.pkl',\n",
       " 'sdfd_438.pkl',\n",
       " 'sdfd_439.pkl',\n",
       " 'sdfd_440.pkl',\n",
       " 'sdfd_441.pkl',\n",
       " 'sdfd_442.pkl',\n",
       " 'sdfd_443.pkl',\n",
       " 'sdfd_444.pkl',\n",
       " 'sdfd_445.pkl',\n",
       " 'sdfd_446.pkl',\n",
       " 'sdfd_447.pkl',\n",
       " 'sdfd_448.pkl',\n",
       " 'sdfd_449.pkl',\n",
       " 'sdfd_450.pkl',\n",
       " 'sdfd_451.pkl',\n",
       " 'sdfd_452.pkl',\n",
       " 'sdfd_453.pkl',\n",
       " 'sdfd_454.pkl',\n",
       " 'sdfd_455.pkl',\n",
       " 'sdfd_456.pkl',\n",
       " 'sdfd_457.pkl',\n",
       " 'sdfd_458.pkl',\n",
       " 'sdfd_459.pkl',\n",
       " 'sdfd_460.pkl',\n",
       " 'sdfd_461.pkl',\n",
       " 'sdfd_462.pkl',\n",
       " 'sdfd_463.pkl',\n",
       " 'sdfd_464.pkl',\n",
       " 'sdfd_465.pkl',\n",
       " 'sdfd_466.pkl',\n",
       " 'sdfd_467.pkl',\n",
       " 'sdfd_468.pkl',\n",
       " 'sdfd_469.pkl',\n",
       " 'sdfd_470.pkl',\n",
       " 'sdfd_471.pkl',\n",
       " 'sdfd_472.pkl',\n",
       " 'sdfd_473.pkl',\n",
       " 'sdfd_474.pkl',\n",
       " 'sdfd_475.pkl',\n",
       " 'sdfd_476.pkl',\n",
       " 'sdfd_477.pkl',\n",
       " 'sdfd_478.pkl',\n",
       " 'sdfd_479.pkl',\n",
       " 'sdfd_480.pkl',\n",
       " 'sdfd_481.pkl',\n",
       " 'sdfd_482.pkl',\n",
       " 'sdfd_483.pkl',\n",
       " 'sdfd_484.pkl',\n",
       " 'sdfd_485.pkl',\n",
       " 'sdfd_486.pkl',\n",
       " 'sdfd_487.pkl',\n",
       " 'sdfd_488.pkl',\n",
       " 'sdfd_489.pkl',\n",
       " 'sdfd_490.pkl',\n",
       " 'sdfd_491.pkl',\n",
       " 'sdfd_492.pkl',\n",
       " 'sdfd_493.pkl',\n",
       " 'sdfd_494.pkl',\n",
       " 'sdfd_495.pkl',\n",
       " 'sdfd_496.pkl',\n",
       " 'sdfd_497.pkl',\n",
       " 'sdfd_498.pkl',\n",
       " 'sdfd_499.pkl',\n",
       " 'sdfd_500.pkl',\n",
       " 'sdfd_501.pkl',\n",
       " 'sdfd_502.pkl',\n",
       " 'sdfd_503.pkl',\n",
       " 'sdfd_504.pkl',\n",
       " 'sdfd_505.pkl',\n",
       " 'sdfd_506.pkl',\n",
       " 'sdfd_507.pkl',\n",
       " 'sdfd_508.pkl',\n",
       " 'sdfd_509.pkl',\n",
       " 'sdfd_510.pkl',\n",
       " 'sdfd_511.pkl',\n",
       " 'sdfd_512.pkl',\n",
       " 'sdfd_513.pkl',\n",
       " 'sdfd_514.pkl',\n",
       " 'sdfd_515.pkl',\n",
       " 'sdfd_516.pkl',\n",
       " 'sdfd_517.pkl',\n",
       " 'sdfd_518.pkl',\n",
       " 'sdfd_519.pkl',\n",
       " 'sdfd_520.pkl',\n",
       " 'sdfd_521.pkl',\n",
       " 'sdfd_522.pkl',\n",
       " 'sdfd_523.pkl',\n",
       " 'sdfd_524.pkl',\n",
       " 'sdfd_525.pkl',\n",
       " 'sdfd_526.pkl',\n",
       " 'sdfd_527.pkl',\n",
       " 'sdfd_528.pkl',\n",
       " 'sdfd_529.pkl',\n",
       " 'sdfd_530.pkl',\n",
       " 'sdfd_531.pkl',\n",
       " 'sdfd_532.pkl',\n",
       " 'sdfd_533.pkl',\n",
       " 'sdfd_534.pkl',\n",
       " 'sdfd_535.pkl',\n",
       " 'sdfd_536.pkl',\n",
       " 'sdfd_537.pkl',\n",
       " 'sdfd_538.pkl',\n",
       " 'sdfd_539.pkl',\n",
       " 'sdfd_540.pkl',\n",
       " 'sdfd_541.pkl',\n",
       " 'sdfd_542.pkl',\n",
       " 'sdfd_543.pkl',\n",
       " 'sdfd_544.pkl',\n",
       " 'sdfd_545.pkl',\n",
       " 'sdfd_546.pkl',\n",
       " 'sdfd_547.pkl',\n",
       " 'sdfd_548.pkl',\n",
       " 'sdfd_549.pkl',\n",
       " 'sdfd_550.pkl',\n",
       " 'sdfd_551.pkl',\n",
       " 'sdfd_552.pkl',\n",
       " 'sdfd_553.pkl',\n",
       " 'sdfd_554.pkl',\n",
       " 'sdfd_555.pkl',\n",
       " 'sdfd_556.pkl',\n",
       " 'sdfd_557.pkl',\n",
       " 'sdfd_558.pkl',\n",
       " 'sdfd_559.pkl',\n",
       " 'sdfd_560.pkl',\n",
       " 'sdfd_561.pkl',\n",
       " 'sdfd_562.pkl',\n",
       " 'sdfd_563.pkl',\n",
       " 'sdfd_564.pkl',\n",
       " 'sdfd_565.pkl',\n",
       " 'sdfd_566.pkl',\n",
       " 'sdfd_567.pkl',\n",
       " 'sdfd_568.pkl',\n",
       " 'sdfd_569.pkl',\n",
       " 'sdfd_570.pkl',\n",
       " 'sdfd_571.pkl',\n",
       " 'sdfd_572.pkl',\n",
       " 'sdfd_573.pkl',\n",
       " 'sdfd_574.pkl',\n",
       " 'sdfd_575.pkl',\n",
       " 'sdfd_576.pkl',\n",
       " 'sdfd_577.pkl',\n",
       " 'sdfd_578.pkl',\n",
       " 'sdfd_579.pkl',\n",
       " 'sdfd_580.pkl',\n",
       " 'sdfd_581.pkl',\n",
       " 'sdfd_582.pkl',\n",
       " 'sdfd_583.pkl',\n",
       " 'sdfd_584.pkl',\n",
       " 'sdfd_585.pkl',\n",
       " 'sdfd_586.pkl',\n",
       " 'sdfd_587.pkl',\n",
       " 'sdfd_588.pkl',\n",
       " 'sdfd_589.pkl',\n",
       " 'sdfd_590.pkl',\n",
       " 'sdfd_591.pkl',\n",
       " 'sdfd_592.pkl',\n",
       " 'sdfd_593.pkl',\n",
       " 'sdfd_594.pkl',\n",
       " 'sdfd_595.pkl',\n",
       " 'sdfd_596.pkl',\n",
       " 'sdfd_597.pkl',\n",
       " 'sdfd_598.pkl',\n",
       " 'sdfd_599.pkl',\n",
       " 'sdfd_600.pkl',\n",
       " 'sdfd_601.pkl',\n",
       " 'sdfd_602.pkl',\n",
       " 'sdfd_603.pkl',\n",
       " 'sdfd_604.pkl',\n",
       " 'sdfd_605.pkl',\n",
       " 'sdfd_606.pkl',\n",
       " 'sdfd_607.pkl',\n",
       " 'sdfd_608.pkl',\n",
       " 'sdfd_609.pkl',\n",
       " 'sdfd_610.pkl',\n",
       " 'sdfd_611.pkl',\n",
       " 'sdfd_612.pkl',\n",
       " 'sdfd_613.pkl',\n",
       " 'sdfd_614.pkl',\n",
       " 'sdfd_615.pkl',\n",
       " 'sdfd_616.pkl',\n",
       " 'sdfd_617.pkl',\n",
       " 'sdfd_618.pkl',\n",
       " 'sdfd_619.pkl',\n",
       " 'sdfd_620.pkl',\n",
       " 'sdfd_621.pkl',\n",
       " 'sdfd_622.pkl',\n",
       " 'sdfd_623.pkl',\n",
       " 'sdfd_624.pkl',\n",
       " 'sdfd_625.pkl',\n",
       " 'sdfd_626.pkl',\n",
       " 'sdfd_627.pkl',\n",
       " 'sdfd_628.pkl',\n",
       " 'sdfd_629.pkl',\n",
       " 'sdfd_630.pkl',\n",
       " 'sdfd_631.pkl',\n",
       " 'sdfd_632.pkl',\n",
       " 'sdfd_633.pkl',\n",
       " 'sdfd_634.pkl',\n",
       " 'sdfd_635.pkl',\n",
       " 'sdfd_636.pkl',\n",
       " 'sdfd_637.pkl',\n",
       " 'sdfd_638.pkl',\n",
       " 'sdfd_639.pkl',\n",
       " 'sdfd_640.pkl',\n",
       " 'sdfd_641.pkl',\n",
       " 'sdfd_642.pkl',\n",
       " 'sdfd_643.pkl',\n",
       " 'sdfd_644.pkl',\n",
       " 'sdfd_645.pkl',\n",
       " 'sdfd_646.pkl',\n",
       " 'sdfd_647.pkl',\n",
       " 'sdfd_648.pkl',\n",
       " 'sdfd_649.pkl',\n",
       " 'sdfd_650.pkl',\n",
       " 'sdfd_651.pkl',\n",
       " 'sdfd_652.pkl',\n",
       " 'sdfd_653.pkl',\n",
       " 'sdfd_654.pkl',\n",
       " 'sdfd_655.pkl',\n",
       " 'sdfd_656.pkl',\n",
       " 'sdfd_657.pkl',\n",
       " 'sdfd_658.pkl',\n",
       " 'sdfd_659.pkl',\n",
       " 'sdfd_660.pkl',\n",
       " 'sdfd_661.pkl',\n",
       " 'sdfd_662.pkl',\n",
       " 'sdfd_663.pkl',\n",
       " 'sdfd_664.pkl',\n",
       " 'sdfd_665.pkl',\n",
       " 'sdfd_666.pkl',\n",
       " 'sdfd_667.pkl',\n",
       " 'sdfd_668.pkl',\n",
       " 'sdfd_669.pkl',\n",
       " 'sdfd_670.pkl',\n",
       " 'sdfd_671.pkl',\n",
       " 'sdfd_672.pkl',\n",
       " 'sdfd_673.pkl',\n",
       " 'sdfd_674.pkl',\n",
       " 'sdfd_675.pkl',\n",
       " 'sdfd_676.pkl',\n",
       " 'sdfd_677.pkl',\n",
       " 'sdfd_678.pkl',\n",
       " 'sdfd_679.pkl',\n",
       " 'sdfd_680.pkl',\n",
       " 'sdfd_681.pkl',\n",
       " 'sdfd_682.pkl',\n",
       " 'sdfd_683.pkl',\n",
       " 'sdfd_684.pkl',\n",
       " 'sdfd_685.pkl',\n",
       " 'sdfd_686.pkl',\n",
       " 'sdfd_687.pkl',\n",
       " 'sdfd_688.pkl',\n",
       " 'sdfd_689.pkl',\n",
       " 'sdfd_690.pkl',\n",
       " 'sdfd_691.pkl',\n",
       " 'sdfd_692.pkl',\n",
       " 'sdfd_693.pkl',\n",
       " 'sdfd_694.pkl',\n",
       " 'sdfd_695.pkl',\n",
       " 'sdfd_696.pkl',\n",
       " 'sdfd_697.pkl',\n",
       " 'sdfd_698.pkl',\n",
       " 'sdfd_699.pkl',\n",
       " 'sdfd_700.pkl',\n",
       " 'sdfd_701.pkl',\n",
       " 'sdfd_702.pkl',\n",
       " 'sdfd_703.pkl',\n",
       " 'sdfd_704.pkl',\n",
       " 'sdfd_705.pkl',\n",
       " 'sdfd_706.pkl',\n",
       " 'sdfd_707.pkl',\n",
       " 'sdfd_708.pkl',\n",
       " 'sdfd_709.pkl',\n",
       " 'sdfd_710.pkl',\n",
       " 'sdfd_711.pkl',\n",
       " 'sdfd_712.pkl',\n",
       " 'sdfd_713.pkl',\n",
       " 'sdfd_714.pkl',\n",
       " 'sdfd_715.pkl',\n",
       " 'sdfd_716.pkl',\n",
       " 'sdfd_717.pkl',\n",
       " 'sdfd_718.pkl',\n",
       " 'sdfd_719.pkl',\n",
       " 'sdfd_720.pkl',\n",
       " 'sdfd_721.pkl',\n",
       " 'sdfd_722.pkl',\n",
       " 'sdfd_723.pkl',\n",
       " 'sdfd_724.pkl',\n",
       " 'sdfd_725.pkl',\n",
       " 'sdfd_726.pkl',\n",
       " 'sdfd_727.pkl',\n",
       " 'sdfd_728.pkl',\n",
       " 'sdfd_729.pkl',\n",
       " 'sdfd_730.pkl',\n",
       " 'sdfd_731.pkl',\n",
       " 'sdfd_732.pkl',\n",
       " 'sdfd_733.pkl',\n",
       " 'sdfd_734.pkl',\n",
       " 'sdfd_735.pkl',\n",
       " 'sdfd_736.pkl',\n",
       " 'sdfd_737.pkl',\n",
       " 'sdfd_738.pkl',\n",
       " 'sdfd_739.pkl',\n",
       " 'sdfd_740.pkl',\n",
       " 'sdfd_741.pkl',\n",
       " 'sdfd_742.pkl',\n",
       " 'sdfd_743.pkl',\n",
       " 'sdfd_744.pkl',\n",
       " 'sdfd_745.pkl',\n",
       " 'sdfd_746.pkl',\n",
       " 'sdfd_747.pkl',\n",
       " 'sdfd_748.pkl',\n",
       " 'sdfd_749.pkl',\n",
       " 'sdfd_750.pkl',\n",
       " 'sdfd_751.pkl',\n",
       " 'sdfd_752.pkl',\n",
       " 'sdfd_753.pkl',\n",
       " 'sdfd_754.pkl',\n",
       " 'sdfd_755.pkl',\n",
       " 'sdfd_756.pkl',\n",
       " 'sdfd_757.pkl',\n",
       " 'sdfd_758.pkl',\n",
       " 'sdfd_759.pkl',\n",
       " 'sdfd_760.pkl',\n",
       " 'sdfd_761.pkl',\n",
       " 'sdfd_762.pkl',\n",
       " 'sdfd_763.pkl',\n",
       " 'sdfd_764.pkl',\n",
       " 'sdfd_765.pkl',\n",
       " 'sdfd_766.pkl',\n",
       " 'sdfd_767.pkl',\n",
       " 'sdfd_768.pkl',\n",
       " 'sdfd_769.pkl',\n",
       " 'sdfd_770.pkl',\n",
       " 'sdfd_771.pkl',\n",
       " 'sdfd_772.pkl',\n",
       " 'sdfd_773.pkl',\n",
       " 'sdfd_774.pkl',\n",
       " 'sdfd_775.pkl',\n",
       " 'sdfd_776.pkl',\n",
       " 'sdfd_777.pkl',\n",
       " 'sdfd_778.pkl',\n",
       " 'sdfd_779.pkl',\n",
       " 'sdfd_780.pkl',\n",
       " 'sdfd_781.pkl',\n",
       " 'sdfd_782.pkl',\n",
       " 'sdfd_783.pkl',\n",
       " 'sdfd_784.pkl',\n",
       " 'sdfd_785.pkl',\n",
       " 'sdfd_786.pkl',\n",
       " 'sdfd_787.pkl',\n",
       " 'sdfd_788.pkl',\n",
       " 'sdfd_789.pkl',\n",
       " 'sdfd_790.pkl',\n",
       " 'sdfd_791.pkl',\n",
       " 'sdfd_792.pkl',\n",
       " 'sdfd_793.pkl',\n",
       " 'sdfd_794.pkl',\n",
       " 'sdfd_795.pkl',\n",
       " 'sdfd_796.pkl',\n",
       " 'sdfd_797.pkl',\n",
       " 'sdfd_798.pkl',\n",
       " 'sdfd_799.pkl',\n",
       " 'sdfd_800.pkl',\n",
       " 'sdfd_801.pkl',\n",
       " 'sdfd_802.pkl',\n",
       " 'sdfd_803.pkl',\n",
       " 'sdfd_804.pkl',\n",
       " 'sdfd_805.pkl',\n",
       " 'sdfd_806.pkl',\n",
       " 'sdfd_807.pkl',\n",
       " 'sdfd_808.pkl',\n",
       " 'sdfd_809.pkl',\n",
       " 'sdfd_810.pkl',\n",
       " 'sdfd_811.pkl',\n",
       " 'sdfd_812.pkl',\n",
       " 'sdfd_813.pkl',\n",
       " 'sdfd_814.pkl',\n",
       " 'sdfd_815.pkl',\n",
       " 'sdfd_816.pkl',\n",
       " 'sdfd_817.pkl',\n",
       " 'sdfd_818.pkl',\n",
       " 'sdfd_819.pkl',\n",
       " 'sdfd_820.pkl',\n",
       " 'sdfd_821.pkl',\n",
       " 'sdfd_822.pkl',\n",
       " 'sdfd_823.pkl',\n",
       " 'sdfd_824.pkl',\n",
       " 'sdfd_825.pkl',\n",
       " 'sdfd_826.pkl',\n",
       " 'sdfd_827.pkl',\n",
       " 'sdfd_828.pkl',\n",
       " 'sdfd_829.pkl',\n",
       " 'sdfd_830.pkl',\n",
       " 'sdfd_831.pkl',\n",
       " 'sdfd_832.pkl',\n",
       " 'sdfd_833.pkl',\n",
       " 'sdfd_834.pkl',\n",
       " 'sdfd_835.pkl',\n",
       " 'sdfd_836.pkl',\n",
       " 'sdfd_837.pkl',\n",
       " 'sdfd_838.pkl',\n",
       " 'sdfd_839.pkl',\n",
       " 'sdfd_840.pkl',\n",
       " 'sdfd_841.pkl',\n",
       " 'sdfd_842.pkl',\n",
       " 'sdfd_843.pkl',\n",
       " 'sdfd_844.pkl',\n",
       " 'sdfd_845.pkl',\n",
       " 'sdfd_846.pkl',\n",
       " 'sdfd_847.pkl',\n",
       " 'sdfd_848.pkl',\n",
       " 'sdfd_849.pkl',\n",
       " 'sdfd_850.pkl',\n",
       " 'sdfd_851.pkl',\n",
       " 'sdfd_852.pkl',\n",
       " 'sdfd_853.pkl',\n",
       " 'sdfd_854.pkl',\n",
       " 'sdfd_855.pkl',\n",
       " 'sdfd_856.pkl',\n",
       " 'sdfd_857.pkl',\n",
       " 'sdfd_858.pkl',\n",
       " 'sdfd_859.pkl',\n",
       " 'sdfd_860.pkl',\n",
       " 'sdfd_861.pkl',\n",
       " 'sdfd_862.pkl',\n",
       " 'sdfd_863.pkl',\n",
       " 'sdfd_864.pkl',\n",
       " 'sdfd_865.pkl',\n",
       " 'sdfd_866.pkl',\n",
       " 'sdfd_867.pkl',\n",
       " 'sdfd_868.pkl',\n",
       " 'sdfd_869.pkl',\n",
       " 'sdfd_870.pkl',\n",
       " 'sdfd_871.pkl',\n",
       " 'sdfd_872.pkl',\n",
       " 'sdfd_873.pkl',\n",
       " 'sdfd_874.pkl',\n",
       " 'sdfd_875.pkl',\n",
       " 'sdfd_876.pkl',\n",
       " 'sdfd_877.pkl',\n",
       " 'sdfd_878.pkl',\n",
       " 'sdfd_879.pkl',\n",
       " 'sdfd_880.pkl',\n",
       " 'sdfd_881.pkl',\n",
       " 'sdfd_882.pkl',\n",
       " 'sdfd_883.pkl',\n",
       " 'sdfd_884.pkl',\n",
       " 'sdfd_885.pkl',\n",
       " 'sdfd_886.pkl',\n",
       " 'sdfd_887.pkl',\n",
       " 'sdfd_888.pkl',\n",
       " 'sdfd_889.pkl',\n",
       " 'sdfd_890.pkl',\n",
       " 'sdfd_891.pkl',\n",
       " 'sdfd_892.pkl',\n",
       " 'sdfd_893.pkl',\n",
       " 'sdfd_894.pkl',\n",
       " 'sdfd_895.pkl',\n",
       " 'sdfd_896.pkl',\n",
       " 'sdfd_897.pkl',\n",
       " 'sdfd_898.pkl',\n",
       " 'sdfd_899.pkl',\n",
       " 'sdfd_900.pkl',\n",
       " 'sdfd_901.pkl',\n",
       " 'sdfd_902.pkl',\n",
       " 'sdfd_903.pkl',\n",
       " 'sdfd_904.pkl',\n",
       " 'sdfd_905.pkl',\n",
       " 'sdfd_906.pkl',\n",
       " 'sdfd_907.pkl',\n",
       " 'sdfd_908.pkl',\n",
       " 'sdfd_909.pkl',\n",
       " 'sdfd_910.pkl',\n",
       " 'sdfd_911.pkl',\n",
       " 'sdfd_912.pkl',\n",
       " 'sdfd_913.pkl',\n",
       " 'sdfd_914.pkl',\n",
       " 'sdfd_915.pkl',\n",
       " 'sdfd_916.pkl',\n",
       " 'sdfd_917.pkl',\n",
       " 'sdfd_918.pkl',\n",
       " 'sdfd_919.pkl',\n",
       " 'sdfd_920.pkl',\n",
       " 'sdfd_921.pkl',\n",
       " 'sdfd_922.pkl',\n",
       " 'sdfd_923.pkl',\n",
       " 'sdfd_924.pkl',\n",
       " 'sdfd_925.pkl',\n",
       " 'sdfd_926.pkl',\n",
       " 'sdfd_927.pkl',\n",
       " 'sdfd_928.pkl',\n",
       " 'sdfd_929.pkl',\n",
       " 'sdfd_930.pkl',\n",
       " 'sdfd_931.pkl',\n",
       " 'sdfd_932.pkl',\n",
       " 'sdfd_933.pkl',\n",
       " 'sdfd_934.pkl',\n",
       " 'sdfd_935.pkl',\n",
       " 'sdfd_936.pkl',\n",
       " 'sdfd_937.pkl',\n",
       " 'sdfd_938.pkl',\n",
       " 'sdfd_939.pkl',\n",
       " 'sdfd_940.pkl',\n",
       " 'sdfd_941.pkl',\n",
       " 'sdfd_942.pkl',\n",
       " 'sdfd_943.pkl',\n",
       " 'sdfd_944.pkl',\n",
       " 'sdfd_945.pkl',\n",
       " 'sdfd_946.pkl',\n",
       " 'sdfd_947.pkl',\n",
       " 'sdfd_948.pkl',\n",
       " 'sdfd_949.pkl',\n",
       " 'sdfd_950.pkl',\n",
       " 'sdfd_951.pkl',\n",
       " 'sdfd_952.pkl',\n",
       " 'sdfd_953.pkl',\n",
       " 'sdfd_954.pkl',\n",
       " 'sdfd_955.pkl',\n",
       " 'sdfd_956.pkl',\n",
       " 'sdfd_957.pkl',\n",
       " 'sdfd_958.pkl',\n",
       " 'sdfd_959.pkl',\n",
       " 'sdfd_960.pkl',\n",
       " 'sdfd_961.pkl',\n",
       " 'sdfd_962.pkl',\n",
       " 'sdfd_963.pkl',\n",
       " 'sdfd_964.pkl',\n",
       " 'sdfd_965.pkl',\n",
       " 'sdfd_966.pkl',\n",
       " 'sdfd_967.pkl',\n",
       " 'sdfd_968.pkl',\n",
       " 'sdfd_969.pkl',\n",
       " 'sdfd_970.pkl',\n",
       " 'sdfd_971.pkl',\n",
       " 'sdfd_972.pkl',\n",
       " 'sdfd_973.pkl',\n",
       " 'sdfd_974.pkl',\n",
       " 'sdfd_975.pkl',\n",
       " 'sdfd_976.pkl',\n",
       " 'sdfd_977.pkl',\n",
       " 'sdfd_978.pkl',\n",
       " 'sdfd_979.pkl',\n",
       " 'sdfd_980.pkl',\n",
       " 'sdfd_981.pkl',\n",
       " 'sdfd_982.pkl',\n",
       " 'sdfd_983.pkl',\n",
       " 'sdfd_984.pkl',\n",
       " 'sdfd_985.pkl',\n",
       " 'sdfd_986.pkl',\n",
       " 'sdfd_987.pkl',\n",
       " 'sdfd_988.pkl',\n",
       " 'sdfd_989.pkl',\n",
       " 'sdfd_990.pkl',\n",
       " 'sdfd_991.pkl',\n",
       " 'sdfd_992.pkl',\n",
       " 'sdfd_993.pkl',\n",
       " 'sdfd_994.pkl',\n",
       " 'sdfd_995.pkl',\n",
       " 'sdfd_996.pkl',\n",
       " 'sdfd_997.pkl',\n",
       " 'sdfd_998.pkl',\n",
       " 'sdfd_999.pkl']"
      ]
     },
     "execution_count": 11,
     "metadata": {},
     "output_type": "execute_result"
    }
   ],
   "source": [
    "a"
   ]
  },
  {
   "cell_type": "code",
   "execution_count": 36,
   "id": "4b86aa5b",
   "metadata": {},
   "outputs": [],
   "source": [
    "torch.save(policy.state_dict(), 'trained_params_balanced.pkl')"
   ]
  },
  {
   "cell_type": "code",
   "execution_count": 37,
   "id": "2c1e0046",
   "metadata": {},
   "outputs": [],
   "source": [
    "p = GNNPolicy()\n",
    "\n",
    "p.load_state_dict(torch.load('trained_params_balanced.pkl'))"
   ]
  },
  {
   "cell_type": "code",
   "execution_count": null,
   "id": "40d02f72",
   "metadata": {},
   "outputs": [],
   "source": []
  },
  {
   "cell_type": "markdown",
   "id": "2a3fbafc",
   "metadata": {},
   "source": [
    "# Test the trained policy in the environment"
   ]
  },
  {
   "cell_type": "code",
   "execution_count": null,
   "id": "2114061e",
   "metadata": {},
   "outputs": [],
   "source": []
  },
  {
   "cell_type": "code",
   "execution_count": 5,
   "id": "7400a540",
   "metadata": {},
   "outputs": [
    {
     "data": {
      "text/plain": [
       "tensor([4.])"
      ]
     },
     "execution_count": 5,
     "metadata": {},
     "output_type": "execute_result"
    }
   ],
   "source": [
    "import torch\n",
    "a = torch.tensor([])\n",
    "torch.cat((a, torch.tensor([4])))"
   ]
  },
  {
   "cell_type": "code",
   "execution_count": 17,
   "id": "af9a5393",
   "metadata": {},
   "outputs": [
    {
     "data": {
      "text/plain": [
       "tensor([4., 4., 4., 4., 4., 4., 4., 4.])"
      ]
     },
     "execution_count": 17,
     "metadata": {},
     "output_type": "execute_result"
    }
   ],
   "source": [
    "a = torch.cat((a, torch.tensor([4])))\n",
    "a"
   ]
  },
  {
   "cell_type": "code",
   "execution_count": null,
   "id": "bc1a23be",
   "metadata": {},
   "outputs": [],
   "source": []
  },
  {
   "cell_type": "code",
   "execution_count": null,
   "id": "53fee4ca",
   "metadata": {},
   "outputs": [],
   "source": []
  },
  {
   "cell_type": "code",
   "execution_count": 16,
   "id": "48ddc66c",
   "metadata": {},
   "outputs": [
    {
     "data": {
      "text/plain": [
       "Text(0, 0.5, 'imitation accuracy')"
      ]
     },
     "execution_count": 16,
     "metadata": {},
     "output_type": "execute_result"
    },
    {
     "data": {
      "image/png": "[encoded data removed]",
      "text/plain": [
       "<Figure size 432x360 with 1 Axes>"
      ]
     },
     "metadata": {
      "needs_background": "light"
     },
     "output_type": "display_data"
    }
   ],
   "source": [
    "import matplotlib.pyplot as plt\n",
    "import numpy as np\n",
    "\n",
    "x = np.arange(len(valids))\n",
    "x = 500*x\n",
    "\n",
    "fig, axes = plt.subplots(1,1, figsize=(6,5))\n",
    "plt.plot(x,valids)\n",
    "plt.xlabel('samples', fontsize=15)\n",
    "# plt.ylim([0.5,1])\n",
    "\n",
    "plt.ylabel('imitation accuracy', fontsize=15)"
   ]
  },
  {
   "cell_type": "code",
   "execution_count": 17,
   "id": "daff6d5c",
   "metadata": {},
   "outputs": [],
   "source": [
    "fig.savefig('imitation_acc.pdf')"
   ]
  },
  {
   "cell_type": "code",
   "execution_count": 4,
   "id": "991c8089",
   "metadata": {},
   "outputs": [
    {
     "name": "stdout",
     "output_type": "stream",
     "text": [
      "Collecting matplotlib\n",
      "  Downloading matplotlib-3.3.4-cp36-cp36m-manylinux1_x86_64.whl (11.5 MB)\n",
      "\u001b[K     |████████████████████████████████| 11.5 MB 2.9 MB/s eta 0:00:01\n",
      "\u001b[?25hRequirement already satisfied: python-dateutil>=2.1 in /scratch/sagar/Projects/combopt/venv/lib/python3.6/site-packages (from matplotlib) (2.8.2)\n",
      "Collecting cycler>=0.10\n",
      "  Downloading cycler-0.10.0-py2.py3-none-any.whl (6.5 kB)\n",
      "Requirement already satisfied: numpy>=1.15 in /scratch/sagar/Projects/combopt/venv/lib/python3.6/site-packages (from matplotlib) (1.19.5)\n",
      "Collecting kiwisolver>=1.0.1\n",
      "  Downloading kiwisolver-1.3.1-cp36-cp36m-manylinux1_x86_64.whl (1.1 MB)\n",
      "\u001b[K     |████████████████████████████████| 1.1 MB 23.6 MB/s eta 0:00:01\n",
      "\u001b[?25hRequirement already satisfied: pyparsing!=2.0.4,!=2.1.2,!=2.1.6,>=2.0.3 in /scratch/sagar/Projects/combopt/venv/lib/python3.6/site-packages (from matplotlib) (2.4.7)\n",
      "Collecting pillow>=6.2.0\n",
      "  Downloading Pillow-8.3.2-cp36-cp36m-manylinux_2_17_x86_64.manylinux2014_x86_64.whl (3.0 MB)\n",
      "\u001b[K     |████████████████████████████████| 3.0 MB 29.5 MB/s eta 0:00:01\n",
      "\u001b[?25hRequirement already satisfied: six in /scratch/sagar/Projects/combopt/venv/lib/python3.6/site-packages (from cycler>=0.10->matplotlib) (1.15.0)\n",
      "Installing collected packages: pillow, kiwisolver, cycler, matplotlib\n",
      "Successfully installed cycler-0.10.0 kiwisolver-1.3.1 matplotlib-3.3.4 pillow-8.3.2\n"
     ]
    }
   ],
   "source": [
    "!pip install matplotlib\n"
   ]
  },
  {
   "cell_type": "code",
   "execution_count": 52,
   "id": "19af6ff2",
   "metadata": {},
   "outputs": [],
   "source": [
    "torch.save(policy.state_dict(), 'trained_models/trained_params.pkl')"
   ]
  },
  {
   "cell_type": "code",
   "execution_count": 59,
   "id": "752b47e1",
   "metadata": {},
   "outputs": [],
   "source": [
    "policy_net = policy"
   ]
  },
  {
   "cell_type": "code",
   "execution_count": 73,
   "id": "df9d0d25",
   "metadata": {},
   "outputs": [],
   "source": [
    "import torch.nn as nn\n",
    "import numpy as np\n",
    "import torch\n",
    "import torch.nn.functional as F\n",
    "import torch_geometric\n",
    "from gnn_dataset import BipartiteNodeData, GraphDataset\n",
    "from gnn_policy import GNNPolicy, BipartiteGraphConvolution\n",
    "from tqdm import tqdm\n",
    "from pathlib import Path\n",
    "\n",
    "class Episode(object):\n",
    "    def __init__(self):\n",
    "        self.reward_history = []\n",
    "        self.reward_history = []\n",
    "        self.loss_history = []\n",
    "        self.gamma = 0.99\n",
    "        \n",
    "episode = Episode()\n",
    "\n",
    "\n",
    "def get_graph_from_obs(sample_observation, sample_action_set):\n",
    "       \n",
    "        sample_action_id = sample_action_set[0] # doen't matter won't be used\n",
    "        # We note on which variables we were allowed to branch, the scores as well as the choice \n",
    "        # taken by expert branching (relative to the candidates)\n",
    "        candidates = torch.LongTensor(np.array(sample_action_set, dtype=np.int32))\n",
    "        candidate_choice = torch.where(candidates == sample_action_id)[0][0]\n",
    "\n",
    "        graph = BipartiteNodeData(sample_observation.antenna_features, sample_observation.edge_index, \n",
    "                                  sample_observation.edge_features, sample_observation.variable_features,\n",
    "                                  candidates, candidate_choice)\n",
    "        \n",
    "        # We must tell pytorch geometric how many nodes there are, for indexing purposes\n",
    "        graph.num_nodes = sample_observation.antenna_features.shape[0] + sample_observation.variable_features.shape[0]\n",
    "        \n",
    "        return graph\n",
    "\n",
    "class Policy(nn.Module):\n",
    "    def __init__(self, init_policy_net, temperature):\n",
    "        super().__init__()\n",
    "        self.policy_net = init_policy_net\n",
    "        self.temperature = temperature\n",
    "        self.sf = nn.Softmax()\n",
    "        \n",
    "        # Episode policy and reward history \n",
    "        self.policy_history = torch.Tensor()\n",
    "        self.reward_episode = []\n",
    "        \n",
    "        # Overall reward and loss history\n",
    "        self.reward_history = []\n",
    "        self.loss_history = []\n",
    "        \n",
    "    def forward(self, state, action_set):\n",
    "        logits = self.policy_net(state.antenna_features, state.edge_index, state.edge_features, state.variable_features)\n",
    "        prob = Categorical(self.sf(logits/self.temperature))\n",
    "        action_id = prob.sample()\n",
    "        \n",
    "        # Add log probability of our chosen action to our history    \n",
    "        if self.policy_history.dim() != 0:\n",
    "            self.policy_history = torch.cat([self.policy_history, prob.log_prob(action_id)])\n",
    "        else:\n",
    "            self.policy_history = (prob.log_prob(action_id))\n",
    "        return action_id\n",
    "    \n",
    "\n",
    "def update_policy():\n",
    "    R = 0\n",
    "    rewards = []\n",
    "    \n",
    "    # Discount future rewards back to the present using gamma\n",
    "    for r in policy.reward_episode[::-1]:\n",
    "        R = r + policy.gamma * R\n",
    "        rewards.insert(0,R)\n",
    "        \n",
    "    # Scale rewards\n",
    "    rewards = torch.FloatTensor(rewards)\n",
    "    rewards = (rewards - rewards.mean()) / (rewards.std() + np.finfo(np.float32).eps)\n",
    "    \n",
    "    # Calculate loss\n",
    "    loss = (torch.sum(torch.mul(policy.policy_history, Variable(rewards)).mul(-1), -1))\n",
    "    \n",
    "    # Update network weights\n",
    "    optimizer.zero_grad()\n",
    "    loss.backward()\n",
    "    optimizer.step()\n",
    "    \n",
    "    #Save and intialize episode history counters\n",
    "    policy.loss_history.append(loss.data[0])\n",
    "    policy.reward_history.append(np.sum(policy.reward_episode))\n",
    "    policy.policy_history = Variable(torch.Tensor())\n",
    "    policy.reward_episode= []\n",
    "    \n"
   ]
  },
  {
   "cell_type": "code",
   "execution_count": 74,
   "id": "e5c3cc40",
   "metadata": {},
   "outputs": [
    {
     "ename": "SyntaxError",
     "evalue": "invalid syntax (<ipython-input-74-55a82e910406>, line 8)",
     "output_type": "error",
     "traceback": [
      "\u001b[0;36m  File \u001b[0;32m\"<ipython-input-74-55a82e910406>\"\u001b[0;36m, line \u001b[0;32m8\u001b[0m\n\u001b[0;31m    env =\u001b[0m\n\u001b[0m          ^\u001b[0m\n\u001b[0;31mSyntaxError\u001b[0m\u001b[0;31m:\u001b[0m invalid syntax\n"
     ]
    }
   ],
   "source": [
    "# add policy network\n",
    "MAX_ITER = 1000\n",
    "punishment_for_incomplete_episode = -1000\n",
    "\n",
    "# load and initialize policy\n",
    "temperature = 2\n",
    "policy = Policy(policy_net, temperature)\n",
    "env = ACRBBenv()\n",
    "\n",
    "def main(num_episodes):\n",
    "    running_reward = -1\n",
    "    avg_length = []\n",
    "    for i in range(num_episodes):\n",
    "        instance\n",
    "        obs, action_set, reward, done, _ = env.reset()\n",
    "        if done:\n",
    "            policy.reward_episode.append(reward)\n",
    "            update_policy()\n",
    "            continue\n",
    "        \n",
    "        for it in range(MAX_ITER):\n",
    "            state = get_graph_from_obs(obs, action_set)\n",
    "            action_id = policy(state, state)\n",
    "            # Step through environment using chosen action\n",
    "            obs, action_set, reward, done, _ = env.step(action_set[action_id])\n",
    "            # Save reward\n",
    "            policy.reward_episode.append(reward)\n",
    "            if done:\n",
    "                break\n",
    "        if not done:\n",
    "            policy.reward_episode.append(punishment_for_incomplete_episode)\n",
    "        update_policy()\n",
    "        avg_length.append(it)\n",
    "        if episode % 5 == 0:\n",
    "            print('Episode {}\\tAverage length: {:.2f}'.format(episode, np.mean(avg_length)))\n",
    "            avg_length = []\n"
   ]
  },
  {
   "cell_type": "code",
   "execution_count": 70,
   "id": "bdbc7eb0",
   "metadata": {},
   "outputs": [
    {
     "data": {
      "text/plain": [
       "2.0"
      ]
     },
     "execution_count": 70,
     "metadata": {},
     "output_type": "execute_result"
    }
   ],
   "source": [
    "import numpy as np\n",
    "np.mean([1,2,3])"
   ]
  },
  {
   "cell_type": "code",
   "execution_count": 72,
   "id": "b78f8428",
   "metadata": {},
   "outputs": [
    {
     "ename": "NameError",
     "evalue": "name 'env' is not defined",
     "output_type": "error",
     "traceback": [
      "\u001b[0;31m---------------------------------------------------------------------------\u001b[0m",
      "\u001b[0;31mNameError\u001b[0m                                 Traceback (most recent call last)",
      "\u001b[0;32m<ipython-input-72-4a71d3b24d3c>\u001b[0m in \u001b[0;36m<module>\u001b[0;34m\u001b[0m\n\u001b[1;32m      1\u001b[0m \u001b[0mnum_episodes\u001b[0m \u001b[0;34m=\u001b[0m \u001b[0;36m100\u001b[0m\u001b[0;34m\u001b[0m\u001b[0;34m\u001b[0m\u001b[0m\n\u001b[0;32m----> 2\u001b[0;31m \u001b[0mmain\u001b[0m\u001b[0;34m(\u001b[0m\u001b[0mnum_episodes\u001b[0m\u001b[0;34m)\u001b[0m\u001b[0;34m\u001b[0m\u001b[0;34m\u001b[0m\u001b[0m\n\u001b[0m",
      "\u001b[0;32m<ipython-input-71-e99ae4e427b9>\u001b[0m in \u001b[0;36mmain\u001b[0;34m(num_episodes)\u001b[0m\n\u001b[1;32m     12\u001b[0m     \u001b[0mavg_length\u001b[0m \u001b[0;34m=\u001b[0m \u001b[0;34m[\u001b[0m\u001b[0;34m]\u001b[0m\u001b[0;34m\u001b[0m\u001b[0;34m\u001b[0m\u001b[0m\n\u001b[1;32m     13\u001b[0m     \u001b[0;32mfor\u001b[0m \u001b[0mi\u001b[0m \u001b[0;32min\u001b[0m \u001b[0mrange\u001b[0m\u001b[0;34m(\u001b[0m\u001b[0mnum_episodes\u001b[0m\u001b[0;34m)\u001b[0m\u001b[0;34m:\u001b[0m\u001b[0;34m\u001b[0m\u001b[0;34m\u001b[0m\u001b[0m\n\u001b[0;32m---> 14\u001b[0;31m         \u001b[0mobs\u001b[0m\u001b[0;34m,\u001b[0m \u001b[0maction_set\u001b[0m\u001b[0;34m,\u001b[0m \u001b[0mreward\u001b[0m\u001b[0;34m,\u001b[0m \u001b[0mdone\u001b[0m\u001b[0;34m,\u001b[0m \u001b[0m_\u001b[0m \u001b[0;34m=\u001b[0m \u001b[0menv\u001b[0m\u001b[0;34m.\u001b[0m\u001b[0mreset\u001b[0m\u001b[0;34m(\u001b[0m\u001b[0;34m)\u001b[0m\u001b[0;34m\u001b[0m\u001b[0;34m\u001b[0m\u001b[0m\n\u001b[0m\u001b[1;32m     15\u001b[0m         \u001b[0;32mif\u001b[0m \u001b[0mdone\u001b[0m\u001b[0;34m:\u001b[0m\u001b[0;34m\u001b[0m\u001b[0;34m\u001b[0m\u001b[0m\n\u001b[1;32m     16\u001b[0m             \u001b[0mpolicy\u001b[0m\u001b[0;34m.\u001b[0m\u001b[0mreward_episode\u001b[0m\u001b[0;34m.\u001b[0m\u001b[0mappend\u001b[0m\u001b[0;34m(\u001b[0m\u001b[0mreward\u001b[0m\u001b[0;34m)\u001b[0m\u001b[0;34m\u001b[0m\u001b[0;34m\u001b[0m\u001b[0m\n",
      "\u001b[0;31mNameError\u001b[0m: name 'env' is not defined"
     ]
    }
   ],
   "source": [
    "num_episodes = 100\n",
    "main(num_episodes)"
   ]
  },
  {
   "cell_type": "code",
   "execution_count": 10,
   "id": "f44ea52d",
   "metadata": {},
   "outputs": [
    {
     "name": "stderr",
     "output_type": "stream",
     "text": [
      "/scratch/sagar/Projects/combopt/venv/lib/python3.6/site-packages/ipykernel_launcher.py:5: UserWarning: Implicit dimension choice for softmax has been deprecated. Change the call to include dim=X as an argument.\n",
      "  \"\"\"\n"
     ]
    }
   ],
   "source": [
    "import torch.nn as nn\n",
    "from torch.distributions import Categorical\n",
    "\n",
    "a = nn.Softmax()\n",
    "b = a(torch.rand(5))\n",
    "m = Categorical(b)\n",
    "action = m.sample()"
   ]
  },
  {
   "cell_type": "code",
   "execution_count": 2,
   "id": "f2d55bbd",
   "metadata": {},
   "outputs": [],
   "source": [
    "import torch_geometric"
   ]
  },
  {
   "cell_type": "code",
   "execution_count": 12,
   "id": "64a43515",
   "metadata": {},
   "outputs": [
    {
     "data": {
      "text/plain": [
       "tensor(-1.6983)"
      ]
     },
     "execution_count": 12,
     "metadata": {},
     "output_type": "execute_result"
    }
   ],
   "source": [
    "m.log_prob(action)"
   ]
  },
  {
   "cell_type": "code",
   "execution_count": null,
   "id": "592e671b",
   "metadata": {},
   "outputs": [],
   "source": []
  },
  {
   "cell_type": "code",
   "execution_count": null,
   "id": "49da0912",
   "metadata": {},
   "outputs": [],
   "source": [
    "\n",
    "        "
   ]
  },
  {
   "cell_type": "code",
   "execution_count": null,
   "id": "7b11d335",
   "metadata": {},
   "outputs": [],
   "source": []
  },
  {
   "cell_type": "code",
   "execution_count": null,
   "id": "4a1a66e9",
   "metadata": {},
   "outputs": [],
   "source": []
  },
  {
   "cell_type": "code",
   "execution_count": null,
   "id": "13007c8b",
   "metadata": {},
   "outputs": [],
   "source": []
  },
  {
   "cell_type": "code",
   "execution_count": null,
   "id": "3b10260b",
   "metadata": {},
   "outputs": [],
   "source": []
  },
  {
   "cell_type": "code",
   "execution_count": null,
   "id": "f1d43f5b",
   "metadata": {},
   "outputs": [],
   "source": []
  },
  {
   "cell_type": "code",
   "execution_count": null,
   "id": "c4755118",
   "metadata": {},
   "outputs": [],
   "source": []
  },
  {
   "cell_type": "code",
   "execution_count": null,
   "id": "e42b65db",
   "metadata": {},
   "outputs": [],
   "source": []
  },
  {
   "cell_type": "code",
   "execution_count": null,
   "id": "b3c62a67",
   "metadata": {},
   "outputs": [],
   "source": []
  },
  {
   "cell_type": "code",
   "execution_count": null,
   "id": "95180004",
   "metadata": {},
   "outputs": [],
   "source": []
  },
  {
   "cell_type": "code",
   "execution_count": null,
   "id": "746475c3",
   "metadata": {},
   "outputs": [],
   "source": []
  },
  {
   "cell_type": "code",
   "execution_count": null,
   "id": "707ca93b",
   "metadata": {},
   "outputs": [],
   "source": []
  }
 ],
 "metadata": {
  "kernelspec": {
   "display_name": "Python 3",
   "language": "python",
   "name": "python3"
  },
  "language_info": {
   "codemirror_mode": {
    "name": "ipython",
    "version": 3
   },
   "file_extension": ".py",
   "mimetype": "text/x-python",
   "name": "python",
   "nbconvert_exporter": "python",
   "pygments_lexer": "ipython3",
   "version": "3.6.8"
  }
 },
 "nbformat": 4,
 "nbformat_minor": 5
}
