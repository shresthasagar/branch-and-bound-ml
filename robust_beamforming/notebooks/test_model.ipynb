{
 "cells": [
  {
   "cell_type": "code",
   "execution_count": 1,
   "id": "cce24cf7",
   "metadata": {},
   "outputs": [],
   "source": [
    "import numpy as np\n",
    "import itertools\n",
    "from multiprocessing import Pool\n",
    "\n",
    "import os\n",
    "import pickle\n",
    "import time\n",
    "from pathlib import Path\n",
    "from models.model_tester import *\n",
    "from models.setting import MODEL_PATH, DATA_PATH, VALIDATION_PATH, TASK\n",
    "from robust_beamforming.convex_baseline import ReweightedPenalty\n",
    "\n",
    "N,M,max_ant = 10, 5, 5\n",
    "np.random.seed(seed = 1000)\n",
    "num_egs = 30\n",
    "\n",
    "ftpl2 = []\n",
    "nonftpl = []\n",
    "\n",
    "folder_path = os.path.join(VALIDATION_PATH, 'N={},M={},L={}'.format(N,M,max_ant))\n",
    "# folder_path = '/scratch/sagar/Projects/combopt/branch-and-bound-ml/single_group_as_bm/validation_set/N={},M={},L={}'.format(N,M,max_ant)\n",
    "\n",
    "if not os.path.isdir(folder_path):\n",
    "    Path(folder_path).mkdir(exist_ok=True)\n",
    "\n",
    "result_filepath = os.path.join(folder_path, 'egs_set_valid_30.pkl') \n",
    "\n",
    "MODEL_FOLDERPATH = os.path.join(MODEL_PATH, 'N={},M={},L={}'.format(N,M,max_ant))\n",
    "\n",
    "num_nodes_eval = 0\n",
    "time_total = 0\n",
    "obj_bb = 0\n",
    "obj_omar = 0\n",
    "obj_opt = 0\n",
    "t1 = time.time()\n",
    "\n",
    "instances = np.random.randn(num_egs, 2, N, M)\n"
   ]
  },
  {
   "cell_type": "code",
   "execution_count": 17,
   "id": "8fec3ed0",
   "metadata": {},
   "outputs": [
    {
     "name": "stdout",
     "output_type": "stream",
     "text": [
      "eg 13\n",
      "setting policy path /scratch/sagar/Projects/combopt/branch-and-bound-ml/robust_beamforming/trained_models/N=10,M=5,L=5/gnn_1_iter_13\n",
      "eg 13\n",
      "setting policy path /scratch/sagar/Projects/combopt/branch-and-bound-ml/robust_beamforming/trained_models/N=10,M=5,L=5/gnn_1_iter_13\n",
      "eg 13\n",
      "setting policy path /scratch/sagar/Projects/combopt/branch-and-bound-ml/robust_beamforming/trained_models/N=10,M=5,L=5/gnn_1_iter_13\n",
      "eg 13\n",
      "setting policy path /scratch/sagar/Projects/combopt/branch-and-bound-ml/robust_beamforming/trained_models/N=10,M=5,L=5/gnn_1_iter_13\n",
      "eg 13\n",
      "setting policy path /scratch/sagar/Projects/combopt/branch-and-bound-ml/robust_beamforming/trained_models/N=10,M=5,L=5/gnn_1_iter_13\n",
      "eg 13\n",
      "setting policy path /scratch/sagar/Projects/combopt/branch-and-bound-ml/robust_beamforming/trained_models/N=10,M=5,L=5/gnn_1_iter_13\n",
      "eg 13\n",
      "setting policy path /scratch/sagar/Projects/combopt/branch-and-bound-ml/robust_beamforming/trained_models/N=10,M=5,L=5/gnn_1_iter_13\n",
      "eg 13\n",
      "setting policy path /scratch/sagar/Projects/combopt/branch-and-bound-ml/robust_beamforming/trained_models/N=10,M=5,L=5/gnn_1_iter_13\n",
      "eg 13\n",
      "setting policy path /scratch/sagar/Projects/combopt/branch-and-bound-ml/robust_beamforming/trained_models/N=10,M=5,L=5/gnn_1_iter_13\n",
      "eg 13\n",
      "setting policy path /scratch/sagar/Projects/combopt/branch-and-bound-ml/robust_beamforming/trained_models/N=10,M=5,L=5/gnn_1_iter_13\n",
      "eg 13\n",
      "setting policy path /scratch/sagar/Projects/combopt/branch-and-bound-ml/robust_beamforming/trained_models/N=10,M=5,L=5/gnn_1_iter_13\n",
      "eg 13\n",
      "setting policy path /scratch/sagar/Projects/combopt/branch-and-bound-ml/robust_beamforming/trained_models/N=10,M=5,L=5/gnn_1_iter_13\n",
      "eg 13\n",
      "setting policy path /scratch/sagar/Projects/combopt/branch-and-bound-ml/robust_beamforming/trained_models/N=10,M=5,L=5/gnn_1_iter_13\n",
      "eg 13\n",
      "setting policy path /scratch/sagar/Projects/combopt/branch-and-bound-ml/robust_beamforming/trained_models/N=10,M=5,L=5/gnn_1_iter_13\n",
      "eg 13\n",
      "setting policy path /scratch/sagar/Projects/combopt/branch-and-bound-ml/robust_beamforming/trained_models/N=10,M=5,L=5/gnn_1_iter_13\n",
      "eg 13\n",
      "setting policy path /scratch/sagar/Projects/combopt/branch-and-bound-ml/robust_beamforming/trained_models/N=10,M=5,L=5/gnn_1_iter_13\n",
      "eg 13\n",
      "setting policy path /scratch/sagar/Projects/combopt/branch-and-bound-ml/robust_beamforming/trained_models/N=10,M=5,L=5/gnn_1_iter_13\n",
      "eg 13\n",
      "setting policy path /scratch/sagar/Projects/combopt/branch-and-bound-ml/robust_beamforming/trained_models/N=10,M=5,L=5/gnn_1_iter_13\n",
      "eg 13\n",
      "setting policy path /scratch/sagar/Projects/combopt/branch-and-bound-ml/robust_beamforming/trained_models/N=10,M=5,L=5/gnn_1_iter_13\n",
      "eg 13\n",
      "setting policy path /scratch/sagar/Projects/combopt/branch-and-bound-ml/robust_beamforming/trained_models/N=10,M=5,L=5/gnn_1_iter_13\n",
      "eg 13\n",
      "setting policy path /scratch/sagar/Projects/combopt/branch-and-bound-ml/robust_beamforming/trained_models/N=10,M=5,L=5/gnn_1_iter_13\n",
      "eg 13\n",
      "setting policy path /scratch/sagar/Projects/combopt/branch-and-bound-ml/robust_beamforming/trained_models/N=10,M=5,L=5/gnn_1_iter_13\n",
      "eg 13\n",
      "setting policy path /scratch/sagar/Projects/combopt/branch-and-bound-ml/robust_beamforming/trained_models/N=10,M=5,L=5/gnn_1_iter_13\n",
      "eg 13\n",
      "setting policy path /scratch/sagar/Projects/combopt/branch-and-bound-ml/robust_beamforming/trained_models/N=10,M=5,L=5/gnn_1_iter_13\n",
      "eg 13\n",
      "setting policy path /scratch/sagar/Projects/combopt/branch-and-bound-ml/robust_beamforming/trained_models/N=10,M=5,L=5/gnn_1_iter_13\n",
      "eg 13\n",
      "setting policy path /scratch/sagar/Projects/combopt/branch-and-bound-ml/robust_beamforming/trained_models/N=10,M=5,L=5/gnn_1_iter_13\n",
      "eg 13\n",
      "setting policy path /scratch/sagar/Projects/combopt/branch-and-bound-ml/robust_beamforming/trained_models/N=10,M=5,L=5/gnn_1_iter_13\n",
      "eg 13\n",
      "setting policy path /scratch/sagar/Projects/combopt/branch-and-bound-ml/robust_beamforming/trained_models/N=10,M=5,L=5/gnn_1_iter_13\n",
      "eg 13\n",
      "setting policy path /scratch/sagar/Projects/combopt/branch-and-bound-ml/robust_beamforming/trained_models/N=10,M=5,L=5/gnn_1_iter_13\n",
      "eg 13\n",
      "setting policy path /scratch/sagar/Projects/combopt/branch-and-bound-ml/robust_beamforming/trained_models/N=10,M=5,L=5/gnn_1_iter_13\n"
     ]
    },
    {
     "name": "stderr",
     "output_type": "stream",
     "text": [
      "/scratch/sagar/Projects/combopt/venv/lib/python3.6/site-packages/numpy/core/fromnumeric.py:3373: RuntimeWarning: Mean of empty slice.\n",
      "  out=out, **kwargs)\n",
      "/scratch/sagar/Projects/combopt/venv/lib/python3.6/site-packages/numpy/core/_methods.py:170: RuntimeWarning: invalid value encountered in double_scalars\n",
      "  ret = ret.dtype.type(ret / rcount)\n"
     ]
    }
   ],
   "source": [
    "\n",
    "######## ORACLE method #####################\n",
    "\n",
    "# t1 = time.time()\n",
    "# arguments_oracle = list(zip(list(instances), [max_ant]*num_egs))\n",
    "# with Pool(10) as p:\n",
    "#     out_oracle = p.map(solve_bb_pool, arguments_oracle)\n",
    "#     print('pool ended')\n",
    "\n",
    "# # out_oracle =[]\n",
    "# # for i in range(num_egs):\n",
    "# #     print('eg {}'.format(i))\n",
    "# #     try:\n",
    "# #         output = solve_bb_pool(arguments_oracle[i])\n",
    "# #         out_oracle.append(output)        \n",
    "# #     except SolverException as e:\n",
    "# #         print('Solver Exception: ', e)\n",
    "# #         out_oracle.append((None, np.inf, 0, 0))\n",
    "    \n",
    "# # Prune away the problem instances that were not feasible (could not be solved)\n",
    "# for i in range(len(out_oracle)-1, -1, -1):\n",
    "#     if out_oracle[i][1] == np.inf:\n",
    "#         del out_oracle[i]\n",
    "#         instances = np.concatenate((instances[:i,::], instances[i+1:,::]), axis=0)\n",
    "\n",
    "# optimal_solution_list = [out_oracle[i][0] for i in range(len(out_oracle))]\n",
    "# optimal_objective_list = [out_oracle[i][1] for i in range(len(out_oracle))]\n",
    "# oracle_timesteps = np.mean([out_oracle[i][2] for i in range(len(out_oracle))])\n",
    "# oracle_time = np.mean([out_oracle[i][3] for i in range(len(out_oracle))])\n",
    "\n",
    "\n",
    "# data = (instances, optimal_solution_list, optimal_objective_list, oracle_timesteps, oracle_time)\n",
    "# with open(result_filepath, 'wb') as handle:\n",
    "#     pickle.dump(data, handle, protocol=pickle.HIGHEST_PROTOCOL)    \n",
    "\n",
    "########### LOAD data ################################################\n",
    "\n",
    "with open(result_filepath, 'rb') as handle:\n",
    "    data = pickle.load(handle)\n",
    "    instances, optimal_solution_list, optimal_objective_list, oracle_timesteps, oracle_time = data\n",
    "\n",
    "########## OMAR'S Method #######################################\n",
    "# mask_omar = [0]*N\n",
    "# obj_omar = []\n",
    "# omar_time = 0\n",
    "# for i in range(len(instances)):\n",
    "#     H = instances[i,0,:,:] + 1j*instances[i,1,:,:]\n",
    "#     baseline = ReweightedPenalty(H=H, max_ant=max_ant)\n",
    "#     obj_bb += optimal_objective_list[i]\n",
    "#     t1 = time.time()\n",
    "#     obj, mask = baseline.solve()\n",
    "#     omar_time += time.time() - t1\n",
    "#     obj_omar.append(obj)\n",
    "#     mask_omar.append(mask)\n",
    "# omar_time = omar_time/len(instances)\n",
    "# print(omar_time)\n",
    "\n",
    "mean_obj_omar = 0\n",
    "mean_obj_bb = 0\n",
    "num_success = 0\n",
    "for i in range(len(obj_omar)):\n",
    "    if obj_omar[i] is not None:\n",
    "        mean_obj_omar += obj_omar[i]\n",
    "        mean_obj_bb += optimal_objective_list[i]\n",
    "        num_success += 1\n",
    "mean_obj_omar /= num_success\n",
    "mean_obj_bb /= num_success\n",
    "success_rate = num_success/len(obj_omar)\n",
    "omar_ogap = (mean_obj_omar - mean_obj_bb)/mean_obj_bb*100\n",
    "########## GNN MODEL ###################################\n",
    "\n",
    "model_ids = [13]\n",
    "\n",
    "### FTPL ###\n",
    "mask_omar = np.zeros(N)\n",
    "for i in model_ids:\n",
    "    MODEL_FILEPATH = os.path.join(MODEL_FOLDERPATH, 'gnn_1_iter_{}'.format(i))\n",
    "    t1 = time.time()\n",
    "    arguments_ml = list(zip(list(instances), \n",
    "                            optimal_solution_list, \n",
    "                            optimal_objective_list, \n",
    "                            range(len(instances)), \n",
    "                            [MODEL_FILEPATH]*len(instances), \n",
    "                            [max_ant]*len(instances), \n",
    "                            [mask_omar]*len(instances), \n",
    "                            [False]*len(instances)))\n",
    "    \n",
    "    out_ml = []\n",
    "    for j in range(len(instances)):\n",
    "        print('eg {}'.format(i))\n",
    "        try:\n",
    "            output = solve_ml_pool(arguments_ml[j])\n",
    "            out_ml.append(output)\n",
    "        except:\n",
    "            pass\n",
    "    \n",
    "    avg_ml_ogap = np.mean(np.array([out_ml[i][1] for i in range(len(out_ml))]))\n",
    "    avg_ml_steps = np.mean(np.array([out_ml[i][0] for i in range(len(out_ml))]))\n",
    "    ml_time = np.mean(np.array([out_ml[i][2] for i in range(len(out_ml))]))\n",
    "    ftpl2.append((avg_ml_ogap, avg_ml_steps, ml_time, oracle_timesteps, omar_ogap, success_rate, omar_time ))\n",
    "    \n",
    "result_data = (out_ml, mask_omar, obj_omar, ftpl2)\n",
    "ml_result_path = os.path.join(folder_path, 'egs_set_valid_30_result.pkl') \n",
    "with open(ml_result_path, 'wb') as handle:\n",
    "    pickle.dump(result_data, handle, protocol=pickle.HIGHEST_PROTOCOL)    \n"
   ]
  },
  {
   "cell_type": "code",
   "execution_count": 16,
   "id": "c3be910f",
   "metadata": {},
   "outputs": [
    {
     "data": {
      "text/plain": [
       "25"
      ]
     },
     "execution_count": 16,
     "metadata": {},
     "output_type": "execute_result"
    }
   ],
   "source": [
    "len(obj_omar)"
   ]
  },
  {
   "cell_type": "code",
   "execution_count": 13,
   "id": "52cd3368",
   "metadata": {},
   "outputs": [
    {
     "data": {
      "text/plain": [
       "array([ 1.63953471e+00,  1.33303443e-09,  1.04510401e-08,  1.63530453e+00,\n",
       "        2.58199536e+01,  7.37517472e+00,  1.65684864e-07,  1.00317924e-07,\n",
       "        5.71437364e-08,  1.48049799e-07,  2.19069308e+01,  1.61406006e+01,\n",
       "        6.01486055e-07,  2.03738916e+00,  1.10938869e+01,  1.71598081e+00,\n",
       "        8.52236027e+00,  0.00000000e+00,  1.37229496e+01,  3.15285316e+01,\n",
       "        6.78831187e+00,  3.17800221e+00, -1.87528460e-07,  1.49033235e-09,\n",
       "        2.46218197e+01])"
      ]
     },
     "execution_count": 13,
     "metadata": {},
     "output_type": "execute_result"
    }
   ],
   "source": [
    "((np.array(obj_omar) - np.array(optimal_objective_list[:25]))/np.array(optimal_objective_list[:25])*100)"
   ]
  },
  {
   "cell_type": "code",
   "execution_count": 12,
   "id": "4f8b408c",
   "metadata": {},
   "outputs": [
    {
     "data": {
      "text/plain": [
       "array([ 1.46913221e-02,  1.19797505e-11,  1.04279252e-10,  1.68267565e-02,\n",
       "        2.43575363e-01,  6.31802719e-02,  1.23049015e-09,  7.82988785e-10,\n",
       "        4.91188756e-10,  1.64523017e-09,  1.98557944e-01,  1.30738919e-01,\n",
       "        6.80079504e-09,  1.83781648e-02,  7.84425835e-02,  1.17784950e-02,\n",
       "        7.86137463e-02,  0.00000000e+00,  1.64728404e-01,  2.55450898e-01,\n",
       "        7.45286009e-02,  2.41824632e-02, -1.21661103e-09,  1.19360077e-11,\n",
       "        2.53700530e-01])"
      ]
     },
     "execution_count": 12,
     "metadata": {},
     "output_type": "execute_result"
    }
   ],
   "source": [
    "(np.array(obj_omar) - np.array(optimal_objective_list[:25]))"
   ]
  },
  {
   "cell_type": "code",
   "execution_count": null,
   "id": "595433a0",
   "metadata": {},
   "outputs": [],
   "source": []
  },
  {
   "cell_type": "code",
   "execution_count": 2,
   "id": "59995bed",
   "metadata": {},
   "outputs": [],
   "source": [
    "ml_result_path = os.path.join(folder_path, 'egs_set_valid_30_result.pkl') \n",
    "with open(ml_result_path, 'rb') as handle:\n",
    "    result_data = pickle.load(handle)\n"
   ]
  },
  {
   "cell_type": "code",
   "execution_count": 4,
   "id": "10195b42",
   "metadata": {},
   "outputs": [],
   "source": [
    "out_ml, mask_omar, obj_omar, ftpl2 = result_data"
   ]
  },
  {
   "cell_type": "code",
   "execution_count": 12,
   "id": "c7231b40",
   "metadata": {},
   "outputs": [],
   "source": [
    "num_success = 0\n",
    "for i in range(len(obj_omar)):\n",
    "    if obj_omar[i] is not None:\n",
    "        num_success += 1\n",
    "success_rate = num_success/len(obj_omar)"
   ]
  },
  {
   "cell_type": "markdown",
   "id": "a86ef457",
   "metadata": {},
   "source": [
    "# BB test"
   ]
  },
  {
   "cell_type": "code",
   "execution_count": 1,
   "id": "f5834a04",
   "metadata": {},
   "outputs": [
    {
     "name": "stdout",
     "output_type": "stream",
     "text": [
      "\n",
      "timestep 0 23.511320109546148 1.0676975936477855\n",
      "\n",
      "timestep 1 5.7937291299446025 1.0676975936477855\n",
      "\n",
      "timestep 2 4.745314000098209 1.0676975936477855\n",
      "\n",
      "timestep 3 4.745314000098209 1.304592921399743\n",
      "\n",
      "timestep 4 4.745314000098209 1.5298091746198585\n",
      "\n",
      "timestep 5 4.745314000098209 1.5298091746198585\n",
      "\n",
      "timestep 6 4.593059335137716 1.7507906381058058\n",
      "\n",
      "timestep 7 4.593059335137716 1.940311063628842\n",
      "\n",
      "timestep 8 4.593059335137716 1.940311063628842\n",
      "\n",
      "timestep 9 4.593059335137716 1.940311063628842\n",
      "\n",
      "timestep 10 4.593059335137716 2.0165686812949457\n",
      "\n",
      "timestep 11 4.593059335137716 2.0166600095048417\n",
      "\n",
      "timestep 12 4.593059335137716 2.0166600095048417\n",
      "\n",
      "timestep 13 4.593059335137716 2.4923252990082334\n",
      "\n",
      "timestep 14 4.593059335137716 2.741925629485381\n",
      "\n",
      "timestep 15 4.593059335137716 2.7994599914599867\n",
      "\n",
      "timestep 16 4.593059335137716 2.827942947502898\n",
      "\n",
      "timestep 17 4.593059335137716 3.014743065207813\n",
      "\n",
      "timestep 18 4.593059335137716 3.014743065207813\n",
      "\n",
      "timestep 19 4.593059335137716 3.1735165976561976\n",
      "\n",
      "timestep 20 4.593059335137716 3.1735165976561976\n",
      "\n",
      "timestep 21 4.593059335137716 3.442163623276196\n",
      "\n",
      "timestep 22 4.593059335137716 3.5221697003671\n",
      "\n",
      "timestep 23 4.593059335137716 3.5221697003671\n",
      "\n",
      "timestep 24 4.593059335137716 3.5221697003671\n",
      "\n",
      "timestep 25 4.593059335137716 4.052439614809213\n",
      "\n",
      "timestep 26 4.593059335137716 4.593059336106589\n",
      "\n",
      " #####################\n",
      "current node is already determined\n",
      "\n",
      "ended\n",
      "[1. 0. 0. 0. 1. 0. 1. 0.]\n",
      "4.593059335137716 80.30098342895508 27 4.593059335137716\n"
     ]
    }
   ],
   "source": [
    "from robust_beamforming.bb import solve_bb\n",
    "import numpy as np\n",
    "\n",
    "\n",
    "np.random.seed(seed = 100)\n",
    "N = 8\n",
    "M = 4\n",
    "max_ant = 3\n",
    "\n",
    "u_avg = 0\n",
    "t_avg = 0\n",
    "tstep_avg = 0\n",
    "for i in range(1):\n",
    "    H = np.random.randn(N, M) + 1j*np.random.randn(N,M)    \n",
    "    instance = np.stack((np.real(H), np.imag(H)), axis=0)\n",
    "    _, global_U, timesteps, t, lb_list, ub_list = solve_bb(instance, max_ant=max_ant, max_iter = 10000)\n",
    "    u_avg += global_U\n",
    "    t_avg += t\n",
    "    tstep_avg += timesteps\n",
    "\n",
    "print(u_avg, t_avg, tstep_avg, u_avg)\n",
    "\n",
    "# print('bb solution: {}, optimal: {}'.format(global_U, optimal_f) )\n"
   ]
  },
  {
   "cell_type": "code",
   "execution_count": 2,
   "id": "03f50649",
   "metadata": {},
   "outputs": [
    {
     "data": {
      "text/plain": [
       "Text(0, 0.5, 'objective value')"
      ]
     },
     "execution_count": 2,
     "metadata": {},
     "output_type": "execute_result"
    },
    {
     "data": {
      "image/png": "[encoded data removed]",
      "text/plain": [
       "<Figure size 504x504 with 1 Axes>"
      ]
     },
     "metadata": {
      "needs_background": "light"
     },
     "output_type": "display_data"
    }
   ],
   "source": [
    "import matplotlib.pyplot as plt\n",
    "\n",
    "fig2, ax = plt.subplots(1,1, figsize=(7,7))\n",
    "\n",
    "plt.plot(lb_list, linewidth=3)\n",
    "plt.plot(ub_list,linewidth=3)\n",
    "plt.legend(['lower bound', 'upper bound'],fontsize=15)\n",
    "plt.xlabel('steps', fontsize=15)\n",
    "plt.ylabel('objective value', fontsize=15)"
   ]
  },
  {
   "cell_type": "code",
   "execution_count": 3,
   "id": "d3796b7e",
   "metadata": {},
   "outputs": [],
   "source": [
    "fig2.savefig('data/n=8,m=4,l=3.pdf')"
   ]
  }
 ],
 "metadata": {
  "kernelspec": {
   "display_name": "Python 3",
   "language": "python",
   "name": "python3"
  },
  "language_info": {
   "codemirror_mode": {
    "name": "ipython",
    "version": 3
   },
   "file_extension": ".py",
   "mimetype": "text/x-python",
   "name": "python",
   "nbconvert_exporter": "python",
   "pygments_lexer": "ipython3",
   "version": "3.6.8"
  }
 },
 "nbformat": 4,
 "nbformat_minor": 5
}
