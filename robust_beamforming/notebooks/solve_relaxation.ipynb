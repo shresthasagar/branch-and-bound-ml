{
 "cells": [
  {
   "cell_type": "code",
   "execution_count": 1,
   "id": "40bdc743",
   "metadata": {},
   "outputs": [
    {
     "name": "stdout",
     "output_type": "stream",
     "text": [
      "[0 0 0 0 0 0 1 0 0 1 0 0] [0 0 0 0 0 1 0 0 0 0 0 0]\n",
      "0 0\n",
      "0 0\n",
      "0 1\n",
      "pruning 9\n",
      "0 0\n",
      "0 0\n",
      "0 1\n",
      "pruning 6\n",
      "1 0\n",
      "0 0\n",
      "0 0\n",
      "0 0\n",
      "0 0\n",
      "0 0\n",
      "12 8\n",
      "h short (10, 8)\n",
      "===============================================================================\n",
      "                                     CVXPY                                     \n",
      "                                    v1.1.15                                    \n",
      "===============================================================================\n",
      "(CVXPY) Mar 31 03:37:45 PM: Your problem has 808 variables, 17 constraints, and 0 parameters.\n",
      "(CVXPY) Mar 31 03:37:45 PM: It is compliant with the following grammars: DCP, DQCP\n",
      "(CVXPY) Mar 31 03:37:45 PM: (If you need to solve this problem multiple times, but with different data, consider using parameters.)\n",
      "(CVXPY) Mar 31 03:37:45 PM: CVXPY will first compile your problem; then, it will invoke a numerical solver to obtain a solution.\n",
      "-------------------------------------------------------------------------------\n",
      "                                  Compilation                                  \n",
      "-------------------------------------------------------------------------------\n",
      "(CVXPY) Mar 31 03:37:45 PM: Compiling problem (target solver=MOSEK).\n",
      "(CVXPY) Mar 31 03:37:45 PM: Reduction chain: Complex2Real -> Dcp2Cone -> CvxAttr2Constr -> ConeMatrixStuffing -> MOSEK\n",
      "(CVXPY) Mar 31 03:37:45 PM: Applying reduction Complex2Real\n",
      "(CVXPY) Mar 31 03:37:45 PM: Applying reduction Dcp2Cone\n"
     ]
    },
    {
     "name": "stderr",
     "output_type": "stream",
     "text": [
      "/scratch/sagar/Projects/combopt/venv/lib/python3.6/site-packages/cvxpy/expressions/expression.py:556: UserWarning: \n",
      "This use of ``*`` has resulted in matrix multiplication.\n",
      "Using ``*`` for matrix multiplication has been deprecated since CVXPY 1.1.\n",
      "    Use ``*`` for matrix-scalar and vector-scalar multiplication.\n",
      "    Use ``@`` for matrix-matrix and matrix-vector multiplication.\n",
      "    Use ``multiply`` for elementwise multiplication.\n",
      "This code path has been hit 1 times so far.\n",
      "\n",
      "  warnings.warn(msg, UserWarning)\n",
      "/scratch/sagar/Projects/combopt/venv/lib/python3.6/site-packages/cvxpy/expressions/expression.py:556: UserWarning: \n",
      "This use of ``*`` has resulted in matrix multiplication.\n",
      "Using ``*`` for matrix multiplication has been deprecated since CVXPY 1.1.\n",
      "    Use ``*`` for matrix-scalar and vector-scalar multiplication.\n",
      "    Use ``@`` for matrix-matrix and matrix-vector multiplication.\n",
      "    Use ``multiply`` for elementwise multiplication.\n",
      "This code path has been hit 2 times so far.\n",
      "\n",
      "  warnings.warn(msg, UserWarning)\n",
      "/scratch/sagar/Projects/combopt/venv/lib/python3.6/site-packages/cvxpy/expressions/expression.py:556: UserWarning: \n",
      "This use of ``*`` has resulted in matrix multiplication.\n",
      "Using ``*`` for matrix multiplication has been deprecated since CVXPY 1.1.\n",
      "    Use ``*`` for matrix-scalar and vector-scalar multiplication.\n",
      "    Use ``@`` for matrix-matrix and matrix-vector multiplication.\n",
      "    Use ``multiply`` for elementwise multiplication.\n",
      "This code path has been hit 3 times so far.\n",
      "\n",
      "  warnings.warn(msg, UserWarning)\n",
      "/scratch/sagar/Projects/combopt/venv/lib/python3.6/site-packages/cvxpy/expressions/expression.py:556: UserWarning: \n",
      "This use of ``*`` has resulted in matrix multiplication.\n",
      "Using ``*`` for matrix multiplication has been deprecated since CVXPY 1.1.\n",
      "    Use ``*`` for matrix-scalar and vector-scalar multiplication.\n",
      "    Use ``@`` for matrix-matrix and matrix-vector multiplication.\n",
      "    Use ``multiply`` for elementwise multiplication.\n",
      "This code path has been hit 4 times so far.\n",
      "\n",
      "  warnings.warn(msg, UserWarning)\n",
      "/scratch/sagar/Projects/combopt/venv/lib/python3.6/site-packages/cvxpy/expressions/expression.py:556: UserWarning: \n",
      "This use of ``*`` has resulted in matrix multiplication.\n",
      "Using ``*`` for matrix multiplication has been deprecated since CVXPY 1.1.\n",
      "    Use ``*`` for matrix-scalar and vector-scalar multiplication.\n",
      "    Use ``@`` for matrix-matrix and matrix-vector multiplication.\n",
      "    Use ``multiply`` for elementwise multiplication.\n",
      "This code path has been hit 5 times so far.\n",
      "\n",
      "  warnings.warn(msg, UserWarning)\n",
      "/scratch/sagar/Projects/combopt/venv/lib/python3.6/site-packages/cvxpy/expressions/expression.py:556: UserWarning: \n",
      "This use of ``*`` has resulted in matrix multiplication.\n",
      "Using ``*`` for matrix multiplication has been deprecated since CVXPY 1.1.\n",
      "    Use ``*`` for matrix-scalar and vector-scalar multiplication.\n",
      "    Use ``@`` for matrix-matrix and matrix-vector multiplication.\n",
      "    Use ``multiply`` for elementwise multiplication.\n",
      "This code path has been hit 6 times so far.\n",
      "\n",
      "  warnings.warn(msg, UserWarning)\n",
      "/scratch/sagar/Projects/combopt/venv/lib/python3.6/site-packages/cvxpy/expressions/expression.py:556: UserWarning: \n",
      "This use of ``*`` has resulted in matrix multiplication.\n",
      "Using ``*`` for matrix multiplication has been deprecated since CVXPY 1.1.\n",
      "    Use ``*`` for matrix-scalar and vector-scalar multiplication.\n",
      "    Use ``@`` for matrix-matrix and matrix-vector multiplication.\n",
      "    Use ``multiply`` for elementwise multiplication.\n",
      "This code path has been hit 7 times so far.\n",
      "\n",
      "  warnings.warn(msg, UserWarning)\n",
      "/scratch/sagar/Projects/combopt/venv/lib/python3.6/site-packages/cvxpy/expressions/expression.py:556: UserWarning: \n",
      "This use of ``*`` has resulted in matrix multiplication.\n",
      "Using ``*`` for matrix multiplication has been deprecated since CVXPY 1.1.\n",
      "    Use ``*`` for matrix-scalar and vector-scalar multiplication.\n",
      "    Use ``@`` for matrix-matrix and matrix-vector multiplication.\n",
      "    Use ``multiply`` for elementwise multiplication.\n",
      "This code path has been hit 8 times so far.\n",
      "\n",
      "  warnings.warn(msg, UserWarning)\n"
     ]
    },
    {
     "name": "stdout",
     "output_type": "stream",
     "text": [
      "(CVXPY) Mar 31 03:37:45 PM: Applying reduction CvxAttr2Constr\n",
      "(CVXPY) Mar 31 03:37:45 PM: Applying reduction ConeMatrixStuffing\n",
      "(CVXPY) Mar 31 03:37:47 PM: Applying reduction MOSEK\n",
      "(CVXPY) Mar 31 03:37:50 PM: Finished problem compilation (took 4.699e+00 seconds).\n",
      "-------------------------------------------------------------------------------\n",
      "                                Numerical solver                               \n",
      "-------------------------------------------------------------------------------\n",
      "(CVXPY) Mar 31 03:37:50 PM: Invoking solver MOSEK  to obtain a solution.\n",
      "\n",
      "\n",
      "Problem\n",
      "  Name                   :                 \n",
      "  Objective sense        : max             \n",
      "  Type                   : CONIC (conic optimization problem)\n",
      "  Constraints            : 1248            \n",
      "  Cones                  : 0               \n",
      "  Scalar variables       : 8               \n",
      "  Matrix variables       : 16              \n",
      "  Integer variables      : 0               \n",
      "\n",
      "Optimizer started.\n",
      "Problem\n",
      "  Name                   :                 \n",
      "  Objective sense        : max             \n",
      "  Type                   : CONIC (conic optimization problem)\n",
      "  Constraints            : 1248            \n",
      "  Cones                  : 0               \n",
      "  Scalar variables       : 8               \n",
      "  Matrix variables       : 16              \n",
      "  Integer variables      : 0               \n",
      "\n",
      "Optimizer  - threads                : 40              \n",
      "Optimizer  - solved problem         : the primal      \n",
      "Optimizer  - Constraints            : 1168\n",
      "Optimizer  - Cones                  : 0\n",
      "Optimizer  - Scalar variables       : 8                 conic                  : 0               \n",
      "Optimizer  - Semi-definite variables: 16                scalarized             : 3704            \n",
      "Factor     - setup time             : 0.11              dense det. time        : 0.00            \n",
      "Factor     - ML order time          : 0.04              GP order time          : 0.00            \n",
      "Factor     - nonzeros before factor : 6.83e+05          after factor           : 6.83e+05        \n",
      "Factor     - dense dim.             : 0                 flops                  : 7.09e+08        \n",
      "ITE PFEAS    DFEAS    GFEAS    PRSTATUS   POBJ              DOBJ              MU       TIME  \n",
      "0   2.0e+01  1.1e+00  6.0e-01  0.00e+00   1.600000000e+00   0.000000000e+00   1.0e+00  0.18  \n",
      "1   6.8e-01  3.8e-02  4.1e-03  1.94e+00   6.559420921e-02   1.470504615e-02   3.4e-02  0.45  \n",
      "2   1.5e-01  8.2e-03  6.0e-04  5.95e-01   1.146979993e-01   9.351227469e-02   7.4e-03  0.77  \n",
      "3   2.5e-02  1.4e-03  1.2e-04  -8.41e-02  9.805254608e-01   9.529386518e-01   1.3e-03  1.03  \n",
      "4   1.7e-02  9.4e-04  9.2e-05  1.46e-01   1.562662035e+00   1.529057609e+00   8.6e-04  1.34  \n",
      "5   2.4e-03  1.3e-04  1.1e-05  8.95e-02   3.987271190e+00   3.964599283e+00   1.2e-04  1.62  \n",
      "6   1.1e-03  5.9e-05  3.1e-06  6.17e-01   4.517022196e+00   4.507408296e+00   5.4e-05  1.90  \n",
      "7   3.6e-05  2.0e-06  1.4e-08  7.98e-01   5.030616716e+00   5.030436432e+00   1.8e-06  2.16  \n",
      "8   1.2e-06  6.6e-08  6.2e-11  9.93e-01   5.050325662e+00   5.050322352e+00   6.0e-08  2.46  \n",
      "9   4.8e-08  2.7e-09  4.9e-13  1.00e+00   5.051082345e+00   5.051082218e+00   2.4e-09  2.71  \n",
      "10  2.5e-09  1.2e-10  3.7e-15  1.00e+00   5.051109117e+00   5.051109113e+00   1.0e-10  2.96  \n",
      "Optimizer terminated. Time: 2.97    \n",
      "\n",
      "\n",
      "Interior-point solution summary\n",
      "  Problem status  : PRIMAL_AND_DUAL_FEASIBLE\n",
      "  Solution status : OPTIMAL\n",
      "  Primal.  obj: 5.0511091170e+00    nrm: 3e+01    Viol.  con: 5e-08    var: 0e+00    barvar: 0e+00  \n",
      "  Dual.    obj: 5.0511091129e+00    nrm: 3e+00    Viol.  con: 0e+00    var: 2e-16    barvar: 1e-09  \n",
      "-------------------------------------------------------------------------------\n",
      "                                    Summary                                    \n",
      "-------------------------------------------------------------------------------\n",
      "(CVXPY) Mar 31 03:37:53 PM: Problem status: optimal\n",
      "(CVXPY) Mar 31 03:37:53 PM: Optimal value: 5.051e+00\n",
      "(CVXPY) Mar 31 03:37:53 PM: Compilation took 4.699e+00 seconds\n",
      "(CVXPY) Mar 31 03:37:53 PM: Solver (including time spent in interface) took 3.396e+00 seconds\n",
      "[[ 0.14341253+0.14558697j -0.06098098+0.09741291j -0.16325515+0.21187567j\n",
      "  -0.21239699-0.02463037j  0.06288015-0.16878488j -0.25916177-0.06539685j\n",
      "  -0.15800594-0.15600077j -0.4185297 +0.37262983j]\n",
      " [-0.21866181-0.20797677j -0.01533568-0.26097788j  0.04323719-0.04907212j\n",
      "   0.26438776-0.14790594j -0.05104944-0.26818505j  0.55945441+0.j\n",
      "  -0.01786898+0.17971307j  0.12508612+0.10254952j]\n",
      " [ 0.30930816-0.29523336j  0.62571548+0.j          0.29388704+0.06421894j\n",
      "   0.16321328+0.16524916j -0.25994807-0.09497251j  0.3813364 -0.19535945j\n",
      "   0.52744433+0.j         -0.18532563-0.17179238j]\n",
      " [ 0.12017541-0.10008793j -0.196378  +0.01171986j -0.28014363+0.1580119j\n",
      "  -0.36549239-0.10004312j  0.15786587+0.24557693j -0.00763548+0.24235283j\n",
      "   0.39161007-0.28146569j -0.07018686+0.11298426j]\n",
      " [-0.05156084+0.01597343j -0.17590484+0.38872547j  0.54612799+0.j\n",
      "   0.4704204 +0.j          0.61289195+0.j          0.27041626-0.11689086j\n",
      "   0.04911753+0.16933994j  0.02505896-0.15179591j]\n",
      " [-0.24951549+0.15139647j -0.0585692 +0.18993092j  0.19781538-0.00096468j\n",
      "  -0.24600376-0.30119448j  0.10420451+0.1433626j  -0.17116955+0.08390992j\n",
      "   0.14307103-0.28926168j -0.07437605-0.04792867j]\n",
      " [-0.33757374+0.14759014j -0.16911747-0.28444392j  0.00105853+0.36969385j\n",
      "  -0.22280176+0.04807198j  0.3801899 -0.18032795j  0.03645435+0.20774426j\n",
      "  -0.16330092+0.14187019j  0.19926786+0.1869589j ]\n",
      " [ 0.04073984+0.33312084j  0.22625078-0.17716513j -0.1966755 +0.38220485j\n",
      "   0.22850561-0.22183532j  0.07335696+0.23753223j -0.06317595+0.04912917j\n",
      "  -0.15606103-0.15735375j -0.12262987-0.32549556j]\n",
      " [ 0.19678601+0.24621914j  0.0073588 -0.22149744j -0.08796917+0.06565843j\n",
      "   0.06177201+0.30180547j  0.08804487-0.15159141j -0.20591232+0.34427868j\n",
      "  -0.04481485+0.35733432j -0.08702152+0.16565204j]\n",
      " [ 0.47335687+0.j         -0.15243211+0.04727552j -0.14545542+0.19546372j\n",
      "   0.01909933+0.20925809j  0.2328894 +0.01798413j  0.17805734+0.08087849j\n",
      "   0.01264534+0.21519069j  0.56223492+0.j        ]]\n",
      "5.051109112860775\n",
      "True\n",
      "time taken 8.38011646270752\n"
     ]
    }
   ],
   "source": [
    "import cvxpy as cp\n",
    "import numpy as np\n",
    "\n",
    "import models.helper as helper\n",
    "\n",
    "def solve_rsdr_with_selected_antennas(H, gamma, sigma_sq, epsi, z_mask, z_sol):\n",
    "    \"\"\"\n",
    "    off_ants: antenna indices that need to be turned off\n",
    "    \"\"\"\n",
    "\n",
    "    N, M = H.shape\n",
    "    H_short = H.copy()\n",
    "\n",
    "    print(z_mask, z_sol)\n",
    "    for n in range(N-1, -1, -1):\n",
    "        print(z_sol[n], z_mask[n])\n",
    "        if z_mask[n] and not z_sol[n]:\n",
    "            print('pruning', n)\n",
    "            H_short = np.concatenate((H_short[:n, :], H_short[n+1:, :]), axis=0)\n",
    "    print(N,M)\n",
    "    print('h short', H_short.shape)\n",
    "\n",
    "    num_off_ants = np.sum(z_mask*(1-z_sol))\n",
    "    assert num_off_ants<N, 'number of allowed antennas < 1'\n",
    "    N = N - num_off_ants    \n",
    "    \n",
    "    W = []\n",
    "    for i in range(M):\n",
    "        W.append(cp.Variable((N,N), hermitian=True))\n",
    "\n",
    "    t = cp.Variable(M)\n",
    "    obj = cp.Minimize(cp.real(cp.sum([cp.trace(w) for w in W])))\n",
    "    constraints = []\n",
    "    for m in range(M):\n",
    "        Q = (1+1/gamma[m])*W[m] - cp.sum(W)\n",
    "        r = Q @ H_short[:,m:m+1]\n",
    "        s = H_short[:,m:m+1].conj().T @ Q @ H_short[:,m:m+1] - sigma_sq[m:m+1];\n",
    "        Z = cp.hstack((Q+t[m]*np.eye(N), r))\n",
    "        Z = cp.vstack((Z, cp.hstack((cp.conj(cp.transpose(r)), s-t[m:m+1]*epsi[m:m+1]**2 ))))\n",
    "        constraints += [W[m] >> 0]\n",
    "        constraints += [Z >> 0]\n",
    "    constraints += [t >= 0]\n",
    "    \n",
    "    prob = cp.Problem(obj, constraints)\n",
    "    prob.solve(verbose=True)\n",
    "\n",
    "    w_sols = []\n",
    "    for w in W:\n",
    "        evec, rank1 = helper.get_rank1(w.value)\n",
    "        assert rank1, 'solution not rank 1'\n",
    "        w_sols.append(np.reshape(evec, (N,1))) \n",
    "\n",
    "    W_sol = np.concatenate(w_sols, axis=1)\n",
    "\n",
    "    # return order: w_solution, objective_value, optimality\n",
    "\n",
    "    if prob.status in ['infeasible', 'unbounded']:\n",
    "        # print('infeasible antenna solution')\n",
    "        return np.zeros((N,M)), np.inf, False\n",
    "\n",
    "    return W_sol, prob.objective.value, True\n",
    "\n",
    "\n",
    "# Prepare Data\n",
    "\n",
    "N=12\n",
    "M=8\n",
    "\n",
    "sigma_sq= 0.1*np.ones(M)\n",
    "gamma= (10**(6/10))*np.ones(M) #SINR levels, from -10dB to 20dB\n",
    "epsi= np.sqrt(0.1)*np.ones(M)\n",
    "\n",
    "H = (np.random.randn(N,M) + 1j*np.random.randn(N,M))/np.sqrt(2);\n",
    "\n",
    "# H =np.array([[ 0.1414 + 0.3571j,   0.3104 + 0.8294j,  -0.2649 + 0.7797j],\n",
    "#     [-0.7342 + 0.0286j,  -0.0290 - 0.1337j,  -1.1732 - 0.2304j],\n",
    "#     [ 0.3743 - 0.1801j,   0.2576 + 0.0612j,  -0.2194 - 0.4121j],\n",
    "#     [-1.5677 - 0.3873j,  -0.5400 + 1.0695j,  -0.4384 + 0.5315j],\n",
    "#     [ 0.0760 + 1.1855j,   0.3886 + 1.2680j,  -0.7245 - 0.6108j]])\n",
    "\n",
    "z_mask = np.random.binomial(size=N, n=1, p= 0.1)\n",
    "z_sol = np.random.binomial(size=N, n=1, p= 0.1)\n",
    "\n",
    "num_offs = np.sum(z_mask*(1-z_sol))\n",
    "\n",
    "import time\n",
    "\n",
    "t1 = time.time()\n",
    "w, obj, optimal = solve_rsdr_with_selected_antennas(H, gamma, sigma_sq, epsi, z_mask, z_sol)\n",
    "time_taken = time.time()-t1\n",
    "\n",
    "print(w)\n",
    "print(obj)\n",
    "print(optimal)\n",
    "print('time taken', time_taken)\n",
    "\n",
    "# W = []\n",
    "# for i in range(M):\n",
    "#     W.append(cp.Variable((N,N), hermitian=True))\n",
    "\n",
    "# t = cp.Variable(M)\n",
    "\n",
    "# obj = cp.Minimize(cp.real(cp.sum([cp.trace(w) for w in W])))\n",
    "\n",
    "\n",
    "# constraints = []\n",
    "# for m in range(M):\n",
    "#     Q = (1+1/gamma[m])*W[m] - cp.sum(W)\n",
    "#     r = Q @ H[:,m:m+1]\n",
    "#     s = H[:,m:m+1].conj().T @ Q @ H[:,m:m+1] - sigma_sq[m:m+1];\n",
    "#     Z = cp.hstack((Q+t[m]*np.eye(N), r))\n",
    "#     Z = cp.vstack((Z, cp.hstack((cp.conj(cp.transpose(r)), s-t[m:m+1]*epsi[m:m+1]**2 ))))\n",
    "# #     constraints += [Z >= 0]\n",
    "#     constraints += [W[m] >> 0]\n",
    "#     constraints += [Z >> 0]\n",
    "\n",
    "# constraints += [t >= 0]\n",
    "\n",
    "# prob = cp.Problem(obj, constraints)\n",
    "# prob.solve()\n",
    "\n"
   ]
  },
  {
   "cell_type": "code",
   "execution_count": 61,
   "id": "5ea63d04",
   "metadata": {},
   "outputs": [
    {
     "data": {
      "text/plain": [
       "array([0, 0, 0, 0, 0, 0])"
      ]
     },
     "execution_count": 61,
     "metadata": {},
     "output_type": "execute_result"
    }
   ],
   "source": [
    "z_mask"
   ]
  },
  {
   "cell_type": "code",
   "execution_count": 54,
   "id": "918e9087",
   "metadata": {},
   "outputs": [
    {
     "data": {
      "text/plain": [
       "array([1, 0, 1, 0, 0, 0])"
      ]
     },
     "execution_count": 54,
     "metadata": {},
     "output_type": "execute_result"
    }
   ],
   "source": [
    "z_sol"
   ]
  },
  {
   "cell_type": "code",
   "execution_count": 28,
   "id": "61b14db0",
   "metadata": {},
   "outputs": [],
   "source": [
    "import models.helper as helper\n",
    "\n",
    "def solve_rsdr_with_selected_antennas(H, gamma, sigma_sq, epsi, z_mask, z_sol):\n",
    "    \"\"\"\n",
    "    off_ants: antenna indices that need to be turned off\n",
    "    \"\"\"\n",
    "    num_off_ants = np.sum(z_mask*(1-z_sol))\n",
    "\n",
    "    N, M = H.shape\n",
    "    print(H.shape)\n",
    "    assert num_off_ants<N, 'number of allowed antennas < 1'\n",
    "    N = N - num_off_ants\n",
    "\n",
    "    H_short = H.copy()\n",
    "\n",
    "    for n in range(N-1, -1, -1):\n",
    "        if z_mask[n] and not z_sol[n]:\n",
    "            H_short = np.concatenate((H_short[:n, :], H_short[n+1:, :]), axis=0)\n",
    "    print('h short', H_short.shape)\n",
    "    W = []\n",
    "    for i in range(M):\n",
    "        W.append(cp.Variable((N,N), hermitian=True))\n",
    "\n",
    "    t = cp.Variable(M)\n",
    "\n",
    "    obj = cp.Minimize(cp.real(cp.sum([cp.trace(w) for w in W])))\n",
    "\n",
    "\n",
    "    constraints = []\n",
    "    for m in range(M):\n",
    "        Q = (1+1/gamma[m])*W[m] - cp.sum(W)\n",
    "        r = Q @ H_short[:,m:m+1]\n",
    "        s = H_short[:,m:m+1].conj().T @ Q @ H[:,m:m+1] - sigma_sq[m:m+1];\n",
    "        Z = cp.hstack((Q+t[m]*np.eye(N), r))\n",
    "        Z = cp.vstack((Z, cp.hstack((cp.conj(cp.transpose(r)), s-t[m:m+1]*epsi[m:m+1]**2 ))))\n",
    "        constraints += [W[m] >> 0]\n",
    "        constraints += [Z >> 0]\n",
    "\n",
    "    constraints += [t >= 0]\n",
    "\n",
    "    prob = cp.Problem(obj, constraints)\n",
    "    prob.solve()\n",
    "\n",
    "    w_sols = []\n",
    "    for w in W:\n",
    "        evec, rank1 = helper.get_rank1(w.value)\n",
    "        assert rank1, 'solution not rank 1'\n",
    "        w_sols.append(np.reshape(evec, (N,1))) \n",
    "\n",
    "    W_sol = np.concatenate(w_sols, axis=1)\n",
    "\n",
    "    # return order: w_solution, objective_value, optimality\n",
    "\n",
    "    if prob.status in ['infeasible', 'unbounded']:\n",
    "        # print('infeasible antenna solution')\n",
    "        return np.zeros((N,M)), np.inf, False\n",
    "\n",
    "    return W_sol, prob.objective.value, True\n"
   ]
  },
  {
   "cell_type": "code",
   "execution_count": null,
   "id": "8a7856c6",
   "metadata": {},
   "outputs": [],
   "source": []
  },
  {
   "cell_type": "code",
   "execution_count": 19,
   "id": "e5953f67",
   "metadata": {},
   "outputs": [
    {
     "data": {
      "text/plain": [
       "(5, 5)"
      ]
     },
     "execution_count": 19,
     "metadata": {},
     "output_type": "execute_result"
    }
   ],
   "source": [
    "np.argnp.linalg.eig(np.random.rand(5,5))[1].shape"
   ]
  },
  {
   "cell_type": "code",
   "execution_count": 23,
   "id": "7cda522e",
   "metadata": {},
   "outputs": [
    {
     "data": {
      "text/plain": [
       "4"
      ]
     },
     "execution_count": 23,
     "metadata": {},
     "output_type": "execute_result"
    }
   ],
   "source": [
    "np.argmax(np.random.rand(5))"
   ]
  },
  {
   "cell_type": "code",
   "execution_count": null,
   "id": "a2b2b9d3",
   "metadata": {},
   "outputs": [],
   "source": []
  },
  {
   "cell_type": "code",
   "execution_count": 16,
   "id": "16a09e0d",
   "metadata": {},
   "outputs": [
    {
     "ename": "NameError",
     "evalue": "name 'evec' is not defined",
     "output_type": "error",
     "traceback": [
      "\u001b[0;31m---------------------------------------------------------------------------\u001b[0m",
      "\u001b[0;31mNameError\u001b[0m                                 Traceback (most recent call last)",
      "\u001b[0;32m<ipython-input-16-7170e9965a10>\u001b[0m in \u001b[0;36m<module>\u001b[0;34m\u001b[0m\n\u001b[0;32m----> 1\u001b[0;31m \u001b[0mevec\u001b[0m\u001b[0;34m\u001b[0m\u001b[0;34m\u001b[0m\u001b[0m\n\u001b[0m",
      "\u001b[0;31mNameError\u001b[0m: name 'evec' is not defined"
     ]
    }
   ],
   "source": [
    "evec"
   ]
  },
  {
   "cell_type": "code",
   "execution_count": 14,
   "id": "0c7416f4",
   "metadata": {},
   "outputs": [
    {
     "data": {
      "text/plain": [
       "(7, 3)"
      ]
     },
     "execution_count": 14,
     "metadata": {},
     "output_type": "execute_result"
    }
   ],
   "source": [
    "np.concatenate((np.random.rand(5,3), np.random.rand(2,3)), axis=0).shape"
   ]
  },
  {
   "cell_type": "code",
   "execution_count": null,
   "id": "84513a57",
   "metadata": {},
   "outputs": [],
   "source": []
  },
  {
   "cell_type": "code",
   "execution_count": 12,
   "id": "8376c587",
   "metadata": {},
   "outputs": [
    {
     "data": {
      "text/plain": [
       "[5, 4, 3, 2]"
      ]
     },
     "execution_count": 12,
     "metadata": {},
     "output_type": "execute_result"
    }
   ],
   "source": [
    "list(range(5,1,-1))"
   ]
  },
  {
   "cell_type": "code",
   "execution_count": 9,
   "id": "e0621df4",
   "metadata": {},
   "outputs": [],
   "source": [
    "off_ants = np.random.permutation(5)\n",
    "off_ants = off_ants[]"
   ]
  },
  {
   "cell_type": "code",
   "execution_count": 10,
   "id": "91b2b952",
   "metadata": {},
   "outputs": [
    {
     "data": {
      "text/plain": [
       "array([0, 4, 1, 2, 3])"
      ]
     },
     "execution_count": 10,
     "metadata": {},
     "output_type": "execute_result"
    }
   ],
   "source": [
    "off_ants"
   ]
  },
  {
   "cell_type": "code",
   "execution_count": 5,
   "id": "60addf4d",
   "metadata": {},
   "outputs": [],
   "source": [
    "H =np.array([[ 0.1414 + 0.3571j,   0.3104 + 0.8294j,  -0.2649 + 0.7797j],\n",
    "    [-0.7342 + 0.0286j,  -0.0290 - 0.1337j,  -1.1732 - 0.2304j],\n",
    "    [ 0.3743 - 0.1801j,   0.2576 + 0.0612j,  -0.2194 - 0.4121j],\n",
    "    [-1.5677 - 0.3873j,  -0.5400 + 1.0695j,  -0.4384 + 0.5315j],\n",
    "    [ 0.0760 + 1.1855j,   0.3886 + 1.2680j,  -0.7245 - 0.6108j]])"
   ]
  },
  {
   "cell_type": "code",
   "execution_count": 6,
   "id": "76d6b0e0",
   "metadata": {},
   "outputs": [
    {
     "data": {
      "text/plain": [
       "(5, 3)"
      ]
     },
     "execution_count": 6,
     "metadata": {},
     "output_type": "execute_result"
    }
   ],
   "source": [
    "H.shape"
   ]
  },
  {
   "cell_type": "code",
   "execution_count": null,
   "id": "5deafc2d",
   "metadata": {},
   "outputs": [],
   "source": []
  },
  {
   "cell_type": "code",
   "execution_count": 73,
   "id": "24921d0d",
   "metadata": {},
   "outputs": [
    {
     "data": {
      "text/plain": [
       "0.8949739357775427"
      ]
     },
     "execution_count": 73,
     "metadata": {},
     "output_type": "execute_result"
    }
   ],
   "source": [
    "prob.objective.value"
   ]
  },
  {
   "cell_type": "code",
   "execution_count": 70,
   "id": "404017d3",
   "metadata": {},
   "outputs": [
    {
     "data": {
      "text/plain": [
       "Expression(AFFINE, UNKNOWN, (1, 1))"
      ]
     },
     "execution_count": 70,
     "metadata": {},
     "output_type": "execute_result"
    }
   ],
   "source": [
    "s"
   ]
  },
  {
   "cell_type": "code",
   "execution_count": 65,
   "id": "b0945a04",
   "metadata": {},
   "outputs": [
    {
     "ename": "IndexError",
     "evalue": "Index 1 is out of bounds for axis 0 with size 1.",
     "output_type": "error",
     "traceback": [
      "\u001b[0;31m---------------------------------------------------------------------------\u001b[0m",
      "\u001b[0;31mIndexError\u001b[0m                                Traceback (most recent call last)",
      "\u001b[0;32m<ipython-input-65-00086f9de149>\u001b[0m in \u001b[0;36m<module>\u001b[0;34m\u001b[0m\n\u001b[1;32m      1\u001b[0m \u001b[0ma\u001b[0m  \u001b[0;34m=\u001b[0m \u001b[0mcp\u001b[0m\u001b[0;34m.\u001b[0m\u001b[0mExpression\u001b[0m\u001b[0;34m(\u001b[0m\u001b[0;34m)\u001b[0m\u001b[0;34m\u001b[0m\u001b[0;34m\u001b[0m\u001b[0m\n\u001b[0;32m----> 2\u001b[0;31m \u001b[0ma\u001b[0m \u001b[0;34m=\u001b[0m \u001b[0mcp\u001b[0m\u001b[0;34m.\u001b[0m\u001b[0mreshape\u001b[0m\u001b[0;34m(\u001b[0m\u001b[0ms\u001b[0m\u001b[0;34m[\u001b[0m\u001b[0mm\u001b[0m\u001b[0;34m]\u001b[0m\u001b[0;34m-\u001b[0m\u001b[0mt\u001b[0m\u001b[0;34m[\u001b[0m\u001b[0mm\u001b[0m\u001b[0;34m:\u001b[0m\u001b[0mm\u001b[0m\u001b[0;34m+\u001b[0m\u001b[0;36m1\u001b[0m\u001b[0;34m]\u001b[0m\u001b[0;34m*\u001b[0m\u001b[0mepsi\u001b[0m\u001b[0;34m[\u001b[0m\u001b[0mm\u001b[0m\u001b[0;34m:\u001b[0m\u001b[0mm\u001b[0m\u001b[0;34m+\u001b[0m\u001b[0;36m1\u001b[0m\u001b[0;34m]\u001b[0m\u001b[0;34m**\u001b[0m\u001b[0;36m2\u001b[0m\u001b[0;34m,\u001b[0m \u001b[0;34m(\u001b[0m\u001b[0;36m1\u001b[0m\u001b[0;34m,\u001b[0m\u001b[0;36m1\u001b[0m\u001b[0;34m)\u001b[0m\u001b[0;34m)\u001b[0m\u001b[0;34m\u001b[0m\u001b[0;34m\u001b[0m\u001b[0m\n\u001b[0m",
      "\u001b[0;32m/scratch/sagar/Projects/combopt/venv/lib/python3.6/site-packages/cvxpy/expressions/expression.py\u001b[0m in \u001b[0;36m__getitem__\u001b[0;34m(self, key)\u001b[0m\n\u001b[1;32m    420\u001b[0m             \u001b[0;32mreturn\u001b[0m \u001b[0mcvxtypes\u001b[0m\u001b[0;34m.\u001b[0m\u001b[0mspecial_index\u001b[0m\u001b[0;34m(\u001b[0m\u001b[0;34m)\u001b[0m\u001b[0;34m(\u001b[0m\u001b[0mself\u001b[0m\u001b[0;34m,\u001b[0m \u001b[0mkey\u001b[0m\u001b[0;34m)\u001b[0m\u001b[0;34m\u001b[0m\u001b[0;34m\u001b[0m\u001b[0m\n\u001b[1;32m    421\u001b[0m         \u001b[0;32melse\u001b[0m\u001b[0;34m:\u001b[0m\u001b[0;34m\u001b[0m\u001b[0;34m\u001b[0m\u001b[0m\n\u001b[0;32m--> 422\u001b[0;31m             \u001b[0;32mreturn\u001b[0m \u001b[0mcvxtypes\u001b[0m\u001b[0;34m.\u001b[0m\u001b[0mindex\u001b[0m\u001b[0;34m(\u001b[0m\u001b[0;34m)\u001b[0m\u001b[0;34m(\u001b[0m\u001b[0mself\u001b[0m\u001b[0;34m,\u001b[0m \u001b[0mkey\u001b[0m\u001b[0;34m)\u001b[0m\u001b[0;34m\u001b[0m\u001b[0;34m\u001b[0m\u001b[0m\n\u001b[0m\u001b[1;32m    423\u001b[0m \u001b[0;34m\u001b[0m\u001b[0m\n\u001b[1;32m    424\u001b[0m     \u001b[0;34m@\u001b[0m\u001b[0mproperty\u001b[0m\u001b[0;34m\u001b[0m\u001b[0;34m\u001b[0m\u001b[0m\n",
      "\u001b[0;32m/scratch/sagar/Projects/combopt/venv/lib/python3.6/site-packages/cvxpy/atoms/affine/index.py\u001b[0m in \u001b[0;36m__init__\u001b[0;34m(self, expr, key, orig_key)\u001b[0m\n\u001b[1;32m     44\u001b[0m         \u001b[0;32mif\u001b[0m \u001b[0morig_key\u001b[0m \u001b[0;32mis\u001b[0m \u001b[0;32mNone\u001b[0m\u001b[0;34m:\u001b[0m\u001b[0;34m\u001b[0m\u001b[0;34m\u001b[0m\u001b[0m\n\u001b[1;32m     45\u001b[0m             \u001b[0mself\u001b[0m\u001b[0;34m.\u001b[0m\u001b[0m_orig_key\u001b[0m \u001b[0;34m=\u001b[0m \u001b[0mkey\u001b[0m\u001b[0;34m\u001b[0m\u001b[0;34m\u001b[0m\u001b[0m\n\u001b[0;32m---> 46\u001b[0;31m             \u001b[0mself\u001b[0m\u001b[0;34m.\u001b[0m\u001b[0mkey\u001b[0m \u001b[0;34m=\u001b[0m \u001b[0mku\u001b[0m\u001b[0;34m.\u001b[0m\u001b[0mvalidate_key\u001b[0m\u001b[0;34m(\u001b[0m\u001b[0mkey\u001b[0m\u001b[0;34m,\u001b[0m \u001b[0mexpr\u001b[0m\u001b[0;34m.\u001b[0m\u001b[0mshape\u001b[0m\u001b[0;34m)\u001b[0m\u001b[0;34m\u001b[0m\u001b[0;34m\u001b[0m\u001b[0m\n\u001b[0m\u001b[1;32m     47\u001b[0m         \u001b[0;32melse\u001b[0m\u001b[0;34m:\u001b[0m\u001b[0;34m\u001b[0m\u001b[0;34m\u001b[0m\u001b[0m\n\u001b[1;32m     48\u001b[0m             \u001b[0mself\u001b[0m\u001b[0;34m.\u001b[0m\u001b[0m_orig_key\u001b[0m \u001b[0;34m=\u001b[0m \u001b[0morig_key\u001b[0m\u001b[0;34m\u001b[0m\u001b[0;34m\u001b[0m\u001b[0m\n",
      "\u001b[0;32m/scratch/sagar/Projects/combopt/venv/lib/python3.6/site-packages/cvxpy/utilities/key_utils.py\u001b[0m in \u001b[0;36mvalidate_key\u001b[0;34m(key, shape)\u001b[0m\n\u001b[1;32m     51\u001b[0m         \u001b[0mkey\u001b[0m \u001b[0;34m=\u001b[0m \u001b[0mtuple\u001b[0m\u001b[0;34m(\u001b[0m\u001b[0mlist\u001b[0m\u001b[0;34m(\u001b[0m\u001b[0mkey\u001b[0m\u001b[0;34m)\u001b[0m \u001b[0;34m+\u001b[0m \u001b[0;34m[\u001b[0m\u001b[0mslice\u001b[0m\u001b[0;34m(\u001b[0m\u001b[0;32mNone\u001b[0m\u001b[0;34m,\u001b[0m \u001b[0;32mNone\u001b[0m\u001b[0;34m,\u001b[0m \u001b[0;32mNone\u001b[0m\u001b[0;34m)\u001b[0m\u001b[0;34m]\u001b[0m\u001b[0;34m*\u001b[0m\u001b[0;34m(\u001b[0m\u001b[0mlen\u001b[0m\u001b[0;34m(\u001b[0m\u001b[0mshape\u001b[0m\u001b[0;34m)\u001b[0m \u001b[0;34m-\u001b[0m \u001b[0mslices\u001b[0m\u001b[0;34m)\u001b[0m\u001b[0;34m)\u001b[0m\u001b[0;34m\u001b[0m\u001b[0;34m\u001b[0m\u001b[0m\n\u001b[1;32m     52\u001b[0m     \u001b[0;31m# Change numbers into slices and ensure all slices have a start and step.\u001b[0m\u001b[0;34m\u001b[0m\u001b[0;34m\u001b[0m\u001b[0;34m\u001b[0m\u001b[0m\n\u001b[0;32m---> 53\u001b[0;31m     \u001b[0;32mreturn\u001b[0m \u001b[0mtuple\u001b[0m\u001b[0;34m(\u001b[0m\u001b[0mformat_slice\u001b[0m\u001b[0;34m(\u001b[0m\u001b[0mslc\u001b[0m\u001b[0;34m,\u001b[0m \u001b[0mdim\u001b[0m\u001b[0;34m,\u001b[0m \u001b[0mi\u001b[0m\u001b[0;34m)\u001b[0m \u001b[0;32mfor\u001b[0m \u001b[0mslc\u001b[0m\u001b[0;34m,\u001b[0m \u001b[0mdim\u001b[0m\u001b[0;34m,\u001b[0m \u001b[0mi\u001b[0m \u001b[0;32min\u001b[0m \u001b[0mzip\u001b[0m\u001b[0;34m(\u001b[0m\u001b[0mkey\u001b[0m\u001b[0;34m,\u001b[0m \u001b[0mshape\u001b[0m\u001b[0;34m,\u001b[0m \u001b[0mrange\u001b[0m\u001b[0;34m(\u001b[0m\u001b[0mlen\u001b[0m\u001b[0;34m(\u001b[0m\u001b[0mshape\u001b[0m\u001b[0;34m)\u001b[0m\u001b[0;34m)\u001b[0m\u001b[0;34m)\u001b[0m\u001b[0;34m)\u001b[0m\u001b[0;34m\u001b[0m\u001b[0;34m\u001b[0m\u001b[0m\n\u001b[0m\u001b[1;32m     54\u001b[0m \u001b[0;34m\u001b[0m\u001b[0m\n\u001b[1;32m     55\u001b[0m \u001b[0;34m\u001b[0m\u001b[0m\n",
      "\u001b[0;32m/scratch/sagar/Projects/combopt/venv/lib/python3.6/site-packages/cvxpy/utilities/key_utils.py\u001b[0m in \u001b[0;36m<genexpr>\u001b[0;34m(.0)\u001b[0m\n\u001b[1;32m     51\u001b[0m         \u001b[0mkey\u001b[0m \u001b[0;34m=\u001b[0m \u001b[0mtuple\u001b[0m\u001b[0;34m(\u001b[0m\u001b[0mlist\u001b[0m\u001b[0;34m(\u001b[0m\u001b[0mkey\u001b[0m\u001b[0;34m)\u001b[0m \u001b[0;34m+\u001b[0m \u001b[0;34m[\u001b[0m\u001b[0mslice\u001b[0m\u001b[0;34m(\u001b[0m\u001b[0;32mNone\u001b[0m\u001b[0;34m,\u001b[0m \u001b[0;32mNone\u001b[0m\u001b[0;34m,\u001b[0m \u001b[0;32mNone\u001b[0m\u001b[0;34m)\u001b[0m\u001b[0;34m]\u001b[0m\u001b[0;34m*\u001b[0m\u001b[0;34m(\u001b[0m\u001b[0mlen\u001b[0m\u001b[0;34m(\u001b[0m\u001b[0mshape\u001b[0m\u001b[0;34m)\u001b[0m \u001b[0;34m-\u001b[0m \u001b[0mslices\u001b[0m\u001b[0;34m)\u001b[0m\u001b[0;34m)\u001b[0m\u001b[0;34m\u001b[0m\u001b[0;34m\u001b[0m\u001b[0m\n\u001b[1;32m     52\u001b[0m     \u001b[0;31m# Change numbers into slices and ensure all slices have a start and step.\u001b[0m\u001b[0;34m\u001b[0m\u001b[0;34m\u001b[0m\u001b[0;34m\u001b[0m\u001b[0m\n\u001b[0;32m---> 53\u001b[0;31m     \u001b[0;32mreturn\u001b[0m \u001b[0mtuple\u001b[0m\u001b[0;34m(\u001b[0m\u001b[0mformat_slice\u001b[0m\u001b[0;34m(\u001b[0m\u001b[0mslc\u001b[0m\u001b[0;34m,\u001b[0m \u001b[0mdim\u001b[0m\u001b[0;34m,\u001b[0m \u001b[0mi\u001b[0m\u001b[0;34m)\u001b[0m \u001b[0;32mfor\u001b[0m \u001b[0mslc\u001b[0m\u001b[0;34m,\u001b[0m \u001b[0mdim\u001b[0m\u001b[0;34m,\u001b[0m \u001b[0mi\u001b[0m \u001b[0;32min\u001b[0m \u001b[0mzip\u001b[0m\u001b[0;34m(\u001b[0m\u001b[0mkey\u001b[0m\u001b[0;34m,\u001b[0m \u001b[0mshape\u001b[0m\u001b[0;34m,\u001b[0m \u001b[0mrange\u001b[0m\u001b[0;34m(\u001b[0m\u001b[0mlen\u001b[0m\u001b[0;34m(\u001b[0m\u001b[0mshape\u001b[0m\u001b[0;34m)\u001b[0m\u001b[0;34m)\u001b[0m\u001b[0;34m)\u001b[0m\u001b[0;34m)\u001b[0m\u001b[0;34m\u001b[0m\u001b[0;34m\u001b[0m\u001b[0m\n\u001b[0m\u001b[1;32m     54\u001b[0m \u001b[0;34m\u001b[0m\u001b[0m\n\u001b[1;32m     55\u001b[0m \u001b[0;34m\u001b[0m\u001b[0m\n",
      "\u001b[0;32m/scratch/sagar/Projects/combopt/venv/lib/python3.6/site-packages/cvxpy/utilities/key_utils.py\u001b[0m in \u001b[0;36mformat_slice\u001b[0;34m(key_val, dim, axis)\u001b[0m\n\u001b[1;32m     96\u001b[0m         \u001b[0;32melse\u001b[0m\u001b[0;34m:\u001b[0m\u001b[0;34m\u001b[0m\u001b[0;34m\u001b[0m\u001b[0m\n\u001b[1;32m     97\u001b[0m             raise IndexError(\n\u001b[0;32m---> 98\u001b[0;31m                 \u001b[0;34m\"Index %i is out of bounds for axis %i with size %i.\"\u001b[0m \u001b[0;34m%\u001b[0m \u001b[0;34m(\u001b[0m\u001b[0morig_key_val\u001b[0m\u001b[0;34m,\u001b[0m \u001b[0maxis\u001b[0m\u001b[0;34m,\u001b[0m \u001b[0mdim\u001b[0m\u001b[0;34m)\u001b[0m\u001b[0;34m\u001b[0m\u001b[0;34m\u001b[0m\u001b[0m\n\u001b[0m\u001b[1;32m     99\u001b[0m             )\n\u001b[1;32m    100\u001b[0m \u001b[0;34m\u001b[0m\u001b[0m\n",
      "\u001b[0;31mIndexError\u001b[0m: Index 1 is out of bounds for axis 0 with size 1."
     ]
    }
   ],
   "source": [
    "a  = cp.Expression()\n",
    "a = cp.reshape(s[m]-t[m:m+1]*epsi[m:m+1]**2, (1,1))"
   ]
  },
  {
   "cell_type": "code",
   "execution_count": 71,
   "id": "1fe267b7",
   "metadata": {},
   "outputs": [
    {
     "name": "stderr",
     "output_type": "stream",
     "text": [
      "/scratch/sagar/Projects/combopt/venv/lib/python3.6/site-packages/cvxpy/expressions/expression.py:556: UserWarning: \n",
      "This use of ``*`` has resulted in matrix multiplication.\n",
      "Using ``*`` for matrix multiplication has been deprecated since CVXPY 1.1.\n",
      "    Use ``*`` for matrix-scalar and vector-scalar multiplication.\n",
      "    Use ``@`` for matrix-matrix and matrix-vector multiplication.\n",
      "    Use ``multiply`` for elementwise multiplication.\n",
      "This code path has been hit 21 times so far.\n",
      "\n",
      "  warnings.warn(msg, UserWarning)\n"
     ]
    },
    {
     "data": {
      "text/plain": [
       "Expression(AFFINE, UNKNOWN, (1, 1))"
      ]
     },
     "execution_count": 71,
     "metadata": {},
     "output_type": "execute_result"
    }
   ],
   "source": [
    "s-t[m:m+1]*epsi[m:m+1]**2"
   ]
  },
  {
   "cell_type": "code",
   "execution_count": null,
   "id": "1d3bac0b",
   "metadata": {},
   "outputs": [],
   "source": []
  },
  {
   "cell_type": "code",
   "execution_count": 62,
   "id": "e9606ed7",
   "metadata": {},
   "outputs": [
    {
     "data": {
      "text/plain": [
       "Expression(AFFINE, UNKNOWN, (1,))"
      ]
     },
     "execution_count": 62,
     "metadata": {},
     "output_type": "execute_result"
    }
   ],
   "source": [
    "a"
   ]
  },
  {
   "cell_type": "code",
   "execution_count": null,
   "id": "954e634a",
   "metadata": {},
   "outputs": [],
   "source": []
  },
  {
   "cell_type": "code",
   "execution_count": 54,
   "id": "2a3c0da1",
   "metadata": {},
   "outputs": [
    {
     "data": {
      "text/plain": [
       "Expression(AFFINE, UNKNOWN, (1,))"
      ]
     },
     "execution_count": 54,
     "metadata": {},
     "output_type": "execute_result"
    }
   ],
   "source": [
    "t[m:m+1]"
   ]
  },
  {
   "cell_type": "code",
   "execution_count": 52,
   "id": "8e2b084b",
   "metadata": {},
   "outputs": [
    {
     "data": {
      "text/plain": [
       "(1, 1)"
      ]
     },
     "execution_count": 52,
     "metadata": {},
     "output_type": "execute_result"
    }
   ],
   "source": [
    "s.shape"
   ]
  },
  {
   "cell_type": "code",
   "execution_count": null,
   "id": "b290037c",
   "metadata": {},
   "outputs": [],
   "source": []
  },
  {
   "cell_type": "code",
   "execution_count": 46,
   "id": "899a168e",
   "metadata": {},
   "outputs": [
    {
     "ename": "IndexError",
     "evalue": "Too many indices for expression.",
     "output_type": "error",
     "traceback": [
      "\u001b[0;31m---------------------------------------------------------------------------\u001b[0m",
      "\u001b[0;31mIndexError\u001b[0m                                Traceback (most recent call last)",
      "\u001b[0;32m<ipython-input-46-d100cb47150a>\u001b[0m in \u001b[0;36m<module>\u001b[0;34m\u001b[0m\n\u001b[0;32m----> 1\u001b[0;31m \u001b[0ms\u001b[0m\u001b[0;34m[\u001b[0m\u001b[0mm\u001b[0m\u001b[0;34m]\u001b[0m\u001b[0;34m-\u001b[0m\u001b[0mt\u001b[0m\u001b[0;34m[\u001b[0m\u001b[0mm\u001b[0m\u001b[0;34m]\u001b[0m\u001b[0;34m*\u001b[0m\u001b[0mepsi\u001b[0m\u001b[0;34m[\u001b[0m\u001b[0mm\u001b[0m\u001b[0;34m]\u001b[0m\u001b[0;34m**\u001b[0m\u001b[0;36m2\u001b[0m\u001b[0;34m\u001b[0m\u001b[0;34m\u001b[0m\u001b[0m\n\u001b[0m",
      "\u001b[0;32m/scratch/sagar/Projects/combopt/venv/lib/python3.6/site-packages/cvxpy/expressions/expression.py\u001b[0m in \u001b[0;36m__getitem__\u001b[0;34m(self, key)\u001b[0m\n\u001b[1;32m    420\u001b[0m             \u001b[0;32mreturn\u001b[0m \u001b[0mcvxtypes\u001b[0m\u001b[0;34m.\u001b[0m\u001b[0mspecial_index\u001b[0m\u001b[0;34m(\u001b[0m\u001b[0;34m)\u001b[0m\u001b[0;34m(\u001b[0m\u001b[0mself\u001b[0m\u001b[0;34m,\u001b[0m \u001b[0mkey\u001b[0m\u001b[0;34m)\u001b[0m\u001b[0;34m\u001b[0m\u001b[0;34m\u001b[0m\u001b[0m\n\u001b[1;32m    421\u001b[0m         \u001b[0;32melse\u001b[0m\u001b[0;34m:\u001b[0m\u001b[0;34m\u001b[0m\u001b[0;34m\u001b[0m\u001b[0m\n\u001b[0;32m--> 422\u001b[0;31m             \u001b[0;32mreturn\u001b[0m \u001b[0mcvxtypes\u001b[0m\u001b[0;34m.\u001b[0m\u001b[0mindex\u001b[0m\u001b[0;34m(\u001b[0m\u001b[0;34m)\u001b[0m\u001b[0;34m(\u001b[0m\u001b[0mself\u001b[0m\u001b[0;34m,\u001b[0m \u001b[0mkey\u001b[0m\u001b[0;34m)\u001b[0m\u001b[0;34m\u001b[0m\u001b[0;34m\u001b[0m\u001b[0m\n\u001b[0m\u001b[1;32m    423\u001b[0m \u001b[0;34m\u001b[0m\u001b[0m\n\u001b[1;32m    424\u001b[0m     \u001b[0;34m@\u001b[0m\u001b[0mproperty\u001b[0m\u001b[0;34m\u001b[0m\u001b[0;34m\u001b[0m\u001b[0m\n",
      "\u001b[0;32m/scratch/sagar/Projects/combopt/venv/lib/python3.6/site-packages/cvxpy/atoms/affine/index.py\u001b[0m in \u001b[0;36m__init__\u001b[0;34m(self, expr, key, orig_key)\u001b[0m\n\u001b[1;32m     44\u001b[0m         \u001b[0;32mif\u001b[0m \u001b[0morig_key\u001b[0m \u001b[0;32mis\u001b[0m \u001b[0;32mNone\u001b[0m\u001b[0;34m:\u001b[0m\u001b[0;34m\u001b[0m\u001b[0;34m\u001b[0m\u001b[0m\n\u001b[1;32m     45\u001b[0m             \u001b[0mself\u001b[0m\u001b[0;34m.\u001b[0m\u001b[0m_orig_key\u001b[0m \u001b[0;34m=\u001b[0m \u001b[0mkey\u001b[0m\u001b[0;34m\u001b[0m\u001b[0;34m\u001b[0m\u001b[0m\n\u001b[0;32m---> 46\u001b[0;31m             \u001b[0mself\u001b[0m\u001b[0;34m.\u001b[0m\u001b[0mkey\u001b[0m \u001b[0;34m=\u001b[0m \u001b[0mku\u001b[0m\u001b[0;34m.\u001b[0m\u001b[0mvalidate_key\u001b[0m\u001b[0;34m(\u001b[0m\u001b[0mkey\u001b[0m\u001b[0;34m,\u001b[0m \u001b[0mexpr\u001b[0m\u001b[0;34m.\u001b[0m\u001b[0mshape\u001b[0m\u001b[0;34m)\u001b[0m\u001b[0;34m\u001b[0m\u001b[0;34m\u001b[0m\u001b[0m\n\u001b[0m\u001b[1;32m     47\u001b[0m         \u001b[0;32melse\u001b[0m\u001b[0;34m:\u001b[0m\u001b[0;34m\u001b[0m\u001b[0;34m\u001b[0m\u001b[0m\n\u001b[1;32m     48\u001b[0m             \u001b[0mself\u001b[0m\u001b[0;34m.\u001b[0m\u001b[0m_orig_key\u001b[0m \u001b[0;34m=\u001b[0m \u001b[0morig_key\u001b[0m\u001b[0;34m\u001b[0m\u001b[0;34m\u001b[0m\u001b[0m\n",
      "\u001b[0;32m/scratch/sagar/Projects/combopt/venv/lib/python3.6/site-packages/cvxpy/utilities/key_utils.py\u001b[0m in \u001b[0;36mvalidate_key\u001b[0;34m(key, shape)\u001b[0m\n\u001b[1;32m     46\u001b[0m     \u001b[0mslices\u001b[0m \u001b[0;34m=\u001b[0m \u001b[0mlen\u001b[0m\u001b[0;34m(\u001b[0m\u001b[0mkey\u001b[0m\u001b[0;34m)\u001b[0m \u001b[0;34m-\u001b[0m \u001b[0mnone_count\u001b[0m\u001b[0;34m\u001b[0m\u001b[0;34m\u001b[0m\u001b[0m\n\u001b[1;32m     47\u001b[0m     \u001b[0;32mif\u001b[0m \u001b[0mslices\u001b[0m \u001b[0;34m>\u001b[0m \u001b[0mlen\u001b[0m\u001b[0;34m(\u001b[0m\u001b[0mshape\u001b[0m\u001b[0;34m)\u001b[0m\u001b[0;34m:\u001b[0m\u001b[0;34m\u001b[0m\u001b[0;34m\u001b[0m\u001b[0m\n\u001b[0;32m---> 48\u001b[0;31m         \u001b[0;32mraise\u001b[0m \u001b[0mIndexError\u001b[0m\u001b[0;34m(\u001b[0m\u001b[0;34m\"Too many indices for expression.\"\u001b[0m\u001b[0;34m)\u001b[0m\u001b[0;34m\u001b[0m\u001b[0;34m\u001b[0m\u001b[0m\n\u001b[0m\u001b[1;32m     49\u001b[0m     \u001b[0;32melif\u001b[0m \u001b[0mslices\u001b[0m \u001b[0;34m<\u001b[0m \u001b[0mlen\u001b[0m\u001b[0;34m(\u001b[0m\u001b[0mshape\u001b[0m\u001b[0;34m)\u001b[0m\u001b[0;34m:\u001b[0m\u001b[0;34m\u001b[0m\u001b[0;34m\u001b[0m\u001b[0m\n\u001b[1;32m     50\u001b[0m         \u001b[0;31m# Add : to the right.\u001b[0m\u001b[0;34m\u001b[0m\u001b[0;34m\u001b[0m\u001b[0;34m\u001b[0m\u001b[0m\n",
      "\u001b[0;31mIndexError\u001b[0m: Too many indices for expression."
     ]
    }
   ],
   "source": [
    "s[m]-t[m]*epsi[m]**2"
   ]
  },
  {
   "cell_type": "code",
   "execution_count": 48,
   "id": "a0d64c43",
   "metadata": {},
   "outputs": [
    {
     "data": {
      "text/plain": [
       "Expression(AFFINE, UNKNOWN, ())"
      ]
     },
     "execution_count": 48,
     "metadata": {},
     "output_type": "execute_result"
    }
   ],
   "source": [
    "s"
   ]
  },
  {
   "cell_type": "code",
   "execution_count": 47,
   "id": "0488d762",
   "metadata": {},
   "outputs": [
    {
     "data": {
      "text/plain": [
       "Variable((8,))"
      ]
     },
     "execution_count": 47,
     "metadata": {},
     "output_type": "execute_result"
    }
   ],
   "source": [
    "t"
   ]
  },
  {
   "cell_type": "code",
   "execution_count": 63,
   "id": "c26af926",
   "metadata": {},
   "outputs": [
    {
     "data": {
      "text/plain": [
       "Expression(AFFINE, UNKNOWN, (1, 12))"
      ]
     },
     "execution_count": 63,
     "metadata": {},
     "output_type": "execute_result"
    }
   ],
   "source": [
    "cp.conj(cp.transpose(r))"
   ]
  },
  {
   "cell_type": "code",
   "execution_count": 45,
   "id": "b516e933",
   "metadata": {},
   "outputs": [
    {
     "ename": "ValueError",
     "evalue": "All the input dimensions except for axis 1 must match exactly.",
     "output_type": "error",
     "traceback": [
      "\u001b[0;31m---------------------------------------------------------------------------\u001b[0m",
      "\u001b[0;31mValueError\u001b[0m                                Traceback (most recent call last)",
      "\u001b[0;32m<ipython-input-45-248c4e185153>\u001b[0m in \u001b[0;36m<module>\u001b[0;34m\u001b[0m\n\u001b[0;32m----> 1\u001b[0;31m \u001b[0mcp\u001b[0m\u001b[0;34m.\u001b[0m\u001b[0mhstack\u001b[0m\u001b[0;34m(\u001b[0m\u001b[0;34m(\u001b[0m\u001b[0mcp\u001b[0m\u001b[0;34m.\u001b[0m\u001b[0mconj\u001b[0m\u001b[0;34m(\u001b[0m\u001b[0mcp\u001b[0m\u001b[0;34m.\u001b[0m\u001b[0mtranspose\u001b[0m\u001b[0;34m(\u001b[0m\u001b[0mr\u001b[0m\u001b[0;34m)\u001b[0m\u001b[0;34m)\u001b[0m\u001b[0;34m,\u001b[0m \u001b[0;36m1\u001b[0m\u001b[0;34m)\u001b[0m\u001b[0;34m)\u001b[0m\u001b[0;34m\u001b[0m\u001b[0;34m\u001b[0m\u001b[0m\n\u001b[0m",
      "\u001b[0;32m/scratch/sagar/Projects/combopt/venv/lib/python3.6/site-packages/cvxpy/atoms/affine/hstack.py\u001b[0m in \u001b[0;36mhstack\u001b[0;34m(arg_list)\u001b[0m\n\u001b[1;32m     33\u001b[0m         \u001b[0;32mif\u001b[0m \u001b[0marg\u001b[0m\u001b[0;34m.\u001b[0m\u001b[0mndim\u001b[0m \u001b[0;34m==\u001b[0m \u001b[0;36m0\u001b[0m\u001b[0;34m:\u001b[0m\u001b[0;34m\u001b[0m\u001b[0;34m\u001b[0m\u001b[0m\n\u001b[1;32m     34\u001b[0m             \u001b[0marg_list\u001b[0m\u001b[0;34m[\u001b[0m\u001b[0midx\u001b[0m\u001b[0;34m]\u001b[0m \u001b[0;34m=\u001b[0m \u001b[0marg\u001b[0m\u001b[0;34m.\u001b[0m\u001b[0mflatten\u001b[0m\u001b[0;34m(\u001b[0m\u001b[0;34m)\u001b[0m\u001b[0;34m\u001b[0m\u001b[0;34m\u001b[0m\u001b[0m\n\u001b[0;32m---> 35\u001b[0;31m     \u001b[0;32mreturn\u001b[0m \u001b[0mHstack\u001b[0m\u001b[0;34m(\u001b[0m\u001b[0;34m*\u001b[0m\u001b[0marg_list\u001b[0m\u001b[0;34m)\u001b[0m\u001b[0;34m\u001b[0m\u001b[0;34m\u001b[0m\u001b[0m\n\u001b[0m\u001b[1;32m     36\u001b[0m \u001b[0;34m\u001b[0m\u001b[0m\n\u001b[1;32m     37\u001b[0m \u001b[0;34m\u001b[0m\u001b[0m\n",
      "\u001b[0;32m/scratch/sagar/Projects/combopt/venv/lib/python3.6/site-packages/cvxpy/atoms/atom.py\u001b[0m in \u001b[0;36m__init__\u001b[0;34m(self, *args)\u001b[0m\n\u001b[1;32m     44\u001b[0m         \u001b[0;31m# Convert raw values to Constants.\u001b[0m\u001b[0;34m\u001b[0m\u001b[0;34m\u001b[0m\u001b[0;34m\u001b[0m\u001b[0m\n\u001b[1;32m     45\u001b[0m         \u001b[0mself\u001b[0m\u001b[0;34m.\u001b[0m\u001b[0margs\u001b[0m \u001b[0;34m=\u001b[0m \u001b[0;34m[\u001b[0m\u001b[0mAtom\u001b[0m\u001b[0;34m.\u001b[0m\u001b[0mcast_to_const\u001b[0m\u001b[0;34m(\u001b[0m\u001b[0marg\u001b[0m\u001b[0;34m)\u001b[0m \u001b[0;32mfor\u001b[0m \u001b[0marg\u001b[0m \u001b[0;32min\u001b[0m \u001b[0margs\u001b[0m\u001b[0;34m]\u001b[0m\u001b[0;34m\u001b[0m\u001b[0;34m\u001b[0m\u001b[0m\n\u001b[0;32m---> 46\u001b[0;31m         \u001b[0mself\u001b[0m\u001b[0;34m.\u001b[0m\u001b[0mvalidate_arguments\u001b[0m\u001b[0;34m(\u001b[0m\u001b[0;34m)\u001b[0m\u001b[0;34m\u001b[0m\u001b[0;34m\u001b[0m\u001b[0m\n\u001b[0m\u001b[1;32m     47\u001b[0m         \u001b[0mself\u001b[0m\u001b[0;34m.\u001b[0m\u001b[0m_shape\u001b[0m \u001b[0;34m=\u001b[0m \u001b[0mself\u001b[0m\u001b[0;34m.\u001b[0m\u001b[0mshape_from_args\u001b[0m\u001b[0;34m(\u001b[0m\u001b[0;34m)\u001b[0m\u001b[0;34m\u001b[0m\u001b[0;34m\u001b[0m\u001b[0m\n\u001b[1;32m     48\u001b[0m         \u001b[0;32mif\u001b[0m \u001b[0mlen\u001b[0m\u001b[0;34m(\u001b[0m\u001b[0mself\u001b[0m\u001b[0;34m.\u001b[0m\u001b[0m_shape\u001b[0m\u001b[0;34m)\u001b[0m \u001b[0;34m>\u001b[0m \u001b[0;36m2\u001b[0m\u001b[0;34m:\u001b[0m\u001b[0;34m\u001b[0m\u001b[0;34m\u001b[0m\u001b[0m\n",
      "\u001b[0;32m/scratch/sagar/Projects/combopt/venv/lib/python3.6/site-packages/cvxpy/atoms/affine/hstack.py\u001b[0m in \u001b[0;36mvalidate_arguments\u001b[0;34m(self)\u001b[0m\n\u001b[1;32m     63\u001b[0m         \u001b[0;32mfor\u001b[0m \u001b[0marg\u001b[0m \u001b[0;32min\u001b[0m \u001b[0mself\u001b[0m\u001b[0;34m.\u001b[0m\u001b[0margs\u001b[0m\u001b[0;34m[\u001b[0m\u001b[0;36m1\u001b[0m\u001b[0;34m:\u001b[0m\u001b[0;34m]\u001b[0m\u001b[0;34m:\u001b[0m\u001b[0;34m\u001b[0m\u001b[0;34m\u001b[0m\u001b[0m\n\u001b[1;32m     64\u001b[0m             \u001b[0;32mif\u001b[0m \u001b[0mlen\u001b[0m\u001b[0;34m(\u001b[0m\u001b[0marg\u001b[0m\u001b[0;34m.\u001b[0m\u001b[0mshape\u001b[0m\u001b[0;34m)\u001b[0m \u001b[0;34m!=\u001b[0m \u001b[0mlen\u001b[0m\u001b[0;34m(\u001b[0m\u001b[0mmodel\u001b[0m\u001b[0;34m)\u001b[0m\u001b[0;34m:\u001b[0m\u001b[0;34m\u001b[0m\u001b[0;34m\u001b[0m\u001b[0m\n\u001b[0;32m---> 65\u001b[0;31m                 \u001b[0;32mraise\u001b[0m \u001b[0merror\u001b[0m\u001b[0;34m\u001b[0m\u001b[0;34m\u001b[0m\u001b[0m\n\u001b[0m\u001b[1;32m     66\u001b[0m             \u001b[0;32melif\u001b[0m \u001b[0mlen\u001b[0m\u001b[0;34m(\u001b[0m\u001b[0mmodel\u001b[0m\u001b[0;34m)\u001b[0m \u001b[0;34m>\u001b[0m \u001b[0;36m1\u001b[0m\u001b[0;34m:\u001b[0m\u001b[0;34m\u001b[0m\u001b[0;34m\u001b[0m\u001b[0m\n\u001b[1;32m     67\u001b[0m                 \u001b[0;32mfor\u001b[0m \u001b[0mi\u001b[0m \u001b[0;32min\u001b[0m \u001b[0mrange\u001b[0m\u001b[0;34m(\u001b[0m\u001b[0mlen\u001b[0m\u001b[0;34m(\u001b[0m\u001b[0mmodel\u001b[0m\u001b[0;34m)\u001b[0m\u001b[0;34m)\u001b[0m\u001b[0;34m:\u001b[0m\u001b[0;34m\u001b[0m\u001b[0;34m\u001b[0m\u001b[0m\n",
      "\u001b[0;31mValueError\u001b[0m: All the input dimensions except for axis 1 must match exactly."
     ]
    }
   ],
   "source": [
    "cp.hstack((cp.conj(cp.transpose(r)), ))"
   ]
  },
  {
   "cell_type": "code",
   "execution_count": null,
   "id": "9bc3122a",
   "metadata": {},
   "outputs": [],
   "source": []
  },
  {
   "cell_type": "code",
   "execution_count": 40,
   "id": "75341bdf",
   "metadata": {},
   "outputs": [
    {
     "data": {
      "text/plain": [
       "Expression(CONSTANT, UNKNOWN, (8, 12))"
      ]
     },
     "execution_count": 40,
     "metadata": {},
     "output_type": "execute_result"
    }
   ],
   "source": [
    "cp.transpose(H)"
   ]
  },
  {
   "cell_type": "code",
   "execution_count": null,
   "id": "623a7f61",
   "metadata": {},
   "outputs": [],
   "source": []
  },
  {
   "cell_type": "code",
   "execution_count": 33,
   "id": "8051b814",
   "metadata": {},
   "outputs": [
    {
     "ename": "AttributeError",
     "evalue": "'MulExpression' object has no attribute 'conj'",
     "output_type": "error",
     "traceback": [
      "\u001b[0;31m---------------------------------------------------------------------------\u001b[0m",
      "\u001b[0;31mAttributeError\u001b[0m                            Traceback (most recent call last)",
      "\u001b[0;32m<ipython-input-33-9f74556e07e3>\u001b[0m in \u001b[0;36m<module>\u001b[0;34m\u001b[0m\n\u001b[0;32m----> 1\u001b[0;31m \u001b[0mr\u001b[0m\u001b[0;34m.\u001b[0m\u001b[0mconj\u001b[0m\u001b[0;34m(\u001b[0m\u001b[0;34m)\u001b[0m\u001b[0;34m\u001b[0m\u001b[0;34m\u001b[0m\u001b[0m\n\u001b[0m",
      "\u001b[0;31mAttributeError\u001b[0m: 'MulExpression' object has no attribute 'conj'"
     ]
    }
   ],
   "source": [
    "r.conj()"
   ]
  },
  {
   "cell_type": "code",
   "execution_count": 26,
   "id": "1b43a2f2",
   "metadata": {},
   "outputs": [
    {
     "data": {
      "text/plain": [
       "array([[ 0.31322818+0.46717518j],\n",
       "       [-1.01539291+1.23774352j],\n",
       "       [-0.15562012+0.79618297j],\n",
       "       [ 0.87984116+0.33675527j],\n",
       "       [-0.33312421-0.17398508j],\n",
       "       [-0.58205607+0.8493666j ],\n",
       "       [ 0.78445659+0.83693066j],\n",
       "       [ 0.7357013 +0.04553042j],\n",
       "       [-0.50804939+1.32426427j],\n",
       "       [-0.21028306-0.89154786j],\n",
       "       [-0.18899709-0.01431549j],\n",
       "       [-0.19061622-0.37351394j]])"
      ]
     },
     "execution_count": 26,
     "metadata": {},
     "output_type": "execute_result"
    }
   ],
   "source": [
    "H[:,m:m+1]"
   ]
  },
  {
   "cell_type": "code",
   "execution_count": 39,
   "id": "24cffe42",
   "metadata": {},
   "outputs": [
    {
     "name": "stdout",
     "output_type": "stream",
     "text": [
      "here\n",
      "[0 0 1 1 1]\n",
      "[0 0 1 1 1]\n",
      "[0.17835332 1.8514348  0.         0.         0.        ]\n",
      "[0 0 1 1 1]\n"
     ]
    }
   ],
   "source": [
    "N,M = 5,2\n",
    "max_ant = 3\n",
    "W_sol = np.random.randn(N,M)\n",
    "z_mask = np.random.binomial(n=1, p=.5, size=N)\n",
    "z_sol = np.random.binomial(n=1, p=.5, size=N)\n",
    "\n",
    "power_w = np.linalg.norm(W_sol, axis=1)\n",
    "power_w = (1-z_mask)*power_w\n",
    "used_ant = np.sum(z_mask*z_sol)\n",
    "assert used_ant <= max_ant, 'used antennas already larger than max allowed antennas'\n",
    "if used_ant == max_ant:\n",
    "    print('here')\n",
    "#     return z_mask*z_sol\n",
    "\n",
    "z_feas = z_mask*z_sol\n",
    "z_feas[np.flip(np.argsort(power_w))[:max_ant-used_ant]] = 1 \n",
    "print(z_mask)\n",
    "print(z_sol)\n",
    "\n",
    "print(power_w)\n",
    "print(z_feas)"
   ]
  },
  {
   "cell_type": "code",
   "execution_count": 33,
   "id": "863b0662",
   "metadata": {},
   "outputs": [
    {
     "data": {
      "text/plain": [
       "array([4, 1, 0, 2, 3])"
      ]
     },
     "execution_count": 33,
     "metadata": {},
     "output_type": "execute_result"
    }
   ],
   "source": [
    "np.argsort(power_w)"
   ]
  },
  {
   "cell_type": "code",
   "execution_count": 1,
   "id": "86cd2493",
   "metadata": {},
   "outputs": [],
   "source": [
    "import numpy as np\n",
    "\n",
    "a = np.random.rand(5)"
   ]
  },
  {
   "cell_type": "code",
   "execution_count": 2,
   "id": "366997e2",
   "metadata": {},
   "outputs": [
    {
     "data": {
      "text/plain": [
       "array([0.98426867, 0.34367917, 0.28750968, 0.57140194, 0.32079667])"
      ]
     },
     "execution_count": 2,
     "metadata": {},
     "output_type": "execute_result"
    }
   ],
   "source": [
    "np.random.permutation(a)"
   ]
  },
  {
   "cell_type": "code",
   "execution_count": 10,
   "id": "5c65be66",
   "metadata": {},
   "outputs": [
    {
     "name": "stdout",
     "output_type": "stream",
     "text": [
      "[[[0.59435773 0.5134633  0.52743774]\n",
      "  [0.63610901 0.09154458 0.46513214]]\n",
      "\n",
      " [[0.40219084 0.88039297 0.17470154]\n",
      "  [0.44435442 0.24612651 0.17332009]]\n",
      "\n",
      " [[0.80876549 0.47262972 0.47260315]\n",
      "  [0.09748929 0.87656048 0.20163077]]\n",
      "\n",
      " [[0.32735498 0.4093701  0.30735459]\n",
      "  [0.80742646 0.58730433 0.51954617]]\n",
      "\n",
      " [[0.55269942 0.42734868 0.46422979]\n",
      "  [0.34728958 0.54230804 0.65788464]]]\n"
     ]
    }
   ],
   "source": [
    "import numpy as np\n",
    "\n",
    "instances = np.random.rand(5,2,3)\n",
    "print(instances)\n",
    "\n",
    "i = 0\n",
    "instances = np.concatenate((instances[:i,::], instances[i+1:,::]), axis=0)"
   ]
  },
  {
   "cell_type": "code",
   "execution_count": 11,
   "id": "00c6b267",
   "metadata": {},
   "outputs": [
    {
     "data": {
      "text/plain": [
       "4"
      ]
     },
     "execution_count": 11,
     "metadata": {},
     "output_type": "execute_result"
    }
   ],
   "source": [
    "len(instances)"
   ]
  },
  {
   "cell_type": "code",
   "execution_count": 16,
   "id": "2038b2a1",
   "metadata": {},
   "outputs": [
    {
     "name": "stdout",
     "output_type": "stream",
     "text": [
      "message an error occured\n",
      "5\n"
     ]
    }
   ],
   "source": [
    "class CustomException(Exception):\n",
    "    pass\n",
    "\n",
    "try:\n",
    "    raise CustomException('an error occured')\n",
    "except CustomException as e:\n",
    "    print('message', e)\n",
    "    \n",
    "    \n",
    "print(5)"
   ]
  },
  {
   "cell_type": "code",
   "execution_count": null,
   "id": "18788b62",
   "metadata": {},
   "outputs": [],
   "source": []
  },
  {
   "cell_type": "code",
   "execution_count": null,
   "id": "8cd13f0e",
   "metadata": {},
   "outputs": [],
   "source": [
    " matrix [[-1.44133888+0.35172095j  0.75348816+0.00645361j  1.35778683+0.64247147j\n",
    "   0.83363469-1.24131836j]\n",
    " [-0.01661496-1.02176565j  0.89624182-0.29839284j  1.10508271-0.81603941j\n",
    "   0.55242791-0.56316898j]\n",
    " [ 0.04253986+0.55146412j -1.18925535+0.43070676j -0.5764893 +0.2167988j\n",
    "   0.30590856+0.1940031j ]\n",
    " [-1.43286293+1.75314882j -0.15042443+0.66050685j  0.22175695-0.15327095j\n",
    "  -0.71797835-0.06075578j]\n",
    " [ 0.28747101-0.16796463j  0.22154135+0.20050112j  1.482013  +0.85440646j\n",
    "   1.30426042-0.45960364j]\n",
    " [ 0.41682604-0.41250976j  0.12485053-0.0746889j  -0.87193747-1.89902827j\n",
    "   0.12141707+0.34111201j]\n",
    " [ 1.22917077+0.961712j    1.48352611+0.66406165j  1.66216921+0.7029772j\n",
    "   1.95702491-0.74891918j]\n",
    " [-0.7671263 -0.28411103j  0.24981818+0.44662971j -0.65997513+0.47891181j\n",
    "  -0.72319534+0.29522664j]] \n",
    "z_mask [1. 1. 1. 1. 1. 1. 1. 1.] \n",
    " z_sol [0. 1. 1. 0. 0. 0. 0. 1.]\n"
   ]
  },
  {
   "cell_type": "code",
   "execution_count": null,
   "id": "083b9757",
   "metadata": {},
   "outputs": [],
   "source": []
  },
  {
   "cell_type": "code",
   "execution_count": null,
   "id": "1d4626e5",
   "metadata": {},
   "outputs": [],
   "source": []
  }
 ],
 "metadata": {
  "kernelspec": {
   "display_name": "Python 3",
   "language": "python",
   "name": "python3"
  },
  "language_info": {
   "codemirror_mode": {
    "name": "ipython",
    "version": 3
   },
   "file_extension": ".py",
   "mimetype": "text/x-python",
   "name": "python",
   "nbconvert_exporter": "python",
   "pygments_lexer": "ipython3",
   "version": "3.6.8"
  }
 },
 "nbformat": 4,
 "nbformat_minor": 5
}
