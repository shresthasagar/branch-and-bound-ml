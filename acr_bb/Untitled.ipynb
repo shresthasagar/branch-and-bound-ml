{
 "cells": [
  {
   "cell_type": "code",
   "execution_count": 2,
   "id": "40245452",
   "metadata": {},
   "outputs": [
    {
     "data": {
      "application/vnd.jupyter.widget-view+json": {
       "model_id": "aeeaa7551ffd4b7f87da7358a445831e",
       "version_major": 2,
       "version_minor": 0
      },
      "text/plain": [
       "  0%|          | 0/2000 [00:00<?, ?it/s]"
      ]
     },
     "metadata": {},
     "output_type": "display_data"
    },
    {
     "data": {
      "application/vnd.jupyter.widget-view+json": {
       "model_id": "05f82d8cbe3847168b5261c187d63d04",
       "version_major": 2,
       "version_minor": 0
      },
      "text/plain": [
       "  0%|          | 0/1000 [00:00<?, ?it/s]"
      ]
     },
     "metadata": {},
     "output_type": "display_data"
    },
    {
     "name": "stderr",
     "output_type": "stream",
     "text": [
      "/scratch/sagar/Projects/combopt/venv/lib/python3.6/site-packages/ipykernel_launcher.py:37: UserWarning: Implicit dimension choice for softmax has been deprecated. Change the call to include dim=X as an argument.\n"
     ]
    },
    {
     "name": "stdout",
     "output_type": "stream",
     "text": [
      "[0.         1.85095605 4.93772087 3.14159265] [6.28318531 1.85095606 4.93772237 4.71238898]\n",
      "Episode 0\tAverage length: 486.00\n"
     ]
    },
    {
     "data": {
      "application/vnd.jupyter.widget-view+json": {
       "model_id": "bc8db135eecf462ebac7478559a50f16",
       "version_major": 2,
       "version_minor": 0
      },
      "text/plain": [
       "  0%|          | 0/1000 [00:00<?, ?it/s]"
      ]
     },
     "metadata": {},
     "output_type": "display_data"
    },
    {
     "name": "stdout",
     "output_type": "stream",
     "text": [
      "[0.         0.03389139 5.28103708 3.14159265] [6.28318531 0.03389438 5.28103709 4.71238898]\n"
     ]
    },
    {
     "data": {
      "application/vnd.jupyter.widget-view+json": {
       "model_id": "71a46bc69370453bafc9d2746ef4100d",
       "version_major": 2,
       "version_minor": 0
      },
      "text/plain": [
       "  0%|          | 0/1000 [00:00<?, ?it/s]"
      ]
     },
     "metadata": {},
     "output_type": "display_data"
    },
    {
     "name": "stdout",
     "output_type": "stream",
     "text": [
      "[0.         2.75806675 3.30111313 0.        ] [6.28318531 2.75806684 3.30111314 3.14159265]\n"
     ]
    },
    {
     "data": {
      "application/vnd.jupyter.widget-view+json": {
       "model_id": "08a8fd0de69c47cc83d5c453fb0513c8",
       "version_major": 2,
       "version_minor": 0
      },
      "text/plain": [
       "  0%|          | 0/1000 [00:00<?, ?it/s]"
      ]
     },
     "metadata": {},
     "output_type": "display_data"
    },
    {
     "name": "stdout",
     "output_type": "stream",
     "text": [
      "[0.         1.57079526 3.14159265 3.52633475] [6.28318531 1.57079526 6.28318531 3.52633476]\n"
     ]
    },
    {
     "data": {
      "application/vnd.jupyter.widget-view+json": {
       "model_id": "70ad1296b365466fb2e886f7f2735212",
       "version_major": 2,
       "version_minor": 0
      },
      "text/plain": [
       "  0%|          | 0/1000 [00:00<?, ?it/s]"
      ]
     },
     "metadata": {},
     "output_type": "display_data"
    },
    {
     "name": "stdout",
     "output_type": "stream",
     "text": [
      "[0.         0.         2.1267751  6.12453964] [6.28318531 3.14159265 2.12677511 6.12454113]\n"
     ]
    },
    {
     "data": {
      "application/vnd.jupyter.widget-view+json": {
       "model_id": "556e8b60b2fd4047a51f5be69a9aebe3",
       "version_major": 2,
       "version_minor": 0
      },
      "text/plain": [
       "  0%|          | 0/1000 [00:00<?, ?it/s]"
      ]
     },
     "metadata": {},
     "output_type": "display_data"
    },
    {
     "name": "stdout",
     "output_type": "stream",
     "text": [
      "[0.         3.14159265 6.25864161 2.08000266] [6.28318531 6.28318531 6.28318531 2.08000267]\n"
     ]
    },
    {
     "data": {
      "application/vnd.jupyter.widget-view+json": {
       "model_id": "4f026e84c2e849aca91cb5e83d26cbc7",
       "version_major": 2,
       "version_minor": 0
      },
      "text/plain": [
       "  0%|          | 0/1000 [00:00<?, ?it/s]"
      ]
     },
     "metadata": {},
     "output_type": "display_data"
    },
    {
     "name": "stdout",
     "output_type": "stream",
     "text": [
      "[0.         0.01659096 5.22780653 2.94525716] [6.28318531 0.01659096 5.25235022 2.94525734]\n"
     ]
    },
    {
     "data": {
      "application/vnd.jupyter.widget-view+json": {
       "model_id": "03cf8dbe8a894ff1b39fb4c4ea049c4c",
       "version_major": 2,
       "version_minor": 0
      },
      "text/plain": [
       "  0%|          | 0/1000 [00:00<?, ?it/s]"
      ]
     },
     "metadata": {},
     "output_type": "display_data"
    },
    {
     "name": "stdout",
     "output_type": "stream",
     "text": [
      "[0.         5.0656639  4.71468995 3.14159265] [6.28318531 5.0656639  4.71469295 6.28318531]\n"
     ]
    },
    {
     "data": {
      "application/vnd.jupyter.widget-view+json": {
       "model_id": "1e0c2c6510ef4d3086473b077eaa1444",
       "version_major": 2,
       "version_minor": 0
      },
      "text/plain": [
       "  0%|          | 0/1000 [00:00<?, ?it/s]"
      ]
     },
     "metadata": {},
     "output_type": "display_data"
    },
    {
     "name": "stdout",
     "output_type": "stream",
     "text": [
      "[0.         1.59611001 3.14159265 2.90177198] [6.28318531 1.5961115  6.28318531 2.90177198]\n"
     ]
    },
    {
     "data": {
      "application/vnd.jupyter.widget-view+json": {
       "model_id": "9740b4924c5a4899b949b1a9256d25b0",
       "version_major": 2,
       "version_minor": 0
      },
      "text/plain": [
       "  0%|          | 0/1000 [00:00<?, ?it/s]"
      ]
     },
     "metadata": {},
     "output_type": "display_data"
    },
    {
     "name": "stdout",
     "output_type": "stream",
     "text": [
      "[0.         0.         3.25074159 6.28241832] [6.28318531 3.14159265 3.25074159 6.28318531]\n"
     ]
    },
    {
     "data": {
      "application/vnd.jupyter.widget-view+json": {
       "model_id": "0973bbf380784982b63afc7d4a816bc1",
       "version_major": 2,
       "version_minor": 0
      },
      "text/plain": [
       "  0%|          | 0/1000 [00:00<?, ?it/s]"
      ]
     },
     "metadata": {},
     "output_type": "display_data"
    },
    {
     "name": "stdout",
     "output_type": "stream",
     "text": [
      "[0.         0.27984284 5.19691549 0.        ] [6.28318531 0.27984289 5.19691549 3.14159265]\n",
      "Episode 10\tAverage length: 216.80\n"
     ]
    },
    {
     "data": {
      "application/vnd.jupyter.widget-view+json": {
       "model_id": "fe0e133b5361489daf1ea27de8f06bd2",
       "version_major": 2,
       "version_minor": 0
      },
      "text/plain": [
       "  0%|          | 0/1000 [00:00<?, ?it/s]"
      ]
     },
     "metadata": {},
     "output_type": "display_data"
    },
    {
     "name": "stdout",
     "output_type": "stream",
     "text": [
      "[0.         0.         3.28156538 2.69817633] [6.28318531 3.14159265 3.28156538 2.69827221]\n"
     ]
    },
    {
     "data": {
      "application/vnd.jupyter.widget-view+json": {
       "model_id": "f6f80c41ef9f49d18cd663c166f0da1a",
       "version_major": 2,
       "version_minor": 0
      },
      "text/plain": [
       "  0%|          | 0/1000 [00:00<?, ?it/s]"
      ]
     },
     "metadata": {},
     "output_type": "display_data"
    },
    {
     "name": "stdout",
     "output_type": "stream",
     "text": [
      "[0.         3.14159265 6.28270594 2.17587348] [6.28318531 6.28318531 6.28280181 2.17587348]\n"
     ]
    },
    {
     "data": {
      "application/vnd.jupyter.widget-view+json": {
       "model_id": "8479e16a5d71470eacae74f9ccaf69e5",
       "version_major": 2,
       "version_minor": 0
      },
      "text/plain": [
       "  0%|          | 0/1000 [00:00<?, ?it/s]"
      ]
     },
     "metadata": {},
     "output_type": "display_data"
    },
    {
     "ename": "KeyboardInterrupt",
     "evalue": "",
     "output_type": "error",
     "traceback": [
      "\u001b[0;31m---------------------------------------------------------------------------\u001b[0m",
      "\u001b[0;31mKeyboardInterrupt\u001b[0m                         Traceback (most recent call last)",
      "\u001b[0;32m<ipython-input-2-f240f41e353f>\u001b[0m in \u001b[0;36m<module>\u001b[0;34m\u001b[0m\n\u001b[1;32m    122\u001b[0m     \u001b[0;32mfor\u001b[0m \u001b[0mit\u001b[0m \u001b[0;32min\u001b[0m \u001b[0mtqdm\u001b[0m\u001b[0;34m(\u001b[0m\u001b[0mrange\u001b[0m\u001b[0;34m(\u001b[0m\u001b[0mMAX_ITER\u001b[0m\u001b[0;34m)\u001b[0m\u001b[0;34m)\u001b[0m\u001b[0;34m:\u001b[0m\u001b[0;34m\u001b[0m\u001b[0;34m\u001b[0m\u001b[0m\n\u001b[1;32m    123\u001b[0m         \u001b[0mstate\u001b[0m \u001b[0;34m=\u001b[0m \u001b[0mget_graph_from_obs\u001b[0m\u001b[0;34m(\u001b[0m\u001b[0mobs\u001b[0m\u001b[0;34m,\u001b[0m \u001b[0maction_set\u001b[0m\u001b[0;34m)\u001b[0m\u001b[0;34m\u001b[0m\u001b[0;34m\u001b[0m\u001b[0m\n\u001b[0;32m--> 124\u001b[0;31m         \u001b[0maction_id\u001b[0m \u001b[0;34m=\u001b[0m \u001b[0mpolicy\u001b[0m\u001b[0;34m(\u001b[0m\u001b[0mstate\u001b[0m\u001b[0;34m,\u001b[0m \u001b[0maction_set\u001b[0m\u001b[0;34m)\u001b[0m\u001b[0;34m\u001b[0m\u001b[0;34m\u001b[0m\u001b[0m\n\u001b[0m\u001b[1;32m    125\u001b[0m         \u001b[0;31m# Step through environment using chosen action\u001b[0m\u001b[0;34m\u001b[0m\u001b[0;34m\u001b[0m\u001b[0;34m\u001b[0m\u001b[0m\n\u001b[1;32m    126\u001b[0m         \u001b[0mnext_obs\u001b[0m\u001b[0;34m,\u001b[0m \u001b[0maction_set\u001b[0m\u001b[0;34m,\u001b[0m \u001b[0mnext_reward\u001b[0m\u001b[0;34m,\u001b[0m \u001b[0mdone\u001b[0m\u001b[0;34m,\u001b[0m \u001b[0m_\u001b[0m \u001b[0;34m=\u001b[0m \u001b[0menv\u001b[0m\u001b[0;34m.\u001b[0m\u001b[0mstep\u001b[0m\u001b[0;34m(\u001b[0m\u001b[0maction_set\u001b[0m\u001b[0;34m[\u001b[0m\u001b[0maction_id\u001b[0m\u001b[0;34m]\u001b[0m\u001b[0;34m)\u001b[0m\u001b[0;34m\u001b[0m\u001b[0;34m\u001b[0m\u001b[0m\n",
      "\u001b[0;32m/scratch/sagar/Projects/combopt/venv/lib/python3.6/site-packages/torch/nn/modules/module.py\u001b[0m in \u001b[0;36m_call_impl\u001b[0;34m(self, *input, **kwargs)\u001b[0m\n\u001b[1;32m    887\u001b[0m             \u001b[0mresult\u001b[0m \u001b[0;34m=\u001b[0m \u001b[0mself\u001b[0m\u001b[0;34m.\u001b[0m\u001b[0m_slow_forward\u001b[0m\u001b[0;34m(\u001b[0m\u001b[0;34m*\u001b[0m\u001b[0minput\u001b[0m\u001b[0;34m,\u001b[0m \u001b[0;34m**\u001b[0m\u001b[0mkwargs\u001b[0m\u001b[0;34m)\u001b[0m\u001b[0;34m\u001b[0m\u001b[0;34m\u001b[0m\u001b[0m\n\u001b[1;32m    888\u001b[0m         \u001b[0;32melse\u001b[0m\u001b[0;34m:\u001b[0m\u001b[0;34m\u001b[0m\u001b[0;34m\u001b[0m\u001b[0m\n\u001b[0;32m--> 889\u001b[0;31m             \u001b[0mresult\u001b[0m \u001b[0;34m=\u001b[0m \u001b[0mself\u001b[0m\u001b[0;34m.\u001b[0m\u001b[0mforward\u001b[0m\u001b[0;34m(\u001b[0m\u001b[0;34m*\u001b[0m\u001b[0minput\u001b[0m\u001b[0;34m,\u001b[0m \u001b[0;34m**\u001b[0m\u001b[0mkwargs\u001b[0m\u001b[0;34m)\u001b[0m\u001b[0;34m\u001b[0m\u001b[0;34m\u001b[0m\u001b[0m\n\u001b[0m\u001b[1;32m    890\u001b[0m         for hook in itertools.chain(\n\u001b[1;32m    891\u001b[0m                 \u001b[0m_global_forward_hooks\u001b[0m\u001b[0;34m.\u001b[0m\u001b[0mvalues\u001b[0m\u001b[0;34m(\u001b[0m\u001b[0;34m)\u001b[0m\u001b[0;34m,\u001b[0m\u001b[0;34m\u001b[0m\u001b[0;34m\u001b[0m\u001b[0m\n",
      "\u001b[0;32m<ipython-input-2-f240f41e353f>\u001b[0m in \u001b[0;36mforward\u001b[0;34m(self, state, action_set)\u001b[0m\n\u001b[1;32m     34\u001b[0m \u001b[0;34m\u001b[0m\u001b[0m\n\u001b[1;32m     35\u001b[0m     \u001b[0;32mdef\u001b[0m \u001b[0mforward\u001b[0m\u001b[0;34m(\u001b[0m\u001b[0mself\u001b[0m\u001b[0;34m,\u001b[0m \u001b[0mstate\u001b[0m\u001b[0;34m,\u001b[0m \u001b[0maction_set\u001b[0m\u001b[0;34m)\u001b[0m\u001b[0;34m:\u001b[0m\u001b[0;34m\u001b[0m\u001b[0;34m\u001b[0m\u001b[0m\n\u001b[0;32m---> 36\u001b[0;31m         \u001b[0mlogits\u001b[0m \u001b[0;34m=\u001b[0m \u001b[0mself\u001b[0m\u001b[0;34m.\u001b[0m\u001b[0mpolicy_net\u001b[0m\u001b[0;34m(\u001b[0m\u001b[0mstate\u001b[0m\u001b[0;34m.\u001b[0m\u001b[0mantenna_features\u001b[0m\u001b[0;34m,\u001b[0m \u001b[0mstate\u001b[0m\u001b[0;34m.\u001b[0m\u001b[0medge_index\u001b[0m\u001b[0;34m,\u001b[0m \u001b[0mstate\u001b[0m\u001b[0;34m.\u001b[0m\u001b[0medge_attr\u001b[0m\u001b[0;34m,\u001b[0m \u001b[0mstate\u001b[0m\u001b[0;34m.\u001b[0m\u001b[0mvariable_features\u001b[0m\u001b[0;34m)\u001b[0m\u001b[0;34m\u001b[0m\u001b[0;34m\u001b[0m\u001b[0m\n\u001b[0m\u001b[1;32m     37\u001b[0m         \u001b[0mprob\u001b[0m \u001b[0;34m=\u001b[0m \u001b[0mCategorical\u001b[0m\u001b[0;34m(\u001b[0m\u001b[0mself\u001b[0m\u001b[0;34m.\u001b[0m\u001b[0msf\u001b[0m\u001b[0;34m(\u001b[0m\u001b[0mlogits\u001b[0m\u001b[0;34m[\u001b[0m\u001b[0mstate\u001b[0m\u001b[0;34m.\u001b[0m\u001b[0mcandidates\u001b[0m\u001b[0;34m]\u001b[0m\u001b[0;34m/\u001b[0m\u001b[0mself\u001b[0m\u001b[0;34m.\u001b[0m\u001b[0mtemperature\u001b[0m\u001b[0;34m)\u001b[0m\u001b[0;34m)\u001b[0m\u001b[0;34m\u001b[0m\u001b[0;34m\u001b[0m\u001b[0m\n\u001b[1;32m     38\u001b[0m         \u001b[0maction_id\u001b[0m \u001b[0;34m=\u001b[0m \u001b[0mprob\u001b[0m\u001b[0;34m.\u001b[0m\u001b[0msample\u001b[0m\u001b[0;34m(\u001b[0m\u001b[0;34m)\u001b[0m\u001b[0;34m\u001b[0m\u001b[0;34m\u001b[0m\u001b[0m\n",
      "\u001b[0;32m/scratch/sagar/Projects/combopt/venv/lib/python3.6/site-packages/torch/nn/modules/module.py\u001b[0m in \u001b[0;36m_call_impl\u001b[0;34m(self, *input, **kwargs)\u001b[0m\n\u001b[1;32m    887\u001b[0m             \u001b[0mresult\u001b[0m \u001b[0;34m=\u001b[0m \u001b[0mself\u001b[0m\u001b[0;34m.\u001b[0m\u001b[0m_slow_forward\u001b[0m\u001b[0;34m(\u001b[0m\u001b[0;34m*\u001b[0m\u001b[0minput\u001b[0m\u001b[0;34m,\u001b[0m \u001b[0;34m**\u001b[0m\u001b[0mkwargs\u001b[0m\u001b[0;34m)\u001b[0m\u001b[0;34m\u001b[0m\u001b[0;34m\u001b[0m\u001b[0m\n\u001b[1;32m    888\u001b[0m         \u001b[0;32melse\u001b[0m\u001b[0;34m:\u001b[0m\u001b[0;34m\u001b[0m\u001b[0;34m\u001b[0m\u001b[0m\n\u001b[0;32m--> 889\u001b[0;31m             \u001b[0mresult\u001b[0m \u001b[0;34m=\u001b[0m \u001b[0mself\u001b[0m\u001b[0;34m.\u001b[0m\u001b[0mforward\u001b[0m\u001b[0;34m(\u001b[0m\u001b[0;34m*\u001b[0m\u001b[0minput\u001b[0m\u001b[0;34m,\u001b[0m \u001b[0;34m**\u001b[0m\u001b[0mkwargs\u001b[0m\u001b[0;34m)\u001b[0m\u001b[0;34m\u001b[0m\u001b[0;34m\u001b[0m\u001b[0m\n\u001b[0m\u001b[1;32m    890\u001b[0m         for hook in itertools.chain(\n\u001b[1;32m    891\u001b[0m                 \u001b[0m_global_forward_hooks\u001b[0m\u001b[0;34m.\u001b[0m\u001b[0mvalues\u001b[0m\u001b[0;34m(\u001b[0m\u001b[0;34m)\u001b[0m\u001b[0;34m,\u001b[0m\u001b[0;34m\u001b[0m\u001b[0;34m\u001b[0m\u001b[0m\n",
      "\u001b[0;32m/scratch/sagar/Projects/combopt/branch-and-bound-ml/acr_bb/gnn_policy.py\u001b[0m in \u001b[0;36mforward\u001b[0;34m(self, constraint_features, edge_indices, edge_features, variable_features)\u001b[0m\n\u001b[1;32m     63\u001b[0m         \u001b[0;31m# First step: linear embedding layers to a common dimension (64)\u001b[0m\u001b[0;34m\u001b[0m\u001b[0;34m\u001b[0m\u001b[0;34m\u001b[0m\u001b[0m\n\u001b[1;32m     64\u001b[0m         \u001b[0mconstraint_features\u001b[0m \u001b[0;34m=\u001b[0m \u001b[0mself\u001b[0m\u001b[0;34m.\u001b[0m\u001b[0mantenna_embedding\u001b[0m\u001b[0;34m(\u001b[0m\u001b[0mconstraint_features\u001b[0m\u001b[0;34m)\u001b[0m\u001b[0;34m\u001b[0m\u001b[0;34m\u001b[0m\u001b[0m\n\u001b[0;32m---> 65\u001b[0;31m         \u001b[0medge_features\u001b[0m \u001b[0;34m=\u001b[0m \u001b[0mself\u001b[0m\u001b[0;34m.\u001b[0m\u001b[0medge_embedding\u001b[0m\u001b[0;34m(\u001b[0m\u001b[0medge_features\u001b[0m\u001b[0;34m)\u001b[0m\u001b[0;34m\u001b[0m\u001b[0;34m\u001b[0m\u001b[0m\n\u001b[0m\u001b[1;32m     66\u001b[0m         \u001b[0mvariable_features\u001b[0m \u001b[0;34m=\u001b[0m \u001b[0mself\u001b[0m\u001b[0;34m.\u001b[0m\u001b[0mvar_embedding\u001b[0m\u001b[0;34m(\u001b[0m\u001b[0mvariable_features\u001b[0m\u001b[0;34m)\u001b[0m\u001b[0;34m\u001b[0m\u001b[0;34m\u001b[0m\u001b[0m\n\u001b[1;32m     67\u001b[0m \u001b[0;34m\u001b[0m\u001b[0m\n",
      "\u001b[0;32m/scratch/sagar/Projects/combopt/venv/lib/python3.6/site-packages/torch/nn/modules/module.py\u001b[0m in \u001b[0;36m_call_impl\u001b[0;34m(self, *input, **kwargs)\u001b[0m\n\u001b[1;32m    887\u001b[0m             \u001b[0mresult\u001b[0m \u001b[0;34m=\u001b[0m \u001b[0mself\u001b[0m\u001b[0;34m.\u001b[0m\u001b[0m_slow_forward\u001b[0m\u001b[0;34m(\u001b[0m\u001b[0;34m*\u001b[0m\u001b[0minput\u001b[0m\u001b[0;34m,\u001b[0m \u001b[0;34m**\u001b[0m\u001b[0mkwargs\u001b[0m\u001b[0;34m)\u001b[0m\u001b[0;34m\u001b[0m\u001b[0;34m\u001b[0m\u001b[0m\n\u001b[1;32m    888\u001b[0m         \u001b[0;32melse\u001b[0m\u001b[0;34m:\u001b[0m\u001b[0;34m\u001b[0m\u001b[0;34m\u001b[0m\u001b[0m\n\u001b[0;32m--> 889\u001b[0;31m             \u001b[0mresult\u001b[0m \u001b[0;34m=\u001b[0m \u001b[0mself\u001b[0m\u001b[0;34m.\u001b[0m\u001b[0mforward\u001b[0m\u001b[0;34m(\u001b[0m\u001b[0;34m*\u001b[0m\u001b[0minput\u001b[0m\u001b[0;34m,\u001b[0m \u001b[0;34m**\u001b[0m\u001b[0mkwargs\u001b[0m\u001b[0;34m)\u001b[0m\u001b[0;34m\u001b[0m\u001b[0;34m\u001b[0m\u001b[0m\n\u001b[0m\u001b[1;32m    890\u001b[0m         for hook in itertools.chain(\n\u001b[1;32m    891\u001b[0m                 \u001b[0m_global_forward_hooks\u001b[0m\u001b[0;34m.\u001b[0m\u001b[0mvalues\u001b[0m\u001b[0;34m(\u001b[0m\u001b[0;34m)\u001b[0m\u001b[0;34m,\u001b[0m\u001b[0;34m\u001b[0m\u001b[0;34m\u001b[0m\u001b[0m\n",
      "\u001b[0;32m/scratch/sagar/Projects/combopt/venv/lib/python3.6/site-packages/torch/nn/modules/container.py\u001b[0m in \u001b[0;36mforward\u001b[0;34m(self, input)\u001b[0m\n\u001b[1;32m    117\u001b[0m     \u001b[0;32mdef\u001b[0m \u001b[0mforward\u001b[0m\u001b[0;34m(\u001b[0m\u001b[0mself\u001b[0m\u001b[0;34m,\u001b[0m \u001b[0minput\u001b[0m\u001b[0;34m)\u001b[0m\u001b[0;34m:\u001b[0m\u001b[0;34m\u001b[0m\u001b[0;34m\u001b[0m\u001b[0m\n\u001b[1;32m    118\u001b[0m         \u001b[0;32mfor\u001b[0m \u001b[0mmodule\u001b[0m \u001b[0;32min\u001b[0m \u001b[0mself\u001b[0m\u001b[0;34m:\u001b[0m\u001b[0;34m\u001b[0m\u001b[0;34m\u001b[0m\u001b[0m\n\u001b[0;32m--> 119\u001b[0;31m             \u001b[0minput\u001b[0m \u001b[0;34m=\u001b[0m \u001b[0mmodule\u001b[0m\u001b[0;34m(\u001b[0m\u001b[0minput\u001b[0m\u001b[0;34m)\u001b[0m\u001b[0;34m\u001b[0m\u001b[0;34m\u001b[0m\u001b[0m\n\u001b[0m\u001b[1;32m    120\u001b[0m         \u001b[0;32mreturn\u001b[0m \u001b[0minput\u001b[0m\u001b[0;34m\u001b[0m\u001b[0;34m\u001b[0m\u001b[0m\n\u001b[1;32m    121\u001b[0m \u001b[0;34m\u001b[0m\u001b[0m\n",
      "\u001b[0;32m/scratch/sagar/Projects/combopt/venv/lib/python3.6/site-packages/torch/nn/modules/module.py\u001b[0m in \u001b[0;36m_call_impl\u001b[0;34m(self, *input, **kwargs)\u001b[0m\n\u001b[1;32m    887\u001b[0m             \u001b[0mresult\u001b[0m \u001b[0;34m=\u001b[0m \u001b[0mself\u001b[0m\u001b[0;34m.\u001b[0m\u001b[0m_slow_forward\u001b[0m\u001b[0;34m(\u001b[0m\u001b[0;34m*\u001b[0m\u001b[0minput\u001b[0m\u001b[0;34m,\u001b[0m \u001b[0;34m**\u001b[0m\u001b[0mkwargs\u001b[0m\u001b[0;34m)\u001b[0m\u001b[0;34m\u001b[0m\u001b[0;34m\u001b[0m\u001b[0m\n\u001b[1;32m    888\u001b[0m         \u001b[0;32melse\u001b[0m\u001b[0;34m:\u001b[0m\u001b[0;34m\u001b[0m\u001b[0;34m\u001b[0m\u001b[0m\n\u001b[0;32m--> 889\u001b[0;31m             \u001b[0mresult\u001b[0m \u001b[0;34m=\u001b[0m \u001b[0mself\u001b[0m\u001b[0;34m.\u001b[0m\u001b[0mforward\u001b[0m\u001b[0;34m(\u001b[0m\u001b[0;34m*\u001b[0m\u001b[0minput\u001b[0m\u001b[0;34m,\u001b[0m \u001b[0;34m**\u001b[0m\u001b[0mkwargs\u001b[0m\u001b[0;34m)\u001b[0m\u001b[0;34m\u001b[0m\u001b[0;34m\u001b[0m\u001b[0m\n\u001b[0m\u001b[1;32m    890\u001b[0m         for hook in itertools.chain(\n\u001b[1;32m    891\u001b[0m                 \u001b[0m_global_forward_hooks\u001b[0m\u001b[0;34m.\u001b[0m\u001b[0mvalues\u001b[0m\u001b[0;34m(\u001b[0m\u001b[0;34m)\u001b[0m\u001b[0;34m,\u001b[0m\u001b[0;34m\u001b[0m\u001b[0;34m\u001b[0m\u001b[0m\n",
      "\u001b[0;32m/scratch/sagar/Projects/combopt/venv/lib/python3.6/site-packages/torch/nn/modules/normalization.py\u001b[0m in \u001b[0;36mforward\u001b[0;34m(self, input)\u001b[0m\n\u001b[1;32m    169\u001b[0m     \u001b[0;32mdef\u001b[0m \u001b[0mforward\u001b[0m\u001b[0;34m(\u001b[0m\u001b[0mself\u001b[0m\u001b[0;34m,\u001b[0m \u001b[0minput\u001b[0m\u001b[0;34m:\u001b[0m \u001b[0mTensor\u001b[0m\u001b[0;34m)\u001b[0m \u001b[0;34m->\u001b[0m \u001b[0mTensor\u001b[0m\u001b[0;34m:\u001b[0m\u001b[0;34m\u001b[0m\u001b[0;34m\u001b[0m\u001b[0m\n\u001b[1;32m    170\u001b[0m         return F.layer_norm(\n\u001b[0;32m--> 171\u001b[0;31m             input, self.normalized_shape, self.weight, self.bias, self.eps)\n\u001b[0m\u001b[1;32m    172\u001b[0m \u001b[0;34m\u001b[0m\u001b[0m\n\u001b[1;32m    173\u001b[0m     \u001b[0;32mdef\u001b[0m \u001b[0mextra_repr\u001b[0m\u001b[0;34m(\u001b[0m\u001b[0mself\u001b[0m\u001b[0;34m)\u001b[0m \u001b[0;34m->\u001b[0m \u001b[0mstr\u001b[0m\u001b[0;34m:\u001b[0m\u001b[0;34m\u001b[0m\u001b[0;34m\u001b[0m\u001b[0m\n",
      "\u001b[0;32m/scratch/sagar/Projects/combopt/venv/lib/python3.6/site-packages/torch/nn/functional.py\u001b[0m in \u001b[0;36mlayer_norm\u001b[0;34m(input, normalized_shape, weight, bias, eps)\u001b[0m\n\u001b[1;32m   2203\u001b[0m             \u001b[0mlayer_norm\u001b[0m\u001b[0;34m,\u001b[0m \u001b[0;34m(\u001b[0m\u001b[0minput\u001b[0m\u001b[0;34m,\u001b[0m\u001b[0;34m)\u001b[0m\u001b[0;34m,\u001b[0m \u001b[0minput\u001b[0m\u001b[0;34m,\u001b[0m \u001b[0mnormalized_shape\u001b[0m\u001b[0;34m,\u001b[0m \u001b[0mweight\u001b[0m\u001b[0;34m=\u001b[0m\u001b[0mweight\u001b[0m\u001b[0;34m,\u001b[0m \u001b[0mbias\u001b[0m\u001b[0;34m=\u001b[0m\u001b[0mbias\u001b[0m\u001b[0;34m,\u001b[0m \u001b[0meps\u001b[0m\u001b[0;34m=\u001b[0m\u001b[0meps\u001b[0m\u001b[0;34m\u001b[0m\u001b[0;34m\u001b[0m\u001b[0m\n\u001b[1;32m   2204\u001b[0m         )\n\u001b[0;32m-> 2205\u001b[0;31m     \u001b[0;32mreturn\u001b[0m \u001b[0mtorch\u001b[0m\u001b[0;34m.\u001b[0m\u001b[0mlayer_norm\u001b[0m\u001b[0;34m(\u001b[0m\u001b[0minput\u001b[0m\u001b[0;34m,\u001b[0m \u001b[0mnormalized_shape\u001b[0m\u001b[0;34m,\u001b[0m \u001b[0mweight\u001b[0m\u001b[0;34m,\u001b[0m \u001b[0mbias\u001b[0m\u001b[0;34m,\u001b[0m \u001b[0meps\u001b[0m\u001b[0;34m,\u001b[0m \u001b[0mtorch\u001b[0m\u001b[0;34m.\u001b[0m\u001b[0mbackends\u001b[0m\u001b[0;34m.\u001b[0m\u001b[0mcudnn\u001b[0m\u001b[0;34m.\u001b[0m\u001b[0menabled\u001b[0m\u001b[0;34m)\u001b[0m\u001b[0;34m\u001b[0m\u001b[0;34m\u001b[0m\u001b[0m\n\u001b[0m\u001b[1;32m   2206\u001b[0m \u001b[0;34m\u001b[0m\u001b[0m\n\u001b[1;32m   2207\u001b[0m \u001b[0;34m\u001b[0m\u001b[0m\n",
      "\u001b[0;31mKeyboardInterrupt\u001b[0m: "
     ]
    }
   ],
   "source": [
    "import torch.nn as nn\n",
    "import numpy as np\n",
    "import torch\n",
    "import torch.nn.functional as F\n",
    "import torch_geometric\n",
    "from gnn_dataset import BipartiteNodeData, GraphDataset, Experience\n",
    "from gnn_policy import GNNPolicy, BipartiteGraphConvolution, Critic\n",
    "from tqdm import tqdm\n",
    "from pathlib import Path\n",
    "from acr_bb import ACRBBenv, instance_generator\n",
    "from torch.distributions import Categorical\n",
    "from tqdm import trange\n",
    "from torch.autograd import Variable\n",
    "from tqdm.notebook import tqdm\n",
    "from helpers import get_graph_from_obs\n",
    "\n",
    "class Policy(nn.Module):\n",
    "    def __init__(self, init_policy_net, temperature, gamma=0.99):\n",
    "        super().__init__()\n",
    "        self.policy_net = init_policy_net\n",
    "        self.temperature = temperature\n",
    "        self.sf = nn.Softmax()\n",
    "        self.gamma = gamma\n",
    "        # Episode policy and reward history \n",
    "        self.policy_history = torch.Tensor()\n",
    "        self.reward_episode = []\n",
    "        \n",
    "        # Overall reward and loss history\n",
    "        self.reward_history = []\n",
    "        self.loss_history = []\n",
    "        \n",
    "    def reset(self):\n",
    "        self.policy_history = torch.Tensor()\n",
    "        \n",
    "    def forward(self, state, action_set):\n",
    "        logits = self.policy_net(state.antenna_features, state.edge_index, state.edge_attr, state.variable_features)\n",
    "        prob = Categorical(self.sf(logits[state.candidates]/self.temperature))\n",
    "        action_id = prob.sample()\n",
    "        # print(logits, action_id)\n",
    "        # Add log probability of our chosen action to our history    \n",
    "        if self.policy_history.dim() != 0:\n",
    "            self.policy_history = torch.cat([self.policy_history, prob.log_prob(action_id.unsqueeze(dim=0))])\n",
    "        else:\n",
    "            self.policy_history = (prob.log_prob(action_id))\n",
    "        return action_id\n",
    "    \n",
    "\n",
    "# add policy network\n",
    "MAX_ITER = 1000\n",
    "ACTOR_LR = 0.001\n",
    "CRITIC_LR = 0.001\n",
    "DEVICE = torch.device('cpu')\n",
    "\n",
    "punishment_for_incomplete_episode = -1000\n",
    "temperature = 2\n",
    "GAMMA = 0.99\n",
    "\n",
    "d = torch.load('trained_models/trained_params.pkl')\n",
    "policy_net = GNNPolicy()\n",
    "# policy_net.load_state_dict( d )\n",
    "policy = Policy(policy_net, temperature, gamma=GAMMA)\n",
    "\n",
    "critic = Critic()\n",
    "critic_loss_fn = nn.SmoothL1Loss()\n",
    "env = ACRBBenv()\n",
    "M = 4\n",
    "N = 8\n",
    "instances = instance_generator(M,N)\n",
    "num_episodes = 2000\n",
    "\n",
    "# def main(num_episodes):\n",
    "running_reward = -1\n",
    "avg_length = []\n",
    "\n",
    "num_target_updates = 10 \n",
    "num_grad_steps_per_target_update = 10 \n",
    "num_actor_updates = 1\n",
    "\n",
    "optimizer_actor = torch.optim.Adam(policy.parameters(), lr=ACTOR_LR)\n",
    "optimizer_critic = torch.optim.Adam(critic.parameters(), lr=CRITIC_LR)\n",
    "\n",
    "\n",
    "def update_actor_critic(optimizer_actor, optimizer_critic, experience):\n",
    "\n",
    "    current_state, action, reward, next_state, terminal = experience.get_batch()\n",
    "    for i in range(num_target_updates):\n",
    "        with torch.no_grad():\n",
    "            vs1 = critic(next_state).reshape([len(action), -1]).sum(dim=1)\n",
    "            vs1[terminal] = 0\n",
    "        critic_target = reward + GAMMA*vs1\n",
    "\n",
    "        \n",
    "        for j in range(num_grad_steps_per_target_update):\n",
    "            optimizer_critic.zero_grad()\n",
    "            vs = critic(current_state).reshape([len(action), -1]).sum(dim=1)\n",
    "            critic_loss = critic_loss_fn(critic_target.detach(), vs)\n",
    "            critic_loss.backward()\n",
    "            optimizer_critic.step()\n",
    "        \n",
    "    \n",
    "    advantage = critic_target - vs\n",
    "    \n",
    "    # Update network weights\n",
    "    optimizer_actor.zero_grad()\n",
    "    actor_loss = (torch.sum(torch.mul(policy.policy_history, Variable(advantage)).mul(-1), -1))\n",
    "    actor_loss.backward()\n",
    "    optimizer_actor.step()\n",
    "    \n",
    "    \n",
    "    \n",
    "for i in tqdm(range(num_episodes)):\n",
    "    instance = next(instances)\n",
    "    policy.reset()\n",
    "    experience = Experience()\n",
    "    \n",
    "    obs, action_set, reward, done, _ = env.reset(instance)\n",
    "\n",
    "    if done:\n",
    "        policy.reward_episode.append(reward)\n",
    "        continue\n",
    "\n",
    "    for it in tqdm(range(MAX_ITER)):\n",
    "        state = get_graph_from_obs(obs, action_set)\n",
    "        action_id = policy(state, action_set)\n",
    "        # Step through environment using chosen action\n",
    "        next_obs, action_set, next_reward, done, _ = env.step(action_set[action_id])\n",
    "        \n",
    "        experience.push(obs, action_id, next_reward, next_obs, done)\n",
    "        obs = next_obs\n",
    "        \n",
    "        if done:\n",
    "            print(done)\n",
    "            break\n",
    "        if next_reward < -5:\n",
    "            break\n",
    "        \n",
    "    update_actor_critic(optimizer_actor, optimizer_critic, experience )\n",
    "    \n",
    "    avg_length.append(it)\n",
    "    if i % 10 == 0:\n",
    "        print('Episode {}\\tAverage length: {:.2f}'.format(i, np.mean(avg_length)))\n",
    "        avg_length = []\n",
    "torch.save( policy.policy_net.state_dict(), 'trained_models/unsupervised2.pkl')"
   ]
  },
  {
   "cell_type": "code",
   "execution_count": 6,
   "id": "51749d36",
   "metadata": {},
   "outputs": [
    {
     "data": {
      "text/plain": [
       "array([[-0.00603163,  0.09213643,  0.09233364],\n",
       "       [ 0.00320729,  0.08692668,  0.08698582],\n",
       "       [-0.04042854,  0.08689565,  0.09584008],\n",
       "       [ 0.02101943,  0.04579527,  0.05038872],\n",
       "       [-0.05852153,  0.10975336,  0.12438074],\n",
       "       [ 0.03422417, -0.08681951,  0.0933216 ],\n",
       "       [ 0.02037475, -0.02240347,  0.03028276],\n",
       "       [ 0.04327142,  0.02741518,  0.05122507]])"
      ]
     },
     "execution_count": 6,
     "metadata": {},
     "output_type": "execute_result"
    }
   ],
   "source": [
    "experience.current_state[-1].antenna_feature"
   ]
  },
  {
   "cell_type": "code",
   "execution_count": 7,
   "id": "eba1a5b7",
   "metadata": {},
   "outputs": [
    {
     "data": {
      "text/plain": [
       "[<acr_bb.Observation at 0x7f317ada5f98>,\n",
       " <acr_bb.Observation at 0x7f317a558278>,\n",
       " <acr_bb.Observation at 0x7f317a5604a8>,\n",
       " <acr_bb.Observation at 0x7f317a560898>,\n",
       " <acr_bb.Observation at 0x7f317a560588>,\n",
       " <acr_bb.Observation at 0x7f317a558080>,\n",
       " <acr_bb.Observation at 0x7f317a5608d0>,\n",
       " <acr_bb.Observation at 0x7f317a560940>,\n",
       " <acr_bb.Observation at 0x7f317a560908>,\n",
       " <acr_bb.Observation at 0x7f317a560748>,\n",
       " <acr_bb.Observation at 0x7f317a560b38>,\n",
       " <acr_bb.Observation at 0x7f317a560c50>,\n",
       " <acr_bb.Observation at 0x7f317a560828>,\n",
       " <acr_bb.Observation at 0x7f317a560128>,\n",
       " <acr_bb.Observation at 0x7f317a5603c8>,\n",
       " <acr_bb.Observation at 0x7f317a560c88>,\n",
       " <acr_bb.Observation at 0x7f317a560ef0>,\n",
       " <acr_bb.Observation at 0x7f317a560fd0>,\n",
       " <acr_bb.Observation at 0x7f317a560f98>,\n",
       " <acr_bb.Observation at 0x7f317a54ceb8>,\n",
       " <acr_bb.Observation at 0x7f317a560400>,\n",
       " <acr_bb.Observation at 0x7f317a560dd8>,\n",
       " <acr_bb.Observation at 0x7f317a57a358>,\n",
       " <acr_bb.Observation at 0x7f317a560cf8>,\n",
       " <acr_bb.Observation at 0x7f317a560b00>,\n",
       " <acr_bb.Observation at 0x7f317a57a5c0>,\n",
       " <acr_bb.Observation at 0x7f317a57a278>,\n",
       " <acr_bb.Observation at 0x7f317a560e80>,\n",
       " <acr_bb.Observation at 0x7f317a57a2b0>,\n",
       " <acr_bb.Observation at 0x7f317a57a320>,\n",
       " <acr_bb.Observation at 0x7f317a560f28>,\n",
       " <acr_bb.Observation at 0x7f317a5609e8>,\n",
       " <acr_bb.Observation at 0x7f317a560da0>,\n",
       " <acr_bb.Observation at 0x7f317a57aac8>,\n",
       " <acr_bb.Observation at 0x7f317a5607b8>,\n",
       " <acr_bb.Observation at 0x7f317a57a940>,\n",
       " <acr_bb.Observation at 0x7f317a57aa90>,\n",
       " <acr_bb.Observation at 0x7f317a5609b0>,\n",
       " <acr_bb.Observation at 0x7f317a57a588>,\n",
       " <acr_bb.Observation at 0x7f317a57aef0>,\n",
       " <acr_bb.Observation at 0x7f317a57aeb8>,\n",
       " <acr_bb.Observation at 0x7f317a57acc0>,\n",
       " <acr_bb.Observation at 0x7f31784a90b8>,\n",
       " <acr_bb.Observation at 0x7f31784a9160>,\n",
       " <acr_bb.Observation at 0x7f31784a9198>,\n",
       " <acr_bb.Observation at 0x7f31784a92b0>,\n",
       " <acr_bb.Observation at 0x7f31784a92e8>,\n",
       " <acr_bb.Observation at 0x7f31784a9400>,\n",
       " <acr_bb.Observation at 0x7f31784a90f0>,\n",
       " <acr_bb.Observation at 0x7f317a57ac88>,\n",
       " <acr_bb.Observation at 0x7f31784a9630>,\n",
       " <acr_bb.Observation at 0x7f31784a9438>,\n",
       " <acr_bb.Observation at 0x7f31784a96a0>,\n",
       " <acr_bb.Observation at 0x7f31784a95f8>,\n",
       " <acr_bb.Observation at 0x7f31784a9898>,\n",
       " <acr_bb.Observation at 0x7f31784a98d0>,\n",
       " <acr_bb.Observation at 0x7f317a57a978>,\n",
       " <acr_bb.Observation at 0x7f31784a9a90>,\n",
       " <acr_bb.Observation at 0x7f31784a9ac8>,\n",
       " <acr_bb.Observation at 0x7f31784a9be0>,\n",
       " <acr_bb.Observation at 0x7f31784a9c18>,\n",
       " <acr_bb.Observation at 0x7f31784a9e80>,\n",
       " <acr_bb.Observation at 0x7f31784a9d68>,\n",
       " <acr_bb.Observation at 0x7f31784a9ef0>,\n",
       " <acr_bb.Observation at 0x7f31784a9eb8>,\n",
       " <acr_bb.Observation at 0x7f317a57add8>,\n",
       " <acr_bb.Observation at 0x7f317a57a208>,\n",
       " <acr_bb.Observation at 0x7f317a57ac18>,\n",
       " <acr_bb.Observation at 0x7f317a57a780>,\n",
       " <acr_bb.Observation at 0x7f317a57a6d8>,\n",
       " <acr_bb.Observation at 0x7f317a57aa20>,\n",
       " <acr_bb.Observation at 0x7f317a57a0b8>,\n",
       " <acr_bb.Observation at 0x7f317a57a828>,\n",
       " <acr_bb.Observation at 0x7f31784a9e48>,\n",
       " <acr_bb.Observation at 0x7f317a560a90>,\n",
       " <acr_bb.Observation at 0x7f31784af550>,\n",
       " <acr_bb.Observation at 0x7f31784af7b8>,\n",
       " <acr_bb.Observation at 0x7f317a57abe0>,\n",
       " <acr_bb.Observation at 0x7f31784af2b0>,\n",
       " <acr_bb.Observation at 0x7f31784af978>,\n",
       " <acr_bb.Observation at 0x7f31784af780>,\n",
       " <acr_bb.Observation at 0x7f317a560a58>,\n",
       " <acr_bb.Observation at 0x7f317a57a748>,\n",
       " <acr_bb.Observation at 0x7f317a57ab70>,\n",
       " <acr_bb.Observation at 0x7f31784af2e8>,\n",
       " <acr_bb.Observation at 0x7f317a57a128>,\n",
       " <acr_bb.Observation at 0x7f31784a9390>,\n",
       " <acr_bb.Observation at 0x7f317a57a080>,\n",
       " <acr_bb.Observation at 0x7f31784a94a8>,\n",
       " <acr_bb.Observation at 0x7f31784affd0>,\n",
       " <acr_bb.Observation at 0x7f31784b7048>,\n",
       " <acr_bb.Observation at 0x7f31784afc88>,\n",
       " <acr_bb.Observation at 0x7f31784a9828>,\n",
       " <acr_bb.Observation at 0x7f31784af0f0>,\n",
       " <acr_bb.Observation at 0x7f317a57a550>,\n",
       " <acr_bb.Observation at 0x7f31784afe10>,\n",
       " <acr_bb.Observation at 0x7f31784aff28>,\n",
       " <acr_bb.Observation at 0x7f317a57a518>,\n",
       " <acr_bb.Observation at 0x7f31784b7748>,\n",
       " <acr_bb.Observation at 0x7f31784a9710>,\n",
       " <acr_bb.Observation at 0x7f31784af438>,\n",
       " <acr_bb.Observation at 0x7f31784afb70>,\n",
       " <acr_bb.Observation at 0x7f317a57a470>,\n",
       " <acr_bb.Observation at 0x7f31784b7940>,\n",
       " <acr_bb.Observation at 0x7f317a57a400>,\n",
       " <acr_bb.Observation at 0x7f31784b7400>,\n",
       " <acr_bb.Observation at 0x7f317a57a5f8>,\n",
       " <acr_bb.Observation at 0x7f317a57a160>,\n",
       " <acr_bb.Observation at 0x7f31784af0b8>,\n",
       " <acr_bb.Observation at 0x7f31784afbe0>,\n",
       " <acr_bb.Observation at 0x7f31784af898>,\n",
       " <acr_bb.Observation at 0x7f31784b7f98>,\n",
       " <acr_bb.Observation at 0x7f31784af9e8>,\n",
       " <acr_bb.Observation at 0x7f317a57a1d0>,\n",
       " <acr_bb.Observation at 0x7f31784af208>,\n",
       " <acr_bb.Observation at 0x7f31784a9dd8>,\n",
       " <acr_bb.Observation at 0x7f31784be208>,\n",
       " <acr_bb.Observation at 0x7f317a57ae10>,\n",
       " <acr_bb.Observation at 0x7f31784be0b8>,\n",
       " <acr_bb.Observation at 0x7f31784be400>,\n",
       " <acr_bb.Observation at 0x7f31784b7ef0>,\n",
       " <acr_bb.Observation at 0x7f31784af630>,\n",
       " <acr_bb.Observation at 0x7f31784be240>,\n",
       " <acr_bb.Observation at 0x7f31784be710>,\n",
       " <acr_bb.Observation at 0x7f31784be748>,\n",
       " <acr_bb.Observation at 0x7f31784be780>,\n",
       " <acr_bb.Observation at 0x7f31784be6a0>,\n",
       " <acr_bb.Observation at 0x7f317a558e48>,\n",
       " <acr_bb.Observation at 0x7f317ada5cf8>,\n",
       " <acr_bb.Observation at 0x7f317a54c470>,\n",
       " <acr_bb.Observation at 0x7f317a54c4a8>,\n",
       " <acr_bb.Observation at 0x7f317a54ccc0>,\n",
       " <acr_bb.Observation at 0x7f317a5600f0>,\n",
       " <acr_bb.Observation at 0x7f317a558f98>,\n",
       " <acr_bb.Observation at 0x7f317a5606d8>,\n",
       " <acr_bb.Observation at 0x7f317a560e10>,\n",
       " <acr_bb.Observation at 0x7f317a560b70>,\n",
       " <acr_bb.Observation at 0x7f317a57a390>,\n",
       " <acr_bb.Observation at 0x7f317a54c0f0>,\n",
       " <acr_bb.Observation at 0x7f317a57a7b8>,\n",
       " <acr_bb.Observation at 0x7f317a57a240>,\n",
       " <acr_bb.Observation at 0x7f317a54ce10>,\n",
       " <acr_bb.Observation at 0x7f317a57a048>,\n",
       " <acr_bb.Observation at 0x7f317a560be0>,\n",
       " <acr_bb.Observation at 0x7f31784a9278>,\n",
       " <acr_bb.Observation at 0x7f31784a9470>,\n",
       " <acr_bb.Observation at 0x7f31784a9320>,\n",
       " <acr_bb.Observation at 0x7f317a54c5f8>,\n",
       " <acr_bb.Observation at 0x7f31784a95c0>,\n",
       " <acr_bb.Observation at 0x7f31784a9860>,\n",
       " <acr_bb.Observation at 0x7f31784a99b0>,\n",
       " <acr_bb.Observation at 0x7f31784a9c50>,\n",
       " <acr_bb.Observation at 0x7f31784a9128>,\n",
       " <acr_bb.Observation at 0x7f31784a9f98>,\n",
       " <acr_bb.Observation at 0x7f31784a9cc0>,\n",
       " <acr_bb.Observation at 0x7f31784af668>,\n",
       " <acr_bb.Observation at 0x7f317a57a2e8>,\n",
       " <acr_bb.Observation at 0x7f31784a9ba8>,\n",
       " <acr_bb.Observation at 0x7f317a560358>,\n",
       " <acr_bb.Observation at 0x7f31784a9908>,\n",
       " <acr_bb.Observation at 0x7f31784b7be0>,\n",
       " <acr_bb.Observation at 0x7f317a57ad68>,\n",
       " <acr_bb.Observation at 0x7f31784b7ac8>,\n",
       " <acr_bb.Observation at 0x7f31784af400>,\n",
       " <acr_bb.Observation at 0x7f31784b7fd0>,\n",
       " <acr_bb.Observation at 0x7f317a560ba8>,\n",
       " <acr_bb.Observation at 0x7f31784afcf8>,\n",
       " <acr_bb.Observation at 0x7f31784b7908>,\n",
       " <acr_bb.Observation at 0x7f31784afba8>,\n",
       " <acr_bb.Observation at 0x7f31784b7a58>,\n",
       " <acr_bb.Observation at 0x7f31784b7e10>,\n",
       " <acr_bb.Observation at 0x7f31784afd30>,\n",
       " <acr_bb.Observation at 0x7f317a57acf8>,\n",
       " <acr_bb.Observation at 0x7f317a57a198>,\n",
       " <acr_bb.Observation at 0x7f31784af9b0>,\n",
       " <acr_bb.Observation at 0x7f31784b7f60>,\n",
       " <acr_bb.Observation at 0x7f31784afa20>,\n",
       " <acr_bb.Observation at 0x7f31784af588>,\n",
       " <acr_bb.Observation at 0x7f317a54c198>,\n",
       " <acr_bb.Observation at 0x7f31784be7b8>,\n",
       " <acr_bb.Observation at 0x7f317a57a4a8>,\n",
       " <acr_bb.Observation at 0x7f31784be080>,\n",
       " <acr_bb.Observation at 0x7f31784b7278>,\n",
       " <acr_bb.Observation at 0x7f31784b7390>,\n",
       " <acr_bb.Observation at 0x7f31784afda0>,\n",
       " <acr_bb.Observation at 0x7f31784bed68>,\n",
       " <acr_bb.Observation at 0x7f34584d74e0>,\n",
       " <acr_bb.Observation at 0x7f31784beef0>,\n",
       " <acr_bb.Observation at 0x7f31784af160>,\n",
       " <acr_bb.Observation at 0x7f31784b75c0>,\n",
       " <acr_bb.Observation at 0x7f31784af4e0>,\n",
       " <acr_bb.Observation at 0x7f31784af748>,\n",
       " <acr_bb.Observation at 0x7f31784b7c88>,\n",
       " <acr_bb.Observation at 0x7f31784b7b00>,\n",
       " <acr_bb.Observation at 0x7f31784beda0>,\n",
       " <acr_bb.Observation at 0x7f31784d3240>,\n",
       " <acr_bb.Observation at 0x7f31784d30f0>,\n",
       " <acr_bb.Observation at 0x7f31784d3390>,\n",
       " <acr_bb.Observation at 0x7f31784d35c0>,\n",
       " <acr_bb.Observation at 0x7f31784d36d8>,\n",
       " <acr_bb.Observation at 0x7f31784d3160>,\n",
       " <acr_bb.Observation at 0x7f31784d3978>,\n",
       " <acr_bb.Observation at 0x7f31784be3c8>,\n",
       " <acr_bb.Observation at 0x7f31784d39b0>,\n",
       " <acr_bb.Observation at 0x7f31784d3a20>,\n",
       " <acr_bb.Observation at 0x7f31784d3b00>,\n",
       " <acr_bb.Observation at 0x7f31784d3ba8>,\n",
       " <acr_bb.Observation at 0x7f31784d3c18>,\n",
       " <acr_bb.Observation at 0x7f31784d3cf8>,\n",
       " <acr_bb.Observation at 0x7f31784d3d68>,\n",
       " <acr_bb.Observation at 0x7f31784d3e10>,\n",
       " <acr_bb.Observation at 0x7f31784d3eb8>,\n",
       " <acr_bb.Observation at 0x7f31784d3f98>,\n",
       " <acr_bb.Observation at 0x7f31784d3940>,\n",
       " <acr_bb.Observation at 0x7f31784db128>,\n",
       " <acr_bb.Observation at 0x7f31784db198>,\n",
       " <acr_bb.Observation at 0x7f31784db278>,\n",
       " <acr_bb.Observation at 0x7f31784db320>,\n",
       " <acr_bb.Observation at 0x7f31784db390>,\n",
       " <acr_bb.Observation at 0x7f31784db2e8>,\n",
       " <acr_bb.Observation at 0x7f31784db518>,\n",
       " <acr_bb.Observation at 0x7f31784db588>,\n",
       " <acr_bb.Observation at 0x7f31784be5c0>,\n",
       " <acr_bb.Observation at 0x7f31784db6d8>,\n",
       " <acr_bb.Observation at 0x7f31784db710>,\n",
       " <acr_bb.Observation at 0x7f31784db860>,\n",
       " <acr_bb.Observation at 0x7f31784db828>,\n",
       " <acr_bb.Observation at 0x7f31784db978>,\n",
       " <acr_bb.Observation at 0x7f31784d3f60>,\n",
       " <acr_bb.Observation at 0x7f31784dbac8>,\n",
       " <acr_bb.Observation at 0x7f31784dbb70>,\n",
       " <acr_bb.Observation at 0x7f31784db4e0>,\n",
       " <acr_bb.Observation at 0x7f31784db240>,\n",
       " <acr_bb.Observation at 0x7f31784dbda0>,\n",
       " <acr_bb.Observation at 0x7f31784dbe80>,\n",
       " <acr_bb.Observation at 0x7f31784dbef0>,\n",
       " <acr_bb.Observation at 0x7f31784dbf60>,\n",
       " <acr_bb.Observation at 0x7f31784d3588>,\n",
       " <acr_bb.Observation at 0x7f31784dbeb8>,\n",
       " <acr_bb.Observation at 0x7f31784e1198>,\n",
       " <acr_bb.Observation at 0x7f31784e1128>,\n",
       " <acr_bb.Observation at 0x7f31784db0b8>,\n",
       " <acr_bb.Observation at 0x7f31784dbf98>,\n",
       " <acr_bb.Observation at 0x7f31784e14a8>,\n",
       " <acr_bb.Observation at 0x7f31784e11d0>,\n",
       " <acr_bb.Observation at 0x7f31784e15c0>,\n",
       " <acr_bb.Observation at 0x7f31784e1630>,\n",
       " <acr_bb.Observation at 0x7f31784e1710>,\n",
       " <acr_bb.Observation at 0x7f31784e1780>,\n",
       " <acr_bb.Observation at 0x7f31784e1860>,\n",
       " <acr_bb.Observation at 0x7f31784e1400>,\n",
       " <acr_bb.Observation at 0x7f31784e19b0>,\n",
       " <acr_bb.Observation at 0x7f31784e16d8>,\n",
       " <acr_bb.Observation at 0x7f31784e1470>,\n",
       " <acr_bb.Observation at 0x7f31784e1b70>,\n",
       " <acr_bb.Observation at 0x7f31784e1c18>,\n",
       " <acr_bb.Observation at 0x7f31784e1978>,\n",
       " <acr_bb.Observation at 0x7f31784e1da0>,\n",
       " <acr_bb.Observation at 0x7f31784e19e8>,\n",
       " <acr_bb.Observation at 0x7f31784e1588>,\n",
       " <acr_bb.Observation at 0x7f31784e1ef0>,\n",
       " <acr_bb.Observation at 0x7f3178468080>,\n",
       " <acr_bb.Observation at 0x7f3178468128>,\n",
       " <acr_bb.Observation at 0x7f3178468198>,\n",
       " <acr_bb.Observation at 0x7f31784e1d68>,\n",
       " <acr_bb.Observation at 0x7f3178468320>,\n",
       " <acr_bb.Observation at 0x7f31784682e8>,\n",
       " <acr_bb.Observation at 0x7f3178468470>,\n",
       " <acr_bb.Observation at 0x7f3178468630>,\n",
       " <acr_bb.Observation at 0x7f31784e1828>,\n",
       " <acr_bb.Observation at 0x7f3178468668>,\n",
       " <acr_bb.Observation at 0x7f3178468710>,\n",
       " <acr_bb.Observation at 0x7f31784686d8>,\n",
       " <acr_bb.Observation at 0x7f31784686a0>,\n",
       " <acr_bb.Observation at 0x7f31784e1fd0>,\n",
       " <acr_bb.Observation at 0x7f31784685f8>,\n",
       " <acr_bb.Observation at 0x7f3178468a20>,\n",
       " <acr_bb.Observation at 0x7f3178468438>,\n",
       " <acr_bb.Observation at 0x7f3178468b00>,\n",
       " <acr_bb.Observation at 0x7f3178468a58>,\n",
       " <acr_bb.Observation at 0x7f3178468cc0>,\n",
       " <acr_bb.Observation at 0x7f3178468da0>,\n",
       " <acr_bb.Observation at 0x7f3178468d68>,\n",
       " <acr_bb.Observation at 0x7f3178468eb8>,\n",
       " <acr_bb.Observation at 0x7f3178468978>,\n",
       " <acr_bb.Observation at 0x7f3178471080>,\n",
       " <acr_bb.Observation at 0x7f3178471048>,\n",
       " <acr_bb.Observation at 0x7f3178468ef0>,\n",
       " <acr_bb.Observation at 0x7f3178468c50>,\n",
       " <acr_bb.Observation at 0x7f31784712e8>,\n",
       " <acr_bb.Observation at 0x7f3178468c18>,\n",
       " <acr_bb.Observation at 0x7f3178468f60>,\n",
       " <acr_bb.Observation at 0x7f3178471630>,\n",
       " <acr_bb.Observation at 0x7f3178471438>,\n",
       " <acr_bb.Observation at 0x7f31784716a0>,\n",
       " <acr_bb.Observation at 0x7f31784680f0>,\n",
       " <acr_bb.Observation at 0x7f3178471780>,\n",
       " <acr_bb.Observation at 0x7f3178471860>,\n",
       " <acr_bb.Observation at 0x7f31784e1e10>,\n",
       " <acr_bb.Observation at 0x7f31784715f8>,\n",
       " <acr_bb.Observation at 0x7f3178468fd0>,\n",
       " <acr_bb.Observation at 0x7f3178471ac8>,\n",
       " <acr_bb.Observation at 0x7f3178471ba8>,\n",
       " <acr_bb.Observation at 0x7f3178471c18>,\n",
       " <acr_bb.Observation at 0x7f3178471cf8>,\n",
       " <acr_bb.Observation at 0x7f3178471da0>,\n",
       " <acr_bb.Observation at 0x7f3178471e10>,\n",
       " <acr_bb.Observation at 0x7f3178471b38>,\n",
       " <acr_bb.Observation at 0x7f3178471a58>,\n",
       " <acr_bb.Observation at 0x7f3178478080>,\n",
       " <acr_bb.Observation at 0x7f31784780b8>,\n",
       " <acr_bb.Observation at 0x7f31784781d0>,\n",
       " <acr_bb.Observation at 0x7f3178478278>,\n",
       " <acr_bb.Observation at 0x7f3178478320>,\n",
       " <acr_bb.Observation at 0x7f3178478390>,\n",
       " <acr_bb.Observation at 0x7f3178478240>,\n",
       " <acr_bb.Observation at 0x7f31784783c8>,\n",
       " <acr_bb.Observation at 0x7f31784784e0>,\n",
       " <acr_bb.Observation at 0x7f31784782e8>,\n",
       " <acr_bb.Observation at 0x7f3178478630>,\n",
       " <acr_bb.Observation at 0x7f3178478780>,\n",
       " <acr_bb.Observation at 0x7f3178478828>,\n",
       " <acr_bb.Observation at 0x7f31784787b8>,\n",
       " <acr_bb.Observation at 0x7f3178478978>,\n",
       " <acr_bb.Observation at 0x7f3178478860>,\n",
       " <acr_bb.Observation at 0x7f3178478b00>,\n",
       " <acr_bb.Observation at 0x7f3178478be0>,\n",
       " <acr_bb.Observation at 0x7f3178478ba8>,\n",
       " <acr_bb.Observation at 0x7f3178478cc0>,\n",
       " <acr_bb.Observation at 0x7f3178478d68>,\n",
       " None]"
      ]
     },
     "execution_count": 7,
     "metadata": {},
     "output_type": "execute_result"
    }
   ],
   "source": [
    "experience.next_state"
   ]
  },
  {
   "cell_type": "code",
   "execution_count": 5,
   "id": "300e6fc2",
   "metadata": {},
   "outputs": [],
   "source": [
    "import numpy as np\n",
    "\n",
    "H = np.random.randn(5,4) + 1j*np.random.randn(5,4)"
   ]
  },
  {
   "cell_type": "code",
   "execution_count": 10,
   "id": "7746f17b",
   "metadata": {},
   "outputs": [
    {
     "data": {
      "text/plain": [
       "(5, 1)"
      ]
     },
     "execution_count": 10,
     "metadata": {},
     "output_type": "execute_result"
    }
   ],
   "source": [
    "np.expand_dims(H[:,1], axis=1).shape"
   ]
  },
  {
   "cell_type": "code",
   "execution_count": 3,
   "id": "b5dd4f9f",
   "metadata": {},
   "outputs": [
    {
     "data": {
      "text/plain": [
       "array([[-0.43715771, -1.51408521,  1.77973076,  0.76201086,  1.55187541]])"
      ]
     },
     "execution_count": 3,
     "metadata": {},
     "output_type": "execute_result"
    }
   ],
   "source": [
    "H.transpose()"
   ]
  },
  {
   "cell_type": "code",
   "execution_count": 11,
   "id": "48a29e56",
   "metadata": {},
   "outputs": [
    {
     "data": {
      "text/plain": [
       "array([[ 1.20485555, -0.50972262,  1.30158444,  0.73301039],\n",
       "       [ 0.29003651,  0.33735667,  0.94248079, -0.40048354],\n",
       "       [ 2.78217538,  0.85814744, -1.2915404 ,  0.04592328],\n",
       "       [-0.9035769 , -0.44994444,  0.93716975,  0.6344888 ],\n",
       "       [ 0.56344663,  0.99013184,  0.55635676, -0.57909431]])"
      ]
     },
     "execution_count": 11,
     "metadata": {},
     "output_type": "execute_result"
    }
   ],
   "source": [
    "np.real(H)\n"
   ]
  },
  {
   "cell_type": "code",
   "execution_count": 13,
   "id": "1a9d46c9",
   "metadata": {},
   "outputs": [
    {
     "data": {
      "text/plain": [
       "Expression(CONSTANT, UNKNOWN, (5, 4))"
      ]
     },
     "execution_count": 13,
     "metadata": {},
     "output_type": "execute_result"
    }
   ],
   "source": [
    "import cvxpy as cp\n",
    "cp.real(H)"
   ]
  },
  {
   "cell_type": "code",
   "execution_count": null,
   "id": "f8262693",
   "metadata": {},
   "outputs": [],
   "source": []
  }
 ],
 "metadata": {
  "kernelspec": {
   "display_name": "Python 3",
   "language": "python",
   "name": "python3"
  },
  "language_info": {
   "codemirror_mode": {
    "name": "ipython",
    "version": 3
   },
   "file_extension": ".py",
   "mimetype": "text/x-python",
   "name": "python",
   "nbconvert_exporter": "python",
   "pygments_lexer": "ipython3",
   "version": "3.6.8"
  }
 },
 "nbformat": 4,
 "nbformat_minor": 5
}
