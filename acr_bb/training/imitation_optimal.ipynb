{
 "cells": [
  {
   "cell_type": "code",
   "execution_count": 10,
   "id": "449d0c80",
   "metadata": {},
   "outputs": [
    {
     "name": "stdout",
     "output_type": "stream",
     "text": [
      "Epoch 1\n"
     ]
    },
    {
     "name": "stderr",
     "output_type": "stream",
     "text": [
      "  0%|          | 3/2280 [00:00<01:29, 25.31it/s]"
     ]
    },
    {
     "name": "stdout",
     "output_type": "stream",
     "text": [
      "torch.Size([128, 8]) torch.Size([128, 8])\n",
      "torch.Size([128, 8]) torch.Size([128, 8])\n",
      "torch.Size([128, 8]) torch.Size([128, 8])\n",
      "torch.Size([128, 8]) torch.Size([128, 8])\n",
      "torch.Size([128, 8]) torch.Size([128, 8])\n",
      "torch.Size([128, 8]) torch.Size([128, 8])\n"
     ]
    },
    {
     "name": "stderr",
     "output_type": "stream",
     "text": [
      "\r",
      "  0%|          | 8/2280 [00:00<01:00, 37.54it/s]"
     ]
    },
    {
     "name": "stdout",
     "output_type": "stream",
     "text": [
      "torch.Size([128, 8]) torch.Size([128, 8])\n",
      "torch.Size([128, 8]) torch.Size([128, 8])\n",
      "torch.Size([128, 8]) torch.Size([128, 8])\n",
      "torch.Size([128, 8]) torch.Size([128, 8])\n"
     ]
    },
    {
     "name": "stderr",
     "output_type": "stream",
     "text": [
      "\r",
      "  1%|          | 13/2280 [00:00<00:54, 41.22it/s]"
     ]
    },
    {
     "name": "stdout",
     "output_type": "stream",
     "text": [
      "torch.Size([128, 8]) torch.Size([128, 8])\n",
      "torch.Size([128, 8]) torch.Size([128, 8])\n",
      "torch.Size([128, 8]) torch.Size([128, 8])\n",
      "torch.Size([128, 8]) torch.Size([128, 8])\n",
      "torch.Size([128, 8]) torch.Size([128, 8])\n",
      "torch.Size([128, 8]) torch.Size([128, 8])\n"
     ]
    },
    {
     "name": "stderr",
     "output_type": "stream",
     "text": [
      "\r",
      "  1%|          | 18/2280 [00:00<00:53, 42.21it/s]"
     ]
    },
    {
     "name": "stdout",
     "output_type": "stream",
     "text": [
      "torch.Size([128, 8]) torch.Size([128, 8])\n",
      "torch.Size([128, 8]) torch.Size([128, 8])\n",
      "torch.Size([128, 8]) torch.Size([128, 8])\n"
     ]
    },
    {
     "name": "stderr",
     "output_type": "stream",
     "text": [
      "\r",
      "  1%|          | 23/2280 [00:00<00:52, 43.05it/s]"
     ]
    },
    {
     "name": "stdout",
     "output_type": "stream",
     "text": [
      "torch.Size([128, 8]) torch.Size([128, 8])\n",
      "torch.Size([128, 8]) torch.Size([128, 8])\n",
      "torch.Size([128, 8]) torch.Size([128, 8])\n",
      "torch.Size([128, 8]) torch.Size([128, 8])\n",
      "torch.Size([128, 8]) torch.Size([128, 8])\n",
      "torch.Size([128, 8]) torch.Size([128, 8])\n"
     ]
    },
    {
     "name": "stderr",
     "output_type": "stream",
     "text": [
      "\r",
      "  1%|          | 28/2280 [00:00<00:51, 43.43it/s]"
     ]
    },
    {
     "name": "stdout",
     "output_type": "stream",
     "text": [
      "torch.Size([128, 8]) torch.Size([128, 8])\n",
      "torch.Size([128, 8]) torch.Size([128, 8])\n",
      "torch.Size([128, 8]) torch.Size([128, 8])\n"
     ]
    },
    {
     "name": "stderr",
     "output_type": "stream",
     "text": [
      "\r",
      "  1%|▏         | 33/2280 [00:00<00:51, 43.49it/s]"
     ]
    },
    {
     "name": "stdout",
     "output_type": "stream",
     "text": [
      "torch.Size([128, 8]) torch.Size([128, 8])\n",
      "torch.Size([128, 8]) torch.Size([128, 8])\n",
      "torch.Size([128, 8]) torch.Size([128, 8])\n",
      "torch.Size([128, 8]) torch.Size([128, 8])\n",
      "torch.Size([128, 8]) torch.Size([128, 8])\n",
      "torch.Size([128, 8]) torch.Size([128, 8])\n",
      "torch.Size([128, 8]) torch.Size([128, 8])\n",
      "torch.Size([128, 8]) torch.Size([128, 8])\n",
      "torch.Size([128, 8]) torch.Size([128, 8])\n"
     ]
    },
    {
     "name": "stderr",
     "output_type": "stream",
     "text": [
      "  2%|▏         | 43/2280 [00:01<00:50, 43.91it/s]"
     ]
    },
    {
     "name": "stdout",
     "output_type": "stream",
     "text": [
      "torch.Size([128, 8]) torch.Size([128, 8])\n",
      "torch.Size([128, 8]) torch.Size([128, 8])\n",
      "torch.Size([128, 8]) torch.Size([128, 8])\n",
      "torch.Size([128, 8]) torch.Size([128, 8])\n",
      "torch.Size([128, 8]) torch.Size([128, 8])\n",
      "torch.Size([128, 8]) torch.Size([128, 8])\n",
      "torch.Size([128, 8]) torch.Size([128, 8])\n",
      "torch.Size([128, 8]) torch.Size([128, 8])\n",
      "torch.Size([128, 8]) torch.Size([128, 8])\n"
     ]
    },
    {
     "name": "stderr",
     "output_type": "stream",
     "text": [
      "\r",
      "  2%|▏         | 48/2280 [00:01<00:51, 43.59it/s]"
     ]
    },
    {
     "name": "stdout",
     "output_type": "stream",
     "text": [
      "torch.Size([128, 8]) torch.Size([128, 8])\n",
      "torch.Size([128, 8]) torch.Size([128, 8])\n",
      "torch.Size([128, 8]) torch.Size([128, 8])\n",
      "torch.Size([128, 8]) torch.Size([128, 8])\n",
      "torch.Size([128, 8]) torch.Size([128, 8])\n",
      "torch.Size([128, 8]) torch.Size([128, 8])\n"
     ]
    },
    {
     "name": "stderr",
     "output_type": "stream",
     "text": [
      "\r",
      "  2%|▏         | 53/2280 [00:01<00:50, 43.72it/s]"
     ]
    },
    {
     "name": "stdout",
     "output_type": "stream",
     "text": [
      "torch.Size([128, 8]) torch.Size([128, 8])\n",
      "torch.Size([128, 8]) torch.Size([128, 8])\n",
      "torch.Size([128, 8]) torch.Size([128, 8])\n"
     ]
    },
    {
     "name": "stderr",
     "output_type": "stream",
     "text": [
      "\r",
      "  3%|▎         | 58/2280 [00:01<00:50, 43.98it/s]"
     ]
    },
    {
     "name": "stdout",
     "output_type": "stream",
     "text": [
      "torch.Size([128, 8]) torch.Size([128, 8])\n",
      "torch.Size([128, 8]) torch.Size([128, 8])\n",
      "torch.Size([128, 8]) torch.Size([128, 8])\n",
      "torch.Size([128, 8]) torch.Size([128, 8])\n",
      "torch.Size([128, 8]) torch.Size([128, 8])\n",
      "torch.Size([128, 8]) torch.Size([128, 8])\n"
     ]
    },
    {
     "name": "stderr",
     "output_type": "stream",
     "text": [
      "\r",
      "  3%|▎         | 63/2280 [00:01<00:50, 43.70it/s]"
     ]
    },
    {
     "name": "stdout",
     "output_type": "stream",
     "text": [
      "torch.Size([128, 8]) torch.Size([128, 8])\n",
      "torch.Size([128, 8]) torch.Size([128, 8])\n",
      "torch.Size([128, 8]) torch.Size([128, 8])\n"
     ]
    },
    {
     "name": "stderr",
     "output_type": "stream",
     "text": [
      "\r",
      "  3%|▎         | 68/2280 [00:01<00:50, 43.57it/s]"
     ]
    },
    {
     "name": "stdout",
     "output_type": "stream",
     "text": [
      "torch.Size([128, 8]) torch.Size([128, 8])\n",
      "torch.Size([128, 8]) torch.Size([128, 8])\n",
      "torch.Size([128, 8]) torch.Size([128, 8])\n",
      "torch.Size([128, 8]) torch.Size([128, 8])\n",
      "torch.Size([128, 8]) torch.Size([128, 8])\n",
      "torch.Size([128, 8]) torch.Size([128, 8])\n"
     ]
    },
    {
     "name": "stderr",
     "output_type": "stream",
     "text": [
      "\r",
      "  3%|▎         | 73/2280 [00:01<00:50, 43.97it/s]"
     ]
    },
    {
     "name": "stdout",
     "output_type": "stream",
     "text": [
      "torch.Size([128, 8]) torch.Size([128, 8])\n",
      "torch.Size([128, 8]) torch.Size([128, 8])\n",
      "torch.Size([128, 8]) torch.Size([128, 8])\n"
     ]
    },
    {
     "name": "stderr",
     "output_type": "stream",
     "text": [
      "\r",
      "  3%|▎         | 78/2280 [00:01<00:50, 43.52it/s]"
     ]
    },
    {
     "name": "stdout",
     "output_type": "stream",
     "text": [
      "torch.Size([128, 8]) torch.Size([128, 8])\n",
      "torch.Size([128, 8]) torch.Size([128, 8])\n",
      "torch.Size([128, 8]) torch.Size([128, 8])\n",
      "torch.Size([128, 8]) torch.Size([128, 8])\n",
      "torch.Size([128, 8]) torch.Size([128, 8])\n",
      "torch.Size([128, 8]) torch.Size([128, 8])\n",
      "torch.Size([128, 8]) torch.Size([128, 8])\n",
      "torch.Size([128, 8]) torch.Size([128, 8])\n",
      "torch.Size([128, 8]) torch.Size([128, 8])\n"
     ]
    },
    {
     "name": "stderr",
     "output_type": "stream",
     "text": [
      "  4%|▍         | 88/2280 [00:02<00:49, 44.46it/s]"
     ]
    },
    {
     "name": "stdout",
     "output_type": "stream",
     "text": [
      "torch.Size([128, 8]) torch.Size([128, 8])\n",
      "torch.Size([128, 8]) torch.Size([128, 8])\n",
      "torch.Size([128, 8]) torch.Size([128, 8])\n",
      "torch.Size([128, 8]) torch.Size([128, 8])\n",
      "torch.Size([128, 8]) torch.Size([128, 8])\n",
      "torch.Size([128, 8]) torch.Size([128, 8])\n",
      "torch.Size([128, 8]) torch.Size([128, 8])\n",
      "torch.Size([128, 8]) torch.Size([128, 8])\n",
      "torch.Size([128, 8]) torch.Size([128, 8])\n",
      "torch.Size([128, 8]) torch.Size([128, 8])\n"
     ]
    },
    {
     "name": "stderr",
     "output_type": "stream",
     "text": [
      "  4%|▍         | 98/2280 [00:02<00:49, 44.20it/s]"
     ]
    },
    {
     "name": "stdout",
     "output_type": "stream",
     "text": [
      "torch.Size([128, 8]) torch.Size([128, 8])\n",
      "torch.Size([128, 8]) torch.Size([128, 8])\n",
      "torch.Size([128, 8]) torch.Size([128, 8])\n",
      "torch.Size([128, 8]) torch.Size([128, 8])\n",
      "torch.Size([128, 8]) torch.Size([128, 8])\n",
      "torch.Size([128, 8]) torch.Size([128, 8])\n",
      "torch.Size([128, 8]) torch.Size([128, 8])\n",
      "torch.Size([128, 8]) torch.Size([128, 8])\n",
      "torch.Size([128, 8]) torch.Size([128, 8])\n"
     ]
    },
    {
     "name": "stderr",
     "output_type": "stream",
     "text": [
      "\r",
      "  5%|▍         | 103/2280 [00:02<00:49, 44.07it/s]"
     ]
    },
    {
     "name": "stdout",
     "output_type": "stream",
     "text": [
      "torch.Size([128, 8]) torch.Size([128, 8])\n",
      "torch.Size([128, 8]) torch.Size([128, 8])\n",
      "torch.Size([128, 8]) torch.Size([128, 8])\n",
      "torch.Size([128, 8]) torch.Size([128, 8])\n",
      "torch.Size([128, 8]) torch.Size([128, 8])\n",
      "torch.Size([128, 8]) torch.Size([128, 8])\n"
     ]
    },
    {
     "name": "stderr",
     "output_type": "stream",
     "text": [
      "\r",
      "  5%|▍         | 108/2280 [00:02<00:49, 44.19it/s]"
     ]
    },
    {
     "name": "stdout",
     "output_type": "stream",
     "text": [
      "torch.Size([128, 8]) torch.Size([128, 8])\n",
      "torch.Size([128, 8]) torch.Size([128, 8])\n",
      "torch.Size([128, 8]) torch.Size([128, 8])\n"
     ]
    },
    {
     "name": "stderr",
     "output_type": "stream",
     "text": [
      "\r",
      "  5%|▍         | 113/2280 [00:02<00:48, 44.34it/s]"
     ]
    },
    {
     "name": "stdout",
     "output_type": "stream",
     "text": [
      "torch.Size([128, 8]) torch.Size([128, 8])\n",
      "torch.Size([128, 8]) torch.Size([128, 8])\n",
      "torch.Size([128, 8]) torch.Size([128, 8])\n",
      "torch.Size([128, 8]) torch.Size([128, 8])\n",
      "torch.Size([128, 8]) torch.Size([128, 8])\n",
      "torch.Size([128, 8]) torch.Size([128, 8])\n"
     ]
    },
    {
     "name": "stderr",
     "output_type": "stream",
     "text": [
      "\r",
      "  5%|▌         | 117/2280 [00:02<00:50, 43.22it/s]"
     ]
    },
    {
     "name": "stdout",
     "output_type": "stream",
     "text": [
      "torch.Size([128, 8]) torch.Size([128, 8])\n"
     ]
    },
    {
     "name": "stderr",
     "output_type": "stream",
     "text": [
      "\n"
     ]
    },
    {
     "ename": "KeyboardInterrupt",
     "evalue": "",
     "output_type": "error",
     "traceback": [
      "\u001b[0;31m---------------------------------------------------------------------------\u001b[0m",
      "\u001b[0;31mKeyboardInterrupt\u001b[0m                         Traceback (most recent call last)",
      "\u001b[0;32m<ipython-input-10-9c57057fc117>\u001b[0m in \u001b[0;36m<module>\u001b[0;34m\u001b[0m\n\u001b[1;32m    124\u001b[0m     \u001b[0mprint\u001b[0m\u001b[0;34m(\u001b[0m\u001b[0;34mf\"Epoch {epoch+1}\"\u001b[0m\u001b[0;34m)\u001b[0m\u001b[0;34m\u001b[0m\u001b[0;34m\u001b[0m\u001b[0m\n\u001b[1;32m    125\u001b[0m \u001b[0;34m\u001b[0m\u001b[0m\n\u001b[0;32m--> 126\u001b[0;31m     \u001b[0mtrain_loss\u001b[0m \u001b[0;34m=\u001b[0m \u001b[0mprocess\u001b[0m\u001b[0;34m(\u001b[0m\u001b[0mpolicy\u001b[0m\u001b[0;34m,\u001b[0m \u001b[0mtrain_loader\u001b[0m\u001b[0;34m,\u001b[0m \u001b[0moptimizer\u001b[0m\u001b[0;34m)\u001b[0m\u001b[0;34m\u001b[0m\u001b[0;34m\u001b[0m\u001b[0m\n\u001b[0m\u001b[1;32m    127\u001b[0m     \u001b[0mprint\u001b[0m\u001b[0;34m(\u001b[0m\u001b[0;34mf\"Train loss: {train_loss}\"\u001b[0m \u001b[0;34m)\u001b[0m\u001b[0;34m\u001b[0m\u001b[0;34m\u001b[0m\u001b[0m\n\u001b[1;32m    128\u001b[0m     \u001b[0mtrains\u001b[0m\u001b[0;34m.\u001b[0m\u001b[0mappend\u001b[0m\u001b[0;34m(\u001b[0m\u001b[0mtrain_loss\u001b[0m\u001b[0;34m)\u001b[0m\u001b[0;34m\u001b[0m\u001b[0;34m\u001b[0m\u001b[0m\n",
      "\u001b[0;32m<ipython-input-10-9c57057fc117>\u001b[0m in \u001b[0;36mprocess\u001b[0;34m(policy, data_loader, optimizer)\u001b[0m\n\u001b[1;32m     30\u001b[0m     \u001b[0mpreds_list\u001b[0m \u001b[0;34m=\u001b[0m \u001b[0mtorch\u001b[0m\u001b[0;34m.\u001b[0m\u001b[0mTensor\u001b[0m\u001b[0;34m(\u001b[0m\u001b[0;34m[\u001b[0m\u001b[0;34m]\u001b[0m\u001b[0;34m)\u001b[0m\u001b[0;34m.\u001b[0m\u001b[0mto\u001b[0m\u001b[0;34m(\u001b[0m\u001b[0mDEVICE\u001b[0m\u001b[0;34m)\u001b[0m\u001b[0;34m\u001b[0m\u001b[0;34m\u001b[0m\u001b[0m\n\u001b[1;32m     31\u001b[0m     \u001b[0;32mwith\u001b[0m \u001b[0mtorch\u001b[0m\u001b[0;34m.\u001b[0m\u001b[0mset_grad_enabled\u001b[0m\u001b[0;34m(\u001b[0m\u001b[0moptimizer\u001b[0m \u001b[0;32mis\u001b[0m \u001b[0;32mnot\u001b[0m \u001b[0;32mNone\u001b[0m\u001b[0;34m)\u001b[0m\u001b[0;34m:\u001b[0m\u001b[0;34m\u001b[0m\u001b[0;34m\u001b[0m\u001b[0m\n\u001b[0;32m---> 32\u001b[0;31m         \u001b[0;32mfor\u001b[0m \u001b[0mbatch_data\u001b[0m \u001b[0;32min\u001b[0m \u001b[0mtqdm\u001b[0m\u001b[0;34m(\u001b[0m\u001b[0mdata_loader\u001b[0m\u001b[0;34m)\u001b[0m\u001b[0;34m:\u001b[0m\u001b[0;34m\u001b[0m\u001b[0;34m\u001b[0m\u001b[0m\n\u001b[0m\u001b[1;32m     33\u001b[0m             \u001b[0mbatch\u001b[0m\u001b[0;34m,\u001b[0m \u001b[0mtarget\u001b[0m \u001b[0;34m=\u001b[0m \u001b[0mbatch_data\u001b[0m\u001b[0;34m\u001b[0m\u001b[0;34m\u001b[0m\u001b[0m\n\u001b[1;32m     34\u001b[0m \u001b[0;31m#             print(batch[0], batch[1])\u001b[0m\u001b[0;34m\u001b[0m\u001b[0;34m\u001b[0m\u001b[0;34m\u001b[0m\u001b[0m\n",
      "\u001b[0;32m/scratch/sagar/Projects/combopt/venv/lib/python3.6/site-packages/tqdm/std.py\u001b[0m in \u001b[0;36m__iter__\u001b[0;34m(self)\u001b[0m\n\u001b[1;32m   1178\u001b[0m \u001b[0;34m\u001b[0m\u001b[0m\n\u001b[1;32m   1179\u001b[0m         \u001b[0;32mtry\u001b[0m\u001b[0;34m:\u001b[0m\u001b[0;34m\u001b[0m\u001b[0;34m\u001b[0m\u001b[0m\n\u001b[0;32m-> 1180\u001b[0;31m             \u001b[0;32mfor\u001b[0m \u001b[0mobj\u001b[0m \u001b[0;32min\u001b[0m \u001b[0miterable\u001b[0m\u001b[0;34m:\u001b[0m\u001b[0;34m\u001b[0m\u001b[0;34m\u001b[0m\u001b[0m\n\u001b[0m\u001b[1;32m   1181\u001b[0m                 \u001b[0;32myield\u001b[0m \u001b[0mobj\u001b[0m\u001b[0;34m\u001b[0m\u001b[0;34m\u001b[0m\u001b[0m\n\u001b[1;32m   1182\u001b[0m                 \u001b[0;31m# Update and possibly print the progressbar.\u001b[0m\u001b[0;34m\u001b[0m\u001b[0;34m\u001b[0m\u001b[0;34m\u001b[0m\u001b[0m\n",
      "\u001b[0;32m/scratch/sagar/Projects/combopt/venv/lib/python3.6/site-packages/torch/utils/data/dataloader.py\u001b[0m in \u001b[0;36m__next__\u001b[0;34m(self)\u001b[0m\n\u001b[1;32m    515\u001b[0m             \u001b[0;32mif\u001b[0m \u001b[0mself\u001b[0m\u001b[0;34m.\u001b[0m\u001b[0m_sampler_iter\u001b[0m \u001b[0;32mis\u001b[0m \u001b[0;32mNone\u001b[0m\u001b[0;34m:\u001b[0m\u001b[0;34m\u001b[0m\u001b[0;34m\u001b[0m\u001b[0m\n\u001b[1;32m    516\u001b[0m                 \u001b[0mself\u001b[0m\u001b[0;34m.\u001b[0m\u001b[0m_reset\u001b[0m\u001b[0;34m(\u001b[0m\u001b[0;34m)\u001b[0m\u001b[0;34m\u001b[0m\u001b[0;34m\u001b[0m\u001b[0m\n\u001b[0;32m--> 517\u001b[0;31m             \u001b[0mdata\u001b[0m \u001b[0;34m=\u001b[0m \u001b[0mself\u001b[0m\u001b[0;34m.\u001b[0m\u001b[0m_next_data\u001b[0m\u001b[0;34m(\u001b[0m\u001b[0;34m)\u001b[0m\u001b[0;34m\u001b[0m\u001b[0;34m\u001b[0m\u001b[0m\n\u001b[0m\u001b[1;32m    518\u001b[0m             \u001b[0mself\u001b[0m\u001b[0;34m.\u001b[0m\u001b[0m_num_yielded\u001b[0m \u001b[0;34m+=\u001b[0m \u001b[0;36m1\u001b[0m\u001b[0;34m\u001b[0m\u001b[0;34m\u001b[0m\u001b[0m\n\u001b[1;32m    519\u001b[0m             \u001b[0;32mif\u001b[0m \u001b[0mself\u001b[0m\u001b[0;34m.\u001b[0m\u001b[0m_dataset_kind\u001b[0m \u001b[0;34m==\u001b[0m \u001b[0m_DatasetKind\u001b[0m\u001b[0;34m.\u001b[0m\u001b[0mIterable\u001b[0m \u001b[0;32mand\u001b[0m\u001b[0;31m \u001b[0m\u001b[0;31m\\\u001b[0m\u001b[0;34m\u001b[0m\u001b[0;34m\u001b[0m\u001b[0m\n",
      "\u001b[0;32m/scratch/sagar/Projects/combopt/venv/lib/python3.6/site-packages/torch/utils/data/dataloader.py\u001b[0m in \u001b[0;36m_next_data\u001b[0;34m(self)\u001b[0m\n\u001b[1;32m    555\u001b[0m     \u001b[0;32mdef\u001b[0m \u001b[0m_next_data\u001b[0m\u001b[0;34m(\u001b[0m\u001b[0mself\u001b[0m\u001b[0;34m)\u001b[0m\u001b[0;34m:\u001b[0m\u001b[0;34m\u001b[0m\u001b[0;34m\u001b[0m\u001b[0m\n\u001b[1;32m    556\u001b[0m         \u001b[0mindex\u001b[0m \u001b[0;34m=\u001b[0m \u001b[0mself\u001b[0m\u001b[0;34m.\u001b[0m\u001b[0m_next_index\u001b[0m\u001b[0;34m(\u001b[0m\u001b[0;34m)\u001b[0m  \u001b[0;31m# may raise StopIteration\u001b[0m\u001b[0;34m\u001b[0m\u001b[0;34m\u001b[0m\u001b[0m\n\u001b[0;32m--> 557\u001b[0;31m         \u001b[0mdata\u001b[0m \u001b[0;34m=\u001b[0m \u001b[0mself\u001b[0m\u001b[0;34m.\u001b[0m\u001b[0m_dataset_fetcher\u001b[0m\u001b[0;34m.\u001b[0m\u001b[0mfetch\u001b[0m\u001b[0;34m(\u001b[0m\u001b[0mindex\u001b[0m\u001b[0;34m)\u001b[0m  \u001b[0;31m# may raise StopIteration\u001b[0m\u001b[0;34m\u001b[0m\u001b[0;34m\u001b[0m\u001b[0m\n\u001b[0m\u001b[1;32m    558\u001b[0m         \u001b[0;32mif\u001b[0m \u001b[0mself\u001b[0m\u001b[0;34m.\u001b[0m\u001b[0m_pin_memory\u001b[0m\u001b[0;34m:\u001b[0m\u001b[0;34m\u001b[0m\u001b[0;34m\u001b[0m\u001b[0m\n\u001b[1;32m    559\u001b[0m             \u001b[0mdata\u001b[0m \u001b[0;34m=\u001b[0m \u001b[0m_utils\u001b[0m\u001b[0;34m.\u001b[0m\u001b[0mpin_memory\u001b[0m\u001b[0;34m.\u001b[0m\u001b[0mpin_memory\u001b[0m\u001b[0;34m(\u001b[0m\u001b[0mdata\u001b[0m\u001b[0;34m)\u001b[0m\u001b[0;34m\u001b[0m\u001b[0;34m\u001b[0m\u001b[0m\n",
      "\u001b[0;32m/scratch/sagar/Projects/combopt/venv/lib/python3.6/site-packages/torch/utils/data/_utils/fetch.py\u001b[0m in \u001b[0;36mfetch\u001b[0;34m(self, possibly_batched_index)\u001b[0m\n\u001b[1;32m     42\u001b[0m     \u001b[0;32mdef\u001b[0m \u001b[0mfetch\u001b[0m\u001b[0;34m(\u001b[0m\u001b[0mself\u001b[0m\u001b[0;34m,\u001b[0m \u001b[0mpossibly_batched_index\u001b[0m\u001b[0;34m)\u001b[0m\u001b[0;34m:\u001b[0m\u001b[0;34m\u001b[0m\u001b[0;34m\u001b[0m\u001b[0m\n\u001b[1;32m     43\u001b[0m         \u001b[0;32mif\u001b[0m \u001b[0mself\u001b[0m\u001b[0;34m.\u001b[0m\u001b[0mauto_collation\u001b[0m\u001b[0;34m:\u001b[0m\u001b[0;34m\u001b[0m\u001b[0;34m\u001b[0m\u001b[0m\n\u001b[0;32m---> 44\u001b[0;31m             \u001b[0mdata\u001b[0m \u001b[0;34m=\u001b[0m \u001b[0;34m[\u001b[0m\u001b[0mself\u001b[0m\u001b[0;34m.\u001b[0m\u001b[0mdataset\u001b[0m\u001b[0;34m[\u001b[0m\u001b[0midx\u001b[0m\u001b[0;34m]\u001b[0m \u001b[0;32mfor\u001b[0m \u001b[0midx\u001b[0m \u001b[0;32min\u001b[0m \u001b[0mpossibly_batched_index\u001b[0m\u001b[0;34m]\u001b[0m\u001b[0;34m\u001b[0m\u001b[0;34m\u001b[0m\u001b[0m\n\u001b[0m\u001b[1;32m     45\u001b[0m         \u001b[0;32melse\u001b[0m\u001b[0;34m:\u001b[0m\u001b[0;34m\u001b[0m\u001b[0;34m\u001b[0m\u001b[0m\n\u001b[1;32m     46\u001b[0m             \u001b[0mdata\u001b[0m \u001b[0;34m=\u001b[0m \u001b[0mself\u001b[0m\u001b[0;34m.\u001b[0m\u001b[0mdataset\u001b[0m\u001b[0;34m[\u001b[0m\u001b[0mpossibly_batched_index\u001b[0m\u001b[0;34m]\u001b[0m\u001b[0;34m\u001b[0m\u001b[0;34m\u001b[0m\u001b[0m\n",
      "\u001b[0;32m/scratch/sagar/Projects/combopt/venv/lib/python3.6/site-packages/torch/utils/data/_utils/fetch.py\u001b[0m in \u001b[0;36m<listcomp>\u001b[0;34m(.0)\u001b[0m\n\u001b[1;32m     42\u001b[0m     \u001b[0;32mdef\u001b[0m \u001b[0mfetch\u001b[0m\u001b[0;34m(\u001b[0m\u001b[0mself\u001b[0m\u001b[0;34m,\u001b[0m \u001b[0mpossibly_batched_index\u001b[0m\u001b[0;34m)\u001b[0m\u001b[0;34m:\u001b[0m\u001b[0;34m\u001b[0m\u001b[0;34m\u001b[0m\u001b[0m\n\u001b[1;32m     43\u001b[0m         \u001b[0;32mif\u001b[0m \u001b[0mself\u001b[0m\u001b[0;34m.\u001b[0m\u001b[0mauto_collation\u001b[0m\u001b[0;34m:\u001b[0m\u001b[0;34m\u001b[0m\u001b[0;34m\u001b[0m\u001b[0m\n\u001b[0;32m---> 44\u001b[0;31m             \u001b[0mdata\u001b[0m \u001b[0;34m=\u001b[0m \u001b[0;34m[\u001b[0m\u001b[0mself\u001b[0m\u001b[0;34m.\u001b[0m\u001b[0mdataset\u001b[0m\u001b[0;34m[\u001b[0m\u001b[0midx\u001b[0m\u001b[0;34m]\u001b[0m \u001b[0;32mfor\u001b[0m \u001b[0midx\u001b[0m \u001b[0;32min\u001b[0m \u001b[0mpossibly_batched_index\u001b[0m\u001b[0;34m]\u001b[0m\u001b[0;34m\u001b[0m\u001b[0;34m\u001b[0m\u001b[0m\n\u001b[0m\u001b[1;32m     45\u001b[0m         \u001b[0;32melse\u001b[0m\u001b[0;34m:\u001b[0m\u001b[0;34m\u001b[0m\u001b[0;34m\u001b[0m\u001b[0m\n\u001b[1;32m     46\u001b[0m             \u001b[0mdata\u001b[0m \u001b[0;34m=\u001b[0m \u001b[0mself\u001b[0m\u001b[0;34m.\u001b[0m\u001b[0mdataset\u001b[0m\u001b[0;34m[\u001b[0m\u001b[0mpossibly_batched_index\u001b[0m\u001b[0;34m]\u001b[0m\u001b[0;34m\u001b[0m\u001b[0;34m\u001b[0m\u001b[0m\n",
      "\u001b[0;32m/scratch/sagar/Projects/combopt/branch-and-bound-ml/acr_bb/fcn_training.py\u001b[0m in \u001b[0;36m__getitem__\u001b[0;34m(self, index)\u001b[0m\n\u001b[1;32m     98\u001b[0m         \"\"\"\n\u001b[1;32m     99\u001b[0m         \u001b[0;32mwith\u001b[0m \u001b[0mgzip\u001b[0m\u001b[0;34m.\u001b[0m\u001b[0mopen\u001b[0m\u001b[0;34m(\u001b[0m\u001b[0mself\u001b[0m\u001b[0;34m.\u001b[0m\u001b[0msample_files\u001b[0m\u001b[0;34m[\u001b[0m\u001b[0mindex\u001b[0m\u001b[0;34m]\u001b[0m\u001b[0;34m,\u001b[0m \u001b[0;34m'rb'\u001b[0m\u001b[0;34m)\u001b[0m \u001b[0;32mas\u001b[0m \u001b[0mf\u001b[0m\u001b[0;34m:\u001b[0m\u001b[0;34m\u001b[0m\u001b[0;34m\u001b[0m\u001b[0m\n\u001b[0;32m--> 100\u001b[0;31m             \u001b[0msample\u001b[0m \u001b[0;34m=\u001b[0m \u001b[0mpickle\u001b[0m\u001b[0;34m.\u001b[0m\u001b[0mload\u001b[0m\u001b[0;34m(\u001b[0m\u001b[0mf\u001b[0m\u001b[0;34m)\u001b[0m\u001b[0;34m\u001b[0m\u001b[0;34m\u001b[0m\u001b[0m\n\u001b[0m\u001b[1;32m    101\u001b[0m         \u001b[0mobs\u001b[0m\u001b[0;34m,\u001b[0m \u001b[0m_\u001b[0m\u001b[0;34m,\u001b[0m \u001b[0m_\u001b[0m\u001b[0;34m,\u001b[0m \u001b[0mtarget\u001b[0m\u001b[0;34m,\u001b[0m \u001b[0m_\u001b[0m \u001b[0;34m=\u001b[0m \u001b[0msample\u001b[0m\u001b[0;34m\u001b[0m\u001b[0;34m\u001b[0m\u001b[0m\n\u001b[1;32m    102\u001b[0m \u001b[0;34m\u001b[0m\u001b[0m\n",
      "\u001b[0;32m/usr/lib64/python3.6/gzip.py\u001b[0m in \u001b[0;36mpeek\u001b[0;34m(self, n)\u001b[0m\n\u001b[1;32m    294\u001b[0m             \u001b[0;32mimport\u001b[0m \u001b[0merrno\u001b[0m\u001b[0;34m\u001b[0m\u001b[0;34m\u001b[0m\u001b[0m\n\u001b[1;32m    295\u001b[0m             \u001b[0;32mraise\u001b[0m \u001b[0mOSError\u001b[0m\u001b[0;34m(\u001b[0m\u001b[0merrno\u001b[0m\u001b[0;34m.\u001b[0m\u001b[0mEBADF\u001b[0m\u001b[0;34m,\u001b[0m \u001b[0;34m\"peek() on write-only GzipFile object\"\u001b[0m\u001b[0;34m)\u001b[0m\u001b[0;34m\u001b[0m\u001b[0;34m\u001b[0m\u001b[0m\n\u001b[0;32m--> 296\u001b[0;31m         \u001b[0;32mreturn\u001b[0m \u001b[0mself\u001b[0m\u001b[0;34m.\u001b[0m\u001b[0m_buffer\u001b[0m\u001b[0;34m.\u001b[0m\u001b[0mpeek\u001b[0m\u001b[0;34m(\u001b[0m\u001b[0mn\u001b[0m\u001b[0;34m)\u001b[0m\u001b[0;34m\u001b[0m\u001b[0;34m\u001b[0m\u001b[0m\n\u001b[0m\u001b[1;32m    297\u001b[0m \u001b[0;34m\u001b[0m\u001b[0m\n\u001b[1;32m    298\u001b[0m     \u001b[0;34m@\u001b[0m\u001b[0mproperty\u001b[0m\u001b[0;34m\u001b[0m\u001b[0;34m\u001b[0m\u001b[0m\n",
      "\u001b[0;32m/usr/lib64/python3.6/_compression.py\u001b[0m in \u001b[0;36mreadinto\u001b[0;34m(self, b)\u001b[0m\n\u001b[1;32m     66\u001b[0m     \u001b[0;32mdef\u001b[0m \u001b[0mreadinto\u001b[0m\u001b[0;34m(\u001b[0m\u001b[0mself\u001b[0m\u001b[0;34m,\u001b[0m \u001b[0mb\u001b[0m\u001b[0;34m)\u001b[0m\u001b[0;34m:\u001b[0m\u001b[0;34m\u001b[0m\u001b[0;34m\u001b[0m\u001b[0m\n\u001b[1;32m     67\u001b[0m         \u001b[0;32mwith\u001b[0m \u001b[0mmemoryview\u001b[0m\u001b[0;34m(\u001b[0m\u001b[0mb\u001b[0m\u001b[0;34m)\u001b[0m \u001b[0;32mas\u001b[0m \u001b[0mview\u001b[0m\u001b[0;34m,\u001b[0m \u001b[0mview\u001b[0m\u001b[0;34m.\u001b[0m\u001b[0mcast\u001b[0m\u001b[0;34m(\u001b[0m\u001b[0;34m\"B\"\u001b[0m\u001b[0;34m)\u001b[0m \u001b[0;32mas\u001b[0m \u001b[0mbyte_view\u001b[0m\u001b[0;34m:\u001b[0m\u001b[0;34m\u001b[0m\u001b[0;34m\u001b[0m\u001b[0m\n\u001b[0;32m---> 68\u001b[0;31m             \u001b[0mdata\u001b[0m \u001b[0;34m=\u001b[0m \u001b[0mself\u001b[0m\u001b[0;34m.\u001b[0m\u001b[0mread\u001b[0m\u001b[0;34m(\u001b[0m\u001b[0mlen\u001b[0m\u001b[0;34m(\u001b[0m\u001b[0mbyte_view\u001b[0m\u001b[0;34m)\u001b[0m\u001b[0;34m)\u001b[0m\u001b[0;34m\u001b[0m\u001b[0;34m\u001b[0m\u001b[0m\n\u001b[0m\u001b[1;32m     69\u001b[0m             \u001b[0mbyte_view\u001b[0m\u001b[0;34m[\u001b[0m\u001b[0;34m:\u001b[0m\u001b[0mlen\u001b[0m\u001b[0;34m(\u001b[0m\u001b[0mdata\u001b[0m\u001b[0;34m)\u001b[0m\u001b[0;34m]\u001b[0m \u001b[0;34m=\u001b[0m \u001b[0mdata\u001b[0m\u001b[0;34m\u001b[0m\u001b[0;34m\u001b[0m\u001b[0m\n\u001b[1;32m     70\u001b[0m         \u001b[0;32mreturn\u001b[0m \u001b[0mlen\u001b[0m\u001b[0;34m(\u001b[0m\u001b[0mdata\u001b[0m\u001b[0;34m)\u001b[0m\u001b[0;34m\u001b[0m\u001b[0;34m\u001b[0m\u001b[0m\n",
      "\u001b[0;32m/usr/lib64/python3.6/gzip.py\u001b[0m in \u001b[0;36mread\u001b[0;34m(self, size)\u001b[0m\n\u001b[1;32m    461\u001b[0m                 \u001b[0;31m# jump to the next member, if there is one.\u001b[0m\u001b[0;34m\u001b[0m\u001b[0;34m\u001b[0m\u001b[0;34m\u001b[0m\u001b[0m\n\u001b[1;32m    462\u001b[0m                 \u001b[0mself\u001b[0m\u001b[0;34m.\u001b[0m\u001b[0m_init_read\u001b[0m\u001b[0;34m(\u001b[0m\u001b[0;34m)\u001b[0m\u001b[0;34m\u001b[0m\u001b[0;34m\u001b[0m\u001b[0m\n\u001b[0;32m--> 463\u001b[0;31m                 \u001b[0;32mif\u001b[0m \u001b[0;32mnot\u001b[0m \u001b[0mself\u001b[0m\u001b[0;34m.\u001b[0m\u001b[0m_read_gzip_header\u001b[0m\u001b[0;34m(\u001b[0m\u001b[0;34m)\u001b[0m\u001b[0;34m:\u001b[0m\u001b[0;34m\u001b[0m\u001b[0;34m\u001b[0m\u001b[0m\n\u001b[0m\u001b[1;32m    464\u001b[0m                     \u001b[0mself\u001b[0m\u001b[0;34m.\u001b[0m\u001b[0m_size\u001b[0m \u001b[0;34m=\u001b[0m \u001b[0mself\u001b[0m\u001b[0;34m.\u001b[0m\u001b[0m_pos\u001b[0m\u001b[0;34m\u001b[0m\u001b[0;34m\u001b[0m\u001b[0m\n\u001b[1;32m    465\u001b[0m                     \u001b[0;32mreturn\u001b[0m \u001b[0;34mb\"\"\u001b[0m\u001b[0;34m\u001b[0m\u001b[0;34m\u001b[0m\u001b[0m\n",
      "\u001b[0;32m/usr/lib64/python3.6/gzip.py\u001b[0m in \u001b[0;36m_read_gzip_header\u001b[0;34m(self)\u001b[0m\n\u001b[1;32m    423\u001b[0m             \u001b[0;31m# Read and discard a null-terminated string containing the filename\u001b[0m\u001b[0;34m\u001b[0m\u001b[0;34m\u001b[0m\u001b[0;34m\u001b[0m\u001b[0m\n\u001b[1;32m    424\u001b[0m             \u001b[0;32mwhile\u001b[0m \u001b[0;32mTrue\u001b[0m\u001b[0;34m:\u001b[0m\u001b[0;34m\u001b[0m\u001b[0;34m\u001b[0m\u001b[0m\n\u001b[0;32m--> 425\u001b[0;31m                 \u001b[0ms\u001b[0m \u001b[0;34m=\u001b[0m \u001b[0mself\u001b[0m\u001b[0;34m.\u001b[0m\u001b[0m_fp\u001b[0m\u001b[0;34m.\u001b[0m\u001b[0mread\u001b[0m\u001b[0;34m(\u001b[0m\u001b[0;36m1\u001b[0m\u001b[0;34m)\u001b[0m\u001b[0;34m\u001b[0m\u001b[0;34m\u001b[0m\u001b[0m\n\u001b[0m\u001b[1;32m    426\u001b[0m                 \u001b[0;32mif\u001b[0m \u001b[0;32mnot\u001b[0m \u001b[0ms\u001b[0m \u001b[0;32mor\u001b[0m \u001b[0ms\u001b[0m\u001b[0;34m==\u001b[0m\u001b[0;34mb'\\000'\u001b[0m\u001b[0;34m:\u001b[0m\u001b[0;34m\u001b[0m\u001b[0;34m\u001b[0m\u001b[0m\n\u001b[1;32m    427\u001b[0m                     \u001b[0;32mbreak\u001b[0m\u001b[0;34m\u001b[0m\u001b[0;34m\u001b[0m\u001b[0m\n",
      "\u001b[0;31mKeyboardInterrupt\u001b[0m: "
     ]
    }
   ],
   "source": [
    "import torch\n",
    "import torch.nn.functional as F\n",
    "import torch_geometric\n",
    "from fcn_training import FCNImitationDataset, FCNNodeFakeDataset, FCNImitationPolicy, FCNNodeSelectionPolicy\n",
    "from tqdm import tqdm\n",
    "from pathlib import Path\n",
    "import torch.nn as nn\n",
    "import matplotlib.pyplot as plt\n",
    "import random\n",
    "import math \n",
    "from torch.utils.data import DataLoader\n",
    "\n",
    "LEARNING_RATE = 0.001\n",
    "NB_EPOCHS = 150\n",
    "PATIENCE = 10\n",
    "EARLY_STOPPING = 20\n",
    "DEVICE = torch.device('cuda' if torch.cuda.is_available() else 'cpu')\n",
    "sig = nn.Sigmoid()\n",
    "loss_func = nn.MSELoss()\n",
    "\n",
    "def process(policy, data_loader, optimizer=None):\n",
    "    \"\"\"\n",
    "    This function will process a whole epoch of training or validation, depending on whether an optimizer is provided.\n",
    "    \"\"\"\n",
    "    mean_loss = 0\n",
    "    mean_acc = 0\n",
    "\n",
    "    n_samples_processed = 0\n",
    "    targets_list = torch.Tensor([]).to(DEVICE)\n",
    "    preds_list = torch.Tensor([]).to(DEVICE)\n",
    "    with torch.set_grad_enabled(optimizer is not None):\n",
    "        for batch_data in tqdm(data_loader):\n",
    "            batch, target = batch_data\n",
    "#             print(batch[0], batch[1])\n",
    "#             print(target.sum())\n",
    "            batch = batch.to(DEVICE)\n",
    "            target = target.squeeze().to(DEVICE)*1\n",
    "\n",
    "            out = policy(batch).squeeze()\n",
    "            print(target.shape, out.shape)\n",
    "            loss = loss_func(out, target.to(torch.float))\n",
    "            \n",
    "            if optimizer is not None:\n",
    "                optimizer.zero_grad()\n",
    "                loss.backward()\n",
    "                optimizer.step()\n",
    "            \n",
    "            mean_loss += loss.item() * batch.shape[0]\n",
    "            n_samples_processed += batch.shape[0]\n",
    "\n",
    "    mean_loss /= n_samples_processed\n",
    "    return mean_loss\n",
    "\n",
    "\n",
    "def pad_tensor(input_, pad_sizes, pad_value=-1e8):\n",
    "    \"\"\"\n",
    "    This utility function splits a tensor and pads each split to make them all the same size, then stacks them.\n",
    "    \"\"\"\n",
    "    max_pad_size = pad_sizes.max()\n",
    "    output = input_.split(pad_sizes.cpu().numpy().tolist())\n",
    "    output = torch.stack([F.pad(slice_, (0, max_pad_size-slice_.size(0)), 'constant', pad_value)\n",
    "                          for slice_ in output], dim=0)\n",
    "    return output\n",
    "\n",
    "\n",
    "\n",
    "positive_sample_files = [str(path) for path in Path('data/1_fcn_10k_positive_node_samples/').glob('sample_*.pkl')]\n",
    "positive_trains = positive_sample_files[:int(0.8*len(positive_sample_files))]\n",
    "positive_valids = positive_sample_files[int(0.8*len(positive_sample_files)):]\n",
    "\n",
    "negative_sample_files = ['data/1_fcn_10k_negative_node_samples/sample_'+str(i)+'.pkl' for i in sample_indices]\n",
    "negative_trains = negative_sample_files[:int(0.8*len(negative_sample_files))]\n",
    "negative_valids = negative_sample_files[int(0.8*len(negative_sample_files)):]\n",
    "\n",
    "random.shuffle(negative_trains)\n",
    "negative_trains = negative_trains[:len(positive_trains)]\n",
    "\n",
    "random.shuffle(negative_valids)\n",
    "negative_valids = negative_valids[:len(positive_valids)]\n",
    "\n",
    "\n",
    "train_files = positive_trains + negative_trains\n",
    "valid_files = positive_valids + negative_valids\n",
    "\n",
    "random.shuffle(train_files)\n",
    "\n",
    "# positive_sample_files1 = [str(path) for path in Path('data/1_fcn_10k_positive_node_samples/').glob('sample_*.pkl')]\n",
    "# # positive_sample_files2 = [str(path) for path in Path('positive_node_samples3/').glob('sample_*.pkl')]\n",
    "# positive_sample_files = positive_sample_files1\n",
    "# random.shuffle(positive_sample_files)\n",
    "# positive_sample_files = positive_sample_files[:100000]\n",
    "# print('files loaded')\n",
    "\n",
    "# sample_indices = random.sample(range(1, 4165605), 100000)\n",
    "# negative_sample_files = ['data/1_fcn_10k_negative_node_samples/sample_'+str(i)+'.pkl' for i in sample_indices]\n",
    "# # negative_sample_files = [str(path) for path in Path('data/10k_negative_node_samples/').glob('sample_*.pkl')]\n",
    "# print(len(negative_sample_files))\n",
    "# imbalance_ratio = len(negative_sample_files)/len(positive_sample_files)\n",
    "\n",
    "# random.shuffle(negative_sample_files)\n",
    "# print(len(positive_sample_files), len(negative_sample_files))\n",
    "# negative_sample_files = negative_sample_files[:len(positive_sample_files)]\n",
    "# sample_files = positive_sample_files + negative_sample_files\n",
    "# random.shuffle(sample_files)\n",
    "\n",
    "# valid_sample_files = [str(path) for path in Path('node_samples/').glob('sample_*.pkl')]\n",
    "# random.shuffle(valid_sample_files)\n",
    "# valid_sample_files = valid_sample_files[:2000]\n",
    "\n",
    "# train_files = sample_files[:int(0.8*len(sample_files))]\n",
    "# valid_files = sample_files[int(0.8*len(sample_files)):]\n",
    "\n",
    "train_data = FCNImitationDataset(train_files)\n",
    "train_loader = DataLoader(train_data, batch_size=128, shuffle=True)\n",
    "valid_data = FCNImitationDataset(valid_files)\n",
    "valid_loader = DataLoader(valid_data, batch_size=128, shuffle=False)\n",
    "\n",
    "policy = FCNImitationPolicy().to(DEVICE)\n",
    "optimizer = torch.optim.Adam(policy.parameters(), lr=LEARNING_RATE)\n",
    "\n",
    "valids = []\n",
    "trains = []\n",
    "for epoch in range(NB_EPOCHS):\n",
    "    print(f\"Epoch {epoch+1}\")\n",
    "    \n",
    "    train_loss = process(policy, train_loader, optimizer)\n",
    "    print(f\"Train loss: {train_loss}\" )\n",
    "    trains.append(train_loss)\n",
    "    \n",
    "    valid_loss = process(policy, valid_loader, None)\n",
    "    print(f\"Valid loss: {valid_loss}\" )\n",
    "    valids.append(valid_loss)\n",
    "    \n",
    "torch.save(policy.state_dict(), 'trained_params_imitation2.pkl')"
   ]
  },
  {
   "cell_type": "code",
   "execution_count": 11,
   "id": "768d0658",
   "metadata": {},
   "outputs": [
    {
     "name": "stdout",
     "output_type": "stream",
     "text": [
      "Epoch 1\n"
     ]
    },
    {
     "name": "stderr",
     "output_type": "stream",
     "text": [
      "  0%|          | 0/2280 [00:00<?, ?it/s]\n"
     ]
    },
    {
     "ename": "AttributeError",
     "evalue": "'Tensor' object has no attribute 'antenna_features'",
     "output_type": "error",
     "traceback": [
      "\u001b[0;31m---------------------------------------------------------------------------\u001b[0m",
      "\u001b[0;31mAttributeError\u001b[0m                            Traceback (most recent call last)",
      "\u001b[0;32m<ipython-input-11-13fc5a4bfa2f>\u001b[0m in \u001b[0;36m<module>\u001b[0;34m\u001b[0m\n\u001b[1;32m    128\u001b[0m     \u001b[0mprint\u001b[0m\u001b[0;34m(\u001b[0m\u001b[0;34mf\"Epoch {epoch+1}\"\u001b[0m\u001b[0;34m)\u001b[0m\u001b[0;34m\u001b[0m\u001b[0;34m\u001b[0m\u001b[0m\n\u001b[1;32m    129\u001b[0m \u001b[0;34m\u001b[0m\u001b[0m\n\u001b[0;32m--> 130\u001b[0;31m     \u001b[0mtrain_loss\u001b[0m \u001b[0;34m=\u001b[0m \u001b[0mprocess\u001b[0m\u001b[0;34m(\u001b[0m\u001b[0mpolicy\u001b[0m\u001b[0;34m,\u001b[0m \u001b[0mtrain_loader\u001b[0m\u001b[0;34m,\u001b[0m \u001b[0moptimizer\u001b[0m\u001b[0;34m)\u001b[0m\u001b[0;34m\u001b[0m\u001b[0;34m\u001b[0m\u001b[0m\n\u001b[0m\u001b[1;32m    131\u001b[0m     \u001b[0mprint\u001b[0m\u001b[0;34m(\u001b[0m\u001b[0;34mf\"Train loss: {train_loss}\"\u001b[0m \u001b[0;34m)\u001b[0m\u001b[0;34m\u001b[0m\u001b[0;34m\u001b[0m\u001b[0m\n\u001b[1;32m    132\u001b[0m     \u001b[0mtrains\u001b[0m\u001b[0;34m.\u001b[0m\u001b[0mappend\u001b[0m\u001b[0;34m(\u001b[0m\u001b[0mtrain_loss\u001b[0m\u001b[0;34m)\u001b[0m\u001b[0;34m\u001b[0m\u001b[0;34m\u001b[0m\u001b[0m\n",
      "\u001b[0;32m<ipython-input-11-13fc5a4bfa2f>\u001b[0m in \u001b[0;36mprocess\u001b[0;34m(policy, data_loader, optimizer)\u001b[0m\n\u001b[1;32m     37\u001b[0m             \u001b[0mtarget\u001b[0m \u001b[0;34m=\u001b[0m \u001b[0mtarget\u001b[0m\u001b[0;34m.\u001b[0m\u001b[0msqueeze\u001b[0m\u001b[0;34m(\u001b[0m\u001b[0;34m)\u001b[0m\u001b[0;34m.\u001b[0m\u001b[0mto\u001b[0m\u001b[0;34m(\u001b[0m\u001b[0mDEVICE\u001b[0m\u001b[0;34m)\u001b[0m\u001b[0;34m*\u001b[0m\u001b[0;36m1\u001b[0m\u001b[0;34m\u001b[0m\u001b[0;34m\u001b[0m\u001b[0m\n\u001b[1;32m     38\u001b[0m \u001b[0;34m\u001b[0m\u001b[0m\n\u001b[0;32m---> 39\u001b[0;31m             \u001b[0mlogits\u001b[0m \u001b[0;34m=\u001b[0m \u001b[0mpolicy\u001b[0m\u001b[0;34m(\u001b[0m\u001b[0mbatch\u001b[0m\u001b[0;34m.\u001b[0m\u001b[0mantenna_features\u001b[0m\u001b[0;34m,\u001b[0m \u001b[0mbatch\u001b[0m\u001b[0;34m.\u001b[0m\u001b[0medge_index\u001b[0m\u001b[0;34m,\u001b[0m \u001b[0mbatch\u001b[0m\u001b[0;34m.\u001b[0m\u001b[0medge_attr\u001b[0m\u001b[0;34m,\u001b[0m \u001b[0mbatch\u001b[0m\u001b[0;34m.\u001b[0m\u001b[0mvariable_features\u001b[0m\u001b[0;34m)\u001b[0m\u001b[0;34m\u001b[0m\u001b[0;34m\u001b[0m\u001b[0m\n\u001b[0m\u001b[1;32m     40\u001b[0m             \u001b[0mprint\u001b[0m\u001b[0;34m(\u001b[0m\u001b[0;34m'shape'\u001b[0m\u001b[0;34m,\u001b[0m \u001b[0mlogits\u001b[0m\u001b[0;34m.\u001b[0m\u001b[0mshape\u001b[0m\u001b[0;34m)\u001b[0m\u001b[0;34m\u001b[0m\u001b[0;34m\u001b[0m\u001b[0m\n\u001b[1;32m     41\u001b[0m             \u001b[0mout\u001b[0m \u001b[0;34m=\u001b[0m \u001b[0mlogits\u001b[0m\u001b[0;34m.\u001b[0m\u001b[0mreshape\u001b[0m\u001b[0;34m(\u001b[0m\u001b[0;34m[\u001b[0m\u001b[0mbatch\u001b[0m\u001b[0;34m.\u001b[0m\u001b[0mnum_graphs\u001b[0m\u001b[0;34m,\u001b[0m \u001b[0;34m-\u001b[0m\u001b[0;36m1\u001b[0m\u001b[0;34m]\u001b[0m\u001b[0;34m)\u001b[0m\u001b[0;34m\u001b[0m\u001b[0;34m\u001b[0m\u001b[0m\n",
      "\u001b[0;31mAttributeError\u001b[0m: 'Tensor' object has no attribute 'antenna_features'"
     ]
    }
   ],
   "source": [
    "import torch\n",
    "import torch.nn.functional as F\n",
    "import torch_geometric\n",
    "from fcn_training import FCNImitationDataset, FCNNodeFakeDataset, FCNImitationPolicy, FCNNodeSelectionPolicy\n",
    "from tqdm import tqdm\n",
    "from pathlib import Path\n",
    "import torch.nn as nn\n",
    "import matplotlib.pyplot as plt\n",
    "import random\n",
    "import math \n",
    "from torch.utils.data import DataLoader\n",
    "\n",
    "LEARNING_RATE = 0.001\n",
    "NB_EPOCHS = 150\n",
    "PATIENCE = 10\n",
    "EARLY_STOPPING = 20\n",
    "DEVICE = torch.device('cuda' if torch.cuda.is_available() else 'cpu')\n",
    "sig = nn.Sigmoid()\n",
    "loss_func = nn.MSELoss()\n",
    "\n",
    "def process(policy, data_loader, optimizer=None):\n",
    "    \"\"\"\n",
    "    This function will process a whole epoch of training or validation, depending on whether an optimizer is provided.\n",
    "    \"\"\"\n",
    "    mean_loss = 0\n",
    "    mean_acc = 0\n",
    "\n",
    "    n_samples_processed = 0\n",
    "    targets_list = torch.Tensor([]).to(DEVICE)\n",
    "    preds_list = torch.Tensor([]).to(DEVICE)\n",
    "    with torch.set_grad_enabled(optimizer is not None):\n",
    "        for batch_data in tqdm(data_loader):\n",
    "            batch, target = batch_data\n",
    "#             print(batch[0], batch[1])\n",
    "#             print(target.sum())\n",
    "            batch = batch.to(DEVICE)\n",
    "            target = target.squeeze().to(DEVICE)*1\n",
    "            \n",
    "            logits = policy(batch.antenna_features, batch.edge_index, batch.edge_attr, batch.variable_features)            \n",
    "            print('shape', logits.shape)\n",
    "            out = logits.reshape([batch.num_graphs, -1])\n",
    "            \n",
    "            out = policy(batch).squeeze()\n",
    "            \n",
    "            loss = loss_func(out, target.to(torch.float))\n",
    "            \n",
    "            if optimizer is not None:\n",
    "                optimizer.zero_grad()\n",
    "                loss.backward()\n",
    "                optimizer.step()\n",
    "            \n",
    "            mean_loss += loss.item() * batch.shape[0]\n",
    "            n_samples_processed += batch.shape[0]\n",
    "\n",
    "    mean_loss /= n_samples_processed\n",
    "    return mean_loss\n",
    "\n",
    "\n",
    "def pad_tensor(input_, pad_sizes, pad_value=-1e8):\n",
    "    \"\"\"\n",
    "    This utility function splits a tensor and pads each split to make them all the same size, then stacks them.\n",
    "    \"\"\"\n",
    "    max_pad_size = pad_sizes.max()\n",
    "    output = input_.split(pad_sizes.cpu().numpy().tolist())\n",
    "    output = torch.stack([F.pad(slice_, (0, max_pad_size-slice_.size(0)), 'constant', pad_value)\n",
    "                          for slice_ in output], dim=0)\n",
    "    return output\n",
    "\n",
    "\n",
    "\n",
    "positive_sample_files = [str(path) for path in Path('data/1_gnn_10k_positive_node_samples/').glob('sample_*.pkl')]\n",
    "positive_trains = positive_sample_files[:int(0.8*len(positive_sample_files))]\n",
    "positive_valids = positive_sample_files[int(0.8*len(positive_sample_files)):]\n",
    "\n",
    "negative_sample_files = ['data/1_gnn_10k_negative_node_samples/sample_'+str(i)+'.pkl' for i in sample_indices]\n",
    "negative_trains = negative_sample_files[:int(0.8*len(negative_sample_files))]\n",
    "negative_valids = negative_sample_files[int(0.8*len(negative_sample_files)):]\n",
    "\n",
    "random.shuffle(negative_trains)\n",
    "negative_trains = negative_trains[:len(positive_trains)]\n",
    "\n",
    "random.shuffle(negative_valids)\n",
    "negative_valids = negative_valids[:len(positive_valids)]\n",
    "\n",
    "\n",
    "train_files = positive_trains + negative_trains\n",
    "valid_files = positive_valids + negative_valids\n",
    "\n",
    "random.shuffle(train_files)\n",
    "\n",
    "# positive_sample_files1 = [str(path) for path in Path('data/1_fcn_10k_positive_node_samples/').glob('sample_*.pkl')]\n",
    "# # positive_sample_files2 = [str(path) for path in Path('positive_node_samples3/').glob('sample_*.pkl')]\n",
    "# positive_sample_files = positive_sample_files1\n",
    "# random.shuffle(positive_sample_files)\n",
    "# positive_sample_files = positive_sample_files[:100000]\n",
    "# print('files loaded')\n",
    "\n",
    "# sample_indices = random.sample(range(1, 4165605), 100000)\n",
    "# negative_sample_files = ['data/1_fcn_10k_negative_node_samples/sample_'+str(i)+'.pkl' for i in sample_indices]\n",
    "# # negative_sample_files = [str(path) for path in Path('data/10k_negative_node_samples/').glob('sample_*.pkl')]\n",
    "# print(len(negative_sample_files))\n",
    "# imbalance_ratio = len(negative_sample_files)/len(positive_sample_files)\n",
    "\n",
    "# random.shuffle(negative_sample_files)\n",
    "# print(len(positive_sample_files), len(negative_sample_files))\n",
    "# negative_sample_files = negative_sample_files[:len(positive_sample_files)]\n",
    "# sample_files = positive_sample_files + negative_sample_files\n",
    "# random.shuffle(sample_files)\n",
    "\n",
    "# valid_sample_files = [str(path) for path in Path('node_samples/').glob('sample_*.pkl')]\n",
    "# random.shuffle(valid_sample_files)\n",
    "# valid_sample_files = valid_sample_files[:2000]\n",
    "\n",
    "# train_files = sample_files[:int(0.8*len(sample_files))]\n",
    "# valid_files = sample_files[int(0.8*len(sample_files)):]\n",
    "\n",
    "train_data = FCNImitationDataset(train_files)\n",
    "train_loader = DataLoader(train_data, batch_size=128, shuffle=True)\n",
    "valid_data = FCNImitationDataset(valid_files)\n",
    "valid_loader = DataLoader(valid_data, batch_size=128, shuffle=False)\n",
    "\n",
    "policy = FCNImitationPolicy().to(DEVICE)\n",
    "optimizer = torch.optim.Adam(policy.parameters(), lr=LEARNING_RATE)\n",
    "\n",
    "valids = []\n",
    "trains = []\n",
    "for epoch in range(NB_EPOCHS):\n",
    "    print(f\"Epoch {epoch+1}\")\n",
    "    \n",
    "    train_loss = process(policy, train_loader, optimizer)\n",
    "    print(f\"Train loss: {train_loss}\" )\n",
    "    trains.append(train_loss)\n",
    "    \n",
    "    valid_loss = process(policy, valid_loader, None)\n",
    "    print(f\"Valid loss: {valid_loss}\" )\n",
    "    valids.append(valid_loss)\n",
    "    \n",
    "torch.save(policy.state_dict(), 'trained_params_imitation2.pkl')"
   ]
  },
  {
   "cell_type": "code",
   "execution_count": 7,
   "id": "4966f7ed",
   "metadata": {},
   "outputs": [
    {
     "data": {
      "text/plain": [
       "Text(0, 0.5, 'F1-score')"
      ]
     },
     "execution_count": 7,
     "metadata": {},
     "output_type": "execute_result"
    },
    {
     "data": {
      "image/png": "[encoded data removed]",
      "text/plain": [
       "<Figure size 432x288 with 1 Axes>"
      ]
     },
     "metadata": {
      "needs_background": "light"
     },
     "output_type": "display_data"
    }
   ],
   "source": [
    "import matplotlib.pyplot as plt\n",
    "\n",
    "plt.plot(trains)\n",
    "plt.plot(valids)\n",
    "plt.legend(['training', 'validation'])\n",
    "plt.xlabel('epochs')\n",
    "plt.ylabel('F1-score')"
   ]
  },
  {
   "cell_type": "code",
   "execution_count": 9,
   "id": "858b00ab",
   "metadata": {},
   "outputs": [
    {
     "data": {
      "text/plain": [
       "[100,\n",
       " 99,\n",
       " 98,\n",
       " 97,\n",
       " 96,\n",
       " 95,\n",
       " 94,\n",
       " 93,\n",
       " 92,\n",
       " 91,\n",
       " 90,\n",
       " 89,\n",
       " 88,\n",
       " 87,\n",
       " 86,\n",
       " 85,\n",
       " 84,\n",
       " 83,\n",
       " 82,\n",
       " 81,\n",
       " 80,\n",
       " 79,\n",
       " 78,\n",
       " 77,\n",
       " 76,\n",
       " 75,\n",
       " 74,\n",
       " 73,\n",
       " 72,\n",
       " 71,\n",
       " 70,\n",
       " 69,\n",
       " 68,\n",
       " 67,\n",
       " 66,\n",
       " 65,\n",
       " 64,\n",
       " 63,\n",
       " 62,\n",
       " 61,\n",
       " 60,\n",
       " 59,\n",
       " 58,\n",
       " 57,\n",
       " 56,\n",
       " 55,\n",
       " 54,\n",
       " 53,\n",
       " 52,\n",
       " 51,\n",
       " 50,\n",
       " 49,\n",
       " 48,\n",
       " 47,\n",
       " 46,\n",
       " 45,\n",
       " 44,\n",
       " 43,\n",
       " 42,\n",
       " 41,\n",
       " 40,\n",
       " 39,\n",
       " 38,\n",
       " 37,\n",
       " 36,\n",
       " 35,\n",
       " 34,\n",
       " 33,\n",
       " 32,\n",
       " 31,\n",
       " 30,\n",
       " 29,\n",
       " 28,\n",
       " 27,\n",
       " 26,\n",
       " 25,\n",
       " 24,\n",
       " 23,\n",
       " 22,\n",
       " 21,\n",
       " 20,\n",
       " 19,\n",
       " 18,\n",
       " 17,\n",
       " 16,\n",
       " 15,\n",
       " 14,\n",
       " 13,\n",
       " 12,\n",
       " 11,\n",
       " 10,\n",
       " 9,\n",
       " 8,\n",
       " 7,\n",
       " 6,\n",
       " 5,\n",
       " 4,\n",
       " 3,\n",
       " 2,\n",
       " 1,\n",
       " 0]"
      ]
     },
     "execution_count": 9,
     "metadata": {},
     "output_type": "execute_result"
    }
   ],
   "source": [
    "list(range(100,-1,-1))"
   ]
  },
  {
   "cell_type": "code",
   "execution_count": 2,
   "id": "69d4e08e",
   "metadata": {},
   "outputs": [],
   "source": [
    "import torch\n",
    "import torch.nn.functional as F\n",
    "import torch_geometric\n",
    "from fcn_training import FCNNodeDataset, FCNBranchingPolicy, FCNNodeSelectionPolicy\n",
    "from tqdm import tqdm\n",
    "from pathlib import Path\n",
    "import torch.nn as nn\n",
    "import matplotlib.pyplot as plt\n",
    "import random\n",
    "import math \n",
    "from torch.utils.data import DataLoader\n",
    "import numpy as np\n",
    "\n",
    "from  acr_bb import Observation, ACRBBenv, DefaultBranchingPolicy, RandomPolicy, LinearObservation\n",
    "from fcn_training import FCNDataset, FCNBranchingPolicy, FCNNodeSelectionPolicy \n",
    "\n",
    "MAX_SAMPLES = 100000\n",
    "\n",
    "N = 8 # antennas\n",
    "M = 4 # users\n",
    "expert_prob = 0.5\n",
    "\n",
    "def instance_generator(M, N):\n",
    "    while 1:\n",
    "        yield np.random.randn(2,N,M)\n",
    "\n",
    "# instances = np.random.randn(MAX_SAMPLES, 2, N, M)\n",
    "instances = instance_generator(M,N)\n",
    "\n",
    "env = ACRBBenv(observation_function=LinearObservation)\n",
    "\n",
    "obs, _,_,_,_  = env.reset(next(instances))"
   ]
  },
  {
   "cell_type": "code",
   "execution_count": 3,
   "id": "54052a74",
   "metadata": {},
   "outputs": [
    {
     "name": "stdout",
     "output_type": "stream",
     "text": [
      "lower bounds 0.056979456281294756 0.05665037712236675\n",
      "[3.05164062e+00 1.51764131e-03 1.74864162e+00 4.88510349e+00]\n",
      "[ 1.68609096 -0.20467164 -0.16533155  0.28578829]\n",
      "[ 1.6466605   1.6342108  -0.17111205  0.07740174]\n"
     ]
    }
   ],
   "source": [
    "obs, _,_,_,_ = env.step(2)\n",
    "a = obs.observation[24:28] + 1j*obs.observation[28:32]\n",
    "angle = np.angle(a) \n",
    "angle[angle<0] += 2*np.pi\n",
    "\n",
    "lb = obs.observation[24+3*8*4+2:126]\n",
    "ub = obs.observation[126:130]\n",
    "if np.random.rand(1)>0.3:\n",
    "    mid = lb + np.random.rand(4)*(ub-lb)\n",
    "    r = 1\n",
    "    comp = np.exp(1j*mid)\n",
    "    print('here')\n",
    "else:\n",
    "    mid = np.random.rand(4)*2*np.pi\n",
    "    r = 1\n",
    "    comp = np.exp(1j*mid)\n",
    "if sum(mid<ub)+sum(mid>lb) == 8:\n",
    "    label = 1\n",
    "else:\n",
    "    label = 0\n",
    "\n",
    "print(mid)\n",
    "print(lb)\n",
    "print(ub)"
   ]
  },
  {
   "cell_type": "code",
   "execution_count": 10,
   "id": "ff6c796b",
   "metadata": {},
   "outputs": [
    {
     "data": {
      "text/plain": [
       "array([[-0.22273167],\n",
       "       [-1.66305339],\n",
       "       [ 1.953208  ],\n",
       "       [-0.87037179],\n",
       "       [ 3.11667517],\n",
       "       [ 1.41480285],\n",
       "       [-1.12713787],\n",
       "       [ 1.91449468]])"
      ]
     },
     "execution_count": 10,
     "metadata": {},
     "output_type": "execute_result"
    }
   ],
   "source": [
    "np.angle(env.active_node.w_feas)"
   ]
  },
  {
   "cell_type": "code",
   "execution_count": 11,
   "id": "217d052a",
   "metadata": {},
   "outputs": [
    {
     "data": {
      "text/plain": [
       "array([ 6.06045364e+00,  4.62013191e+00,  1.95320800e+00,  5.41281352e+00,\n",
       "        3.11667517e+00,  1.41480285e+00,  5.15604744e+00,  1.91449468e+00,\n",
       "        2.02044387e+00, -6.81960954e-01, -3.26736169e-01,  1.87059315e+00,\n",
       "       -2.66508038e+00,  7.64409212e-01,  7.70503458e-01, -4.24004736e-01,\n",
       "       -1.79267862e-01, -7.41319619e+00,  3.02809333e-01, -2.19216313e+00,\n",
       "        2.11666711e-02,  3.61835452e+00, -1.99892644e+00,  7.04557354e-01,\n",
       "        2.02838123e+00,  7.44449787e+00,  4.45477290e-01,  2.88178728e+00,\n",
       "        2.66516444e+00,  3.69821726e+00,  2.14228441e+00,  8.22302305e-01,\n",
       "        6.19469008e+00,  4.62065433e+00,  2.39418273e+00,  5.41880112e+00,\n",
       "        3.13365059e+00,  1.36259881e+00,  5.08029719e+00,  2.11254051e+00,\n",
       "        7.55496788e-01, -1.52880482e+00, -9.22801121e-01, -2.04321474e+00,\n",
       "       -3.00115125e-01, -1.32413209e+00, -4.68237393e-01,  1.36467412e-01,\n",
       "       -9.19116458e-02, -2.50762803e-01,  1.02174074e+00, -7.50697854e-02,\n",
       "        8.14844331e-01,  1.33662814e+00, -1.39284727e-01, -4.93337421e-01,\n",
       "       -1.22992828e+00,  2.47276164e+00,  1.22219350e-01, -1.27179170e-01,\n",
       "        2.41460429e-01,  6.21933959e-02, -2.68763657e-01, -7.91276891e-01,\n",
       "        3.35524607e-01,  1.66637596e-01,  1.68609096e+00, -2.04671643e-01,\n",
       "       -1.65331545e-01,  2.85788291e-01,  1.64666050e+00,  1.63421080e+00,\n",
       "       -1.71112053e-01,  7.74017426e-02,  1.21941510e+00,  5.77395136e-01,\n",
       "       -3.24379683e+00, -8.47861770e-01, -2.16572683e-01, -1.05919901e+00,\n",
       "        2.28515519e-01,  6.27404837e-01, -4.98958384e-01,  1.35093242e+00,\n",
       "       -9.66584153e-01,  2.03935821e-01, -1.55075469e-01, -2.94386032e-01,\n",
       "        3.06530565e-02, -1.17339268e+00,  8.33526028e-01,  6.32543645e-01,\n",
       "        1.53531212e+00,  6.39758270e-01,  1.06458136e+00, -4.41739624e-01,\n",
       "       -7.05984793e-01,  1.74873464e+00, -8.88190275e-02,  9.92764629e-01,\n",
       "        4.61944503e-01,  2.88621194e-01, -1.48268098e-01,  1.63454168e-01,\n",
       "        7.74631997e-01,  1.53076294e+00,  1.52922696e+00,  2.12323141e+00,\n",
       "        3.25765053e+00,  1.57232165e+00,  5.15897260e-01,  1.06795407e+00,\n",
       "        2.46306909e-01,  6.75661759e-01,  1.13706359e+00,  1.35301659e+00,\n",
       "        1.26422158e+00,  1.35209637e+00,  2.08443365e-01,  5.74495385e-01,\n",
       "        1.23031020e+00,  2.73704230e+00,  8.42438845e-01,  6.45202297e-01,\n",
       "        1.55418353e+00,  6.42774192e-01,  1.09798332e+00,  9.06230111e-01,\n",
       "        7.81659319e-01,  1.75665618e+00,  1.68842872e+00,  1.01364298e+00,\n",
       "        4.90639628e-01,  4.06173782e-01,  1.65332218e+00,  1.64236482e+00,\n",
       "        9.40835028e+01,  5.69794563e-02,  2.00000000e+00,  0.00000000e+00,\n",
       "        0.00000000e+00,  0.00000000e+00,  0.00000000e+00,  6.28318531e+00,\n",
       "        6.28318531e+00,  3.14159265e+00,  6.28318531e+00,  1.00000000e+00,\n",
       "       -7.63415861e-03,  8.48720549e-02,  1.65931766e-02, -8.67361738e-19,\n",
       "        4.73070776e-02,  6.08400556e-02,  1.33589796e-02,  1.00000000e+00,\n",
       "        4.79190982e-02,  1.04425945e-01,  2.13024845e-02,  1.00000000e+00,\n",
       "        0.00000000e+00,  0.00000000e+00,  0.00000000e+00])"
      ]
     },
     "execution_count": 11,
     "metadata": {},
     "output_type": "execute_result"
    }
   ],
   "source": [
    "obs.observation[56:]"
   ]
  },
  {
   "cell_type": "code",
   "execution_count": 207,
   "id": "fcc28fa7",
   "metadata": {},
   "outputs": [
    {
     "data": {
      "text/plain": [
       "torch.Size([158])"
      ]
     },
     "execution_count": 207,
     "metadata": {},
     "output_type": "execute_result"
    }
   ],
   "source": [
    "import torch\n",
    "\n",
    "torch.cat((torch.tensor(np.real(mid)), torch.tensor(np.imag(mid)), torch.tensor(np.abs(mid)), torch.tensor(obs.observation))).shape"
   ]
  },
  {
   "cell_type": "code",
   "execution_count": null,
   "id": "5ca36ec2",
   "metadata": {},
   "outputs": [],
   "source": []
  },
  {
   "cell_type": "code",
   "execution_count": 85,
   "id": "5a659e04",
   "metadata": {},
   "outputs": [],
   "source": [
    "a = np.random.rand(4)*2*np.pi\n",
    "b = np.random.rand(4)*2*np.pi\n",
    "c = np.random.rand(4)*2*np.pi\n",
    "\n"
   ]
  },
  {
   "cell_type": "code",
   "execution_count": 86,
   "id": "0cc1d4f9",
   "metadata": {},
   "outputs": [
    {
     "data": {
      "text/plain": [
       "3"
      ]
     },
     "execution_count": 86,
     "metadata": {},
     "output_type": "execute_result"
    }
   ],
   "source": [
    "sum(c< a)"
   ]
  },
  {
   "cell_type": "code",
   "execution_count": 76,
   "id": "797fb55a",
   "metadata": {},
   "outputs": [
    {
     "data": {
      "text/plain": [
       "array([False, False, False,  True])"
      ]
     },
     "execution_count": 76,
     "metadata": {},
     "output_type": "execute_result"
    }
   ],
   "source": [
    "b<c"
   ]
  },
  {
   "cell_type": "code",
   "execution_count": null,
   "id": "39f8e915",
   "metadata": {},
   "outputs": [],
   "source": []
  },
  {
   "cell_type": "code",
   "execution_count": null,
   "id": "025ab9ef",
   "metadata": {},
   "outputs": [],
   "source": []
  },
  {
   "cell_type": "code",
   "execution_count": null,
   "id": "60488929",
   "metadata": {},
   "outputs": [],
   "source": []
  },
  {
   "cell_type": "code",
   "execution_count": 66,
   "id": "5268b37e",
   "metadata": {},
   "outputs": [
    {
     "data": {
      "text/plain": [
       "array([-1.+1.2246468e-16j, -1.+1.2246468e-16j, -1.+1.2246468e-16j,\n",
       "       -1.+1.2246468e-16j])"
      ]
     },
     "execution_count": 66,
     "metadata": {},
     "output_type": "execute_result"
    }
   ],
   "source": [
    "comp"
   ]
  },
  {
   "cell_type": "code",
   "execution_count": 67,
   "id": "dd8c869a",
   "metadata": {},
   "outputs": [
    {
     "data": {
      "text/plain": [
       "array([0., 0., 0., 0.])"
      ]
     },
     "execution_count": 67,
     "metadata": {},
     "output_type": "execute_result"
    }
   ],
   "source": [
    "lb"
   ]
  },
  {
   "cell_type": "code",
   "execution_count": 68,
   "id": "37277933",
   "metadata": {},
   "outputs": [
    {
     "data": {
      "text/plain": [
       "array([6.28318531, 6.28318531, 6.28318531, 6.28318531])"
      ]
     },
     "execution_count": 68,
     "metadata": {},
     "output_type": "execute_result"
    }
   ],
   "source": [
    "ub"
   ]
  },
  {
   "cell_type": "code",
   "execution_count": 59,
   "id": "7cd3709a",
   "metadata": {},
   "outputs": [],
   "source": [
    "a = 3*np.pi/2 + np.pi/4"
   ]
  },
  {
   "cell_type": "code",
   "execution_count": 60,
   "id": "0bf60a68",
   "metadata": {},
   "outputs": [
    {
     "data": {
      "text/plain": [
       "5.497787143782138"
      ]
     },
     "execution_count": 60,
     "metadata": {},
     "output_type": "execute_result"
    }
   ],
   "source": [
    "a"
   ]
  },
  {
   "cell_type": "code",
   "execution_count": 62,
   "id": "a2481f33",
   "metadata": {},
   "outputs": [],
   "source": [
    "b = 1*np.exp(1j*a)"
   ]
  },
  {
   "cell_type": "code",
   "execution_count": 64,
   "id": "1c2697b6",
   "metadata": {},
   "outputs": [
    {
     "data": {
      "text/plain": [
       "5.497787143782138"
      ]
     },
     "execution_count": 64,
     "metadata": {},
     "output_type": "execute_result"
    }
   ],
   "source": [
    "np.angle(b)+2*np.pi"
   ]
  },
  {
   "cell_type": "code",
   "execution_count": null,
   "id": "ba9e3937",
   "metadata": {},
   "outputs": [],
   "source": []
  },
  {
   "cell_type": "code",
   "execution_count": null,
   "id": "c249e10d",
   "metadata": {},
   "outputs": [],
   "source": []
  },
  {
   "cell_type": "code",
   "execution_count": 53,
   "id": "53537ebc",
   "metadata": {},
   "outputs": [
    {
     "data": {
      "text/plain": [
       "array([ True])"
      ]
     },
     "execution_count": 53,
     "metadata": {},
     "output_type": "execute_result"
    }
   ],
   "source": [
    "np.random.rand(1)> 0.5"
   ]
  },
  {
   "cell_type": "code",
   "execution_count": 28,
   "id": "14221424",
   "metadata": {},
   "outputs": [
    {
     "data": {
      "text/plain": [
       "array([0.14602925, 3.63327729, 1.08245673, 1.55202076])"
      ]
     },
     "execution_count": 28,
     "metadata": {},
     "output_type": "execute_result"
    }
   ],
   "source": [
    "angle"
   ]
  },
  {
   "cell_type": "code",
   "execution_count": 26,
   "id": "4cc6f766",
   "metadata": {},
   "outputs": [
    {
     "data": {
      "text/plain": [
       "array([ 1.90497712+0.28017676j, -2.52041463-1.34981818j,\n",
       "        1.24287801+2.33950317j,  0.02418395+1.28790262j])"
      ]
     },
     "execution_count": 26,
     "metadata": {},
     "output_type": "execute_result"
    }
   ],
   "source": []
  },
  {
   "cell_type": "code",
   "execution_count": 16,
   "id": "ca6524f7",
   "metadata": {},
   "outputs": [
    {
     "data": {
      "text/plain": [
       "<acr_bb.Observation at 0x7f6e097478d0>"
      ]
     },
     "execution_count": 16,
     "metadata": {},
     "output_type": "execute_result"
    }
   ],
   "source": [
    "obs"
   ]
  },
  {
   "cell_type": "code",
   "execution_count": 14,
   "id": "1a5aad03",
   "metadata": {},
   "outputs": [
    {
     "ename": "AttributeError",
     "evalue": "'ACRBBenv' object has no attribute 'observation'",
     "output_type": "error",
     "traceback": [
      "\u001b[0;31m---------------------------------------------------------------------------\u001b[0m",
      "\u001b[0;31mAttributeError\u001b[0m                            Traceback (most recent call last)",
      "\u001b[0;32m<ipython-input-14-f6d3d8ab6b1d>\u001b[0m in \u001b[0;36m<module>\u001b[0;34m\u001b[0m\n\u001b[0;32m----> 1\u001b[0;31m \u001b[0menv\u001b[0m\u001b[0;34m.\u001b[0m\u001b[0mobservation\u001b[0m\u001b[0;34m\u001b[0m\u001b[0;34m\u001b[0m\u001b[0m\n\u001b[0m",
      "\u001b[0;31mAttributeError\u001b[0m: 'ACRBBenv' object has no attribute 'observation'"
     ]
    }
   ],
   "source": [
    "env.observation"
   ]
  },
  {
   "cell_type": "code",
   "execution_count": 12,
   "id": "40d122de",
   "metadata": {},
   "outputs": [
    {
     "data": {
      "text/plain": [
       "<acr_bb.ACRBBenv at 0x7f713c9ba358>"
      ]
     },
     "execution_count": 12,
     "metadata": {},
     "output_type": "execute_result"
    }
   ],
   "source": [
    "env."
   ]
  },
  {
   "cell_type": "code",
   "execution_count": null,
   "id": "5128fa29",
   "metadata": {},
   "outputs": [],
   "source": [
    "policy = FCNNodeSelectionPolicy()\n",
    "\n"
   ]
  },
  {
   "cell_type": "code",
   "execution_count": null,
   "id": "a264b8b9",
   "metadata": {},
   "outputs": [],
   "source": [
    "a = torch.randn(())"
   ]
  },
  {
   "cell_type": "code",
   "execution_count": 4,
   "id": "99a8ed40",
   "metadata": {},
   "outputs": [],
   "source": [
    "a, b = train_data[0]"
   ]
  },
  {
   "cell_type": "code",
   "execution_count": 5,
   "id": "d476fb46",
   "metadata": {},
   "outputs": [
    {
     "data": {
      "text/plain": [
       "torch.Size([146])"
      ]
     },
     "execution_count": 5,
     "metadata": {},
     "output_type": "execute_result"
    }
   ],
   "source": [
    "a.shape"
   ]
  },
  {
   "cell_type": "code",
   "execution_count": 6,
   "id": "89d5c6bc",
   "metadata": {},
   "outputs": [
    {
     "data": {
      "text/plain": [
       "torch.Size([])"
      ]
     },
     "execution_count": 6,
     "metadata": {},
     "output_type": "execute_result"
    }
   ],
   "source": [
    "b.shape"
   ]
  },
  {
   "cell_type": "code",
   "execution_count": 21,
   "id": "b36965fc",
   "metadata": {},
   "outputs": [],
   "source": [
    "import gzip\n",
    "import pickle\n",
    "\n",
    "with gzip.open('fcn_negative_node_samples/sample_10.pkl','rb') as f:\n",
    "    sample = pickle.load(f)"
   ]
  },
  {
   "cell_type": "code",
   "execution_count": 7,
   "id": "f1f80cac",
   "metadata": {},
   "outputs": [
    {
     "data": {
      "text/plain": [
       "3.3041506361597035"
      ]
     },
     "execution_count": 7,
     "metadata": {},
     "output_type": "execute_result"
    }
   ],
   "source": [
    "import numpy as np\n",
    "\n",
    "np.linalg.norm(np.random.randn(5,1),'fro')**2"
   ]
  },
  {
   "cell_type": "code",
   "execution_count": 10,
   "id": "4731fecd",
   "metadata": {},
   "outputs": [
    {
     "data": {
      "text/plain": [
       "array([5.49778714])"
      ]
     },
     "execution_count": 10,
     "metadata": {},
     "output_type": "execute_result"
    }
   ],
   "source": [
    "2*np.pi + np.angle([1-1j])"
   ]
  }
 ],
 "metadata": {
  "kernelspec": {
   "display_name": "Python 3",
   "language": "python",
   "name": "python3"
  },
  "language_info": {
   "codemirror_mode": {
    "name": "ipython",
    "version": 3
   },
   "file_extension": ".py",
   "mimetype": "text/x-python",
   "name": "python",
   "nbconvert_exporter": "python",
   "pygments_lexer": "ipython3",
   "version": "3.6.8"
  }
 },
 "nbformat": 4,
 "nbformat_minor": 5
}
