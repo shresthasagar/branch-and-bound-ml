{
 "cells": [
  {
   "cell_type": "code",
   "execution_count": null,
   "id": "a625b614",
   "metadata": {},
   "outputs": [],
   "source": [
    "\"\"\"\n",
    "TODO:\n",
    "    1. Design a GNN that takes in all children nodes from the currently branched node and selects only\n",
    "        one of the nodes\n",
    "    2. The output y is the parameter for the multinomial distribution among all the nodes that need to be selected\n",
    "\"\"\"\n",
    "\n",
    "\n"
   ]
  }
 ],
 "metadata": {
  "kernelspec": {
   "display_name": "Python 3",
   "language": "python",
   "name": "python3"
  },
  "language_info": {
   "codemirror_mode": {
    "name": "ipython",
    "version": 3
   },
   "file_extension": ".py",
   "mimetype": "text/x-python",
   "name": "python",
   "nbconvert_exporter": "python",
   "pygments_lexer": "ipython3",
   "version": "3.6.8"
  }
 },
 "nbformat": 4,
 "nbformat_minor": 5
}
