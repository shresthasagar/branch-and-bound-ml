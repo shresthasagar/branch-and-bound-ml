{
 "cells": [
  {
   "cell_type": "markdown",
   "id": "260cdb49",
   "metadata": {},
   "source": [
    "## Compute feature importance in test set"
   ]
  },
  {
   "cell_type": "code",
   "execution_count": 7,
   "id": "842e6c1a",
   "metadata": {},
   "outputs": [
    {
     "name": "stderr",
     "output_type": "stream",
     "text": [
      " 10%|█         | 1/10 [00:35<05:18, 35.34s/it]"
     ]
    },
    {
     "name": "stdout",
     "output_type": "stream",
     "text": [
      "tensor([[   0, 6039],\n",
      "        [   0, 2858]])\n",
      "Train: precision:0.321231871843338, recall:1.0, f1-score:0.48626115918159485, loss: 0.5570855543253541, acc: 0.48626115918159485\n"
     ]
    },
    {
     "name": "stderr",
     "output_type": "stream",
     "text": [
      "\r",
      " 20%|██        | 2/10 [00:39<02:15, 16.99s/it]"
     ]
    },
    {
     "name": "stdout",
     "output_type": "stream",
     "text": [
      "tensor([[2022, 4017],\n",
      "        [  82, 2776]])\n",
      "Train: precision:0.40865597128868103, recall:0.9713085889816284, f1-score:0.5752771496772766, loss: 0.3139634993560826, acc: 0.5752771496772766\n"
     ]
    },
    {
     "name": "stderr",
     "output_type": "stream",
     "text": [
      "\r",
      " 30%|███       | 3/10 [00:43<01:17, 11.02s/it]"
     ]
    },
    {
     "name": "stdout",
     "output_type": "stream",
     "text": [
      "tensor([[3485, 2554],\n",
      "        [ 121, 2737]])\n",
      "Train: precision:0.5172935128211975, recall:0.9576627016067505, f1-score:0.671738862991333, loss: 0.2696914782705127, acc: 0.671738862991333\n"
     ]
    },
    {
     "name": "stderr",
     "output_type": "stream",
     "text": [
      "\r",
      " 40%|████      | 4/10 [00:47<00:49,  8.23s/it]"
     ]
    },
    {
     "name": "stdout",
     "output_type": "stream",
     "text": [
      "tensor([[3546, 2493],\n",
      "        [ 108, 2750]])\n",
      "Train: precision:0.5245088934898376, recall:0.9622113108634949, f1-score:0.678928554058075, loss: 0.25644197600791196, acc: 0.678928554058075\n"
     ]
    },
    {
     "name": "stderr",
     "output_type": "stream",
     "text": [
      "\r",
      " 50%|█████     | 5/10 [00:51<00:33,  6.70s/it]"
     ]
    },
    {
     "name": "stdout",
     "output_type": "stream",
     "text": [
      "tensor([[3498, 2541],\n",
      "        [  99, 2759]])\n",
      "Train: precision:0.5205660462379456, recall:0.9653604030609131, f1-score:0.6763913035392761, loss: 0.2510608049729064, acc: 0.6763913035392761\n"
     ]
    },
    {
     "name": "stderr",
     "output_type": "stream",
     "text": [
      "\r",
      " 60%|██████    | 6/10 [00:55<00:23,  5.76s/it]"
     ]
    },
    {
     "name": "stdout",
     "output_type": "stream",
     "text": [
      "tensor([[3540, 2499],\n",
      "        [  95, 2763]])\n",
      "Train: precision:0.5250855088233948, recall:0.966759979724884, f1-score:0.6805418729782104, loss: 0.24402047342345382, acc: 0.6805418729782104\n"
     ]
    },
    {
     "name": "stderr",
     "output_type": "stream",
     "text": [
      "\r",
      " 70%|███████   | 7/10 [00:59<00:15,  5.17s/it]"
     ]
    },
    {
     "name": "stdout",
     "output_type": "stream",
     "text": [
      "tensor([[3537, 2502],\n",
      "        [  86, 2772]])\n",
      "Train: precision:0.5255972743034363, recall:0.9699090123176575, f1-score:0.6817511320114136, loss: 0.24545829573568098, acc: 0.6817511320114136\n"
     ]
    },
    {
     "name": "stderr",
     "output_type": "stream",
     "text": [
      "\r",
      " 80%|████████  | 8/10 [01:03<00:09,  4.73s/it]"
     ]
    },
    {
     "name": "stdout",
     "output_type": "stream",
     "text": [
      "tensor([[3539, 2500],\n",
      "        [  83, 2775]])\n",
      "Train: precision:0.5260663628578186, recall:0.9709587097167969, f1-score:0.6824050545692444, loss: 0.2363141415473436, acc: 0.6824050545692444\n"
     ]
    },
    {
     "name": "stderr",
     "output_type": "stream",
     "text": [
      "\r",
      " 90%|█████████ | 9/10 [01:06<00:04,  4.46s/it]"
     ]
    },
    {
     "name": "stdout",
     "output_type": "stream",
     "text": [
      "tensor([[3559, 2480],\n",
      "        [  66, 2792]])\n",
      "Train: precision:0.5295903086662292, recall:0.976906955242157, f1-score:0.6868388652801514, loss: 0.23242185206792187, acc: 0.6868388652801514\n"
     ]
    },
    {
     "name": "stderr",
     "output_type": "stream",
     "text": [
      "100%|██████████| 10/10 [01:10<00:00,  7.07s/it]"
     ]
    },
    {
     "name": "stdout",
     "output_type": "stream",
     "text": [
      "tensor([[3540, 2499],\n",
      "        [  69, 2789]])\n",
      "Train: precision:0.5274205803871155, recall:0.9758572578430176, f1-score:0.6847532391548157, loss: 0.22945784689389387, acc: 0.6847532391548157\n"
     ]
    },
    {
     "name": "stderr",
     "output_type": "stream",
     "text": [
      "\n"
     ]
    }
   ],
   "source": [
    "\n",
    "from models.setting import ETA_EXP, NODE_DEPTH_INDEX, TASK, DATA_PATH, MODEL_PATH, RESULT_PATH, LOAD_MODEL, LOAD_MODEL_PATH, CLASS_IMBALANCE_WT, LAMBDA_ETA, DAGGER_NUM_ITER, DAGGER_NUM_TRAIN_EXAMPLES_PER_ITER, DAGGER_NUM_VALID_EXAMPLES_PER_ITER, BB_MAX_STEPS\n",
    "\n",
    "TASK = 'antenna_selection'\n",
    "\n",
    "\n",
    "if TASK == 'antenna_selection':\n",
    "    from antenna_selection.observation import Observation, LinearObservation\n",
    "    from antenna_selection.as_bb_par import ASBBenv as Environment, DefaultBranchingPolicy, solve_bb\n",
    "\n",
    "elif TASK == 'robust_beamforming':\n",
    "    from robust_beamforming.observation import Observation, LinearObservation\n",
    "    from robust_beamforming.bb import BBenv as Environment, DefaultBranchingPolicy, solve_bb\n",
    "    \n",
    "elif TASK == 'single_cast_beamforming':\n",
    "    from single_beamforming.observation import Observation, LinearObservation\n",
    "    from single_beamforming.acr_bb import ACRBBenv as Environment, DefaultBranchingPolicy, solve_bb\n",
    "\n",
    "elif TASK == 'single_group_as_bm':\n",
    "    from single_group_as_bm.observation import Observation, LinearObservation\n",
    "    from single_group_as_bm.bb import BBenv as Environment, DefaultBranchingPolicy, solve_bb\n",
    "\n",
    "import torch\n",
    "import torch.nn as nn\n",
    "import numpy as np\n",
    "\n",
    "from models.gnn_policy import GNNPolicy, GNNNodeSelectionPolicy\n",
    "from tqdm import tqdm\n",
    "import torch_geometric\n",
    "import gzip\n",
    "import pickle\n",
    "from models.gnn_dataset import GraphNodeDataset, instance_generator\n",
    "from pathlib import Path\n",
    "from models.gnn_dataset import get_graph_from_obs\n",
    "import shutil\n",
    "import time\n",
    "import os\n",
    "import random\n",
    "\n",
    "\n",
    "from models.fcn_policy import FCNNodeSelectionLinearPolicy, FCNNodeDataset\n",
    "from torch.utils.data import DataLoader\n",
    "from models.dagger_collect_data_multiprocess import DataCollect\n",
    "import csv\n",
    "from torch.distributions import Exponential\n",
    "from models.feature_importance import *\n",
    "\n",
    "\n",
    "CLASS_IMBALANCE_WEIGHT = 11\n",
    "\n",
    "torch.set_num_threads(1)\n",
    "\n",
    "np.random.seed(300)\n",
    "N, M, max_ant = 8, 6, 4\n",
    "train_filepath = os.path.join(DATA_PATH, 'N={},M={},L={}/'.format(N,M,max_ant)) \n",
    "policy_type = 'gnn'\n",
    "\n",
    "# train instances should be a list of tuples (H, w_opt) \n",
    "NodeDataset = GraphNodeDataset\n",
    "DataLoader = torch_geometric.data.DataLoader\n",
    "NodePolicy = GNNNodeSelectionPolicy\n",
    "\n",
    "# training data is inside policy_data and the oracle solutions are inside oracle_data \n",
    "train_filepath = os.path.join(train_filepath, 'policy_data')\n",
    "valid_filepath = os.path.join(train_filepath, 'valid_policy_data')\n",
    "\n",
    "\n",
    "instances = instance_generator(M, N)\n",
    "\n",
    "# Parameters for training\n",
    "DEVICE = 'cuda'\n",
    "\n",
    "learning_rate = 0.0001\n",
    "train_epochs = 10\n",
    "batch_size = 128\n",
    "\n",
    "policy = NodePolicy()\n",
    "policy = policy.to(DEVICE)\n",
    "optimizer = torch.optim.Adam(policy.parameters(), lr=learning_rate)\n",
    "\n",
    "model_folderpath = os.path.join(MODEL_PATH, 'gnn_exp')\n",
    "\n",
    "if not os.path.isdir(model_folderpath):\n",
    "    Path(model_folderpath).mkdir(exist_ok = True)\n",
    "\n",
    "train_loss = 0\n",
    "valid_loss = 0\n",
    "train_acc = 0\n",
    "valid_acc = 0\n",
    "train_fpr = 0\n",
    "train_fnr = 0\n",
    "valid_fpr = 0\n",
    "valid_fnr = 0\n",
    "\n",
    "model_filepath = os.path.join(model_folderpath, 'gnn_exp.model')\n",
    "torch.save(policy.eval().to('cpu').state_dict(), model_filepath)\n",
    "\n",
    "train_files = [str(path) for path in Path(train_filepath).glob('sample_*.pkl')]            \n",
    "# valid_files = [str(path) for path in Path(valid_filepath).glob('sample_*.pkl')]\n",
    "random.shuffle(train_files)\n",
    "valid_files = train_files[int(0.8*len(train_files)):]\n",
    "train_files = train_files[:int(0.8*len(train_files))]\n",
    "\n",
    "train_data = NodeDataset(train_files)\n",
    "train_loader = DataLoader(train_data, batch_size=128, shuffle=True)\n",
    "\n",
    "valid_data = NodeDataset(valid_files)\n",
    "valid_loader = DataLoader(valid_data, batch_size=128, shuffle=True)\n",
    "\n",
    "policy = policy.train().to(DEVICE)\n",
    "\n",
    "# training stage\n",
    "total_data = 0\n",
    "for _ in tqdm(range(train_epochs)):\n",
    "    mean_loss = 0\n",
    "    mean_acc = 0\n",
    "    n_samples_processed = 0\n",
    "    targets_list = torch.Tensor([]).to(DEVICE)\n",
    "    preds_list = torch.Tensor([]).to(DEVICE)\n",
    "    for batch_data in (train_loader):\n",
    "        batch, target = batch_data\n",
    "        batch = batch.to(DEVICE)\n",
    "        target = target.to(DEVICE)*1\n",
    "\n",
    "        if policy_type == 'gnn':\n",
    "            batch_size = batch.num_graphs\n",
    "            num_vars = int(batch.variable_features.shape[0]/batch_size)\n",
    "            wts = torch.tensor([batch.variable_features[i*num_vars, NODE_DEPTH_INDEX] for i in range(batch_size)], dtype=torch.float32)\n",
    "        else:\n",
    "            batch_size = batch.shape[0] \n",
    "            wts = batch[:,-25]\n",
    "\n",
    "        wts = 1/wts\n",
    "        wts = wts.to(DEVICE)\n",
    "\n",
    "        # print([batch.variable_features[i*num_vars, 9].item() for i in range(batch_size)], wts, target)\n",
    "        wts = ((target)*CLASS_IMBALANCE_WT + 1)*wts                   \n",
    "        out = policy(batch, batch_size)\n",
    "        bce = nn.BCELoss(weight=wts)   \n",
    "\n",
    "        try:\n",
    "            F_w = bce(out.squeeze(), target.to(torch.float).squeeze())\n",
    "        except:\n",
    "            F_w = bce(out, target.to(torch.float))\n",
    "        loss = F_w \n",
    "\n",
    "        if optimizer is not None:\n",
    "            optimizer.zero_grad()\n",
    "            loss.backward()\n",
    "            optimizer.step()\n",
    "        predicted_bestindex = (out>0.5)*1\n",
    "        accuracy = sum(predicted_bestindex.reshape(-1) == target)\n",
    "\n",
    "        targets_list = torch.cat((targets_list, target))\n",
    "        preds_list = torch.cat((preds_list, predicted_bestindex))\n",
    "\n",
    "        mean_loss += loss.item() * batch_size\n",
    "        mean_acc += float(accuracy)\n",
    "        n_samples_processed += batch_size\n",
    "    total_data = n_samples_processed\n",
    "    stacked = torch.stack((targets_list, preds_list.squeeze()), dim=1).to(torch.int)\n",
    "    cmt = torch.zeros(2,2,dtype=torch.int64)\n",
    "    for p in stacked:\n",
    "        tl, pl = p.tolist()\n",
    "        cmt[tl, pl] = cmt[tl, pl] + 1\n",
    "    print(cmt)\n",
    "    precision = cmt[1,1]/(cmt[0,1]+cmt[1,1])\n",
    "    recall = cmt[1,1]/(cmt[1,0]+cmt[1,1])\n",
    "\n",
    "    train_fpr = cmt[0,1]/(cmt[0,0] + cmt[0,1])\n",
    "    train_fnr = cmt[1,0]/(cmt[1,0] + cmt[1,1])\n",
    "\n",
    "    mean_acc = 2* (precision*recall)/(precision+recall)\n",
    "    mean_loss /= n_samples_processed\n",
    "    print(\"Train: precision:{}, recall:{}, f1-score:{}, loss: {}, acc: {}\".format(precision, recall, mean_acc, mean_loss, mean_acc))\n",
    "train_loss = mean_loss\n",
    "train_acc = mean_acc\n",
    "\n",
    "\n"
   ]
  },
  {
   "cell_type": "code",
   "execution_count": 8,
   "id": "a79db804",
   "metadata": {},
   "outputs": [
    {
     "name": "stdout",
     "output_type": "stream",
     "text": [
      "Z (tensor(0.4762), tensor(0.9901), 0.7347302591934632, 0.7347302591934632, tensor([[750, 769],\n",
      "        [  7, 699]]))\n",
      "Z_FEASIBLE (tensor(0.4824), tensor(0.9873), 0.7075803809487418, 0.7075803809487418, tensor([[771, 748],\n",
      "        [  9, 697]]))\n",
      "Z_MASK (tensor(0.4531), tensor(0.9844), 0.8162748770767383, 0.8162748770767383, tensor([[680, 839],\n",
      "        [ 11, 695]]))\n",
      "W_POWER (tensor(0.4929), tensor(0.9858), 0.7070922552333789, 0.7070922552333789, tensor([[803, 716],\n",
      "        [ 10, 696]]))\n",
      "H (tensor(0.4864), tensor(0.9915), 0.7051824830087383, 0.7051824830087383, tensor([[780, 739],\n",
      "        [  6, 700]]))\n",
      "W_INCUMBENT (tensor(0.4888), tensor(0.9858), 0.703835497223929, 0.703835497223929, tensor([[791, 728],\n",
      "        [ 10, 696]]))\n",
      "W_SOLUTION (tensor(0.4854), tensor(0.9858), 0.703422424820032, 0.703422424820032, tensor([[781, 738],\n",
      "        [ 10, 696]]))\n",
      "L_GLOBAL (tensor(0.4849), tensor(0.9561), 0.9616185085425216, 0.9616185085425216, tensor([[802, 717],\n",
      "        [ 31, 675]]))\n",
      "U_GLOBAL (tensor(0.4561), tensor(0.9122), 1.384913965396667, 1.384913965396667, tensor([[751, 768],\n",
      "        [ 62, 644]]))\n",
      "PROXIMITY_GLOBAL_U (tensor(0.4560), tensor(0.9901), 0.8848282231105847, 0.8848282231105847, tensor([[685, 834],\n",
      "        [  7, 699]]))\n",
      "DIRECT_GAIN (tensor(0.4929), tensor(0.9901), 0.6962038032124551, 0.6962038032124551, tensor([[800, 719],\n",
      "        [  7, 699]]))\n",
      "AGGREGATE_INTERFERENCE (tensor(0.4897), tensor(0.9788), 0.7177379931224865, 0.7177379931224865, tensor([[799, 720],\n",
      "        [ 15, 691]]))\n",
      "NODE_DEPTH (tensor(0.4836), tensor(0.9816), 0.8780102054992419, 0.8780102054992419, tensor([[779, 740],\n",
      "        [ 13, 693]]))\n",
      "L_LOCAL (tensor(0.4468), tensor(0.9391), 1.1179420392700796, 1.1179420392700796, tensor([[698, 821],\n",
      "        [ 43, 663]]))\n",
      "U_LOCAL (tensor(0.4183), tensor(0.9207), 1.2652535825365046, 1.2652535825365046, tensor([[615, 904],\n",
      "        [ 56, 650]]))\n"
     ]
    }
   ],
   "source": [
    "# validation \n",
    "np.random.seed(1)\n",
    "\n",
    "feature_map = {\n",
    "                'Z' : (0, [0]),\n",
    "                'Z_FEASIBLE' : (0, [1]),\n",
    "                'Z_MASK' : (0, [2]),\n",
    "                'W_POWER' : (0, [3]),\n",
    "                'H' : (1, [0,1,2]),\n",
    "                'W_INCUMBENT' : (1, [3,4,5]),\n",
    "                'W_SOLUTION' : (1, [6,7,8]),\n",
    "                'L_GLOBAL' : (2, [0]),\n",
    "                'U_GLOBAL' : (2, [1]),\n",
    "                'PROXIMITY_GLOBAL_U' : (2, [2]),\n",
    "                'DIRECT_GAIN' : (2, [3]),\n",
    "                'AGGREGATE_INTERFERENCE' : (2,[4]),\n",
    "                'NODE_DEPTH' : (2,[5]),\n",
    "                'L_LOCAL': (2, [6]),\n",
    "                'U_LOCAL': (2, [7])\n",
    "    \n",
    "}\n",
    "\n",
    "\n",
    "feature_names = ['antenna', 'edge', 'user']\n",
    "feature_sizes = [9, 3, 6]\n",
    "\n",
    "results = {}\n",
    "results['true'] = run_validation(valid_loader, policy, device=DEVICE)\n",
    "feature_importance = {}\n",
    "\n",
    "ins = RandomizedDataset(valid_data)\n",
    "for key in feature_map:\n",
    "    feature_name = feature_names[feature_map[key][0]]\n",
    "    feature_indices = feature_map[key][1]\n",
    "    random_dataset = ins.randomize_feature(feature_name=feature_name , feature_indices=feature_indices)\n",
    "    random_dataloader = DataLoader(random_dataset, batch_size=128, shuffle=True)\n",
    "#     precision, recall, valid_mean_loss, valid_mean_loss = run_validation(random_dataloader, policy)\n",
    "    \n",
    "    results[key] = run_validation(random_dataloader, policy, device=DEVICE)\n",
    "    print(key, results[key])\n",
    "    feature_importance[key] = results[key][2]/ results['true'][2]\n",
    "    \n",
    "    "
   ]
  },
  {
   "cell_type": "code",
   "execution_count": 6,
   "id": "44e2f60e",
   "metadata": {},
   "outputs": [
    {
     "data": {
      "image/png": "[encoded data removed]",
      "text/plain": [
       "<Figure size 432x288 with 1 Axes>"
      ]
     },
     "metadata": {
      "needs_background": "light"
     },
     "output_type": "display_data"
    }
   ],
   "source": [
    "import matplotlib.pyplot as plt\n",
    "fig = plt.figure()\n",
    "keys = [key for key in feature_importance]\n",
    "values = [feature_importance[key] for key in keys]\n",
    "ax = fig.add_axes([0,0,1,1])\n",
    "ax.barh(keys, values, 0.5)\n",
    "ax.set_xlabel('feature importance')\n",
    "ax.set_ylabel('features')\n",
    "plt.show()"
   ]
  },
  {
   "cell_type": "code",
   "execution_count": 9,
   "id": "cead13bd",
   "metadata": {},
   "outputs": [
    {
     "data": {
      "image/png": "[encoded data removed]",
      "text/plain": [
       "<Figure size 432x288 with 1 Axes>"
      ]
     },
     "metadata": {
      "needs_background": "light"
     },
     "output_type": "display_data"
    }
   ],
   "source": [
    "import matplotlib.pyplot as plt\n",
    "fig = plt.figure()\n",
    "keys = [key for key in feature_importance]\n",
    "values = [feature_importance[key] for key in keys]\n",
    "ax = fig.add_axes([0,0,1,1])\n",
    "ax.barh(keys, values, 0.5)\n",
    "ax.set_xlabel('feature importance')\n",
    "ax.set_ylabel('features')\n",
    "plt.show()"
   ]
  },
  {
   "cell_type": "code",
   "execution_count": 3,
   "id": "e1dae5d7",
   "metadata": {},
   "outputs": [
    {
     "data": {
      "image/png": "[encoded data removed]",
      "text/plain": [
       "<Figure size 432x288 with 1 Axes>"
      ]
     },
     "metadata": {
      "needs_background": "light"
     },
     "output_type": "display_data"
    }
   ],
   "source": [
    "import matplotlib.pyplot as plt\n",
    "fig = plt.figure()\n",
    "keys = [key for key in feature_importance]\n",
    "values = [feature_importance[key] for key in keys]\n",
    "ax = fig.add_axes([0,0,1,1])\n",
    "ax.barh(keys, values, 0.5)\n",
    "ax.set_xlabel('feature importance')\n",
    "ax.set_ylabel('features')\n",
    "plt.show()"
   ]
  },
  {
   "cell_type": "code",
   "execution_count": 21,
   "id": "83679c32",
   "metadata": {},
   "outputs": [],
   "source": [
    "fig.savefig('feats_imp_corrected.pdf')"
   ]
  },
  {
   "cell_type": "code",
   "execution_count": 1,
   "id": "81c417a3",
   "metadata": {},
   "outputs": [
    {
     "data": {
      "text/plain": [
       "3"
      ]
     },
     "execution_count": 1,
     "metadata": {},
     "output_type": "execute_result"
    }
   ],
   "source": [
    "import numpy as np\n",
    "a = np.random.randn(4)\n",
    "\n",
    "np.argmax(a)"
   ]
  },
  {
   "cell_type": "code",
   "execution_count": 1,
   "id": "ffe15ca7",
   "metadata": {},
   "outputs": [
    {
     "name": "stdout",
     "output_type": "stream",
     "text": [
      "here\n"
     ]
    }
   ],
   "source": [
    "print('here')"
   ]
  },
  {
   "cell_type": "code",
   "execution_count": 23,
   "id": "e4cb63eb",
   "metadata": {},
   "outputs": [
    {
     "name": "stdout",
     "output_type": "stream",
     "text": [
      "0.33333, 0.4         , 44          \n"
     ]
    }
   ],
   "source": [
    "print('{:>.5f}, {:<12}, {:<12}'.format(1/3, 0.4, 44))"
   ]
  },
  {
   "cell_type": "code",
   "execution_count": 4,
   "id": "96b678ab",
   "metadata": {},
   "outputs": [
    {
     "name": "stdout",
     "output_type": "stream",
     "text": [
      "(tensor(0.6226), tensor(0.9781), 0.8048475278654132, 0.8048475278654132, tensor([[396, 271],\n",
      "        [ 10, 447]]))\n"
     ]
    }
   ],
   "source": [
    "print(results['true'])"
   ]
  },
  {
   "cell_type": "code",
   "execution_count": 6,
   "id": "4459b8ab",
   "metadata": {},
   "outputs": [
    {
     "ename": "TypeError",
     "evalue": "'int' object is not iterable",
     "output_type": "error",
     "traceback": [
      "\u001b[0;31m---------------------------------------------------------------------------\u001b[0m",
      "\u001b[0;31mTypeError\u001b[0m                                 Traceback (most recent call last)",
      "\u001b[0;32m<ipython-input-6-7ade7017386b>\u001b[0m in \u001b[0;36m<module>\u001b[0;34m\u001b[0m\n\u001b[0;32m----> 1\u001b[0;31m \u001b[0mlist\u001b[0m\u001b[0;34m(\u001b[0m\u001b[0;36m1\u001b[0m\u001b[0;34m)\u001b[0m\u001b[0;34m\u001b[0m\u001b[0;34m\u001b[0m\u001b[0m\n\u001b[0m",
      "\u001b[0;31mTypeError\u001b[0m: 'int' object is not iterable"
     ]
    }
   ],
   "source": []
  },
  {
   "cell_type": "code",
   "execution_count": null,
   "id": "aef9b6f6",
   "metadata": {},
   "outputs": [],
   "source": []
  },
  {
   "cell_type": "code",
   "execution_count": null,
   "id": "6445b847",
   "metadata": {},
   "outputs": [],
   "source": []
  },
  {
   "cell_type": "code",
   "execution_count": 60,
   "id": "3e8a6332",
   "metadata": {},
   "outputs": [
    {
     "name": "stdout",
     "output_type": "stream",
     "text": [
      "tensor([[  0, 127],\n",
      "        [  0,  44]])\n",
      "Valid: precision:0.2573099434375763, recall:1.0, f1-score:0.40930232405662537, loss: 1.3355382680892944, acc: 0.4604966640472412\n"
     ]
    }
   ],
   "source": [
    "resurun_validation(valid_loader, policy)"
   ]
  },
  {
   "cell_type": "code",
   "execution_count": 58,
   "id": "d677e7e5",
   "metadata": {},
   "outputs": [],
   "source": [
    "def run_validation(valid_loader, policy):\n",
    "    valid_mean_loss = 0\n",
    "    valid_mean_acc = 0\n",
    "    n_samples_processed = 0\n",
    "    targets_list = torch.Tensor([]).to(DEVICE)\n",
    "    preds_list = torch.Tensor([]).to(DEVICE)\n",
    "    for batch_data in (valid_loader):\n",
    "        batch, target = batch_data\n",
    "        batch = batch.to(DEVICE)\n",
    "        target = target.to(DEVICE)*1\n",
    "\n",
    "        if policy_type == 'gnn':\n",
    "            batch_size = batch.num_graphs\n",
    "            num_vars = int(batch.variable_features.shape[0]/batch_size)\n",
    "            wts = torch.tensor([batch.variable_features[i*num_vars, NODE_DEPTH_INDEX] for i in range(batch_size)], dtype=torch.float32)\n",
    "        else:\n",
    "            batch_size = batch.shape[0] \n",
    "            wts = batch[:,-25]\n",
    "\n",
    "        wts = 3/wts\n",
    "        wts = wts.to(DEVICE)\n",
    "\n",
    "        wts = ((target)*CLASS_IMBALANCE_WT + 1)*wts                   \n",
    "        out = policy(batch, batch_size)\n",
    "        bce = nn.BCELoss(weight=wts)   \n",
    "\n",
    "        try:\n",
    "            F_w = bce(out.squeeze(), target.to(torch.float).squeeze())\n",
    "        except:\n",
    "            F_w = bce(out, target.to(torch.float))\n",
    "\n",
    "        predicted_bestindex = (out>0.5)*1\n",
    "        accuracy = sum(predicted_bestindex.reshape(-1) == target)\n",
    "\n",
    "        targets_list = torch.cat((targets_list, target))\n",
    "        preds_list = torch.cat((preds_list, predicted_bestindex))\n",
    "\n",
    "        valid_mean_loss += loss.item() * batch_size\n",
    "        valid_mean_acc += float(accuracy)\n",
    "        n_samples_processed += batch_size\n",
    "    total_data = n_samples_processed\n",
    "    stacked = torch.stack((targets_list, preds_list.squeeze()), dim=1).to(torch.int)\n",
    "    cmt = torch.zeros(2,2,dtype=torch.int64)\n",
    "    for p in stacked:\n",
    "        tl, pl = p.tolist()\n",
    "        cmt[tl, pl] = cmt[tl, pl] + 1\n",
    "    print(cmt)\n",
    "    precision = cmt[1,1]/(cmt[0,1]+cmt[1,1])\n",
    "    recall = cmt[1,1]/(cmt[1,0]+cmt[1,1])\n",
    "\n",
    "    valid_fpr = cmt[0,1]/(cmt[0,0] + cmt[0,1])\n",
    "    valid_fnr = cmt[1,0]/(cmt[1,0] + cmt[1,1])\n",
    "\n",
    "    valid_mean_acc = 2*(precision*recall)/(precision+recall)\n",
    "    valid_mean_loss /= n_samples_processed\n",
    "\n",
    "    valid_loss = mean_loss\n",
    "    valid_acc = mean_acc\n",
    "\n",
    "    print(\"Valid: precision:{}, recall:{}, f1-score:{}, loss: {}, acc: {}\".format(precision, recall, valid_mean_acc, valid_mean_loss, valid_acc))\n",
    "    return precision, recall, loss, acc\n",
    "    "
   ]
  },
  {
   "cell_type": "code",
   "execution_count": 34,
   "id": "77667d6d",
   "metadata": {},
   "outputs": [],
   "source": [
    "from models.gnn_dataset import GraphNodeDatasetFromBipartiteNode\n",
    "\n",
    "class RandomizedDataset:\n",
    "    def __init__(self, dataset):\n",
    "        self.original_dataset = dataset\n",
    "    \n",
    "    def randomize_feature(self, feature_name='antenna', feature_indices=[]):\n",
    "        \"\"\"\n",
    "        feature_name = one of 'antenna', 'user', or 'edge'\n",
    "        feature_index = index of the feature \n",
    "        \"\"\"\n",
    "        \n",
    "        assert len(feature_indices)>0, \"Feature index should be provided\"\n",
    "\n",
    "        nodes = []\n",
    "        rand_perm = np.random.permutation(len(self.original_dataset))\n",
    "        \n",
    "        try:\n",
    "            for i in range(len(self.original_dataset)):\n",
    "                new_node = (self.original_dataset[i][0].copy(), self.original_dataset[i][1])\n",
    "                for feature_index in feature_indices:\n",
    "                    if feature_name == 'antenna':\n",
    "                        new_node[0].antenna_features[:,feature_index] = self.original_dataset[rand_perm[i]][0].antenna_features[:, feature_index].clone()\n",
    "\n",
    "                    elif feature_name == 'user':\n",
    "                        new_node[0].variable_features[:, feature_index] = self.original_dataset[rand_perm[i]][0].variable_features[:, feature_index].clone()                \n",
    "                    elif feature_name == 'edge':\n",
    "                        new_node[0].edge_attr[:, feature_index] = self.original_dataset[rand_perm[i]][0].edge_attr[:, feature_index].clone()\n",
    "\n",
    "                    nodes.append(new_node)\n",
    "        except IndexError as e:\n",
    "            print(e)\n",
    "            print('Index of feaure {} is out of bounds for indices {}'.format(feature_name, feature_indices))\n",
    "        return GraphNodeDatasetFromBipartiteNode(nodes)\n",
    "                "
   ]
  },
  {
   "cell_type": "code",
   "execution_count": 36,
   "id": "82dd1d40",
   "metadata": {},
   "outputs": [],
   "source": [
    "ins = RandomizedDataset(train_data)\n",
    "random_data = ins.randomize_feature(feature_name='antenna', feature_indices=[1,2])"
   ]
  },
  {
   "cell_type": "code",
   "execution_count": 49,
   "id": "e44443ac",
   "metadata": {},
   "outputs": [
    {
     "data": {
      "text/plain": [
       "torch.Size([32, 9])"
      ]
     },
     "execution_count": 49,
     "metadata": {},
     "output_type": "execute_result"
    }
   ],
   "source": [
    "train_data[0][0].edge_attr.shape"
   ]
  },
  {
   "cell_type": "code",
   "execution_count": 56,
   "id": "85011a03",
   "metadata": {},
   "outputs": [
    {
     "name": "stdout",
     "output_type": "stream",
     "text": [
      "Z_SOL\n",
      "Z_FEAS\n",
      "Z_MASK\n",
      "H\n",
      "W_INCUMBENT\n",
      "W_SOL\n",
      "L_GLOBAL\n",
      "U_GLOBAL\n",
      "PROXIMITY_GLOBAL\n",
      "DIRECT\n",
      "INTERFERENCE\n",
      "DEPTH\n"
     ]
    }
   ],
   "source": [
    "\n",
    "feature_map = {\n",
    "                'Z_SOL' : (0, 0),\n",
    "                'Z_FEAS' : (0, 1),\n",
    "                'Z_MASK' : (0, 2),\n",
    "                'H' : (1, [0,1,2]),\n",
    "                'W_INCUMBENT' : (1, [3,4,5]),\n",
    "                'W_SOL' : (1, [6,7,8]),\n",
    "                'L_GLOBAL' : (2, 0),\n",
    "                'U_GLOBAL' : (2, 1),\n",
    "                'PROXIMITY_GLOBAL' : (2, 2),\n",
    "                'DIRECT' : (2, 3),\n",
    "                'INTERFERENCE' : (2,4),\n",
    "                'DEPTH' : (2,5),\n",
    "}\n",
    "\n",
    "\n",
    "feature_names = ['antenna', 'edge', 'user']\n",
    "feature_sizes = [9, 3, 6]\n",
    "\n",
    "results = {}\n",
    "\n",
    "ins = RandomizedDataset(valid_data)\n",
    "for key in feature_map:\n",
    "    feauture_name = feature_names[feature_map[key][0]]\n",
    "    feaure_indices = list(feature_map[key][1])\n",
    "    random_dataset = ins.randomize_feature(feature_name=feature_name , feature_indices=feature_indices)\n",
    "    random_dataloader = DataLoader(random_dataset, batch_size=128, shuffle=True)\n"
   ]
  },
  {
   "cell_type": "code",
   "execution_count": 54,
   "id": "7d5e5a60",
   "metadata": {},
   "outputs": [
    {
     "data": {
      "text/plain": [
       "{'Z_SOL': (0, 0),\n",
       " 'Z_FEAS': (0, 1),\n",
       " 'Z_MASK': (0, 2),\n",
       " 'H': (1, [0, 1, 2]),\n",
       " 'W_INCUMBENT': (1, [3, 4, 5]),\n",
       " 'W_SOL': (1, [6, 7, 8]),\n",
       " 'L_GLOBAL': (2, 0),\n",
       " 'U_GLOBAL': (2, 1),\n",
       " 'PROXIMITY_GLOBAL': (2, 2),\n",
       " 'DIRECT': (2, 3),\n",
       " 'INTERFERENCE': (2, 4),\n",
       " 'DEPTH': (2, 5)}"
      ]
     },
     "execution_count": 54,
     "metadata": {},
     "output_type": "execute_result"
    }
   ],
   "source": [
    "feature_map"
   ]
  },
  {
   "cell_type": "code",
   "execution_count": 2,
   "id": "39c4def8",
   "metadata": {},
   "outputs": [],
   "source": [
    "import numpy as np\n",
    "import cvxpy as cp\n",
    "\n",
    "a = np.random.randn(5)"
   ]
  },
  {
   "cell_type": "code",
   "execution_count": 4,
   "id": "b09ce9fd",
   "metadata": {},
   "outputs": [],
   "source": [
    "a[0] = np.nan"
   ]
  },
  {
   "cell_type": "code",
   "execution_count": 5,
   "id": "1a327330",
   "metadata": {},
   "outputs": [
    {
     "data": {
      "text/plain": [
       "array([        nan, -0.72125664, -0.25328187,  0.8545804 , -0.0061516 ])"
      ]
     },
     "execution_count": 5,
     "metadata": {},
     "output_type": "execute_result"
    }
   ],
   "source": [
    "a"
   ]
  },
  {
   "cell_type": "code",
   "execution_count": 16,
   "id": "40449a5f",
   "metadata": {},
   "outputs": [
    {
     "data": {
      "text/plain": [
       "False"
      ]
     },
     "execution_count": 16,
     "metadata": {},
     "output_type": "execute_result"
    }
   ],
   "source": [
    "np.isnan(a[1])"
   ]
  },
  {
   "cell_type": "code",
   "execution_count": 13,
   "id": "d101be5d",
   "metadata": {},
   "outputs": [
    {
     "data": {
      "text/plain": [
       "False"
      ]
     },
     "execution_count": 13,
     "metadata": {},
     "output_type": "execute_result"
    }
   ],
   "source": [
    "a[0] == a[0]"
   ]
  },
  {
   "cell_type": "code",
   "execution_count": null,
   "id": "d03df714",
   "metadata": {},
   "outputs": [],
   "source": []
  },
  {
   "cell_type": "code",
   "execution_count": null,
   "id": "f763ec99",
   "metadata": {},
   "outputs": [],
   "source": []
  },
  {
   "cell_type": "code",
   "execution_count": null,
   "id": "965fd37d",
   "metadata": {},
   "outputs": [],
   "source": []
  },
  {
   "cell_type": "code",
   "execution_count": 51,
   "id": "58b09e77",
   "metadata": {},
   "outputs": [
    {
     "data": {
      "text/plain": [
       "[2, 3]"
      ]
     },
     "execution_count": 51,
     "metadata": {},
     "output_type": "execute_result"
    }
   ],
   "source": [
    "list([2, 3])"
   ]
  },
  {
   "cell_type": "code",
   "execution_count": null,
   "id": "52498ddd",
   "metadata": {},
   "outputs": [],
   "source": []
  },
  {
   "cell_type": "code",
   "execution_count": null,
   "id": "7af08ed6",
   "metadata": {},
   "outputs": [],
   "source": []
  },
  {
   "cell_type": "code",
   "execution_count": null,
   "id": "d4c76318",
   "metadata": {},
   "outputs": [],
   "source": []
  },
  {
   "cell_type": "code",
   "execution_count": null,
   "id": "98e1ec37",
   "metadata": {},
   "outputs": [],
   "source": []
  },
  {
   "cell_type": "code",
   "execution_count": null,
   "id": "faf9f76a",
   "metadata": {},
   "outputs": [],
   "source": []
  },
  {
   "cell_type": "code",
   "execution_count": 9,
   "id": "059b3472",
   "metadata": {},
   "outputs": [
    {
     "data": {
      "text/plain": [
       "array([2, 0, 3, 4, 1])"
      ]
     },
     "execution_count": 9,
     "metadata": {},
     "output_type": "execute_result"
    }
   ],
   "source": [
    "np.random.permutation(5)"
   ]
  },
  {
   "cell_type": "code",
   "execution_count": 3,
   "id": "735e4fbd",
   "metadata": {},
   "outputs": [
    {
     "data": {
      "text/plain": [
       "(BipartiteNodeData(antenna_features=[6, 13], edge_index=[2, 72], edge_attr=[72, 3], variable_features=[12, 10], candidates=[3], nb_candidates=3, candidate_choices=1, num_nodes=18),\n",
       " False)"
      ]
     },
     "execution_count": 3,
     "metadata": {},
     "output_type": "execute_result"
    }
   ],
   "source": [
    "valid_data[0]"
   ]
  },
  {
   "cell_type": "code",
   "execution_count": 11,
   "id": "4f04f3c6",
   "metadata": {},
   "outputs": [
    {
     "data": {
      "text/plain": [
       "tensor([[-0.0000, -0.0000,  1.0000,  0.0000,  0.0000,  0.0000,  0.0000,  0.0000,\n",
       "          0.0000,  0.0000,  0.1882, -0.2605,  0.3214],\n",
       "        [ 1.0000,  1.0000,  1.0000,  0.0000, -0.7124, -0.1473,  0.7274, -1.3837,\n",
       "         -0.2861,  1.4130,  0.0000,  0.0000,  0.0000],\n",
       "        [ 1.0000,  1.0000,  1.0000,  0.0000, -0.8873,  0.3181,  0.9426, -1.7236,\n",
       "          0.6179,  1.8310,  1.1616, -0.0758,  1.1641],\n",
       "        [-0.0000, -0.0000,  1.0000,  0.0000,  0.0000,  0.0000,  0.0000,  0.0000,\n",
       "          0.0000,  0.0000,  0.0000,  0.0000,  0.0000],\n",
       "        [-0.0000, -0.0000,  1.0000,  0.0000,  0.0000,  0.0000,  0.0000,  0.0000,\n",
       "          0.0000,  0.0000,  0.0000,  0.0000,  0.0000],\n",
       "        [-0.0000, -0.0000,  1.0000,  0.0000,  0.0000,  0.0000,  0.0000,  0.0000,\n",
       "          0.0000,  0.0000,  0.0000,  0.0000,  0.0000]])"
      ]
     },
     "execution_count": 11,
     "metadata": {},
     "output_type": "execute_result"
    }
   ],
   "source": [
    "valid_data[0][0].antenna_features.clone() "
   ]
  },
  {
   "cell_type": "code",
   "execution_count": null,
   "id": "d6f54d7d",
   "metadata": {},
   "outputs": [],
   "source": []
  },
  {
   "cell_type": "code",
   "execution_count": null,
   "id": "5a2dce9c",
   "metadata": {},
   "outputs": [],
   "source": []
  },
  {
   "cell_type": "code",
   "execution_count": null,
   "id": "b6a3ca31",
   "metadata": {},
   "outputs": [],
   "source": []
  }
 ],
 "metadata": {
  "kernelspec": {
   "display_name": "Python 3",
   "language": "python",
   "name": "python3"
  },
  "language_info": {
   "codemirror_mode": {
    "name": "ipython",
    "version": 3
   },
   "file_extension": ".py",
   "mimetype": "text/x-python",
   "name": "python",
   "nbconvert_exporter": "python",
   "pygments_lexer": "ipython3",
   "version": "3.6.8"
  }
 },
 "nbformat": 4,
 "nbformat_minor": 5
}
