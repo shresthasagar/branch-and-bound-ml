{
 "cells": [
  {
   "cell_type": "code",
   "execution_count": 258,
   "id": "3f76f174",
   "metadata": {},
   "outputs": [
    {
     "name": "stdout",
     "output_type": "stream",
     "text": [
      "[0 1 0 1 0 1 0 1 1 0 0 0]\n",
      "0 [1]\n",
      "1 [0]\n",
      "0 [1]\n",
      "1 [0]\n",
      "0 [1]\n",
      "1 [0]\n",
      "0 [1]\n",
      "1 [0]\n",
      "1 [0]\n",
      "0 [1]\n",
      "0 [1]\n",
      "0 [1]\n"
     ]
    },
    {
     "ename": "SolverError",
     "evalue": "Solver 'MOSEK' failed. Try another solver, or solve with verbose=True for more information.",
     "output_type": "error",
     "traceback": [
      "\u001b[0;31m---------------------------------------------------------------------------\u001b[0m",
      "\u001b[0;31mSolverError\u001b[0m                               Traceback (most recent call last)",
      "\u001b[0;32m<ipython-input-258-98c0b41a817e>\u001b[0m in \u001b[0;36m<module>\u001b[0;34m\u001b[0m\n\u001b[1;32m     66\u001b[0m \u001b[0;34m\u001b[0m\u001b[0m\n\u001b[1;32m     67\u001b[0m \u001b[0mprob\u001b[0m \u001b[0;34m=\u001b[0m \u001b[0mcp\u001b[0m\u001b[0;34m.\u001b[0m\u001b[0mProblem\u001b[0m\u001b[0;34m(\u001b[0m\u001b[0mobj\u001b[0m\u001b[0;34m,\u001b[0m \u001b[0mconstraints\u001b[0m\u001b[0;34m)\u001b[0m\u001b[0;34m\u001b[0m\u001b[0;34m\u001b[0m\u001b[0m\n\u001b[0;32m---> 68\u001b[0;31m \u001b[0mprob\u001b[0m\u001b[0;34m.\u001b[0m\u001b[0msolve\u001b[0m\u001b[0;34m(\u001b[0m\u001b[0mverbose\u001b[0m\u001b[0;34m=\u001b[0m\u001b[0;32mFalse\u001b[0m\u001b[0;34m)\u001b[0m\u001b[0;34m\u001b[0m\u001b[0;34m\u001b[0m\u001b[0m\n\u001b[0m\u001b[1;32m     69\u001b[0m \u001b[0;34m\u001b[0m\u001b[0m\n\u001b[1;32m     70\u001b[0m \u001b[0;32mif\u001b[0m \u001b[0mprob\u001b[0m\u001b[0;34m.\u001b[0m\u001b[0mstatus\u001b[0m \u001b[0;32mis\u001b[0m \u001b[0;32mnot\u001b[0m \u001b[0;34m'infeasible'\u001b[0m\u001b[0;34m:\u001b[0m\u001b[0;34m\u001b[0m\u001b[0;34m\u001b[0m\u001b[0m\n",
      "\u001b[0;32m/scratch/sagar/Projects/combopt/venv/lib/python3.6/site-packages/cvxpy/problems/problem.py\u001b[0m in \u001b[0;36msolve\u001b[0;34m(self, *args, **kwargs)\u001b[0m\n\u001b[1;32m    460\u001b[0m         \u001b[0;32melse\u001b[0m\u001b[0;34m:\u001b[0m\u001b[0;34m\u001b[0m\u001b[0;34m\u001b[0m\u001b[0m\n\u001b[1;32m    461\u001b[0m             \u001b[0msolve_func\u001b[0m \u001b[0;34m=\u001b[0m \u001b[0mProblem\u001b[0m\u001b[0;34m.\u001b[0m\u001b[0m_solve\u001b[0m\u001b[0;34m\u001b[0m\u001b[0;34m\u001b[0m\u001b[0m\n\u001b[0;32m--> 462\u001b[0;31m         \u001b[0;32mreturn\u001b[0m \u001b[0msolve_func\u001b[0m\u001b[0;34m(\u001b[0m\u001b[0mself\u001b[0m\u001b[0;34m,\u001b[0m \u001b[0;34m*\u001b[0m\u001b[0margs\u001b[0m\u001b[0;34m,\u001b[0m \u001b[0;34m**\u001b[0m\u001b[0mkwargs\u001b[0m\u001b[0;34m)\u001b[0m\u001b[0;34m\u001b[0m\u001b[0;34m\u001b[0m\u001b[0m\n\u001b[0m\u001b[1;32m    463\u001b[0m \u001b[0;34m\u001b[0m\u001b[0m\n\u001b[1;32m    464\u001b[0m     \u001b[0;34m@\u001b[0m\u001b[0mclassmethod\u001b[0m\u001b[0;34m\u001b[0m\u001b[0;34m\u001b[0m\u001b[0m\n",
      "\u001b[0;32m/scratch/sagar/Projects/combopt/venv/lib/python3.6/site-packages/cvxpy/problems/problem.py\u001b[0m in \u001b[0;36m_solve\u001b[0;34m(self, solver, warm_start, verbose, gp, qcp, requires_grad, enforce_dpp, **kwargs)\u001b[0m\n\u001b[1;32m    960\u001b[0m         \u001b[0mend\u001b[0m \u001b[0;34m=\u001b[0m \u001b[0mtime\u001b[0m\u001b[0;34m.\u001b[0m\u001b[0mtime\u001b[0m\u001b[0;34m(\u001b[0m\u001b[0;34m)\u001b[0m\u001b[0;34m\u001b[0m\u001b[0;34m\u001b[0m\u001b[0m\n\u001b[1;32m    961\u001b[0m         \u001b[0mself\u001b[0m\u001b[0;34m.\u001b[0m\u001b[0m_solve_time\u001b[0m \u001b[0;34m=\u001b[0m \u001b[0mend\u001b[0m \u001b[0;34m-\u001b[0m \u001b[0mstart\u001b[0m\u001b[0;34m\u001b[0m\u001b[0;34m\u001b[0m\u001b[0m\n\u001b[0;32m--> 962\u001b[0;31m         \u001b[0mself\u001b[0m\u001b[0;34m.\u001b[0m\u001b[0munpack_results\u001b[0m\u001b[0;34m(\u001b[0m\u001b[0msolution\u001b[0m\u001b[0;34m,\u001b[0m \u001b[0msolving_chain\u001b[0m\u001b[0;34m,\u001b[0m \u001b[0minverse_data\u001b[0m\u001b[0;34m)\u001b[0m\u001b[0;34m\u001b[0m\u001b[0;34m\u001b[0m\u001b[0m\n\u001b[0m\u001b[1;32m    963\u001b[0m         \u001b[0;32mif\u001b[0m \u001b[0mverbose\u001b[0m\u001b[0;34m:\u001b[0m\u001b[0;34m\u001b[0m\u001b[0;34m\u001b[0m\u001b[0m\n\u001b[1;32m    964\u001b[0m             \u001b[0mprint\u001b[0m\u001b[0;34m(\u001b[0m\u001b[0m_FOOTER\u001b[0m\u001b[0;34m)\u001b[0m\u001b[0;34m\u001b[0m\u001b[0;34m\u001b[0m\u001b[0m\n",
      "\u001b[0;32m/scratch/sagar/Projects/combopt/venv/lib/python3.6/site-packages/cvxpy/problems/problem.py\u001b[0m in \u001b[0;36munpack_results\u001b[0;34m(self, solution, chain, inverse_data)\u001b[0m\n\u001b[1;32m   1284\u001b[0m             raise error.SolverError(\n\u001b[1;32m   1285\u001b[0m                     \u001b[0;34m\"Solver '%s' failed. \"\u001b[0m \u001b[0;34m%\u001b[0m \u001b[0mchain\u001b[0m\u001b[0;34m.\u001b[0m\u001b[0msolver\u001b[0m\u001b[0;34m.\u001b[0m\u001b[0mname\u001b[0m\u001b[0;34m(\u001b[0m\u001b[0;34m)\u001b[0m \u001b[0;34m+\u001b[0m\u001b[0;34m\u001b[0m\u001b[0;34m\u001b[0m\u001b[0m\n\u001b[0;32m-> 1286\u001b[0;31m                     \u001b[0;34m\"Try another solver, or solve with verbose=True for more \"\u001b[0m\u001b[0;34m\u001b[0m\u001b[0;34m\u001b[0m\u001b[0m\n\u001b[0m\u001b[1;32m   1287\u001b[0m                     \"information.\")\n\u001b[1;32m   1288\u001b[0m \u001b[0;34m\u001b[0m\u001b[0m\n",
      "\u001b[0;31mSolverError\u001b[0m: Solver 'MOSEK' failed. Try another solver, or solve with verbose=True for more information."
     ]
    }
   ],
   "source": [
    "import cvxpy as cp\n",
    "import numpy as np\n",
    "\n",
    "N, M, L = 6, 12, 2\n",
    "group_size = [int(np.ceil(M/2)), int(M-np.ceil(M/2))] \n",
    "temp_group_order = np.random.permutation(np.arange(M))\n",
    "group_ids = (temp_group_order[:group_size[0]], temp_group_order[group_size[0]+1:])\n",
    "\n",
    "def v_theta(theta):\n",
    "    powers = np.arange(N)\n",
    "    powers = np.expand_dims(powers, 1)\n",
    "    theta1 = np.expand_dims(theta.copy(), 0)\n",
    "    H = np.exp(1j*theta1*powers)\n",
    "    return H\n",
    "\n",
    "# create H\n",
    "G = len(group_size)\n",
    "\n",
    "# randomly generated phi    \n",
    "phi = np.random.rand(M)*2*np.pi\n",
    "\n",
    "#TODO: Generate structured Phi (users in the same group are close together)\n",
    "phi = np.sort(phi)\n",
    "nbeams = 2\n",
    "perm = np.random.permutation(np.arange(6))\n",
    "phi_new = np.array([])\n",
    "for i in perm:\n",
    "    phi_new = np.concatenate((phi_new, phi[int(i*M/nbeams):int((i+1)*M/nbeams)]))\n",
    "phi = phi_new.copy()\n",
    "\n",
    "theta = -np.pi*np.sin(phi)\n",
    "H = v_theta(theta)\n",
    "gamma = 10\n",
    "\n",
    "group_membership = np.zeros(M, dtype=np.int8)\n",
    "\n",
    "for idx in range(len(group_ids)): \n",
    "    for i in group_ids[idx]:\n",
    "        group_membership[i] = int(idx)\n",
    "print(group_membership)\n",
    "X = []\n",
    "for i in range(G):\n",
    "    X.append(cp.Variable((N,N), hermitian = True))\n",
    "    \n",
    "obj_val = 0\n",
    "for k in range(G):\n",
    "    obj_val += cp.real(cp.trace(X[k]))\n",
    "obj = cp.Minimize(obj_val)\n",
    "# obj = cp.Minimize(cp.trace(cp.real(np.sum(X, 0))))\n",
    "\n",
    "constraints = []\n",
    "\n",
    "for i in range(M):\n",
    "    Qi = np.matmul(np.expand_dims(H[:,i],1), np.expand_dims(H[:,i],1).conj().T)\n",
    "    k = group_membership[i]\n",
    "    \n",
    "    #     maskI = np.ones(G)\n",
    "    #     maskI[k] = 0\n",
    "    #     maskI = np.expand_dims(maskI, (1,2))\n",
    "    mask_list = [i for i in range(G)]\n",
    "    del mask_list[k]\n",
    "    print(k, mask_list)\n",
    "    constraints.append(cp.real(cp.trace(Qi @ X[k])) - gamma*cp.real(cp.sum([cp.trace(Qi @ X[l]) for l in mask_list])) >= gamma)\n",
    "#     constraints\n",
    "for k in range(G):\n",
    "    constraints.append(X[k] >> 0)\n",
    "\n",
    "prob = cp.Problem(obj, constraints)\n",
    "prob.solve(verbose=False)\n",
    "\n",
    "if prob.status is not 'infeasible':\n",
    "    eigval = []\n",
    "    eigvec = []\n",
    "    for i in range(G):\n",
    "        a,b = np.linalg.eig(X[i].value)\n",
    "        eigval.append(np.real(a))\n",
    "        eigvec.append(b)\n",
    "        print(i, eigval[i][0]/np.sum(eigval[i]))\n",
    "        assert eigval[i][0]/np.sum(eigval[i]) > 0.99, 'not rank 1 id {}, {}'.format(i, eigval[i])\n",
    "\n"
   ]
  },
  {
   "cell_type": "code",
   "execution_count": 3,
   "id": "a614d345",
   "metadata": {},
   "outputs": [
    {
     "data": {
      "text/plain": [
       "(10,)"
      ]
     },
     "execution_count": 3,
     "metadata": {},
     "output_type": "execute_result"
    }
   ],
   "source": [
    "np.arange(-62,-25,4).shape"
   ]
  },
  {
   "cell_type": "code",
   "execution_count": 4,
   "id": "42cd340f",
   "metadata": {},
   "outputs": [
    {
     "data": {
      "text/plain": [
       "(array([0, 1, 2, 3, 4, 5, 6, 7, 8, 9]),\n",
       " array([10, 11, 12, 13, 14, 15, 16, 17, 18, 19]),\n",
       " array([20, 21, 22, 23, 24, 25, 26, 27, 28, 29]))"
      ]
     },
     "execution_count": 4,
     "metadata": {},
     "output_type": "execute_result"
    }
   ],
   "source": [
    "group_ids"
   ]
  },
  {
   "cell_type": "code",
   "execution_count": 16,
   "id": "a816d11a",
   "metadata": {},
   "outputs": [
    {
     "data": {
      "text/plain": [
       "array([ 1.        +0.j        , -0.88820588+0.45944566j,\n",
       "        0.57781937-0.81616467j, -0.13823925+0.99039886j,\n",
       "       -0.33224955-0.94319152j,  0.72845125+0.68509764j])"
      ]
     },
     "execution_count": 16,
     "metadata": {},
     "output_type": "execute_result"
    }
   ],
   "source": [
    "H[:,21]"
   ]
  },
  {
   "cell_type": "code",
   "execution_count": 20,
   "id": "ecaff889",
   "metadata": {},
   "outputs": [
    {
     "data": {
      "text/plain": [
       "-2.4492935982947064e-16"
      ]
     },
     "execution_count": 20,
     "metadata": {},
     "output_type": "execute_result"
    }
   ],
   "source": [
    "np.sin(np.pi)"
   ]
  },
  {
   "cell_type": "code",
   "execution_count": 15,
   "id": "2230321a",
   "metadata": {},
   "outputs": [
    {
     "data": {
      "text/plain": [
       "(0.7284512491213102+0.6850976409633905j)"
      ]
     },
     "execution_count": 15,
     "metadata": {},
     "output_type": "execute_result"
    }
   ],
   "source": [
    "np.exp(1j*(N-1)*theta[21])"
   ]
  },
  {
   "cell_type": "code",
   "execution_count": 11,
   "id": "9fbae15e",
   "metadata": {},
   "outputs": [
    {
     "data": {
      "text/plain": [
       "-0.9813155276140235"
      ]
     },
     "execution_count": 11,
     "metadata": {},
     "output_type": "execute_result"
    }
   ],
   "source": [
    "np.sin(theta[0])"
   ]
  },
  {
   "cell_type": "code",
   "execution_count": 21,
   "id": "0b14870b",
   "metadata": {},
   "outputs": [],
   "source": [
    "i = 0\n",
    "Qi = np.matmul(np.expand_dims(H[:,i],1), np.expand_dims(H[:,i],1).conj().T)\n"
   ]
  },
  {
   "cell_type": "code",
   "execution_count": 22,
   "id": "e186be1d",
   "metadata": {},
   "outputs": [
    {
     "data": {
      "text/plain": [
       "array([[ 1.        +0.j        ,  0.19240539+0.98131553j,\n",
       "        -0.92596033+0.3776208j , -0.54872492-0.83600297j,\n",
       "         0.71480506-0.69932376j,  0.82378961+0.56689565j],\n",
       "       [ 0.19240539-0.98131553j,  1.        +0.j        ,\n",
       "         0.19240539+0.98131553j, -0.92596033+0.3776208j ,\n",
       "        -0.54872492-0.83600297j,  0.71480506-0.69932376j],\n",
       "       [-0.92596033-0.3776208j ,  0.19240539-0.98131553j,\n",
       "         1.        +0.j        ,  0.19240539+0.98131553j,\n",
       "        -0.92596033+0.3776208j , -0.54872492-0.83600297j],\n",
       "       [-0.54872492+0.83600297j, -0.92596033-0.3776208j ,\n",
       "         0.19240539-0.98131553j,  1.        +0.j        ,\n",
       "         0.19240539+0.98131553j, -0.92596033+0.3776208j ],\n",
       "       [ 0.71480506+0.69932376j, -0.54872492+0.83600297j,\n",
       "        -0.92596033-0.3776208j ,  0.19240539-0.98131553j,\n",
       "         1.        +0.j        ,  0.19240539+0.98131553j],\n",
       "       [ 0.82378961-0.56689565j,  0.71480506+0.69932376j,\n",
       "        -0.54872492+0.83600297j, -0.92596033-0.3776208j ,\n",
       "         0.19240539-0.98131553j,  1.        +0.j        ]])"
      ]
     },
     "execution_count": 22,
     "metadata": {},
     "output_type": "execute_result"
    }
   ],
   "source": [
    "Qi"
   ]
  },
  {
   "cell_type": "code",
   "execution_count": 23,
   "id": "ddbfc75b",
   "metadata": {},
   "outputs": [
    {
     "data": {
      "text/plain": [
       "array([ 1.        -0.j        ,  0.19240539-0.98131553j,\n",
       "       -0.92596033-0.3776208j , -0.54872492+0.83600297j,\n",
       "        0.71480506+0.69932376j,  0.82378961-0.56689565j])"
      ]
     },
     "execution_count": 23,
     "metadata": {},
     "output_type": "execute_result"
    }
   ],
   "source": [
    "H[:,i]"
   ]
  },
  {
   "cell_type": "code",
   "execution_count": 29,
   "id": "72f6d48a",
   "metadata": {},
   "outputs": [
    {
     "data": {
      "text/plain": [
       "(1+0j)"
      ]
     },
     "execution_count": 29,
     "metadata": {},
     "output_type": "execute_result"
    }
   ],
   "source": [
    "H[1,0]*H[1,0].conj()"
   ]
  },
  {
   "cell_type": "code",
   "execution_count": 30,
   "id": "bec9d0b9",
   "metadata": {},
   "outputs": [
    {
     "data": {
      "text/plain": [
       "(0.19240539302111753-0.9813155276140235j)"
      ]
     },
     "execution_count": 30,
     "metadata": {},
     "output_type": "execute_result"
    }
   ],
   "source": [
    "H[1,0]"
   ]
  },
  {
   "cell_type": "code",
   "execution_count": 31,
   "id": "2079df60",
   "metadata": {},
   "outputs": [
    {
     "data": {
      "text/plain": [
       "array([0, 0, 0, 0, 0, 0, 0, 0, 0, 0, 1, 1, 1, 1, 1, 1, 1, 1, 1, 1, 2, 2,\n",
       "       2, 2, 2, 2, 2, 2, 2, 2], dtype=int8)"
      ]
     },
     "execution_count": 31,
     "metadata": {},
     "output_type": "execute_result"
    }
   ],
   "source": [
    "group_membership"
   ]
  },
  {
   "cell_type": "code",
   "execution_count": 25,
   "id": "8a2608d3",
   "metadata": {},
   "outputs": [
    {
     "data": {
      "text/plain": [
       "(1-0j)"
      ]
     },
     "execution_count": 25,
     "metadata": {},
     "output_type": "execute_result"
    }
   ],
   "source": [
    "H[0,1]"
   ]
  },
  {
   "cell_type": "code",
   "execution_count": 20,
   "id": "b7e26b69",
   "metadata": {},
   "outputs": [
    {
     "name": "stdout",
     "output_type": "stream",
     "text": [
      "[0 0 0 0 0 0 0 0 0 0 1 1 1 1 1 1 1 1 1 1 2 2 2 2 2 2 2 2 2 2]\n",
      "0 [1, 2]\n",
      "0 [1, 2]\n",
      "0 [1, 2]\n",
      "0 [1, 2]\n",
      "0 [1, 2]\n",
      "0 [1, 2]\n",
      "0 [1, 2]\n",
      "0 [1, 2]\n",
      "0 [1, 2]\n",
      "0 [1, 2]\n",
      "1 [0, 2]\n",
      "1 [0, 2]\n",
      "1 [0, 2]\n",
      "1 [0, 2]\n",
      "1 [0, 2]\n",
      "1 [0, 2]\n",
      "1 [0, 2]\n",
      "1 [0, 2]\n",
      "1 [0, 2]\n",
      "1 [0, 2]\n",
      "2 [0, 1]\n",
      "2 [0, 1]\n",
      "2 [0, 1]\n",
      "2 [0, 1]\n",
      "2 [0, 1]\n",
      "2 [0, 1]\n",
      "2 [0, 1]\n",
      "2 [0, 1]\n",
      "2 [0, 1]\n",
      "2 [0, 1]\n",
      "0 0.9999999987378122 [ 7.99346995e+00  9.72473221e-09  2.92725535e-09 -5.63017895e-10\n",
      " -1.11213731e-09 -8.87572713e-10]\n",
      "1 0.7942484341584697 [ 9.79671885e+00  2.53785863e+00 -9.85921165e-10 -5.75840109e-10\n",
      "  2.01370771e-09  2.37419228e-09]\n",
      "2 0.9999999987378123 [ 7.99346995e+00  9.72473189e-09  2.92725501e-09 -5.63018111e-10\n",
      " -1.11213743e-09 -8.87572560e-10]\n",
      "0 [1, 2]\n",
      "0 [1, 2]\n",
      "0 [1, 2]\n",
      "0 [1, 2]\n",
      "0 [1, 2]\n",
      "0 [1, 2]\n",
      "0 [1, 2]\n",
      "0 [1, 2]\n",
      "0 [1, 2]\n",
      "0 [1, 2]\n",
      "1 [0, 2]\n",
      "1 [0, 2]\n",
      "1 [0, 2]\n",
      "1 [0, 2]\n",
      "1 [0, 2]\n",
      "1 [0, 2]\n",
      "1 [0, 2]\n",
      "1 [0, 2]\n",
      "1 [0, 2]\n",
      "1 [0, 2]\n",
      "2 [0, 1]\n",
      "2 [0, 1]\n",
      "2 [0, 1]\n",
      "2 [0, 1]\n",
      "2 [0, 1]\n",
      "2 [0, 1]\n",
      "2 [0, 1]\n",
      "2 [0, 1]\n",
      "2 [0, 1]\n",
      "2 [0, 1]\n",
      "0 0.9999999978268246 [ 9.44405808e+00  1.53688507e-08  9.74095235e-09  2.20294264e-09\n",
      " -3.24287566e-09 -3.54627491e-09]\n",
      "1 0.9116370832414707 [ 1.79564315e+01  1.74047622e+00  2.72583919e-09  3.88134913e-09\n",
      " -3.20675478e-09 -2.93420059e-09]\n",
      "2 0.9999999978268249 [ 9.44405808e+00  1.53688501e-08  9.74095186e-09  2.20294270e-09\n",
      " -3.24287574e-09 -3.54627518e-09]\n",
      "0 [1, 2]\n",
      "0 [1, 2]\n",
      "0 [1, 2]\n",
      "0 [1, 2]\n",
      "0 [1, 2]\n",
      "0 [1, 2]\n",
      "0 [1, 2]\n",
      "0 [1, 2]\n",
      "0 [1, 2]\n",
      "0 [1, 2]\n",
      "1 [0, 2]\n",
      "1 [0, 2]\n",
      "1 [0, 2]\n",
      "1 [0, 2]\n",
      "1 [0, 2]\n",
      "1 [0, 2]\n",
      "1 [0, 2]\n",
      "1 [0, 2]\n",
      "1 [0, 2]\n",
      "1 [0, 2]\n",
      "2 [0, 1]\n",
      "2 [0, 1]\n",
      "2 [0, 1]\n",
      "2 [0, 1]\n",
      "2 [0, 1]\n",
      "2 [0, 1]\n",
      "2 [0, 1]\n",
      "2 [0, 1]\n",
      "2 [0, 1]\n",
      "2 [0, 1]\n",
      "0 0.999999998519726 [ 1.13807751e+01  1.29374031e-08  8.90619440e-09 -1.08785695e-09\n",
      " -2.21721565e-09 -1.69185958e-09]\n",
      "1 0.9513936883900957 [ 2.52222572e+01  1.28859473e+00 -2.36187000e-09 -1.69663567e-09\n",
      "  2.52910739e-09  1.38535995e-09]\n",
      "2 0.9999999985197261 [ 1.13807751e+01  1.29373952e-08  8.90620402e-09 -1.08785848e-09\n",
      " -2.21721542e-09 -1.69186051e-09]\n",
      "0 [1, 2]\n",
      "0 [1, 2]\n",
      "0 [1, 2]\n",
      "0 [1, 2]\n",
      "0 [1, 2]\n",
      "0 [1, 2]\n",
      "0 [1, 2]\n",
      "0 [1, 2]\n",
      "0 [1, 2]\n",
      "0 [1, 2]\n",
      "1 [0, 2]\n",
      "1 [0, 2]\n",
      "1 [0, 2]\n",
      "1 [0, 2]\n",
      "1 [0, 2]\n",
      "1 [0, 2]\n",
      "1 [0, 2]\n",
      "1 [0, 2]\n",
      "1 [0, 2]\n",
      "1 [0, 2]\n",
      "2 [0, 1]\n",
      "2 [0, 1]\n",
      "2 [0, 1]\n",
      "2 [0, 1]\n",
      "2 [0, 1]\n",
      "2 [0, 1]\n",
      "2 [0, 1]\n",
      "2 [0, 1]\n",
      "2 [0, 1]\n",
      "2 [0, 1]\n",
      "0 0.9999999939665928 [ 1.31361180e+01  8.04683834e-08  6.09751990e-09 -1.04525185e-09\n",
      " -3.35799531e-09 -2.90711009e-09]\n",
      "1 0.9843512273251299 [ 3.37197892e+01  5.36062005e-01  1.78053019e-08  8.87008103e-09\n",
      " -2.17376460e-09 -1.56562202e-09]\n",
      "2 0.9999999939665928 [ 1.31361180e+01  8.04683840e-08  6.09751982e-09 -1.04525132e-09\n",
      " -3.35799520e-09 -2.90710967e-09]\n",
      "0 [1, 2]\n",
      "0 [1, 2]\n",
      "0 [1, 2]\n",
      "0 [1, 2]\n",
      "0 [1, 2]\n",
      "0 [1, 2]\n",
      "0 [1, 2]\n",
      "0 [1, 2]\n",
      "0 [1, 2]\n",
      "0 [1, 2]\n",
      "1 [0, 2]\n",
      "1 [0, 2]\n",
      "1 [0, 2]\n",
      "1 [0, 2]\n",
      "1 [0, 2]\n",
      "1 [0, 2]\n",
      "1 [0, 2]\n",
      "1 [0, 2]\n",
      "1 [0, 2]\n",
      "1 [0, 2]\n",
      "2 [0, 1]\n",
      "2 [0, 1]\n",
      "2 [0, 1]\n",
      "2 [0, 1]\n",
      "2 [0, 1]\n",
      "2 [0, 1]\n",
      "2 [0, 1]\n",
      "2 [0, 1]\n",
      "2 [0, 1]\n",
      "2 [0, 1]\n",
      "0 0.999999998389896 [ 1.51844345e+01  3.23770941e-08  3.18143075e-09 -3.00448380e-09\n",
      " -3.79438505e-09 -4.31113631e-09]\n",
      "1 0.9999993324801575 [ 4.17624847e+01  2.77450623e-05  1.33507546e-07  7.46612680e-09\n",
      " -4.83749452e-09 -3.89268280e-09]\n",
      "2 0.9999999983898963 [ 1.51844345e+01  3.23770857e-08  3.18143134e-09 -3.00448190e-09\n",
      " -3.79438538e-09 -4.31113652e-09]\n"
     ]
    }
   ],
   "source": [
    "import cvxpy as cp\n",
    "import numpy as np\n",
    "\n",
    "N, M= 6, 30\n",
    "group_size = [10,10,10] \n",
    "temp_group_order = np.arange(M)\n",
    "group_ids = (temp_group_order[:group_size[0]], temp_group_order[group_size[0]:group_size[0]+group_size[1]], temp_group_order[group_size[0]+group_size[1]:])\n",
    "\n",
    "def v_theta(theta):\n",
    "    powers = np.arange(N)\n",
    "    powers = np.expand_dims(powers, 1)\n",
    "    theta1 = np.expand_dims(theta.copy(), 0)\n",
    "    H = np.exp(1j*theta1*powers)\n",
    "    return H\n",
    "\n",
    "# create H\n",
    "G = len(group_size)\n",
    "\n",
    "phi = np.concatenate((np.arange(26,63,4)*np.pi/180,\n",
    "         np.arange(-18,19,4)*np.pi/180,\n",
    "         np.arange(-62,-25,4)*np.pi/180)\n",
    "        )\n",
    "\n",
    "theta = -np.pi*np.sin(phi)\n",
    "H = v_theta(theta)\n",
    "\n",
    "\n",
    "group_membership = np.zeros(M, dtype=np.int8)\n",
    "\n",
    "for idx in range(len(group_ids)): \n",
    "    for i in group_ids[idx]:\n",
    "        group_membership[i] = int(idx)\n",
    "print(group_membership)\n",
    "\n",
    "ratios = []\n",
    "\n",
    "for gamma in np.arange(10,21,2.5):\n",
    "    \n",
    "    X = []\n",
    "    for k in range(G):\n",
    "        X.append(cp.Variable((N,N), hermitian = True))\n",
    "    s = cp.Variable(M, complex=False)\n",
    "\n",
    "    obj_val = 0\n",
    "    for k in range(G):\n",
    "        obj_val += cp.real(cp.trace(X[k]))\n",
    "    obj = cp.Minimize(obj_val)\n",
    "    # obj = cp.Minimize(cp.trace(cp.real(np.sum(X, 0))))\n",
    "\n",
    "    constraints = []\n",
    "\n",
    "    for i in range(M):\n",
    "        Qi = np.matmul(np.expand_dims(H[:,i],1), np.expand_dims(H[:,i],1).conj().T)\n",
    "        k = group_membership[i]\n",
    "\n",
    "        #     maskI = np.ones(G)\n",
    "        #     maskI[k] = 0\n",
    "        #     maskI = np.expand_dims(maskI, (1,2))\n",
    "        mask_list = [i for i in range(G)]\n",
    "        del mask_list[k]\n",
    "        print(k, mask_list)\n",
    "        constraints.append(cp.real(cp.trace(Qi @ X[k])) - gamma*cp.real(cp.sum([cp.trace(Qi @ X[l]) for l in mask_list])) - s[i]== gamma)\n",
    "        constraints.append(s[i] >= 0)\n",
    "\n",
    "    for k in range(G):\n",
    "        constraints.append(X[k] >> 0)\n",
    "\n",
    "    prob = cp.Problem(obj, constraints)\n",
    "    prob.solve(verbose=False)\n",
    "\n",
    "    if prob.status is not 'infeasible':\n",
    "        eigval = []\n",
    "        eigvec = []\n",
    "        for i in range(G):\n",
    "            a,b = np.linalg.eig(X[i].value)\n",
    "            eigval.append(np.real(a))\n",
    "            eigvec.append(b)\n",
    "            print(i, eigval[i][0]/np.sum(eigval[i]), eigval[i])\n",
    "    #         assert eigval[i][0]/np.sum(eigval[i]) > 0.99, 'not rank 1 id {}, {}'.format(i, eigval[i])\n",
    "        ratios.append(eigval[1][0]/np.sum(eigval[1]))\n"
   ]
  },
  {
   "cell_type": "code",
   "execution_count": 21,
   "id": "a933bb3c",
   "metadata": {},
   "outputs": [
    {
     "data": {
      "text/plain": [
       "[0.7942484341584697,\n",
       " 0.9116370832414707,\n",
       " 0.9513936883900957,\n",
       " 0.9843512273251299,\n",
       " 0.9999993324801575]"
      ]
     },
     "execution_count": 21,
     "metadata": {},
     "output_type": "execute_result"
    }
   ],
   "source": [
    "ratios"
   ]
  },
  {
   "cell_type": "code",
   "execution_count": null,
   "id": "6bd22b33",
   "metadata": {},
   "outputs": [],
   "source": []
  },
  {
   "cell_type": "code",
   "execution_count": 7,
   "id": "69543d68",
   "metadata": {},
   "outputs": [
    {
     "data": {
      "text/plain": [
       "13.010299956639813"
      ]
     },
     "execution_count": 7,
     "metadata": {},
     "output_type": "execute_result"
    }
   ],
   "source": [
    "10*np.log10(20)"
   ]
  },
  {
   "cell_type": "code",
   "execution_count": null,
   "id": "6030f13f",
   "metadata": {},
   "outputs": [],
   "source": []
  },
  {
   "cell_type": "code",
   "execution_count": 41,
   "id": "1c2bef77",
   "metadata": {},
   "outputs": [
    {
     "data": {
      "text/plain": [
       "0.002638800928857927"
      ]
     },
     "execution_count": 41,
     "metadata": {},
     "output_type": "execute_result"
    }
   ],
   "source": [
    "0.25/94.74"
   ]
  },
  {
   "cell_type": "code",
   "execution_count": 42,
   "id": "d2eeee3e",
   "metadata": {},
   "outputs": [
    {
     "data": {
      "text/plain": [
       "0.48789857856319624"
      ]
     },
     "execution_count": 42,
     "metadata": {},
     "output_type": "execute_result"
    }
   ],
   "source": [
    "25.4/52.06"
   ]
  },
  {
   "cell_type": "code",
   "execution_count": 43,
   "id": "c2bf70c6",
   "metadata": {},
   "outputs": [
    {
     "data": {
      "text/plain": [
       "166.0714"
      ]
     },
     "execution_count": 43,
     "metadata": {},
     "output_type": "execute_result"
    }
   ],
   "source": [
    "52.06*3.19"
   ]
  },
  {
   "cell_type": "code",
   "execution_count": 45,
   "id": "a3e8dcd9",
   "metadata": {},
   "outputs": [
    {
     "data": {
      "text/plain": [
       "28.036363636363635"
      ]
     },
     "execution_count": 45,
     "metadata": {},
     "output_type": "execute_result"
    }
   ],
   "source": [
    "25.70*3/2.75\n"
   ]
  },
  {
   "cell_type": "code",
   "execution_count": 358,
   "id": "1cdfe9a6",
   "metadata": {},
   "outputs": [
    {
     "data": {
      "text/plain": [
       "(6, 30)"
      ]
     },
     "execution_count": 358,
     "metadata": {},
     "output_type": "execute_result"
    }
   ],
   "source": [
    "H.shape"
   ]
  },
  {
   "cell_type": "code",
   "execution_count": 359,
   "id": "f6d3599c",
   "metadata": {},
   "outputs": [
    {
     "data": {
      "text/plain": [
       "(30,)"
      ]
     },
     "execution_count": 359,
     "metadata": {},
     "output_type": "execute_result"
    }
   ],
   "source": [
    "phi.shape"
   ]
  },
  {
   "cell_type": "code",
   "execution_count": null,
   "id": "12a76475",
   "metadata": {},
   "outputs": [],
   "source": []
  },
  {
   "cell_type": "code",
   "execution_count": 264,
   "id": "78f6d95c",
   "metadata": {},
   "outputs": [
    {
     "data": {
      "text/plain": [
       "(10,)"
      ]
     },
     "execution_count": 264,
     "metadata": {},
     "output_type": "execute_result"
    }
   ],
   "source": [
    "\n",
    "np.arange(26,63,4).shape"
   ]
  },
  {
   "cell_type": "code",
   "execution_count": null,
   "id": "210a3074",
   "metadata": {},
   "outputs": [],
   "source": []
  },
  {
   "cell_type": "code",
   "execution_count": 256,
   "id": "f5d3af10",
   "metadata": {},
   "outputs": [
    {
     "name": "stdout",
     "output_type": "stream",
     "text": [
      "[0 0 0 0 1 1 1 1 2 2 2 2]\n"
     ]
    }
   ],
   "source": [
    "\n",
    "N, M, L = 6, 12, 2\n",
    "group_size = [int(np.ceil(M/3)), int(np.ceil(M/3)), M-2*int(np.ceil(M/3))] \n",
    "temp_group_order = np.arange(M)\n",
    "group_ids = (temp_group_order[:group_size[0]], temp_group_order[group_size[0]:group_size[0]+group_size[1]], temp_group_order[group_size[0]+group_size[1]:])\n",
    "\n",
    "def v_theta(theta):\n",
    "    powers = np.arange(N)\n",
    "    powers = np.expand_dims(powers, 1)\n",
    "    theta1 = np.expand_dims(theta.copy(), 0)\n",
    "    H = np.exp(1j*theta1*powers)\n",
    "    return H\n",
    "\n",
    "# create H\n",
    "G = len(group_size)\n",
    "# randomly generated phi    \n",
    "phi = np.random.rand(M)*2*np.pi\n",
    "\n",
    "#TODO: Generate structured Phi (users in the same group are close together)\n",
    "phi = np.sort(phi)\n",
    "nbeams = 2\n",
    "perm = np.random.permutation(np.arange(6))\n",
    "phi_new = np.array([])\n",
    "for i in perm:\n",
    "    phi_new = np.concatenate((phi_new, phi[int(i*M/nbeams):int((i+1)*M/nbeams)]))\n",
    "phi = phi_new.copy()\n",
    "\n",
    "theta = -np.pi*np.sin(phi)\n",
    "H = v_theta(theta)\n",
    "gamma = 10\n",
    "\n",
    "group_membership = np.zeros(M, dtype=np.int8)\n",
    "\n",
    "for idx in range(len(group_ids)): \n",
    "    for i in group_ids[idx]:\n",
    "        group_membership[i] = int(idx)\n",
    "print(group_membership)"
   ]
  },
  {
   "cell_type": "code",
   "execution_count": 257,
   "id": "b173d6b3",
   "metadata": {},
   "outputs": [
    {
     "data": {
      "text/plain": [
       "(array([0, 1, 2, 3]), array([4, 5, 6, 7]), array([ 8,  9, 10, 11]))"
      ]
     },
     "execution_count": 257,
     "metadata": {},
     "output_type": "execute_result"
    }
   ],
   "source": [
    "group_ids"
   ]
  },
  {
   "cell_type": "code",
   "execution_count": 246,
   "id": "829b8172",
   "metadata": {},
   "outputs": [
    {
     "data": {
      "text/plain": [
       "(array([0, 1, 2, 3]),\n",
       " array([], dtype=int64),\n",
       " array([ 4,  5,  6,  7,  8,  9, 10, 11]))"
      ]
     },
     "execution_count": 246,
     "metadata": {},
     "output_type": "execute_result"
    }
   ],
   "source": [
    "group_ids"
   ]
  },
  {
   "cell_type": "code",
   "execution_count": 245,
   "id": "f2687b96",
   "metadata": {},
   "outputs": [
    {
     "data": {
      "text/plain": [
       "array([0, 0, 0, 0, 2, 2, 2, 2, 2, 2, 2, 2], dtype=int8)"
      ]
     },
     "execution_count": 245,
     "metadata": {},
     "output_type": "execute_result"
    }
   ],
   "source": [
    "group_membership"
   ]
  },
  {
   "cell_type": "code",
   "execution_count": 161,
   "id": "ec918964",
   "metadata": {},
   "outputs": [
    {
     "data": {
      "text/plain": [
       "array([ 1.        +0.j        , -0.59168744+0.80616746j,\n",
       "       -0.29981195-0.95399832j,  0.94647737+0.32277018j,\n",
       "       -0.82022559+0.57204019j,  0.02415699-0.99970818j])"
      ]
     },
     "execution_count": 161,
     "metadata": {},
     "output_type": "execute_result"
    }
   ],
   "source": [
    "H[:,0]"
   ]
  },
  {
   "cell_type": "code",
   "execution_count": 162,
   "id": "b1ae52ff",
   "metadata": {},
   "outputs": [
    {
     "data": {
      "text/plain": [
       "3.9191461042893967"
      ]
     },
     "execution_count": 162,
     "metadata": {},
     "output_type": "execute_result"
    }
   ],
   "source": [
    "phi[0]"
   ]
  },
  {
   "cell_type": "code",
   "execution_count": 165,
   "id": "6b26f7af",
   "metadata": {},
   "outputs": [
    {
     "data": {
      "text/plain": [
       "(-0.591687438390011+0.8061674610473105j)"
      ]
     },
     "execution_count": 165,
     "metadata": {},
     "output_type": "execute_result"
    }
   ],
   "source": [
    "np.exp(1j*theta[0])"
   ]
  },
  {
   "cell_type": "code",
   "execution_count": 166,
   "id": "24ced092",
   "metadata": {},
   "outputs": [
    {
     "data": {
      "text/plain": [
       "array([ 2.20394672,  2.37430313,  2.65641597,  2.6769027 ,  2.84387055,\n",
       "        2.93584734,  2.81524503, -2.04492158, -1.84509409, -0.75299985,\n",
       "       -0.71284169,  0.26163886,  1.51252961,  1.77127698, -0.38843414,\n",
       "       -0.78523415, -0.88282811, -0.89062149, -2.17431212, -2.34595309,\n",
       "       -2.43674027, -2.99946518, -2.94475207, -2.79188137, -2.63957869,\n",
       "       -2.34556585, -2.2206742 , -2.10465683, -2.47598781, -2.54264511,\n",
       "       -2.75917934, -2.9263942 , -3.14133256, -3.0868805 , -3.05525199,\n",
       "        2.3331699 ,  2.3146145 ,  2.17612871,  2.13778864,  1.7725361 ,\n",
       "        0.85389905,  0.3420472 ])"
      ]
     },
     "execution_count": 166,
     "metadata": {},
     "output_type": "execute_result"
    }
   ],
   "source": [
    "theta"
   ]
  },
  {
   "cell_type": "code",
   "execution_count": null,
   "id": "66798119",
   "metadata": {},
   "outputs": [],
   "source": []
  },
  {
   "cell_type": "code",
   "execution_count": 167,
   "id": "980e0a77",
   "metadata": {},
   "outputs": [
    {
     "data": {
      "text/plain": [
       "array([3.9191461 , 3.99841292, 4.14921237, 4.16154789, 4.27351831,\n",
       "       5.07630754, 5.17223618, 2.4327986 , 2.51385935, 2.89954891,\n",
       "       2.9126945 , 3.22497146, 3.64390454, 3.74059037, 0.12395964,\n",
       "       0.25262633, 0.28484939, 0.28743524, 0.76440138, 0.84314719,\n",
       "       0.8877261 , 1.87274292, 1.92666643, 2.04712684, 2.14393336,\n",
       "       2.29863077, 2.35653983, 2.40747401, 0.90776719, 0.94304299,\n",
       "       1.07224058, 1.19851568, 1.55792834, 1.75769846, 1.80578529,\n",
       "       5.44613504, 5.45491243, 5.51798251, 5.53476883, 5.68370223,\n",
       "       6.00791767, 6.17409204])"
      ]
     },
     "execution_count": 167,
     "metadata": {},
     "output_type": "execute_result"
    }
   ],
   "source": [
    "phi"
   ]
  },
  {
   "cell_type": "code",
   "execution_count": 146,
   "id": "bde754f6",
   "metadata": {},
   "outputs": [],
   "source": [
    "X[0].value"
   ]
  },
  {
   "cell_type": "code",
   "execution_count": 140,
   "id": "537e3d9e",
   "metadata": {},
   "outputs": [
    {
     "data": {
      "text/plain": [
       "array([0.2508498 , 0.26803054, 0.35539567, 0.70886974, 0.83748051,\n",
       "       0.87704437, 1.23559445, 1.35263569, 1.44059274, 1.75219669,\n",
       "       1.93890498, 2.01271671, 2.11749125, 2.12096556, 2.12550443,\n",
       "       2.13192347, 2.2164285 , 2.2711525 , 2.40321269, 2.6295079 ,\n",
       "       2.75455518, 2.92890344, 3.13516732, 3.2566869 , 3.285362  ,\n",
       "       3.35018562, 3.51276532, 3.77503588, 4.18994724, 4.26961919,\n",
       "       4.60928697, 4.94470498, 5.29845141, 5.31228651, 5.63777788,\n",
       "       5.84314746, 5.87869609, 5.9180385 , 6.01940733, 6.15219568,\n",
       "       6.2198115 , 6.23104642])"
      ]
     },
     "execution_count": 140,
     "metadata": {},
     "output_type": "execute_result"
    }
   ],
   "source": [
    "phi"
   ]
  },
  {
   "cell_type": "code",
   "execution_count": 150,
   "id": "c3de18af",
   "metadata": {},
   "outputs": [],
   "source": [
    "phi = np.sort(phi)\n",
    "nbeams = 6\n",
    "perm = np.random.permutation(np.arange(6))\n",
    "phi_new = np.array([])\n",
    "for i in perm:\n",
    "    phi_new = np.concatenate((phi_new, phi[int(i*M/nbeams):int((i+1)*M/nbeams)]))"
   ]
  },
  {
   "cell_type": "code",
   "execution_count": 151,
   "id": "22cb151a",
   "metadata": {},
   "outputs": [
    {
     "data": {
      "text/plain": [
       "array([2, 4, 1, 5, 3, 0])"
      ]
     },
     "execution_count": 151,
     "metadata": {},
     "output_type": "execute_result"
    }
   ],
   "source": [
    "perm"
   ]
  },
  {
   "cell_type": "code",
   "execution_count": 152,
   "id": "c720a178",
   "metadata": {},
   "outputs": [
    {
     "data": {
      "text/plain": [
       "array([2.07421981, 2.10872115, 2.22140963, 2.41182473, 2.63529269,\n",
       "       2.64956995, 2.70227487, 3.99054704, 4.14429986, 4.32150717,\n",
       "       4.48493765, 4.52710137, 4.56506545, 4.57821354, 1.31751019,\n",
       "       1.58087793, 1.58661655, 1.60853961, 1.81031837, 2.05241805,\n",
       "       2.05263843, 4.70403228, 5.00456998, 5.79671001, 5.87014325,\n",
       "       5.89225127, 6.0917651 , 6.10909943, 2.89559257, 2.9074195 ,\n",
       "       2.93043977, 3.65560747, 3.71308292, 3.897975  , 3.94512018,\n",
       "       0.00749466, 0.26490646, 0.28110269, 0.57956424, 0.83981638,\n",
       "       0.89659561, 1.10609623])"
      ]
     },
     "execution_count": 152,
     "metadata": {},
     "output_type": "execute_result"
    }
   ],
   "source": [
    "phi_new"
   ]
  },
  {
   "cell_type": "code",
   "execution_count": 155,
   "id": "46eda839",
   "metadata": {},
   "outputs": [
    {
     "data": {
      "text/plain": [
       "array([3.99054704, 4.14429986, 4.32150717, 4.48493765, 4.52710137,\n",
       "       4.56506545, 4.57821354])"
      ]
     },
     "execution_count": 155,
     "metadata": {},
     "output_type": "execute_result"
    }
   ],
   "source": [
    "phi[28:35]"
   ]
  },
  {
   "cell_type": "code",
   "execution_count": 149,
   "id": "3a79df4a",
   "metadata": {},
   "outputs": [
    {
     "data": {
      "text/plain": [
       "21"
      ]
     },
     "execution_count": 149,
     "metadata": {},
     "output_type": "execute_result"
    }
   ],
   "source": [
    "int((i+1)*M/nbeams)"
   ]
  },
  {
   "cell_type": "code",
   "execution_count": 147,
   "id": "b37a314e",
   "metadata": {},
   "outputs": [
    {
     "data": {
      "text/plain": [
       "7.0"
      ]
     },
     "execution_count": 147,
     "metadata": {},
     "output_type": "execute_result"
    }
   ],
   "source": [
    "M/nbeams"
   ]
  },
  {
   "cell_type": "code",
   "execution_count": null,
   "id": "12fc52b5",
   "metadata": {},
   "outputs": [],
   "source": []
  },
  {
   "cell_type": "code",
   "execution_count": 126,
   "id": "f9f024bb",
   "metadata": {},
   "outputs": [
    {
     "ename": "TypeError",
     "evalue": "ufunc 'right_shift' not supported for the input types, and the inputs could not be safely coerced to any supported types according to the casting rule ''safe''",
     "output_type": "error",
     "traceback": [
      "\u001b[0;31m---------------------------------------------------------------------------\u001b[0m",
      "\u001b[0;31mTypeError\u001b[0m                                 Traceback (most recent call last)",
      "\u001b[0;32m<ipython-input-126-502e55f3e0e4>\u001b[0m in \u001b[0;36m<module>\u001b[0;34m\u001b[0m\n\u001b[0;32m----> 1\u001b[0;31m \u001b[0ma\u001b[0m \u001b[0;34m=\u001b[0m \u001b[0;34m(\u001b[0m\u001b[0mX\u001b[0m\u001b[0;34m[\u001b[0m\u001b[0;36m0\u001b[0m\u001b[0;34m]\u001b[0m\u001b[0;34m.\u001b[0m\u001b[0mvalue\u001b[0m\u001b[0;34m>>\u001b[0m\u001b[0;36m0\u001b[0m\u001b[0;34m)\u001b[0m\u001b[0;34m\u001b[0m\u001b[0;34m\u001b[0m\u001b[0m\n\u001b[0m",
      "\u001b[0;31mTypeError\u001b[0m: ufunc 'right_shift' not supported for the input types, and the inputs could not be safely coerced to any supported types according to the casting rule ''safe''"
     ]
    }
   ],
   "source": []
  },
  {
   "cell_type": "code",
   "execution_count": 98,
   "id": "554981a6",
   "metadata": {},
   "outputs": [
    {
     "data": {
      "text/plain": [
       "array([ 1.15162796e+00,  2.72550202e-01, -1.42737724e-09,  5.91490062e-09])"
      ]
     },
     "execution_count": 98,
     "metadata": {},
     "output_type": "execute_result"
    }
   ],
   "source": [
    "eigval[0]"
   ]
  },
  {
   "cell_type": "code",
   "execution_count": 100,
   "id": "a4dc5bdf",
   "metadata": {},
   "outputs": [
    {
     "data": {
      "text/plain": [
       "[array([[ 0.54962242+0.j        , -0.35020702-0.37291076j,\n",
       "          0.53726138+0.j        , -0.04416286+0.38158571j],\n",
       "        [-0.35463863+0.26860176j, -0.07589495-0.48221603j,\n",
       "         -0.36208462-0.28327539j,  0.29693756+0.51407204j],\n",
       "        [-0.08735831-0.43621534j,  0.40346574-0.27478702j,\n",
       "          0.21043327+0.40873959j,  0.59366825+0.j        ],\n",
       "        [ 0.41141706+0.36444538j,  0.51157381+0.j        ,\n",
       "          0.10064257-0.52775075j,  0.3083354 -0.22910107j]])]"
      ]
     },
     "execution_count": 100,
     "metadata": {},
     "output_type": "execute_result"
    }
   ],
   "source": [
    "eigvec"
   ]
  },
  {
   "cell_type": "code",
   "execution_count": 80,
   "id": "43ea90d6",
   "metadata": {},
   "outputs": [
    {
     "data": {
      "text/plain": [
       "array([ 9.97112202e-01,  1.96881254e-08, -8.41649643e-09, -1.20104409e-08])"
      ]
     },
     "execution_count": 80,
     "metadata": {},
     "output_type": "execute_result"
    }
   ],
   "source": [
    "eigval[0]"
   ]
  },
  {
   "cell_type": "code",
   "execution_count": 83,
   "id": "2585ad8d",
   "metadata": {},
   "outputs": [
    {
     "data": {
      "text/plain": [
       "array([ 1.00000000e+00,  1.97451454e-08, -8.44087197e-09, -1.20452251e-08])"
      ]
     },
     "execution_count": 83,
     "metadata": {},
     "output_type": "execute_result"
    }
   ],
   "source": [
    "eigval[0]/np.sum(eigval[0])"
   ]
  },
  {
   "cell_type": "code",
   "execution_count": 73,
   "id": "92226bfd",
   "metadata": {},
   "outputs": [
    {
     "data": {
      "text/plain": [
       "(array([ 2.11285507e+00-5.37938662e-17j, -2.96392900e-09-4.57805471e-18j,\n",
       "        -2.99313843e-10+4.82779028e-17j,  2.30739606e-09+2.24250291e-17j]),\n",
       " array([[-0.56949132-0.22863755j,  0.60683342+0.j        ,\n",
       "          0.30974868-0.32875541j, -0.11343511+0.19561654j],\n",
       "        [-0.27478035+0.21886129j, -0.30933217-0.18991265j,\n",
       "          0.54403644+0.j        , -0.28027281-0.60853414j],\n",
       "        [ 0.17345554+0.30547943j,  0.00505276+0.36294309j,\n",
       "          0.43943901-0.32073192j,  0.66997511+0.j        ],\n",
       "        [ 0.61367377+0.j        ,  0.31026976-0.52151649j,\n",
       "          0.44401075+0.08293868j, -0.1302236 +0.18486527j]]))"
      ]
     },
     "execution_count": 73,
     "metadata": {},
     "output_type": "execute_result"
    }
   ],
   "source": [
    "eig1"
   ]
  },
  {
   "cell_type": "code",
   "execution_count": 74,
   "id": "69afb12b",
   "metadata": {},
   "outputs": [
    {
     "data": {
      "text/plain": [
       "(array([ 2.34497201e+00+6.72081005e-18j,  1.18688441e-08-1.09092808e-16j,\n",
       "        -5.36976326e-09+5.61445991e-18j, -3.15643514e-10+9.27157904e-17j]),\n",
       " array([[ 0.60678283-0.08628651j, -0.37733219-0.27328491j,\n",
       "         -0.47374028+0.11848805j, -0.40710704+0.05567396j],\n",
       "        [ 0.35248639-0.0110717j ,  0.49906539-0.18403671j,\n",
       "          0.51140076+0.j        , -0.34324255+0.46189698j],\n",
       "        [ 0.35053435-0.03866406j,  0.53191709+0.j        ,\n",
       "         -0.37528835+0.34740376j,  0.57546874+0.j        ],\n",
       "        [ 0.61288723+0.j        , -0.25947461+0.38695884j,\n",
       "          0.4281425 -0.23486861j,  0.28750838-0.29355521j]]))"
      ]
     },
     "execution_count": 74,
     "metadata": {},
     "output_type": "execute_result"
    }
   ],
   "source": [
    "eig2"
   ]
  },
  {
   "cell_type": "code",
   "execution_count": 53,
   "id": "58c506e0",
   "metadata": {},
   "outputs": [
    {
     "ename": "ValueError",
     "evalue": "matmul: Input operand 1 does not have enough dimensions (has 0, gufunc core with signature (n?,k),(k,m?)->(n?,m?) requires 1)",
     "output_type": "error",
     "traceback": [
      "\u001b[0;31m---------------------------------------------------------------------------\u001b[0m",
      "\u001b[0;31mValueError\u001b[0m                                Traceback (most recent call last)",
      "\u001b[0;32m<ipython-input-53-8db295dc5573>\u001b[0m in \u001b[0;36m<module>\u001b[0;34m\u001b[0m\n\u001b[0;32m----> 1\u001b[0;31m \u001b[0mnp\u001b[0m\u001b[0;34m.\u001b[0m\u001b[0mmatmul\u001b[0m\u001b[0;34m(\u001b[0m\u001b[0mQi\u001b[0m\u001b[0;34m,\u001b[0m \u001b[0mX\u001b[0m\u001b[0;34m[\u001b[0m\u001b[0mk\u001b[0m\u001b[0;34m]\u001b[0m\u001b[0;34m)\u001b[0m\u001b[0;34m\u001b[0m\u001b[0;34m\u001b[0m\u001b[0m\n\u001b[0m",
      "\u001b[0;31mValueError\u001b[0m: matmul: Input operand 1 does not have enough dimensions (has 0, gufunc core with signature (n?,k),(k,m?)->(n?,m?) requires 1)"
     ]
    }
   ],
   "source": [
    "np.matmul(Qi, X[k])"
   ]
  },
  {
   "cell_type": "code",
   "execution_count": 55,
   "id": "1f0d666a",
   "metadata": {},
   "outputs": [
    {
     "data": {
      "text/plain": [
       "(4, 4)"
      ]
     },
     "execution_count": 55,
     "metadata": {},
     "output_type": "execute_result"
    }
   ],
   "source": [
    "X[k].shape"
   ]
  },
  {
   "cell_type": "code",
   "execution_count": 52,
   "id": "3015c866",
   "metadata": {},
   "outputs": [
    {
     "data": {
      "text/plain": [
       "[1]"
      ]
     },
     "execution_count": 52,
     "metadata": {},
     "output_type": "execute_result"
    }
   ],
   "source": [
    "mask_list"
   ]
  },
  {
   "cell_type": "code",
   "execution_count": 51,
   "id": "5ff73d91",
   "metadata": {},
   "outputs": [
    {
     "data": {
      "text/plain": [
       "0"
      ]
     },
     "execution_count": 51,
     "metadata": {},
     "output_type": "execute_result"
    }
   ],
   "source": [
    "k"
   ]
  },
  {
   "cell_type": "code",
   "execution_count": 49,
   "id": "d020e6e9",
   "metadata": {},
   "outputs": [
    {
     "data": {
      "text/plain": [
       "(4, 4)"
      ]
     },
     "execution_count": 49,
     "metadata": {},
     "output_type": "execute_result"
    }
   ],
   "source": [
    "Qi.shape"
   ]
  },
  {
   "cell_type": "code",
   "execution_count": 46,
   "id": "479c1dc4",
   "metadata": {},
   "outputs": [
    {
     "ename": "AttributeError",
     "evalue": "'numpy.ndarray' object has no attribute 'unsqueeze'",
     "output_type": "error",
     "traceback": [
      "\u001b[0;31m---------------------------------------------------------------------------\u001b[0m",
      "\u001b[0;31mAttributeError\u001b[0m                            Traceback (most recent call last)",
      "\u001b[0;32m<ipython-input-46-c9a7cbde0802>\u001b[0m in \u001b[0;36m<module>\u001b[0;34m\u001b[0m\n\u001b[0;32m----> 1\u001b[0;31m \u001b[0mH\u001b[0m\u001b[0;34m[\u001b[0m\u001b[0;34m:\u001b[0m\u001b[0;34m,\u001b[0m\u001b[0mi\u001b[0m\u001b[0;34m]\u001b[0m\u001b[0;34m.\u001b[0m\u001b[0munsqueeze\u001b[0m\u001b[0;34m(\u001b[0m\u001b[0;36m0\u001b[0m\u001b[0;34m)\u001b[0m\u001b[0;34m.\u001b[0m\u001b[0mconj\u001b[0m\u001b[0;34m(\u001b[0m\u001b[0;34m)\u001b[0m\u001b[0;34m.\u001b[0m\u001b[0mT\u001b[0m\u001b[0;34m\u001b[0m\u001b[0;34m\u001b[0m\u001b[0m\n\u001b[0m",
      "\u001b[0;31mAttributeError\u001b[0m: 'numpy.ndarray' object has no attribute 'unsqueeze'"
     ]
    }
   ],
   "source": [
    "H[:,i].conj().T"
   ]
  },
  {
   "cell_type": "code",
   "execution_count": null,
   "id": "9b2ff935",
   "metadata": {},
   "outputs": [],
   "source": []
  },
  {
   "cell_type": "code",
   "execution_count": 43,
   "id": "c1d0d177",
   "metadata": {},
   "outputs": [
    {
     "data": {
      "text/plain": [
       "(4, 6)"
      ]
     },
     "execution_count": 43,
     "metadata": {},
     "output_type": "execute_result"
    }
   ],
   "source": [
    "H.shape"
   ]
  },
  {
   "cell_type": "code",
   "execution_count": 42,
   "id": "7b24cec6",
   "metadata": {},
   "outputs": [
    {
     "data": {
      "text/plain": [
       "()"
      ]
     },
     "execution_count": 42,
     "metadata": {},
     "output_type": "execute_result"
    }
   ],
   "source": [
    "Qi.shape"
   ]
  },
  {
   "cell_type": "code",
   "execution_count": null,
   "id": "0790fc81",
   "metadata": {},
   "outputs": [],
   "source": [
    "int"
   ]
  },
  {
   "cell_type": "code",
   "execution_count": 38,
   "id": "943c248d",
   "metadata": {},
   "outputs": [
    {
     "name": "stdout",
     "output_type": "stream",
     "text": [
      "[1. 0. 0. 0. 0. 1.]\n"
     ]
    }
   ],
   "source": [
    "print(group_membership)"
   ]
  },
  {
   "cell_type": "code",
   "execution_count": null,
   "id": "aa5007af",
   "metadata": {},
   "outputs": [],
   "source": []
  },
  {
   "cell_type": "code",
   "execution_count": null,
   "id": "694857e4",
   "metadata": {},
   "outputs": [],
   "source": []
  },
  {
   "cell_type": "code",
   "execution_count": 26,
   "id": "897367c3",
   "metadata": {},
   "outputs": [
    {
     "data": {
      "text/plain": [
       "[3.0, 3.0]"
      ]
     },
     "execution_count": 26,
     "metadata": {},
     "output_type": "execute_result"
    }
   ],
   "source": [
    "group_size"
   ]
  },
  {
   "cell_type": "code",
   "execution_count": null,
   "id": "78abc465",
   "metadata": {},
   "outputs": [],
   "source": []
  },
  {
   "cell_type": "code",
   "execution_count": null,
   "id": "a336c537",
   "metadata": {},
   "outputs": [],
   "source": []
  },
  {
   "cell_type": "code",
   "execution_count": 16,
   "id": "3ff7f265",
   "metadata": {},
   "outputs": [],
   "source": [
    "\n",
    "def v_theta(theta):\n",
    "    powers = np.arange(N)\n",
    "    powers = np.expand_dims(powers, 1)\n",
    "    theta1 = np.expand_dims(theta.copy(), 0)\n",
    "    H = np.exp(1j*theta1*powers)\n",
    "    return H\n",
    "\n",
    "# create H\n",
    "N, M, L = 4, 6, 2\n",
    "# randomly generated phi    \n",
    "phi = np.random.rand(M)*2*np.pi\n",
    "lmbda = 0.3   # 1 GHz\n",
    "d = lmbda/2\n",
    "theta = -2*np.pi*d*np.sin(phi)/lmbda\n",
    "H = v_theta(theta)\n"
   ]
  },
  {
   "cell_type": "code",
   "execution_count": 19,
   "id": "6999167d",
   "metadata": {},
   "outputs": [
    {
     "data": {
      "text/plain": [
       "array([[ 1.        -0.j        ,  1.        -0.j        ,\n",
       "         1.        -0.j        ,  1.        -0.j        ,\n",
       "         1.        +0.j        ,  1.        +0.j        ],\n",
       "       [-0.47198788-0.88160504j,  0.78478746-0.61976499j,\n",
       "         0.59899059-0.80075606j, -0.12364439-0.99232659j,\n",
       "         0.42051334+0.90728636j, -0.07762974+0.99698226j],\n",
       "       [-0.55445488+0.83221379j,  0.23178272-0.97276758j,\n",
       "        -0.28242055-0.95929069j, -0.96942413+0.24539124j,\n",
       "        -0.64633706+0.76305203j, -0.98794725-0.15479094j],\n",
       "       [ 0.99537985+0.09601539j, -0.42098711-0.90706662j,\n",
       "        -0.93732509-0.34845613j,  0.36337211+0.93164409j,\n",
       "        -0.96410005-0.26553924j,  0.23101791-0.9729495j ]])"
      ]
     },
     "execution_count": 19,
     "metadata": {},
     "output_type": "execute_result"
    }
   ],
   "source": [
    "H"
   ]
  },
  {
   "cell_type": "code",
   "execution_count": 23,
   "id": "067241ba",
   "metadata": {},
   "outputs": [
    {
     "data": {
      "text/plain": [
       "(-0.937325089853056-0.34845613200510706j)"
      ]
     },
     "execution_count": 23,
     "metadata": {},
     "output_type": "execute_result"
    }
   ],
   "source": [
    "np.exp(1j*theta[2]*3)"
   ]
  },
  {
   "cell_type": "code",
   "execution_count": 11,
   "id": "95fcdd35",
   "metadata": {},
   "outputs": [],
   "source": [
    "a = np.arange(5)\n",
    "a = np.expand_dims(a,0)\n",
    "b = np.random.rand(5, 1)"
   ]
  },
  {
   "cell_type": "code",
   "execution_count": 12,
   "id": "0981ba91",
   "metadata": {},
   "outputs": [
    {
     "data": {
      "text/plain": [
       "array([[0.36999604],\n",
       "       [0.67700636],\n",
       "       [0.56716228],\n",
       "       [0.61203048],\n",
       "       [0.22310401]])"
      ]
     },
     "execution_count": 12,
     "metadata": {},
     "output_type": "execute_result"
    }
   ],
   "source": [
    "b"
   ]
  },
  {
   "cell_type": "code",
   "execution_count": 14,
   "id": "68d4137c",
   "metadata": {},
   "outputs": [
    {
     "data": {
      "text/plain": [
       "array([[0, 1, 2, 3, 4]])"
      ]
     },
     "execution_count": 14,
     "metadata": {},
     "output_type": "execute_result"
    }
   ],
   "source": [
    "a"
   ]
  },
  {
   "cell_type": "code",
   "execution_count": 13,
   "id": "3b1fab90",
   "metadata": {},
   "outputs": [
    {
     "data": {
      "text/plain": [
       "array([[0.        , 0.36999604, 0.73999208, 1.10998812, 1.47998417],\n",
       "       [0.        , 0.67700636, 1.35401273, 2.03101909, 2.70802546],\n",
       "       [0.        , 0.56716228, 1.13432456, 1.70148684, 2.26864912],\n",
       "       [0.        , 0.61203048, 1.22406096, 1.83609144, 2.44812192],\n",
       "       [0.        , 0.22310401, 0.44620803, 0.66931204, 0.89241605]])"
      ]
     },
     "execution_count": 13,
     "metadata": {},
     "output_type": "execute_result"
    }
   ],
   "source": [
    "a*b"
   ]
  },
  {
   "cell_type": "code",
   "execution_count": 9,
   "id": "f63631f7",
   "metadata": {},
   "outputs": [
    {
     "data": {
      "text/plain": [
       "array([0.        , 0.54630904, 0.22795139, 0.6817552 , 2.6920472 ])"
      ]
     },
     "execution_count": 9,
     "metadata": {},
     "output_type": "execute_result"
    }
   ],
   "source": [
    "a*b"
   ]
  },
  {
   "cell_type": "code",
   "execution_count": null,
   "id": "65922e7b",
   "metadata": {},
   "outputs": [],
   "source": []
  },
  {
   "cell_type": "code",
   "execution_count": null,
   "id": "b2afa733",
   "metadata": {},
   "outputs": [],
   "source": []
  },
  {
   "cell_type": "code",
   "execution_count": 6,
   "id": "259d5038",
   "metadata": {},
   "outputs": [
    {
     "data": {
      "text/plain": [
       "1.2246467991473532e-16"
      ]
     },
     "execution_count": 6,
     "metadata": {},
     "output_type": "execute_result"
    }
   ],
   "source": [
    "import numpy as np\n",
    "np.sin(np.pi)"
   ]
  },
  {
   "cell_type": "code",
   "execution_count": null,
   "id": "f5993afc",
   "metadata": {},
   "outputs": [],
   "source": []
  },
  {
   "cell_type": "code",
   "execution_count": 36,
   "id": "5a696be4",
   "metadata": {},
   "outputs": [],
   "source": [
    "a = [i for i in range(5)]"
   ]
  },
  {
   "cell_type": "code",
   "execution_count": 41,
   "id": "c15c981d",
   "metadata": {},
   "outputs": [],
   "source": [
    "a = a*4"
   ]
  },
  {
   "cell_type": "code",
   "execution_count": 42,
   "id": "6da84ead",
   "metadata": {},
   "outputs": [
    {
     "data": {
      "text/plain": [
       "[1, 2, 3, 4, 1, 2, 3, 4, 1, 2, 3, 4, 1, 2, 3, 4]"
      ]
     },
     "execution_count": 42,
     "metadata": {},
     "output_type": "execute_result"
    }
   ],
   "source": [
    "a"
   ]
  },
  {
   "cell_type": "code",
   "execution_count": 43,
   "id": "e1c7a72e",
   "metadata": {},
   "outputs": [],
   "source": [
    "del a[0]"
   ]
  },
  {
   "cell_type": "code",
   "execution_count": 44,
   "id": "edf6986a",
   "metadata": {},
   "outputs": [
    {
     "data": {
      "text/plain": [
       "[2, 3, 4, 1, 2, 3, 4, 1, 2, 3, 4, 1, 2, 3, 4]"
      ]
     },
     "execution_count": 44,
     "metadata": {},
     "output_type": "execute_result"
    }
   ],
   "source": [
    "a"
   ]
  },
  {
   "cell_type": "code",
   "execution_count": null,
   "id": "1bab9b3b",
   "metadata": {},
   "outputs": [],
   "source": []
  },
  {
   "cell_type": "code",
   "execution_count": 18,
   "id": "ede12427",
   "metadata": {},
   "outputs": [
    {
     "data": {
      "text/plain": [
       "array([3, 1, 4, 0, 2])"
      ]
     },
     "execution_count": 18,
     "metadata": {},
     "output_type": "execute_result"
    }
   ],
   "source": [
    "np.random.permutation(np.arange(5))"
   ]
  },
  {
   "cell_type": "code",
   "execution_count": 19,
   "id": "7327ae4b",
   "metadata": {},
   "outputs": [
    {
     "ename": "NameError",
     "evalue": "name 'cpz' is not defined",
     "output_type": "error",
     "traceback": [
      "\u001b[0;31m---------------------------------------------------------------------------\u001b[0m",
      "\u001b[0;31mNameError\u001b[0m                                 Traceback (most recent call last)",
      "\u001b[0;32m<ipython-input-19-c49efc3b2e48>\u001b[0m in \u001b[0;36m<module>\u001b[0;34m\u001b[0m\n\u001b[1;32m      2\u001b[0m \u001b[0;32mimport\u001b[0m \u001b[0mnumpy\u001b[0m \u001b[0;32mas\u001b[0m \u001b[0mnp\u001b[0m\u001b[0;34m\u001b[0m\u001b[0;34m\u001b[0m\u001b[0m\n\u001b[1;32m      3\u001b[0m \u001b[0mz\u001b[0m \u001b[0;34m=\u001b[0m \u001b[0mnp\u001b[0m\u001b[0;34m.\u001b[0m\u001b[0mrandom\u001b[0m\u001b[0;34m.\u001b[0m\u001b[0mrand\u001b[0m\u001b[0;34m(\u001b[0m\u001b[0;36m2\u001b[0m\u001b[0;34m,\u001b[0m\u001b[0;36m4\u001b[0m\u001b[0;34m,\u001b[0m\u001b[0;36m4\u001b[0m\u001b[0;34m)\u001b[0m\u001b[0;34m\u001b[0m\u001b[0;34m\u001b[0m\u001b[0m\n\u001b[0;32m----> 4\u001b[0;31m \u001b[0mcp\u001b[0m\u001b[0;34m.\u001b[0m\u001b[0mtrace\u001b[0m\u001b[0;34m(\u001b[0m\u001b[0mcpz\u001b[0m\u001b[0;34m,\u001b[0m \u001b[0;34m)\u001b[0m\u001b[0;34m\u001b[0m\u001b[0;34m\u001b[0m\u001b[0m\n\u001b[0m",
      "\u001b[0;31mNameError\u001b[0m: name 'cpz' is not defined"
     ]
    }
   ],
   "source": [
    "import cvxpy as cp\n",
    "import numpy as np\n",
    "z = np.random.rand(2,4,4)\n",
    "cp.trace(cpz, )"
   ]
  },
  {
   "cell_type": "code",
   "execution_count": 34,
   "id": "e723d837",
   "metadata": {},
   "outputs": [
    {
     "data": {
      "text/plain": [
       "array([[[0.        , 0.        , 0.        , 0.        ],\n",
       "        [0.        , 0.        , 0.        , 0.        ],\n",
       "        [0.        , 0.        , 0.        , 0.        ],\n",
       "        [0.        , 0.        , 0.        , 0.        ]],\n",
       "\n",
       "       [[0.44206381, 0.00815696, 0.4613717 , 0.05246478],\n",
       "        [0.21120387, 0.26819947, 0.5588794 , 0.57068144],\n",
       "        [0.85635208, 0.39918318, 0.73618774, 0.04001974],\n",
       "        [0.62588482, 0.67097912, 0.68529413, 0.14919735]]])"
      ]
     },
     "execution_count": 34,
     "metadata": {},
     "output_type": "execute_result"
    }
   ],
   "source": [
    "a = np.ones(2)\n",
    "a[0] = 0\n",
    "\n",
    "np.multiply(np.expand_dims(a,(1,2)),z)"
   ]
  },
  {
   "cell_type": "code",
   "execution_count": 35,
   "id": "f66009f7",
   "metadata": {},
   "outputs": [
    {
     "data": {
      "text/plain": [
       "array([[[0.4970715 , 0.81639813, 0.42551751, 0.91564607],\n",
       "        [0.11988634, 0.51029198, 0.31625184, 0.47981532],\n",
       "        [0.05754733, 0.11599649, 0.25389323, 0.0292484 ],\n",
       "        [0.85949664, 0.90251433, 0.42684592, 0.2232494 ]],\n",
       "\n",
       "       [[0.44206381, 0.00815696, 0.4613717 , 0.05246478],\n",
       "        [0.21120387, 0.26819947, 0.5588794 , 0.57068144],\n",
       "        [0.85635208, 0.39918318, 0.73618774, 0.04001974],\n",
       "        [0.62588482, 0.67097912, 0.68529413, 0.14919735]]])"
      ]
     },
     "execution_count": 35,
     "metadata": {},
     "output_type": "execute_result"
    }
   ],
   "source": [
    "z"
   ]
  },
  {
   "cell_type": "code",
   "execution_count": null,
   "id": "b04f7081",
   "metadata": {},
   "outputs": [],
   "source": []
  },
  {
   "cell_type": "code",
   "execution_count": 30,
   "id": "dbaa3d56",
   "metadata": {},
   "outputs": [
    {
     "data": {
      "text/plain": [
       "(2, 1, 1)"
      ]
     },
     "execution_count": 30,
     "metadata": {},
     "output_type": "execute_result"
    }
   ],
   "source": [
    "np.expand_dims(a,(1,2)).shape"
   ]
  },
  {
   "cell_type": "code",
   "execution_count": null,
   "id": "789f8d8c",
   "metadata": {},
   "outputs": [],
   "source": []
  },
  {
   "cell_type": "code",
   "execution_count": null,
   "id": "1000015a",
   "metadata": {},
   "outputs": [],
   "source": []
  },
  {
   "cell_type": "code",
   "execution_count": null,
   "id": "d3bc33a7",
   "metadata": {},
   "outputs": [],
   "source": [
    "a"
   ]
  },
  {
   "cell_type": "code",
   "execution_count": 14,
   "id": "70693b81",
   "metadata": {},
   "outputs": [
    {
     "ename": "ValueError",
     "evalue": "Expressions of dimension greater than 2 are not supported.",
     "output_type": "error",
     "traceback": [
      "\u001b[0;31m---------------------------------------------------------------------------\u001b[0m",
      "\u001b[0;31mValueError\u001b[0m                                Traceback (most recent call last)",
      "\u001b[0;32m<ipython-input-14-b66a3da4fb4c>\u001b[0m in \u001b[0;36m<module>\u001b[0;34m\u001b[0m\n\u001b[0;32m----> 1\u001b[0;31m \u001b[0mcp\u001b[0m\u001b[0;34m.\u001b[0m\u001b[0msum\u001b[0m\u001b[0;34m(\u001b[0m\u001b[0mz\u001b[0m\u001b[0;34m,\u001b[0m \u001b[0;36m0\u001b[0m\u001b[0;34m)\u001b[0m\u001b[0;34m.\u001b[0m\u001b[0mshape\u001b[0m\u001b[0;34m\u001b[0m\u001b[0;34m\u001b[0m\u001b[0m\n\u001b[0m",
      "\u001b[0;32m/scratch/sagar/Projects/combopt/venv/lib/python3.6/site-packages/cvxpy/atoms/affine/sum.py\u001b[0m in \u001b[0;36msum\u001b[0;34m(expr, axis, keepdims)\u001b[0m\n\u001b[1;32m    107\u001b[0m         \u001b[0;32mreturn\u001b[0m \u001b[0m__builtins__\u001b[0m\u001b[0;34m[\u001b[0m\u001b[0;34m'sum'\u001b[0m\u001b[0;34m]\u001b[0m\u001b[0;34m(\u001b[0m\u001b[0mexpr\u001b[0m\u001b[0;34m)\u001b[0m\u001b[0;34m\u001b[0m\u001b[0;34m\u001b[0m\u001b[0m\n\u001b[1;32m    108\u001b[0m     \u001b[0;32melse\u001b[0m\u001b[0;34m:\u001b[0m\u001b[0;34m\u001b[0m\u001b[0;34m\u001b[0m\u001b[0m\n\u001b[0;32m--> 109\u001b[0;31m         \u001b[0;32mreturn\u001b[0m \u001b[0mSum\u001b[0m\u001b[0;34m(\u001b[0m\u001b[0mexpr\u001b[0m\u001b[0;34m,\u001b[0m \u001b[0maxis\u001b[0m\u001b[0;34m,\u001b[0m \u001b[0mkeepdims\u001b[0m\u001b[0;34m)\u001b[0m\u001b[0;34m\u001b[0m\u001b[0;34m\u001b[0m\u001b[0m\n\u001b[0m",
      "\u001b[0;32m/scratch/sagar/Projects/combopt/venv/lib/python3.6/site-packages/cvxpy/atoms/affine/sum.py\u001b[0m in \u001b[0;36m__init__\u001b[0;34m(self, expr, axis, keepdims)\u001b[0m\n\u001b[1;32m     38\u001b[0m \u001b[0;34m\u001b[0m\u001b[0m\n\u001b[1;32m     39\u001b[0m     \u001b[0;32mdef\u001b[0m \u001b[0m__init__\u001b[0m\u001b[0;34m(\u001b[0m\u001b[0mself\u001b[0m\u001b[0;34m,\u001b[0m \u001b[0mexpr\u001b[0m\u001b[0;34m,\u001b[0m \u001b[0maxis\u001b[0m\u001b[0;34m=\u001b[0m\u001b[0;32mNone\u001b[0m\u001b[0;34m,\u001b[0m \u001b[0mkeepdims\u001b[0m\u001b[0;34m:\u001b[0m \u001b[0mbool\u001b[0m \u001b[0;34m=\u001b[0m \u001b[0;32mFalse\u001b[0m\u001b[0;34m)\u001b[0m \u001b[0;34m->\u001b[0m \u001b[0;32mNone\u001b[0m\u001b[0;34m:\u001b[0m\u001b[0;34m\u001b[0m\u001b[0;34m\u001b[0m\u001b[0m\n\u001b[0;32m---> 40\u001b[0;31m         \u001b[0msuper\u001b[0m\u001b[0;34m(\u001b[0m\u001b[0mSum\u001b[0m\u001b[0;34m,\u001b[0m \u001b[0mself\u001b[0m\u001b[0;34m)\u001b[0m\u001b[0;34m.\u001b[0m\u001b[0m__init__\u001b[0m\u001b[0;34m(\u001b[0m\u001b[0mexpr\u001b[0m\u001b[0;34m,\u001b[0m \u001b[0maxis\u001b[0m\u001b[0;34m=\u001b[0m\u001b[0maxis\u001b[0m\u001b[0;34m,\u001b[0m \u001b[0mkeepdims\u001b[0m\u001b[0;34m=\u001b[0m\u001b[0mkeepdims\u001b[0m\u001b[0;34m)\u001b[0m\u001b[0;34m\u001b[0m\u001b[0;34m\u001b[0m\u001b[0m\n\u001b[0m\u001b[1;32m     41\u001b[0m \u001b[0;34m\u001b[0m\u001b[0m\n\u001b[1;32m     42\u001b[0m     \u001b[0;32mdef\u001b[0m \u001b[0mis_atom_log_log_convex\u001b[0m\u001b[0;34m(\u001b[0m\u001b[0mself\u001b[0m\u001b[0;34m)\u001b[0m \u001b[0;34m->\u001b[0m \u001b[0mbool\u001b[0m\u001b[0;34m:\u001b[0m\u001b[0;34m\u001b[0m\u001b[0;34m\u001b[0m\u001b[0m\n",
      "\u001b[0;32m/scratch/sagar/Projects/combopt/venv/lib/python3.6/site-packages/cvxpy/atoms/axis_atom.py\u001b[0m in \u001b[0;36m__init__\u001b[0;34m(self, expr, axis, keepdims)\u001b[0m\n\u001b[1;32m     31\u001b[0m         \u001b[0mself\u001b[0m\u001b[0;34m.\u001b[0m\u001b[0maxis\u001b[0m \u001b[0;34m=\u001b[0m \u001b[0maxis\u001b[0m\u001b[0;34m\u001b[0m\u001b[0;34m\u001b[0m\u001b[0m\n\u001b[1;32m     32\u001b[0m         \u001b[0mself\u001b[0m\u001b[0;34m.\u001b[0m\u001b[0mkeepdims\u001b[0m \u001b[0;34m=\u001b[0m \u001b[0mkeepdims\u001b[0m\u001b[0;34m\u001b[0m\u001b[0;34m\u001b[0m\u001b[0m\n\u001b[0;32m---> 33\u001b[0;31m         \u001b[0msuper\u001b[0m\u001b[0;34m(\u001b[0m\u001b[0mAxisAtom\u001b[0m\u001b[0;34m,\u001b[0m \u001b[0mself\u001b[0m\u001b[0;34m)\u001b[0m\u001b[0;34m.\u001b[0m\u001b[0m__init__\u001b[0m\u001b[0;34m(\u001b[0m\u001b[0mexpr\u001b[0m\u001b[0;34m)\u001b[0m\u001b[0;34m\u001b[0m\u001b[0;34m\u001b[0m\u001b[0m\n\u001b[0m\u001b[1;32m     34\u001b[0m \u001b[0;34m\u001b[0m\u001b[0m\n\u001b[1;32m     35\u001b[0m     \u001b[0;32mdef\u001b[0m \u001b[0mshape_from_args\u001b[0m\u001b[0;34m(\u001b[0m\u001b[0mself\u001b[0m\u001b[0;34m)\u001b[0m\u001b[0;34m:\u001b[0m\u001b[0;34m\u001b[0m\u001b[0;34m\u001b[0m\u001b[0m\n",
      "\u001b[0;32m/scratch/sagar/Projects/combopt/venv/lib/python3.6/site-packages/cvxpy/atoms/atom.py\u001b[0m in \u001b[0;36m__init__\u001b[0;34m(self, *args)\u001b[0m\n\u001b[1;32m     43\u001b[0m             )\n\u001b[1;32m     44\u001b[0m         \u001b[0;31m# Convert raw values to Constants.\u001b[0m\u001b[0;34m\u001b[0m\u001b[0;34m\u001b[0m\u001b[0;34m\u001b[0m\u001b[0m\n\u001b[0;32m---> 45\u001b[0;31m         \u001b[0mself\u001b[0m\u001b[0;34m.\u001b[0m\u001b[0margs\u001b[0m \u001b[0;34m=\u001b[0m \u001b[0;34m[\u001b[0m\u001b[0mAtom\u001b[0m\u001b[0;34m.\u001b[0m\u001b[0mcast_to_const\u001b[0m\u001b[0;34m(\u001b[0m\u001b[0marg\u001b[0m\u001b[0;34m)\u001b[0m \u001b[0;32mfor\u001b[0m \u001b[0marg\u001b[0m \u001b[0;32min\u001b[0m \u001b[0margs\u001b[0m\u001b[0;34m]\u001b[0m\u001b[0;34m\u001b[0m\u001b[0;34m\u001b[0m\u001b[0m\n\u001b[0m\u001b[1;32m     46\u001b[0m         \u001b[0mself\u001b[0m\u001b[0;34m.\u001b[0m\u001b[0mvalidate_arguments\u001b[0m\u001b[0;34m(\u001b[0m\u001b[0;34m)\u001b[0m\u001b[0;34m\u001b[0m\u001b[0;34m\u001b[0m\u001b[0m\n\u001b[1;32m     47\u001b[0m         \u001b[0mself\u001b[0m\u001b[0;34m.\u001b[0m\u001b[0m_shape\u001b[0m \u001b[0;34m=\u001b[0m \u001b[0mself\u001b[0m\u001b[0;34m.\u001b[0m\u001b[0mshape_from_args\u001b[0m\u001b[0;34m(\u001b[0m\u001b[0;34m)\u001b[0m\u001b[0;34m\u001b[0m\u001b[0;34m\u001b[0m\u001b[0m\n",
      "\u001b[0;32m/scratch/sagar/Projects/combopt/venv/lib/python3.6/site-packages/cvxpy/atoms/atom.py\u001b[0m in \u001b[0;36m<listcomp>\u001b[0;34m(.0)\u001b[0m\n\u001b[1;32m     43\u001b[0m             )\n\u001b[1;32m     44\u001b[0m         \u001b[0;31m# Convert raw values to Constants.\u001b[0m\u001b[0;34m\u001b[0m\u001b[0;34m\u001b[0m\u001b[0;34m\u001b[0m\u001b[0m\n\u001b[0;32m---> 45\u001b[0;31m         \u001b[0mself\u001b[0m\u001b[0;34m.\u001b[0m\u001b[0margs\u001b[0m \u001b[0;34m=\u001b[0m \u001b[0;34m[\u001b[0m\u001b[0mAtom\u001b[0m\u001b[0;34m.\u001b[0m\u001b[0mcast_to_const\u001b[0m\u001b[0;34m(\u001b[0m\u001b[0marg\u001b[0m\u001b[0;34m)\u001b[0m \u001b[0;32mfor\u001b[0m \u001b[0marg\u001b[0m \u001b[0;32min\u001b[0m \u001b[0margs\u001b[0m\u001b[0;34m]\u001b[0m\u001b[0;34m\u001b[0m\u001b[0;34m\u001b[0m\u001b[0m\n\u001b[0m\u001b[1;32m     46\u001b[0m         \u001b[0mself\u001b[0m\u001b[0;34m.\u001b[0m\u001b[0mvalidate_arguments\u001b[0m\u001b[0;34m(\u001b[0m\u001b[0;34m)\u001b[0m\u001b[0;34m\u001b[0m\u001b[0;34m\u001b[0m\u001b[0m\n\u001b[1;32m     47\u001b[0m         \u001b[0mself\u001b[0m\u001b[0;34m.\u001b[0m\u001b[0m_shape\u001b[0m \u001b[0;34m=\u001b[0m \u001b[0mself\u001b[0m\u001b[0;34m.\u001b[0m\u001b[0mshape_from_args\u001b[0m\u001b[0;34m(\u001b[0m\u001b[0;34m)\u001b[0m\u001b[0;34m\u001b[0m\u001b[0;34m\u001b[0m\u001b[0m\n",
      "\u001b[0;32m/scratch/sagar/Projects/combopt/venv/lib/python3.6/site-packages/cvxpy/expressions/expression.py\u001b[0m in \u001b[0;36mcast_to_const\u001b[0;34m(expr)\u001b[0m\n\u001b[1;32m    468\u001b[0m                         \u001b[0;34m\"Combine Expressions using atoms such as bmat, hstack, and vstack.\"\u001b[0m\u001b[0;34m\u001b[0m\u001b[0;34m\u001b[0m\u001b[0m\n\u001b[1;32m    469\u001b[0m                     )\n\u001b[0;32m--> 470\u001b[0;31m         \u001b[0;32mreturn\u001b[0m \u001b[0mexpr\u001b[0m \u001b[0;32mif\u001b[0m \u001b[0misinstance\u001b[0m\u001b[0;34m(\u001b[0m\u001b[0mexpr\u001b[0m\u001b[0;34m,\u001b[0m \u001b[0mExpression\u001b[0m\u001b[0;34m)\u001b[0m \u001b[0;32melse\u001b[0m \u001b[0mcvxtypes\u001b[0m\u001b[0;34m.\u001b[0m\u001b[0mconstant\u001b[0m\u001b[0;34m(\u001b[0m\u001b[0;34m)\u001b[0m\u001b[0;34m(\u001b[0m\u001b[0mexpr\u001b[0m\u001b[0;34m)\u001b[0m\u001b[0;34m\u001b[0m\u001b[0;34m\u001b[0m\u001b[0m\n\u001b[0m\u001b[1;32m    471\u001b[0m \u001b[0;34m\u001b[0m\u001b[0m\n\u001b[1;32m    472\u001b[0m     \u001b[0;34m@\u001b[0m\u001b[0mstaticmethod\u001b[0m\u001b[0;34m\u001b[0m\u001b[0;34m\u001b[0m\u001b[0m\n",
      "\u001b[0;32m/scratch/sagar/Projects/combopt/venv/lib/python3.6/site-packages/cvxpy/expressions/constants/constant.py\u001b[0m in \u001b[0;36m__init__\u001b[0;34m(self, value)\u001b[0m\n\u001b[1;32m     55\u001b[0m         \u001b[0mself\u001b[0m\u001b[0;34m.\u001b[0m\u001b[0m_nsd_test\u001b[0m\u001b[0;34m:\u001b[0m \u001b[0mOptional\u001b[0m\u001b[0;34m[\u001b[0m\u001b[0mbool\u001b[0m\u001b[0;34m]\u001b[0m \u001b[0;34m=\u001b[0m \u001b[0;32mNone\u001b[0m\u001b[0;34m\u001b[0m\u001b[0;34m\u001b[0m\u001b[0m\n\u001b[1;32m     56\u001b[0m         \u001b[0mself\u001b[0m\u001b[0;34m.\u001b[0m\u001b[0m_cached_is_pos\u001b[0m \u001b[0;34m=\u001b[0m \u001b[0;32mNone\u001b[0m\u001b[0;34m\u001b[0m\u001b[0;34m\u001b[0m\u001b[0m\n\u001b[0;32m---> 57\u001b[0;31m         \u001b[0msuper\u001b[0m\u001b[0;34m(\u001b[0m\u001b[0mConstant\u001b[0m\u001b[0;34m,\u001b[0m \u001b[0mself\u001b[0m\u001b[0;34m)\u001b[0m\u001b[0;34m.\u001b[0m\u001b[0m__init__\u001b[0m\u001b[0;34m(\u001b[0m\u001b[0mintf\u001b[0m\u001b[0;34m.\u001b[0m\u001b[0mshape\u001b[0m\u001b[0;34m(\u001b[0m\u001b[0mself\u001b[0m\u001b[0;34m.\u001b[0m\u001b[0mvalue\u001b[0m\u001b[0;34m)\u001b[0m\u001b[0;34m)\u001b[0m\u001b[0;34m\u001b[0m\u001b[0;34m\u001b[0m\u001b[0m\n\u001b[0m\u001b[1;32m     58\u001b[0m \u001b[0;34m\u001b[0m\u001b[0m\n\u001b[1;32m     59\u001b[0m     \u001b[0;32mdef\u001b[0m \u001b[0mname\u001b[0m\u001b[0;34m(\u001b[0m\u001b[0mself\u001b[0m\u001b[0;34m)\u001b[0m \u001b[0;34m->\u001b[0m \u001b[0mstr\u001b[0m\u001b[0;34m:\u001b[0m\u001b[0;34m\u001b[0m\u001b[0;34m\u001b[0m\u001b[0m\n",
      "\u001b[0;32m/scratch/sagar/Projects/combopt/venv/lib/python3.6/site-packages/cvxpy/expressions/leaf.py\u001b[0m in \u001b[0;36m__init__\u001b[0;34m(self, shape, value, nonneg, nonpos, complex, imag, symmetric, diag, PSD, NSD, hermitian, boolean, integer, sparsity, pos, neg)\u001b[0m\n\u001b[1;32m     94\u001b[0m             \u001b[0mshape\u001b[0m \u001b[0;34m=\u001b[0m \u001b[0;34m(\u001b[0m\u001b[0mint\u001b[0m\u001b[0;34m(\u001b[0m\u001b[0mshape\u001b[0m\u001b[0;34m)\u001b[0m\u001b[0;34m,\u001b[0m\u001b[0;34m)\u001b[0m\u001b[0;34m\u001b[0m\u001b[0;34m\u001b[0m\u001b[0m\n\u001b[1;32m     95\u001b[0m         \u001b[0;32melif\u001b[0m \u001b[0mlen\u001b[0m\u001b[0;34m(\u001b[0m\u001b[0mshape\u001b[0m\u001b[0;34m)\u001b[0m \u001b[0;34m>\u001b[0m \u001b[0;36m2\u001b[0m\u001b[0;34m:\u001b[0m\u001b[0;34m\u001b[0m\u001b[0;34m\u001b[0m\u001b[0m\n\u001b[0;32m---> 96\u001b[0;31m             raise ValueError(\"Expressions of dimension greater than 2 \"\n\u001b[0m\u001b[1;32m     97\u001b[0m                              \"are not supported.\")\n\u001b[1;32m     98\u001b[0m         \u001b[0;32mfor\u001b[0m \u001b[0md\u001b[0m \u001b[0;32min\u001b[0m \u001b[0mshape\u001b[0m\u001b[0;34m:\u001b[0m\u001b[0;34m\u001b[0m\u001b[0;34m\u001b[0m\u001b[0m\n",
      "\u001b[0;31mValueError\u001b[0m: Expressions of dimension greater than 2 are not supported."
     ]
    }
   ],
   "source": [
    "cp.sum(z, 0).shape"
   ]
  },
  {
   "cell_type": "code",
   "execution_count": null,
   "id": "bdb0c6d2",
   "metadata": {},
   "outputs": [],
   "source": []
  },
  {
   "cell_type": "code",
   "execution_count": null,
   "id": "a1923505",
   "metadata": {},
   "outputs": [],
   "source": []
  },
  {
   "cell_type": "code",
   "execution_count": null,
   "id": "4caf2575",
   "metadata": {},
   "outputs": [],
   "source": []
  },
  {
   "cell_type": "code",
   "execution_count": null,
   "id": "a12aa0d2",
   "metadata": {},
   "outputs": [],
   "source": []
  },
  {
   "cell_type": "code",
   "execution_count": null,
   "id": "1695bbde",
   "metadata": {},
   "outputs": [],
   "source": []
  }
 ],
 "metadata": {
  "kernelspec": {
   "display_name": "Python 3",
   "language": "python",
   "name": "python3"
  },
  "language_info": {
   "codemirror_mode": {
    "name": "ipython",
    "version": 3
   },
   "file_extension": ".py",
   "mimetype": "text/x-python",
   "name": "python",
   "nbconvert_exporter": "python",
   "pygments_lexer": "ipython3",
   "version": "3.6.8"
  }
 },
 "nbformat": 4,
 "nbformat_minor": 5
}
