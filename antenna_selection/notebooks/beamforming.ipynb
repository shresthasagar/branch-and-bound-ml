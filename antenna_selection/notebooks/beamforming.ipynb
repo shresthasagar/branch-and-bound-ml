{
 "cells": [
  {
   "cell_type": "markdown",
   "id": "7692b166",
   "metadata": {},
   "source": [
    "# SOCP programming to increase efficiency"
   ]
  },
  {
   "cell_type": "code",
   "execution_count": 1,
   "id": "2ebf7b4b",
   "metadata": {},
   "outputs": [],
   "source": [
    "import numpy as np\n",
    "\n",
    "N, M = 8,4"
   ]
  },
  {
   "cell_type": "code",
   "execution_count": 2,
   "id": "451b41e7",
   "metadata": {},
   "outputs": [],
   "source": [
    "a = np.random.rand(N,M)"
   ]
  },
  {
   "cell_type": "code",
   "execution_count": 4,
   "id": "bbfb8589",
   "metadata": {},
   "outputs": [
    {
     "data": {
      "text/plain": [
       "(8,)"
      ]
     },
     "execution_count": 4,
     "metadata": {},
     "output_type": "execute_result"
    }
   ],
   "source": [
    "np.linalg.norm(a, axis=1).shape"
   ]
  },
  {
   "cell_type": "code",
   "execution_count": 5,
   "id": "afba85df",
   "metadata": {},
   "outputs": [],
   "source": [
    "import cvxopt \n",
    "\n",
    "f"
   ]
  },
  {
   "cell_type": "code",
   "execution_count": null,
   "id": "22ddea4d",
   "metadata": {},
   "outputs": [],
   "source": []
  }
 ],
 "metadata": {
  "kernelspec": {
   "display_name": "Python 3",
   "language": "python",
   "name": "python3"
  },
  "language_info": {
   "codemirror_mode": {
    "name": "ipython",
    "version": 3
   },
   "file_extension": ".py",
   "mimetype": "text/x-python",
   "name": "python",
   "nbconvert_exporter": "python",
   "pygments_lexer": "ipython3",
   "version": "3.6.8"
  }
 },
 "nbformat": 4,
 "nbformat_minor": 5
}
