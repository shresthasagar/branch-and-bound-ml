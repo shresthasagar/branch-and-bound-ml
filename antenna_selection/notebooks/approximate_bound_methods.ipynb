{
 "cells": [
  {
   "cell_type": "markdown",
   "id": "d1e851ea",
   "metadata": {},
   "source": [
    "## Design a GNN for beamforming and beamforming with antenna selection"
   ]
  },
  {
   "cell_type": "code",
   "execution_count": 2,
   "id": "769f117a",
   "metadata": {},
   "outputs": [],
   "source": [
    "import torch\n",
    "import torch.nn.functional as F\n",
    "import torch_geometric\n",
    "import gzip\n",
    "import pickle\n",
    "import numpy as np\n",
    "from pathlib import Path\n",
    "from tqdm import tqdm, trange\n",
    "import torch.nn as nn\n",
    "\n",
    "LEARNING_RATE = 0.001\n",
    "NB_EPOCHS = 50\n",
    "PATIENCE = 10\n",
    "EARLY_STOPPING = 20\n",
    "DEVICE = torch.device('cuda' if torch.cuda.is_available() else 'cpu')\n",
    "\n",
    "EMB_SIZE = 64\n",
    "\n",
    "from models.setting import *\n",
    "\n",
    "ANTENNA_NFEATS = 2\n",
    "EDGE_NFEATS = 3\n",
    "VAR_NFEATS = 1\n",
    "\n",
    "NUM_TRAIN_H = 1000\n",
    "N, M = 8,3\n",
    "L = 5\n",
    "FCN_FEATS_SIZE = 88\n",
    "\n",
    "class FCNLowerBound(torch.nn.Module):\n",
    "    def __init__(self):\n",
    "        super().__init__()\n",
    "        self.main = torch.nn.Sequential(\n",
    "                    nn.Linear(FCN_FEATS_SIZE, 512),\n",
    "                    nn.BatchNorm1d(512),\n",
    "                    nn.ReLU(),\n",
    "            \n",
    "#                     nn.Linear(512, 512),\n",
    "#                     nn.BatchNorm1d(512),\n",
    "#                     nn.ReLU(),\n",
    "            \n",
    "                    nn.Linear(512, 256),\n",
    "                    nn.BatchNorm1d(256),\n",
    "                    nn.ReLU()\n",
    "                    )\n",
    "        self.z_module = torch.nn.Sequential(\n",
    "                    nn.Linear(256, 64),\n",
    "                    nn.BatchNorm1d(64),\n",
    "                    nn.ReLU(),\n",
    "                    \n",
    "                    nn.Linear(64, N),\n",
    "                    nn.Sigmoid()\n",
    "                    )\n",
    "        self.power_module = torch.nn.Sequential(\n",
    "                    nn.Linear(256, 64),\n",
    "                    nn.BatchNorm1d(64),\n",
    "                    nn.ReLU(),\n",
    "                    \n",
    "                    nn.Linear(64, 1),\n",
    "                    nn.ReLU()\n",
    "                    )\n",
    "        \n",
    "    def forward(self, inp):\n",
    "        latent = self.main(inp)\n",
    "        return self.z_module(latent), self.power_module(latent)\n",
    "\n",
    "class GNNLowerBound(torch.nn.Module):\n",
    "    def __init__(self):\n",
    "        super().__init__()\n",
    "\n",
    "        # ANTENNA EMBEDDING\n",
    "        self.antenna_embedding = torch.nn.Sequential(\n",
    "            torch.nn.LayerNorm(ANTENNA_NFEATS),\n",
    "            torch.nn.Linear(ANTENNA_NFEATS, EMB_SIZE),\n",
    "            torch.nn.ReLU(),\n",
    "            torch.nn.Linear(EMB_SIZE, EMB_SIZE),\n",
    "            torch.nn.ReLU(),\n",
    "        )\n",
    "\n",
    "        # EDGE EMBEDDING\n",
    "        self.edge_embedding = torch.nn.Sequential(\n",
    "            torch.nn.LayerNorm(EDGE_NFEATS),\n",
    "            torch.nn.Linear(EDGE_NFEATS, EMB_SIZE),\n",
    "            torch.nn.ReLU(),\n",
    "            torch.nn.Linear(EMB_SIZE, EMB_SIZE),\n",
    "            torch.nn.ReLU(),\n",
    "        )\n",
    "\n",
    "        # USER EMBEDDING\n",
    "        self.user_embedding = torch.nn.Sequential(\n",
    "            torch.nn.LayerNorm(VAR_NFEATS),\n",
    "            torch.nn.Linear(VAR_NFEATS, EMB_SIZE),\n",
    "            torch.nn.ReLU(),\n",
    "            torch.nn.Linear(EMB_SIZE, EMB_SIZE),\n",
    "            torch.nn.ReLU(),\n",
    "        )\n",
    "\n",
    "        self.conv_user_to_antenna = BipartiteGraphConvolution()\n",
    "        self.conv_antenna_to_user = BipartiteGraphConvolution()\n",
    "        self.conv_antenna_to_user_final = BipartiteGraphConvolution()\n",
    "        \n",
    "        self.output_integral_module = torch.nn.Sequential(\n",
    "            torch.nn.Linear(EMB_SIZE, EMB_SIZE),\n",
    "            torch.nn.ReLU(),\n",
    "            torch.nn.Linear(EMB_SIZE, 1, bias=False),\n",
    "            torch.nn.Sigmoid(),\n",
    "        )\n",
    "        \n",
    "        self.output_power_module = torch.nn.Sequential(\n",
    "            torch.nn.Linear(EMB_SIZE, EMB_SIZE),\n",
    "            torch.nn.ReLU(),\n",
    "            torch.nn.Linear(EMB_SIZE, 1, bias=False),\n",
    "        )\n",
    "\n",
    "    def forward(self, obs):\n",
    "        return self.pass_nn(obs.antenna_features, obs.edge_index, obs.edge_attr, obs.variable_features)\n",
    "    \n",
    "    def pass_nn(self, antenna_features, edge_indices, edge_features, user_features):\n",
    "        reversed_edge_indices = torch.stack([edge_indices[1], edge_indices[0]], dim=0)\n",
    "\n",
    "        # First step: linear embedding layers to a common dimension (64)\n",
    "        antenna_features = self.antenna_embedding(antenna_features)\n",
    "        edge_features = self.edge_embedding(edge_features)\n",
    "        user_features = self.user_embedding(user_features)\n",
    "        \n",
    "        # Two half convolutions\n",
    "        user_features = self.conv_antenna_to_user(antenna_features, edge_indices, edge_features, user_features)\n",
    "        antenna_features = self.conv_user_to_antenna(user_features, reversed_edge_indices, edge_features, antenna_features)\n",
    "        \n",
    "        final_user_features = self.conv_antenna_to_user(antenna_features, edge_indices, edge_features, user_features)\n",
    "\n",
    "        # A final MLP on the antenna features\n",
    "        output_integral_relaxed = self.output_integral_module(antenna_features).squeeze(-1)\n",
    "        \n",
    "        output_power = self.output_power_module(final_user_features)\n",
    "        output_power = output_power.sum()\n",
    "        return (output_integral_relaxed, output_power)\n",
    "\n",
    "class BipartiteGraphConvolution(torch_geometric.nn.MessagePassing):\n",
    "    \"\"\"\n",
    "    The bipartite graph convolution is already provided by pytorch geometric and we merely need \n",
    "    to provide the exact form of the messages being passed.\n",
    "    \"\"\"\n",
    "    def __init__(self):\n",
    "        super().__init__('add')\n",
    "        \n",
    "        self.feature_module_left = torch.nn.Sequential(\n",
    "            torch.nn.Linear(EMB_SIZE, EMB_SIZE)\n",
    "        )\n",
    "        self.feature_module_edge = torch.nn.Sequential(\n",
    "            torch.nn.Linear(EMB_SIZE, EMB_SIZE, bias=False)\n",
    "        )\n",
    "        self.feature_module_right = torch.nn.Sequential(\n",
    "            torch.nn.Linear(EMB_SIZE, EMB_SIZE, bias=False)\n",
    "        )\n",
    "        self.feature_module_final = torch.nn.Sequential(\n",
    "            torch.nn.LayerNorm(EMB_SIZE),\n",
    "            torch.nn.ReLU(),\n",
    "            torch.nn.Linear(EMB_SIZE, EMB_SIZE)\n",
    "        )\n",
    "        \n",
    "        self.post_conv_module = torch.nn.Sequential(\n",
    "            torch.nn.LayerNorm(EMB_SIZE)\n",
    "        )\n",
    "\n",
    "        # output_layers\n",
    "        self.output_module = torch.nn.Sequential(\n",
    "            torch.nn.Linear(2*EMB_SIZE, EMB_SIZE),\n",
    "            torch.nn.ReLU(),\n",
    "            torch.nn.Linear(EMB_SIZE, EMB_SIZE),\n",
    "        )\n",
    "\n",
    "        \n",
    "    def forward(self, left_features, edge_indices, edge_features, right_features):\n",
    "        \"\"\"\n",
    "        This method sends the messages, computed in the message method.\n",
    "        \"\"\"\n",
    "        output = self.propagate(edge_indices, size=(left_features.shape[0], right_features.shape[0]), \n",
    "                                node_features=(left_features, right_features), edge_features=edge_features)\n",
    "        return self.output_module(torch.cat([self.post_conv_module(output), right_features], dim=-1))\n",
    "\n",
    "    def message(self, node_features_i, node_features_j, edge_features):\n",
    "        output = self.feature_module_final(self.feature_module_left(node_features_i) \n",
    "                                           + self.feature_module_edge(edge_features) \n",
    "                                           + self.feature_module_right(node_features_j))\n",
    "        return output\n",
    "\n",
    "\n",
    "\n",
    "class LowerBoundObservation(object):\n",
    "    def __init__(self, H_complex, z_sol, z_mask):\n",
    "        self.antenna_features  = None # np.zeros(N, 3) # three features for each antenna\n",
    "        self.variable_features = None # np.zeros(M, 15)\n",
    "        \n",
    "        self.candidates        = [0] # np.arange(M)\n",
    "        \n",
    "        N, M = H_complex.shape\n",
    "        \n",
    "        # edge indices\n",
    "        self.edge_index = np.stack((np.repeat(np.arange(N), M), np.tile(np.arange(M), N)))\n",
    "        \n",
    "        # edge features definition\n",
    "        self.edge_features = np.zeros((M*N, EDGE_NFEATS))\n",
    "        self.edge_features[:,0] = np.real(H_complex.reshape(-1))\n",
    "        self.edge_features[:,1] = np.imag(H_complex.reshape(-1))\n",
    "        self.edge_features[:,2] = np.abs(H_complex.reshape(-1))\n",
    "        \n",
    "        # antenna features definition\n",
    "        self.antenna_features = np.zeros((N, ANTENNA_NFEATS))\n",
    "        self.antenna_features[:,0] = z_sol\n",
    "        self.antenna_features[:,1] = z_mask\n",
    "        \n",
    "        # user features definition\n",
    "        self.variable_features = np.ones((M, VAR_NFEATS))\n",
    "        \n",
    "    def extract(self):\n",
    "        return self\n",
    "    \n",
    "\n",
    "class LinearLowerBoundObservation(object):\n",
    "    def __init__(self, H_complex, z_sol, z_mask):\n",
    "        self.observation = np.concatenate((np.real(H_complex.reshape(-1)), \n",
    "                                            np.imag(H_complex.reshape(-1)),\n",
    "                                            np.abs(H_complex.reshape(-1))))\n",
    "        self.observation = np.concatenate((self.observation, \n",
    "                                         z_sol.reshape(-1),\n",
    "                                         z_mask.reshape(-1)))\n",
    "        \n",
    "    def extract(self):\n",
    "        return self\n",
    "    \n",
    "\n",
    "class LinearLowerBoundDataset(torch.utils.data.Dataset):\n",
    "    def __init__(self, data_filepath):\n",
    "        super().__init__()\n",
    "        with open(data_filepath, 'rb') as handle:\n",
    "            self.data = pickle.load(handle)\n",
    "\n",
    "    def __len__(self):\n",
    "        return len(self.data['out'])\n",
    "\n",
    "    def __getitem__(self, index):\n",
    "        sample_observation, np_target = self.data['in'][index], self.data['out'][index]\n",
    "        \n",
    "        target = []\n",
    "        for i in range(len(np_target)):\n",
    "            target.append(torch.tensor(np_target[i]))\n",
    "        \n",
    "        return sample_observation.observation, target\n",
    "        \n",
    "    \n",
    "class GraphLowerBoundDataset(torch_geometric.data.Dataset):\n",
    "    \"\"\"\n",
    "    This class encodes a collection of graphs, as well as a method to load such graphs from the disk.\n",
    "    It can be used in turn by the data loaders provided by pytorch geometric.\n",
    "    \"\"\"\n",
    "    def __init__(self, data_filepath):\n",
    "        super().__init__(root=None, transform=None, pre_transform=None)\n",
    "        with open(data_filepath, 'rb') as handle:\n",
    "            self.data = pickle.load(handle)\n",
    "\n",
    "    def len(self):\n",
    "        return len(self.data['out'])\n",
    "\n",
    "    def get(self, index):\n",
    "        \"\"\"\n",
    "        This method loads a node bipartite graph observation as saved on the disk during data collection.\n",
    "        \"\"\"\n",
    "        \n",
    "        sample_observation, np_target = self.data['in'][index], self.data['out'][index]\n",
    "        \n",
    "        target = []\n",
    "        for i in range(len(np_target)):\n",
    "            target.append(torch.tensor(np_target[i]))\n",
    "            \n",
    "        # not important\n",
    "        candidates = torch.LongTensor(np.array([1,2,3], dtype=np.int32))\n",
    "        candidate_choice = 1 \n",
    "        sample_observation.variable_features = np.ones((M, VAR_NFEATS))\n",
    "#         print(target[2])\n",
    "        if target[2] < 0:\n",
    "            target[2] = torch.FloatTensor(np.array(0.0))\n",
    "        if target[2] > 1:\n",
    "            target[2] = torch.FloatTensor(np.array(1.0))\n",
    "        graph = BipartiteNodeData(sample_observation.antenna_features, sample_observation.edge_index, \n",
    "                                  sample_observation.edge_features, sample_observation.variable_features,\n",
    "                                  candidates, candidate_choice)\n",
    "        \n",
    "        # We must tell pytorch geometric how many nodes there are, for indexing purposes\n",
    "        graph.num_nodes = sample_observation.antenna_features.shape[0] + sample_observation.variable_features.shape[0]\n",
    "        \n",
    "        return graph, target\n",
    "    "
   ]
  },
  {
   "cell_type": "markdown",
   "id": "6fb0ed9f",
   "metadata": {},
   "source": [
    "## GNN Relaxed antenna Beamforming Training"
   ]
  },
  {
   "cell_type": "code",
   "execution_count": 3,
   "id": "5d80b5c8",
   "metadata": {
    "scrolled": false
   },
   "outputs": [
    {
     "name": "stderr",
     "output_type": "stream",
     "text": [
      "/scratch/sagar/Projects/combopt/venv/lib/python3.6/site-packages/torch_geometric/deprecation.py:13: UserWarning: 'data.DataLoader' is deprecated, use 'loader.DataLoader' instead\n",
      "  warnings.warn(out)\n",
      "  0%|          | 0/131 [00:00<?, ?it/s]/scratch/sagar/Projects/combopt/venv/lib/python3.6/site-packages/torch/nn/modules/loss.py:97: UserWarning: Using a target size (torch.Size([64])) that is different to the input size (torch.Size([])). This will likely lead to incorrect results due to broadcasting. Please ensure they have the same size.\n",
      "  return F.l1_loss(input, target, reduction=self.reduction)\n",
      " 97%|█████████▋| 127/131 [00:03<00:00, 35.43it/s]/scratch/sagar/Projects/combopt/venv/lib/python3.6/site-packages/torch/nn/modules/loss.py:97: UserWarning: Using a target size (torch.Size([48])) that is different to the input size (torch.Size([])). This will likely lead to incorrect results due to broadcasting. Please ensure they have the same size.\n",
      "  return F.l1_loss(input, target, reduction=self.reduction)\n",
      "100%|██████████| 131/131 [00:03<00:00, 33.55it/s]\n",
      " 75%|███████▌  | 12/16 [00:00<00:00, 55.39it/s]/scratch/sagar/Projects/combopt/venv/lib/python3.6/site-packages/torch/nn/modules/loss.py:97: UserWarning: Using a target size (torch.Size([40])) that is different to the input size (torch.Size([])). This will likely lead to incorrect results due to broadcasting. Please ensure they have the same size.\n",
      "  return F.l1_loss(input, target, reduction=self.reduction)\n",
      "100%|██████████| 16/16 [00:00<00:00, 57.01it/s]\n"
     ]
    },
    {
     "name": "stdout",
     "output_type": "stream",
     "text": [
      "training loss: 0.46768057346343994, valid loss: 0.516101598739624\n"
     ]
    },
    {
     "name": "stderr",
     "output_type": "stream",
     "text": [
      "100%|██████████| 131/131 [00:03<00:00, 37.77it/s]\n",
      "100%|██████████| 16/16 [00:00<00:00, 39.34it/s]\n"
     ]
    },
    {
     "name": "stdout",
     "output_type": "stream",
     "text": [
      "training loss: 0.4719253480434418, valid loss: 0.5957508683204651\n"
     ]
    },
    {
     "name": "stderr",
     "output_type": "stream",
     "text": [
      "100%|██████████| 131/131 [00:04<00:00, 32.33it/s]\n",
      "100%|██████████| 16/16 [00:00<00:00, 59.31it/s]\n"
     ]
    },
    {
     "name": "stdout",
     "output_type": "stream",
     "text": [
      "training loss: 0.4462070167064667, valid loss: 0.46035444736480713\n"
     ]
    },
    {
     "name": "stderr",
     "output_type": "stream",
     "text": [
      "100%|██████████| 131/131 [00:03<00:00, 39.90it/s]\n",
      "100%|██████████| 16/16 [00:00<00:00, 55.48it/s]\n"
     ]
    },
    {
     "name": "stdout",
     "output_type": "stream",
     "text": [
      "training loss: 0.48023152351379395, valid loss: 0.47765105962753296\n"
     ]
    },
    {
     "name": "stderr",
     "output_type": "stream",
     "text": [
      "100%|██████████| 131/131 [00:03<00:00, 38.02it/s]\n",
      "100%|██████████| 16/16 [00:00<00:00, 59.21it/s]\n"
     ]
    },
    {
     "name": "stdout",
     "output_type": "stream",
     "text": [
      "training loss: 0.35952210426330566, valid loss: 0.4718726873397827\n"
     ]
    },
    {
     "name": "stderr",
     "output_type": "stream",
     "text": [
      "100%|██████████| 131/131 [00:03<00:00, 34.59it/s]\n",
      "100%|██████████| 16/16 [00:00<00:00, 55.90it/s]\n"
     ]
    },
    {
     "name": "stdout",
     "output_type": "stream",
     "text": [
      "training loss: 0.3700847327709198, valid loss: 0.3989936113357544\n"
     ]
    },
    {
     "name": "stderr",
     "output_type": "stream",
     "text": [
      "100%|██████████| 131/131 [00:03<00:00, 38.30it/s]\n",
      "100%|██████████| 16/16 [00:00<00:00, 59.54it/s]\n"
     ]
    },
    {
     "name": "stdout",
     "output_type": "stream",
     "text": [
      "training loss: 0.33503299951553345, valid loss: 0.381969690322876\n"
     ]
    },
    {
     "name": "stderr",
     "output_type": "stream",
     "text": [
      "100%|██████████| 131/131 [00:03<00:00, 38.28it/s]\n",
      "100%|██████████| 16/16 [00:00<00:00, 60.84it/s]\n"
     ]
    },
    {
     "name": "stdout",
     "output_type": "stream",
     "text": [
      "training loss: 0.28115931153297424, valid loss: 0.3679596185684204\n"
     ]
    },
    {
     "name": "stderr",
     "output_type": "stream",
     "text": [
      "100%|██████████| 131/131 [00:03<00:00, 39.36it/s]\n",
      "100%|██████████| 16/16 [00:00<00:00, 62.47it/s]\n"
     ]
    },
    {
     "name": "stdout",
     "output_type": "stream",
     "text": [
      "training loss: 0.4388917088508606, valid loss: 0.44196709990501404\n"
     ]
    },
    {
     "name": "stderr",
     "output_type": "stream",
     "text": [
      "100%|██████████| 131/131 [00:03<00:00, 39.54it/s]\n",
      "100%|██████████| 16/16 [00:00<00:00, 64.11it/s]\n"
     ]
    },
    {
     "name": "stdout",
     "output_type": "stream",
     "text": [
      "training loss: 0.3091740906238556, valid loss: 0.34988826513290405\n"
     ]
    },
    {
     "name": "stderr",
     "output_type": "stream",
     "text": [
      "100%|██████████| 131/131 [00:03<00:00, 38.40it/s]\n",
      "100%|██████████| 16/16 [00:00<00:00, 62.96it/s]\n"
     ]
    },
    {
     "name": "stdout",
     "output_type": "stream",
     "text": [
      "training loss: 0.36405619978904724, valid loss: 0.37657418847084045\n"
     ]
    },
    {
     "name": "stderr",
     "output_type": "stream",
     "text": [
      "100%|██████████| 131/131 [00:03<00:00, 34.72it/s]\n",
      "100%|██████████| 16/16 [00:00<00:00, 50.50it/s]\n"
     ]
    },
    {
     "name": "stdout",
     "output_type": "stream",
     "text": [
      "training loss: 0.40158557891845703, valid loss: 0.40566450357437134\n"
     ]
    },
    {
     "name": "stderr",
     "output_type": "stream",
     "text": [
      "100%|██████████| 131/131 [00:03<00:00, 40.58it/s]\n",
      "100%|██████████| 16/16 [00:00<00:00, 57.89it/s]\n"
     ]
    },
    {
     "name": "stdout",
     "output_type": "stream",
     "text": [
      "training loss: 0.30892086029052734, valid loss: 0.36241692304611206\n"
     ]
    },
    {
     "name": "stderr",
     "output_type": "stream",
     "text": [
      "100%|██████████| 131/131 [00:03<00:00, 34.70it/s]\n",
      "100%|██████████| 16/16 [00:00<00:00, 56.78it/s]\n"
     ]
    },
    {
     "name": "stdout",
     "output_type": "stream",
     "text": [
      "training loss: 0.3142533004283905, valid loss: 0.3748288154602051\n"
     ]
    },
    {
     "name": "stderr",
     "output_type": "stream",
     "text": [
      "100%|██████████| 131/131 [00:03<00:00, 39.85it/s]\n",
      "100%|██████████| 16/16 [00:00<00:00, 59.69it/s]\n"
     ]
    },
    {
     "name": "stdout",
     "output_type": "stream",
     "text": [
      "training loss: 0.33063623309135437, valid loss: 0.35942667722702026\n"
     ]
    },
    {
     "name": "stderr",
     "output_type": "stream",
     "text": [
      "100%|██████████| 131/131 [00:03<00:00, 38.37it/s]\n",
      "100%|██████████| 16/16 [00:00<00:00, 60.16it/s]\n"
     ]
    },
    {
     "name": "stdout",
     "output_type": "stream",
     "text": [
      "training loss: 0.3051203787326813, valid loss: 0.40703001618385315\n"
     ]
    },
    {
     "name": "stderr",
     "output_type": "stream",
     "text": [
      "100%|██████████| 131/131 [00:03<00:00, 36.72it/s]\n",
      "100%|██████████| 16/16 [00:00<00:00, 41.39it/s]\n"
     ]
    },
    {
     "name": "stdout",
     "output_type": "stream",
     "text": [
      "training loss: 0.27392786741256714, valid loss: 0.43701863288879395\n"
     ]
    },
    {
     "name": "stderr",
     "output_type": "stream",
     "text": [
      "100%|██████████| 131/131 [00:03<00:00, 39.17it/s]\n",
      "100%|██████████| 16/16 [00:00<00:00, 57.68it/s]\n"
     ]
    },
    {
     "name": "stdout",
     "output_type": "stream",
     "text": [
      "training loss: 0.2951206564903259, valid loss: 0.43457189202308655\n"
     ]
    },
    {
     "name": "stderr",
     "output_type": "stream",
     "text": [
      "100%|██████████| 131/131 [00:03<00:00, 41.66it/s]\n",
      "100%|██████████| 16/16 [00:00<00:00, 56.79it/s]\n"
     ]
    },
    {
     "name": "stdout",
     "output_type": "stream",
     "text": [
      "training loss: 0.34776854515075684, valid loss: 0.3643620014190674\n"
     ]
    },
    {
     "name": "stderr",
     "output_type": "stream",
     "text": [
      "100%|██████████| 131/131 [00:03<00:00, 40.09it/s]\n",
      "100%|██████████| 16/16 [00:00<00:00, 55.46it/s]\n"
     ]
    },
    {
     "name": "stdout",
     "output_type": "stream",
     "text": [
      "training loss: 0.345192551612854, valid loss: 0.3283292055130005\n"
     ]
    },
    {
     "name": "stderr",
     "output_type": "stream",
     "text": [
      "100%|██████████| 131/131 [00:03<00:00, 40.46it/s]\n",
      "100%|██████████| 16/16 [00:00<00:00, 59.50it/s]\n"
     ]
    },
    {
     "name": "stdout",
     "output_type": "stream",
     "text": [
      "training loss: 0.34427410364151, valid loss: 0.39938682317733765\n"
     ]
    },
    {
     "name": "stderr",
     "output_type": "stream",
     "text": [
      "100%|██████████| 131/131 [00:03<00:00, 41.11it/s]\n",
      "100%|██████████| 16/16 [00:00<00:00, 55.84it/s]\n"
     ]
    },
    {
     "name": "stdout",
     "output_type": "stream",
     "text": [
      "training loss: 0.255595862865448, valid loss: 0.35498422384262085\n"
     ]
    },
    {
     "name": "stderr",
     "output_type": "stream",
     "text": [
      "100%|██████████| 131/131 [00:03<00:00, 38.46it/s]\n",
      "100%|██████████| 16/16 [00:00<00:00, 56.87it/s]\n"
     ]
    },
    {
     "name": "stdout",
     "output_type": "stream",
     "text": [
      "training loss: 0.33751314878463745, valid loss: 0.40878725051879883\n"
     ]
    },
    {
     "name": "stderr",
     "output_type": "stream",
     "text": [
      "100%|██████████| 131/131 [00:03<00:00, 41.78it/s]\n",
      "100%|██████████| 16/16 [00:00<00:00, 55.89it/s]\n"
     ]
    },
    {
     "name": "stdout",
     "output_type": "stream",
     "text": [
      "training loss: 0.3053927421569824, valid loss: 0.3582421839237213\n"
     ]
    },
    {
     "name": "stderr",
     "output_type": "stream",
     "text": [
      "100%|██████████| 131/131 [00:03<00:00, 40.27it/s]\n",
      "100%|██████████| 16/16 [00:00<00:00, 59.08it/s]\n"
     ]
    },
    {
     "name": "stdout",
     "output_type": "stream",
     "text": [
      "training loss: 0.288928747177124, valid loss: 0.40208637714385986\n"
     ]
    },
    {
     "name": "stderr",
     "output_type": "stream",
     "text": [
      "100%|██████████| 131/131 [00:03<00:00, 39.35it/s]\n",
      "100%|██████████| 16/16 [00:00<00:00, 56.26it/s]\n"
     ]
    },
    {
     "name": "stdout",
     "output_type": "stream",
     "text": [
      "training loss: 0.3050110340118408, valid loss: 0.3775705099105835\n"
     ]
    },
    {
     "name": "stderr",
     "output_type": "stream",
     "text": [
      "100%|██████████| 131/131 [00:03<00:00, 41.47it/s]\n",
      "100%|██████████| 16/16 [00:00<00:00, 61.92it/s]\n"
     ]
    },
    {
     "name": "stdout",
     "output_type": "stream",
     "text": [
      "training loss: 0.31519025564193726, valid loss: 0.34794652462005615\n"
     ]
    },
    {
     "name": "stderr",
     "output_type": "stream",
     "text": [
      "100%|██████████| 131/131 [00:02<00:00, 43.85it/s]\n",
      "100%|██████████| 16/16 [00:00<00:00, 53.38it/s]\n"
     ]
    },
    {
     "name": "stdout",
     "output_type": "stream",
     "text": [
      "training loss: 0.3189358711242676, valid loss: 0.30903729796409607\n"
     ]
    },
    {
     "name": "stderr",
     "output_type": "stream",
     "text": [
      "100%|██████████| 131/131 [00:03<00:00, 43.37it/s]\n",
      "100%|██████████| 16/16 [00:00<00:00, 63.24it/s]\n"
     ]
    },
    {
     "name": "stdout",
     "output_type": "stream",
     "text": [
      "training loss: 0.27615416049957275, valid loss: 0.3153423070907593\n"
     ]
    },
    {
     "name": "stderr",
     "output_type": "stream",
     "text": [
      "100%|██████████| 131/131 [00:02<00:00, 44.09it/s]\n",
      "100%|██████████| 16/16 [00:00<00:00, 60.16it/s]\n"
     ]
    },
    {
     "name": "stdout",
     "output_type": "stream",
     "text": [
      "training loss: 0.3023919463157654, valid loss: 0.2694651484489441\n"
     ]
    },
    {
     "name": "stderr",
     "output_type": "stream",
     "text": [
      "100%|██████████| 131/131 [00:03<00:00, 38.14it/s]\n",
      "100%|██████████| 16/16 [00:00<00:00, 60.08it/s]\n"
     ]
    },
    {
     "name": "stdout",
     "output_type": "stream",
     "text": [
      "training loss: 0.3538574278354645, valid loss: 0.4297703802585602\n"
     ]
    },
    {
     "name": "stderr",
     "output_type": "stream",
     "text": [
      "100%|██████████| 131/131 [00:02<00:00, 46.98it/s]\n",
      "100%|██████████| 16/16 [00:00<00:00, 71.02it/s]\n"
     ]
    },
    {
     "name": "stdout",
     "output_type": "stream",
     "text": [
      "training loss: 0.29183074831962585, valid loss: 0.380098819732666\n"
     ]
    },
    {
     "name": "stderr",
     "output_type": "stream",
     "text": [
      "100%|██████████| 131/131 [00:02<00:00, 45.06it/s]\n",
      "100%|██████████| 16/16 [00:00<00:00, 62.18it/s]\n"
     ]
    },
    {
     "name": "stdout",
     "output_type": "stream",
     "text": [
      "training loss: 0.301535964012146, valid loss: 0.34500235319137573\n"
     ]
    },
    {
     "name": "stderr",
     "output_type": "stream",
     "text": [
      "100%|██████████| 131/131 [00:03<00:00, 42.85it/s]\n",
      "100%|██████████| 16/16 [00:00<00:00, 53.12it/s]\n"
     ]
    },
    {
     "name": "stdout",
     "output_type": "stream",
     "text": [
      "training loss: 0.30894601345062256, valid loss: 0.37638944387435913\n"
     ]
    },
    {
     "name": "stderr",
     "output_type": "stream",
     "text": [
      "100%|██████████| 131/131 [00:03<00:00, 41.67it/s]\n",
      "100%|██████████| 16/16 [00:00<00:00, 55.98it/s]\n"
     ]
    },
    {
     "name": "stdout",
     "output_type": "stream",
     "text": [
      "training loss: 0.3655066192150116, valid loss: 0.36209362745285034\n"
     ]
    },
    {
     "name": "stderr",
     "output_type": "stream",
     "text": [
      "100%|██████████| 131/131 [00:03<00:00, 43.28it/s]\n",
      "100%|██████████| 16/16 [00:00<00:00, 47.21it/s]\n"
     ]
    },
    {
     "name": "stdout",
     "output_type": "stream",
     "text": [
      "training loss: 0.31906646490097046, valid loss: 0.3998977243900299\n"
     ]
    },
    {
     "name": "stderr",
     "output_type": "stream",
     "text": [
      "100%|██████████| 131/131 [00:03<00:00, 43.61it/s]\n",
      "100%|██████████| 16/16 [00:00<00:00, 56.31it/s]\n"
     ]
    },
    {
     "name": "stdout",
     "output_type": "stream",
     "text": [
      "training loss: 0.27796217799186707, valid loss: 0.36761757731437683\n"
     ]
    },
    {
     "name": "stderr",
     "output_type": "stream",
     "text": [
      "100%|██████████| 131/131 [00:03<00:00, 41.31it/s]\n",
      "100%|██████████| 16/16 [00:00<00:00, 48.16it/s]\n"
     ]
    },
    {
     "name": "stdout",
     "output_type": "stream",
     "text": [
      "training loss: 0.2966352105140686, valid loss: 0.332929790019989\n"
     ]
    },
    {
     "name": "stderr",
     "output_type": "stream",
     "text": [
      "100%|██████████| 131/131 [00:03<00:00, 40.36it/s]\n",
      "100%|██████████| 16/16 [00:00<00:00, 57.71it/s]\n"
     ]
    },
    {
     "name": "stdout",
     "output_type": "stream",
     "text": [
      "training loss: 0.35089901089668274, valid loss: 0.3842630386352539\n"
     ]
    },
    {
     "name": "stderr",
     "output_type": "stream",
     "text": [
      "100%|██████████| 131/131 [00:03<00:00, 39.57it/s]\n",
      "100%|██████████| 16/16 [00:00<00:00, 58.11it/s]\n"
     ]
    },
    {
     "name": "stdout",
     "output_type": "stream",
     "text": [
      "training loss: 0.32792532444000244, valid loss: 0.40205469727516174\n"
     ]
    },
    {
     "name": "stderr",
     "output_type": "stream",
     "text": [
      "100%|██████████| 131/131 [00:03<00:00, 41.89it/s]\n",
      "100%|██████████| 16/16 [00:00<00:00, 62.23it/s]\n"
     ]
    },
    {
     "name": "stdout",
     "output_type": "stream",
     "text": [
      "training loss: 0.35304492712020874, valid loss: 0.3564513325691223\n"
     ]
    },
    {
     "name": "stderr",
     "output_type": "stream",
     "text": [
      "100%|██████████| 131/131 [00:03<00:00, 42.63it/s]\n",
      "100%|██████████| 16/16 [00:00<00:00, 54.23it/s]\n"
     ]
    },
    {
     "name": "stdout",
     "output_type": "stream",
     "text": [
      "training loss: 0.37093669176101685, valid loss: 0.40458962321281433\n"
     ]
    },
    {
     "name": "stderr",
     "output_type": "stream",
     "text": [
      "100%|██████████| 131/131 [00:03<00:00, 42.08it/s]\n",
      "100%|██████████| 16/16 [00:00<00:00, 57.96it/s]\n"
     ]
    },
    {
     "name": "stdout",
     "output_type": "stream",
     "text": [
      "training loss: 0.2897804379463196, valid loss: 0.3721744418144226\n"
     ]
    },
    {
     "name": "stderr",
     "output_type": "stream",
     "text": [
      "100%|██████████| 131/131 [00:03<00:00, 42.07it/s]\n",
      "100%|██████████| 16/16 [00:00<00:00, 59.53it/s]\n"
     ]
    },
    {
     "name": "stdout",
     "output_type": "stream",
     "text": [
      "training loss: 0.30437105894088745, valid loss: 0.35795626044273376\n"
     ]
    },
    {
     "name": "stderr",
     "output_type": "stream",
     "text": [
      "100%|██████████| 131/131 [00:02<00:00, 45.31it/s]\n",
      "100%|██████████| 16/16 [00:00<00:00, 67.73it/s]\n"
     ]
    },
    {
     "name": "stdout",
     "output_type": "stream",
     "text": [
      "training loss: 0.27421119809150696, valid loss: 0.37516844272613525\n"
     ]
    },
    {
     "name": "stderr",
     "output_type": "stream",
     "text": [
      "100%|██████████| 131/131 [00:02<00:00, 45.40it/s]\n",
      "100%|██████████| 16/16 [00:00<00:00, 71.88it/s]\n"
     ]
    },
    {
     "name": "stdout",
     "output_type": "stream",
     "text": [
      "training loss: 0.2957090735435486, valid loss: 0.3496364951133728\n"
     ]
    },
    {
     "name": "stderr",
     "output_type": "stream",
     "text": [
      "100%|██████████| 131/131 [00:03<00:00, 43.45it/s]\n",
      "100%|██████████| 16/16 [00:00<00:00, 69.43it/s]\n"
     ]
    },
    {
     "name": "stdout",
     "output_type": "stream",
     "text": [
      "training loss: 0.2807910144329071, valid loss: 0.39877116680145264\n"
     ]
    },
    {
     "name": "stderr",
     "output_type": "stream",
     "text": [
      "100%|██████████| 131/131 [00:02<00:00, 46.55it/s]\n",
      "100%|██████████| 16/16 [00:00<00:00, 63.33it/s]\n"
     ]
    },
    {
     "name": "stdout",
     "output_type": "stream",
     "text": [
      "training loss: 0.31776192784309387, valid loss: 0.3810705840587616\n"
     ]
    },
    {
     "name": "stderr",
     "output_type": "stream",
     "text": [
      "100%|██████████| 131/131 [00:03<00:00, 36.08it/s]\n",
      "100%|██████████| 16/16 [00:00<00:00, 53.51it/s]\n"
     ]
    },
    {
     "name": "stdout",
     "output_type": "stream",
     "text": [
      "training loss: 0.30909693241119385, valid loss: 0.3386942446231842\n"
     ]
    },
    {
     "name": "stderr",
     "output_type": "stream",
     "text": [
      "100%|██████████| 131/131 [00:03<00:00, 37.38it/s]\n",
      "100%|██████████| 16/16 [00:00<00:00, 56.18it/s]\n"
     ]
    },
    {
     "name": "stdout",
     "output_type": "stream",
     "text": [
      "training loss: 0.26978811621665955, valid loss: 0.4106333255767822\n"
     ]
    },
    {
     "name": "stderr",
     "output_type": "stream",
     "text": [
      "100%|██████████| 131/131 [00:03<00:00, 33.95it/s]\n",
      "100%|██████████| 16/16 [00:00<00:00, 55.09it/s]\n"
     ]
    },
    {
     "name": "stdout",
     "output_type": "stream",
     "text": [
      "training loss: 0.3508056402206421, valid loss: 0.3934006094932556\n"
     ]
    },
    {
     "name": "stderr",
     "output_type": "stream",
     "text": [
      "100%|██████████| 131/131 [00:03<00:00, 38.43it/s]\n",
      "100%|██████████| 16/16 [00:00<00:00, 49.69it/s]\n"
     ]
    },
    {
     "name": "stdout",
     "output_type": "stream",
     "text": [
      "training loss: 0.26659074425697327, valid loss: 0.31355953216552734\n"
     ]
    },
    {
     "name": "stderr",
     "output_type": "stream",
     "text": [
      "100%|██████████| 131/131 [00:03<00:00, 35.53it/s]\n",
      "100%|██████████| 16/16 [00:00<00:00, 50.76it/s]\n"
     ]
    },
    {
     "name": "stdout",
     "output_type": "stream",
     "text": [
      "training loss: 0.2745888829231262, valid loss: 0.3166998326778412\n"
     ]
    },
    {
     "name": "stderr",
     "output_type": "stream",
     "text": [
      "100%|██████████| 131/131 [00:03<00:00, 37.24it/s]\n",
      "100%|██████████| 16/16 [00:00<00:00, 54.52it/s]\n"
     ]
    },
    {
     "name": "stdout",
     "output_type": "stream",
     "text": [
      "training loss: 0.3109041452407837, valid loss: 0.3962063789367676\n"
     ]
    },
    {
     "name": "stderr",
     "output_type": "stream",
     "text": [
      "100%|██████████| 131/131 [00:03<00:00, 38.35it/s]\n",
      "100%|██████████| 16/16 [00:00<00:00, 53.86it/s]\n"
     ]
    },
    {
     "name": "stdout",
     "output_type": "stream",
     "text": [
      "training loss: 0.304914653301239, valid loss: 0.31430840492248535\n"
     ]
    },
    {
     "name": "stderr",
     "output_type": "stream",
     "text": [
      "100%|██████████| 131/131 [00:03<00:00, 36.80it/s]\n",
      "100%|██████████| 16/16 [00:00<00:00, 52.17it/s]\n"
     ]
    },
    {
     "name": "stdout",
     "output_type": "stream",
     "text": [
      "training loss: 0.3119797110557556, valid loss: 0.3594144880771637\n"
     ]
    },
    {
     "name": "stderr",
     "output_type": "stream",
     "text": [
      "100%|██████████| 131/131 [00:03<00:00, 35.92it/s]\n",
      "100%|██████████| 16/16 [00:00<00:00, 60.35it/s]\n"
     ]
    },
    {
     "name": "stdout",
     "output_type": "stream",
     "text": [
      "training loss: 0.30758872628211975, valid loss: 0.338541179895401\n"
     ]
    },
    {
     "name": "stderr",
     "output_type": "stream",
     "text": [
      "100%|██████████| 131/131 [00:03<00:00, 34.90it/s]\n",
      "100%|██████████| 16/16 [00:00<00:00, 54.77it/s]\n"
     ]
    },
    {
     "name": "stdout",
     "output_type": "stream",
     "text": [
      "training loss: 0.30143216252326965, valid loss: 0.3563607931137085\n"
     ]
    },
    {
     "name": "stderr",
     "output_type": "stream",
     "text": [
      "100%|██████████| 131/131 [00:03<00:00, 36.75it/s]\n",
      "100%|██████████| 16/16 [00:00<00:00, 49.72it/s]\n"
     ]
    },
    {
     "name": "stdout",
     "output_type": "stream",
     "text": [
      "training loss: 0.3354279398918152, valid loss: 0.40420666337013245\n"
     ]
    },
    {
     "name": "stderr",
     "output_type": "stream",
     "text": [
      "100%|██████████| 131/131 [00:03<00:00, 40.79it/s]\n",
      "100%|██████████| 16/16 [00:00<00:00, 62.53it/s]\n"
     ]
    },
    {
     "name": "stdout",
     "output_type": "stream",
     "text": [
      "training loss: 0.31096023321151733, valid loss: 0.3403853178024292\n"
     ]
    },
    {
     "name": "stderr",
     "output_type": "stream",
     "text": [
      "100%|██████████| 131/131 [00:03<00:00, 43.22it/s]\n",
      "100%|██████████| 16/16 [00:00<00:00, 64.23it/s]\n"
     ]
    },
    {
     "name": "stdout",
     "output_type": "stream",
     "text": [
      "training loss: 0.29343631863594055, valid loss: 0.35941725969314575\n"
     ]
    },
    {
     "name": "stderr",
     "output_type": "stream",
     "text": [
      "100%|██████████| 131/131 [00:02<00:00, 46.05it/s]\n",
      "100%|██████████| 16/16 [00:00<00:00, 68.33it/s]\n"
     ]
    },
    {
     "name": "stdout",
     "output_type": "stream",
     "text": [
      "training loss: 0.3182772099971771, valid loss: 0.3439257740974426\n"
     ]
    },
    {
     "name": "stderr",
     "output_type": "stream",
     "text": [
      "100%|██████████| 131/131 [00:02<00:00, 46.43it/s]\n",
      "100%|██████████| 16/16 [00:00<00:00, 59.58it/s]\n"
     ]
    },
    {
     "name": "stdout",
     "output_type": "stream",
     "text": [
      "training loss: 0.3521653413772583, valid loss: 0.3356936573982239\n"
     ]
    },
    {
     "name": "stderr",
     "output_type": "stream",
     "text": [
      "100%|██████████| 131/131 [00:02<00:00, 45.46it/s]\n",
      "100%|██████████| 16/16 [00:00<00:00, 61.04it/s]\n"
     ]
    },
    {
     "name": "stdout",
     "output_type": "stream",
     "text": [
      "training loss: 0.31794196367263794, valid loss: 0.3987475633621216\n"
     ]
    },
    {
     "name": "stderr",
     "output_type": "stream",
     "text": [
      "100%|██████████| 131/131 [00:03<00:00, 37.93it/s]\n",
      "100%|██████████| 16/16 [00:00<00:00, 59.61it/s]\n"
     ]
    },
    {
     "name": "stdout",
     "output_type": "stream",
     "text": [
      "training loss: 0.30010390281677246, valid loss: 0.36217063665390015\n"
     ]
    },
    {
     "name": "stderr",
     "output_type": "stream",
     "text": [
      "100%|██████████| 131/131 [00:03<00:00, 42.11it/s]\n",
      "100%|██████████| 16/16 [00:00<00:00, 53.81it/s]\n"
     ]
    },
    {
     "name": "stdout",
     "output_type": "stream",
     "text": [
      "training loss: 0.2679130733013153, valid loss: 0.3055421710014343\n"
     ]
    },
    {
     "name": "stderr",
     "output_type": "stream",
     "text": [
      "100%|██████████| 131/131 [00:04<00:00, 30.44it/s]\n",
      "100%|██████████| 16/16 [00:00<00:00, 54.78it/s]\n"
     ]
    },
    {
     "name": "stdout",
     "output_type": "stream",
     "text": [
      "training loss: 0.2885948121547699, valid loss: 0.34908562898635864\n"
     ]
    },
    {
     "name": "stderr",
     "output_type": "stream",
     "text": [
      "100%|██████████| 131/131 [00:03<00:00, 37.44it/s]\n",
      "100%|██████████| 16/16 [00:00<00:00, 54.62it/s]\n"
     ]
    },
    {
     "name": "stdout",
     "output_type": "stream",
     "text": [
      "training loss: 0.2767467796802521, valid loss: 0.31977221369743347\n"
     ]
    },
    {
     "name": "stderr",
     "output_type": "stream",
     "text": [
      "100%|██████████| 131/131 [00:03<00:00, 38.09it/s]\n",
      "100%|██████████| 16/16 [00:00<00:00, 57.41it/s]\n"
     ]
    },
    {
     "name": "stdout",
     "output_type": "stream",
     "text": [
      "training loss: 0.2996816039085388, valid loss: 0.3179095983505249\n"
     ]
    },
    {
     "name": "stderr",
     "output_type": "stream",
     "text": [
      "100%|██████████| 131/131 [00:03<00:00, 37.42it/s]\n",
      "100%|██████████| 16/16 [00:00<00:00, 55.05it/s]\n"
     ]
    },
    {
     "name": "stdout",
     "output_type": "stream",
     "text": [
      "training loss: 0.34432679414749146, valid loss: 0.380767285823822\n"
     ]
    },
    {
     "name": "stderr",
     "output_type": "stream",
     "text": [
      "100%|██████████| 131/131 [00:03<00:00, 39.59it/s]\n",
      "100%|██████████| 16/16 [00:00<00:00, 51.47it/s]\n"
     ]
    },
    {
     "name": "stdout",
     "output_type": "stream",
     "text": [
      "training loss: 0.275278776884079, valid loss: 0.39986929297447205\n"
     ]
    },
    {
     "name": "stderr",
     "output_type": "stream",
     "text": [
      "100%|██████████| 131/131 [00:03<00:00, 38.36it/s]\n",
      "100%|██████████| 16/16 [00:00<00:00, 56.66it/s]\n"
     ]
    },
    {
     "name": "stdout",
     "output_type": "stream",
     "text": [
      "training loss: 0.285375714302063, valid loss: 0.3704702854156494\n"
     ]
    },
    {
     "name": "stderr",
     "output_type": "stream",
     "text": [
      "100%|██████████| 131/131 [00:03<00:00, 37.85it/s]\n",
      "100%|██████████| 16/16 [00:00<00:00, 57.70it/s]\n"
     ]
    },
    {
     "name": "stdout",
     "output_type": "stream",
     "text": [
      "training loss: 0.3046683073043823, valid loss: 0.3648768961429596\n"
     ]
    },
    {
     "name": "stderr",
     "output_type": "stream",
     "text": [
      "100%|██████████| 131/131 [00:03<00:00, 42.19it/s]\n",
      "100%|██████████| 16/16 [00:00<00:00, 51.64it/s]\n"
     ]
    },
    {
     "name": "stdout",
     "output_type": "stream",
     "text": [
      "training loss: 0.3022057116031647, valid loss: 0.33929622173309326\n"
     ]
    },
    {
     "name": "stderr",
     "output_type": "stream",
     "text": [
      "100%|██████████| 131/131 [00:03<00:00, 37.81it/s]\n",
      "100%|██████████| 16/16 [00:00<00:00, 53.36it/s]\n"
     ]
    },
    {
     "name": "stdout",
     "output_type": "stream",
     "text": [
      "training loss: 0.33048805594444275, valid loss: 0.3746638894081116\n"
     ]
    },
    {
     "name": "stderr",
     "output_type": "stream",
     "text": [
      "100%|██████████| 131/131 [00:03<00:00, 41.69it/s]\n",
      "100%|██████████| 16/16 [00:00<00:00, 51.89it/s]\n"
     ]
    },
    {
     "name": "stdout",
     "output_type": "stream",
     "text": [
      "training loss: 0.29886263608932495, valid loss: 0.2966708838939667\n"
     ]
    },
    {
     "name": "stderr",
     "output_type": "stream",
     "text": [
      "100%|██████████| 131/131 [00:02<00:00, 45.02it/s]\n",
      "100%|██████████| 16/16 [00:00<00:00, 66.40it/s]\n"
     ]
    },
    {
     "name": "stdout",
     "output_type": "stream",
     "text": [
      "training loss: 0.2390182614326477, valid loss: 0.35082852840423584\n"
     ]
    },
    {
     "name": "stderr",
     "output_type": "stream",
     "text": [
      "100%|██████████| 131/131 [00:03<00:00, 38.00it/s]\n",
      "100%|██████████| 16/16 [00:00<00:00, 50.32it/s]\n"
     ]
    },
    {
     "name": "stdout",
     "output_type": "stream",
     "text": [
      "training loss: 0.31662672758102417, valid loss: 0.4167730510234833\n"
     ]
    },
    {
     "name": "stderr",
     "output_type": "stream",
     "text": [
      "100%|██████████| 131/131 [00:03<00:00, 42.66it/s]\n",
      "100%|██████████| 16/16 [00:00<00:00, 64.63it/s]\n"
     ]
    },
    {
     "name": "stdout",
     "output_type": "stream",
     "text": [
      "training loss: 0.3147980868816376, valid loss: 0.35410478711128235\n"
     ]
    },
    {
     "name": "stderr",
     "output_type": "stream",
     "text": [
      "100%|██████████| 131/131 [00:03<00:00, 42.97it/s]\n",
      "100%|██████████| 16/16 [00:00<00:00, 65.28it/s]\n"
     ]
    },
    {
     "name": "stdout",
     "output_type": "stream",
     "text": [
      "training loss: 0.2659808397293091, valid loss: 0.3348965048789978\n"
     ]
    },
    {
     "name": "stderr",
     "output_type": "stream",
     "text": [
      "100%|██████████| 131/131 [00:03<00:00, 43.65it/s]\n",
      "100%|██████████| 16/16 [00:00<00:00, 50.43it/s]\n"
     ]
    },
    {
     "name": "stdout",
     "output_type": "stream",
     "text": [
      "training loss: 0.3281403183937073, valid loss: 0.34352850914001465\n"
     ]
    },
    {
     "name": "stderr",
     "output_type": "stream",
     "text": [
      "100%|██████████| 131/131 [00:03<00:00, 37.18it/s]\n",
      "100%|██████████| 16/16 [00:00<00:00, 46.36it/s]\n"
     ]
    },
    {
     "name": "stdout",
     "output_type": "stream",
     "text": [
      "training loss: 0.28543993830680847, valid loss: 0.3429262042045593\n"
     ]
    },
    {
     "name": "stderr",
     "output_type": "stream",
     "text": [
      "100%|██████████| 131/131 [00:03<00:00, 37.83it/s]\n",
      "100%|██████████| 16/16 [00:00<00:00, 55.37it/s]\n"
     ]
    },
    {
     "name": "stdout",
     "output_type": "stream",
     "text": [
      "training loss: 0.2850934863090515, valid loss: 0.37559205293655396\n"
     ]
    },
    {
     "name": "stderr",
     "output_type": "stream",
     "text": [
      "100%|██████████| 131/131 [00:03<00:00, 39.49it/s]\n",
      "100%|██████████| 16/16 [00:00<00:00, 55.34it/s]\n"
     ]
    },
    {
     "name": "stdout",
     "output_type": "stream",
     "text": [
      "training loss: 0.2883685231208801, valid loss: 0.35485124588012695\n"
     ]
    },
    {
     "name": "stderr",
     "output_type": "stream",
     "text": [
      "100%|██████████| 131/131 [00:03<00:00, 37.43it/s]\n",
      "100%|██████████| 16/16 [00:00<00:00, 54.03it/s]\n"
     ]
    },
    {
     "name": "stdout",
     "output_type": "stream",
     "text": [
      "training loss: 0.3327752351760864, valid loss: 0.32663607597351074\n"
     ]
    },
    {
     "name": "stderr",
     "output_type": "stream",
     "text": [
      "100%|██████████| 131/131 [00:03<00:00, 36.65it/s]\n",
      "100%|██████████| 16/16 [00:00<00:00, 58.08it/s]\n"
     ]
    },
    {
     "name": "stdout",
     "output_type": "stream",
     "text": [
      "training loss: 0.36730024218559265, valid loss: 0.3855200409889221\n"
     ]
    },
    {
     "name": "stderr",
     "output_type": "stream",
     "text": [
      "100%|██████████| 131/131 [00:03<00:00, 38.25it/s]\n",
      "100%|██████████| 16/16 [00:00<00:00, 54.41it/s]\n"
     ]
    },
    {
     "name": "stdout",
     "output_type": "stream",
     "text": [
      "training loss: 0.3141593337059021, valid loss: 0.39355990290641785\n"
     ]
    },
    {
     "name": "stderr",
     "output_type": "stream",
     "text": [
      "100%|██████████| 131/131 [00:03<00:00, 36.69it/s]\n",
      "100%|██████████| 16/16 [00:00<00:00, 50.21it/s]\n"
     ]
    },
    {
     "name": "stdout",
     "output_type": "stream",
     "text": [
      "training loss: 0.3352273106575012, valid loss: 0.4152200222015381\n"
     ]
    },
    {
     "name": "stderr",
     "output_type": "stream",
     "text": [
      "100%|██████████| 131/131 [00:03<00:00, 35.73it/s]\n",
      "100%|██████████| 16/16 [00:00<00:00, 33.54it/s]\n"
     ]
    },
    {
     "name": "stdout",
     "output_type": "stream",
     "text": [
      "training loss: 0.2857319712638855, valid loss: 0.325951486825943\n"
     ]
    },
    {
     "name": "stderr",
     "output_type": "stream",
     "text": [
      "100%|██████████| 131/131 [00:03<00:00, 33.33it/s]\n",
      "100%|██████████| 16/16 [00:00<00:00, 52.76it/s]\n"
     ]
    },
    {
     "name": "stdout",
     "output_type": "stream",
     "text": [
      "training loss: 0.32735711336135864, valid loss: 0.3281105160713196\n"
     ]
    },
    {
     "name": "stderr",
     "output_type": "stream",
     "text": [
      "100%|██████████| 131/131 [00:03<00:00, 34.27it/s]\n",
      "100%|██████████| 16/16 [00:00<00:00, 53.89it/s]\n"
     ]
    },
    {
     "name": "stdout",
     "output_type": "stream",
     "text": [
      "training loss: 0.28879380226135254, valid loss: 0.3672609329223633\n"
     ]
    },
    {
     "name": "stderr",
     "output_type": "stream",
     "text": [
      "100%|██████████| 131/131 [00:03<00:00, 35.77it/s]\n",
      "100%|██████████| 16/16 [00:00<00:00, 60.09it/s]\n"
     ]
    },
    {
     "name": "stdout",
     "output_type": "stream",
     "text": [
      "training loss: 0.34054604172706604, valid loss: 0.39036843180656433\n"
     ]
    },
    {
     "name": "stderr",
     "output_type": "stream",
     "text": [
      "100%|██████████| 131/131 [00:03<00:00, 40.06it/s]\n",
      "100%|██████████| 16/16 [00:00<00:00, 60.54it/s]\n"
     ]
    },
    {
     "name": "stdout",
     "output_type": "stream",
     "text": [
      "training loss: 0.3202846646308899, valid loss: 0.31636595726013184\n"
     ]
    },
    {
     "name": "stderr",
     "output_type": "stream",
     "text": [
      "100%|██████████| 131/131 [00:03<00:00, 43.30it/s]\n",
      "100%|██████████| 16/16 [00:00<00:00, 58.65it/s]\n"
     ]
    },
    {
     "name": "stdout",
     "output_type": "stream",
     "text": [
      "training loss: 0.3082285225391388, valid loss: 0.3487163186073303\n"
     ]
    },
    {
     "name": "stderr",
     "output_type": "stream",
     "text": [
      "100%|██████████| 131/131 [00:03<00:00, 41.41it/s]\n",
      "100%|██████████| 16/16 [00:00<00:00, 61.79it/s]\n"
     ]
    },
    {
     "name": "stdout",
     "output_type": "stream",
     "text": [
      "training loss: 0.29907718300819397, valid loss: 0.33747726678848267\n"
     ]
    },
    {
     "name": "stderr",
     "output_type": "stream",
     "text": [
      "100%|██████████| 131/131 [00:02<00:00, 44.96it/s]\n",
      "100%|██████████| 16/16 [00:00<00:00, 60.83it/s]\n"
     ]
    },
    {
     "name": "stdout",
     "output_type": "stream",
     "text": [
      "training loss: 0.28450217843055725, valid loss: 0.40423834323883057\n"
     ]
    },
    {
     "name": "stderr",
     "output_type": "stream",
     "text": [
      "100%|██████████| 131/131 [00:03<00:00, 40.24it/s]\n",
      "100%|██████████| 16/16 [00:00<00:00, 61.24it/s]\n"
     ]
    },
    {
     "name": "stdout",
     "output_type": "stream",
     "text": [
      "training loss: 0.33732882142066956, valid loss: 0.41096457839012146\n"
     ]
    },
    {
     "name": "stderr",
     "output_type": "stream",
     "text": [
      "100%|██████████| 131/131 [00:03<00:00, 38.70it/s]\n",
      "100%|██████████| 16/16 [00:00<00:00, 55.87it/s]\n"
     ]
    },
    {
     "name": "stdout",
     "output_type": "stream",
     "text": [
      "training loss: 0.26592129468917847, valid loss: 0.31281042098999023\n"
     ]
    },
    {
     "name": "stderr",
     "output_type": "stream",
     "text": [
      "100%|██████████| 131/131 [00:03<00:00, 37.82it/s]\n",
      "100%|██████████| 16/16 [00:00<00:00, 57.02it/s]\n"
     ]
    },
    {
     "name": "stdout",
     "output_type": "stream",
     "text": [
      "training loss: 0.30652856826782227, valid loss: 0.4382251799106598\n"
     ]
    },
    {
     "name": "stderr",
     "output_type": "stream",
     "text": [
      "100%|██████████| 131/131 [00:03<00:00, 40.19it/s]\n",
      "100%|██████████| 16/16 [00:00<00:00, 48.85it/s]"
     ]
    },
    {
     "name": "stdout",
     "output_type": "stream",
     "text": [
      "training loss: 0.32280561327934265, valid loss: 0.3482179641723633\n"
     ]
    },
    {
     "name": "stderr",
     "output_type": "stream",
     "text": [
      "\n"
     ]
    }
   ],
   "source": [
    "import torch_geometric\n",
    "from models.gnn_dataset import *\n",
    "\n",
    "### Train the GNN policy using supervised learning (L2-norm loss)\n",
    "\n",
    "# Instantiate model and training parameters\n",
    "num_epochs = 100\n",
    "batch_size = 64\n",
    "lr = 0.0001\n",
    "wt_power = 1\n",
    "Device = 'cuda'\n",
    "\n",
    "model = GNNLowerBound()\n",
    "model = model.to(Device)\n",
    "optimizer = torch.optim.Adam(model.parameters(), lr=lr)\n",
    "\n",
    "data_filepath = '/scratch/sagar/Projects/combopt/branch-and-bound-ml/antenna_selection/data/bound_approximation/trainset1_pruned.pkl'\n",
    "train_dataset = GraphLowerBoundDataset(data_filepath)\n",
    "train_dataloader = torch_geometric.data.DataLoader(train_dataset, batch_size=batch_size, shuffle=True)\n",
    "\n",
    "valid_filepath = '/scratch/sagar/Projects/combopt/branch-and-bound-ml/antenna_selection/data/bound_approximation/validset1_pruned.pkl'\n",
    "valid_dataset =  GraphLowerBoundDataset(valid_filepath)\n",
    "valid_dataloader = torch_geometric.data.DataLoader(valid_dataset, batch_size=batch_size, shuffle=True)\n",
    "\n",
    "loss_func = torch.nn.L1Loss()\n",
    "\n",
    "train_losses = []\n",
    "valid_losses = []\n",
    "\n",
    "for epoch in range(num_epochs):\n",
    "    # Training\n",
    "    model.train()\n",
    "    train_loss_sum = 0\n",
    "    for batch in tqdm(train_dataloader):        \n",
    "        graph, (z_target, _, power_target) = batch\n",
    "        graph = graph.to(Device)\n",
    "        z_target = z_target.to(Device).to(torch.float32)\n",
    "        power_target = power_target.to(Device).to(torch.float32)\n",
    "        \n",
    "        z_out, power_out = model(graph)\n",
    "#         print(loss_func(z_out, z_target.flatten()), wt_power*loss_func(power_out, power_target))\n",
    "        train_loss = loss_func(z_out, z_target.flatten()) + wt_power*loss_func(power_out, power_target)\n",
    "        optimizer.zero_grad()\n",
    "        train_loss.backward()\n",
    "        optimizer.step()\n",
    "        train_loss_sum += train_loss.item()\n",
    "    train_losses.append(train_loss_sum/(len(train_dataset)/batch_size))\n",
    "#         print(next(model.parameters()))\n",
    "        \n",
    "    # Validation\n",
    "    model.eval()\n",
    "    valid_loss_sum = 0\n",
    "    for batch in tqdm(valid_dataloader):\n",
    "        graph, (z_target, _, power_target) = batch\n",
    "        graph = graph.to(Device)\n",
    "        z_target = z_target.to(Device).to(torch.float32)\n",
    "        power_target = power_target.to(Device).to(torch.float32)\n",
    "        \n",
    "        z_out, power_out = model(graph)\n",
    "        valid_loss = loss_func(z_out, z_target.flatten()) + wt_power*loss_func(power_out, power_target) \n",
    "        valid_loss_sum += valid_loss.item()\n",
    "    valid_losses.append(valid_loss_sum/(len(valid_dataset)/batch_size))\n",
    "        \n",
    "    print('training loss: {}, valid loss: {}'.format(train_loss, valid_loss) )\n",
    "        \n",
    "\n",
    "# Using the supervised model do antenna selection with branch and bound (as_bb)\n"
   ]
  },
  {
   "cell_type": "code",
   "execution_count": 11,
   "id": "6e438f7a",
   "metadata": {},
   "outputs": [
    {
     "data": {
      "text/plain": [
       "13100"
      ]
     },
     "execution_count": 11,
     "metadata": {},
     "output_type": "execute_result"
    }
   ],
   "source": [
    "len(train_losses)"
   ]
  },
  {
   "cell_type": "code",
   "execution_count": 9,
   "id": "1516af28",
   "metadata": {},
   "outputs": [],
   "source": [
    "torch.save( model.to('cpu').eval().state_dict(),'trained_models/lower_bound_gnn.model')"
   ]
  },
  {
   "cell_type": "code",
   "execution_count": 7,
   "id": "6a0aada6",
   "metadata": {},
   "outputs": [
    {
     "data": {
      "text/plain": [
       "GNNLowerBound(\n",
       "  (antenna_embedding): Sequential(\n",
       "    (0): LayerNorm((2,), eps=1e-05, elementwise_affine=True)\n",
       "    (1): Linear(in_features=2, out_features=64, bias=True)\n",
       "    (2): ReLU()\n",
       "    (3): Linear(in_features=64, out_features=64, bias=True)\n",
       "    (4): ReLU()\n",
       "  )\n",
       "  (edge_embedding): Sequential(\n",
       "    (0): LayerNorm((3,), eps=1e-05, elementwise_affine=True)\n",
       "    (1): Linear(in_features=3, out_features=64, bias=True)\n",
       "    (2): ReLU()\n",
       "    (3): Linear(in_features=64, out_features=64, bias=True)\n",
       "    (4): ReLU()\n",
       "  )\n",
       "  (user_embedding): Sequential(\n",
       "    (0): LayerNorm((1,), eps=1e-05, elementwise_affine=True)\n",
       "    (1): Linear(in_features=1, out_features=64, bias=True)\n",
       "    (2): ReLU()\n",
       "    (3): Linear(in_features=64, out_features=64, bias=True)\n",
       "    (4): ReLU()\n",
       "  )\n",
       "  (conv_user_to_antenna): BipartiteGraphConvolution(\n",
       "    (feature_module_left): Sequential(\n",
       "      (0): Linear(in_features=64, out_features=64, bias=True)\n",
       "    )\n",
       "    (feature_module_edge): Sequential(\n",
       "      (0): Linear(in_features=64, out_features=64, bias=False)\n",
       "    )\n",
       "    (feature_module_right): Sequential(\n",
       "      (0): Linear(in_features=64, out_features=64, bias=False)\n",
       "    )\n",
       "    (feature_module_final): Sequential(\n",
       "      (0): LayerNorm((64,), eps=1e-05, elementwise_affine=True)\n",
       "      (1): ReLU()\n",
       "      (2): Linear(in_features=64, out_features=64, bias=True)\n",
       "    )\n",
       "    (post_conv_module): Sequential(\n",
       "      (0): LayerNorm((64,), eps=1e-05, elementwise_affine=True)\n",
       "    )\n",
       "    (output_module): Sequential(\n",
       "      (0): Linear(in_features=128, out_features=64, bias=True)\n",
       "      (1): ReLU()\n",
       "      (2): Linear(in_features=64, out_features=64, bias=True)\n",
       "    )\n",
       "  )\n",
       "  (conv_antenna_to_user): BipartiteGraphConvolution(\n",
       "    (feature_module_left): Sequential(\n",
       "      (0): Linear(in_features=64, out_features=64, bias=True)\n",
       "    )\n",
       "    (feature_module_edge): Sequential(\n",
       "      (0): Linear(in_features=64, out_features=64, bias=False)\n",
       "    )\n",
       "    (feature_module_right): Sequential(\n",
       "      (0): Linear(in_features=64, out_features=64, bias=False)\n",
       "    )\n",
       "    (feature_module_final): Sequential(\n",
       "      (0): LayerNorm((64,), eps=1e-05, elementwise_affine=True)\n",
       "      (1): ReLU()\n",
       "      (2): Linear(in_features=64, out_features=64, bias=True)\n",
       "    )\n",
       "    (post_conv_module): Sequential(\n",
       "      (0): LayerNorm((64,), eps=1e-05, elementwise_affine=True)\n",
       "    )\n",
       "    (output_module): Sequential(\n",
       "      (0): Linear(in_features=128, out_features=64, bias=True)\n",
       "      (1): ReLU()\n",
       "      (2): Linear(in_features=64, out_features=64, bias=True)\n",
       "    )\n",
       "  )\n",
       "  (conv_antenna_to_user_final): BipartiteGraphConvolution(\n",
       "    (feature_module_left): Sequential(\n",
       "      (0): Linear(in_features=64, out_features=64, bias=True)\n",
       "    )\n",
       "    (feature_module_edge): Sequential(\n",
       "      (0): Linear(in_features=64, out_features=64, bias=False)\n",
       "    )\n",
       "    (feature_module_right): Sequential(\n",
       "      (0): Linear(in_features=64, out_features=64, bias=False)\n",
       "    )\n",
       "    (feature_module_final): Sequential(\n",
       "      (0): LayerNorm((64,), eps=1e-05, elementwise_affine=True)\n",
       "      (1): ReLU()\n",
       "      (2): Linear(in_features=64, out_features=64, bias=True)\n",
       "    )\n",
       "    (post_conv_module): Sequential(\n",
       "      (0): LayerNorm((64,), eps=1e-05, elementwise_affine=True)\n",
       "    )\n",
       "    (output_module): Sequential(\n",
       "      (0): Linear(in_features=128, out_features=64, bias=True)\n",
       "      (1): ReLU()\n",
       "      (2): Linear(in_features=64, out_features=64, bias=True)\n",
       "    )\n",
       "  )\n",
       "  (output_integral_module): Sequential(\n",
       "    (0): Linear(in_features=64, out_features=64, bias=True)\n",
       "    (1): ReLU()\n",
       "    (2): Linear(in_features=64, out_features=1, bias=False)\n",
       "    (3): Sigmoid()\n",
       "  )\n",
       "  (output_power_module): Sequential(\n",
       "    (0): Linear(in_features=64, out_features=64, bias=True)\n",
       "    (1): ReLU()\n",
       "    (2): Linear(in_features=64, out_features=1, bias=False)\n",
       "  )\n",
       ")"
      ]
     },
     "execution_count": 7,
     "metadata": {},
     "output_type": "execute_result"
    }
   ],
   "source": [
    "model"
   ]
  },
  {
   "cell_type": "markdown",
   "id": "560af7e9",
   "metadata": {},
   "source": [
    "## FCN Relaxed antenna Beamforming Training"
   ]
  },
  {
   "cell_type": "code",
   "execution_count": 20,
   "id": "cbb2ac91",
   "metadata": {},
   "outputs": [
    {
     "name": "stdout",
     "output_type": "stream",
     "text": [
      "epoch: 0, lr: 0.01, bs: 32, btraining loss: 0.42861735820770264, valid loss: 0.620774507522583\n",
      "epoch: 1, lr: 0.01, bs: 32, btraining loss: 0.1980932503938675, valid loss: 0.16368108987808228\n",
      "epoch: 2, lr: 0.01, bs: 32, btraining loss: 0.2511577606201172, valid loss: 0.1387057900428772\n",
      "epoch: 3, lr: 0.01, bs: 32, btraining loss: 0.34826773405075073, valid loss: 0.1005231961607933\n",
      "epoch: 4, lr: 0.01, bs: 32, btraining loss: 0.278256893157959, valid loss: 0.0837225466966629\n",
      "epoch: 5, lr: 0.01, bs: 32, btraining loss: 0.2947612404823303, valid loss: 0.08160193264484406\n",
      "epoch: 6, lr: 0.01, bs: 32, btraining loss: 0.15046468377113342, valid loss: 0.09768325090408325\n",
      "epoch: 7, lr: 0.01, bs: 32, btraining loss: 0.1726491004228592, valid loss: 0.08520328998565674\n",
      "epoch: 8, lr: 0.01, bs: 32, btraining loss: 0.20644529163837433, valid loss: 0.13015218079090118\n",
      "epoch: 9, lr: 0.01, bs: 32, btraining loss: 0.21209506690502167, valid loss: 0.08680062741041183\n",
      "epoch: 10, lr: 0.01, bs: 32, btraining loss: 0.2516207993030548, valid loss: 0.14709056913852692\n",
      "epoch: 11, lr: 0.01, bs: 32, btraining loss: 0.3293854594230652, valid loss: 0.19932608306407928\n",
      "epoch: 12, lr: 0.01, bs: 32, btraining loss: 0.30607572197914124, valid loss: 0.09555547684431076\n",
      "epoch: 13, lr: 0.01, bs: 32, btraining loss: 0.19939585030078888, valid loss: 0.21674244105815887\n",
      "epoch: 14, lr: 0.01, bs: 32, btraining loss: 0.14896836876869202, valid loss: 0.1849658489227295\n",
      "epoch: 15, lr: 0.01, bs: 32, btraining loss: 0.34294360876083374, valid loss: 0.16077207028865814\n",
      "epoch: 16, lr: 0.01, bs: 32, btraining loss: 0.1428578495979309, valid loss: 0.13521236181259155\n",
      "epoch: 17, lr: 0.01, bs: 32, btraining loss: 0.14008215069770813, valid loss: 0.2307313233613968\n",
      "epoch: 18, lr: 0.01, bs: 32, btraining loss: 0.24691364169120789, valid loss: 0.1468350887298584\n",
      "epoch: 19, lr: 0.01, bs: 32, btraining loss: 0.297899067401886, valid loss: 0.12393271923065186\n",
      "epoch: 20, lr: 0.01, bs: 32, btraining loss: 0.17228913307189941, valid loss: 0.3340609073638916\n",
      "epoch: 21, lr: 0.01, bs: 32, btraining loss: 0.24002116918563843, valid loss: 0.395844042301178\n",
      "epoch: 22, lr: 0.01, bs: 32, btraining loss: 0.12076519429683685, valid loss: 0.12944234907627106\n",
      "epoch: 23, lr: 0.01, bs: 32, btraining loss: 0.19110165536403656, valid loss: 0.11333300173282623\n",
      "epoch: 24, lr: 0.01, bs: 32, btraining loss: 0.1665932536125183, valid loss: 0.10148138552904129\n",
      "epoch: 25, lr: 0.01, bs: 32, btraining loss: 0.22628548741340637, valid loss: 0.13148346543312073\n",
      "epoch: 26, lr: 0.01, bs: 32, btraining loss: 0.3251906633377075, valid loss: 0.15389569103717804\n",
      "epoch: 27, lr: 0.01, bs: 32, btraining loss: 0.23946698009967804, valid loss: 0.13170868158340454\n",
      "epoch: 28, lr: 0.01, bs: 32, btraining loss: 0.2874489426612854, valid loss: 0.19842828810214996\n",
      "epoch: 29, lr: 0.01, bs: 32, btraining loss: 0.31906023621559143, valid loss: 0.21588146686553955\n",
      "epoch: 30, lr: 0.01, bs: 32, btraining loss: 0.1464059203863144, valid loss: 0.1231556236743927\n",
      "epoch: 31, lr: 0.01, bs: 32, btraining loss: 0.3179328143596649, valid loss: 0.07355070114135742\n",
      "epoch: 32, lr: 0.01, bs: 32, btraining loss: 0.33335840702056885, valid loss: 0.25897783041000366\n",
      "epoch: 33, lr: 0.01, bs: 32, btraining loss: 0.2571070194244385, valid loss: 0.8748995661735535\n",
      "epoch: 34, lr: 0.01, bs: 32, btraining loss: 0.18481673300266266, valid loss: 0.13783840835094452\n",
      "epoch: 35, lr: 0.01, bs: 32, btraining loss: 0.22389395534992218, valid loss: 0.1136246845126152\n",
      "epoch: 36, lr: 0.01, bs: 32, btraining loss: 0.23412151634693146, valid loss: 0.046687375754117966\n",
      "epoch: 37, lr: 0.01, bs: 32, btraining loss: 0.25404092669487, valid loss: 0.11389023810625076\n",
      "epoch: 38, lr: 0.01, bs: 32, btraining loss: 0.5390449166297913, valid loss: 0.551872968673706\n",
      "epoch: 39, lr: 0.01, bs: 32, btraining loss: 0.1258726716041565, valid loss: 0.16574303805828094\n",
      "epoch: 40, lr: 0.01, bs: 32, btraining loss: 0.15558423101902008, valid loss: 0.6261515617370605\n",
      "epoch: 41, lr: 0.01, bs: 32, btraining loss: 0.1648235023021698, valid loss: 0.3439195156097412\n",
      "epoch: 42, lr: 0.01, bs: 32, btraining loss: 0.22443760931491852, valid loss: 0.775443434715271\n",
      "epoch: 43, lr: 0.01, bs: 32, btraining loss: 0.21186742186546326, valid loss: 0.05753450468182564\n",
      "epoch: 44, lr: 0.01, bs: 32, btraining loss: 0.16487206518650055, valid loss: 0.14008687436580658\n",
      "epoch: 45, lr: 0.01, bs: 32, btraining loss: 0.15186099708080292, valid loss: 0.06922672688961029\n",
      "epoch: 46, lr: 0.01, bs: 32, btraining loss: 0.33491867780685425, valid loss: 0.08657144010066986\n",
      "epoch: 47, lr: 0.01, bs: 32, btraining loss: 0.14819398522377014, valid loss: 0.07735946029424667\n",
      "epoch: 48, lr: 0.01, bs: 32, btraining loss: 0.18806247413158417, valid loss: 0.13390986621379852\n",
      "epoch: 49, lr: 0.01, bs: 32, btraining loss: 0.16843293607234955, valid loss: 0.12155447900295258\n",
      "epoch: 50, lr: 0.01, bs: 32, btraining loss: 0.23534272611141205, valid loss: 0.15589506924152374\n",
      "epoch: 51, lr: 0.01, bs: 32, btraining loss: 0.17971175909042358, valid loss: 0.3594233989715576\n",
      "epoch: 52, lr: 0.01, bs: 32, btraining loss: 0.16440556943416595, valid loss: 0.11115701496601105\n",
      "epoch: 53, lr: 0.01, bs: 32, btraining loss: 0.22741581499576569, valid loss: 0.238925963640213\n",
      "epoch: 54, lr: 0.01, bs: 32, btraining loss: 0.3312264680862427, valid loss: 0.09148772060871124\n",
      "epoch: 55, lr: 0.01, bs: 32, btraining loss: 0.30825531482696533, valid loss: 0.5661605596542358\n",
      "epoch: 56, lr: 0.01, bs: 32, btraining loss: 0.18711376190185547, valid loss: 0.17309559881687164\n",
      "epoch: 57, lr: 0.01, bs: 32, btraining loss: 0.13449175655841827, valid loss: 0.5975548028945923\n",
      "epoch: 58, lr: 0.01, bs: 32, btraining loss: 0.24116353690624237, valid loss: 0.057816434651613235\n",
      "epoch: 59, lr: 0.01, bs: 32, btraining loss: 0.19266219437122345, valid loss: 0.16988524794578552\n",
      "epoch: 60, lr: 0.01, bs: 32, btraining loss: 0.20107650756835938, valid loss: 0.07032464444637299\n",
      "epoch: 61, lr: 0.01, bs: 32, btraining loss: 0.1978580355644226, valid loss: 0.334057480096817\n",
      "epoch: 62, lr: 0.01, bs: 32, btraining loss: 0.2103976607322693, valid loss: 0.11792320013046265\n",
      "epoch: 63, lr: 0.01, bs: 32, btraining loss: 0.19741374254226685, valid loss: 0.05762987211346626\n",
      "epoch: 64, lr: 0.01, bs: 32, btraining loss: 0.17008155584335327, valid loss: 0.1061987355351448\n",
      "epoch: 65, lr: 0.01, bs: 32, btraining loss: 0.2294180542230606, valid loss: 0.6727237701416016\n",
      "epoch: 66, lr: 0.01, bs: 32, btraining loss: 0.24659200012683868, valid loss: 0.056205376982688904\n",
      "epoch: 67, lr: 0.01, bs: 32, btraining loss: 0.1654798835515976, valid loss: 0.15247274935245514\n",
      "epoch: 68, lr: 0.01, bs: 32, btraining loss: 0.2526342272758484, valid loss: 0.1325710117816925\n",
      "epoch: 69, lr: 0.01, bs: 32, btraining loss: 0.2163073569536209, valid loss: 0.14035582542419434\n",
      "epoch: 70, lr: 0.01, bs: 32, btraining loss: 0.14520163834095, valid loss: 0.5881087779998779\n",
      "epoch: 71, lr: 0.01, bs: 32, btraining loss: 0.2748861312866211, valid loss: 0.07947313040494919\n",
      "epoch: 72, lr: 0.01, bs: 32, btraining loss: 0.28543561697006226, valid loss: 0.18686208128929138\n",
      "epoch: 73, lr: 0.01, bs: 32, btraining loss: 0.20155134797096252, valid loss: 0.07224778085947037\n",
      "epoch: 74, lr: 0.01, bs: 32, btraining loss: 0.1415160894393921, valid loss: 0.5085384249687195\n",
      "epoch: 75, lr: 0.01, bs: 32, btraining loss: 0.16287057101726532, valid loss: 0.023513352498412132\n",
      "epoch: 76, lr: 0.01, bs: 32, btraining loss: 0.14581739902496338, valid loss: 0.20427392423152924\n",
      "epoch: 77, lr: 0.01, bs: 32, btraining loss: 0.15857619047164917, valid loss: 0.22162975370883942\n",
      "epoch: 78, lr: 0.01, bs: 32, btraining loss: 0.2335870862007141, valid loss: 0.06433726102113724\n",
      "epoch: 79, lr: 0.01, bs: 32, btraining loss: 0.1562977284193039, valid loss: 0.06503195315599442\n",
      "epoch: 80, lr: 0.01, bs: 32, btraining loss: 0.22651875019073486, valid loss: 0.6990949511528015\n",
      "epoch: 81, lr: 0.01, bs: 32, btraining loss: 0.19672639667987823, valid loss: 0.08686026930809021\n",
      "epoch: 82, lr: 0.01, bs: 32, btraining loss: 0.18374241888523102, valid loss: 0.2093062698841095\n",
      "epoch: 83, lr: 0.01, bs: 32, btraining loss: 0.20552444458007812, valid loss: 0.27687573432922363\n",
      "epoch: 84, lr: 0.01, bs: 32, btraining loss: 0.13772717118263245, valid loss: 0.6088598966598511\n"
     ]
    },
    {
     "name": "stdout",
     "output_type": "stream",
     "text": [
      "epoch: 85, lr: 0.01, bs: 32, btraining loss: 0.20617803931236267, valid loss: 0.04368310421705246\n",
      "epoch: 86, lr: 0.01, bs: 32, btraining loss: 0.27887749671936035, valid loss: 0.1301981508731842\n",
      "epoch: 87, lr: 0.01, bs: 32, btraining loss: 0.16623005270957947, valid loss: 0.09551891684532166\n",
      "epoch: 88, lr: 0.01, bs: 32, btraining loss: 0.2498883157968521, valid loss: 0.07278881222009659\n",
      "epoch: 89, lr: 0.01, bs: 32, btraining loss: 0.2552330493927002, valid loss: 0.08410249650478363\n",
      "epoch: 90, lr: 0.01, bs: 32, btraining loss: 0.2655291259288788, valid loss: 0.4106316566467285\n",
      "epoch: 91, lr: 0.01, bs: 32, btraining loss: 0.2497379034757614, valid loss: 0.08771899342536926\n",
      "epoch: 92, lr: 0.01, bs: 32, btraining loss: 0.3539169728755951, valid loss: 0.16160091757774353\n",
      "epoch: 93, lr: 0.01, bs: 32, btraining loss: 0.22796094417572021, valid loss: 0.44299566745758057\n",
      "epoch: 94, lr: 0.01, bs: 32, btraining loss: 0.22112859785556793, valid loss: 0.24217849969863892\n",
      "epoch: 95, lr: 0.01, bs: 32, btraining loss: 0.13670316338539124, valid loss: 0.1464204043149948\n",
      "epoch: 96, lr: 0.01, bs: 32, btraining loss: 0.16049522161483765, valid loss: 0.03735751658678055\n",
      "epoch: 97, lr: 0.01, bs: 32, btraining loss: 0.12879504263401031, valid loss: 0.15685944259166718\n",
      "epoch: 98, lr: 0.01, bs: 32, btraining loss: 0.2336442619562149, valid loss: 0.04395349323749542\n",
      "epoch: 99, lr: 0.01, bs: 32, btraining loss: 0.2089773714542389, valid loss: 0.04266045615077019\n",
      "epoch: 0, lr: 0.01, bs: 64, btraining loss: 0.24193279445171356, valid loss: 0.285624235868454\n",
      "epoch: 1, lr: 0.01, bs: 64, btraining loss: 0.17829662561416626, valid loss: 0.1389082968235016\n",
      "epoch: 2, lr: 0.01, bs: 64, btraining loss: 0.16791923344135284, valid loss: 0.1094069704413414\n",
      "epoch: 3, lr: 0.01, bs: 64, btraining loss: 0.1644705981016159, valid loss: 0.18869461119174957\n",
      "epoch: 4, lr: 0.01, bs: 64, btraining loss: 0.19294138252735138, valid loss: 0.11652317643165588\n",
      "epoch: 5, lr: 0.01, bs: 64, btraining loss: 0.3002130091190338, valid loss: 0.0364663265645504\n",
      "epoch: 6, lr: 0.01, bs: 64, btraining loss: 0.3017385005950928, valid loss: 0.12363161891698837\n",
      "epoch: 7, lr: 0.01, bs: 64, btraining loss: 0.1407439410686493, valid loss: 0.03037475049495697\n",
      "epoch: 8, lr: 0.01, bs: 64, btraining loss: 0.1407553255558014, valid loss: 0.7778633236885071\n",
      "epoch: 9, lr: 0.01, bs: 64, btraining loss: 0.17793799936771393, valid loss: 0.12074720859527588\n",
      "epoch: 10, lr: 0.01, bs: 64, btraining loss: 0.22806316614151, valid loss: 0.04036903753876686\n",
      "epoch: 11, lr: 0.01, bs: 64, btraining loss: 0.18800756335258484, valid loss: 1.073907494544983\n",
      "epoch: 12, lr: 0.01, bs: 64, btraining loss: 0.20546992123126984, valid loss: 0.14709462225437164\n",
      "epoch: 13, lr: 0.01, bs: 64, btraining loss: 0.23173414170742035, valid loss: 0.5721685290336609\n",
      "epoch: 14, lr: 0.01, bs: 64, btraining loss: 0.21110600233078003, valid loss: 0.5799105167388916\n",
      "epoch: 15, lr: 0.01, bs: 64, btraining loss: 0.1463266909122467, valid loss: 0.2165004014968872\n",
      "epoch: 16, lr: 0.01, bs: 64, btraining loss: 0.17748498916625977, valid loss: 0.1336565762758255\n",
      "epoch: 17, lr: 0.01, bs: 64, btraining loss: 0.22601798176765442, valid loss: 0.3421841263771057\n",
      "epoch: 18, lr: 0.01, bs: 64, btraining loss: 0.21600309014320374, valid loss: 0.17088457942008972\n",
      "epoch: 19, lr: 0.01, bs: 64, btraining loss: 0.15874740481376648, valid loss: 0.15015248954296112\n",
      "epoch: 20, lr: 0.01, bs: 64, btraining loss: 0.26613375544548035, valid loss: 0.13177147507667542\n",
      "epoch: 21, lr: 0.01, bs: 64, btraining loss: 0.12409702688455582, valid loss: 0.7549650073051453\n",
      "epoch: 22, lr: 0.01, bs: 64, btraining loss: 0.19551774859428406, valid loss: 0.28827527165412903\n",
      "epoch: 23, lr: 0.01, bs: 64, btraining loss: 0.1536305695772171, valid loss: 0.0682142823934555\n",
      "epoch: 24, lr: 0.01, bs: 64, btraining loss: 0.16859348118305206, valid loss: 0.1020117998123169\n",
      "epoch: 25, lr: 0.01, bs: 64, btraining loss: 0.14923465251922607, valid loss: 0.6199086904525757\n",
      "epoch: 26, lr: 0.01, bs: 64, btraining loss: 0.1723986715078354, valid loss: 0.5091444849967957\n",
      "epoch: 27, lr: 0.01, bs: 64, btraining loss: 0.23501135408878326, valid loss: 0.27951371669769287\n",
      "epoch: 28, lr: 0.01, bs: 64, btraining loss: 0.22398152947425842, valid loss: 0.49446114897727966\n",
      "epoch: 29, lr: 0.01, bs: 64, btraining loss: 0.17514750361442566, valid loss: 0.1612716168165207\n",
      "epoch: 30, lr: 0.01, bs: 64, btraining loss: 0.2014021873474121, valid loss: 0.4950224459171295\n",
      "epoch: 31, lr: 0.01, bs: 64, btraining loss: 0.19850674271583557, valid loss: 0.11464408040046692\n",
      "epoch: 32, lr: 0.01, bs: 64, btraining loss: 0.182663232088089, valid loss: 0.12017768621444702\n",
      "epoch: 33, lr: 0.01, bs: 64, btraining loss: 0.1738881915807724, valid loss: 0.46334975957870483\n",
      "epoch: 34, lr: 0.01, bs: 64, btraining loss: 0.25244417786598206, valid loss: 0.6391996145248413\n",
      "epoch: 35, lr: 0.01, bs: 64, btraining loss: 0.20265193283557892, valid loss: 0.08617410063743591\n",
      "epoch: 36, lr: 0.01, bs: 64, btraining loss: 0.23014385998249054, valid loss: 0.0889686867594719\n",
      "epoch: 37, lr: 0.01, bs: 64, btraining loss: 0.16268324851989746, valid loss: 0.367515504360199\n",
      "epoch: 38, lr: 0.01, bs: 64, btraining loss: 0.16490596532821655, valid loss: 0.21710732579231262\n",
      "epoch: 39, lr: 0.01, bs: 64, btraining loss: 0.14888204634189606, valid loss: 0.1317025125026703\n",
      "epoch: 40, lr: 0.01, bs: 64, btraining loss: 0.14354994893074036, valid loss: 0.5602155923843384\n",
      "epoch: 41, lr: 0.01, bs: 64, btraining loss: 0.24309246242046356, valid loss: 0.28132471442222595\n",
      "epoch: 42, lr: 0.01, bs: 64, btraining loss: 0.1782497614622116, valid loss: 0.7770556211471558\n",
      "epoch: 43, lr: 0.01, bs: 64, btraining loss: 0.19125370681285858, valid loss: 0.10242748260498047\n",
      "epoch: 44, lr: 0.01, bs: 64, btraining loss: 0.17752386629581451, valid loss: 0.38219717144966125\n",
      "epoch: 45, lr: 0.01, bs: 64, btraining loss: 0.21627718210220337, valid loss: 0.1585855334997177\n",
      "epoch: 46, lr: 0.01, bs: 64, btraining loss: 0.13954833149909973, valid loss: 0.03830796480178833\n",
      "epoch: 47, lr: 0.01, bs: 64, btraining loss: 0.2378184050321579, valid loss: 0.02373177744448185\n",
      "epoch: 48, lr: 0.01, bs: 64, btraining loss: 0.2051328420639038, valid loss: 0.08301713317632675\n",
      "epoch: 49, lr: 0.01, bs: 64, btraining loss: 0.21022579073905945, valid loss: 0.3617357015609741\n",
      "epoch: 50, lr: 0.01, bs: 64, btraining loss: 0.1934564709663391, valid loss: 0.10035115480422974\n",
      "epoch: 51, lr: 0.01, bs: 64, btraining loss: 0.24136579036712646, valid loss: 0.09254156798124313\n",
      "epoch: 52, lr: 0.01, bs: 64, btraining loss: 0.2121148407459259, valid loss: 0.24946746230125427\n",
      "epoch: 53, lr: 0.01, bs: 64, btraining loss: 0.2218191921710968, valid loss: 0.08927802741527557\n",
      "epoch: 54, lr: 0.01, bs: 64, btraining loss: 0.12580962479114532, valid loss: 0.13330577313899994\n",
      "epoch: 55, lr: 0.01, bs: 64, btraining loss: 0.2157006561756134, valid loss: 0.19354775547981262\n",
      "epoch: 56, lr: 0.01, bs: 64, btraining loss: 0.19384412467479706, valid loss: 0.1681925356388092\n",
      "epoch: 57, lr: 0.01, bs: 64, btraining loss: 0.20319810509681702, valid loss: 0.09658773243427277\n",
      "epoch: 58, lr: 0.01, bs: 64, btraining loss: 0.15710841119289398, valid loss: 0.10729784518480301\n",
      "epoch: 59, lr: 0.01, bs: 64, btraining loss: 0.24709691107273102, valid loss: 0.09662781655788422\n",
      "epoch: 60, lr: 0.01, bs: 64, btraining loss: 0.1945626437664032, valid loss: 0.33693093061447144\n",
      "epoch: 61, lr: 0.01, bs: 64, btraining loss: 0.2065526694059372, valid loss: 0.3066427707672119\n",
      "epoch: 62, lr: 0.01, bs: 64, btraining loss: 0.19711868464946747, valid loss: 0.059690073132514954\n",
      "epoch: 63, lr: 0.01, bs: 64, btraining loss: 0.14448213577270508, valid loss: 0.1289098858833313\n",
      "epoch: 64, lr: 0.01, bs: 64, btraining loss: 0.21968841552734375, valid loss: 0.08803151547908783\n",
      "epoch: 65, lr: 0.01, bs: 64, btraining loss: 0.22971752285957336, valid loss: 0.030231226235628128\n",
      "epoch: 66, lr: 0.01, bs: 64, btraining loss: 0.17987048625946045, valid loss: 0.09427271783351898\n",
      "epoch: 67, lr: 0.01, bs: 64, btraining loss: 0.14446592330932617, valid loss: 0.16035263240337372\n",
      "epoch: 68, lr: 0.01, bs: 64, btraining loss: 0.2542494833469391, valid loss: 0.27547091245651245\n",
      "epoch: 69, lr: 0.01, bs: 64, btraining loss: 0.2318185567855835, valid loss: 0.2172321081161499\n"
     ]
    },
    {
     "name": "stdout",
     "output_type": "stream",
     "text": [
      "epoch: 70, lr: 0.01, bs: 64, btraining loss: 0.1746852844953537, valid loss: 0.13959725201129913\n",
      "epoch: 71, lr: 0.01, bs: 64, btraining loss: 0.1550050526857376, valid loss: 0.13410373032093048\n",
      "epoch: 72, lr: 0.01, bs: 64, btraining loss: 0.23616857826709747, valid loss: 0.2957310378551483\n",
      "epoch: 73, lr: 0.01, bs: 64, btraining loss: 0.15014448761940002, valid loss: 0.1456078439950943\n",
      "epoch: 74, lr: 0.01, bs: 64, btraining loss: 0.3400086462497711, valid loss: 0.4472547173500061\n",
      "epoch: 75, lr: 0.01, bs: 64, btraining loss: 0.18218840658664703, valid loss: 0.14871864020824432\n",
      "epoch: 76, lr: 0.01, bs: 64, btraining loss: 0.1661524921655655, valid loss: 0.0913306400179863\n",
      "epoch: 77, lr: 0.01, bs: 64, btraining loss: 0.17897862195968628, valid loss: 0.10661643743515015\n",
      "epoch: 78, lr: 0.01, bs: 64, btraining loss: 0.16879519820213318, valid loss: 0.281566858291626\n",
      "epoch: 79, lr: 0.01, bs: 64, btraining loss: 0.204035684466362, valid loss: 0.2604861259460449\n",
      "epoch: 80, lr: 0.01, bs: 64, btraining loss: 0.1377461552619934, valid loss: 0.3288935124874115\n",
      "epoch: 81, lr: 0.01, bs: 64, btraining loss: 0.22846539318561554, valid loss: 0.08106149733066559\n",
      "epoch: 82, lr: 0.01, bs: 64, btraining loss: 0.191311776638031, valid loss: 0.08402642607688904\n",
      "epoch: 83, lr: 0.01, bs: 64, btraining loss: 0.2071709781885147, valid loss: 0.11771459877490997\n",
      "epoch: 84, lr: 0.01, bs: 64, btraining loss: 0.214167982339859, valid loss: 0.03630051761865616\n",
      "epoch: 85, lr: 0.01, bs: 64, btraining loss: 0.1775089055299759, valid loss: 0.10357276350259781\n",
      "epoch: 86, lr: 0.01, bs: 64, btraining loss: 0.18809007108211517, valid loss: 0.11760929226875305\n",
      "epoch: 87, lr: 0.01, bs: 64, btraining loss: 0.21449072659015656, valid loss: 0.08041290938854218\n",
      "epoch: 88, lr: 0.01, bs: 64, btraining loss: 0.21506646275520325, valid loss: 0.055272310972213745\n",
      "epoch: 89, lr: 0.01, bs: 64, btraining loss: 0.12237571179866791, valid loss: 0.22908951342105865\n",
      "epoch: 90, lr: 0.01, bs: 64, btraining loss: 0.15723170340061188, valid loss: 0.13422465324401855\n",
      "epoch: 91, lr: 0.01, bs: 64, btraining loss: 0.21876142919063568, valid loss: 0.017063617706298828\n",
      "epoch: 92, lr: 0.01, bs: 64, btraining loss: 0.1841953545808792, valid loss: 0.06087605655193329\n",
      "epoch: 93, lr: 0.01, bs: 64, btraining loss: 0.14577369391918182, valid loss: 0.10144003480672836\n",
      "epoch: 94, lr: 0.01, bs: 64, btraining loss: 0.15057691931724548, valid loss: 0.10644177347421646\n",
      "epoch: 95, lr: 0.01, bs: 64, btraining loss: 0.1650286763906479, valid loss: 0.2014179825782776\n",
      "epoch: 96, lr: 0.01, bs: 64, btraining loss: 0.13221029937267303, valid loss: 0.1409563571214676\n",
      "epoch: 97, lr: 0.01, bs: 64, btraining loss: 0.11074579507112503, valid loss: 0.07724957168102264\n",
      "epoch: 98, lr: 0.01, bs: 64, btraining loss: 0.18569953739643097, valid loss: 0.05625326931476593\n",
      "epoch: 99, lr: 0.01, bs: 64, btraining loss: 0.1728692650794983, valid loss: 0.1476336419582367\n"
     ]
    },
    {
     "name": "stderr",
     "output_type": "stream",
     "text": [
      "/scratch/sagar/Projects/combopt/venv/lib/python3.6/site-packages/torch/nn/modules/loss.py:97: UserWarning: Using a target size (torch.Size([128])) that is different to the input size (torch.Size([128, 1])). This will likely lead to incorrect results due to broadcasting. Please ensure they have the same size.\n",
      "  return F.l1_loss(input, target, reduction=self.reduction)\n",
      "/scratch/sagar/Projects/combopt/venv/lib/python3.6/site-packages/torch/nn/modules/loss.py:97: UserWarning: Using a target size (torch.Size([66])) that is different to the input size (torch.Size([66, 1])). This will likely lead to incorrect results due to broadcasting. Please ensure they have the same size.\n",
      "  return F.l1_loss(input, target, reduction=self.reduction)\n"
     ]
    },
    {
     "name": "stdout",
     "output_type": "stream",
     "text": [
      "epoch: 0, lr: 0.01, bs: 128, btraining loss: 0.2462499439716339, valid loss: 0.15773998200893402\n",
      "epoch: 1, lr: 0.01, bs: 128, btraining loss: 0.17410412430763245, valid loss: 0.1879466325044632\n",
      "epoch: 2, lr: 0.01, bs: 128, btraining loss: 0.18950895965099335, valid loss: 0.1878136396408081\n",
      "epoch: 3, lr: 0.01, bs: 128, btraining loss: 0.2510768175125122, valid loss: 0.18551401793956757\n",
      "epoch: 4, lr: 0.01, bs: 128, btraining loss: 0.21838273108005524, valid loss: 0.18197934329509735\n",
      "epoch: 5, lr: 0.01, bs: 128, btraining loss: 0.22598178684711456, valid loss: 0.20305757224559784\n",
      "epoch: 6, lr: 0.01, bs: 128, btraining loss: 0.1736539602279663, valid loss: 0.21951591968536377\n",
      "epoch: 7, lr: 0.01, bs: 128, btraining loss: 0.16728997230529785, valid loss: 0.18695750832557678\n",
      "epoch: 8, lr: 0.01, bs: 128, btraining loss: 0.22008229792118073, valid loss: 0.21456685662269592\n",
      "epoch: 9, lr: 0.01, bs: 128, btraining loss: 0.22053126990795135, valid loss: 0.1947254091501236\n",
      "epoch: 10, lr: 0.01, bs: 128, btraining loss: 0.19314150512218475, valid loss: 0.21887917816638947\n",
      "epoch: 11, lr: 0.01, bs: 128, btraining loss: 0.18511125445365906, valid loss: 0.202720046043396\n",
      "epoch: 12, lr: 0.01, bs: 128, btraining loss: 0.17067678272724152, valid loss: 0.17875166237354279\n",
      "epoch: 13, lr: 0.01, bs: 128, btraining loss: 0.20706787705421448, valid loss: 0.2550419569015503\n",
      "epoch: 14, lr: 0.01, bs: 128, btraining loss: 0.1470417082309723, valid loss: 0.21441000699996948\n",
      "epoch: 15, lr: 0.01, bs: 128, btraining loss: 0.15057456493377686, valid loss: 0.15151552855968475\n",
      "epoch: 16, lr: 0.01, bs: 128, btraining loss: 0.22229082882404327, valid loss: 0.24108190834522247\n",
      "epoch: 17, lr: 0.01, bs: 128, btraining loss: 0.19038453698158264, valid loss: 0.17550651729106903\n",
      "epoch: 18, lr: 0.01, bs: 128, btraining loss: 0.16103322803974152, valid loss: 0.1931859850883484\n",
      "epoch: 19, lr: 0.01, bs: 128, btraining loss: 0.23791491985321045, valid loss: 0.20906135439872742\n",
      "epoch: 20, lr: 0.01, bs: 128, btraining loss: 0.24758613109588623, valid loss: 0.21694284677505493\n",
      "epoch: 21, lr: 0.01, bs: 128, btraining loss: 0.10196030884981155, valid loss: 0.1770731657743454\n",
      "epoch: 22, lr: 0.01, bs: 128, btraining loss: 0.17573747038841248, valid loss: 0.2162681668996811\n",
      "epoch: 23, lr: 0.01, bs: 128, btraining loss: 0.1622203290462494, valid loss: 0.1701793372631073\n",
      "epoch: 24, lr: 0.01, bs: 128, btraining loss: 0.1624484658241272, valid loss: 0.2102271020412445\n",
      "epoch: 25, lr: 0.01, bs: 128, btraining loss: 0.15921422839164734, valid loss: 0.16044040024280548\n",
      "epoch: 26, lr: 0.01, bs: 128, btraining loss: 0.1505863517522812, valid loss: 0.18741413950920105\n",
      "epoch: 27, lr: 0.01, bs: 128, btraining loss: 0.2182106226682663, valid loss: 0.2331448793411255\n",
      "epoch: 28, lr: 0.01, bs: 128, btraining loss: 0.14798225462436676, valid loss: 0.202765554189682\n",
      "epoch: 29, lr: 0.01, bs: 128, btraining loss: 0.18524454534053802, valid loss: 0.17608138918876648\n",
      "epoch: 30, lr: 0.01, bs: 128, btraining loss: 0.20736266672611237, valid loss: 0.22200974822044373\n",
      "epoch: 31, lr: 0.01, bs: 128, btraining loss: 0.12442484498023987, valid loss: 0.2042631208896637\n",
      "epoch: 32, lr: 0.01, bs: 128, btraining loss: 0.17878831923007965, valid loss: 0.20624281466007233\n",
      "epoch: 33, lr: 0.01, bs: 128, btraining loss: 0.21518957614898682, valid loss: 0.1841849684715271\n",
      "epoch: 34, lr: 0.01, bs: 128, btraining loss: 0.22257927060127258, valid loss: 0.17191137373447418\n",
      "epoch: 35, lr: 0.01, bs: 128, btraining loss: 0.21665140986442566, valid loss: 0.22980943322181702\n",
      "epoch: 36, lr: 0.01, bs: 128, btraining loss: 0.13553737103939056, valid loss: 0.19202055037021637\n",
      "epoch: 37, lr: 0.01, bs: 128, btraining loss: 0.17480212450027466, valid loss: 0.1789080798625946\n",
      "epoch: 38, lr: 0.01, bs: 128, btraining loss: 0.2798317074775696, valid loss: 0.22896462678909302\n",
      "epoch: 39, lr: 0.01, bs: 128, btraining loss: 0.18026293814182281, valid loss: 0.18942636251449585\n",
      "epoch: 40, lr: 0.01, bs: 128, btraining loss: 0.16483812034130096, valid loss: 0.21043598651885986\n",
      "epoch: 41, lr: 0.01, bs: 128, btraining loss: 0.165915846824646, valid loss: 0.20799142122268677\n",
      "epoch: 42, lr: 0.01, bs: 128, btraining loss: 0.20952802896499634, valid loss: 0.23950259387493134\n",
      "epoch: 43, lr: 0.01, bs: 128, btraining loss: 0.24949465692043304, valid loss: 0.1998479813337326\n",
      "epoch: 44, lr: 0.01, bs: 128, btraining loss: 0.1683000773191452, valid loss: 0.24008412659168243\n",
      "epoch: 45, lr: 0.01, bs: 128, btraining loss: 0.20133143663406372, valid loss: 0.19552774727344513\n",
      "epoch: 46, lr: 0.01, bs: 128, btraining loss: 0.1883661448955536, valid loss: 0.18059101700782776\n",
      "epoch: 47, lr: 0.01, bs: 128, btraining loss: 0.2319885641336441, valid loss: 0.20612235367298126\n",
      "epoch: 48, lr: 0.01, bs: 128, btraining loss: 0.17720375955104828, valid loss: 0.23266717791557312\n",
      "epoch: 49, lr: 0.01, bs: 128, btraining loss: 0.18970736861228943, valid loss: 0.16579970717430115\n",
      "epoch: 50, lr: 0.01, bs: 128, btraining loss: 0.23692944645881653, valid loss: 0.2554607391357422\n",
      "epoch: 51, lr: 0.01, bs: 128, btraining loss: 0.23952679336071014, valid loss: 0.17053449153900146\n",
      "epoch: 52, lr: 0.01, bs: 128, btraining loss: 0.21016700565814972, valid loss: 0.14743687212467194\n",
      "epoch: 53, lr: 0.01, bs: 128, btraining loss: 0.1532164216041565, valid loss: 0.17204588651657104\n",
      "epoch: 54, lr: 0.01, bs: 128, btraining loss: 0.14349505305290222, valid loss: 0.17068493366241455\n",
      "epoch: 55, lr: 0.01, bs: 128, btraining loss: 0.1908504217863083, valid loss: 0.18087199330329895\n",
      "epoch: 56, lr: 0.01, bs: 128, btraining loss: 0.2285904437303543, valid loss: 0.2146293818950653\n",
      "epoch: 57, lr: 0.01, bs: 128, btraining loss: 0.15514855086803436, valid loss: 0.22526462376117706\n",
      "epoch: 58, lr: 0.01, bs: 128, btraining loss: 0.23860201239585876, valid loss: 0.22003234922885895\n",
      "epoch: 59, lr: 0.01, bs: 128, btraining loss: 0.17592236399650574, valid loss: 0.2093803882598877\n",
      "epoch: 60, lr: 0.01, bs: 128, btraining loss: 0.1532810926437378, valid loss: 0.27327603101730347\n",
      "epoch: 61, lr: 0.01, bs: 128, btraining loss: 0.16235658526420593, valid loss: 0.20498085021972656\n",
      "epoch: 62, lr: 0.01, bs: 128, btraining loss: 0.15762928128242493, valid loss: 0.20576635003089905\n",
      "epoch: 63, lr: 0.01, bs: 128, btraining loss: 0.20724231004714966, valid loss: 0.17926499247550964\n",
      "epoch: 64, lr: 0.01, bs: 128, btraining loss: 0.20738282799720764, valid loss: 0.19625404477119446\n",
      "epoch: 65, lr: 0.01, bs: 128, btraining loss: 0.24896319210529327, valid loss: 0.21058379113674164\n",
      "epoch: 66, lr: 0.01, bs: 128, btraining loss: 0.14998136460781097, valid loss: 0.17472949624061584\n",
      "epoch: 67, lr: 0.01, bs: 128, btraining loss: 0.2493821680545807, valid loss: 0.18002080917358398\n",
      "epoch: 68, lr: 0.01, bs: 128, btraining loss: 0.2185293436050415, valid loss: 0.17596125602722168\n",
      "epoch: 69, lr: 0.01, bs: 128, btraining loss: 0.17117272317409515, valid loss: 0.23291856050491333\n",
      "epoch: 70, lr: 0.01, bs: 128, btraining loss: 0.13416671752929688, valid loss: 0.18692104518413544\n",
      "epoch: 71, lr: 0.01, bs: 128, btraining loss: 0.211961030960083, valid loss: 0.19550584256649017\n",
      "epoch: 72, lr: 0.01, bs: 128, btraining loss: 0.15016448497772217, valid loss: 0.26089346408843994\n",
      "epoch: 73, lr: 0.01, bs: 128, btraining loss: 0.1358179897069931, valid loss: 0.20446401834487915\n",
      "epoch: 74, lr: 0.01, bs: 128, btraining loss: 0.2527860403060913, valid loss: 0.21273940801620483\n",
      "epoch: 75, lr: 0.01, bs: 128, btraining loss: 0.24815644323825836, valid loss: 0.2124072164297104\n",
      "epoch: 76, lr: 0.01, bs: 128, btraining loss: 0.20179638266563416, valid loss: 0.23527604341506958\n",
      "epoch: 77, lr: 0.01, bs: 128, btraining loss: 0.15935391187667847, valid loss: 0.19524748623371124\n",
      "epoch: 78, lr: 0.01, bs: 128, btraining loss: 0.1893243044614792, valid loss: 0.24472321569919586\n",
      "epoch: 79, lr: 0.01, bs: 128, btraining loss: 0.15090353786945343, valid loss: 0.24256551265716553\n",
      "epoch: 80, lr: 0.01, bs: 128, btraining loss: 0.16171009838581085, valid loss: 0.2376016080379486\n",
      "epoch: 81, lr: 0.01, bs: 128, btraining loss: 0.19580091536045074, valid loss: 0.19811078906059265\n",
      "epoch: 82, lr: 0.01, bs: 128, btraining loss: 0.3072807788848877, valid loss: 0.20324818789958954\n",
      "epoch: 83, lr: 0.01, bs: 128, btraining loss: 0.16135482490062714, valid loss: 0.18316924571990967\n"
     ]
    },
    {
     "name": "stdout",
     "output_type": "stream",
     "text": [
      "epoch: 84, lr: 0.01, bs: 128, btraining loss: 0.21754783391952515, valid loss: 0.28944000601768494\n",
      "epoch: 85, lr: 0.01, bs: 128, btraining loss: 0.10192521661520004, valid loss: 0.22301727533340454\n",
      "epoch: 86, lr: 0.01, bs: 128, btraining loss: 0.244963139295578, valid loss: 0.17978191375732422\n",
      "epoch: 87, lr: 0.01, bs: 128, btraining loss: 0.20832401514053345, valid loss: 0.220857173204422\n",
      "epoch: 88, lr: 0.01, bs: 128, btraining loss: 0.15976960957050323, valid loss: 0.23112545907497406\n",
      "epoch: 89, lr: 0.01, bs: 128, btraining loss: 0.22629880905151367, valid loss: 0.18064527213573456\n",
      "epoch: 90, lr: 0.01, bs: 128, btraining loss: 0.19466866552829742, valid loss: 0.19486075639724731\n",
      "epoch: 91, lr: 0.01, bs: 128, btraining loss: 0.14782719314098358, valid loss: 0.16212134063243866\n",
      "epoch: 92, lr: 0.01, bs: 128, btraining loss: 0.1606265902519226, valid loss: 0.244197279214859\n",
      "epoch: 93, lr: 0.01, bs: 128, btraining loss: 0.1708143651485443, valid loss: 0.19383607804775238\n",
      "epoch: 94, lr: 0.01, bs: 128, btraining loss: 0.18204183876514435, valid loss: 0.24386101961135864\n",
      "epoch: 95, lr: 0.01, bs: 128, btraining loss: 0.1438606232404709, valid loss: 0.20558667182922363\n",
      "epoch: 96, lr: 0.01, bs: 128, btraining loss: 0.1852099597454071, valid loss: 0.18385179340839386\n",
      "epoch: 97, lr: 0.01, bs: 128, btraining loss: 0.1988152116537094, valid loss: 0.2972375154495239\n",
      "epoch: 98, lr: 0.01, bs: 128, btraining loss: 0.20961309969425201, valid loss: 0.215301513671875\n",
      "epoch: 99, lr: 0.01, bs: 128, btraining loss: 0.19528283178806305, valid loss: 0.20021091401576996\n",
      "epoch: 0, lr: 0.001, bs: 32, btraining loss: 0.1593259572982788, valid loss: 0.13609054684638977\n",
      "epoch: 1, lr: 0.001, bs: 32, btraining loss: 0.15829505026340485, valid loss: 0.08909308165311813\n",
      "epoch: 2, lr: 0.001, bs: 32, btraining loss: 0.1411513388156891, valid loss: 0.5755797624588013\n",
      "epoch: 3, lr: 0.001, bs: 32, btraining loss: 0.26705604791641235, valid loss: 0.03132328763604164\n",
      "epoch: 4, lr: 0.001, bs: 32, btraining loss: 0.1639418601989746, valid loss: 0.12320667505264282\n",
      "epoch: 5, lr: 0.001, bs: 32, btraining loss: 0.14368124306201935, valid loss: 0.18712443113327026\n",
      "epoch: 6, lr: 0.001, bs: 32, btraining loss: 0.1773928552865982, valid loss: 0.11637426167726517\n",
      "epoch: 7, lr: 0.001, bs: 32, btraining loss: 0.07939410209655762, valid loss: 0.15495048463344574\n",
      "epoch: 8, lr: 0.001, bs: 32, btraining loss: 0.15501579642295837, valid loss: 0.0705714225769043\n",
      "epoch: 9, lr: 0.001, bs: 32, btraining loss: 0.15455882251262665, valid loss: 0.4865872263908386\n",
      "epoch: 10, lr: 0.001, bs: 32, btraining loss: 0.2854748070240021, valid loss: 0.12277261912822723\n",
      "epoch: 11, lr: 0.001, bs: 32, btraining loss: 0.15323863923549652, valid loss: 0.2845653295516968\n",
      "epoch: 12, lr: 0.001, bs: 32, btraining loss: 0.21188700199127197, valid loss: 0.051636263728141785\n",
      "epoch: 13, lr: 0.001, bs: 32, btraining loss: 0.19964048266410828, valid loss: 0.19934684038162231\n",
      "epoch: 14, lr: 0.001, bs: 32, btraining loss: 0.3254900574684143, valid loss: 0.1002378761768341\n",
      "epoch: 15, lr: 0.001, bs: 32, btraining loss: 0.17351919412612915, valid loss: 0.06251256167888641\n",
      "epoch: 16, lr: 0.001, bs: 32, btraining loss: 0.12903153896331787, valid loss: 0.10857120156288147\n",
      "epoch: 17, lr: 0.001, bs: 32, btraining loss: 0.12287412583827972, valid loss: 0.12368109822273254\n",
      "epoch: 18, lr: 0.001, bs: 32, btraining loss: 0.2473907619714737, valid loss: 0.3660716116428375\n",
      "epoch: 19, lr: 0.001, bs: 32, btraining loss: 0.19330009818077087, valid loss: 0.049373216927051544\n",
      "epoch: 20, lr: 0.001, bs: 32, btraining loss: 0.08150570839643478, valid loss: 0.08931364119052887\n",
      "epoch: 21, lr: 0.001, bs: 32, btraining loss: 0.18251478672027588, valid loss: 0.15669208765029907\n",
      "epoch: 22, lr: 0.001, bs: 32, btraining loss: 0.20914529263973236, valid loss: 0.07706525176763535\n",
      "epoch: 23, lr: 0.001, bs: 32, btraining loss: 0.2980619966983795, valid loss: 0.17563559114933014\n",
      "epoch: 24, lr: 0.001, bs: 32, btraining loss: 0.231143981218338, valid loss: 0.207188218832016\n",
      "epoch: 25, lr: 0.001, bs: 32, btraining loss: 0.1735447347164154, valid loss: 0.20069219172000885\n",
      "epoch: 26, lr: 0.001, bs: 32, btraining loss: 0.20469120144844055, valid loss: 0.6142796874046326\n",
      "epoch: 27, lr: 0.001, bs: 32, btraining loss: 0.323151558637619, valid loss: 0.13868556916713715\n",
      "epoch: 28, lr: 0.001, bs: 32, btraining loss: 0.20682968199253082, valid loss: 0.7770652770996094\n",
      "epoch: 29, lr: 0.001, bs: 32, btraining loss: 0.19307000935077667, valid loss: 0.7971382141113281\n",
      "epoch: 30, lr: 0.001, bs: 32, btraining loss: 0.22561202943325043, valid loss: 0.15676213800907135\n",
      "epoch: 31, lr: 0.001, bs: 32, btraining loss: 0.2770945429801941, valid loss: 0.11219343543052673\n",
      "epoch: 32, lr: 0.001, bs: 32, btraining loss: 0.13057486712932587, valid loss: 0.08457113057374954\n",
      "epoch: 33, lr: 0.001, bs: 32, btraining loss: 0.21566058695316315, valid loss: 0.046963803470134735\n",
      "epoch: 34, lr: 0.001, bs: 32, btraining loss: 0.23224197328090668, valid loss: 0.14128008484840393\n",
      "epoch: 35, lr: 0.001, bs: 32, btraining loss: 0.16057652235031128, valid loss: 0.21115773916244507\n",
      "epoch: 36, lr: 0.001, bs: 32, btraining loss: 0.15114237368106842, valid loss: 0.18759579956531525\n",
      "epoch: 37, lr: 0.001, bs: 32, btraining loss: 0.11711778491735458, valid loss: 0.12807691097259521\n",
      "epoch: 38, lr: 0.001, bs: 32, btraining loss: 0.14711378514766693, valid loss: 0.4698455035686493\n",
      "epoch: 39, lr: 0.001, bs: 32, btraining loss: 0.14897453784942627, valid loss: 0.4462870955467224\n",
      "epoch: 40, lr: 0.001, bs: 32, btraining loss: 0.22536110877990723, valid loss: 0.5472447276115417\n",
      "epoch: 41, lr: 0.001, bs: 32, btraining loss: 0.25710591673851013, valid loss: 0.032762426882982254\n",
      "epoch: 42, lr: 0.001, bs: 32, btraining loss: 0.20164363086223602, valid loss: 0.2483801692724228\n",
      "epoch: 43, lr: 0.001, bs: 32, btraining loss: 0.2553216218948364, valid loss: 0.1041674092411995\n",
      "epoch: 44, lr: 0.001, bs: 32, btraining loss: 0.17318643629550934, valid loss: 0.1656983494758606\n",
      "epoch: 45, lr: 0.001, bs: 32, btraining loss: 0.15252786874771118, valid loss: 0.16373774409294128\n",
      "epoch: 46, lr: 0.001, bs: 32, btraining loss: 0.12035879492759705, valid loss: 0.2773028314113617\n",
      "epoch: 47, lr: 0.001, bs: 32, btraining loss: 0.1494482308626175, valid loss: 0.07406692951917648\n",
      "epoch: 48, lr: 0.001, bs: 32, btraining loss: 0.34706205129623413, valid loss: 0.4824883043766022\n",
      "epoch: 49, lr: 0.001, bs: 32, btraining loss: 0.21186162531375885, valid loss: 0.09728173911571503\n",
      "epoch: 50, lr: 0.001, bs: 32, btraining loss: 0.1775800734758377, valid loss: 0.16266405582427979\n",
      "epoch: 51, lr: 0.001, bs: 32, btraining loss: 0.2770601212978363, valid loss: 0.13850519061088562\n",
      "epoch: 52, lr: 0.001, bs: 32, btraining loss: 0.30980363488197327, valid loss: 0.10235826671123505\n",
      "epoch: 53, lr: 0.001, bs: 32, btraining loss: 0.1586802899837494, valid loss: 0.1414739489555359\n",
      "epoch: 54, lr: 0.001, bs: 32, btraining loss: 0.17963840067386627, valid loss: 0.12259431183338165\n",
      "epoch: 55, lr: 0.001, bs: 32, btraining loss: 0.19427433609962463, valid loss: 0.2714087963104248\n",
      "epoch: 56, lr: 0.001, bs: 32, btraining loss: 0.10494354367256165, valid loss: 0.14189578592777252\n",
      "epoch: 57, lr: 0.001, bs: 32, btraining loss: 0.23984862864017487, valid loss: 0.25672563910484314\n",
      "epoch: 58, lr: 0.001, bs: 32, btraining loss: 0.3025026321411133, valid loss: 0.14122356474399567\n",
      "epoch: 59, lr: 0.001, bs: 32, btraining loss: 0.2484385371208191, valid loss: 0.29373738169670105\n",
      "epoch: 60, lr: 0.001, bs: 32, btraining loss: 0.1593087613582611, valid loss: 0.19541306793689728\n",
      "epoch: 61, lr: 0.001, bs: 32, btraining loss: 0.2092539668083191, valid loss: 0.04581836983561516\n",
      "epoch: 62, lr: 0.001, bs: 32, btraining loss: 0.1388903260231018, valid loss: 0.0853722020983696\n",
      "epoch: 63, lr: 0.001, bs: 32, btraining loss: 0.2807074785232544, valid loss: 0.13909907639026642\n",
      "epoch: 64, lr: 0.001, bs: 32, btraining loss: 0.2710188329219818, valid loss: 0.12711554765701294\n",
      "epoch: 65, lr: 0.001, bs: 32, btraining loss: 0.2287411391735077, valid loss: 0.0754491314291954\n",
      "epoch: 66, lr: 0.001, bs: 32, btraining loss: 0.158212810754776, valid loss: 0.13695628941059113\n",
      "epoch: 67, lr: 0.001, bs: 32, btraining loss: 0.19938763976097107, valid loss: 0.6498271226882935\n"
     ]
    },
    {
     "name": "stdout",
     "output_type": "stream",
     "text": [
      "epoch: 68, lr: 0.001, bs: 32, btraining loss: 0.2300819307565689, valid loss: 0.6990950107574463\n",
      "epoch: 69, lr: 0.001, bs: 32, btraining loss: 0.10540086030960083, valid loss: 0.6875508427619934\n",
      "epoch: 70, lr: 0.001, bs: 32, btraining loss: 0.1557997167110443, valid loss: 0.2231239527463913\n",
      "epoch: 71, lr: 0.001, bs: 32, btraining loss: 0.09745059907436371, valid loss: 0.5312969088554382\n",
      "epoch: 72, lr: 0.001, bs: 32, btraining loss: 0.15657994151115417, valid loss: 0.08017559349536896\n",
      "epoch: 73, lr: 0.001, bs: 32, btraining loss: 0.1842527687549591, valid loss: 0.2081259936094284\n",
      "epoch: 74, lr: 0.001, bs: 32, btraining loss: 0.23900507390499115, valid loss: 0.14955392479896545\n",
      "epoch: 75, lr: 0.001, bs: 32, btraining loss: 0.279443621635437, valid loss: 0.07971204817295074\n",
      "epoch: 76, lr: 0.001, bs: 32, btraining loss: 0.15267950296401978, valid loss: 0.19539755582809448\n",
      "epoch: 77, lr: 0.001, bs: 32, btraining loss: 0.1663547158241272, valid loss: 0.17653816938400269\n",
      "epoch: 78, lr: 0.001, bs: 32, btraining loss: 0.21566666662693024, valid loss: 0.11217507719993591\n",
      "epoch: 79, lr: 0.001, bs: 32, btraining loss: 0.257223516702652, valid loss: 0.1068800836801529\n",
      "epoch: 80, lr: 0.001, bs: 32, btraining loss: 0.1823802888393402, valid loss: 0.1784428060054779\n",
      "epoch: 81, lr: 0.001, bs: 32, btraining loss: 0.19988290965557098, valid loss: 0.12784622609615326\n",
      "epoch: 82, lr: 0.001, bs: 32, btraining loss: 0.1749613732099533, valid loss: 0.07968443632125854\n",
      "epoch: 83, lr: 0.001, bs: 32, btraining loss: 0.19733163714408875, valid loss: 0.1282189041376114\n",
      "epoch: 84, lr: 0.001, bs: 32, btraining loss: 0.1138911098241806, valid loss: 0.13216720521450043\n",
      "epoch: 85, lr: 0.001, bs: 32, btraining loss: 0.2744624614715576, valid loss: 0.13775517046451569\n",
      "epoch: 86, lr: 0.001, bs: 32, btraining loss: 0.26750120520591736, valid loss: 0.11951123923063278\n",
      "epoch: 87, lr: 0.001, bs: 32, btraining loss: 0.1706506311893463, valid loss: 0.3147025406360626\n",
      "epoch: 88, lr: 0.001, bs: 32, btraining loss: 0.19659511744976044, valid loss: 0.05040987581014633\n",
      "epoch: 89, lr: 0.001, bs: 32, btraining loss: 0.27129673957824707, valid loss: 0.08933007717132568\n",
      "epoch: 90, lr: 0.001, bs: 32, btraining loss: 0.1701352596282959, valid loss: 0.06981068104505539\n",
      "epoch: 91, lr: 0.001, bs: 32, btraining loss: 0.1915869563817978, valid loss: 0.12300515919923782\n",
      "epoch: 92, lr: 0.001, bs: 32, btraining loss: 0.09241344034671783, valid loss: 0.11192823946475983\n",
      "epoch: 93, lr: 0.001, bs: 32, btraining loss: 0.22748105227947235, valid loss: 0.08196716755628586\n",
      "epoch: 94, lr: 0.001, bs: 32, btraining loss: 0.1715284287929535, valid loss: 0.1801200956106186\n",
      "epoch: 95, lr: 0.001, bs: 32, btraining loss: 0.2273479849100113, valid loss: 0.22118674218654633\n",
      "epoch: 96, lr: 0.001, bs: 32, btraining loss: 0.28479066491127014, valid loss: 0.04891135171055794\n",
      "epoch: 97, lr: 0.001, bs: 32, btraining loss: 0.22108986973762512, valid loss: 0.19482284784317017\n",
      "epoch: 98, lr: 0.001, bs: 32, btraining loss: 0.2157866209745407, valid loss: 0.4013802409172058\n",
      "epoch: 99, lr: 0.001, bs: 32, btraining loss: 0.1305132359266281, valid loss: 0.0046879807487130165\n",
      "epoch: 0, lr: 0.001, bs: 64, btraining loss: 0.24635063111782074, valid loss: 0.4253690242767334\n",
      "epoch: 1, lr: 0.001, bs: 64, btraining loss: 0.17247849702835083, valid loss: 0.07484747469425201\n",
      "epoch: 2, lr: 0.001, bs: 64, btraining loss: 0.19072309136390686, valid loss: 0.11175629496574402\n",
      "epoch: 3, lr: 0.001, bs: 64, btraining loss: 0.13402992486953735, valid loss: 0.08319803327322006\n",
      "epoch: 4, lr: 0.001, bs: 64, btraining loss: 0.19152547419071198, valid loss: 0.1995311826467514\n",
      "epoch: 5, lr: 0.001, bs: 64, btraining loss: 0.1673467755317688, valid loss: 1.0129752159118652\n",
      "epoch: 6, lr: 0.001, bs: 64, btraining loss: 0.1468019038438797, valid loss: 0.15571357309818268\n",
      "epoch: 7, lr: 0.001, bs: 64, btraining loss: 0.17203082144260406, valid loss: 0.48129719495773315\n",
      "epoch: 8, lr: 0.001, bs: 64, btraining loss: 0.14914514124393463, valid loss: 0.16716748476028442\n",
      "epoch: 9, lr: 0.001, bs: 64, btraining loss: 0.18282972276210785, valid loss: 0.5412409901618958\n",
      "epoch: 10, lr: 0.001, bs: 64, btraining loss: 0.18008139729499817, valid loss: 0.5672943592071533\n",
      "epoch: 11, lr: 0.001, bs: 64, btraining loss: 0.17186452448368073, valid loss: 0.09294489771127701\n",
      "epoch: 12, lr: 0.001, bs: 64, btraining loss: 0.27138301730155945, valid loss: 0.1022258847951889\n",
      "epoch: 13, lr: 0.001, bs: 64, btraining loss: 0.1603805422782898, valid loss: 0.09381033480167389\n",
      "epoch: 14, lr: 0.001, bs: 64, btraining loss: 0.16890235245227814, valid loss: 0.48629069328308105\n",
      "epoch: 15, lr: 0.001, bs: 64, btraining loss: 0.18871453404426575, valid loss: 0.04883687570691109\n",
      "epoch: 16, lr: 0.001, bs: 64, btraining loss: 0.1834888607263565, valid loss: 0.1345674991607666\n",
      "epoch: 17, lr: 0.001, bs: 64, btraining loss: 0.1476365327835083, valid loss: 0.8147526383399963\n",
      "epoch: 18, lr: 0.001, bs: 64, btraining loss: 0.17529146373271942, valid loss: 0.1231851875782013\n",
      "epoch: 19, lr: 0.001, bs: 64, btraining loss: 0.21526311337947845, valid loss: 0.8853162527084351\n",
      "epoch: 20, lr: 0.001, bs: 64, btraining loss: 0.23369742929935455, valid loss: 0.06686791777610779\n",
      "epoch: 21, lr: 0.001, bs: 64, btraining loss: 0.2715826630592346, valid loss: 0.06208592653274536\n",
      "epoch: 22, lr: 0.001, bs: 64, btraining loss: 0.2278728038072586, valid loss: 0.500336766242981\n",
      "epoch: 23, lr: 0.001, bs: 64, btraining loss: 0.2095860242843628, valid loss: 0.12868398427963257\n",
      "epoch: 24, lr: 0.001, bs: 64, btraining loss: 0.25299546122550964, valid loss: 0.11632072180509567\n",
      "epoch: 25, lr: 0.001, bs: 64, btraining loss: 0.15862424671649933, valid loss: 0.03065422549843788\n",
      "epoch: 26, lr: 0.001, bs: 64, btraining loss: 0.24428249895572662, valid loss: 0.09892363101243973\n",
      "epoch: 27, lr: 0.001, bs: 64, btraining loss: 0.18621158599853516, valid loss: 0.1016748696565628\n",
      "epoch: 28, lr: 0.001, bs: 64, btraining loss: 0.19416740536689758, valid loss: 0.11377730965614319\n",
      "epoch: 29, lr: 0.001, bs: 64, btraining loss: 0.2944035828113556, valid loss: 0.26406434178352356\n",
      "epoch: 30, lr: 0.001, bs: 64, btraining loss: 0.21357165277004242, valid loss: 0.15812835097312927\n",
      "epoch: 31, lr: 0.001, bs: 64, btraining loss: 0.16293516755104065, valid loss: 0.15355077385902405\n",
      "epoch: 32, lr: 0.001, bs: 64, btraining loss: 0.1878640502691269, valid loss: 0.09964940696954727\n",
      "epoch: 33, lr: 0.001, bs: 64, btraining loss: 0.19246645271778107, valid loss: 0.07327103614807129\n",
      "epoch: 34, lr: 0.001, bs: 64, btraining loss: 0.1473095566034317, valid loss: 0.0907849594950676\n",
      "epoch: 35, lr: 0.001, bs: 64, btraining loss: 0.18293637037277222, valid loss: 0.07241742312908173\n",
      "epoch: 36, lr: 0.001, bs: 64, btraining loss: 0.16082929074764252, valid loss: 0.14038531482219696\n",
      "epoch: 37, lr: 0.001, bs: 64, btraining loss: 0.1610742062330246, valid loss: 0.01521739549934864\n",
      "epoch: 38, lr: 0.001, bs: 64, btraining loss: 0.1999460756778717, valid loss: 0.14807817339897156\n",
      "epoch: 39, lr: 0.001, bs: 64, btraining loss: 0.1667725145816803, valid loss: 0.7866167426109314\n",
      "epoch: 40, lr: 0.001, bs: 64, btraining loss: 0.21157556772232056, valid loss: 0.17794331908226013\n",
      "epoch: 41, lr: 0.001, bs: 64, btraining loss: 0.21987858414649963, valid loss: 0.11758170276880264\n",
      "epoch: 42, lr: 0.001, bs: 64, btraining loss: 0.22370323538780212, valid loss: 0.3242940604686737\n",
      "epoch: 43, lr: 0.001, bs: 64, btraining loss: 0.18133991956710815, valid loss: 0.11778717488050461\n",
      "epoch: 44, lr: 0.001, bs: 64, btraining loss: 0.23170067369937897, valid loss: 0.40044838190078735\n",
      "epoch: 45, lr: 0.001, bs: 64, btraining loss: 0.23255696892738342, valid loss: 0.2819903492927551\n",
      "epoch: 46, lr: 0.001, bs: 64, btraining loss: 0.24888569116592407, valid loss: 0.08225840330123901\n",
      "epoch: 47, lr: 0.001, bs: 64, btraining loss: 0.2430756837129593, valid loss: 0.7145686149597168\n",
      "epoch: 48, lr: 0.001, bs: 64, btraining loss: 0.1268194019794464, valid loss: 0.08420433849096298\n",
      "epoch: 49, lr: 0.001, bs: 64, btraining loss: 0.18750110268592834, valid loss: 0.10163916647434235\n",
      "epoch: 50, lr: 0.001, bs: 64, btraining loss: 0.24927464127540588, valid loss: 0.05872549116611481\n",
      "epoch: 51, lr: 0.001, bs: 64, btraining loss: 0.1913996934890747, valid loss: 0.08850570768117905\n"
     ]
    },
    {
     "name": "stdout",
     "output_type": "stream",
     "text": [
      "epoch: 52, lr: 0.001, bs: 64, btraining loss: 0.2325618863105774, valid loss: 0.08784695714712143\n",
      "epoch: 53, lr: 0.001, bs: 64, btraining loss: 0.16911444067955017, valid loss: 0.05044303461909294\n",
      "epoch: 54, lr: 0.001, bs: 64, btraining loss: 0.19800862669944763, valid loss: 0.21563392877578735\n",
      "epoch: 55, lr: 0.001, bs: 64, btraining loss: 0.1650567650794983, valid loss: 0.18472445011138916\n",
      "epoch: 56, lr: 0.001, bs: 64, btraining loss: 0.2251727283000946, valid loss: 0.17548580467700958\n",
      "epoch: 57, lr: 0.001, bs: 64, btraining loss: 0.172071635723114, valid loss: 0.10651221871376038\n",
      "epoch: 58, lr: 0.001, bs: 64, btraining loss: 0.18242493271827698, valid loss: 0.16538779437541962\n",
      "epoch: 59, lr: 0.001, bs: 64, btraining loss: 0.16539797186851501, valid loss: 0.05886217951774597\n",
      "epoch: 60, lr: 0.001, bs: 64, btraining loss: 0.2284504622220993, valid loss: 0.07284128665924072\n",
      "epoch: 61, lr: 0.001, bs: 64, btraining loss: 0.2356988489627838, valid loss: 0.13166238367557526\n",
      "epoch: 62, lr: 0.001, bs: 64, btraining loss: 0.15760071575641632, valid loss: 0.07033424824476242\n",
      "epoch: 63, lr: 0.001, bs: 64, btraining loss: 0.15050746500492096, valid loss: 0.17899608612060547\n",
      "epoch: 64, lr: 0.001, bs: 64, btraining loss: 0.25145193934440613, valid loss: 0.14723265171051025\n",
      "epoch: 65, lr: 0.001, bs: 64, btraining loss: 0.17041386663913727, valid loss: 0.09816151857376099\n",
      "epoch: 66, lr: 0.001, bs: 64, btraining loss: 0.13390664756298065, valid loss: 0.11765404790639877\n",
      "epoch: 67, lr: 0.001, bs: 64, btraining loss: 0.27930954098701477, valid loss: 0.12717106938362122\n",
      "epoch: 68, lr: 0.001, bs: 64, btraining loss: 0.11703889816999435, valid loss: 0.18779805302619934\n",
      "epoch: 69, lr: 0.001, bs: 64, btraining loss: 0.2359190732240677, valid loss: 0.36038151383399963\n",
      "epoch: 70, lr: 0.001, bs: 64, btraining loss: 0.23572814464569092, valid loss: 0.15680330991744995\n",
      "epoch: 71, lr: 0.001, bs: 64, btraining loss: 0.17002519965171814, valid loss: 0.44996345043182373\n",
      "epoch: 72, lr: 0.001, bs: 64, btraining loss: 0.1725645512342453, valid loss: 0.5304642915725708\n",
      "epoch: 73, lr: 0.001, bs: 64, btraining loss: 0.22714021801948547, valid loss: 0.14229565858840942\n",
      "epoch: 74, lr: 0.001, bs: 64, btraining loss: 0.19951952993869781, valid loss: 0.012870434671640396\n",
      "epoch: 75, lr: 0.001, bs: 64, btraining loss: 0.17503416538238525, valid loss: 0.07923130691051483\n",
      "epoch: 76, lr: 0.001, bs: 64, btraining loss: 0.2072763293981552, valid loss: 0.0684380829334259\n",
      "epoch: 77, lr: 0.001, bs: 64, btraining loss: 0.17878538370132446, valid loss: 0.1995946168899536\n",
      "epoch: 78, lr: 0.001, bs: 64, btraining loss: 0.15827211737632751, valid loss: 0.2147255390882492\n",
      "epoch: 79, lr: 0.001, bs: 64, btraining loss: 0.19558371603488922, valid loss: 0.13611918687820435\n",
      "epoch: 80, lr: 0.001, bs: 64, btraining loss: 0.18962562084197998, valid loss: 0.5366195440292358\n",
      "epoch: 81, lr: 0.001, bs: 64, btraining loss: 0.16561809182167053, valid loss: 0.38540124893188477\n",
      "epoch: 82, lr: 0.001, bs: 64, btraining loss: 0.18949638307094574, valid loss: 0.15447990596294403\n",
      "epoch: 83, lr: 0.001, bs: 64, btraining loss: 0.2831391990184784, valid loss: 0.11695194989442825\n",
      "epoch: 84, lr: 0.001, bs: 64, btraining loss: 0.18819081783294678, valid loss: 0.03738728165626526\n",
      "epoch: 85, lr: 0.001, bs: 64, btraining loss: 0.19018059968948364, valid loss: 0.33392611145973206\n",
      "epoch: 86, lr: 0.001, bs: 64, btraining loss: 0.2428659200668335, valid loss: 0.03852984681725502\n",
      "epoch: 87, lr: 0.001, bs: 64, btraining loss: 0.17769350111484528, valid loss: 0.14158962666988373\n",
      "epoch: 88, lr: 0.001, bs: 64, btraining loss: 0.2007732391357422, valid loss: 0.06526566296815872\n",
      "epoch: 89, lr: 0.001, bs: 64, btraining loss: 0.1675507128238678, valid loss: 0.04991243779659271\n",
      "epoch: 90, lr: 0.001, bs: 64, btraining loss: 0.15762680768966675, valid loss: 0.333099365234375\n",
      "epoch: 91, lr: 0.001, bs: 64, btraining loss: 0.16661643981933594, valid loss: 0.16383033990859985\n",
      "epoch: 92, lr: 0.001, bs: 64, btraining loss: 0.11825146526098251, valid loss: 0.6252923011779785\n",
      "epoch: 93, lr: 0.001, bs: 64, btraining loss: 0.1594131737947464, valid loss: 0.14128108322620392\n",
      "epoch: 94, lr: 0.001, bs: 64, btraining loss: 0.19248273968696594, valid loss: 0.07197573781013489\n",
      "epoch: 95, lr: 0.001, bs: 64, btraining loss: 0.14728012681007385, valid loss: 0.33440032601356506\n",
      "epoch: 96, lr: 0.001, bs: 64, btraining loss: 0.14895692467689514, valid loss: 0.17720630764961243\n",
      "epoch: 97, lr: 0.001, bs: 64, btraining loss: 0.2170339971780777, valid loss: 0.05021258443593979\n",
      "epoch: 98, lr: 0.001, bs: 64, btraining loss: 0.14861415326595306, valid loss: 0.7380467653274536\n",
      "epoch: 99, lr: 0.001, bs: 64, btraining loss: 0.17870667576789856, valid loss: 0.0181659534573555\n",
      "epoch: 0, lr: 0.001, bs: 128, btraining loss: 0.16996429860591888, valid loss: 0.23544852435588837\n",
      "epoch: 1, lr: 0.001, bs: 128, btraining loss: 0.18083634972572327, valid loss: 0.20926837623119354\n",
      "epoch: 2, lr: 0.001, bs: 128, btraining loss: 0.13818193972110748, valid loss: 0.1821797639131546\n",
      "epoch: 3, lr: 0.001, bs: 128, btraining loss: 0.21225281059741974, valid loss: 0.21442539989948273\n",
      "epoch: 4, lr: 0.001, bs: 128, btraining loss: 0.18947409093379974, valid loss: 0.18893611431121826\n",
      "epoch: 5, lr: 0.001, bs: 128, btraining loss: 0.2082027643918991, valid loss: 0.2108563333749771\n",
      "epoch: 6, lr: 0.001, bs: 128, btraining loss: 0.3367966413497925, valid loss: 0.2146013081073761\n",
      "epoch: 7, lr: 0.001, bs: 128, btraining loss: 0.1400730162858963, valid loss: 0.2556650638580322\n",
      "epoch: 8, lr: 0.001, bs: 128, btraining loss: 0.17777276039123535, valid loss: 0.21708957850933075\n",
      "epoch: 9, lr: 0.001, bs: 128, btraining loss: 0.18286430835723877, valid loss: 0.24785752594470978\n",
      "epoch: 10, lr: 0.001, bs: 128, btraining loss: 0.10173024982213974, valid loss: 0.1901908665895462\n",
      "epoch: 11, lr: 0.001, bs: 128, btraining loss: 0.1374940276145935, valid loss: 0.2464345097541809\n",
      "epoch: 12, lr: 0.001, bs: 128, btraining loss: 0.28324609994888306, valid loss: 0.20820821821689606\n",
      "epoch: 13, lr: 0.001, bs: 128, btraining loss: 0.26201939582824707, valid loss: 0.24220912158489227\n",
      "epoch: 14, lr: 0.001, bs: 128, btraining loss: 0.15527236461639404, valid loss: 0.15001200139522552\n",
      "epoch: 15, lr: 0.001, bs: 128, btraining loss: 0.21215268969535828, valid loss: 0.21182909607887268\n",
      "epoch: 16, lr: 0.001, bs: 128, btraining loss: 0.1882544904947281, valid loss: 0.1946818083524704\n",
      "epoch: 17, lr: 0.001, bs: 128, btraining loss: 0.2711930572986603, valid loss: 0.2062748521566391\n",
      "epoch: 18, lr: 0.001, bs: 128, btraining loss: 0.21064580976963043, valid loss: 0.19850556552410126\n",
      "epoch: 19, lr: 0.001, bs: 128, btraining loss: 0.11916958540678024, valid loss: 0.23745368421077728\n",
      "epoch: 20, lr: 0.001, bs: 128, btraining loss: 0.22864778339862823, valid loss: 0.196365624666214\n",
      "epoch: 21, lr: 0.001, bs: 128, btraining loss: 0.19123871624469757, valid loss: 0.20041586458683014\n",
      "epoch: 22, lr: 0.001, bs: 128, btraining loss: 0.2205110788345337, valid loss: 0.2098863273859024\n",
      "epoch: 23, lr: 0.001, bs: 128, btraining loss: 0.16297529637813568, valid loss: 0.2516356408596039\n",
      "epoch: 24, lr: 0.001, bs: 128, btraining loss: 0.2584899067878723, valid loss: 0.2195379137992859\n",
      "epoch: 25, lr: 0.001, bs: 128, btraining loss: 0.20301733911037445, valid loss: 0.25217974185943604\n",
      "epoch: 26, lr: 0.001, bs: 128, btraining loss: 0.1729367971420288, valid loss: 0.19122286140918732\n",
      "epoch: 27, lr: 0.001, bs: 128, btraining loss: 0.17277829349040985, valid loss: 0.21808558702468872\n",
      "epoch: 28, lr: 0.001, bs: 128, btraining loss: 0.14274682104587555, valid loss: 0.1975613832473755\n",
      "epoch: 29, lr: 0.001, bs: 128, btraining loss: 0.17290997505187988, valid loss: 0.18914270401000977\n",
      "epoch: 30, lr: 0.001, bs: 128, btraining loss: 0.1598949432373047, valid loss: 0.2642574906349182\n",
      "epoch: 31, lr: 0.001, bs: 128, btraining loss: 0.20492321252822876, valid loss: 0.24817438423633575\n",
      "epoch: 32, lr: 0.001, bs: 128, btraining loss: 0.1411413550376892, valid loss: 0.21288113296031952\n",
      "epoch: 33, lr: 0.001, bs: 128, btraining loss: 0.15111054480075836, valid loss: 0.21226061880588531\n",
      "epoch: 34, lr: 0.001, bs: 128, btraining loss: 0.18904827535152435, valid loss: 0.20636825263500214\n",
      "epoch: 35, lr: 0.001, bs: 128, btraining loss: 0.23879052698612213, valid loss: 0.18787848949432373\n"
     ]
    },
    {
     "name": "stdout",
     "output_type": "stream",
     "text": [
      "epoch: 36, lr: 0.001, bs: 128, btraining loss: 0.19135016202926636, valid loss: 0.255973219871521\n",
      "epoch: 37, lr: 0.001, bs: 128, btraining loss: 0.1683947592973709, valid loss: 0.19238775968551636\n",
      "epoch: 38, lr: 0.001, bs: 128, btraining loss: 0.13929244875907898, valid loss: 0.2120518833398819\n",
      "epoch: 39, lr: 0.001, bs: 128, btraining loss: 0.16779226064682007, valid loss: 0.16062390804290771\n",
      "epoch: 40, lr: 0.001, bs: 128, btraining loss: 0.27085360884666443, valid loss: 0.1955685317516327\n",
      "epoch: 41, lr: 0.001, bs: 128, btraining loss: 0.20572184026241302, valid loss: 0.24442027509212494\n",
      "epoch: 42, lr: 0.001, bs: 128, btraining loss: 0.15452156960964203, valid loss: 0.1443583071231842\n",
      "epoch: 43, lr: 0.001, bs: 128, btraining loss: 0.13727231323719025, valid loss: 0.238702654838562\n",
      "epoch: 44, lr: 0.001, bs: 128, btraining loss: 0.20949721336364746, valid loss: 0.2568823993206024\n",
      "epoch: 45, lr: 0.001, bs: 128, btraining loss: 0.16823087632656097, valid loss: 0.1695389449596405\n",
      "epoch: 46, lr: 0.001, bs: 128, btraining loss: 0.18299899995326996, valid loss: 0.3001490831375122\n",
      "epoch: 47, lr: 0.001, bs: 128, btraining loss: 0.22614406049251556, valid loss: 0.1849917322397232\n",
      "epoch: 48, lr: 0.001, bs: 128, btraining loss: 0.2845473289489746, valid loss: 0.25186073780059814\n",
      "epoch: 49, lr: 0.001, bs: 128, btraining loss: 0.19745910167694092, valid loss: 0.1603686809539795\n",
      "epoch: 50, lr: 0.001, bs: 128, btraining loss: 0.17254899442195892, valid loss: 0.20584222674369812\n",
      "epoch: 51, lr: 0.001, bs: 128, btraining loss: 0.17514079809188843, valid loss: 0.18471254408359528\n",
      "epoch: 52, lr: 0.001, bs: 128, btraining loss: 0.16243988275527954, valid loss: 0.22271250188350677\n",
      "epoch: 53, lr: 0.001, bs: 128, btraining loss: 0.17748573422431946, valid loss: 0.23989543318748474\n",
      "epoch: 54, lr: 0.001, bs: 128, btraining loss: 0.20670899748802185, valid loss: 0.1658843457698822\n",
      "epoch: 55, lr: 0.001, bs: 128, btraining loss: 0.2029549777507782, valid loss: 0.21751168370246887\n",
      "epoch: 56, lr: 0.001, bs: 128, btraining loss: 0.1673465371131897, valid loss: 0.22754652798175812\n",
      "epoch: 57, lr: 0.001, bs: 128, btraining loss: 0.16947758197784424, valid loss: 0.21430522203445435\n",
      "epoch: 58, lr: 0.001, bs: 128, btraining loss: 0.18552523851394653, valid loss: 0.19904837012290955\n",
      "epoch: 59, lr: 0.001, bs: 128, btraining loss: 0.1514998823404312, valid loss: 0.2715739905834198\n",
      "epoch: 60, lr: 0.001, bs: 128, btraining loss: 0.2700246274471283, valid loss: 0.16197960078716278\n",
      "epoch: 61, lr: 0.001, bs: 128, btraining loss: 0.20640303194522858, valid loss: 0.18758782744407654\n",
      "epoch: 62, lr: 0.001, bs: 128, btraining loss: 0.15468119084835052, valid loss: 0.19212780892848969\n",
      "epoch: 63, lr: 0.001, bs: 128, btraining loss: 0.16698846220970154, valid loss: 0.2534051537513733\n",
      "epoch: 64, lr: 0.001, bs: 128, btraining loss: 0.1865866631269455, valid loss: 0.20157870650291443\n",
      "epoch: 65, lr: 0.001, bs: 128, btraining loss: 0.2190462052822113, valid loss: 0.2007499486207962\n",
      "epoch: 66, lr: 0.001, bs: 128, btraining loss: 0.2267356961965561, valid loss: 0.12893791496753693\n",
      "epoch: 67, lr: 0.001, bs: 128, btraining loss: 0.20585572719573975, valid loss: 0.19141536951065063\n",
      "epoch: 68, lr: 0.001, bs: 128, btraining loss: 0.23308877646923065, valid loss: 0.1964743435382843\n",
      "epoch: 69, lr: 0.001, bs: 128, btraining loss: 0.17037634551525116, valid loss: 0.16352184116840363\n",
      "epoch: 70, lr: 0.001, bs: 128, btraining loss: 0.13271568715572357, valid loss: 0.19234898686408997\n",
      "epoch: 71, lr: 0.001, bs: 128, btraining loss: 0.12860603630542755, valid loss: 0.21116726100444794\n",
      "epoch: 72, lr: 0.001, bs: 128, btraining loss: 0.16540852189064026, valid loss: 0.15950757265090942\n",
      "epoch: 73, lr: 0.001, bs: 128, btraining loss: 0.2076965570449829, valid loss: 0.2108796238899231\n",
      "epoch: 74, lr: 0.001, bs: 128, btraining loss: 0.17393192648887634, valid loss: 0.26878735423088074\n",
      "epoch: 75, lr: 0.001, bs: 128, btraining loss: 0.1485726237297058, valid loss: 0.23620615899562836\n",
      "epoch: 76, lr: 0.001, bs: 128, btraining loss: 0.194971963763237, valid loss: 0.18642888963222504\n",
      "epoch: 77, lr: 0.001, bs: 128, btraining loss: 0.12857647240161896, valid loss: 0.17291681468486786\n",
      "epoch: 78, lr: 0.001, bs: 128, btraining loss: 0.2089868038892746, valid loss: 0.16278378665447235\n",
      "epoch: 79, lr: 0.001, bs: 128, btraining loss: 0.18782564997673035, valid loss: 0.2098069190979004\n",
      "epoch: 80, lr: 0.001, bs: 128, btraining loss: 0.28624284267425537, valid loss: 0.199884831905365\n",
      "epoch: 81, lr: 0.001, bs: 128, btraining loss: 0.228907972574234, valid loss: 0.269380122423172\n",
      "epoch: 82, lr: 0.001, bs: 128, btraining loss: 0.14461055397987366, valid loss: 0.20456597208976746\n",
      "epoch: 83, lr: 0.001, bs: 128, btraining loss: 0.2068336009979248, valid loss: 0.24627111852169037\n",
      "epoch: 84, lr: 0.001, bs: 128, btraining loss: 0.18398775160312653, valid loss: 0.21706105768680573\n",
      "epoch: 85, lr: 0.001, bs: 128, btraining loss: 0.21211029589176178, valid loss: 0.24425069987773895\n",
      "epoch: 86, lr: 0.001, bs: 128, btraining loss: 0.2268262505531311, valid loss: 0.21143415570259094\n",
      "epoch: 87, lr: 0.001, bs: 128, btraining loss: 0.22245246171951294, valid loss: 0.22961370646953583\n",
      "epoch: 88, lr: 0.001, bs: 128, btraining loss: 0.2030978798866272, valid loss: 0.1581418812274933\n",
      "epoch: 89, lr: 0.001, bs: 128, btraining loss: 0.23255400359630585, valid loss: 0.24072280526161194\n",
      "epoch: 90, lr: 0.001, bs: 128, btraining loss: 0.1638697385787964, valid loss: 0.21158695220947266\n",
      "epoch: 91, lr: 0.001, bs: 128, btraining loss: 0.16038699448108673, valid loss: 0.2239963263273239\n",
      "epoch: 92, lr: 0.001, bs: 128, btraining loss: 0.16205692291259766, valid loss: 0.19816239178180695\n",
      "epoch: 93, lr: 0.001, bs: 128, btraining loss: 0.12318103015422821, valid loss: 0.22095701098442078\n",
      "epoch: 94, lr: 0.001, bs: 128, btraining loss: 0.18744318187236786, valid loss: 0.17197661101818085\n",
      "epoch: 95, lr: 0.001, bs: 128, btraining loss: 0.1519574671983719, valid loss: 0.2040524035692215\n",
      "epoch: 96, lr: 0.001, bs: 128, btraining loss: 0.1721915900707245, valid loss: 0.18790273368358612\n",
      "epoch: 97, lr: 0.001, bs: 128, btraining loss: 0.1517016440629959, valid loss: 0.27022990584373474\n",
      "epoch: 98, lr: 0.001, bs: 128, btraining loss: 0.24605202674865723, valid loss: 0.2046947181224823\n",
      "epoch: 99, lr: 0.001, bs: 128, btraining loss: 0.23502376675605774, valid loss: 0.18592017889022827\n",
      "epoch: 0, lr: 0.0001, bs: 32, btraining loss: 0.22535216808319092, valid loss: 0.09548625349998474\n",
      "epoch: 1, lr: 0.0001, bs: 32, btraining loss: 0.1381329745054245, valid loss: 0.10331469774246216\n",
      "epoch: 2, lr: 0.0001, bs: 32, btraining loss: 0.15914733707904816, valid loss: 0.22651737928390503\n",
      "epoch: 3, lr: 0.0001, bs: 32, btraining loss: 0.24276040494441986, valid loss: 0.2394062578678131\n",
      "epoch: 4, lr: 0.0001, bs: 32, btraining loss: 0.2818642854690552, valid loss: 0.08682279288768768\n",
      "epoch: 5, lr: 0.0001, bs: 32, btraining loss: 0.2369275689125061, valid loss: 0.05588485673069954\n",
      "epoch: 6, lr: 0.0001, bs: 32, btraining loss: 0.3844630718231201, valid loss: 0.08552087098360062\n",
      "epoch: 7, lr: 0.0001, bs: 32, btraining loss: 0.2864513099193573, valid loss: 0.15548157691955566\n",
      "epoch: 8, lr: 0.0001, bs: 32, btraining loss: 0.31106075644493103, valid loss: 0.05387076735496521\n",
      "epoch: 9, lr: 0.0001, bs: 32, btraining loss: 0.2561417520046234, valid loss: 0.09143327176570892\n",
      "epoch: 10, lr: 0.0001, bs: 32, btraining loss: 0.25491225719451904, valid loss: 0.0852191150188446\n",
      "epoch: 11, lr: 0.0001, bs: 32, btraining loss: 0.25757351517677307, valid loss: 0.09552697837352753\n",
      "epoch: 12, lr: 0.0001, bs: 32, btraining loss: 0.270636647939682, valid loss: 0.4158213138580322\n",
      "epoch: 13, lr: 0.0001, bs: 32, btraining loss: 0.34353145956993103, valid loss: 0.0727139264345169\n",
      "epoch: 14, lr: 0.0001, bs: 32, btraining loss: 0.17911776900291443, valid loss: 0.04830164462327957\n",
      "epoch: 15, lr: 0.0001, bs: 32, btraining loss: 0.2784102261066437, valid loss: 0.14153416454792023\n",
      "epoch: 16, lr: 0.0001, bs: 32, btraining loss: 0.21843279898166656, valid loss: 0.5217142105102539\n",
      "epoch: 17, lr: 0.0001, bs: 32, btraining loss: 0.18215784430503845, valid loss: 0.1305324286222458\n",
      "epoch: 18, lr: 0.0001, bs: 32, btraining loss: 0.18112578988075256, valid loss: 0.35635828971862793\n"
     ]
    },
    {
     "name": "stdout",
     "output_type": "stream",
     "text": [
      "epoch: 19, lr: 0.0001, bs: 32, btraining loss: 0.27652108669281006, valid loss: 0.28421977162361145\n",
      "epoch: 20, lr: 0.0001, bs: 32, btraining loss: 0.16055777668952942, valid loss: 0.6347615718841553\n",
      "epoch: 21, lr: 0.0001, bs: 32, btraining loss: 0.20885638892650604, valid loss: 0.058525364845991135\n",
      "epoch: 22, lr: 0.0001, bs: 32, btraining loss: 0.1900562047958374, valid loss: 0.1468896120786667\n",
      "epoch: 23, lr: 0.0001, bs: 32, btraining loss: 0.16950638592243195, valid loss: 0.30618128180503845\n",
      "epoch: 24, lr: 0.0001, bs: 32, btraining loss: 0.17543944716453552, valid loss: 0.8121111989021301\n",
      "epoch: 25, lr: 0.0001, bs: 32, btraining loss: 0.19728294014930725, valid loss: 0.29472851753234863\n",
      "epoch: 26, lr: 0.0001, bs: 32, btraining loss: 0.3045680522918701, valid loss: 0.07119918614625931\n",
      "epoch: 27, lr: 0.0001, bs: 32, btraining loss: 0.2568624019622803, valid loss: 0.11905594915151596\n",
      "epoch: 28, lr: 0.0001, bs: 32, btraining loss: 0.2456774115562439, valid loss: 0.16017822921276093\n",
      "epoch: 29, lr: 0.0001, bs: 32, btraining loss: 0.234747514128685, valid loss: 0.3156070411205292\n",
      "epoch: 30, lr: 0.0001, bs: 32, btraining loss: 0.1890929639339447, valid loss: 0.08565717935562134\n",
      "epoch: 31, lr: 0.0001, bs: 32, btraining loss: 0.20051974058151245, valid loss: 0.07730738818645477\n",
      "epoch: 32, lr: 0.0001, bs: 32, btraining loss: 0.27737149596214294, valid loss: 0.14909912645816803\n",
      "epoch: 33, lr: 0.0001, bs: 32, btraining loss: 0.1799412965774536, valid loss: 0.3142276704311371\n",
      "epoch: 34, lr: 0.0001, bs: 32, btraining loss: 0.22047242522239685, valid loss: 0.5367725491523743\n",
      "epoch: 35, lr: 0.0001, bs: 32, btraining loss: 0.24208201467990875, valid loss: 0.10391339659690857\n",
      "epoch: 36, lr: 0.0001, bs: 32, btraining loss: 0.24188652634620667, valid loss: 0.1236371099948883\n",
      "epoch: 37, lr: 0.0001, bs: 32, btraining loss: 0.1503075659275055, valid loss: 0.11877918988466263\n",
      "epoch: 38, lr: 0.0001, bs: 32, btraining loss: 0.22518521547317505, valid loss: 0.10680890083312988\n",
      "epoch: 39, lr: 0.0001, bs: 32, btraining loss: 0.24760788679122925, valid loss: 0.24908462166786194\n",
      "epoch: 40, lr: 0.0001, bs: 32, btraining loss: 0.16927091777324677, valid loss: 0.5131849050521851\n",
      "epoch: 41, lr: 0.0001, bs: 32, btraining loss: 0.24521282315254211, valid loss: 0.1529650241136551\n",
      "epoch: 42, lr: 0.0001, bs: 32, btraining loss: 0.19717106223106384, valid loss: 0.11371345072984695\n",
      "epoch: 43, lr: 0.0001, bs: 32, btraining loss: 0.18468382954597473, valid loss: 0.04558207094669342\n",
      "epoch: 44, lr: 0.0001, bs: 32, btraining loss: 0.17274920642375946, valid loss: 0.2934100031852722\n",
      "epoch: 45, lr: 0.0001, bs: 32, btraining loss: 0.23733028769493103, valid loss: 0.1410859078168869\n",
      "epoch: 46, lr: 0.0001, bs: 32, btraining loss: 0.18392199277877808, valid loss: 0.015601227059960365\n",
      "epoch: 47, lr: 0.0001, bs: 32, btraining loss: 0.13216254115104675, valid loss: 0.09339581429958344\n",
      "epoch: 48, lr: 0.0001, bs: 32, btraining loss: 0.21071907877922058, valid loss: 0.07832484692335129\n",
      "epoch: 49, lr: 0.0001, bs: 32, btraining loss: 0.3251435160636902, valid loss: 0.1261911243200302\n",
      "epoch: 50, lr: 0.0001, bs: 32, btraining loss: 0.17624540627002716, valid loss: 0.09237488359212875\n",
      "epoch: 51, lr: 0.0001, bs: 32, btraining loss: 0.18295861780643463, valid loss: 0.15749116241931915\n",
      "epoch: 52, lr: 0.0001, bs: 32, btraining loss: 0.10916230082511902, valid loss: 0.13512016832828522\n",
      "epoch: 53, lr: 0.0001, bs: 32, btraining loss: 0.20595744252204895, valid loss: 0.13595205545425415\n",
      "epoch: 54, lr: 0.0001, bs: 32, btraining loss: 0.2727409899234772, valid loss: 0.06926393508911133\n",
      "epoch: 55, lr: 0.0001, bs: 32, btraining loss: 0.1646239161491394, valid loss: 0.31149688363075256\n",
      "epoch: 56, lr: 0.0001, bs: 32, btraining loss: 0.12646031379699707, valid loss: 0.44761961698532104\n",
      "epoch: 57, lr: 0.0001, bs: 32, btraining loss: 0.2264167219400406, valid loss: 0.14574043452739716\n",
      "epoch: 58, lr: 0.0001, bs: 32, btraining loss: 0.23410169780254364, valid loss: 0.22416982054710388\n",
      "epoch: 59, lr: 0.0001, bs: 32, btraining loss: 0.16312028467655182, valid loss: 0.10708555579185486\n",
      "epoch: 60, lr: 0.0001, bs: 32, btraining loss: 0.22451041638851166, valid loss: 0.09986689686775208\n",
      "epoch: 61, lr: 0.0001, bs: 32, btraining loss: 0.1330164670944214, valid loss: 0.20374400913715363\n",
      "epoch: 62, lr: 0.0001, bs: 32, btraining loss: 0.33604469895362854, valid loss: 0.389175683259964\n",
      "epoch: 63, lr: 0.0001, bs: 32, btraining loss: 0.3221004903316498, valid loss: 0.7933059334754944\n",
      "epoch: 64, lr: 0.0001, bs: 32, btraining loss: 0.27236828207969666, valid loss: 0.15535703301429749\n",
      "epoch: 65, lr: 0.0001, bs: 32, btraining loss: 0.21851982176303864, valid loss: 0.2686586380004883\n",
      "epoch: 66, lr: 0.0001, bs: 32, btraining loss: 0.15273942053318024, valid loss: 0.15454483032226562\n",
      "epoch: 67, lr: 0.0001, bs: 32, btraining loss: 0.1414910852909088, valid loss: 0.10122962296009064\n",
      "epoch: 68, lr: 0.0001, bs: 32, btraining loss: 0.13493837416172028, valid loss: 0.06151571869850159\n",
      "epoch: 69, lr: 0.0001, bs: 32, btraining loss: 0.18087266385555267, valid loss: 0.2395753115415573\n",
      "epoch: 70, lr: 0.0001, bs: 32, btraining loss: 0.1851973682641983, valid loss: 0.08309117704629898\n",
      "epoch: 71, lr: 0.0001, bs: 32, btraining loss: 0.2412867397069931, valid loss: 0.5009750127792358\n",
      "epoch: 72, lr: 0.0001, bs: 32, btraining loss: 0.14653414487838745, valid loss: 0.16750609874725342\n",
      "epoch: 73, lr: 0.0001, bs: 32, btraining loss: 0.2130444347858429, valid loss: 0.147674560546875\n",
      "epoch: 74, lr: 0.0001, bs: 32, btraining loss: 0.2486908733844757, valid loss: 0.08057853579521179\n",
      "epoch: 75, lr: 0.0001, bs: 32, btraining loss: 0.18338485062122345, valid loss: 0.213370680809021\n",
      "epoch: 76, lr: 0.0001, bs: 32, btraining loss: 0.17106029391288757, valid loss: 0.11298754811286926\n",
      "epoch: 77, lr: 0.0001, bs: 32, btraining loss: 0.30497467517852783, valid loss: 0.09696919471025467\n",
      "epoch: 78, lr: 0.0001, bs: 32, btraining loss: 0.2501031458377838, valid loss: 0.4734818637371063\n",
      "epoch: 79, lr: 0.0001, bs: 32, btraining loss: 0.23366676270961761, valid loss: 0.06889401376247406\n",
      "epoch: 80, lr: 0.0001, bs: 32, btraining loss: 0.13833287358283997, valid loss: 0.3592725694179535\n",
      "epoch: 81, lr: 0.0001, bs: 32, btraining loss: 0.27499428391456604, valid loss: 0.049369048327207565\n",
      "epoch: 82, lr: 0.0001, bs: 32, btraining loss: 0.1733309030532837, valid loss: 0.08967415243387222\n",
      "epoch: 83, lr: 0.0001, bs: 32, btraining loss: 0.2647410035133362, valid loss: 0.4322623610496521\n",
      "epoch: 84, lr: 0.0001, bs: 32, btraining loss: 0.13120192289352417, valid loss: 0.04800969734787941\n",
      "epoch: 85, lr: 0.0001, bs: 32, btraining loss: 0.22914166748523712, valid loss: 0.12013407796621323\n",
      "epoch: 86, lr: 0.0001, bs: 32, btraining loss: 0.12137898057699203, valid loss: 0.18334920704364777\n",
      "epoch: 87, lr: 0.0001, bs: 32, btraining loss: 0.10309647768735886, valid loss: 0.14031343162059784\n",
      "epoch: 88, lr: 0.0001, bs: 32, btraining loss: 0.3537355065345764, valid loss: 0.13704000413417816\n",
      "epoch: 89, lr: 0.0001, bs: 32, btraining loss: 0.28098970651626587, valid loss: 0.2929408848285675\n",
      "epoch: 90, lr: 0.0001, bs: 32, btraining loss: 0.2968595027923584, valid loss: 0.07449498772621155\n",
      "epoch: 91, lr: 0.0001, bs: 32, btraining loss: 0.13679227232933044, valid loss: 0.05093669146299362\n",
      "epoch: 92, lr: 0.0001, bs: 32, btraining loss: 0.1582581251859665, valid loss: 0.11313113570213318\n",
      "epoch: 93, lr: 0.0001, bs: 32, btraining loss: 0.2555178999900818, valid loss: 0.10659108310937881\n",
      "epoch: 94, lr: 0.0001, bs: 32, btraining loss: 0.1373378187417984, valid loss: 0.06370550394058228\n",
      "epoch: 95, lr: 0.0001, bs: 32, btraining loss: 0.13279253244400024, valid loss: 0.17803257703781128\n",
      "epoch: 96, lr: 0.0001, bs: 32, btraining loss: 0.3460244834423065, valid loss: 0.08170633018016815\n",
      "epoch: 97, lr: 0.0001, bs: 32, btraining loss: 0.21740180253982544, valid loss: 0.0461680106818676\n",
      "epoch: 98, lr: 0.0001, bs: 32, btraining loss: 0.14475923776626587, valid loss: 0.14492705464363098\n",
      "epoch: 99, lr: 0.0001, bs: 32, btraining loss: 0.1290755271911621, valid loss: 0.8283533453941345\n",
      "epoch: 0, lr: 0.0001, bs: 64, btraining loss: 0.2156699299812317, valid loss: 0.3882523775100708\n",
      "epoch: 1, lr: 0.0001, bs: 64, btraining loss: 0.20014305412769318, valid loss: 0.05233386158943176\n"
     ]
    },
    {
     "name": "stdout",
     "output_type": "stream",
     "text": [
      "epoch: 2, lr: 0.0001, bs: 64, btraining loss: 0.23592771589756012, valid loss: 0.6006602048873901\n",
      "epoch: 3, lr: 0.0001, bs: 64, btraining loss: 0.21527458727359772, valid loss: 0.05443747341632843\n",
      "epoch: 4, lr: 0.0001, bs: 64, btraining loss: 0.15120914578437805, valid loss: 0.6732425689697266\n",
      "epoch: 5, lr: 0.0001, bs: 64, btraining loss: 0.19057470560073853, valid loss: 0.21825195848941803\n",
      "epoch: 6, lr: 0.0001, bs: 64, btraining loss: 0.1925438940525055, valid loss: 0.1460627317428589\n",
      "epoch: 7, lr: 0.0001, bs: 64, btraining loss: 0.17862927913665771, valid loss: 0.39206093549728394\n",
      "epoch: 8, lr: 0.0001, bs: 64, btraining loss: 0.22149410843849182, valid loss: 0.19241458177566528\n",
      "epoch: 9, lr: 0.0001, bs: 64, btraining loss: 0.18442878127098083, valid loss: 0.18874630331993103\n",
      "epoch: 10, lr: 0.0001, bs: 64, btraining loss: 0.21044428646564484, valid loss: 0.16189952194690704\n",
      "epoch: 11, lr: 0.0001, bs: 64, btraining loss: 0.17578940093517303, valid loss: 0.18759092688560486\n",
      "epoch: 12, lr: 0.0001, bs: 64, btraining loss: 0.18680277466773987, valid loss: 0.08795804530382156\n",
      "epoch: 13, lr: 0.0001, bs: 64, btraining loss: 0.24612805247306824, valid loss: 0.0773664116859436\n",
      "epoch: 14, lr: 0.0001, bs: 64, btraining loss: 0.1337800770998001, valid loss: 0.28199639916419983\n",
      "epoch: 15, lr: 0.0001, bs: 64, btraining loss: 0.2067076563835144, valid loss: 0.19592855870723724\n",
      "epoch: 16, lr: 0.0001, bs: 64, btraining loss: 0.1468314528465271, valid loss: 0.17262519896030426\n",
      "epoch: 17, lr: 0.0001, bs: 64, btraining loss: 0.19695807993412018, valid loss: 0.13681215047836304\n",
      "epoch: 18, lr: 0.0001, bs: 64, btraining loss: 0.2238202542066574, valid loss: 0.2804757356643677\n",
      "epoch: 19, lr: 0.0001, bs: 64, btraining loss: 0.18593916296958923, valid loss: 0.08709187805652618\n",
      "epoch: 20, lr: 0.0001, bs: 64, btraining loss: 0.17278119921684265, valid loss: 0.137338787317276\n",
      "epoch: 21, lr: 0.0001, bs: 64, btraining loss: 0.20414361357688904, valid loss: 0.280651718378067\n",
      "epoch: 22, lr: 0.0001, bs: 64, btraining loss: 0.2574327886104584, valid loss: 0.0837874710559845\n",
      "epoch: 23, lr: 0.0001, bs: 64, btraining loss: 0.14811673760414124, valid loss: 0.0669584646821022\n",
      "epoch: 24, lr: 0.0001, bs: 64, btraining loss: 0.16696633398532867, valid loss: 0.21421560645103455\n",
      "epoch: 25, lr: 0.0001, bs: 64, btraining loss: 0.25888022780418396, valid loss: 0.288408100605011\n",
      "epoch: 26, lr: 0.0001, bs: 64, btraining loss: 0.18269069492816925, valid loss: 0.11285322904586792\n",
      "epoch: 27, lr: 0.0001, bs: 64, btraining loss: 0.23937155306339264, valid loss: 0.10583344101905823\n",
      "epoch: 28, lr: 0.0001, bs: 64, btraining loss: 0.19970858097076416, valid loss: 0.233963280916214\n",
      "epoch: 29, lr: 0.0001, bs: 64, btraining loss: 0.22691869735717773, valid loss: 0.06573972851037979\n",
      "epoch: 30, lr: 0.0001, bs: 64, btraining loss: 0.23816907405853271, valid loss: 0.27134785056114197\n",
      "epoch: 31, lr: 0.0001, bs: 64, btraining loss: 0.19457055628299713, valid loss: 0.6561985611915588\n",
      "epoch: 32, lr: 0.0001, bs: 64, btraining loss: 0.1937360018491745, valid loss: 0.6136508584022522\n",
      "epoch: 33, lr: 0.0001, bs: 64, btraining loss: 0.20081302523612976, valid loss: 0.15566597878932953\n",
      "epoch: 34, lr: 0.0001, bs: 64, btraining loss: 0.14260439574718475, valid loss: 0.0713699609041214\n",
      "epoch: 35, lr: 0.0001, bs: 64, btraining loss: 0.21950729191303253, valid loss: 0.14049473404884338\n",
      "epoch: 36, lr: 0.0001, bs: 64, btraining loss: 0.18858718872070312, valid loss: 0.07968820631504059\n",
      "epoch: 37, lr: 0.0001, bs: 64, btraining loss: 0.21942299604415894, valid loss: 0.116641104221344\n",
      "epoch: 38, lr: 0.0001, bs: 64, btraining loss: 0.23462875187397003, valid loss: 0.06618896871805191\n",
      "epoch: 39, lr: 0.0001, bs: 64, btraining loss: 0.2624902129173279, valid loss: 0.5423747897148132\n",
      "epoch: 40, lr: 0.0001, bs: 64, btraining loss: 0.16250665485858917, valid loss: 0.297158420085907\n",
      "epoch: 41, lr: 0.0001, bs: 64, btraining loss: 0.15727360546588898, valid loss: 0.1756928265094757\n",
      "epoch: 42, lr: 0.0001, bs: 64, btraining loss: 0.209417462348938, valid loss: 0.17846736311912537\n",
      "epoch: 43, lr: 0.0001, bs: 64, btraining loss: 0.16587309539318085, valid loss: 0.5897632837295532\n",
      "epoch: 44, lr: 0.0001, bs: 64, btraining loss: 0.15053790807724, valid loss: 0.08923721313476562\n",
      "epoch: 45, lr: 0.0001, bs: 64, btraining loss: 0.2300502061843872, valid loss: 0.18717411160469055\n",
      "epoch: 46, lr: 0.0001, bs: 64, btraining loss: 0.19846470654010773, valid loss: 0.3908007740974426\n",
      "epoch: 47, lr: 0.0001, bs: 64, btraining loss: 0.2108609974384308, valid loss: 0.04666944593191147\n",
      "epoch: 48, lr: 0.0001, bs: 64, btraining loss: 0.12999597191810608, valid loss: 0.09341153502464294\n",
      "epoch: 49, lr: 0.0001, bs: 64, btraining loss: 0.21595703065395355, valid loss: 0.22240722179412842\n",
      "epoch: 50, lr: 0.0001, bs: 64, btraining loss: 0.19288985431194305, valid loss: 0.1928848773241043\n",
      "epoch: 51, lr: 0.0001, bs: 64, btraining loss: 0.14723528921604156, valid loss: 0.11073989421129227\n",
      "epoch: 52, lr: 0.0001, bs: 64, btraining loss: 0.2595372796058655, valid loss: 0.2989070415496826\n",
      "epoch: 53, lr: 0.0001, bs: 64, btraining loss: 0.3056569993495941, valid loss: 0.8579280972480774\n",
      "epoch: 54, lr: 0.0001, bs: 64, btraining loss: 0.22624516487121582, valid loss: 0.0796230360865593\n",
      "epoch: 55, lr: 0.0001, bs: 64, btraining loss: 0.18318291008472443, valid loss: 0.15992559492588043\n",
      "epoch: 56, lr: 0.0001, bs: 64, btraining loss: 0.152769535779953, valid loss: 0.12032005190849304\n",
      "epoch: 57, lr: 0.0001, bs: 64, btraining loss: 0.1817418783903122, valid loss: 0.12297585606575012\n",
      "epoch: 58, lr: 0.0001, bs: 64, btraining loss: 0.17341704666614532, valid loss: 0.24096634984016418\n",
      "epoch: 59, lr: 0.0001, bs: 64, btraining loss: 0.14845147728919983, valid loss: 0.09898052364587784\n",
      "epoch: 60, lr: 0.0001, bs: 64, btraining loss: 0.15073363482952118, valid loss: 0.11500884592533112\n",
      "epoch: 61, lr: 0.0001, bs: 64, btraining loss: 0.17898645997047424, valid loss: 0.11321068555116653\n",
      "epoch: 62, lr: 0.0001, bs: 64, btraining loss: 0.20836837589740753, valid loss: 0.8764826059341431\n",
      "epoch: 63, lr: 0.0001, bs: 64, btraining loss: 0.23361381888389587, valid loss: 0.12962615489959717\n",
      "epoch: 64, lr: 0.0001, bs: 64, btraining loss: 0.2415895164012909, valid loss: 0.3199451267719269\n",
      "epoch: 65, lr: 0.0001, bs: 64, btraining loss: 0.2162778079509735, valid loss: 0.12842971086502075\n",
      "epoch: 66, lr: 0.0001, bs: 64, btraining loss: 0.16939407587051392, valid loss: 0.09449851512908936\n",
      "epoch: 67, lr: 0.0001, bs: 64, btraining loss: 0.16273312270641327, valid loss: 0.7782647609710693\n",
      "epoch: 68, lr: 0.0001, bs: 64, btraining loss: 0.1985926777124405, valid loss: 0.1695653200149536\n",
      "epoch: 69, lr: 0.0001, bs: 64, btraining loss: 0.23406660556793213, valid loss: 0.24906349182128906\n",
      "epoch: 70, lr: 0.0001, bs: 64, btraining loss: 0.12364690750837326, valid loss: 0.17338547110557556\n",
      "epoch: 71, lr: 0.0001, bs: 64, btraining loss: 0.15871845185756683, valid loss: 0.13584862649440765\n",
      "epoch: 72, lr: 0.0001, bs: 64, btraining loss: 0.17986951768398285, valid loss: 0.5587553977966309\n",
      "epoch: 73, lr: 0.0001, bs: 64, btraining loss: 0.2413652092218399, valid loss: 0.2516149878501892\n",
      "epoch: 74, lr: 0.0001, bs: 64, btraining loss: 0.1885240375995636, valid loss: 0.1660766899585724\n",
      "epoch: 75, lr: 0.0001, bs: 64, btraining loss: 0.18161074817180634, valid loss: 0.08640658855438232\n",
      "epoch: 76, lr: 0.0001, bs: 64, btraining loss: 0.18903450667858124, valid loss: 0.037461236119270325\n",
      "epoch: 77, lr: 0.0001, bs: 64, btraining loss: 0.16521987318992615, valid loss: 0.29950183629989624\n",
      "epoch: 78, lr: 0.0001, bs: 64, btraining loss: 0.21584513783454895, valid loss: 0.08905649185180664\n",
      "epoch: 79, lr: 0.0001, bs: 64, btraining loss: 0.21729128062725067, valid loss: 0.09667962789535522\n",
      "epoch: 80, lr: 0.0001, bs: 64, btraining loss: 0.2213587909936905, valid loss: 0.10126172751188278\n",
      "epoch: 81, lr: 0.0001, bs: 64, btraining loss: 0.22402872145175934, valid loss: 0.09614823013544083\n",
      "epoch: 82, lr: 0.0001, bs: 64, btraining loss: 0.15497779846191406, valid loss: 0.16779039800167084\n",
      "epoch: 83, lr: 0.0001, bs: 64, btraining loss: 0.23573361337184906, valid loss: 0.21353904902935028\n",
      "epoch: 84, lr: 0.0001, bs: 64, btraining loss: 0.18461927771568298, valid loss: 0.046875\n"
     ]
    },
    {
     "name": "stdout",
     "output_type": "stream",
     "text": [
      "epoch: 85, lr: 0.0001, bs: 64, btraining loss: 0.21189570426940918, valid loss: 0.1965898871421814\n",
      "epoch: 86, lr: 0.0001, bs: 64, btraining loss: 0.2171759307384491, valid loss: 0.2284073382616043\n",
      "epoch: 87, lr: 0.0001, bs: 64, btraining loss: 0.22395142912864685, valid loss: 0.046305060386657715\n",
      "epoch: 88, lr: 0.0001, bs: 64, btraining loss: 0.12126275151968002, valid loss: 0.14496223628520966\n",
      "epoch: 89, lr: 0.0001, bs: 64, btraining loss: 0.1705242395401001, valid loss: 0.07846201956272125\n",
      "epoch: 90, lr: 0.0001, bs: 64, btraining loss: 0.27238067984580994, valid loss: 0.30906689167022705\n",
      "epoch: 91, lr: 0.0001, bs: 64, btraining loss: 0.2564946413040161, valid loss: 0.16045941412448883\n",
      "epoch: 92, lr: 0.0001, bs: 64, btraining loss: 0.1719624102115631, valid loss: 0.08637122809886932\n",
      "epoch: 93, lr: 0.0001, bs: 64, btraining loss: 0.22235043346881866, valid loss: 0.1698017418384552\n",
      "epoch: 94, lr: 0.0001, bs: 64, btraining loss: 0.1493435800075531, valid loss: 0.18262848258018494\n",
      "epoch: 95, lr: 0.0001, bs: 64, btraining loss: 0.1267019808292389, valid loss: 0.03918764740228653\n",
      "epoch: 96, lr: 0.0001, bs: 64, btraining loss: 0.21250367164611816, valid loss: 0.2046331763267517\n",
      "epoch: 97, lr: 0.0001, bs: 64, btraining loss: 0.17880912125110626, valid loss: 0.1510549783706665\n",
      "epoch: 98, lr: 0.0001, bs: 64, btraining loss: 0.20071080327033997, valid loss: 0.2927199602127075\n",
      "epoch: 99, lr: 0.0001, bs: 64, btraining loss: 0.17135469615459442, valid loss: 0.10352030396461487\n",
      "epoch: 0, lr: 0.0001, bs: 128, btraining loss: 0.24856790900230408, valid loss: 0.1698998361825943\n",
      "epoch: 1, lr: 0.0001, bs: 128, btraining loss: 0.1945793628692627, valid loss: 0.1893414855003357\n",
      "epoch: 2, lr: 0.0001, bs: 128, btraining loss: 0.1846538484096527, valid loss: 0.21550945937633514\n",
      "epoch: 3, lr: 0.0001, bs: 128, btraining loss: 0.16791069507598877, valid loss: 0.18622228503227234\n",
      "epoch: 4, lr: 0.0001, bs: 128, btraining loss: 0.19415131211280823, valid loss: 0.21712826192378998\n",
      "epoch: 5, lr: 0.0001, bs: 128, btraining loss: 0.2328675240278244, valid loss: 0.17324718832969666\n",
      "epoch: 6, lr: 0.0001, bs: 128, btraining loss: 0.14101038873195648, valid loss: 0.16581670939922333\n",
      "epoch: 7, lr: 0.0001, bs: 128, btraining loss: 0.19417759776115417, valid loss: 0.21987973153591156\n",
      "epoch: 8, lr: 0.0001, bs: 128, btraining loss: 0.15493455529212952, valid loss: 0.15162885189056396\n",
      "epoch: 9, lr: 0.0001, bs: 128, btraining loss: 0.18193164467811584, valid loss: 0.18199297785758972\n",
      "epoch: 10, lr: 0.0001, bs: 128, btraining loss: 0.2215864658355713, valid loss: 0.17107538878917694\n",
      "epoch: 11, lr: 0.0001, bs: 128, btraining loss: 0.18872547149658203, valid loss: 0.21180623769760132\n",
      "epoch: 12, lr: 0.0001, bs: 128, btraining loss: 0.1949710249900818, valid loss: 0.19323979318141937\n",
      "epoch: 13, lr: 0.0001, bs: 128, btraining loss: 0.18606393039226532, valid loss: 0.17945879697799683\n",
      "epoch: 14, lr: 0.0001, bs: 128, btraining loss: 0.1780429184436798, valid loss: 0.17935843765735626\n",
      "epoch: 15, lr: 0.0001, bs: 128, btraining loss: 0.1398492008447647, valid loss: 0.15975536406040192\n",
      "epoch: 16, lr: 0.0001, bs: 128, btraining loss: 0.21910305321216583, valid loss: 0.2008116990327835\n",
      "epoch: 17, lr: 0.0001, bs: 128, btraining loss: 0.1538815200328827, valid loss: 0.22991544008255005\n",
      "epoch: 18, lr: 0.0001, bs: 128, btraining loss: 0.1801425963640213, valid loss: 0.2118252068758011\n",
      "epoch: 19, lr: 0.0001, bs: 128, btraining loss: 0.17056035995483398, valid loss: 0.16209439933300018\n",
      "epoch: 20, lr: 0.0001, bs: 128, btraining loss: 0.20070503652095795, valid loss: 0.19739878177642822\n",
      "epoch: 21, lr: 0.0001, bs: 128, btraining loss: 0.16941890120506287, valid loss: 0.21512317657470703\n",
      "epoch: 22, lr: 0.0001, bs: 128, btraining loss: 0.23607559502124786, valid loss: 0.22949150204658508\n",
      "epoch: 23, lr: 0.0001, bs: 128, btraining loss: 0.19212400913238525, valid loss: 0.19143293797969818\n",
      "epoch: 24, lr: 0.0001, bs: 128, btraining loss: 0.1299830675125122, valid loss: 0.20228292047977448\n",
      "epoch: 25, lr: 0.0001, bs: 128, btraining loss: 0.18274472653865814, valid loss: 0.19531750679016113\n",
      "epoch: 26, lr: 0.0001, bs: 128, btraining loss: 0.23025007545948029, valid loss: 0.1896243840456009\n",
      "epoch: 27, lr: 0.0001, bs: 128, btraining loss: 0.24153625965118408, valid loss: 0.19488823413848877\n",
      "epoch: 28, lr: 0.0001, bs: 128, btraining loss: 0.1867455393075943, valid loss: 0.17884348332881927\n",
      "epoch: 29, lr: 0.0001, bs: 128, btraining loss: 0.1999759078025818, valid loss: 0.14682818949222565\n",
      "epoch: 30, lr: 0.0001, bs: 128, btraining loss: 0.1991797536611557, valid loss: 0.1968488246202469\n",
      "epoch: 31, lr: 0.0001, bs: 128, btraining loss: 0.14827416837215424, valid loss: 0.2014930546283722\n",
      "epoch: 32, lr: 0.0001, bs: 128, btraining loss: 0.1299748718738556, valid loss: 0.19787317514419556\n",
      "epoch: 33, lr: 0.0001, bs: 128, btraining loss: 0.22995002567768097, valid loss: 0.19335131347179413\n",
      "epoch: 34, lr: 0.0001, bs: 128, btraining loss: 0.2657259404659271, valid loss: 0.2087852656841278\n",
      "epoch: 35, lr: 0.0001, bs: 128, btraining loss: 0.14936469495296478, valid loss: 0.16202157735824585\n",
      "epoch: 36, lr: 0.0001, bs: 128, btraining loss: 0.27030855417251587, valid loss: 0.19833043217658997\n",
      "epoch: 37, lr: 0.0001, bs: 128, btraining loss: 0.21217434108257294, valid loss: 0.2462899535894394\n",
      "epoch: 38, lr: 0.0001, bs: 128, btraining loss: 0.21549513936042786, valid loss: 0.2567106783390045\n",
      "epoch: 39, lr: 0.0001, bs: 128, btraining loss: 0.18293993175029755, valid loss: 0.1865106076002121\n",
      "epoch: 40, lr: 0.0001, bs: 128, btraining loss: 0.17883595824241638, valid loss: 0.1592189371585846\n",
      "epoch: 41, lr: 0.0001, bs: 128, btraining loss: 0.19462496042251587, valid loss: 0.16108281910419464\n",
      "epoch: 42, lr: 0.0001, bs: 128, btraining loss: 0.18293936550617218, valid loss: 0.21772582828998566\n",
      "epoch: 43, lr: 0.0001, bs: 128, btraining loss: 0.255487859249115, valid loss: 0.2390720248222351\n",
      "epoch: 44, lr: 0.0001, bs: 128, btraining loss: 0.1928248554468155, valid loss: 0.24167683720588684\n",
      "epoch: 45, lr: 0.0001, bs: 128, btraining loss: 0.12718477845191956, valid loss: 0.20986804366111755\n",
      "epoch: 46, lr: 0.0001, bs: 128, btraining loss: 0.20545633137226105, valid loss: 0.23889687657356262\n",
      "epoch: 47, lr: 0.0001, bs: 128, btraining loss: 0.16958557069301605, valid loss: 0.22649632394313812\n",
      "epoch: 48, lr: 0.0001, bs: 128, btraining loss: 0.1929636150598526, valid loss: 0.17329835891723633\n",
      "epoch: 49, lr: 0.0001, bs: 128, btraining loss: 0.2077091783285141, valid loss: 0.21402861177921295\n",
      "epoch: 50, lr: 0.0001, bs: 128, btraining loss: 0.15375098586082458, valid loss: 0.22703616321086884\n",
      "epoch: 51, lr: 0.0001, bs: 128, btraining loss: 0.1718442291021347, valid loss: 0.20180389285087585\n",
      "epoch: 52, lr: 0.0001, bs: 128, btraining loss: 0.19890616834163666, valid loss: 0.19019779562950134\n",
      "epoch: 53, lr: 0.0001, bs: 128, btraining loss: 0.13963350653648376, valid loss: 0.18752016127109528\n",
      "epoch: 54, lr: 0.0001, bs: 128, btraining loss: 0.1331968605518341, valid loss: 0.16396188735961914\n",
      "epoch: 55, lr: 0.0001, bs: 128, btraining loss: 0.2945988178253174, valid loss: 0.21359941363334656\n",
      "epoch: 56, lr: 0.0001, bs: 128, btraining loss: 0.15005865693092346, valid loss: 0.23742590844631195\n",
      "epoch: 57, lr: 0.0001, bs: 128, btraining loss: 0.22297020256519318, valid loss: 0.16992856562137604\n",
      "epoch: 58, lr: 0.0001, bs: 128, btraining loss: 0.250437468290329, valid loss: 0.21427375078201294\n",
      "epoch: 59, lr: 0.0001, bs: 128, btraining loss: 0.17696094512939453, valid loss: 0.19766806066036224\n",
      "epoch: 60, lr: 0.0001, bs: 128, btraining loss: 0.23634077608585358, valid loss: 0.17370617389678955\n",
      "epoch: 61, lr: 0.0001, bs: 128, btraining loss: 0.1673506200313568, valid loss: 0.19276754558086395\n",
      "epoch: 62, lr: 0.0001, bs: 128, btraining loss: 0.19564160704612732, valid loss: 0.2318563610315323\n",
      "epoch: 63, lr: 0.0001, bs: 128, btraining loss: 0.1364726722240448, valid loss: 0.1857142299413681\n",
      "epoch: 64, lr: 0.0001, bs: 128, btraining loss: 0.21531957387924194, valid loss: 0.255025714635849\n",
      "epoch: 65, lr: 0.0001, bs: 128, btraining loss: 0.2006954848766327, valid loss: 0.24801696836948395\n",
      "epoch: 66, lr: 0.0001, bs: 128, btraining loss: 0.24205681681632996, valid loss: 0.21681977808475494\n"
     ]
    },
    {
     "name": "stdout",
     "output_type": "stream",
     "text": [
      "epoch: 67, lr: 0.0001, bs: 128, btraining loss: 0.17693708837032318, valid loss: 0.18503913283348083\n",
      "epoch: 68, lr: 0.0001, bs: 128, btraining loss: 0.19211047887802124, valid loss: 0.16002823412418365\n",
      "epoch: 69, lr: 0.0001, bs: 128, btraining loss: 0.17803645133972168, valid loss: 0.16739562153816223\n",
      "epoch: 70, lr: 0.0001, bs: 128, btraining loss: 0.17924144864082336, valid loss: 0.15245875716209412\n",
      "epoch: 71, lr: 0.0001, bs: 128, btraining loss: 0.1711030900478363, valid loss: 0.23163682222366333\n",
      "epoch: 72, lr: 0.0001, bs: 128, btraining loss: 0.11808213591575623, valid loss: 0.21895958483219147\n",
      "epoch: 73, lr: 0.0001, bs: 128, btraining loss: 0.1565430611371994, valid loss: 0.2132212519645691\n",
      "epoch: 74, lr: 0.0001, bs: 128, btraining loss: 0.1847650110721588, valid loss: 0.17113319039344788\n",
      "epoch: 75, lr: 0.0001, bs: 128, btraining loss: 0.16473723948001862, valid loss: 0.1710190773010254\n",
      "epoch: 76, lr: 0.0001, bs: 128, btraining loss: 0.16113118827342987, valid loss: 0.25347891449928284\n",
      "epoch: 77, lr: 0.0001, bs: 128, btraining loss: 0.1928393840789795, valid loss: 0.21097257733345032\n",
      "epoch: 78, lr: 0.0001, bs: 128, btraining loss: 0.17451933026313782, valid loss: 0.20164018869400024\n",
      "epoch: 79, lr: 0.0001, bs: 128, btraining loss: 0.198741614818573, valid loss: 0.18916907906532288\n",
      "epoch: 80, lr: 0.0001, bs: 128, btraining loss: 0.14880450069904327, valid loss: 0.17525218427181244\n",
      "epoch: 81, lr: 0.0001, bs: 128, btraining loss: 0.14657780528068542, valid loss: 0.22030454874038696\n",
      "epoch: 82, lr: 0.0001, bs: 128, btraining loss: 0.19998222589492798, valid loss: 0.2628065347671509\n",
      "epoch: 83, lr: 0.0001, bs: 128, btraining loss: 0.2628241777420044, valid loss: 0.18837100267410278\n",
      "epoch: 84, lr: 0.0001, bs: 128, btraining loss: 0.18268489837646484, valid loss: 0.1778791844844818\n",
      "epoch: 85, lr: 0.0001, bs: 128, btraining loss: 0.14559563994407654, valid loss: 0.17191164195537567\n",
      "epoch: 86, lr: 0.0001, bs: 128, btraining loss: 0.1624118685722351, valid loss: 0.19807428121566772\n",
      "epoch: 87, lr: 0.0001, bs: 128, btraining loss: 0.1772594302892685, valid loss: 0.21733848750591278\n",
      "epoch: 88, lr: 0.0001, bs: 128, btraining loss: 0.24416814744472504, valid loss: 0.19217549264431\n",
      "epoch: 89, lr: 0.0001, bs: 128, btraining loss: 0.14253684878349304, valid loss: 0.18047204613685608\n",
      "epoch: 90, lr: 0.0001, bs: 128, btraining loss: 0.254692018032074, valid loss: 0.16377678513526917\n",
      "epoch: 91, lr: 0.0001, bs: 128, btraining loss: 0.15684229135513306, valid loss: 0.20069070160388947\n",
      "epoch: 92, lr: 0.0001, bs: 128, btraining loss: 0.21239347755908966, valid loss: 0.18414656817913055\n",
      "epoch: 93, lr: 0.0001, bs: 128, btraining loss: 0.1888311803340912, valid loss: 0.16421882808208466\n",
      "epoch: 94, lr: 0.0001, bs: 128, btraining loss: 0.16971774399280548, valid loss: 0.22398653626441956\n",
      "epoch: 95, lr: 0.0001, bs: 128, btraining loss: 0.17917421460151672, valid loss: 0.23299092054367065\n",
      "epoch: 96, lr: 0.0001, bs: 128, btraining loss: 0.2278306484222412, valid loss: 0.17288191616535187\n",
      "epoch: 97, lr: 0.0001, bs: 128, btraining loss: 0.2322072684764862, valid loss: 0.19673049449920654\n",
      "epoch: 98, lr: 0.0001, bs: 128, btraining loss: 0.23535199463367462, valid loss: 0.19851888716220856\n",
      "epoch: 99, lr: 0.0001, bs: 128, btraining loss: 0.1756322830915451, valid loss: 0.14750665426254272\n",
      "epoch: 0, lr: 1e-05, bs: 32, btraining loss: 0.38250261545181274, valid loss: 0.061482228338718414\n",
      "epoch: 1, lr: 1e-05, bs: 32, btraining loss: 0.18511800467967987, valid loss: 0.4047788381576538\n",
      "epoch: 2, lr: 1e-05, bs: 32, btraining loss: 0.13436828553676605, valid loss: 0.22455552220344543\n",
      "epoch: 3, lr: 1e-05, bs: 32, btraining loss: 0.10827276855707169, valid loss: 0.10578817874193192\n",
      "epoch: 4, lr: 1e-05, bs: 32, btraining loss: 0.23691529035568237, valid loss: 0.08073479682207108\n",
      "epoch: 5, lr: 1e-05, bs: 32, btraining loss: 0.2226371318101883, valid loss: 0.2557690143585205\n",
      "epoch: 6, lr: 1e-05, bs: 32, btraining loss: 0.2024356573820114, valid loss: 0.3728027045726776\n",
      "epoch: 7, lr: 1e-05, bs: 32, btraining loss: 0.17224077880382538, valid loss: 0.08123081922531128\n",
      "epoch: 8, lr: 1e-05, bs: 32, btraining loss: 0.13287553191184998, valid loss: 0.22068093717098236\n",
      "epoch: 9, lr: 1e-05, bs: 32, btraining loss: 0.30433014035224915, valid loss: 0.10962861776351929\n",
      "epoch: 10, lr: 1e-05, bs: 32, btraining loss: 0.16154226660728455, valid loss: 0.11220794916152954\n",
      "epoch: 11, lr: 1e-05, bs: 32, btraining loss: 0.2521815896034241, valid loss: 0.1889505833387375\n",
      "epoch: 12, lr: 1e-05, bs: 32, btraining loss: 0.2693415582180023, valid loss: 0.07619131356477737\n",
      "epoch: 13, lr: 1e-05, bs: 32, btraining loss: 0.19269970059394836, valid loss: 0.0520041398704052\n",
      "epoch: 14, lr: 1e-05, bs: 32, btraining loss: 0.21107929944992065, valid loss: 0.2835926413536072\n",
      "epoch: 15, lr: 1e-05, bs: 32, btraining loss: 0.24635711312294006, valid loss: 1.4201762676239014\n",
      "epoch: 16, lr: 1e-05, bs: 32, btraining loss: 0.11155392974615097, valid loss: 0.09229086339473724\n",
      "epoch: 17, lr: 1e-05, bs: 32, btraining loss: 0.17369480431079865, valid loss: 0.06985399127006531\n",
      "epoch: 18, lr: 1e-05, bs: 32, btraining loss: 0.11820352077484131, valid loss: 0.06517904996871948\n",
      "epoch: 19, lr: 1e-05, bs: 32, btraining loss: 0.17688418924808502, valid loss: 0.1352919042110443\n",
      "epoch: 20, lr: 1e-05, bs: 32, btraining loss: 0.3357662260532379, valid loss: 0.0759100392460823\n",
      "epoch: 21, lr: 1e-05, bs: 32, btraining loss: 0.10500426590442657, valid loss: 0.13415849208831787\n",
      "epoch: 22, lr: 1e-05, bs: 32, btraining loss: 0.22992633283138275, valid loss: 0.11843454092741013\n",
      "epoch: 23, lr: 1e-05, bs: 32, btraining loss: 0.12718519568443298, valid loss: 0.11169390380382538\n",
      "epoch: 24, lr: 1e-05, bs: 32, btraining loss: 0.24216198921203613, valid loss: 0.09940266609191895\n",
      "epoch: 25, lr: 1e-05, bs: 32, btraining loss: 0.19558344781398773, valid loss: 0.3938848674297333\n",
      "epoch: 26, lr: 1e-05, bs: 32, btraining loss: 0.26617205142974854, valid loss: 0.11194685846567154\n",
      "epoch: 27, lr: 1e-05, bs: 32, btraining loss: 0.1981637328863144, valid loss: 0.07738692313432693\n",
      "epoch: 28, lr: 1e-05, bs: 32, btraining loss: 0.35638412833213806, valid loss: 0.17936569452285767\n",
      "epoch: 29, lr: 1e-05, bs: 32, btraining loss: 0.2593199610710144, valid loss: 0.040257588028907776\n",
      "epoch: 30, lr: 1e-05, bs: 32, btraining loss: 0.3137177526950836, valid loss: 0.10239330679178238\n",
      "epoch: 31, lr: 1e-05, bs: 32, btraining loss: 0.2567819058895111, valid loss: 0.30524489283561707\n",
      "epoch: 32, lr: 1e-05, bs: 32, btraining loss: 0.1595502495765686, valid loss: 0.6348355412483215\n",
      "epoch: 33, lr: 1e-05, bs: 32, btraining loss: 0.18049131333827972, valid loss: 0.10308235883712769\n",
      "epoch: 34, lr: 1e-05, bs: 32, btraining loss: 0.1711897999048233, valid loss: 0.18333032727241516\n",
      "epoch: 35, lr: 1e-05, bs: 32, btraining loss: 0.12076849490404129, valid loss: 0.08016444742679596\n",
      "epoch: 36, lr: 1e-05, bs: 32, btraining loss: 0.09319869428873062, valid loss: 0.24049322307109833\n",
      "epoch: 37, lr: 1e-05, bs: 32, btraining loss: 0.14734166860580444, valid loss: 0.1472007781267166\n",
      "epoch: 38, lr: 1e-05, bs: 32, btraining loss: 0.1650632619857788, valid loss: 0.12247619777917862\n",
      "epoch: 39, lr: 1e-05, bs: 32, btraining loss: 0.14264576137065887, valid loss: 0.2008683830499649\n",
      "epoch: 40, lr: 1e-05, bs: 32, btraining loss: 0.2159855216741562, valid loss: 0.270128458738327\n",
      "epoch: 41, lr: 1e-05, bs: 32, btraining loss: 0.1473539024591446, valid loss: 0.21079248189926147\n",
      "epoch: 42, lr: 1e-05, bs: 32, btraining loss: 0.21469849348068237, valid loss: 0.06662219017744064\n",
      "epoch: 43, lr: 1e-05, bs: 32, btraining loss: 0.1594250649213791, valid loss: 0.04359133541584015\n",
      "epoch: 44, lr: 1e-05, bs: 32, btraining loss: 0.14575669169425964, valid loss: 0.23948504030704498\n",
      "epoch: 45, lr: 1e-05, bs: 32, btraining loss: 0.11581533402204514, valid loss: 0.31926268339157104\n",
      "epoch: 46, lr: 1e-05, bs: 32, btraining loss: 0.1780349612236023, valid loss: 0.1574486345052719\n",
      "epoch: 47, lr: 1e-05, bs: 32, btraining loss: 0.2094045728445053, valid loss: 0.06832747906446457\n",
      "epoch: 48, lr: 1e-05, bs: 32, btraining loss: 0.1251569241285324, valid loss: 0.0908239483833313\n",
      "epoch: 49, lr: 1e-05, bs: 32, btraining loss: 0.21361562609672546, valid loss: 0.5047759413719177\n"
     ]
    },
    {
     "name": "stdout",
     "output_type": "stream",
     "text": [
      "epoch: 50, lr: 1e-05, bs: 32, btraining loss: 0.2947675287723541, valid loss: 0.11097780615091324\n",
      "epoch: 51, lr: 1e-05, bs: 32, btraining loss: 0.19228675961494446, valid loss: 0.13113565742969513\n",
      "epoch: 52, lr: 1e-05, bs: 32, btraining loss: 0.32344549894332886, valid loss: 0.06432060152292252\n",
      "epoch: 53, lr: 1e-05, bs: 32, btraining loss: 0.1698938012123108, valid loss: 0.4967673718929291\n",
      "epoch: 54, lr: 1e-05, bs: 32, btraining loss: 0.1438179910182953, valid loss: 0.08810194581747055\n",
      "epoch: 55, lr: 1e-05, bs: 32, btraining loss: 0.14950676262378693, valid loss: 0.13160406053066254\n",
      "epoch: 56, lr: 1e-05, bs: 32, btraining loss: 0.17776131629943848, valid loss: 1.032118797302246\n",
      "epoch: 57, lr: 1e-05, bs: 32, btraining loss: 0.15687508881092072, valid loss: 0.16056498885154724\n",
      "epoch: 58, lr: 1e-05, bs: 32, btraining loss: 0.3068408966064453, valid loss: 0.6165729761123657\n",
      "epoch: 59, lr: 1e-05, bs: 32, btraining loss: 0.20260897278785706, valid loss: 0.23661290109157562\n",
      "epoch: 60, lr: 1e-05, bs: 32, btraining loss: 0.1738041192293167, valid loss: 0.1156364381313324\n",
      "epoch: 61, lr: 1e-05, bs: 32, btraining loss: 0.22160112857818604, valid loss: 0.04883699119091034\n",
      "epoch: 62, lr: 1e-05, bs: 32, btraining loss: 0.1285439133644104, valid loss: 0.1830381602048874\n",
      "epoch: 63, lr: 1e-05, bs: 32, btraining loss: 0.161521315574646, valid loss: 0.20878028869628906\n",
      "epoch: 64, lr: 1e-05, bs: 32, btraining loss: 0.11983557045459747, valid loss: 0.06764092296361923\n",
      "epoch: 65, lr: 1e-05, bs: 32, btraining loss: 0.21413807570934296, valid loss: 0.07931962609291077\n",
      "epoch: 66, lr: 1e-05, bs: 32, btraining loss: 0.2907216548919678, valid loss: 0.1253175139427185\n",
      "epoch: 67, lr: 1e-05, bs: 32, btraining loss: 0.21572048962116241, valid loss: 0.06844485551118851\n",
      "epoch: 68, lr: 1e-05, bs: 32, btraining loss: 0.2621641159057617, valid loss: 0.19721317291259766\n",
      "epoch: 69, lr: 1e-05, bs: 32, btraining loss: 0.20520919561386108, valid loss: 0.22221727669239044\n",
      "epoch: 70, lr: 1e-05, bs: 32, btraining loss: 0.22858183085918427, valid loss: 0.2694494426250458\n",
      "epoch: 71, lr: 1e-05, bs: 32, btraining loss: 0.09425397217273712, valid loss: 0.12495961040258408\n",
      "epoch: 72, lr: 1e-05, bs: 32, btraining loss: 0.32858943939208984, valid loss: 0.8638302683830261\n",
      "epoch: 73, lr: 1e-05, bs: 32, btraining loss: 0.1716485470533371, valid loss: 0.19577522575855255\n",
      "epoch: 74, lr: 1e-05, bs: 32, btraining loss: 0.17974981665611267, valid loss: 0.0918477326631546\n",
      "epoch: 75, lr: 1e-05, bs: 32, btraining loss: 0.17535148561000824, valid loss: 0.15709754824638367\n",
      "epoch: 76, lr: 1e-05, bs: 32, btraining loss: 0.2894589602947235, valid loss: 0.07754860073328018\n",
      "epoch: 77, lr: 1e-05, bs: 32, btraining loss: 0.17079254984855652, valid loss: 0.3209502100944519\n",
      "epoch: 78, lr: 1e-05, bs: 32, btraining loss: 0.11263605207204819, valid loss: 0.3635712265968323\n",
      "epoch: 79, lr: 1e-05, bs: 32, btraining loss: 0.21498438715934753, valid loss: 0.03604996204376221\n",
      "epoch: 80, lr: 1e-05, bs: 32, btraining loss: 0.12959730625152588, valid loss: 0.06036447733640671\n",
      "epoch: 81, lr: 1e-05, bs: 32, btraining loss: 0.2851380705833435, valid loss: 0.13138873875141144\n",
      "epoch: 82, lr: 1e-05, bs: 32, btraining loss: 0.15117448568344116, valid loss: 0.13683414459228516\n",
      "epoch: 83, lr: 1e-05, bs: 32, btraining loss: 0.22905150055885315, valid loss: 0.12505295872688293\n",
      "epoch: 84, lr: 1e-05, bs: 32, btraining loss: 0.19697213172912598, valid loss: 0.032958753407001495\n",
      "epoch: 85, lr: 1e-05, bs: 32, btraining loss: 0.24570196866989136, valid loss: 0.09621282666921616\n",
      "epoch: 86, lr: 1e-05, bs: 32, btraining loss: 0.11740480363368988, valid loss: 0.4190521538257599\n",
      "epoch: 87, lr: 1e-05, bs: 32, btraining loss: 0.1488559991121292, valid loss: 0.16409756243228912\n",
      "epoch: 88, lr: 1e-05, bs: 32, btraining loss: 0.2490510493516922, valid loss: 0.0685017853975296\n",
      "epoch: 89, lr: 1e-05, bs: 32, btraining loss: 0.16825059056282043, valid loss: 0.26640287041664124\n",
      "epoch: 90, lr: 1e-05, bs: 32, btraining loss: 0.16920466721057892, valid loss: 0.8959683179855347\n",
      "epoch: 91, lr: 1e-05, bs: 32, btraining loss: 0.1576375961303711, valid loss: 0.09072285145521164\n",
      "epoch: 92, lr: 1e-05, bs: 32, btraining loss: 0.2208860218524933, valid loss: 0.0904337540268898\n",
      "epoch: 93, lr: 1e-05, bs: 32, btraining loss: 0.09539546817541122, valid loss: 0.07405471056699753\n",
      "epoch: 94, lr: 1e-05, bs: 32, btraining loss: 0.12465504556894302, valid loss: 0.06212421506643295\n",
      "epoch: 95, lr: 1e-05, bs: 32, btraining loss: 0.17960859835147858, valid loss: 0.069447360932827\n",
      "epoch: 96, lr: 1e-05, bs: 32, btraining loss: 0.16899937391281128, valid loss: 0.07303205877542496\n",
      "epoch: 97, lr: 1e-05, bs: 32, btraining loss: 0.21694746613502502, valid loss: 0.27133381366729736\n",
      "epoch: 98, lr: 1e-05, bs: 32, btraining loss: 0.25717562437057495, valid loss: 0.17751139402389526\n",
      "epoch: 99, lr: 1e-05, bs: 32, btraining loss: 0.16066691279411316, valid loss: 0.21361343562602997\n",
      "epoch: 0, lr: 1e-05, bs: 64, btraining loss: 0.19084277749061584, valid loss: 0.0720893070101738\n",
      "epoch: 1, lr: 1e-05, bs: 64, btraining loss: 0.18487414717674255, valid loss: 0.09474356472492218\n",
      "epoch: 2, lr: 1e-05, bs: 64, btraining loss: 0.21837839484214783, valid loss: 0.3677467107772827\n",
      "epoch: 3, lr: 1e-05, bs: 64, btraining loss: 0.19062530994415283, valid loss: 0.7996100783348083\n",
      "epoch: 4, lr: 1e-05, bs: 64, btraining loss: 0.17445598542690277, valid loss: 0.6558388471603394\n",
      "epoch: 5, lr: 1e-05, bs: 64, btraining loss: 0.2327999770641327, valid loss: 0.05870478227734566\n",
      "epoch: 6, lr: 1e-05, bs: 64, btraining loss: 0.19777800142765045, valid loss: 0.12225284427404404\n",
      "epoch: 7, lr: 1e-05, bs: 64, btraining loss: 0.21832072734832764, valid loss: 0.1497780680656433\n",
      "epoch: 8, lr: 1e-05, bs: 64, btraining loss: 0.1980292797088623, valid loss: 0.27082398533821106\n",
      "epoch: 9, lr: 1e-05, bs: 64, btraining loss: 0.12857770919799805, valid loss: 0.020169170573353767\n",
      "epoch: 10, lr: 1e-05, bs: 64, btraining loss: 0.18671724200248718, valid loss: 0.1268327385187149\n",
      "epoch: 11, lr: 1e-05, bs: 64, btraining loss: 0.12928977608680725, valid loss: 0.3422250747680664\n",
      "epoch: 12, lr: 1e-05, bs: 64, btraining loss: 0.19161991775035858, valid loss: 0.5231569409370422\n",
      "epoch: 13, lr: 1e-05, bs: 64, btraining loss: 0.1209321916103363, valid loss: 0.13838960230350494\n",
      "epoch: 14, lr: 1e-05, bs: 64, btraining loss: 0.126236692070961, valid loss: 0.6343877911567688\n",
      "epoch: 15, lr: 1e-05, bs: 64, btraining loss: 0.2171601951122284, valid loss: 0.10431449115276337\n",
      "epoch: 16, lr: 1e-05, bs: 64, btraining loss: 0.24989232420921326, valid loss: 0.24768345057964325\n",
      "epoch: 17, lr: 1e-05, bs: 64, btraining loss: 0.1169501468539238, valid loss: 0.06679031252861023\n",
      "epoch: 18, lr: 1e-05, bs: 64, btraining loss: 0.1676081120967865, valid loss: 0.26664960384368896\n",
      "epoch: 19, lr: 1e-05, bs: 64, btraining loss: 0.21835632622241974, valid loss: 0.0530424602329731\n",
      "epoch: 20, lr: 1e-05, bs: 64, btraining loss: 0.15817204117774963, valid loss: 0.08110865205526352\n",
      "epoch: 21, lr: 1e-05, bs: 64, btraining loss: 0.16622605919837952, valid loss: 0.20934277772903442\n",
      "epoch: 22, lr: 1e-05, bs: 64, btraining loss: 0.20811524987220764, valid loss: 0.5977891683578491\n",
      "epoch: 23, lr: 1e-05, bs: 64, btraining loss: 0.17568649351596832, valid loss: 0.6089707612991333\n",
      "epoch: 24, lr: 1e-05, bs: 64, btraining loss: 0.11230380833148956, valid loss: 0.10180109739303589\n",
      "epoch: 25, lr: 1e-05, bs: 64, btraining loss: 0.22850073873996735, valid loss: 0.25828611850738525\n",
      "epoch: 26, lr: 1e-05, bs: 64, btraining loss: 0.17916718125343323, valid loss: 0.10482077300548553\n",
      "epoch: 27, lr: 1e-05, bs: 64, btraining loss: 0.124005988240242, valid loss: 0.15622232854366302\n",
      "epoch: 28, lr: 1e-05, bs: 64, btraining loss: 0.19545872509479523, valid loss: 0.10790027678012848\n",
      "epoch: 29, lr: 1e-05, bs: 64, btraining loss: 0.14433497190475464, valid loss: 0.10809683799743652\n",
      "epoch: 30, lr: 1e-05, bs: 64, btraining loss: 0.1824185997247696, valid loss: 0.3913000226020813\n",
      "epoch: 31, lr: 1e-05, bs: 64, btraining loss: 0.2645859718322754, valid loss: 0.4674677848815918\n",
      "epoch: 32, lr: 1e-05, bs: 64, btraining loss: 0.2025451958179474, valid loss: 0.3001633286476135\n",
      "epoch: 33, lr: 1e-05, bs: 64, btraining loss: 0.19965605437755585, valid loss: 0.3899514079093933\n"
     ]
    },
    {
     "name": "stdout",
     "output_type": "stream",
     "text": [
      "epoch: 34, lr: 1e-05, bs: 64, btraining loss: 0.25393471121788025, valid loss: 0.10547583550214767\n",
      "epoch: 35, lr: 1e-05, bs: 64, btraining loss: 0.19419096410274506, valid loss: 0.2391810566186905\n",
      "epoch: 36, lr: 1e-05, bs: 64, btraining loss: 0.17867062985897064, valid loss: 0.3019377291202545\n",
      "epoch: 37, lr: 1e-05, bs: 64, btraining loss: 0.1700127124786377, valid loss: 0.6624457240104675\n",
      "epoch: 38, lr: 1e-05, bs: 64, btraining loss: 0.2033432573080063, valid loss: 0.23968465626239777\n",
      "epoch: 39, lr: 1e-05, bs: 64, btraining loss: 0.25599491596221924, valid loss: 0.0788220539689064\n",
      "epoch: 40, lr: 1e-05, bs: 64, btraining loss: 0.15137545764446259, valid loss: 0.0866183415055275\n",
      "epoch: 41, lr: 1e-05, bs: 64, btraining loss: 0.2307063788175583, valid loss: 0.1493932008743286\n",
      "epoch: 42, lr: 1e-05, bs: 64, btraining loss: 0.2177170068025589, valid loss: 0.17970281839370728\n",
      "epoch: 43, lr: 1e-05, bs: 64, btraining loss: 0.18177416920661926, valid loss: 0.12401184439659119\n",
      "epoch: 44, lr: 1e-05, bs: 64, btraining loss: 0.2342040091753006, valid loss: 0.2664267122745514\n",
      "epoch: 45, lr: 1e-05, bs: 64, btraining loss: 0.2062215358018875, valid loss: 0.13211482763290405\n",
      "epoch: 46, lr: 1e-05, bs: 64, btraining loss: 0.1328386515378952, valid loss: 0.09144007414579391\n",
      "epoch: 47, lr: 1e-05, bs: 64, btraining loss: 0.2927241325378418, valid loss: 0.13753049075603485\n",
      "epoch: 48, lr: 1e-05, bs: 64, btraining loss: 0.12088052183389664, valid loss: 0.4208746552467346\n",
      "epoch: 49, lr: 1e-05, bs: 64, btraining loss: 0.1254882961511612, valid loss: 0.3057154417037964\n",
      "epoch: 50, lr: 1e-05, bs: 64, btraining loss: 0.15592211484909058, valid loss: 0.06598181277513504\n",
      "epoch: 51, lr: 1e-05, bs: 64, btraining loss: 0.1982412189245224, valid loss: 0.09771870076656342\n",
      "epoch: 52, lr: 1e-05, bs: 64, btraining loss: 0.13205720484256744, valid loss: 0.1518455147743225\n",
      "epoch: 53, lr: 1e-05, bs: 64, btraining loss: 0.15438991785049438, valid loss: 0.10897023230791092\n",
      "epoch: 54, lr: 1e-05, bs: 64, btraining loss: 0.19115649163722992, valid loss: 0.21856729686260223\n",
      "epoch: 55, lr: 1e-05, bs: 64, btraining loss: 0.15497033298015594, valid loss: 0.19300934672355652\n",
      "epoch: 56, lr: 1e-05, bs: 64, btraining loss: 0.16037729382514954, valid loss: 0.11120214313268661\n",
      "epoch: 57, lr: 1e-05, bs: 64, btraining loss: 0.20881688594818115, valid loss: 0.16921058297157288\n",
      "epoch: 58, lr: 1e-05, bs: 64, btraining loss: 0.21620739996433258, valid loss: 0.22676905989646912\n",
      "epoch: 59, lr: 1e-05, bs: 64, btraining loss: 0.23837997019290924, valid loss: 0.08718779683113098\n",
      "epoch: 60, lr: 1e-05, bs: 64, btraining loss: 0.20210711658000946, valid loss: 0.14810125529766083\n",
      "epoch: 61, lr: 1e-05, bs: 64, btraining loss: 0.18321874737739563, valid loss: 0.09392615407705307\n",
      "epoch: 62, lr: 1e-05, bs: 64, btraining loss: 0.1706872582435608, valid loss: 0.06035291403532028\n",
      "epoch: 63, lr: 1e-05, bs: 64, btraining loss: 0.19724491238594055, valid loss: 0.1185387372970581\n",
      "epoch: 64, lr: 1e-05, bs: 64, btraining loss: 0.1942366659641266, valid loss: 0.15495246648788452\n",
      "epoch: 65, lr: 1e-05, bs: 64, btraining loss: 0.18504366278648376, valid loss: 0.5938924551010132\n",
      "epoch: 66, lr: 1e-05, bs: 64, btraining loss: 0.15969665348529816, valid loss: 0.12559998035430908\n",
      "epoch: 67, lr: 1e-05, bs: 64, btraining loss: 0.19982507824897766, valid loss: 0.09036370366811752\n",
      "epoch: 68, lr: 1e-05, bs: 64, btraining loss: 0.17424383759498596, valid loss: 0.08313502371311188\n",
      "epoch: 69, lr: 1e-05, bs: 64, btraining loss: 0.2004977911710739, valid loss: 0.06358642131090164\n",
      "epoch: 70, lr: 1e-05, bs: 64, btraining loss: 0.1703491061925888, valid loss: 0.07938701659440994\n",
      "epoch: 71, lr: 1e-05, bs: 64, btraining loss: 0.16616249084472656, valid loss: 0.290304034948349\n",
      "epoch: 72, lr: 1e-05, bs: 64, btraining loss: 0.19484221935272217, valid loss: 0.40997228026390076\n",
      "epoch: 73, lr: 1e-05, bs: 64, btraining loss: 0.1933060735464096, valid loss: 0.13295875489711761\n",
      "epoch: 74, lr: 1e-05, bs: 64, btraining loss: 0.21725919842720032, valid loss: 0.17045073211193085\n",
      "epoch: 75, lr: 1e-05, bs: 64, btraining loss: 0.18764455616474152, valid loss: 0.3817816972732544\n",
      "epoch: 76, lr: 1e-05, bs: 64, btraining loss: 0.19743798673152924, valid loss: 0.14443045854568481\n",
      "epoch: 77, lr: 1e-05, bs: 64, btraining loss: 0.1798279583454132, valid loss: 0.04048965126276016\n",
      "epoch: 78, lr: 1e-05, bs: 64, btraining loss: 0.1281280815601349, valid loss: 0.07480449974536896\n",
      "epoch: 79, lr: 1e-05, bs: 64, btraining loss: 0.20948940515518188, valid loss: 0.574097216129303\n",
      "epoch: 80, lr: 1e-05, bs: 64, btraining loss: 0.23180092871189117, valid loss: 0.1377355456352234\n",
      "epoch: 81, lr: 1e-05, bs: 64, btraining loss: 0.23456422984600067, valid loss: 0.7342284321784973\n",
      "epoch: 82, lr: 1e-05, bs: 64, btraining loss: 0.17604857683181763, valid loss: 0.11649349331855774\n",
      "epoch: 83, lr: 1e-05, bs: 64, btraining loss: 0.18045048415660858, valid loss: 0.06683573871850967\n",
      "epoch: 84, lr: 1e-05, bs: 64, btraining loss: 0.18047964572906494, valid loss: 0.14067910611629486\n",
      "epoch: 85, lr: 1e-05, bs: 64, btraining loss: 0.23603737354278564, valid loss: 0.11293835937976837\n",
      "epoch: 86, lr: 1e-05, bs: 64, btraining loss: 0.21581268310546875, valid loss: 0.16244426369667053\n",
      "epoch: 87, lr: 1e-05, bs: 64, btraining loss: 0.11959994584321976, valid loss: 0.151689350605011\n",
      "epoch: 88, lr: 1e-05, bs: 64, btraining loss: 0.09341732412576675, valid loss: 0.8442047238349915\n",
      "epoch: 89, lr: 1e-05, bs: 64, btraining loss: 0.13686631619930267, valid loss: 0.05973826348781586\n",
      "epoch: 90, lr: 1e-05, bs: 64, btraining loss: 0.30961084365844727, valid loss: 0.1725711077451706\n",
      "epoch: 91, lr: 1e-05, bs: 64, btraining loss: 0.13834139704704285, valid loss: 0.08313696086406708\n",
      "epoch: 92, lr: 1e-05, bs: 64, btraining loss: 0.2090010643005371, valid loss: 0.09312180429697037\n",
      "epoch: 93, lr: 1e-05, bs: 64, btraining loss: 0.19144286215305328, valid loss: 0.07655023783445358\n",
      "epoch: 94, lr: 1e-05, bs: 64, btraining loss: 0.19549843668937683, valid loss: 0.2868916988372803\n",
      "epoch: 95, lr: 1e-05, bs: 64, btraining loss: 0.12143916636705399, valid loss: 0.07388804852962494\n",
      "epoch: 96, lr: 1e-05, bs: 64, btraining loss: 0.18628597259521484, valid loss: 0.14640051126480103\n",
      "epoch: 97, lr: 1e-05, bs: 64, btraining loss: 0.2497742772102356, valid loss: 0.029494034126400948\n",
      "epoch: 98, lr: 1e-05, bs: 64, btraining loss: 0.1820477396249771, valid loss: 0.08213721215724945\n",
      "epoch: 99, lr: 1e-05, bs: 64, btraining loss: 0.20070260763168335, valid loss: 0.17345011234283447\n",
      "epoch: 0, lr: 1e-05, bs: 128, btraining loss: 0.19930464029312134, valid loss: 0.22944696247577667\n",
      "epoch: 1, lr: 1e-05, bs: 128, btraining loss: 0.23360031843185425, valid loss: 0.22653518617153168\n",
      "epoch: 2, lr: 1e-05, bs: 128, btraining loss: 0.20791113376617432, valid loss: 0.19793887436389923\n",
      "epoch: 3, lr: 1e-05, bs: 128, btraining loss: 0.1788029670715332, valid loss: 0.19066956639289856\n",
      "epoch: 4, lr: 1e-05, bs: 128, btraining loss: 0.17669782042503357, valid loss: 0.25913572311401367\n",
      "epoch: 5, lr: 1e-05, bs: 128, btraining loss: 0.2119937539100647, valid loss: 0.22596994042396545\n",
      "epoch: 6, lr: 1e-05, bs: 128, btraining loss: 0.22609464824199677, valid loss: 0.17396071553230286\n",
      "epoch: 7, lr: 1e-05, bs: 128, btraining loss: 0.1844787299633026, valid loss: 0.20260190963745117\n",
      "epoch: 8, lr: 1e-05, bs: 128, btraining loss: 0.13540582358837128, valid loss: 0.22358115017414093\n",
      "epoch: 9, lr: 1e-05, bs: 128, btraining loss: 0.14478938281536102, valid loss: 0.18169771134853363\n",
      "epoch: 10, lr: 1e-05, bs: 128, btraining loss: 0.13744109869003296, valid loss: 0.20208218693733215\n",
      "epoch: 11, lr: 1e-05, bs: 128, btraining loss: 0.1657724827528, valid loss: 0.18114973604679108\n",
      "epoch: 12, lr: 1e-05, bs: 128, btraining loss: 0.1313350796699524, valid loss: 0.22975093126296997\n",
      "epoch: 13, lr: 1e-05, bs: 128, btraining loss: 0.16117611527442932, valid loss: 0.20794259011745453\n",
      "epoch: 14, lr: 1e-05, bs: 128, btraining loss: 0.12949725985527039, valid loss: 0.2457531839609146\n",
      "epoch: 15, lr: 1e-05, bs: 128, btraining loss: 0.1640239655971527, valid loss: 0.15107496082782745\n",
      "epoch: 16, lr: 1e-05, bs: 128, btraining loss: 0.20727115869522095, valid loss: 0.18400530517101288\n",
      "epoch: 17, lr: 1e-05, bs: 128, btraining loss: 0.20696119964122772, valid loss: 0.23470169305801392\n"
     ]
    },
    {
     "name": "stdout",
     "output_type": "stream",
     "text": [
      "epoch: 18, lr: 1e-05, bs: 128, btraining loss: 0.28386446833610535, valid loss: 0.18792051076889038\n",
      "epoch: 19, lr: 1e-05, bs: 128, btraining loss: 0.18302005529403687, valid loss: 0.1973339319229126\n",
      "epoch: 20, lr: 1e-05, bs: 128, btraining loss: 0.21865704655647278, valid loss: 0.25640028715133667\n",
      "epoch: 21, lr: 1e-05, bs: 128, btraining loss: 0.20970217883586884, valid loss: 0.20952975749969482\n",
      "epoch: 22, lr: 1e-05, bs: 128, btraining loss: 0.23858995735645294, valid loss: 0.21463601291179657\n",
      "epoch: 23, lr: 1e-05, bs: 128, btraining loss: 0.1522698998451233, valid loss: 0.1993984431028366\n",
      "epoch: 24, lr: 1e-05, bs: 128, btraining loss: 0.19248560070991516, valid loss: 0.1975107491016388\n",
      "epoch: 25, lr: 1e-05, bs: 128, btraining loss: 0.27945709228515625, valid loss: 0.2150523066520691\n",
      "epoch: 26, lr: 1e-05, bs: 128, btraining loss: 0.20639093220233917, valid loss: 0.21436648070812225\n",
      "epoch: 27, lr: 1e-05, bs: 128, btraining loss: 0.17234574258327484, valid loss: 0.18992221355438232\n",
      "epoch: 28, lr: 1e-05, bs: 128, btraining loss: 0.17461365461349487, valid loss: 0.20027539134025574\n",
      "epoch: 29, lr: 1e-05, bs: 128, btraining loss: 0.1765749752521515, valid loss: 0.21793347597122192\n",
      "epoch: 30, lr: 1e-05, bs: 128, btraining loss: 0.25407660007476807, valid loss: 0.2634042799472809\n",
      "epoch: 31, lr: 1e-05, bs: 128, btraining loss: 0.20176361501216888, valid loss: 0.17177943885326385\n",
      "epoch: 32, lr: 1e-05, bs: 128, btraining loss: 0.1797647327184677, valid loss: 0.19686777889728546\n",
      "epoch: 33, lr: 1e-05, bs: 128, btraining loss: 0.167583167552948, valid loss: 0.17238782346248627\n",
      "epoch: 34, lr: 1e-05, bs: 128, btraining loss: 0.17482875287532806, valid loss: 0.18963748216629028\n",
      "epoch: 35, lr: 1e-05, bs: 128, btraining loss: 0.17434996366500854, valid loss: 0.23314312100410461\n",
      "epoch: 36, lr: 1e-05, bs: 128, btraining loss: 0.13412438333034515, valid loss: 0.21173806488513947\n",
      "epoch: 37, lr: 1e-05, bs: 128, btraining loss: 0.16629411280155182, valid loss: 0.2253245711326599\n",
      "epoch: 38, lr: 1e-05, bs: 128, btraining loss: 0.1703660935163498, valid loss: 0.18952405452728271\n",
      "epoch: 39, lr: 1e-05, bs: 128, btraining loss: 0.21750441193580627, valid loss: 0.17750021815299988\n",
      "epoch: 40, lr: 1e-05, bs: 128, btraining loss: 0.25280559062957764, valid loss: 0.18751969933509827\n",
      "epoch: 41, lr: 1e-05, bs: 128, btraining loss: 0.1674414426088333, valid loss: 0.2060965597629547\n",
      "epoch: 42, lr: 1e-05, bs: 128, btraining loss: 0.1723276674747467, valid loss: 0.16313885152339935\n",
      "epoch: 43, lr: 1e-05, bs: 128, btraining loss: 0.18253496289253235, valid loss: 0.20725351572036743\n",
      "epoch: 44, lr: 1e-05, bs: 128, btraining loss: 0.20532195270061493, valid loss: 0.19778263568878174\n",
      "epoch: 45, lr: 1e-05, bs: 128, btraining loss: 0.1994217038154602, valid loss: 0.2116340547800064\n",
      "epoch: 46, lr: 1e-05, bs: 128, btraining loss: 0.20069420337677002, valid loss: 0.19302567839622498\n",
      "epoch: 47, lr: 1e-05, bs: 128, btraining loss: 0.23506928980350494, valid loss: 0.21660096943378448\n",
      "epoch: 48, lr: 1e-05, bs: 128, btraining loss: 0.1940436214208603, valid loss: 0.2067156434059143\n",
      "epoch: 49, lr: 1e-05, bs: 128, btraining loss: 0.2160145789384842, valid loss: 0.22178317606449127\n",
      "epoch: 50, lr: 1e-05, bs: 128, btraining loss: 0.23038040101528168, valid loss: 0.22295962274074554\n",
      "epoch: 51, lr: 1e-05, bs: 128, btraining loss: 0.12225428223609924, valid loss: 0.17983458936214447\n",
      "epoch: 52, lr: 1e-05, bs: 128, btraining loss: 0.15633425116539001, valid loss: 0.23354357481002808\n",
      "epoch: 53, lr: 1e-05, bs: 128, btraining loss: 0.16216446459293365, valid loss: 0.27695325016975403\n",
      "epoch: 54, lr: 1e-05, bs: 128, btraining loss: 0.202412411570549, valid loss: 0.246420755982399\n",
      "epoch: 55, lr: 1e-05, bs: 128, btraining loss: 0.14323988556861877, valid loss: 0.18209314346313477\n",
      "epoch: 56, lr: 1e-05, bs: 128, btraining loss: 0.24576765298843384, valid loss: 0.20706087350845337\n",
      "epoch: 57, lr: 1e-05, bs: 128, btraining loss: 0.21169637143611908, valid loss: 0.1891324669122696\n",
      "epoch: 58, lr: 1e-05, bs: 128, btraining loss: 0.2007817178964615, valid loss: 0.20399653911590576\n",
      "epoch: 59, lr: 1e-05, bs: 128, btraining loss: 0.16285905241966248, valid loss: 0.1705547273159027\n",
      "epoch: 60, lr: 1e-05, bs: 128, btraining loss: 0.14386193454265594, valid loss: 0.2059444636106491\n",
      "epoch: 61, lr: 1e-05, bs: 128, btraining loss: 0.17640480399131775, valid loss: 0.22635288536548615\n",
      "epoch: 62, lr: 1e-05, bs: 128, btraining loss: 0.1560051590204239, valid loss: 0.22154392302036285\n",
      "epoch: 63, lr: 1e-05, bs: 128, btraining loss: 0.15969684720039368, valid loss: 0.23235708475112915\n",
      "epoch: 64, lr: 1e-05, bs: 128, btraining loss: 0.1840675324201584, valid loss: 0.25461822748184204\n",
      "epoch: 65, lr: 1e-05, bs: 128, btraining loss: 0.16049151122570038, valid loss: 0.15964142978191376\n",
      "epoch: 66, lr: 1e-05, bs: 128, btraining loss: 0.21636882424354553, valid loss: 0.20652300119400024\n",
      "epoch: 67, lr: 1e-05, bs: 128, btraining loss: 0.18325084447860718, valid loss: 0.2233266681432724\n",
      "epoch: 68, lr: 1e-05, bs: 128, btraining loss: 0.22243019938468933, valid loss: 0.18939721584320068\n",
      "epoch: 69, lr: 1e-05, bs: 128, btraining loss: 0.14253860712051392, valid loss: 0.1848628669977188\n",
      "epoch: 70, lr: 1e-05, bs: 128, btraining loss: 0.1490158587694168, valid loss: 0.17460568249225616\n",
      "epoch: 71, lr: 1e-05, bs: 128, btraining loss: 0.15930819511413574, valid loss: 0.2255023717880249\n",
      "epoch: 72, lr: 1e-05, bs: 128, btraining loss: 0.18022488057613373, valid loss: 0.22635206580162048\n",
      "epoch: 73, lr: 1e-05, bs: 128, btraining loss: 0.156178817152977, valid loss: 0.2510686218738556\n",
      "epoch: 74, lr: 1e-05, bs: 128, btraining loss: 0.1363774538040161, valid loss: 0.214554101228714\n",
      "epoch: 75, lr: 1e-05, bs: 128, btraining loss: 0.3065014183521271, valid loss: 0.21797116100788116\n",
      "epoch: 76, lr: 1e-05, bs: 128, btraining loss: 0.2559269666671753, valid loss: 0.17771725356578827\n",
      "epoch: 77, lr: 1e-05, bs: 128, btraining loss: 0.18566742539405823, valid loss: 0.19606387615203857\n",
      "epoch: 78, lr: 1e-05, bs: 128, btraining loss: 0.13098934292793274, valid loss: 0.23121145367622375\n",
      "epoch: 79, lr: 1e-05, bs: 128, btraining loss: 0.1895778924226761, valid loss: 0.2104683220386505\n",
      "epoch: 80, lr: 1e-05, bs: 128, btraining loss: 0.15455245971679688, valid loss: 0.20886880159378052\n",
      "epoch: 81, lr: 1e-05, bs: 128, btraining loss: 0.13034823536872864, valid loss: 0.17875832319259644\n",
      "epoch: 82, lr: 1e-05, bs: 128, btraining loss: 0.17202617228031158, valid loss: 0.27217209339141846\n",
      "epoch: 83, lr: 1e-05, bs: 128, btraining loss: 0.15803463757038116, valid loss: 0.1984432488679886\n",
      "epoch: 84, lr: 1e-05, bs: 128, btraining loss: 0.16416460275650024, valid loss: 0.16092820465564728\n",
      "epoch: 85, lr: 1e-05, bs: 128, btraining loss: 0.2505643367767334, valid loss: 0.21369639039039612\n",
      "epoch: 86, lr: 1e-05, bs: 128, btraining loss: 0.1628410816192627, valid loss: 0.22879287600517273\n",
      "epoch: 87, lr: 1e-05, bs: 128, btraining loss: 0.09879522025585175, valid loss: 0.2340606153011322\n",
      "epoch: 88, lr: 1e-05, bs: 128, btraining loss: 0.15209169685840607, valid loss: 0.23160897195339203\n",
      "epoch: 89, lr: 1e-05, bs: 128, btraining loss: 0.1818593293428421, valid loss: 0.19185879826545715\n",
      "epoch: 90, lr: 1e-05, bs: 128, btraining loss: 0.1784767061471939, valid loss: 0.1924251765012741\n",
      "epoch: 91, lr: 1e-05, bs: 128, btraining loss: 0.210421621799469, valid loss: 0.2555418014526367\n",
      "epoch: 92, lr: 1e-05, bs: 128, btraining loss: 0.20355546474456787, valid loss: 0.21348965167999268\n",
      "epoch: 93, lr: 1e-05, bs: 128, btraining loss: 0.23592983186244965, valid loss: 0.23197925090789795\n",
      "epoch: 94, lr: 1e-05, bs: 128, btraining loss: 0.16349075734615326, valid loss: 0.180725559592247\n",
      "epoch: 95, lr: 1e-05, bs: 128, btraining loss: 0.2019658386707306, valid loss: 0.17303915321826935\n",
      "epoch: 96, lr: 1e-05, bs: 128, btraining loss: 0.2296246886253357, valid loss: 0.20426887273788452\n",
      "epoch: 97, lr: 1e-05, bs: 128, btraining loss: 0.17495104670524597, valid loss: 0.25961005687713623\n",
      "epoch: 98, lr: 1e-05, bs: 128, btraining loss: 0.21367304027080536, valid loss: 0.20627151429653168\n",
      "epoch: 99, lr: 1e-05, bs: 128, btraining loss: 0.20795658230781555, valid loss: 0.3026818633079529\n"
     ]
    }
   ],
   "source": [
    "import torch_geometric\n",
    "from models.gnn_dataset import *\n",
    "\n",
    "### Train the GNN policy using supervised learning (L2-norm loss)\n",
    "\n",
    "# Instantiate model and training parameters\n",
    "num_epochs = 100\n",
    "batch_sizes = [32, 64, 128]\n",
    "lrs = [0.01, 0.001, 0.0001, 0.00001]\n",
    "wt_power = 1\n",
    "Device = 'cuda'\n",
    "\n",
    "model = FCNLowerBound()\n",
    "model = model.to(Device)\n",
    "optimizer = torch.optim.Adam(model.parameters(), lr=lr)\n",
    "\n",
    "loss_func = torch.nn.L1Loss()\n",
    "\n",
    "train_losses = []\n",
    "valid_losses = []\n",
    "\n",
    "result = {'lr': [], 'bs': [], 'error': []}\n",
    "\n",
    "for lr in lrs:\n",
    "    for batch_size in batch_sizes:\n",
    "        \n",
    "        data_filepath = '/scratch/sagar/Projects/combopt/branch-and-bound-ml/antenna_selection/data/bound_approximation/trainset1_linear_pruned.pkl'\n",
    "        train_dataset = LinearLowerBoundDataset(data_filepath)\n",
    "        train_dataloader = torch.utils.data.DataLoader(train_dataset, batch_size=batch_size, shuffle=True)\n",
    "\n",
    "        valid_filepath = '/scratch/sagar/Projects/combopt/branch-and-bound-ml/antenna_selection/data/bound_approximation/validset1_linear_pruned.pkl'\n",
    "        valid_dataset =  LinearLowerBoundDataset(valid_filepath)\n",
    "        valid_dataloader = torch.utils.data.DataLoader(valid_dataset, batch_size=batch_size, shuffle=True)\n",
    "\n",
    "        for epoch in range(num_epochs):\n",
    "            # Training\n",
    "            model.train()\n",
    "            for batch in train_dataloader:        \n",
    "                feats, (z_target, _, power_target) = batch\n",
    "                feats = feats.to(Device).to(torch.float32)\n",
    "                z_target = z_target.to(Device).to(torch.float32)\n",
    "                power_target = power_target.to(Device).to(torch.float32)\n",
    "\n",
    "                z_out, power_out = model(feats)\n",
    "        #         print(loss_func(z_out, z_target.flatten()), wt_power*loss_func(power_out, power_target))\n",
    "                train_loss = loss_func(z_out, z_target) + wt_power*loss_func(power_out, power_target)\n",
    "                optimizer.zero_grad()\n",
    "                train_loss.backward()\n",
    "                optimizer.step()\n",
    "                train_losses.append(train_loss.detach().item())\n",
    "        #         print(next(model.parameters()))\n",
    "\n",
    "            # Validation\n",
    "            model.eval()\n",
    "            for batch in valid_dataloader:\n",
    "                feats, (z_target, _, power_target) = batch\n",
    "                feats = feats.to(Device).to(torch.float32)\n",
    "                z_target = z_target.to(Device).to(torch.float32)\n",
    "                power_target = power_target.to(Device).to(torch.float32)\n",
    "\n",
    "                z_out, power_out = model(feats)\n",
    "                valid_loss = loss_func(z_out, z_target) + wt_power*loss_func(power_out, power_target) \n",
    "                valid_losses.append(valid_loss.detach().item())\n",
    "\n",
    "            print('epoch: {}, lr: {}, bs: {}, btraining loss: {}, valid loss: {}'.format(epoch, lr, batch_size, train_loss, valid_loss) )\n",
    "        \n",
    "        result['lr'].append(lr)\n",
    "        result['bs'].append(batch_size)\n",
    "        result['error'].append((train_loss, valid_loss))\n",
    "        \n",
    "# Using the supervised model do antenna selection with branch and bound (as_bb)\n"
   ]
  },
  {
   "cell_type": "code",
   "execution_count": 15,
   "id": "9cc345a2",
   "metadata": {},
   "outputs": [
    {
     "data": {
      "text/plain": [
       "tensor([[-0.1761,  1.3226,  0.1227,  ...,  1.0000,  1.0000,  0.0000],\n",
       "        [-0.0466,  0.5019,  0.2496,  ...,  1.0000,  0.0000,  0.0000],\n",
       "        [ 0.1615,  1.2945,  1.4236,  ...,  0.0000,  1.0000,  1.0000],\n",
       "        ...,\n",
       "        [-1.6466,  0.2284,  0.9649,  ...,  0.0000,  1.0000,  0.0000],\n",
       "        [ 0.4147,  0.2942,  0.1549,  ...,  0.0000,  0.0000,  1.0000],\n",
       "        [ 1.0189, -1.9142,  0.9398,  ...,  0.0000,  0.0000,  0.0000]],\n",
       "       device='cuda:0')"
      ]
     },
     "execution_count": 15,
     "metadata": {},
     "output_type": "execute_result"
    }
   ],
   "source": []
  },
  {
   "cell_type": "code",
   "execution_count": 16,
   "id": "f0f22676",
   "metadata": {},
   "outputs": [
    {
     "data": {
      "text/plain": [
       "tensor([[9.9483e-01, 9.4667e-01, 9.9998e-01, 9.9701e-01, 9.9919e-01, 7.1722e-04,\n",
       "         2.7494e-03, 2.5643e-02],\n",
       "        [7.9694e-04, 9.4067e-01, 1.7212e-02, 9.8850e-01, 9.9947e-01, 3.4941e-03,\n",
       "         9.4554e-01, 9.0782e-01],\n",
       "        [9.9965e-01, 9.9588e-01, 4.3471e-02, 8.6507e-01, 9.8674e-01, 9.7635e-01,\n",
       "         6.3899e-04, 9.0697e-03],\n",
       "        [5.7489e-01, 5.0944e-01, 5.5812e-01, 9.6759e-01, 3.8924e-01, 2.4599e-03,\n",
       "         5.7345e-01, 7.2794e-03],\n",
       "        [2.7578e-01, 3.1439e-01, 2.9849e-01, 3.0897e-01, 2.7940e-01, 2.5139e-01,\n",
       "         2.5992e-01, 3.0915e-01],\n",
       "        [6.0261e-01, 9.8918e-01, 4.0586e-01, 9.9614e-01, 5.0021e-01, 3.9452e-01,\n",
       "         5.4187e-01, 4.2790e-01],\n",
       "        [4.7805e-01, 9.7020e-01, 5.0852e-01, 4.4346e-01, 4.5006e-01, 4.7216e-01,\n",
       "         4.8237e-01, 5.1252e-01],\n",
       "        [3.5770e-01, 3.2286e-01, 3.5869e-02, 2.3286e-01, 2.7019e-01, 2.7486e-01,\n",
       "         1.3588e-02, 3.6820e-01],\n",
       "        [1.2948e-02, 9.9761e-01, 1.2332e-01, 2.6456e-05, 9.8853e-01, 9.2160e-01,\n",
       "         9.9797e-01, 9.8907e-01],\n",
       "        [9.9940e-01, 1.9158e-03, 9.9970e-01, 9.7013e-01, 6.1198e-01, 9.9626e-01,\n",
       "         1.2363e-02, 8.7674e-03],\n",
       "        [1.2739e-02, 9.9908e-01, 6.5014e-02, 9.9557e-01, 4.4283e-02, 9.8243e-01,\n",
       "         9.9903e-01, 9.9876e-01],\n",
       "        [3.1851e-01, 3.0948e-01, 3.1945e-01, 3.2503e-01, 3.1782e-01, 3.2392e-01,\n",
       "         3.2560e-01, 3.2072e-01],\n",
       "        [3.5332e-03, 3.0643e-04, 9.9963e-01, 2.0194e-01, 9.9485e-01, 9.9130e-01,\n",
       "         3.2187e-01, 9.9934e-01],\n",
       "        [2.6601e-01, 2.6381e-01, 2.8085e-01, 2.2535e-01, 2.3678e-01, 2.6656e-01,\n",
       "         2.7064e-01, 7.4848e-02],\n",
       "        [5.2735e-01, 4.0718e-01, 9.9745e-01, 4.2308e-01, 4.1710e-01, 5.2293e-01,\n",
       "         3.9614e-01, 5.4699e-01],\n",
       "        [2.7319e-01, 3.1033e-01, 3.3635e-01, 2.8406e-01, 2.9755e-01, 2.7779e-01,\n",
       "         3.0433e-01, 3.7867e-02],\n",
       "        [9.9687e-01, 3.8332e-01, 1.0568e-01, 4.2281e-01, 9.7230e-01, 3.3692e-01,\n",
       "         5.8777e-01, 5.9618e-01],\n",
       "        [5.5950e-01, 4.2484e-01, 6.2710e-01, 3.7416e-01, 9.8857e-01, 5.8832e-01,\n",
       "         2.9965e-02, 6.0594e-01],\n",
       "        [9.8193e-01, 1.8470e-01, 7.8629e-02, 1.2436e-01, 1.3352e-01, 9.8656e-01,\n",
       "         9.9588e-01, 9.9293e-01],\n",
       "        [3.2560e-01, 3.2122e-01, 3.3264e-01, 3.3455e-01, 3.2521e-01, 3.1848e-01,\n",
       "         3.3055e-01, 3.3978e-01],\n",
       "        [3.4690e-02, 9.6708e-01, 1.0096e-01, 8.1753e-01, 1.5492e-04, 9.7767e-01,\n",
       "         8.5018e-03, 9.9932e-01],\n",
       "        [2.4875e-01, 6.3345e-03, 2.3407e-01, 2.0312e-01, 2.1733e-01, 1.7724e-01,\n",
       "         4.3580e-02, 2.7756e-01],\n",
       "        [5.0513e-01, 3.3019e-01, 5.1737e-01, 4.6254e-01, 9.9607e-01, 4.8406e-01,\n",
       "         9.9291e-01, 5.9770e-01],\n",
       "        [1.9941e-01, 9.9874e-01, 3.0856e-02, 9.2277e-01, 1.3209e-03, 1.4923e-03,\n",
       "         9.9933e-01, 5.5866e-03],\n",
       "        [3.3014e-01, 2.8805e-01, 3.1311e-01, 1.6437e-02, 2.1810e-01, 2.7499e-01,\n",
       "         2.6231e-01, 3.8008e-01],\n",
       "        [9.8938e-01, 1.3662e-03, 1.4691e-01, 9.9526e-01, 8.8424e-01, 8.8698e-01,\n",
       "         7.5069e-02, 9.8711e-01],\n",
       "        [5.9198e-03, 1.6624e-04, 2.5722e-02, 8.9379e-01, 9.9282e-01, 9.9329e-01,\n",
       "         3.9096e-02, 8.2985e-03],\n",
       "        [6.1744e-01, 4.8271e-01, 5.2622e-01, 5.5213e-01, 4.8578e-01, 9.9855e-01,\n",
       "         4.5117e-01, 5.3383e-01],\n",
       "        [9.9658e-01, 5.0412e-01, 2.2846e-02, 6.0024e-01, 4.9216e-01, 5.5291e-01,\n",
       "         1.7935e-02, 9.9578e-01],\n",
       "        [3.1984e-01, 2.9923e-01, 3.3083e-01, 2.9786e-01, 2.9979e-01, 3.2992e-01,\n",
       "         3.1182e-01, 3.3216e-01],\n",
       "        [2.4862e-01, 5.4476e-02, 2.8131e-01, 2.9190e-01, 3.1800e-01, 2.7799e-01,\n",
       "         2.8466e-01, 2.6578e-01],\n",
       "        [9.9994e-01, 9.9898e-01, 8.8918e-02, 8.7733e-05, 3.3512e-04, 1.2141e-03,\n",
       "         9.9860e-01, 9.9773e-01],\n",
       "        [2.8690e-02, 9.9827e-01, 2.0793e-02, 9.9455e-01, 9.9261e-01, 9.9631e-01,\n",
       "         3.8163e-03, 9.9657e-01],\n",
       "        [4.0499e-01, 4.3575e-01, 4.1954e-01, 3.2795e-03, 2.6638e-01, 3.0657e-01,\n",
       "         4.1251e-01, 2.6990e-01],\n",
       "        [4.4059e-01, 9.9307e-01, 3.6870e-01, 9.9828e-01, 5.6250e-01, 4.3908e-01,\n",
       "         4.5087e-01, 3.9313e-01],\n",
       "        [7.7687e-01, 9.9029e-01, 9.1681e-02, 4.6125e-01, 9.9749e-01, 2.0584e-03,\n",
       "         9.0942e-01, 8.6966e-01],\n",
       "        [3.3695e-01, 3.0087e-01, 3.0283e-01, 2.7325e-01, 3.1890e-01, 3.2762e-01,\n",
       "         3.1735e-01, 3.3896e-01],\n",
       "        [9.9368e-01, 5.6098e-01, 4.2749e-02, 9.9631e-01, 4.4596e-01, 9.9938e-01,\n",
       "         4.8017e-01, 5.2094e-03],\n",
       "        [9.9370e-01, 4.3175e-01, 9.9949e-01, 9.9708e-01, 4.3621e-01, 5.1653e-04,\n",
       "         4.0195e-03, 9.9969e-01],\n",
       "        [9.5415e-01, 1.8796e-03, 9.8361e-01, 9.4314e-01, 4.4801e-03, 9.5993e-01,\n",
       "         9.8590e-01, 2.0826e-02],\n",
       "        [3.0663e-01, 3.2519e-01, 3.3112e-01, 3.1964e-01, 3.2254e-01, 3.2350e-01,\n",
       "         3.2515e-01, 3.3290e-01],\n",
       "        [8.1477e-01, 9.9372e-01, 6.5729e-02, 5.7014e-01, 1.8406e-03, 6.9110e-01,\n",
       "         9.9628e-01, 5.5347e-01],\n",
       "        [6.2895e-01, 5.2663e-01, 5.6869e-01, 5.1725e-01, 3.7180e-03, 5.0837e-01,\n",
       "         9.9488e-01, 5.7669e-01],\n",
       "        [3.5539e-02, 3.0603e-04, 9.9998e-01, 1.7077e-05, 1.3000e-03, 9.9621e-01,\n",
       "         2.9827e-02, 9.9782e-01],\n",
       "        [2.7557e-01, 2.8201e-01, 2.8278e-01, 2.8063e-01, 2.7880e-01, 2.7719e-01,\n",
       "         2.7106e-01, 2.9127e-01],\n",
       "        [5.5108e-03, 5.2424e-01, 9.9986e-01, 5.0603e-01, 4.8017e-01, 6.2093e-01,\n",
       "         3.9371e-01, 9.9405e-01],\n",
       "        [3.1010e-01, 3.1045e-01, 3.0793e-01, 3.1555e-01, 3.0407e-01, 3.0678e-01,\n",
       "         3.0827e-01, 3.0689e-01],\n",
       "        [3.0559e-01, 3.0794e-01, 3.2109e-01, 3.1164e-01, 3.1175e-01, 3.0572e-01,\n",
       "         3.1080e-01, 3.1896e-01],\n",
       "        [1.5926e-02, 9.8821e-01, 1.0371e-01, 9.8043e-01, 3.3269e-04, 3.7543e-03,\n",
       "         9.8036e-01, 8.4558e-01],\n",
       "        [5.5954e-01, 5.0924e-01, 4.6961e-01, 5.2381e-01, 4.7036e-01, 4.9797e-01,\n",
       "         9.9116e-01, 5.4907e-01],\n",
       "        [3.0724e-01, 2.4103e-01, 3.4940e-01, 2.8140e-01, 2.5137e-01, 2.1591e-01,\n",
       "         5.7160e-02, 2.7724e-01],\n",
       "        [2.6946e-01, 2.5983e-01, 3.1252e-01, 1.7773e-01, 2.3455e-01, 2.5626e-01,\n",
       "         4.0483e-02, 2.8609e-01],\n",
       "        [9.9123e-01, 2.3237e-01, 4.3261e-01, 9.7484e-04, 9.9406e-01, 9.9894e-01,\n",
       "         9.9802e-01, 1.1291e-03],\n",
       "        [9.3943e-03, 4.4297e-03, 2.1811e-01, 9.5429e-01, 9.5972e-01, 9.9385e-01,\n",
       "         8.6828e-03, 9.9276e-01],\n",
       "        [9.9495e-01, 9.6855e-01, 5.2845e-03, 1.1769e-04, 9.9986e-01, 9.6076e-01,\n",
       "         9.5737e-01, 9.6869e-04],\n",
       "        [2.9825e-01, 2.2427e-03, 2.6629e-01, 9.9763e-01, 3.2937e-01, 9.9927e-01,\n",
       "         9.9929e-01, 9.9670e-01],\n",
       "        [2.3617e-01, 6.9157e-02, 2.8379e-01, 2.9740e-01, 2.9433e-01, 2.6530e-01,\n",
       "         3.2699e-01, 2.8600e-01],\n",
       "        [5.0970e-01, 5.2667e-01, 5.4365e-01, 4.4162e-01, 3.6783e-01, 5.3504e-01,\n",
       "         9.9438e-01, 5.1406e-01],\n",
       "        [2.8042e-02, 9.8171e-01, 9.9369e-01, 9.4454e-01, 9.9252e-01, 6.0603e-05,\n",
       "         4.2823e-02, 1.5749e-02],\n",
       "        [3.6850e-04, 9.9200e-01, 1.5383e-01, 9.6699e-01, 9.2039e-01, 5.0933e-04,\n",
       "         9.9416e-01, 1.3747e-03],\n",
       "        [2.5174e-03, 9.7912e-01, 9.3312e-02, 9.6259e-01, 9.8847e-01, 9.9288e-01,\n",
       "         1.1282e-02, 7.8954e-04],\n",
       "        [5.6007e-01, 4.7202e-01, 1.1443e-01, 2.5725e-01, 4.0855e-01, 5.3303e-01,\n",
       "         9.9314e-01, 5.3974e-01],\n",
       "        [2.8357e-01, 1.9606e-02, 3.5977e-01, 1.8997e-01, 2.7438e-01, 3.3902e-01,\n",
       "         3.0916e-01, 1.3674e-02],\n",
       "        [4.9161e-01, 9.9703e-01, 3.9179e-01, 4.5790e-01, 4.3977e-01, 5.9914e-01,\n",
       "         4.8012e-01, 5.5524e-01]], device='cuda:0', grad_fn=<SigmoidBackward>)"
      ]
     },
     "execution_count": 16,
     "metadata": {},
     "output_type": "execute_result"
    }
   ],
   "source": [
    "z_out"
   ]
  },
  {
   "cell_type": "code",
   "execution_count": 12,
   "id": "bc1b89e7",
   "metadata": {},
   "outputs": [
    {
     "data": {
      "text/plain": [
       "torch.float64"
      ]
     },
     "execution_count": 12,
     "metadata": {},
     "output_type": "execute_result"
    }
   ],
   "source": [
    "feats.dtype"
   ]
  },
  {
   "cell_type": "code",
   "execution_count": null,
   "id": "67c9abb8",
   "metadata": {},
   "outputs": [],
   "source": []
  },
  {
   "cell_type": "code",
   "execution_count": 10,
   "id": "750115e0",
   "metadata": {},
   "outputs": [
    {
     "data": {
      "text/plain": [
       "torch.float64"
      ]
     },
     "execution_count": 10,
     "metadata": {},
     "output_type": "execute_result"
    }
   ],
   "source": [
    "feats.dtype"
   ]
  },
  {
   "cell_type": "code",
   "execution_count": null,
   "id": "8dd6cf9b",
   "metadata": {},
   "outputs": [],
   "source": []
  },
  {
   "cell_type": "code",
   "execution_count": null,
   "id": "8cfcfc0e",
   "metadata": {},
   "outputs": [],
   "source": [
    "data_filepath = '/scratch/sagar/Projects/combopt/branch-and-bound-ml/antenna_selection/data/bound_approximation/trainset1_pruned.pkl'\n",
    "train_dataset = GraphLowerBoundDataset(data_filepath)\n",
    "train_dataloader = torch_geometric.data.DataLoader(train_dataset, batch_size=batch_size, shuffle=True)\n"
   ]
  },
  {
   "cell_type": "markdown",
   "id": "3fb869a7",
   "metadata": {},
   "source": [
    "## Relaxed Beamforming Supervised Learning Testing"
   ]
  },
  {
   "cell_type": "code",
   "execution_count": 6,
   "id": "5a96690a",
   "metadata": {},
   "outputs": [
    {
     "data": {
      "text/plain": [
       "<matplotlib.legend.Legend at 0x7fa9a3e4e048>"
      ]
     },
     "execution_count": 6,
     "metadata": {},
     "output_type": "execute_result"
    },
    {
     "data": {
      "image/png": "[encoded data removed]",
      "text/plain": [
       "<Figure size 432x288 with 1 Axes>"
      ]
     },
     "metadata": {
      "needs_background": "light"
     },
     "output_type": "display_data"
    }
   ],
   "source": [
    "import matplotlib.pyplot as plt\n",
    "\n",
    "fig, axes = plt.subplots(1,1)\n",
    "\n",
    "axes.plot(train_losses)\n",
    "axes.plot(valid_losses)\n",
    "axes.set_xlabel('epoch')\n",
    "axes.set_ylabel('loss')\n",
    "axes.legend(['train', 'validation'])\n"
   ]
  },
  {
   "cell_type": "code",
   "execution_count": 7,
   "id": "2a8af7ab",
   "metadata": {},
   "outputs": [],
   "source": [
    "fig.savefig('data/results/model_training.pdf')"
   ]
  },
  {
   "cell_type": "code",
   "execution_count": 199,
   "id": "caa29654",
   "metadata": {},
   "outputs": [
    {
     "data": {
      "text/plain": [
       "Parameter containing:\n",
       "tensor([0.9999, 1.0000], device='cuda:0', requires_grad=True)"
      ]
     },
     "execution_count": 199,
     "metadata": {},
     "output_type": "execute_result"
    }
   ],
   "source": [
    "next(model.parameters())"
   ]
  },
  {
   "cell_type": "code",
   "execution_count": 212,
   "id": "33f71653",
   "metadata": {},
   "outputs": [
    {
     "data": {
      "text/plain": [
       "(tensor([0.4641, 0.4625, 0.4641, 0.4637, 0.4633, 0.4637, 0.4636, 0.4663, 0.4635,\n",
       "         0.4649, 0.4630, 0.4654, 0.4650, 0.4633, 0.4649, 0.4650, 0.4641, 0.4637,\n",
       "         0.4642, 0.4643, 0.4658, 0.4633, 0.4643, 0.4636, 0.4606, 0.4670, 0.4570,\n",
       "         0.4575, 0.4560, 0.4585, 0.4545, 0.4570, 0.4656, 0.4635, 0.4636, 0.4636,\n",
       "         0.4646, 0.4667, 0.4638, 0.4619, 0.4630, 0.4660, 0.4541, 0.4595, 0.4602,\n",
       "         0.4544, 0.4569, 0.4619, 0.4586, 0.4594, 0.4675, 0.4584, 0.4561, 0.4649,\n",
       "         0.4567, 0.4561, 0.4522, 0.4680, 0.4661, 0.4640, 0.4629, 0.4608, 0.4561,\n",
       "         0.4685, 0.4652, 0.4672, 0.4635, 0.4634, 0.4656, 0.4649, 0.4642, 0.4655,\n",
       "         0.4630, 0.4641, 0.4639, 0.4659, 0.4657, 0.4607, 0.4665, 0.4648],\n",
       "        device='cuda:0', grad_fn=<SqueezeBackward1>),\n",
       " tensor(1.1692, device='cuda:0', grad_fn=<SumBackward0>))"
      ]
     },
     "execution_count": 212,
     "metadata": {},
     "output_type": "execute_result"
    }
   ],
   "source": [
    "model(graph)"
   ]
  },
  {
   "cell_type": "code",
   "execution_count": 214,
   "id": "69b11523",
   "metadata": {},
   "outputs": [
    {
     "data": {
      "text/plain": [
       "tensor([[0.2769, 0.2769, 0.2768, 0.2768, 0.2769, 0.2769, 0.2768, 0.2768],\n",
       "        [0.3813, 1.0000, 0.3810, 1.0000, 0.3811, 0.3812, 1.0000, 0.3812],\n",
       "        [0.2769, 0.2769, 0.2769, 0.2769, 0.2769, 0.2768, 0.2769, 0.2768],\n",
       "        [0.0000, 0.0000, 0.0000, 0.0000, 0.0000, 0.0000, 0.0000, 0.0000],\n",
       "        [0.2768, 0.2768, 0.2769, 0.2768, 0.2769, 0.2769, 0.2768, 0.2768],\n",
       "        [1.0000, 1.0000, -0.0000, -0.0000, 1.0000, -0.0000, -0.0000, 1.0000],\n",
       "        [-0.0000, -0.0000, 1.0000, -0.0000, -0.0000, 1.0000, -0.0000, -0.0000],\n",
       "        [-0.0000, 1.0000, -0.0000, 1.0000, 1.0000, 1.0000, -0.0000, 1.0000],\n",
       "        [0.4539, 1.0000, 0.4539, 0.4539, 0.4539, 0.4539, 0.4539, 0.4539],\n",
       "        [0.4471, 0.4470, 0.4472, 0.4470, 1.0000, 0.4469, 1.0000, 0.4472]],\n",
       "       device='cuda:0')"
      ]
     },
     "execution_count": 214,
     "metadata": {},
     "output_type": "execute_result"
    }
   ],
   "source": [
    "z_target"
   ]
  },
  {
   "cell_type": "code",
   "execution_count": 215,
   "id": "3ed7c7aa",
   "metadata": {},
   "outputs": [
    {
     "data": {
      "text/plain": [
       "tensor([ 0.1872,  0.2619,  0.1974,  0.0000,  0.2514,  0.6482, 17.7188,  0.3639,\n",
       "         0.3097,  0.3190], device='cuda:0')"
      ]
     },
     "execution_count": 215,
     "metadata": {},
     "output_type": "execute_result"
    }
   ],
   "source": [
    "power_target"
   ]
  },
  {
   "cell_type": "markdown",
   "id": "36e23aaf",
   "metadata": {},
   "source": [
    "## Linear Model and Observation"
   ]
  },
  {
   "cell_type": "code",
   "execution_count": null,
   "id": "a167fc58",
   "metadata": {},
   "outputs": [],
   "source": [
    "class LinearObservation(object):\n",
    "    def __init__(self, H_complex, z_sol, z_mask):\n",
    "        self.obs = \n",
    "        \n",
    "    def extract(self, graph_observation):\n",
    "        return sel\n",
    "    "
   ]
  },
  {
   "cell_type": "markdown",
   "id": "ff9df218",
   "metadata": {},
   "source": [
    "## Data Collection"
   ]
  },
  {
   "cell_type": "code",
   "execution_count": 145,
   "id": "7a3acba9",
   "metadata": {},
   "outputs": [
    {
     "name": "stderr",
     "output_type": "stream",
     "text": [
      "100%|██████████| 1000/1000 [00:00<00:00, 9441.38it/s]\n",
      "  0%|          | 3/1000 [00:00<03:32,  4.70it/s]"
     ]
    },
    {
     "name": "stdout",
     "output_type": "stream",
     "text": [
      "infeasible solution\n",
      "infeasible solution\n"
     ]
    },
    {
     "name": "stderr",
     "output_type": "stream",
     "text": [
      "  1%|▏         | 13/1000 [00:02<03:02,  5.40it/s]"
     ]
    },
    {
     "name": "stdout",
     "output_type": "stream",
     "text": [
      "infeasible solution\n"
     ]
    },
    {
     "name": "stderr",
     "output_type": "stream",
     "text": [
      "  2%|▏         | 23/1000 [00:04<03:21,  4.86it/s]"
     ]
    },
    {
     "name": "stdout",
     "output_type": "stream",
     "text": [
      "infeasible solution\n"
     ]
    },
    {
     "name": "stderr",
     "output_type": "stream",
     "text": [
      "  4%|▎         | 37/1000 [00:08<04:30,  3.55it/s]"
     ]
    },
    {
     "name": "stdout",
     "output_type": "stream",
     "text": [
      "infeasible solution\n"
     ]
    },
    {
     "name": "stderr",
     "output_type": "stream",
     "text": [
      "  4%|▍         | 39/1000 [00:09<04:32,  3.53it/s]"
     ]
    },
    {
     "name": "stdout",
     "output_type": "stream",
     "text": [
      "infeasible solution\n"
     ]
    },
    {
     "name": "stderr",
     "output_type": "stream",
     "text": [
      "  5%|▍         | 48/1000 [00:11<04:33,  3.48it/s]"
     ]
    },
    {
     "name": "stdout",
     "output_type": "stream",
     "text": [
      "infeasible solution\n"
     ]
    },
    {
     "name": "stderr",
     "output_type": "stream",
     "text": [
      "  5%|▌         | 53/1000 [00:13<04:15,  3.71it/s]"
     ]
    },
    {
     "name": "stdout",
     "output_type": "stream",
     "text": [
      "infeasible solution\n"
     ]
    },
    {
     "name": "stderr",
     "output_type": "stream",
     "text": [
      "  6%|▋         | 64/1000 [00:16<04:02,  3.85it/s]"
     ]
    },
    {
     "name": "stdout",
     "output_type": "stream",
     "text": [
      "infeasible solution\n"
     ]
    },
    {
     "name": "stderr",
     "output_type": "stream",
     "text": [
      "  7%|▋         | 67/1000 [00:16<03:27,  4.49it/s]"
     ]
    },
    {
     "name": "stdout",
     "output_type": "stream",
     "text": [
      "infeasible solution\n"
     ]
    },
    {
     "name": "stderr",
     "output_type": "stream",
     "text": [
      "  7%|▋         | 74/1000 [00:18<03:33,  4.33it/s]"
     ]
    },
    {
     "name": "stdout",
     "output_type": "stream",
     "text": [
      "infeasible solution\n"
     ]
    },
    {
     "name": "stderr",
     "output_type": "stream",
     "text": [
      "  8%|▊         | 85/1000 [00:21<03:13,  4.73it/s]"
     ]
    },
    {
     "name": "stdout",
     "output_type": "stream",
     "text": [
      "infeasible solution\n"
     ]
    },
    {
     "name": "stderr",
     "output_type": "stream",
     "text": [
      "  9%|▉         | 90/1000 [00:22<03:06,  4.88it/s]"
     ]
    },
    {
     "name": "stdout",
     "output_type": "stream",
     "text": [
      "infeasible solution\n",
      "infeasible solution\n"
     ]
    },
    {
     "name": "stderr",
     "output_type": "stream",
     "text": [
      "\r",
      "  9%|▉         | 91/1000 [00:22<03:10,  4.77it/s]"
     ]
    },
    {
     "name": "stdout",
     "output_type": "stream",
     "text": [
      "infeasible solution\n"
     ]
    },
    {
     "name": "stderr",
     "output_type": "stream",
     "text": [
      "  9%|▉         | 93/1000 [00:22<03:14,  4.68it/s]"
     ]
    },
    {
     "name": "stdout",
     "output_type": "stream",
     "text": [
      "infeasible solution\n"
     ]
    },
    {
     "name": "stderr",
     "output_type": "stream",
     "text": [
      "\r",
      "  9%|▉         | 94/1000 [00:23<03:24,  4.43it/s]"
     ]
    },
    {
     "name": "stdout",
     "output_type": "stream",
     "text": [
      "infeasible solution\n"
     ]
    },
    {
     "name": "stderr",
     "output_type": "stream",
     "text": [
      " 10%|█         | 104/1000 [00:25<03:33,  4.19it/s]"
     ]
    },
    {
     "name": "stdout",
     "output_type": "stream",
     "text": [
      "infeasible solution\n"
     ]
    },
    {
     "name": "stderr",
     "output_type": "stream",
     "text": [
      " 11%|█         | 110/1000 [00:27<04:09,  3.56it/s]"
     ]
    },
    {
     "name": "stdout",
     "output_type": "stream",
     "text": [
      "infeasible solution\n"
     ]
    },
    {
     "name": "stderr",
     "output_type": "stream",
     "text": [
      " 12%|█▏        | 115/1000 [00:28<04:11,  3.51it/s]"
     ]
    },
    {
     "name": "stdout",
     "output_type": "stream",
     "text": [
      "infeasible solution\n"
     ]
    },
    {
     "name": "stderr",
     "output_type": "stream",
     "text": [
      " 12%|█▏        | 122/1000 [00:30<04:01,  3.64it/s]"
     ]
    },
    {
     "name": "stdout",
     "output_type": "stream",
     "text": [
      "infeasible solution\n"
     ]
    },
    {
     "name": "stderr",
     "output_type": "stream",
     "text": [
      " 12%|█▏        | 124/1000 [00:31<03:55,  3.73it/s]"
     ]
    },
    {
     "name": "stdout",
     "output_type": "stream",
     "text": [
      "infeasible solution\n"
     ]
    },
    {
     "name": "stderr",
     "output_type": "stream",
     "text": [
      " 13%|█▎        | 131/1000 [00:33<04:28,  3.24it/s]"
     ]
    },
    {
     "name": "stdout",
     "output_type": "stream",
     "text": [
      "infeasible solution\n"
     ]
    },
    {
     "name": "stderr",
     "output_type": "stream",
     "text": [
      " 14%|█▎        | 136/1000 [00:34<04:17,  3.35it/s]"
     ]
    },
    {
     "name": "stdout",
     "output_type": "stream",
     "text": [
      "infeasible solution\n"
     ]
    },
    {
     "name": "stderr",
     "output_type": "stream",
     "text": [
      " 14%|█▍        | 139/1000 [00:35<03:31,  4.07it/s]"
     ]
    },
    {
     "name": "stdout",
     "output_type": "stream",
     "text": [
      "infeasible solution\n"
     ]
    },
    {
     "name": "stderr",
     "output_type": "stream",
     "text": [
      " 15%|█▍        | 148/1000 [00:37<03:06,  4.56it/s]"
     ]
    },
    {
     "name": "stdout",
     "output_type": "stream",
     "text": [
      "infeasible solution\n"
     ]
    },
    {
     "name": "stderr",
     "output_type": "stream",
     "text": [
      " 15%|█▌        | 150/1000 [00:38<03:24,  4.16it/s]"
     ]
    },
    {
     "name": "stdout",
     "output_type": "stream",
     "text": [
      "infeasible solution\n"
     ]
    },
    {
     "name": "stderr",
     "output_type": "stream",
     "text": [
      " 15%|█▌        | 153/1000 [00:38<03:25,  4.13it/s]"
     ]
    },
    {
     "name": "stdout",
     "output_type": "stream",
     "text": [
      "infeasible solution\n"
     ]
    },
    {
     "name": "stderr",
     "output_type": "stream",
     "text": [
      " 17%|█▋        | 166/1000 [00:42<03:06,  4.48it/s]"
     ]
    },
    {
     "name": "stdout",
     "output_type": "stream",
     "text": [
      "infeasible solution\n"
     ]
    },
    {
     "name": "stderr",
     "output_type": "stream",
     "text": [
      " 18%|█▊        | 176/1000 [00:44<03:16,  4.19it/s]"
     ]
    },
    {
     "name": "stdout",
     "output_type": "stream",
     "text": [
      "infeasible solution\n"
     ]
    },
    {
     "name": "stderr",
     "output_type": "stream",
     "text": [
      " 18%|█▊        | 181/1000 [00:45<02:48,  4.86it/s]"
     ]
    },
    {
     "name": "stdout",
     "output_type": "stream",
     "text": [
      "infeasible solution\n"
     ]
    },
    {
     "name": "stderr",
     "output_type": "stream",
     "text": [
      " 26%|██▌       | 259/1000 [01:00<02:24,  5.13it/s]"
     ]
    },
    {
     "name": "stdout",
     "output_type": "stream",
     "text": [
      "infeasible solution\n"
     ]
    },
    {
     "name": "stderr",
     "output_type": "stream",
     "text": [
      " 26%|██▌       | 261/1000 [01:00<02:28,  4.98it/s]"
     ]
    },
    {
     "name": "stdout",
     "output_type": "stream",
     "text": [
      "infeasible solution\n"
     ]
    },
    {
     "name": "stderr",
     "output_type": "stream",
     "text": [
      " 27%|██▋       | 273/1000 [01:03<02:34,  4.72it/s]"
     ]
    },
    {
     "name": "stdout",
     "output_type": "stream",
     "text": [
      "infeasible solution\n"
     ]
    },
    {
     "name": "stderr",
     "output_type": "stream",
     "text": [
      " 29%|██▊       | 287/1000 [01:06<03:07,  3.79it/s]"
     ]
    },
    {
     "name": "stdout",
     "output_type": "stream",
     "text": [
      "infeasible solution\n"
     ]
    },
    {
     "name": "stderr",
     "output_type": "stream",
     "text": [
      " 30%|███       | 304/1000 [01:10<02:58,  3.90it/s]"
     ]
    },
    {
     "name": "stdout",
     "output_type": "stream",
     "text": [
      "infeasible solution\n"
     ]
    },
    {
     "name": "stderr",
     "output_type": "stream",
     "text": [
      " 31%|███       | 307/1000 [01:11<02:24,  4.80it/s]"
     ]
    },
    {
     "name": "stdout",
     "output_type": "stream",
     "text": [
      "infeasible solution\n",
      "infeasible solution\n"
     ]
    },
    {
     "name": "stderr",
     "output_type": "stream",
     "text": [
      " 32%|███▏      | 318/1000 [01:13<02:16,  4.99it/s]"
     ]
    },
    {
     "name": "stdout",
     "output_type": "stream",
     "text": [
      "infeasible solution\n"
     ]
    },
    {
     "name": "stderr",
     "output_type": "stream",
     "text": [
      " 32%|███▏      | 321/1000 [01:14<02:22,  4.77it/s]"
     ]
    },
    {
     "name": "stdout",
     "output_type": "stream",
     "text": [
      "infeasible solution\n"
     ]
    },
    {
     "name": "stderr",
     "output_type": "stream",
     "text": [
      " 32%|███▏      | 323/1000 [01:14<02:13,  5.08it/s]"
     ]
    },
    {
     "name": "stdout",
     "output_type": "stream",
     "text": [
      "infeasible solution\n"
     ]
    },
    {
     "name": "stderr",
     "output_type": "stream",
     "text": [
      " 33%|███▎      | 326/1000 [01:15<02:02,  5.52it/s]"
     ]
    },
    {
     "name": "stdout",
     "output_type": "stream",
     "text": [
      "infeasible solution\n",
      "infeasible solution\n"
     ]
    },
    {
     "name": "stderr",
     "output_type": "stream",
     "text": [
      " 33%|███▎      | 329/1000 [01:16<02:29,  4.50it/s]"
     ]
    },
    {
     "name": "stdout",
     "output_type": "stream",
     "text": [
      "infeasible solution\n"
     ]
    },
    {
     "name": "stderr",
     "output_type": "stream",
     "text": [
      " 34%|███▍      | 342/1000 [01:18<02:20,  4.68it/s]"
     ]
    },
    {
     "name": "stdout",
     "output_type": "stream",
     "text": [
      "infeasible solution\n"
     ]
    },
    {
     "name": "stderr",
     "output_type": "stream",
     "text": [
      " 35%|███▍      | 347/1000 [01:19<02:08,  5.08it/s]"
     ]
    },
    {
     "name": "stdout",
     "output_type": "stream",
     "text": [
      "infeasible solution\n"
     ]
    },
    {
     "name": "stderr",
     "output_type": "stream",
     "text": [
      " 37%|███▋      | 372/1000 [01:24<02:05,  5.01it/s]"
     ]
    },
    {
     "name": "stdout",
     "output_type": "stream",
     "text": [
      "infeasible solution\n"
     ]
    },
    {
     "name": "stderr",
     "output_type": "stream",
     "text": [
      " 38%|███▊      | 376/1000 [01:25<01:56,  5.38it/s]"
     ]
    },
    {
     "name": "stdout",
     "output_type": "stream",
     "text": [
      "infeasible solution\n"
     ]
    },
    {
     "name": "stderr",
     "output_type": "stream",
     "text": [
      " 38%|███▊      | 382/1000 [01:26<01:42,  6.05it/s]"
     ]
    },
    {
     "name": "stdout",
     "output_type": "stream",
     "text": [
      "infeasible solution\n"
     ]
    },
    {
     "name": "stderr",
     "output_type": "stream",
     "text": [
      " 39%|███▊      | 386/1000 [01:27<01:41,  6.05it/s]"
     ]
    },
    {
     "name": "stdout",
     "output_type": "stream",
     "text": [
      "infeasible solution\n"
     ]
    },
    {
     "name": "stderr",
     "output_type": "stream",
     "text": [
      " 39%|███▉      | 394/1000 [01:28<01:51,  5.45it/s]"
     ]
    },
    {
     "name": "stdout",
     "output_type": "stream",
     "text": [
      "infeasible solution\n"
     ]
    },
    {
     "name": "stderr",
     "output_type": "stream",
     "text": [
      " 40%|███▉      | 398/1000 [01:29<01:36,  6.22it/s]"
     ]
    },
    {
     "name": "stdout",
     "output_type": "stream",
     "text": [
      "infeasible solution\n"
     ]
    },
    {
     "name": "stderr",
     "output_type": "stream",
     "text": [
      " 44%|████▎     | 435/1000 [01:36<01:09,  8.08it/s]"
     ]
    },
    {
     "name": "stdout",
     "output_type": "stream",
     "text": [
      "infeasible solution\n"
     ]
    },
    {
     "name": "stderr",
     "output_type": "stream",
     "text": [
      " 44%|████▎     | 437/1000 [01:37<01:05,  8.64it/s]"
     ]
    },
    {
     "name": "stdout",
     "output_type": "stream",
     "text": [
      "infeasible solution\n"
     ]
    },
    {
     "name": "stderr",
     "output_type": "stream",
     "text": [
      " 44%|████▍     | 441/1000 [01:37<01:03,  8.78it/s]"
     ]
    },
    {
     "name": "stdout",
     "output_type": "stream",
     "text": [
      "infeasible solution\n"
     ]
    },
    {
     "name": "stderr",
     "output_type": "stream",
     "text": [
      " 44%|████▍     | 444/1000 [01:41<08:25,  1.10it/s]"
     ]
    },
    {
     "name": "stdout",
     "output_type": "stream",
     "text": [
      "infeasible solution\n"
     ]
    },
    {
     "name": "stderr",
     "output_type": "stream",
     "text": [
      " 45%|████▌     | 453/1000 [01:45<02:18,  3.95it/s]"
     ]
    },
    {
     "name": "stdout",
     "output_type": "stream",
     "text": [
      "infeasible solution\n"
     ]
    },
    {
     "name": "stderr",
     "output_type": "stream",
     "text": [
      " 48%|████▊     | 478/1000 [01:50<01:44,  4.98it/s]"
     ]
    },
    {
     "name": "stdout",
     "output_type": "stream",
     "text": [
      "infeasible solution\n"
     ]
    },
    {
     "name": "stderr",
     "output_type": "stream",
     "text": [
      "\r",
      " 48%|████▊     | 479/1000 [01:50<02:00,  4.33it/s]"
     ]
    },
    {
     "name": "stdout",
     "output_type": "stream",
     "text": [
      "infeasible solution\n"
     ]
    },
    {
     "name": "stderr",
     "output_type": "stream",
     "text": [
      " 48%|████▊     | 484/1000 [01:51<01:55,  4.45it/s]"
     ]
    },
    {
     "name": "stdout",
     "output_type": "stream",
     "text": [
      "infeasible solution\n"
     ]
    },
    {
     "name": "stderr",
     "output_type": "stream",
     "text": [
      " 49%|████▉     | 490/1000 [01:53<01:39,  5.11it/s]"
     ]
    },
    {
     "name": "stdout",
     "output_type": "stream",
     "text": [
      "infeasible solution\n",
      "infeasible solution\n"
     ]
    },
    {
     "name": "stderr",
     "output_type": "stream",
     "text": [
      " 50%|████▉     | 499/1000 [01:54<01:43,  4.83it/s]"
     ]
    },
    {
     "name": "stdout",
     "output_type": "stream",
     "text": [
      "infeasible solution\n"
     ]
    },
    {
     "name": "stderr",
     "output_type": "stream",
     "text": [
      " 50%|█████     | 501/1000 [01:55<01:44,  4.77it/s]"
     ]
    },
    {
     "name": "stdout",
     "output_type": "stream",
     "text": [
      "infeasible solution\n"
     ]
    },
    {
     "name": "stderr",
     "output_type": "stream",
     "text": [
      "\r",
      " 50%|█████     | 502/1000 [01:55<02:02,  4.07it/s]"
     ]
    },
    {
     "name": "stdout",
     "output_type": "stream",
     "text": [
      "infeasible solution\n"
     ]
    },
    {
     "name": "stderr",
     "output_type": "stream",
     "text": [
      " 50%|█████     | 504/1000 [01:56<01:59,  4.14it/s]"
     ]
    },
    {
     "name": "stdout",
     "output_type": "stream",
     "text": [
      "infeasible solution\n"
     ]
    },
    {
     "name": "stderr",
     "output_type": "stream",
     "text": [
      " 51%|█████     | 510/1000 [01:57<02:24,  3.39it/s]"
     ]
    },
    {
     "name": "stdout",
     "output_type": "stream",
     "text": [
      "infeasible solution\n"
     ]
    },
    {
     "name": "stderr",
     "output_type": "stream",
     "text": [
      " 54%|█████▍    | 541/1000 [02:07<02:12,  3.48it/s]"
     ]
    },
    {
     "name": "stdout",
     "output_type": "stream",
     "text": [
      "infeasible solution\n"
     ]
    },
    {
     "name": "stderr",
     "output_type": "stream",
     "text": [
      "\r",
      " 54%|█████▍    | 542/1000 [02:07<02:10,  3.52it/s]"
     ]
    },
    {
     "name": "stdout",
     "output_type": "stream",
     "text": [
      "infeasible solution\n"
     ]
    },
    {
     "name": "stderr",
     "output_type": "stream",
     "text": [
      " 54%|█████▍    | 544/1000 [02:08<02:19,  3.27it/s]"
     ]
    },
    {
     "name": "stdout",
     "output_type": "stream",
     "text": [
      "infeasible solution\n"
     ]
    },
    {
     "name": "stderr",
     "output_type": "stream",
     "text": [
      " 55%|█████▌    | 554/1000 [02:11<02:10,  3.43it/s]"
     ]
    },
    {
     "name": "stdout",
     "output_type": "stream",
     "text": [
      "infeasible solution\n"
     ]
    },
    {
     "name": "stderr",
     "output_type": "stream",
     "text": [
      " 56%|█████▌    | 556/1000 [02:11<01:54,  3.87it/s]"
     ]
    },
    {
     "name": "stdout",
     "output_type": "stream",
     "text": [
      "infeasible solution\n"
     ]
    },
    {
     "name": "stderr",
     "output_type": "stream",
     "text": [
      "\r",
      " 56%|█████▌    | 557/1000 [02:11<01:56,  3.81it/s]"
     ]
    },
    {
     "name": "stdout",
     "output_type": "stream",
     "text": [
      "infeasible solution\n"
     ]
    },
    {
     "name": "stderr",
     "output_type": "stream",
     "text": [
      " 57%|█████▋    | 568/1000 [02:14<01:40,  4.31it/s]"
     ]
    },
    {
     "name": "stdout",
     "output_type": "stream",
     "text": [
      "infeasible solution\n"
     ]
    },
    {
     "name": "stderr",
     "output_type": "stream",
     "text": [
      " 57%|█████▋    | 571/1000 [02:15<01:29,  4.77it/s]"
     ]
    },
    {
     "name": "stdout",
     "output_type": "stream",
     "text": [
      "infeasible solution\n"
     ]
    },
    {
     "name": "stderr",
     "output_type": "stream",
     "text": [
      " 58%|█████▊    | 578/1000 [02:16<01:41,  4.15it/s]"
     ]
    },
    {
     "name": "stdout",
     "output_type": "stream",
     "text": [
      "infeasible solution\n"
     ]
    },
    {
     "name": "stderr",
     "output_type": "stream",
     "text": [
      " 58%|█████▊    | 580/1000 [02:17<01:32,  4.55it/s]"
     ]
    },
    {
     "name": "stdout",
     "output_type": "stream",
     "text": [
      "infeasible solution\n"
     ]
    },
    {
     "name": "stderr",
     "output_type": "stream",
     "text": [
      " 58%|█████▊    | 582/1000 [02:17<01:38,  4.26it/s]"
     ]
    },
    {
     "name": "stdout",
     "output_type": "stream",
     "text": [
      "infeasible solution\n"
     ]
    },
    {
     "name": "stderr",
     "output_type": "stream",
     "text": [
      " 62%|██████▏   | 615/1000 [02:26<01:29,  4.31it/s]"
     ]
    },
    {
     "name": "stdout",
     "output_type": "stream",
     "text": [
      "infeasible solution\n"
     ]
    },
    {
     "name": "stderr",
     "output_type": "stream",
     "text": [
      " 62%|██████▎   | 625/1000 [02:28<01:37,  3.87it/s]"
     ]
    },
    {
     "name": "stdout",
     "output_type": "stream",
     "text": [
      "infeasible solution\n"
     ]
    },
    {
     "name": "stderr",
     "output_type": "stream",
     "text": [
      " 63%|██████▎   | 628/1000 [02:29<01:33,  3.98it/s]"
     ]
    },
    {
     "name": "stdout",
     "output_type": "stream",
     "text": [
      "infeasible solution\n"
     ]
    },
    {
     "name": "stderr",
     "output_type": "stream",
     "text": [
      " 63%|██████▎   | 633/1000 [02:30<01:15,  4.85it/s]"
     ]
    },
    {
     "name": "stdout",
     "output_type": "stream",
     "text": [
      "infeasible solution\n"
     ]
    },
    {
     "name": "stderr",
     "output_type": "stream",
     "text": [
      " 64%|██████▎   | 636/1000 [02:31<01:29,  4.06it/s]"
     ]
    },
    {
     "name": "stdout",
     "output_type": "stream",
     "text": [
      "infeasible solution\n"
     ]
    },
    {
     "name": "stderr",
     "output_type": "stream",
     "text": [
      " 65%|██████▌   | 652/1000 [02:34<01:06,  5.23it/s]"
     ]
    },
    {
     "name": "stdout",
     "output_type": "stream",
     "text": [
      "infeasible solution\n"
     ]
    },
    {
     "name": "stderr",
     "output_type": "stream",
     "text": [
      " 65%|██████▌   | 654/1000 [02:34<01:16,  4.55it/s]"
     ]
    },
    {
     "name": "stdout",
     "output_type": "stream",
     "text": [
      "infeasible solution\n"
     ]
    },
    {
     "name": "stderr",
     "output_type": "stream",
     "text": [
      " 66%|██████▌   | 659/1000 [02:36<01:32,  3.70it/s]"
     ]
    },
    {
     "name": "stdout",
     "output_type": "stream",
     "text": [
      "infeasible solution\n"
     ]
    },
    {
     "name": "stderr",
     "output_type": "stream",
     "text": [
      " 71%|███████   | 708/1000 [02:50<01:10,  4.14it/s]"
     ]
    },
    {
     "name": "stdout",
     "output_type": "stream",
     "text": [
      "infeasible solution\n"
     ]
    },
    {
     "name": "stderr",
     "output_type": "stream",
     "text": [
      " 72%|███████▏  | 722/1000 [02:53<01:03,  4.38it/s]"
     ]
    },
    {
     "name": "stdout",
     "output_type": "stream",
     "text": [
      "infeasible solution\n"
     ]
    },
    {
     "name": "stderr",
     "output_type": "stream",
     "text": [
      " 74%|███████▍  | 743/1000 [02:57<00:47,  5.36it/s]"
     ]
    },
    {
     "name": "stdout",
     "output_type": "stream",
     "text": [
      "infeasible solution\n"
     ]
    },
    {
     "name": "stderr",
     "output_type": "stream",
     "text": [
      " 76%|███████▌  | 761/1000 [03:00<00:44,  5.41it/s]"
     ]
    },
    {
     "name": "stdout",
     "output_type": "stream",
     "text": [
      "infeasible solution\n"
     ]
    },
    {
     "name": "stderr",
     "output_type": "stream",
     "text": [
      " 77%|███████▋  | 770/1000 [03:02<00:40,  5.65it/s]"
     ]
    },
    {
     "name": "stdout",
     "output_type": "stream",
     "text": [
      "infeasible solution\n"
     ]
    },
    {
     "name": "stderr",
     "output_type": "stream",
     "text": [
      " 79%|███████▉  | 791/1000 [03:09<00:53,  3.87it/s]"
     ]
    },
    {
     "name": "stdout",
     "output_type": "stream",
     "text": [
      "infeasible solution\n"
     ]
    },
    {
     "name": "stderr",
     "output_type": "stream",
     "text": [
      " 79%|███████▉  | 794/1000 [03:10<00:45,  4.50it/s]"
     ]
    },
    {
     "name": "stdout",
     "output_type": "stream",
     "text": [
      "infeasible solution\n"
     ]
    },
    {
     "name": "stderr",
     "output_type": "stream",
     "text": [
      " 80%|███████▉  | 798/1000 [03:11<00:36,  5.57it/s]"
     ]
    },
    {
     "name": "stdout",
     "output_type": "stream",
     "text": [
      "infeasible solution\n"
     ]
    },
    {
     "name": "stderr",
     "output_type": "stream",
     "text": [
      " 80%|████████  | 804/1000 [03:12<00:41,  4.69it/s]"
     ]
    },
    {
     "name": "stdout",
     "output_type": "stream",
     "text": [
      "infeasible solution\n"
     ]
    },
    {
     "name": "stderr",
     "output_type": "stream",
     "text": [
      " 81%|████████  | 806/1000 [03:12<00:44,  4.34it/s]"
     ]
    },
    {
     "name": "stdout",
     "output_type": "stream",
     "text": [
      "infeasible solution\n"
     ]
    },
    {
     "name": "stderr",
     "output_type": "stream",
     "text": [
      " 82%|████████▏ | 817/1000 [03:15<00:35,  5.20it/s]"
     ]
    },
    {
     "name": "stdout",
     "output_type": "stream",
     "text": [
      "infeasible solution\n"
     ]
    },
    {
     "name": "stderr",
     "output_type": "stream",
     "text": [
      " 83%|████████▎ | 829/1000 [03:17<00:42,  4.01it/s]"
     ]
    },
    {
     "name": "stdout",
     "output_type": "stream",
     "text": [
      "infeasible solution\n"
     ]
    },
    {
     "name": "stderr",
     "output_type": "stream",
     "text": [
      " 83%|████████▎ | 834/1000 [03:19<00:40,  4.10it/s]"
     ]
    },
    {
     "name": "stdout",
     "output_type": "stream",
     "text": [
      "infeasible solution\n"
     ]
    },
    {
     "name": "stderr",
     "output_type": "stream",
     "text": [
      " 84%|████████▍ | 840/1000 [03:20<00:46,  3.45it/s]"
     ]
    },
    {
     "name": "stdout",
     "output_type": "stream",
     "text": [
      "infeasible solution\n"
     ]
    },
    {
     "name": "stderr",
     "output_type": "stream",
     "text": [
      " 84%|████████▍ | 845/1000 [03:22<00:43,  3.59it/s]"
     ]
    },
    {
     "name": "stdout",
     "output_type": "stream",
     "text": [
      "infeasible solution\n"
     ]
    },
    {
     "name": "stderr",
     "output_type": "stream",
     "text": [
      " 85%|████████▍ | 849/1000 [03:23<00:43,  3.48it/s]"
     ]
    },
    {
     "name": "stdout",
     "output_type": "stream",
     "text": [
      "infeasible solution\n"
     ]
    },
    {
     "name": "stderr",
     "output_type": "stream",
     "text": [
      " 87%|████████▋ | 866/1000 [03:27<00:29,  4.50it/s]"
     ]
    },
    {
     "name": "stdout",
     "output_type": "stream",
     "text": [
      "infeasible solution\n"
     ]
    },
    {
     "name": "stderr",
     "output_type": "stream",
     "text": [
      " 88%|████████▊ | 877/1000 [03:29<00:22,  5.43it/s]"
     ]
    },
    {
     "name": "stdout",
     "output_type": "stream",
     "text": [
      "infeasible solution\n"
     ]
    },
    {
     "name": "stderr",
     "output_type": "stream",
     "text": [
      " 89%|████████▉ | 889/1000 [03:32<00:25,  4.43it/s]"
     ]
    },
    {
     "name": "stdout",
     "output_type": "stream",
     "text": [
      "infeasible solution\n"
     ]
    },
    {
     "name": "stderr",
     "output_type": "stream",
     "text": [
      " 89%|████████▉ | 892/1000 [03:33<00:25,  4.26it/s]"
     ]
    },
    {
     "name": "stdout",
     "output_type": "stream",
     "text": [
      "infeasible solution\n"
     ]
    },
    {
     "name": "stderr",
     "output_type": "stream",
     "text": [
      " 90%|█████████ | 902/1000 [03:36<00:27,  3.51it/s]"
     ]
    },
    {
     "name": "stdout",
     "output_type": "stream",
     "text": [
      "infeasible solution\n"
     ]
    },
    {
     "name": "stderr",
     "output_type": "stream",
     "text": [
      " 90%|█████████ | 904/1000 [03:36<00:26,  3.62it/s]"
     ]
    },
    {
     "name": "stdout",
     "output_type": "stream",
     "text": [
      "infeasible solution\n"
     ]
    },
    {
     "name": "stderr",
     "output_type": "stream",
     "text": [
      " 91%|█████████ | 909/1000 [03:38<00:25,  3.60it/s]"
     ]
    },
    {
     "name": "stdout",
     "output_type": "stream",
     "text": [
      "infeasible solution\n"
     ]
    },
    {
     "name": "stderr",
     "output_type": "stream",
     "text": [
      " 92%|█████████▏| 917/1000 [03:40<00:23,  3.57it/s]"
     ]
    },
    {
     "name": "stdout",
     "output_type": "stream",
     "text": [
      "infeasible solution\n"
     ]
    },
    {
     "name": "stderr",
     "output_type": "stream",
     "text": [
      " 93%|█████████▎| 929/1000 [03:43<00:19,  3.57it/s]"
     ]
    },
    {
     "name": "stdout",
     "output_type": "stream",
     "text": [
      "infeasible solution\n"
     ]
    },
    {
     "name": "stderr",
     "output_type": "stream",
     "text": [
      " 94%|█████████▍| 942/1000 [03:46<00:12,  4.71it/s]"
     ]
    },
    {
     "name": "stdout",
     "output_type": "stream",
     "text": [
      "infeasible solution\n"
     ]
    },
    {
     "name": "stderr",
     "output_type": "stream",
     "text": [
      " 94%|█████████▍| 944/1000 [03:47<00:12,  4.39it/s]"
     ]
    },
    {
     "name": "stdout",
     "output_type": "stream",
     "text": [
      "infeasible solution\n"
     ]
    },
    {
     "name": "stderr",
     "output_type": "stream",
     "text": [
      " 95%|█████████▌| 951/1000 [03:48<00:10,  4.86it/s]"
     ]
    },
    {
     "name": "stdout",
     "output_type": "stream",
     "text": [
      "infeasible solution\n"
     ]
    },
    {
     "name": "stderr",
     "output_type": "stream",
     "text": [
      " 96%|█████████▌| 961/1000 [03:51<00:07,  4.99it/s]"
     ]
    },
    {
     "name": "stdout",
     "output_type": "stream",
     "text": [
      "infeasible solution\n"
     ]
    },
    {
     "name": "stderr",
     "output_type": "stream",
     "text": [
      " 96%|█████████▋| 965/1000 [03:51<00:07,  4.99it/s]"
     ]
    },
    {
     "name": "stdout",
     "output_type": "stream",
     "text": [
      "infeasible solution\n"
     ]
    },
    {
     "name": "stderr",
     "output_type": "stream",
     "text": [
      " 98%|█████████▊| 981/1000 [03:55<00:03,  5.20it/s]"
     ]
    },
    {
     "name": "stdout",
     "output_type": "stream",
     "text": [
      "infeasible solution\n"
     ]
    },
    {
     "name": "stderr",
     "output_type": "stream",
     "text": [
      "100%|█████████▉| 999/1000 [03:58<00:00,  5.88it/s]"
     ]
    },
    {
     "name": "stdout",
     "output_type": "stream",
     "text": [
      "infeasible solution\n"
     ]
    },
    {
     "name": "stderr",
     "output_type": "stream",
     "text": [
      "100%|██████████| 1000/1000 [03:58<00:00,  4.19it/s]\n"
     ]
    }
   ],
   "source": [
    "import numpy as np\n",
    "import torch\n",
    "from antenna_selection.solve_relaxation import Beamforming\n",
    "from tqdm import tqdm, trange\n",
    "# Generate Training Examples \n",
    "# save the training examples in pkl\n",
    "NUM_TRAIN_H = 1000\n",
    "N, M = 8,3\n",
    "L = 5\n",
    "\n",
    "H_complex = np.random.randn(NUM_TRAIN_H, N,M) + 1j*np.random.randn(NUM_TRAIN_H,N,M)\n",
    "\n",
    "z_sol = []\n",
    "z_mask = []\n",
    "for i in trange(NUM_TRAIN_H):\n",
    "    p_sol = np.random.rand(1)\n",
    "    p_mask = np.random.rand(1)\n",
    "    z_sol.append(np.random.binomial(size=N, n=1, p=p_sol))\n",
    "    z_mask.append(np.random.binomial(size=N, n=1, p=p_mask))\n",
    "z_sol = np.array(z_sol)\n",
    "z_mask = np.array(z_mask)\n",
    "\n",
    "# Solve each problem using cvxpy\n",
    "sol = {'z': [], 'W': [], 'power': []}\n",
    "for i in trange(NUM_TRAIN_H):\n",
    "    bm_solver = Beamforming(H_complex[i,:,:], max_ant=L)\n",
    "    z, W, power = bm_solver.solve_beamforming(z_sol=z_sol[i,:], z_mask=z_mask[i,:])\n",
    "    if z is not None:\n",
    "        sol['z'].append(z)\n",
    "        sol['W'].append(W)\n",
    "        sol['power'].append(power)\n",
    "    else:\n",
    "        sol['z'].append(np.zeros(N))\n",
    "        sol['W'].append(np.zeros((N,M)))\n",
    "        sol['power'].append(np.float64(-1))\n",
    "        \n",
    "# sol['z'] = np.array(sol['z'])\n",
    "# sol['W'] = np.array(sol['W'])\n",
    "# sol['power'] = np.array(sol['power'])\n",
    "\n",
    "sol = (np.array(sol['z']), np.array(sol['W']), np.array(sol['power']))\n",
    "\n",
    "target = []\n",
    "obs = []\n",
    "for i in range(NUM_TRAIN_H):\n",
    "    obs.append(LowerBoundObservation(H_complex[i,:,:], z_sol[i,:], z_mask[i,:]))\n",
    "    target.append((sol[0][i,::], sol[1][i,::], sol[2][i]))\n",
    "    \n",
    "# Save the file in pkl\n",
    "data = {'params':{'H': H_complex, 'z_sol': z_sol, 'z_mask': z_mask}, 'in':obs, 'out': target}\n",
    "filepath = '/scratch/sagar/Projects/combopt/branch-and-bound-ml/antenna_selection/data/bound_approximation/validset1.pkl'\n",
    "with open(filepath, 'wb') as handle:\n",
    "    pickle.dump(data, handle, protocol=pickle.HIGHEST_PROTOCOL) \n"
   ]
  },
  {
   "cell_type": "code",
   "execution_count": 114,
   "id": "7372efb2",
   "metadata": {},
   "outputs": [
    {
     "data": {
      "text/plain": [
       "dict"
      ]
     },
     "execution_count": 114,
     "metadata": {},
     "output_type": "execute_result"
    }
   ],
   "source": [
    "type(sol)"
   ]
  },
  {
   "cell_type": "code",
   "execution_count": 141,
   "id": "e43977f5",
   "metadata": {},
   "outputs": [
    {
     "ename": "IndexError",
     "evalue": "index 18 is out of bounds for axis 0 with size 18",
     "output_type": "error",
     "traceback": [
      "\u001b[0;31m---------------------------------------------------------------------------\u001b[0m",
      "\u001b[0;31mIndexError\u001b[0m                                Traceback (most recent call last)",
      "\u001b[0;32m<ipython-input-141-49eede2f6462>\u001b[0m in \u001b[0;36m<module>\u001b[0;34m\u001b[0m\n\u001b[1;32m      5\u001b[0m \u001b[0;32mfor\u001b[0m \u001b[0mi\u001b[0m \u001b[0;32min\u001b[0m \u001b[0mrange\u001b[0m\u001b[0;34m(\u001b[0m\u001b[0mNUM_TRAIN_H\u001b[0m\u001b[0;34m)\u001b[0m\u001b[0;34m:\u001b[0m\u001b[0;34m\u001b[0m\u001b[0;34m\u001b[0m\u001b[0m\n\u001b[1;32m      6\u001b[0m     \u001b[0mobs\u001b[0m\u001b[0;34m.\u001b[0m\u001b[0mappend\u001b[0m\u001b[0;34m(\u001b[0m\u001b[0mLowerBoundObservation\u001b[0m\u001b[0;34m(\u001b[0m\u001b[0mH_complex\u001b[0m\u001b[0;34m[\u001b[0m\u001b[0mi\u001b[0m\u001b[0;34m,\u001b[0m\u001b[0;34m:\u001b[0m\u001b[0;34m,\u001b[0m\u001b[0;34m:\u001b[0m\u001b[0;34m]\u001b[0m\u001b[0;34m,\u001b[0m \u001b[0mz_sol\u001b[0m\u001b[0;34m[\u001b[0m\u001b[0mi\u001b[0m\u001b[0;34m,\u001b[0m\u001b[0;34m:\u001b[0m\u001b[0;34m]\u001b[0m\u001b[0;34m,\u001b[0m \u001b[0mz_mask\u001b[0m\u001b[0;34m[\u001b[0m\u001b[0mi\u001b[0m\u001b[0;34m,\u001b[0m\u001b[0;34m:\u001b[0m\u001b[0;34m]\u001b[0m\u001b[0;34m)\u001b[0m\u001b[0;34m)\u001b[0m\u001b[0;34m\u001b[0m\u001b[0;34m\u001b[0m\u001b[0m\n\u001b[0;32m----> 7\u001b[0;31m     \u001b[0mtarget\u001b[0m\u001b[0;34m.\u001b[0m\u001b[0mappend\u001b[0m\u001b[0;34m(\u001b[0m\u001b[0;34m(\u001b[0m\u001b[0msol\u001b[0m\u001b[0;34m[\u001b[0m\u001b[0;36m0\u001b[0m\u001b[0;34m]\u001b[0m\u001b[0;34m[\u001b[0m\u001b[0mi\u001b[0m\u001b[0;34m,\u001b[0m\u001b[0;34m:\u001b[0m\u001b[0;34m:\u001b[0m\u001b[0;34m]\u001b[0m\u001b[0;34m,\u001b[0m \u001b[0msol\u001b[0m\u001b[0;34m[\u001b[0m\u001b[0;36m1\u001b[0m\u001b[0;34m]\u001b[0m\u001b[0;34m[\u001b[0m\u001b[0mi\u001b[0m\u001b[0;34m,\u001b[0m\u001b[0;34m:\u001b[0m\u001b[0;34m:\u001b[0m\u001b[0;34m]\u001b[0m\u001b[0;34m,\u001b[0m \u001b[0msol\u001b[0m\u001b[0;34m[\u001b[0m\u001b[0;36m2\u001b[0m\u001b[0;34m]\u001b[0m\u001b[0;34m[\u001b[0m\u001b[0mi\u001b[0m\u001b[0;34m]\u001b[0m\u001b[0;34m)\u001b[0m\u001b[0;34m)\u001b[0m\u001b[0;34m\u001b[0m\u001b[0;34m\u001b[0m\u001b[0m\n\u001b[0m\u001b[1;32m      8\u001b[0m \u001b[0;34m\u001b[0m\u001b[0m\n\u001b[1;32m      9\u001b[0m \u001b[0;31m# Save the file in pkl\u001b[0m\u001b[0;34m\u001b[0m\u001b[0;34m\u001b[0m\u001b[0;34m\u001b[0m\u001b[0m\n",
      "\u001b[0;31mIndexError\u001b[0m: index 18 is out of bounds for axis 0 with size 18"
     ]
    }
   ],
   "source": [
    "\n",
    "# sol = (np.array(sol['z']), np.array(sol['W']), np.array(sol['power']))\n",
    "\n",
    "target = []\n",
    "obs = []\n",
    "for i in range(NUM_TRAIN_H):\n",
    "    obs.append(LowerBoundObservation(H_complex[i,:,:], z_sol[i,:], z_mask[i,:]))\n",
    "    target.append((sol[0][i,::], sol[1][i,::], sol[2][i]))\n",
    "    \n",
    "# Save the file in pkl\n",
    "data = {'params':{'H': H_complex, 'z_sol': z_sol, 'z_mask': z_mask}, 'in':obs, 'out': target}\n",
    "filepath = '/scratch/sagar/Projects/combopt/branch-and-bound-ml/antenna_selection/data/bound_approximation/validset1.pkl'\n",
    "with open(filepath, 'wb') as handle:\n",
    "    pickle.dump(data, handle, protocol=pickle.HIGHEST_PROTOCOL) \n"
   ]
  },
  {
   "cell_type": "markdown",
   "id": "62694368",
   "metadata": {},
   "source": [
    "## Data Pruning"
   ]
  },
  {
   "cell_type": "code",
   "execution_count": 53,
   "id": "be837487",
   "metadata": {},
   "outputs": [
    {
     "name": "stdout",
     "output_type": "stream",
     "text": [
      "data size 8368\n"
     ]
    }
   ],
   "source": [
    "import pickle\n",
    "filepath = '/scratch/sagar/Projects/combopt/branch-and-bound-ml/antenna_selection/data/bound_approximation/trainset1.pkl'\n",
    "with open(filepath, 'rb') as handle:\n",
    "    data = pickle.load(handle)\n",
    "    \n",
    "# check data\n",
    "# for i in range(100):\n",
    "#     if data['out'][i][2] > 2:\n",
    "#         print(data['in'][i].antenna_features, data['out'][i][2])\n",
    "\n",
    "new_data = {'in':[], 'out':[]}\n",
    "for i in range(len(data['in'])):\n",
    "    if data['out'][i][2] > 0 and data['out'][i][2] < 2 :\n",
    "        new_data['in'].append(data['in'][i])\n",
    "        new_data['out'].append(data['out'][i])\n",
    "        \n",
    "print('data size', len(new_data['in']))\n",
    "\n",
    "# save data\n",
    "filepath = '/scratch/sagar/Projects/combopt/branch-and-bound-ml/antenna_selection/data/bound_approximation/trainset1_pruned.pkl'\n",
    "with open(filepath, 'wb') as handle:\n",
    "    pickle.dump(new_data, handle, protocol=pickle.HIGHEST_PROTOCOL) \n"
   ]
  },
  {
   "cell_type": "markdown",
   "id": "cf3f020d",
   "metadata": {},
   "source": [
    "## Multiprocessing Test"
   ]
  },
  {
   "cell_type": "code",
   "execution_count": 35,
   "id": "ba03dbdc",
   "metadata": {},
   "outputs": [
    {
     "name": "stdout",
     "output_type": "stream",
     "text": [
      "90000000\n",
      "loop 1.0740838050842285\n",
      "pool output [90000000, 90000000]\n",
      "pool 0.6170601844787598\n"
     ]
    }
   ],
   "source": [
    "from multiprocessing import Pool\n",
    "import time\n",
    "\n",
    "\n",
    "num_procs = 2\n",
    "\n",
    "class Tester:\n",
    "    def __init__(self):\n",
    "        self.a = 100000000\n",
    "        pass\n",
    "    \n",
    "    def f1(self, arg):\n",
    "        while self.a > 90000000:\n",
    "            self.a = self.a - 1\n",
    "        return self.a\n",
    "    \n",
    "    @staticmethod\n",
    "    def f2(a):\n",
    "        while a > 90000000:\n",
    "            a -=  1\n",
    "        return a\n",
    "    \n",
    "    def pool(self):\n",
    "        with Pool(num_procs) as p:\n",
    "            out = p.map(Tester.f2, [self.a]*num_procs)\n",
    "        print('pool output', out)\n",
    "        \n",
    "    def loop(self):\n",
    "        for i in range(num_procs):\n",
    "            out = self.f2(self.a)\n",
    "        print(out)\n",
    "        \n",
    "ins = Tester()\n",
    "t1 = time.time()\n",
    "ins.loop()\n",
    "print('loop {}'.format(time.time()-t1))\n",
    "\n",
    "ins = Tester()\n",
    "t1 = time.time()\n",
    "ins.pool()\n",
    "print('pool {}'.format(time.time()-t1))\n",
    "\n",
    "\n"
   ]
  },
  {
   "cell_type": "code",
   "execution_count": 36,
   "id": "4f26e32b",
   "metadata": {},
   "outputs": [
    {
     "name": "stdout",
     "output_type": "stream",
     "text": [
      "num antennas : 3\n",
      "num antennas : 3\n",
      "\n",
      " solution in reset 2.999999999889722, optimality True\n",
      "\n",
      "timestep 0 inf 0.7098565533432203\n",
      "deleting node id  0\n",
      "\n",
      "*******************\n",
      "optimal node\n",
      "*******************\n",
      "\n",
      "[0. 0. 0. 0. 0. 0. 0. 0.]\n",
      "[0.37486946 0.37486814 0.37485582 0.37486296 0.37486641 0.37486668\n",
      " 0.37486191 0.37594862]\n",
      "expanding node id 0, children (array([0., 0., 0., 0., 0., 0., 0., 0.]), array([0.37486946, 0.37486814, 0.37485582, 0.37486296, 0.37486641,\n",
      "       0.37486668, 0.37486191, 0.37594862])), lb 0.7098565533432203, z_inc [0. 0. 0. 0. 0. 0. 0. 0.]\n",
      "args 2 8\n"
     ]
    },
    {
     "name": "stderr",
     "output_type": "stream",
     "text": [
      "/scratch/sagar/Projects/combopt/venv/lib/python3.6/site-packages/cvxpy/reductions/solvers/solving_chain.py:167: UserWarning: You are solving a parameterized problem that is not DPP. Because the problem is not DPP, subsequent solves will not be faster than the first one. For more information, see the documentation on Discplined Parametrized Programming, at\n",
      "\thttps://www.cvxpy.org/tutorial/advanced/index.html#disciplined-parametrized-programming\n",
      "  warnings.warn(dpp_error_msg)\n",
      "/scratch/sagar/Projects/combopt/venv/lib/python3.6/site-packages/ipykernel_launcher.py:644: RuntimeWarning: invalid value encountered in double_scalars\n"
     ]
    },
    {
     "name": "stdout",
     "output_type": "stream",
     "text": [
      "relaxed lower bound  0.9220194961433551\n",
      "relaxed upper bound inf\n",
      "get obj upper bound inf\n",
      "relaxed lower bound  0.7098565516313043\n",
      "relaxed upper bound inf\n",
      "get obj upper bound inf\n",
      "children stats [(inf, 0.9220194961433551, array([ 0.,  0., -0.,  0.,  0.,  0.,  0.,  0.]), array([[-0.15574201+0.0194993j ,  0.1442842 +0.03859179j,\n",
      "         0.12590108-0.06874674j, -0.19673072+0.04203853j,\n",
      "         0.16807515-0.12175735j],\n",
      "       [ 0.07558567+0.11708369j,  0.13279505+0.06304593j,\n",
      "        -0.06784929-0.03669831j, -0.05570747+0.28760319j,\n",
      "         0.01004023-0.04969669j],\n",
      "       [-0.        +0.j        , -0.        +0.j        ,\n",
      "        -0.        +0.j        , -0.        +0.j        ,\n",
      "        -0.        +0.j        ],\n",
      "       [-0.03342993+0.02095201j, -0.22393788+0.18097831j,\n",
      "         0.14390838-0.09300617j, -0.2025844 +0.00818095j,\n",
      "        -0.16912269+0.16592428j],\n",
      "       [ 0.10446151+0.08614883j,  0.22251762-0.01415126j,\n",
      "        -0.03129664-0.02646385j, -0.07000482+0.17942347j,\n",
      "         0.06261442+0.10582853j],\n",
      "       [ 0.04993987+0.15567412j,  0.04578189-0.03891722j,\n",
      "         0.15262316-0.10764076j, -0.03067788-0.14015885j,\n",
      "        -0.03027552-0.00761324j],\n",
      "       [ 0.08175045+0.13796639j, -0.23976872-0.13954398j,\n",
      "        -0.03435901+0.04307638j,  0.01648477+0.04932803j,\n",
      "         0.04027756-0.12530925j],\n",
      "       [-0.0644193 +0.03827657j,  0.05150771-0.026342j  ,\n",
      "        -0.14593975+0.09185346j, -0.20388911-0.0511912j ,\n",
      "        -0.05712091+0.0625123j ]]), <__main__.Node object at 0x7fb84fe6d898>), (inf, 0.7098565516313043, array([0., 0., 1., 0., 0., 0., 0., 0.]), array([[-0.13034624+0.01785681j,  0.10278587+0.03652416j,\n",
      "         0.10160281-0.06204816j, -0.15035049+0.00933275j,\n",
      "         0.13021578-0.11367954j],\n",
      "       [ 0.05719598+0.09227671j,  0.07510928+0.07471329j,\n",
      "        -0.05581592-0.04677956j, -0.06418077+0.18255389j,\n",
      "        -0.0049693 -0.07661723j],\n",
      "       [-0.02387268+0.05964271j,  0.16183295+0.06790213j,\n",
      "        -0.05774384+0.08407446j,  0.22149756+0.12666403j,\n",
      "        -0.02129429+0.09822612j],\n",
      "       [-0.03982248+0.01636657j, -0.1436097 +0.16984431j,\n",
      "         0.09181837-0.0847205j , -0.11243575+0.04083409j,\n",
      "        -0.14824291+0.13858075j],\n",
      "       [ 0.09036419+0.07195958j,  0.17059444-0.00589001j,\n",
      "        -0.01810231-0.02076713j, -0.06422116+0.0913414j ,\n",
      "         0.04876372+0.09495476j],\n",
      "       [ 0.04888731+0.14169587j,  0.05832112-0.05844082j,\n",
      "         0.13383276-0.0722908j , -0.00290741-0.12161874j,\n",
      "        -0.00832669+0.02766614j],\n",
      "       [ 0.06948849+0.11769083j, -0.19847131-0.12907999j,\n",
      "        -0.01739825+0.03152151j,  0.01523298+0.02418959j,\n",
      "         0.03788097-0.12251226j],\n",
      "       [-0.06142511+0.03896899j,  0.05525088-0.00244172j,\n",
      "        -0.13273369+0.08780272j, -0.16752009-0.04366529j,\n",
      "        -0.05988618+0.06007405j]]), <__main__.Node object at 0x7fb84fe6d470>)]\n",
      "\n",
      " L list [0.9220194961433551, 0.7098565516313043]\n",
      "timestep 1 inf 0.7098565516313043\n",
      "deleting node id  1\n",
      "\n",
      "*******************\n",
      "optimal node\n",
      "*******************\n",
      "\n",
      "[0. 0. 1. 0. 0. 0. 0. 0.]\n",
      "[0.28564835 0.28565503 1.         0.28561253 0.28565098 0.2856244\n",
      " 0.28569836 0.28611035]\n",
      "expanding node id 2, children (array([0., 0., 1., 0., 0., 0., 0., 0.]), array([0.28564835, 0.28565503, 1.        , 0.28561253, 0.28565098,\n",
      "       0.2856244 , 0.28569836, 0.28611035])), lb 0.7098565516313043, z_inc [0. 0. 0. 0. 0. 0. 0. 0.]\n",
      "args 2 8\n",
      "relaxed lower bound  0.941137778506242\n",
      "relaxed lower bound  0.7098567120779071\n",
      "relaxed upper bound inf\n",
      "get obj upper bound inf\n",
      "relaxed upper bound inf\n",
      "get obj upper bound inf\n",
      "children stats [(inf, 0.941137778506242, array([ 0.,  0.,  1., -0.,  0.,  0.,  0.,  0.]), array([[-0.13826213+0.01607293j,  0.19361224+0.07173371j,\n",
      "         0.12016008-0.06684541j, -0.18136781-0.02274062j,\n",
      "         0.16738046-0.16711438j],\n",
      "       [ 0.06343473+0.09601113j,  0.11726953+0.1000007j ,\n",
      "        -0.06061864-0.05925979j, -0.08114361+0.18217072j,\n",
      "        -0.06229694-0.1365313j ],\n",
      "       [-0.02868134+0.04853323j,  0.2477502 +0.03246185j,\n",
      "        -0.06294357+0.13608435j,  0.29882768+0.12321799j,\n",
      "        -0.04034525+0.11884668j],\n",
      "       [-0.        +0.j        , -0.        +0.j        ,\n",
      "        -0.        +0.j        , -0.        +0.j        ,\n",
      "        -0.        +0.j        ],\n",
      "       [ 0.09179877+0.0693472j ,  0.21216693-0.01933468j,\n",
      "        -0.01073646-0.00671849j, -0.0862132 +0.09137299j,\n",
      "         0.06278285+0.11342544j],\n",
      "       [ 0.04985573+0.16456117j,  0.06186845-0.07167081j,\n",
      "         0.15811351-0.07731329j, -0.0134106 -0.13144916j,\n",
      "         0.00403295+0.04988961j],\n",
      "       [ 0.09426921+0.131838j  , -0.23536299-0.2571737j ,\n",
      "        -0.04894718+0.03224474j,  0.02690668+0.03532823j,\n",
      "         0.1024205 -0.17571186j],\n",
      "       [-0.05773755+0.04265791j,  0.08389361+0.01043758j,\n",
      "        -0.16136811+0.09365142j, -0.16978068-0.05215474j,\n",
      "        -0.03540892+0.02723271j]]), <__main__.Node object at 0x7fb84fe6d208>), (inf, 0.7098567120779071, array([0., 0., 1., 1., 0., 0., 0., 0.]), array([[-0.13034622+0.01785687j,  0.1027859 +0.03652409j,\n",
      "         0.10160292-0.06204799j, -0.15035045+0.0093326j ,\n",
      "         0.13021592-0.11367957j],\n",
      "       [ 0.05719596+0.09227672j,  0.07510927+0.07471331j,\n",
      "        -0.05581606-0.04677945j, -0.06418089+0.1825542j ,\n",
      "        -0.00496933-0.07661723j],\n",
      "       [-0.02387259+0.05964247j,  0.16183286+0.06790221j,\n",
      "        -0.0577439 +0.08407448j,  0.22149779+0.12666408j,\n",
      "        -0.02129394+0.09822599j],\n",
      "       [-0.03982223+0.01636646j, -0.1436098 +0.16984441j,\n",
      "         0.09181818-0.08472058j, -0.11243593+0.04083411j,\n",
      "        -0.14824303+0.13858067j],\n",
      "       [ 0.09036417+0.07195955j,  0.17059458-0.00588999j,\n",
      "        -0.01810143-0.02076637j, -0.0642213 +0.0913413j ,\n",
      "         0.04876349+0.09495497j],\n",
      "       [ 0.04888731+0.14169593j,  0.05832103-0.05844086j,\n",
      "         0.13383255-0.07229096j, -0.00290737-0.12161883j,\n",
      "        -0.00832643+0.02766509j],\n",
      "       [ 0.06948852+0.11769077j, -0.19847142-0.12907996j,\n",
      "        -0.01739787+0.03152118j,  0.01523247+0.02418867j,\n",
      "         0.03788093-0.12251236j],\n",
      "       [-0.061425  +0.03896888j,  0.05525072-0.00244157j,\n",
      "        -0.13273394+0.08780265j, -0.16752005-0.04366547j,\n",
      "        -0.05988612+0.06007408j]]), <__main__.Node object at 0x7fb84fe6d2b0>)]\n",
      "\n",
      " L list [0.9220194961433551, 0.941137778506242, 0.7098567120779071]\n",
      "timestep 2 inf 0.7098567120779071\n",
      "deleting node id  2\n",
      "expanding node id 2, children (array([0., 0., 1., 1., 0., 0., 0., 0.]), array([0.16601923, 0.16601647, 1.        , 1.        , 0.16601177,\n",
      "       0.16599378, 0.16605053, 0.16990823])), lb 0.7098567120779071, z_inc [0. 0. 0. 0. 0. 0. 0. 0.]\n",
      "args 2 8\n",
      "relaxed lower bound  0.8392405100517399\n",
      "antennas: upper bound  4.980858354219387\n",
      "relaxed upper bound inf\n",
      "get obj upper bound inf\n",
      "children stats [(inf, 0.8392405100517399, array([ 0.,  0.,  1.,  1.,  0., -0.,  0.,  0.]), array([[-0.18788779+0.02835894j,  0.104047  +0.03413365j,\n",
      "         0.11774688-0.0952805j , -0.19437724+0.01314195j,\n",
      "         0.14009736-0.10922079j],\n",
      "       [ 0.05353489+0.07939783j,  0.0795776 +0.10104445j,\n",
      "        -0.1047685 -0.04308335j, -0.06733811+0.19704488j,\n",
      "        -0.01000645-0.08327236j],\n",
      "       [-0.01273175+0.04508514j,  0.15935513+0.07490939j,\n",
      "        -0.10962367+0.09456754j,  0.22776249+0.13796707j,\n",
      "        -0.02130314+0.11305254j],\n",
      "       [-0.05824984+0.04789988j, -0.14521882+0.1698595j ,\n",
      "         0.11907032-0.125131j  , -0.13022095+0.03614701j,\n",
      "        -0.1568995 +0.13992122j],\n",
      "       [ 0.14787967+0.14027098j,  0.20541125-0.01410765j,\n",
      "         0.04368399-0.03736144j, -0.05851307+0.05836665j,\n",
      "         0.04141515+0.09226711j],\n",
      "       [-0.        +0.j        , -0.        +0.j        ,\n",
      "        -0.        +0.j        , -0.        +0.j        ,\n",
      "        -0.        +0.j        ],\n",
      "       [ 0.06547412+0.12862139j, -0.22681859-0.13042318j,\n",
      "        -0.02016927+0.05617708j,  0.02413749+0.03028087j,\n",
      "         0.0313163 -0.12320047j],\n",
      "       [-0.09693414+0.04111724j,  0.03835309+0.01488591j,\n",
      "        -0.17290305+0.10494155j, -0.21078097-0.04309497j,\n",
      "        -0.06261846+0.06939853j]]), <__main__.Node object at 0x7fb84fe6d588>), (4.980858354219387, 4.980858354219387, array([0., 0., 1., 1., 0., 1., 0., 0.]), array([[-0.        +0.j        , -0.        +0.j        ,\n",
      "        -0.        +0.j        , -0.        +0.j        ,\n",
      "        -0.        +0.j        ],\n",
      "       [-0.        +0.j        , -0.        +0.j        ,\n",
      "        -0.        +0.j        , -0.        +0.j        ,\n",
      "        -0.        +0.j        ],\n",
      "       [-0.28610865+0.62806888j,  0.24972707+0.4942705j ,\n",
      "        -0.23840464+0.11348079j,  0.6399962 +0.58880473j,\n",
      "        -0.03559948+0.76531623j],\n",
      "       [-0.39496263-0.01280499j, -0.17721686+0.5397201j ,\n",
      "         0.34240372-0.44717698j,  0.10317047+0.55368145j,\n",
      "        -0.62120127+0.46989133j],\n",
      "       [-0.        +0.j        , -0.        +0.j        ,\n",
      "        -0.        +0.j        , -0.        +0.j        ,\n",
      "        -0.        +0.j        ],\n",
      "       [ 0.2320401 +0.4154361j ,  0.32193825-0.19318891j,\n",
      "         0.22912876-0.21587113j,  0.16675561-0.39378097j,\n",
      "         0.39556331+0.50900038j],\n",
      "       [-0.        +0.j        , -0.        +0.j        ,\n",
      "        -0.        +0.j        , -0.        +0.j        ,\n",
      "        -0.        +0.j        ],\n",
      "       [-0.        +0.j        , -0.        +0.j        ,\n",
      "        -0.        +0.j        , -0.        +0.j        ,\n",
      "        -0.        +0.j        ]]), <__main__.Node object at 0x7fb84fe6d860>)]\n",
      "\n",
      " L list [0.9220194961433551, 0.941137778506242, 0.8392405100517399, 4.980858354219387]\n",
      "timestep 3 4.980858354219387 0.8392405100517399\n",
      "deleting node id  2\n",
      "expanding node id 1, children (array([0., 0., 1., 1., 0., 1., 0., 0.]), array([ 0.1998775 ,  0.19971812,  1.        ,  1.        ,  0.19968563,\n",
      "       -0.        ,  0.19966957,  0.20104919])), lb 0.8392405100517399, z_inc [0. 0. 1. 1. 0. 1. 0. 0.]\n",
      "args 2 8\n"
     ]
    },
    {
     "name": "stdout",
     "output_type": "stream",
     "text": [
      "relaxed lower bound  1.0683247574286003\n",
      "antennas: upper bound  8.085777762204877\n",
      "relaxed upper bound inf\n",
      "get obj upper bound inf\n",
      "children stats [(inf, 1.0683247574286003, array([ 0.,  0.,  1.,  1.,  0., -0., -0.,  0.]), array([[-0.2442392 +0.01846348j,  0.08489822+0.08431852j,\n",
      "         0.14066865-0.11847j   , -0.2155866 -0.00972965j,\n",
      "         0.13336184-0.11167401j],\n",
      "       [ 0.08733424+0.12632832j, -0.00170277+0.09433422j,\n",
      "        -0.1314678 -0.03262131j, -0.09018969+0.2155938j ,\n",
      "        -0.0065015 -0.12704419j],\n",
      "       [-0.02198653+0.06710673j,  0.14620199+0.11225343j,\n",
      "        -0.12357599+0.11010984j,  0.27146634+0.14647814j,\n",
      "        -0.02873738+0.12482586j],\n",
      "       [-0.11883234+0.04701025j, -0.12283762+0.3044628j ,\n",
      "         0.11661084-0.1473659j , -0.17233734+0.03218297j,\n",
      "        -0.18939815+0.20237444j],\n",
      "       [ 0.19083443+0.09705147j,  0.31949977-0.01055888j,\n",
      "         0.05745728-0.06234955j, -0.04502885+0.05558064j,\n",
      "         0.04539864+0.13298246j],\n",
      "       [-0.        +0.j        , -0.        +0.j        ,\n",
      "        -0.        +0.j        , -0.        +0.j        ,\n",
      "        -0.        +0.j        ],\n",
      "       [-0.        +0.j        , -0.        +0.j        ,\n",
      "        -0.        +0.j        , -0.        +0.j        ,\n",
      "        -0.        +0.j        ],\n",
      "       [-0.13923451+0.02176796j,  0.08256877+0.03447998j,\n",
      "        -0.17191486+0.09006057j, -0.2277234 -0.03380853j,\n",
      "        -0.10242687+0.08783365j]]), <__main__.Node object at 0x7fb84fe6d940>), (8.085777762204877, 8.085777762204877, array([ 0.,  0.,  1.,  1.,  0., -0.,  1.,  0.]), array([[-0.        +0.j        , -0.        +0.j        ,\n",
      "        -0.        +0.j        , -0.        +0.j        ,\n",
      "        -0.        +0.j        ],\n",
      "       [-0.        +0.j        , -0.        +0.j        ,\n",
      "        -0.        +0.j        , -0.        +0.j        ,\n",
      "        -0.        +0.j        ],\n",
      "       [-0.46265646+0.38923786j,  0.57046895+0.37301795j,\n",
      "        -0.93233451-0.0708298j ,  0.52509785+0.93069843j,\n",
      "         0.13808946+0.59490984j],\n",
      "       [-0.21477343-0.0163478j , -0.40210085+0.47831273j,\n",
      "         0.58280768-1.49467532j, -0.19743688+0.5950554j ,\n",
      "        -0.46819478+0.38397354j],\n",
      "       [-0.        +0.j        , -0.        +0.j        ,\n",
      "        -0.        +0.j        , -0.        +0.j        ,\n",
      "        -0.        +0.j        ],\n",
      "       [-0.        +0.j        , -0.        +0.j        ,\n",
      "        -0.        +0.j        , -0.        +0.j        ,\n",
      "        -0.        +0.j        ],\n",
      "       [ 0.19236105+0.4054299j , -0.53398296-0.17612923j,\n",
      "         0.59347456-0.11904951j,  0.05330497-0.05359427j,\n",
      "        -0.03053516-0.45343385j],\n",
      "       [-0.        +0.j        , -0.        +0.j        ,\n",
      "        -0.        +0.j        , -0.        +0.j        ,\n",
      "        -0.        +0.j        ]]), <__main__.Node object at 0x7fb84fe6d0f0>)]\n",
      "\n",
      " L list [0.9220194961433551, 0.941137778506242, 4.980858354219387, 1.0683247574286003, 8.085777762204877]\n",
      "timestep 4 4.980858354219387 0.9220194961433551\n",
      "deleting node id  0\n",
      "expanding node id 1, children (array([0., 0., 1., 0., 0., 0., 0., 0.]), array([ 0.42858272,  0.42854374, -0.        ,  0.42857205,  0.42852572,\n",
      "        0.42850637,  0.428483  ,  0.4287864 ])), lb 0.9220194961433551, z_inc [0. 0. 1. 1. 0. 1. 0. 0.]\n",
      "args 2 8\n",
      "relaxed lower bound  1.1846110410857515\n",
      "relaxed upper bound 24.963004479742438\n",
      "get obj upper bound 24.963004479742438\n",
      "relaxed lower bound  0.9220193811105306\n",
      "relaxed upper bound inf\n",
      "get obj upper bound inf\n",
      "children stats [(24.963004479742438, 1.1846110410857515, array([ 1.,  0., -0.,  1.,  1.,  0., -0.,  0.]), array([[-0.23188688+0.01025501j,  0.13837701+0.0959124j ,\n",
      "         0.14984438-0.07998201j, -0.2162171 +0.02799121j,\n",
      "         0.17152167-0.12431008j],\n",
      "       [ 0.12848048+0.18523202j,  0.06116013+0.04509237j,\n",
      "        -0.08550584-0.03296673j, -0.07575083+0.32687055j,\n",
      "         0.00805376-0.08408337j],\n",
      "       [-0.        +0.j        , -0.        +0.j        ,\n",
      "        -0.        +0.j        , -0.        +0.j        ,\n",
      "        -0.        +0.j        ],\n",
      "       [-0.097868  +0.02091819j, -0.20872607+0.31174204j,\n",
      "         0.16127042-0.11366798j, -0.27265309-0.01024801j,\n",
      "        -0.20361465+0.24039231j],\n",
      "       [ 0.1396895 +0.03185902j,  0.32468008-0.00524811j,\n",
      "        -0.02971137-0.04313185j, -0.0511393 +0.20438184j,\n",
      "         0.06767809+0.15129588j],\n",
      "       [ 0.06132445+0.15872061j,  0.08567533-0.04364578j,\n",
      "         0.17726228-0.1237794j , -0.01481092-0.15671399j,\n",
      "        -0.05105453-0.01249649j],\n",
      "       [-0.        +0.j        , -0.        +0.j        ,\n",
      "        -0.        +0.j        , -0.        +0.j        ,\n",
      "        -0.        +0.j        ],\n",
      "       [-0.11458287+0.01141615j,  0.11687879-0.0091451j ,\n",
      "        -0.13781373+0.08513062j, -0.21806313-0.03804871j,\n",
      "        -0.10182451+0.08584354j]]), <__main__.Node object at 0x7fb84fe6df98>), (inf, 0.9220193811105306, array([ 0.,  0., -0.,  0.,  0.,  0.,  1.,  0.]), array([[-0.15574199+0.0194993j ,  0.1442842 +0.03859179j,\n",
      "         0.12590107-0.06874674j, -0.19673072+0.04203853j,\n",
      "         0.16807514-0.12175734j],\n",
      "       [ 0.07558567+0.11708368j,  0.13279504+0.06304592j,\n",
      "        -0.06784928-0.03669831j, -0.05570746+0.28760316j,\n",
      "         0.01004021-0.04969672j],\n",
      "       [-0.        +0.j        , -0.        +0.j        ,\n",
      "        -0.        +0.j        , -0.        +0.j        ,\n",
      "        -0.        +0.j        ],\n",
      "       [-0.03342995+0.02095204j, -0.22393786+0.18097829j,\n",
      "         0.14390837-0.09300616j, -0.20258438+0.00818095j,\n",
      "        -0.16912267+0.16592428j],\n",
      "       [ 0.10446151+0.08614882j,  0.22251759-0.01415126j,\n",
      "        -0.03129667-0.02646384j, -0.07000481+0.17942346j,\n",
      "         0.06261442+0.10582854j],\n",
      "       [ 0.04993987+0.15567411j,  0.04578191-0.03891722j,\n",
      "         0.15262315-0.10764075j, -0.03067788-0.14015885j,\n",
      "        -0.03027555-0.0076133j ],\n",
      "       [ 0.08175043+0.13796638j, -0.2397687 -0.13954398j,\n",
      "        -0.03435903+0.04307639j,  0.01648478+0.04932805j,\n",
      "         0.04027756-0.12530924j],\n",
      "       [-0.06441931+0.03827657j,  0.05150772-0.02634202j,\n",
      "        -0.14593972+0.09185344j, -0.2038891 -0.0511912j ,\n",
      "        -0.05712091+0.0625123j ]]), <__main__.Node object at 0x7fb84fe6d6d8>)]\n",
      "\n",
      " L list [0.941137778506242, 4.980858354219387, 1.0683247574286003, 1.1846110410857515, 0.9220193811105306]\n",
      "timestep 5 4.980858354219387 0.9220193811105306\n",
      "deleting node id  4\n",
      "expanding node id 2, children (array([0., 0., 1., 0., 0., 0., 1., 0.]), array([ 0.33432181,  0.3338303 , -0.        ,  0.33776585,  0.33266885,\n",
      "        0.33061502,  1.        ,  0.33079816])), lb 0.9220193811105306, z_inc [0. 0. 1. 1. 0. 1. 0. 0.]\n",
      "args 2 8\n",
      "relaxed lower bound  1.1002008933572585\n",
      "relaxed lower bound  0.9220193876017515\n",
      "relaxed upper bound inf\n",
      "get obj upper bound inf\n",
      "relaxed upper bound inf\n",
      "get obj upper bound inf\n",
      "children stats [(inf, 1.1002008933572585, array([ 0.,  0., -0.,  0.,  0., -0.,  1.,  0.]), array([[-0.21671389+0.03064398j,  0.15371871+0.03388799j,\n",
      "         0.14400776-0.10150511j, -0.26040558+0.06143729j,\n",
      "         0.17512953-0.10757985j],\n",
      "       [ 0.07109302+0.08803111j,  0.14418643+0.0873511j ,\n",
      "        -0.14388764-0.01222426j, -0.05542821+0.31578511j,\n",
      "         0.01880624-0.04548991j],\n",
      "       [-0.        +0.j        , -0.        +0.j        ,\n",
      "        -0.        +0.j        , -0.        +0.j        ,\n",
      "        -0.        +0.j        ],\n",
      "       [-0.06235508+0.06094315j, -0.23417192+0.17503625j,\n",
      "         0.19272378-0.12417024j, -0.24437691-0.00063788j,\n",
      "        -0.17778867+0.16162233j],\n",
      "       [ 0.17127209+0.16585945j,  0.2520197 -0.01643236j,\n",
      "         0.04395188-0.06448076j, -0.0779297 +0.15413278j,\n",
      "         0.05072469+0.08766021j],\n",
      "       [-0.        +0.j        , -0.        +0.j        ,\n",
      "        -0.        +0.j        , -0.        +0.j        ,\n",
      "        -0.        +0.j        ],\n",
      "       [ 0.07703492+0.14510074j, -0.27433007-0.13617802j,\n",
      "        -0.04567206+0.07179365j,  0.03528516+0.05351504j,\n",
      "         0.03598077-0.12118856j],\n",
      "       [-0.11055119+0.03774345j,  0.03818914+0.00043116j,\n",
      "        -0.1883297 +0.11373745j, -0.24755455-0.04557423j,\n",
      "        -0.06241128+0.08110847j]]), <__main__.Node object at 0x7fb84fe3f1d0>), (inf, 0.9220193876017515, array([ 0.,  0., -0.,  0.,  0.,  1.,  1.,  0.]), array([[-0.15574199+0.0194993j ,  0.14428419+0.03859179j,\n",
      "         0.12590107-0.06874674j, -0.19673072+0.04203853j,\n",
      "         0.16807514-0.12175734j],\n",
      "       [ 0.07558567+0.11708367j,  0.13279504+0.06304592j,\n",
      "        -0.06784928-0.03669831j, -0.05570747+0.28760317j,\n",
      "         0.01004022-0.0496967j ],\n",
      "       [-0.        +0.j        , -0.        +0.j        ,\n",
      "        -0.        +0.j        , -0.        +0.j        ,\n",
      "        -0.        +0.j        ],\n",
      "       [-0.03342993+0.02095203j, -0.22393786+0.1809783j ,\n",
      "         0.14390837-0.09300616j, -0.20258439+0.00818095j,\n",
      "        -0.16912268+0.16592427j],\n",
      "       [ 0.1044615 +0.08614882j,  0.2225176 -0.01415126j,\n",
      "        -0.03129665-0.02646383j, -0.07000482+0.17942346j,\n",
      "         0.06261442+0.10582853j],\n",
      "       [ 0.04993987+0.15567411j,  0.0457819 -0.03891722j,\n",
      "         0.15262315-0.10764076j, -0.03067789-0.14015885j,\n",
      "        -0.03027551-0.00761329j],\n",
      "       [ 0.08175044+0.13796638j, -0.23976872-0.13954398j,\n",
      "        -0.03435902+0.04307638j,  0.01648477+0.04932803j,\n",
      "         0.04027756-0.12530925j],\n",
      "       [-0.0644193 +0.03827657j,  0.05150771-0.02634201j,\n",
      "        -0.14593973+0.09185345j, -0.2038891 -0.0511912j ,\n",
      "        -0.05712091+0.0625123j ]]), <__main__.Node object at 0x7fb84fe3fa20>)]\n",
      "\n",
      " L list [0.941137778506242, 4.980858354219387, 1.0683247574286003, 1.1846110410857515, 1.1002008933572585, 0.9220193876017515]\n",
      "timestep 6 4.980858354219387 0.9220193876017515\n",
      "deleting node id  5\n",
      "expanding node id 2, children (array([0., 0., 1., 0., 0., 1., 1., 0.]), array([ 0.20006067,  0.20171532, -0.        ,  0.2059928 ,  0.19787635,\n",
      "        1.        ,  1.        ,  0.19435486])), lb 0.9220193876017515, z_inc [0. 0. 1. 1. 0. 1. 0. 0.]\n",
      "args 2 8\n"
     ]
    },
    {
     "name": "stdout",
     "output_type": "stream",
     "text": [
      "relaxed lower bound  1.1183589182373683\n",
      "antennas: upper bound  inf\n",
      "antennas: None not optimal, may be infeasible\n",
      "relaxed upper bound inf\n",
      "get obj upper bound inf\n",
      "children stats [(inf, 1.1183589182373683, array([ 0.,  0., -0.,  0.,  0.,  1.,  1., -0.]), array([[-0.16284933+0.00587617j,  0.14294003+0.03812074j,\n",
      "         0.21919565-0.07060193j, -0.17563866+0.08250023j,\n",
      "         0.17015361-0.14980805j],\n",
      "       [ 0.09169102+0.14017536j,  0.15126405+0.06410113j,\n",
      "        -0.10193545-0.09499189j, -0.06734304+0.38108957j,\n",
      "         0.00362075-0.05368748j],\n",
      "       [-0.        +0.j        , -0.        +0.j        ,\n",
      "        -0.        +0.j        , -0.        +0.j        ,\n",
      "        -0.        +0.j        ],\n",
      "       [-0.03129629+0.01393738j, -0.24336223+0.17551498j,\n",
      "         0.18629786-0.15941781j, -0.20086981+0.06065553j,\n",
      "        -0.15213259+0.145352j  ],\n",
      "       [ 0.09362917+0.1175644j ,  0.24616297-0.00588109j,\n",
      "        -0.11316373-0.03145631j, -0.10519916+0.18909496j,\n",
      "         0.04529153+0.1302482j ],\n",
      "       [ 0.06994399+0.20033151j,  0.03749218-0.0369072j ,\n",
      "         0.18943318-0.13551242j, -0.00243539-0.19857685j,\n",
      "        -0.03836465-0.02548145j],\n",
      "       [ 0.12527809+0.15284983j, -0.26466331-0.14258805j,\n",
      "        -0.00318524-0.01185449j,  0.04109643+0.01723724j,\n",
      "         0.03392332-0.1480378j ],\n",
      "       [-0.        +0.j        , -0.        +0.j        ,\n",
      "        -0.        +0.j        , -0.        +0.j        ,\n",
      "        -0.        +0.j        ]]), <__main__.Node object at 0x7fb84fe3f550>), (inf, inf, array([0., 0., 0., 0., 0., 0., 0., 0.]), array([0., 0., 0., 0., 0., 0., 0., 0.]), None)]\n",
      "\n",
      " L list [0.941137778506242, 4.980858354219387, 1.0683247574286003, 1.1846110410857515, 1.1002008933572585, 1.1183589182373683]\n",
      "timestep 7 4.980858354219387 0.941137778506242\n",
      "deleting node id  0\n",
      "\n",
      "*******************\n",
      "optimal node\n",
      "*******************\n",
      "\n",
      "[0. 0. 1. 1. 0. 0. 0. 0.]\n",
      "[ 0.33334492  0.33332453  1.         -0.          0.33332536  0.33333973\n",
      "  0.33334024  0.33332522]\n",
      "expanding node id 1, children (array([0., 0., 1., 1., 0., 0., 0., 0.]), array([ 0.33334492,  0.33332453,  1.        , -0.        ,  0.33332536,\n",
      "        0.33333973,  0.33334024,  0.33332522])), lb 0.941137778506242, z_inc [0. 0. 1. 1. 0. 1. 0. 0.]\n",
      "args 2 8\n",
      "relaxed lower bound  1.1382505594949046\n",
      "relaxed lower bound  0.9411376153242663\n",
      "relaxed upper bound inf\n",
      "get obj upper bound inf\n",
      "relaxed upper bound inf\n",
      "get obj upper bound inf\n",
      "children stats [(inf, 1.1382505594949046, array([ 0., -0.,  1., -0.,  0.,  0.,  0.,  0.]), array([[-0.12462023+0.04064881j,  0.28528393+0.05300467j,\n",
      "         0.09775315-0.09194047j, -0.19966797-0.00665065j,\n",
      "         0.16777196-0.210455j  ],\n",
      "       [-0.        +0.j        , -0.        +0.j        ,\n",
      "        -0.        +0.j        , -0.        +0.j        ,\n",
      "        -0.        +0.j        ],\n",
      "       [-0.05409722+0.10236063j,  0.29618304+0.06555909j,\n",
      "        -0.07884925+0.13690026j,  0.32659497+0.17621521j,\n",
      "        -0.04345645+0.0876712j ],\n",
      "       [-0.        +0.j        , -0.        +0.j        ,\n",
      "        -0.        +0.j        , -0.        +0.j        ,\n",
      "        -0.        +0.j        ],\n",
      "       [ 0.11908898+0.09784267j,  0.25169474-0.02106901j,\n",
      "        -0.02291518-0.02412471j, -0.12862837+0.12121994j,\n",
      "         0.0680388 +0.07124103j],\n",
      "       [ 0.03892947+0.16298923j,  0.05352791-0.12787263j,\n",
      "         0.19416282-0.0659681j ,  0.00429214-0.15503601j,\n",
      "         0.00235683+0.09424561j],\n",
      "       [ 0.12869141+0.17950227j, -0.22621057-0.26414844j,\n",
      "        -0.07482088+0.02866214j,  0.010583  +0.08812964j,\n",
      "         0.10466203-0.23531512j],\n",
      "       [-0.08003239+0.05841614j,  0.10148505+0.01734285j,\n",
      "        -0.18593513+0.11170104j, -0.22060079-0.08455189j,\n",
      "        -0.04039399+0.04097071j]]), <__main__.Node object at 0x7fb84fe3fa90>), (inf, 0.9411376153242663, array([ 0.,  1.,  1., -0.,  0.,  0.,  0.,  0.]), array([[-0.13826212+0.01607293j,  0.19361221+0.0717337j ,\n",
      "         0.12016006-0.06684541j, -0.18136781-0.02274062j,\n",
      "         0.16738043-0.16711435j],\n",
      "       [ 0.06343473+0.09601111j,  0.11726952+0.10000069j,\n",
      "        -0.06061862-0.05925981j, -0.08114359+0.18217071j,\n",
      "        -0.06229693-0.13653129j],\n",
      "       [-0.02868136+0.04853324j,  0.24775018+0.03246185j,\n",
      "        -0.06294355+0.13608435j,  0.29882766+0.12321798j,\n",
      "        -0.04034525+0.11884669j],\n",
      "       [-0.        +0.j        , -0.        +0.j        ,\n",
      "        -0.        +0.j        , -0.        +0.j        ,\n",
      "        -0.        +0.j        ],\n",
      "       [ 0.09179877+0.06934718j,  0.21216691-0.01933467j,\n",
      "        -0.01073661-0.00671847j, -0.0862132 +0.091373j  ,\n",
      "         0.06278286+0.11342542j],\n",
      "       [ 0.04985572+0.16456116j,  0.06186846-0.07167081j,\n",
      "         0.15811352-0.07731329j, -0.01341061-0.13144915j,\n",
      "         0.00403299+0.04988963j],\n",
      "       [ 0.0942692 +0.13183798j, -0.23536296-0.25717367j,\n",
      "        -0.04894723+0.03224475j,  0.02690667+0.03532827j,\n",
      "         0.10242049-0.17571183j],\n",
      "       [-0.05773756+0.04265791j,  0.08389362+0.01043758j,\n",
      "        -0.16136806+0.09365138j, -0.16978067-0.05215473j,\n",
      "        -0.03540895+0.0272327j ]]), <__main__.Node object at 0x7fb84fe3f5f8>)]\n",
      "\n",
      " L list [4.980858354219387, 1.0683247574286003, 1.1846110410857515, 1.1002008933572585, 1.1183589182373683, 1.1382505594949046, 0.9411376153242663]\n",
      "timestep 8 4.980858354219387 0.9411376153242663\n",
      "deleting node id  6\n",
      "expanding node id 2, children (array([0., 1., 1., 1., 0., 0., 0., 0.]), array([ 0.2038758 ,  1.        ,  1.        , -0.        ,  0.19676519,\n",
      "        0.19629769,  0.2076234 ,  0.19543792])), lb 0.9411376153242663, z_inc [0. 0. 1. 1. 0. 1. 0. 0.]\n",
      "args 2 8\n",
      "relaxed lower bound  1.1421475454321919\n",
      "antennas: upper bound  inf\n",
      "antennas: None not optimal, may be infeasible\n",
      "relaxed upper bound inf\n",
      "get obj upper bound inf\n",
      "children stats [(inf, 1.1421475454321919, array([ 0.,  1.,  1., -0.,  0.,  0.,  0., -0.]), array([[-0.14181708+0.00714663j,  0.17258344+0.07873479j,\n",
      "         0.25631347-0.06042765j, -0.15162489+0.01482885j,\n",
      "         0.16940649-0.17877267j],\n",
      "       [ 0.07931497+0.12100412j,  0.1196595 +0.10970687j,\n",
      "        -0.10391158-0.14062952j, -0.11340642+0.2591666j ,\n",
      "        -0.06493531-0.14113296j],\n",
      "       [-0.02523871+0.03948002j,  0.26008977+0.05163035j,\n",
      "        -0.05035442+0.18867286j,  0.32324196+0.09646261j,\n",
      "        -0.04957055+0.13692919j],\n",
      "       [-0.        +0.j        , -0.        +0.j        ,\n",
      "        -0.        +0.j        , -0.        +0.j        ,\n",
      "        -0.        +0.j        ],\n",
      "       [ 0.08444704+0.10033338j,  0.22675773+0.00795528j,\n",
      "        -0.09882789-0.01040776j, -0.13506721+0.08684267j,\n",
      "         0.05946486+0.12425367j],\n",
      "       [ 0.06890396+0.20692855j,  0.04759514-0.07206041j,\n",
      "         0.22638196-0.11793394j,  0.02589189-0.17527598j,\n",
      "        -0.00483449+0.04026458j],\n",
      "       [ 0.13227599+0.14498395j, -0.24989843-0.27767265j,\n",
      "        -0.0306073 -0.0289316j ,  0.05591775-0.00549587j,\n",
      "         0.10135056-0.18792276j],\n",
      "       [-0.        +0.j        , -0.        +0.j        ,\n",
      "        -0.        +0.j        , -0.        +0.j        ,\n",
      "        -0.        +0.j        ]]), <__main__.Node object at 0x7fb84fe3f710>), (inf, inf, array([0., 0., 0., 0., 0., 0., 0., 0.]), array([0., 0., 0., 0., 0., 0., 0., 0.]), None)]\n",
      "\n",
      " L list [4.980858354219387, 1.0683247574286003, 1.1846110410857515, 1.1002008933572585, 1.1183589182373683, 1.1382505594949046, 1.1421475454321919]\n",
      "timestep 9 4.980858354219387 1.0683247574286003\n",
      "deleting node id  1\n",
      "expanding node id 1, children (array([0., 0., 1., 1., 0., 1., 1., 0.]), array([ 0.25193149,  0.24666697,  1.        ,  1.        ,  0.25335348,\n",
      "       -0.        , -0.        ,  0.24804804])), lb 1.0683247574286003, z_inc [0. 0. 1. 1. 0. 1. 0. 0.]\n",
      "args 2 8\n",
      "relaxed lower bound  1.3340593493977035\n",
      "antennas: upper bound  inf\n",
      "antennas: None not optimal, may be infeasible\n",
      "relaxed upper bound inf\n",
      "get obj upper bound inf\n",
      "children stats [(inf, 1.3340593493977035, array([ 0., -0.,  1.,  1.,  0., -0., -0.,  0.]), array([[-0.23496138+0.05103669j,  0.13808305+0.11448392j,\n",
      "         0.10697985-0.12418292j, -0.21975413+0.00731628j,\n",
      "         0.12942324-0.12017568j],\n",
      "       [-0.        +0.j        , -0.        +0.j        ,\n",
      "        -0.        +0.j        , -0.        +0.j        ,\n",
      "        -0.        +0.j        ],\n",
      "       [-0.04854369+0.16488996j,  0.15142525+0.1558581j ,\n",
      "        -0.20091625+0.10611141j,  0.30661422+0.2464592j ,\n",
      "        -0.0036938 +0.11131254j],\n",
      "       [-0.13974873+0.05330639j, -0.12375021+0.32776863j,\n",
      "         0.13852923-0.1944557j , -0.1701648 -0.00226694j,\n",
      "        -0.26459898+0.23768529j],\n",
      "       [ 0.23373029+0.10303048j,  0.37039349-0.00297939j,\n",
      "         0.05609839-0.09221521j, -0.09417239+0.05766364j,\n",
      "         0.07730785+0.10854878j],\n",
      "       [-0.        +0.j        , -0.        +0.j        ,\n",
      "        -0.        +0.j        , -0.        +0.j        ,\n",
      "        -0.        +0.j        ],\n",
      "       [-0.        +0.j        , -0.        +0.j        ,\n",
      "        -0.        +0.j        , -0.        +0.j        ,\n",
      "        -0.        +0.j        ],\n",
      "       [-0.19357435+0.02531164j,  0.07417741+0.06549334j,\n",
      "        -0.18491963+0.13938619j, -0.30737793-0.09839023j,\n",
      "        -0.1436488 +0.11897956j]]), <__main__.Node object at 0x7fb84fe3f6d8>), (inf, inf, array([0., 0., 0., 0., 0., 0., 0., 0.]), array([0., 0., 0., 0., 0., 0., 0., 0.]), None)]\n",
      "\n",
      " L list [4.980858354219387, 1.1846110410857515, 1.1002008933572585, 1.1183589182373683, 1.1382505594949046, 1.1421475454321919, 1.3340593493977035]\n",
      "timestep 10 4.980858354219387 1.1002008933572585\n",
      "deleting node id  2\n",
      "expanding node id 1, children (array([0., 0., 1., 0., 0., 1., 1., 0.]), array([ 0.40128374,  0.3991    , -0.        ,  0.40333599,  0.39884348,\n",
      "       -0.        ,  1.        ,  0.39743677])), lb 1.1002008933572585, z_inc [0. 0. 1. 1. 0. 1. 0. 0.]\n",
      "args 2 8\n"
     ]
    },
    {
     "name": "stdout",
     "output_type": "stream",
     "text": [
      "relaxed lower bound  1.4953237399516832\n",
      "relaxed lower bound  1.100200924699482\n",
      "relaxed upper bound 11.100154446179253\n",
      "get obj upper bound 11.100154446179253\n",
      "relaxed upper bound inf\n",
      "get obj upper bound inf\n",
      "children stats [(11.100154446179253, 1.4953237399516832, array([ 0.,  1., -0.,  1.,  0., -0.,  1., -0.]), array([[-0.24280018+0.01256554j,  0.16212486+0.01783125j,\n",
      "         0.29734846-0.12386268j, -0.2778611 +0.09160127j,\n",
      "         0.17546036-0.14470714j],\n",
      "       [ 0.08315148+0.10896806j,  0.16706362+0.08782984j,\n",
      "        -0.23618975-0.08355209j, -0.07218491+0.49714803j,\n",
      "         0.01314111-0.04351921j],\n",
      "       [-0.        +0.j        , -0.        +0.j        ,\n",
      "        -0.        +0.j        , -0.        +0.j        ,\n",
      "        -0.        +0.j        ],\n",
      "       [-0.05479422+0.0877097j , -0.27507103+0.1607084j ,\n",
      "         0.28570164-0.23911785j, -0.22812344+0.07289032j,\n",
      "        -0.15805973+0.1227403j ],\n",
      "       [ 0.18591547+0.27089127j,  0.26269196-0.00446775j,\n",
      "        -0.02681598-0.10288255j, -0.10853455+0.13168013j,\n",
      "         0.02285661+0.10979307j],\n",
      "       [-0.        +0.j        , -0.        +0.j        ,\n",
      "        -0.        +0.j        , -0.        +0.j        ,\n",
      "        -0.        +0.j        ],\n",
      "       [ 0.16524298+0.19996055j, -0.31755906-0.14794787j,\n",
      "         0.00702777-0.01021492j,  0.06802664+0.004416j  ,\n",
      "         0.01689757-0.15311407j],\n",
      "       [-0.        +0.j        , -0.        +0.j        ,\n",
      "        -0.        +0.j        , -0.        +0.j        ,\n",
      "        -0.        +0.j        ]]), <__main__.Node object at 0x7fb84fe3fac8>), (inf, 1.100200924699482, array([ 0.,  0., -0.,  0.,  0., -0.,  1.,  1.]), array([[-0.21671389+0.03064398j,  0.15371871+0.03388799j,\n",
      "         0.14400776-0.10150511j, -0.26040558+0.06143729j,\n",
      "         0.17512953-0.10757985j],\n",
      "       [ 0.07109302+0.08803112j,  0.14418643+0.0873511j ,\n",
      "        -0.14388764-0.01222426j, -0.05542821+0.3157851j ,\n",
      "         0.01880625-0.04548991j],\n",
      "       [-0.        +0.j        , -0.        +0.j        ,\n",
      "        -0.        +0.j        , -0.        +0.j        ,\n",
      "        -0.        +0.j        ],\n",
      "       [-0.06235508+0.06094315j, -0.23417192+0.17503625j,\n",
      "         0.19272378-0.12417024j, -0.24437691-0.00063788j,\n",
      "        -0.17778868+0.16162233j],\n",
      "       [ 0.17127209+0.16585945j,  0.25201969-0.01643236j,\n",
      "         0.04395188-0.06448076j, -0.0779297 +0.15413278j,\n",
      "         0.05072469+0.08766021j],\n",
      "       [-0.        +0.j        , -0.        +0.j        ,\n",
      "        -0.        +0.j        , -0.        +0.j        ,\n",
      "        -0.        +0.j        ],\n",
      "       [ 0.07703492+0.14510075j, -0.27433009-0.13617803j,\n",
      "        -0.04567206+0.07179366j,  0.03528516+0.05351504j,\n",
      "         0.03598077-0.12118857j],\n",
      "       [-0.1105512 +0.03774346j,  0.03818914+0.00043116j,\n",
      "        -0.18832971+0.11373746j, -0.24755457-0.04557424j,\n",
      "        -0.06241128+0.08110847j]]), <__main__.Node object at 0x7fb84fe3f630>)]\n",
      "\n",
      " L list [4.980858354219387, 1.1846110410857515, 1.1183589182373683, 1.1382505594949046, 1.1421475454321919, 1.3340593493977035, 1.4953237399516832, 1.100200924699482]\n",
      "timestep 11 4.980858354219387 1.100200924699482\n",
      "deleting node id  7\n",
      "expanding node id 2, children (array([0., 0., 1., 0., 0., 1., 1., 1.]), array([ 0.25084235,  0.2484276 , -0.        ,  0.25388629,  0.24684375,\n",
      "       -0.        ,  1.        ,  1.        ])), lb 1.100200924699482, z_inc [0. 0. 1. 1. 0. 1. 0. 0.]\n",
      "args 2 8\n",
      "relaxed lower bound  1.4565589082945878\n",
      "antennas: upper bound  10.680422990275723\n",
      "relaxed upper bound inf\n",
      "get obj upper bound inf\n",
      "children stats [(inf, 1.4565589082945878, array([ 0.,  0., -0.,  0., -0., -0.,  1.,  1.]), array([[-0.31435672+0.06199995j,  0.10802036+0.01641114j,\n",
      "         0.14891958-0.14999904j, -0.27313838+0.04351107j,\n",
      "         0.24323792-0.13991085j],\n",
      "       [ 0.11939884+0.12403205j,  0.22625342+0.15414983j,\n",
      "        -0.1736897 -0.02772427j, -0.04168362+0.41379937j,\n",
      "         0.03244848-0.0300892j ],\n",
      "       [-0.        +0.j        , -0.        +0.j        ,\n",
      "        -0.        +0.j        , -0.        +0.j        ,\n",
      "        -0.        +0.j        ],\n",
      "       [-0.04009742+0.05193935j, -0.30425033+0.18467613j,\n",
      "         0.2260561 -0.15893512j, -0.26667582+0.01459507j,\n",
      "        -0.22705224+0.21259101j],\n",
      "       [-0.        +0.j        , -0.        +0.j        ,\n",
      "        -0.        +0.j        , -0.        +0.j        ,\n",
      "        -0.        +0.j        ],\n",
      "       [-0.        +0.j        , -0.        +0.j        ,\n",
      "        -0.        +0.j        , -0.        +0.j        ,\n",
      "        -0.        +0.j        ],\n",
      "       [-0.03075582+0.16582192j, -0.40775031-0.18222847j,\n",
      "        -0.06320582+0.10799669j,  0.02376815-0.00593773j,\n",
      "         0.01810855-0.16708177j],\n",
      "       [-0.1107769 +0.10580239j,  0.07313693-0.06547437j,\n",
      "        -0.22891844+0.09048573j, -0.26442738-0.01078824j,\n",
      "        -0.05823627+0.12897466j]]), <__main__.Node object at 0x7fb84fe3f668>), (10.680422990275723, 10.680422990275723, array([ 0.,  0., -0.,  0.,  1., -0.,  1.,  1.]), array([[-0.        +0.j        , -0.        +0.j        ,\n",
      "        -0.        +0.j        , -0.        +0.j        ,\n",
      "        -0.        +0.j        ],\n",
      "       [-0.        +0.j        , -0.        +0.j        ,\n",
      "        -0.        +0.j        , -0.        +0.j        ,\n",
      "        -0.        +0.j        ],\n",
      "       [-0.        +0.j        , -0.        +0.j        ,\n",
      "        -0.        +0.j        , -0.        +0.j        ,\n",
      "        -0.        +0.j        ],\n",
      "       [-0.        +0.j        , -0.        +0.j        ,\n",
      "        -0.        +0.j        , -0.        +0.j        ,\n",
      "        -0.        +0.j        ],\n",
      "       [ 0.94114253+1.64019681j,  0.92917903-0.51701541j,\n",
      "        -0.04812964-0.04398431j, -0.23089856+0.63797712j,\n",
      "         0.72236276+0.38688375j],\n",
      "       [-0.        +0.j        , -0.        +0.j        ,\n",
      "        -0.        +0.j        , -0.        +0.j        ,\n",
      "        -0.        +0.j        ],\n",
      "       [ 1.15567636+0.98354478j, -0.20100209-0.63592547j,\n",
      "        -0.49771281+0.40547022j,  0.09307514+0.60365304j,\n",
      "         0.57471946-0.41618022j],\n",
      "       [-0.1110836 -0.04902302j, -0.02094568-0.04098736j,\n",
      "        -0.6042742 +0.38321191j, -0.40791574-0.25707935j,\n",
      "        -0.19774683-0.02810211j]]), <__main__.Node object at 0x7fb84fe3f5c0>)]\n",
      "\n",
      " L list [4.980858354219387, 1.1846110410857515, 1.1183589182373683, 1.1382505594949046, 1.1421475454321919, 1.3340593493977035, 1.4953237399516832, 1.4565589082945878, 10.680422990275723]\n",
      "timestep 12 4.980858354219387 1.1183589182373683\n",
      "deleting node id  2\n",
      "expanding node id 1, children (array([0., 0., 1., 0., 0., 1., 1., 1.]), array([ 0.24743259,  0.25574232, -0.        ,  0.25122198,  0.2456031 ,\n",
      "        1.        ,  1.        , -0.        ])), lb 1.1183589182373683, z_inc [0. 0. 1. 1. 0. 1. 0. 0.]\n",
      "args 2 8\n",
      "relaxed lower bound  1.441076166682805\n",
      "antennas: upper bound  8.706402300079926\n",
      "relaxed upper bound inf\n",
      "get obj upper bound inf\n",
      "children stats [(inf, 1.441076166682805, array([ 0.,  0., -0.,  0., -0.,  1.,  1., -0.]), array([[-0.18362361+0.00306121j,  0.12031001+0.06037334j,\n",
      "         0.27150364-0.07118113j, -0.18876231+0.05278837j,\n",
      "         0.24368807-0.20997523j],\n",
      "       [ 0.11197702+0.16439833j,  0.25370602+0.08450209j,\n",
      "        -0.15254992-0.1210217j , -0.04667022+0.51021422j,\n",
      "         0.01743299-0.01464902j],\n",
      "       [-0.        +0.j        , -0.        +0.j        ,\n",
      "        -0.        +0.j        , -0.        +0.j        ,\n",
      "        -0.        +0.j        ],\n",
      "       [-0.01375283-0.00762846j, -0.31655809+0.19036454j,\n",
      "         0.2186125 -0.15612392j, -0.19252844+0.07626845j,\n",
      "        -0.20431531+0.17282995j],\n",
      "       [-0.        +0.j        , -0.        +0.j        ,\n",
      "        -0.        +0.j        , -0.        +0.j        ,\n",
      "        -0.        +0.j        ],\n",
      "       [ 0.09108791+0.2409054j ,  0.12688873-0.07789345j,\n",
      "         0.16490451-0.16328249j, -0.04366244-0.15040293j,\n",
      "        -0.02179365-0.0165016j ],\n",
      "       [ 0.07464455+0.12546513j, -0.38949935-0.16658473j,\n",
      "         0.0568626 -0.01655893j,  0.03316093-0.05423735j,\n",
      "         0.0136945 -0.2388546j ],\n",
      "       [-0.        +0.j        , -0.        +0.j        ,\n",
      "        -0.        +0.j        , -0.        +0.j        ,\n",
      "        -0.        +0.j        ]]), <__main__.Node object at 0x7fb84fe3f160>), (8.706402300079926, 8.706402300079926, array([ 0.,  0., -0.,  0.,  1.,  1.,  1., -0.]), array([[-0.        +0.j        , -0.        +0.j        ,\n",
      "        -0.        +0.j        , -0.        +0.j        ,\n",
      "        -0.        +0.j        ],\n",
      "       [-0.        +0.j        , -0.        +0.j        ,\n",
      "        -0.        +0.j        , -0.        +0.j        ,\n",
      "        -0.        +0.j        ],\n",
      "       [-0.        +0.j        , -0.        +0.j        ,\n",
      "        -0.        +0.j        , -0.        +0.j        ,\n",
      "        -0.        +0.j        ],\n",
      "       [-0.        +0.j        , -0.        +0.j        ,\n",
      "        -0.        +0.j        , -0.        +0.j        ,\n",
      "        -0.        +0.j        ],\n",
      "       [ 0.5046225 +1.08058295j,  0.76756346-0.469322j  ,\n",
      "        -0.74389057-0.12242439j, -0.61327418+0.68463036j,\n",
      "         0.51153063+0.3170387j ],\n",
      "       [ 0.31839836+0.63651531j, -0.09957418-0.20575357j,\n",
      "         0.62696835-0.31387754j, -0.02904212-0.47736949j,\n",
      "         0.13213118+0.08736708j],\n",
      "       [ 0.97555212+1.02389585j, -0.22239766-0.69433059j,\n",
      "        -0.34480139+0.00332977j,  0.01411362+0.5742899j ,\n",
      "         0.57783708-0.28406501j],\n",
      "       [-0.        +0.j        , -0.        +0.j        ,\n",
      "        -0.        +0.j        , -0.        +0.j        ,\n",
      "        -0.        +0.j        ]]), <__main__.Node object at 0x7fb84fe3f240>)]\n",
      "\n",
      " L list [4.980858354219387, 1.1846110410857515, 1.1382505594949046, 1.1421475454321919, 1.3340593493977035, 1.4953237399516832, 1.4565589082945878, 1.441076166682805, 8.706402300079926]\n",
      "timestep 13 4.980858354219387 1.1382505594949046\n",
      "deleting node id  2\n",
      "\n",
      "*******************\n",
      "optimal node\n",
      "*******************\n",
      "\n",
      "[0. 1. 1. 1. 0. 0. 0. 0.]\n",
      "[ 0.40284632 -0.          1.         -0.          0.39798854  0.39765088\n",
      "  0.40367139  0.39784284]\n",
      "expanding node id 1, children (array([0., 1., 1., 1., 0., 0., 0., 0.]), array([ 0.40284632, -0.        ,  1.        , -0.        ,  0.39798854,\n",
      "        0.39765088,  0.40367139,  0.39784284])), lb 1.1382505594949046, z_inc [0. 0. 1. 1. 0. 1. 0. 0.]\n",
      "args 2 8\n"
     ]
    },
    {
     "name": "stdout",
     "output_type": "stream",
     "text": [
      "relaxed lower bound  1.4215046036477437\n",
      "relaxed lower bound  1.1382505889797658\n",
      "relaxed upper bound 9.48141601890271\n",
      "get obj upper bound 9.48141601890271\n",
      "relaxed upper bound inf\n",
      "get obj upper bound inf\n",
      "children stats [(9.48141601890271, 1.4215046036477437, array([ 1., -0.,  1., -0.,  0., -0.,  1.,  0.]), array([[-0.1936556 +0.04550899j,  0.33194891+0.05675716j,\n",
      "         0.09924853-0.14144397j, -0.25181047-0.00808111j,\n",
      "         0.20803806-0.21541005j],\n",
      "       [-0.        +0.j        , -0.        +0.j        ,\n",
      "        -0.        +0.j        , -0.        +0.j        ,\n",
      "        -0.        +0.j        ],\n",
      "       [-0.03183258+0.05063544j,  0.29461047+0.0945234j ,\n",
      "        -0.19073203+0.17050531j,  0.33706834+0.18808561j,\n",
      "        -0.01617055+0.08229527j],\n",
      "       [-0.        +0.j        , -0.        +0.j        ,\n",
      "        -0.        +0.j        , -0.        +0.j        ,\n",
      "        -0.        +0.j        ],\n",
      "       [ 0.18777991+0.19611557j,  0.33977912-0.06308087j,\n",
      "         0.07918463-0.03345877j, -0.12593814+0.07385893j,\n",
      "         0.04420356+0.06736995j],\n",
      "       [-0.        +0.j        , -0.        +0.j        ,\n",
      "        -0.        +0.j        , -0.        +0.j        ,\n",
      "        -0.        +0.j        ],\n",
      "       [ 0.1494891 +0.17525302j, -0.26063898-0.25678896j,\n",
      "        -0.13126099+0.09847748j,  0.01749612+0.1091648j ,\n",
      "         0.10014513-0.28530452j],\n",
      "       [-0.11384494+0.04120449j,  0.08307112+0.0643606j ,\n",
      "        -0.28155992+0.16665541j, -0.27449979-0.08498516j,\n",
      "        -0.02288381+0.05491026j]]), <__main__.Node object at 0x7fb84fe3ff98>), (inf, 1.1382505889797658, array([ 0., -0.,  1., -0.,  0.,  1.,  0.,  0.]), array([[-0.12462023+0.04064881j,  0.28528393+0.05300467j,\n",
      "         0.09775315-0.09194047j, -0.19966797-0.00665065j,\n",
      "         0.16777196-0.210455j  ],\n",
      "       [-0.        +0.j        , -0.        +0.j        ,\n",
      "        -0.        +0.j        , -0.        +0.j        ,\n",
      "        -0.        +0.j        ],\n",
      "       [-0.05409723+0.10236063j,  0.29618305+0.06555909j,\n",
      "        -0.07884926+0.13690026j,  0.32659497+0.17621521j,\n",
      "        -0.04345645+0.0876712j ],\n",
      "       [-0.        +0.j        , -0.        +0.j        ,\n",
      "        -0.        +0.j        , -0.        +0.j        ,\n",
      "        -0.        +0.j        ],\n",
      "       [ 0.11908898+0.09784267j,  0.25169474-0.02106901j,\n",
      "        -0.02291518-0.02412472j, -0.12862837+0.12121994j,\n",
      "         0.0680388 +0.07124103j],\n",
      "       [ 0.03892947+0.16298924j,  0.05352791-0.12787264j,\n",
      "         0.19416283-0.0659681j ,  0.00429214-0.15503601j,\n",
      "         0.00235683+0.09424561j],\n",
      "       [ 0.12869141+0.17950227j, -0.22621057-0.26414844j,\n",
      "        -0.07482089+0.02866213j,  0.010583  +0.08812964j,\n",
      "         0.10466203-0.23531512j],\n",
      "       [-0.0800324 +0.05841615j,  0.10148505+0.01734285j,\n",
      "        -0.18593514+0.11170104j, -0.22060078-0.08455189j,\n",
      "        -0.040394  +0.04097071j]]), <__main__.Node object at 0x7fb84fe3f898>)]\n",
      "\n",
      " L list [4.980858354219387, 1.1846110410857515, 1.1421475454321919, 1.3340593493977035, 1.4953237399516832, 1.4565589082945878, 1.441076166682805, 1.4215046036477437, 1.1382505889797658]\n",
      "timestep 14 4.980858354219387 1.1382505889797658\n",
      "deleting node id  8\n",
      "\n",
      "*******************\n",
      "optimal node\n",
      "*******************\n",
      "\n",
      "[0. 1. 1. 1. 0. 1. 0. 0.]\n",
      "[ 0.2539187  -0.          1.         -0.          0.24569391  1.\n",
      "  0.25512096  0.24526643]\n",
      "expanding node id 2, children (array([0., 1., 1., 1., 0., 1., 0., 0.]), array([ 0.2539187 , -0.        ,  1.        , -0.        ,  0.24569391,\n",
      "        1.        ,  0.25512096,  0.24526643])), lb 1.1382505889797658, z_inc [0. 0. 1. 1. 0. 1. 0. 0.]\n",
      "args 2 8\n",
      "relaxed lower bound  1.5587887040524067\n",
      "antennas: upper bound  10.696086278762113\n",
      "relaxed upper bound inf\n",
      "get obj upper bound inf\n",
      "children stats [(inf, 1.5587887040524067, array([ 0., -0.,  1., -0.,  0.,  1.,  0., -0.]), array([[-0.10878968+0.0312694j ,  0.26255594+0.05386399j,\n",
      "         0.27518297-0.12707714j, -0.15267193+0.09072889j,\n",
      "         0.16712648-0.22690328j],\n",
      "       [-0.        +0.j        , -0.        +0.j        ,\n",
      "        -0.        +0.j        , -0.        +0.j        ,\n",
      "        -0.        +0.j        ],\n",
      "       [-0.06075521+0.10877536j,  0.31826185+0.09670499j,\n",
      "        -0.05488674+0.1989267j ,  0.39573605+0.17555772j,\n",
      "        -0.05773688+0.11520144j],\n",
      "       [-0.        +0.j        , -0.        +0.j        ,\n",
      "        -0.        +0.j        , -0.        +0.j        ,\n",
      "        -0.        +0.j        ],\n",
      "       [ 0.11159285+0.15898738j,  0.26939084+0.02492808j,\n",
      "        -0.18453243-0.08187724j, -0.26766717+0.14722556j,\n",
      "         0.07076828+0.08188967j],\n",
      "       [ 0.06861748+0.21248521j,  0.03486393-0.14373184j,\n",
      "         0.35621199-0.09554489j,  0.12962634-0.27443599j,\n",
      "        -0.01747286+0.09106144j],\n",
      "       [ 0.19614314+0.21494946j, -0.24449233-0.29074403j,\n",
      "        -0.09232247-0.09187415j,  0.05376155+0.06812882j,\n",
      "         0.09985682-0.26437763j],\n",
      "       [-0.        +0.j        , -0.        +0.j        ,\n",
      "        -0.        +0.j        , -0.        +0.j        ,\n",
      "        -0.        +0.j        ]]), <__main__.Node object at 0x7fb84fe39978>), (10.696086278762113, 10.696086278762113, array([ 0., -0.,  1., -0.,  0.,  1.,  0.,  1.]), array([[-0.        +0.j        , -0.        +0.j        ,\n",
      "        -0.        +0.j        , -0.        +0.j        ,\n",
      "        -0.        +0.j        ],\n",
      "       [-0.        +0.j        , -0.        +0.j        ,\n",
      "        -0.        +0.j        , -0.        +0.j        ,\n",
      "        -0.        +0.j        ],\n",
      "       [-0.25255333+0.82268043j,  1.24419029-0.02583707j,\n",
      "        -0.16057101+0.7889958j ,  0.75109541+0.66474103j,\n",
      "        -0.07444074+0.78040817j],\n",
      "       [-0.        +0.j        , -0.        +0.j        ,\n",
      "        -0.        +0.j        , -0.        +0.j        ,\n",
      "        -0.        +0.j        ],\n",
      "       [-0.        +0.j        , -0.        +0.j        ,\n",
      "        -0.        +0.j        , -0.        +0.j        ,\n",
      "        -0.        +0.j        ],\n",
      "       [ 0.50293525+0.45953231j,  0.36041552-0.75636198j,\n",
      "         0.9227249 -0.20487368j,  0.10277553-0.36572582j,\n",
      "         0.83538448+0.96395945j],\n",
      "       [-0.        +0.j        , -0.        +0.j        ,\n",
      "        -0.        +0.j        , -0.        +0.j        ,\n",
      "        -0.        +0.j        ],\n",
      "       [-0.40834907+0.1174726j ,  0.84065349+0.33314201j,\n",
      "        -0.66516672+0.56797364j, -0.24402939+0.00318098j,\n",
      "        -0.68737727+0.10820584j]]), <__main__.Node object at 0x7fb84fe39c88>)]\n",
      "\n",
      " L list [4.980858354219387, 1.1846110410857515, 1.1421475454321919, 1.3340593493977035, 1.4953237399516832, 1.4565589082945878, 1.441076166682805, 1.4215046036477437, 1.5587887040524067, 10.696086278762113]\n",
      "timestep 15 4.980858354219387 1.1421475454321919\n",
      "deleting node id  2\n",
      "expanding node id 1, children (array([0., 1., 1., 1., 0., 0., 0., 1.]), array([ 0.25219979,  1.        ,  1.        , -0.        ,  0.24533556,\n",
      "        0.24809238,  0.25437226, -0.        ])), lb 1.1421475454321919, z_inc [0. 0. 1. 1. 0. 1. 0. 0.]\n",
      "args 2 8\n",
      "relaxed lower bound  1.3664005207987322\n",
      "antennas: upper bound  42.98163952984747\n",
      "relaxed upper bound inf\n",
      "get obj upper bound inf\n",
      "children stats [(inf, 1.3664005207987322, array([ 0.,  1.,  1., -0., -0.,  0.,  0., -0.]), array([[-0.15405839+0.00234462j,  0.13930633+0.10091087j,\n",
      "         0.2989591 -0.05929906j, -0.14315762-0.01538979j,\n",
      "         0.21039121-0.22771382j],\n",
      "       [ 0.09772076+0.13216848j,  0.1720006 +0.1407886j ,\n",
      "        -0.14135329-0.1609967j , -0.1425757 +0.32065359j,\n",
      "        -0.06058244-0.13201878j],\n",
      "       [-0.03024714+0.05367716j,  0.32335197+0.07809488j,\n",
      "        -0.06252857+0.21680699j,  0.35320457+0.12738994j,\n",
      "        -0.05992799+0.1744331j ],\n",
      "       [-0.        +0.j        , -0.        +0.j        ,\n",
      "        -0.        +0.j        , -0.        +0.j        ,\n",
      "        -0.        +0.j        ],\n",
      "       [-0.        +0.j        , -0.        +0.j        ,\n",
      "        -0.        +0.j        , -0.        +0.j        ,\n",
      "        -0.        +0.j        ],\n",
      "       [ 0.08664017+0.23468793j,  0.12724622-0.11521065j,\n",
      "         0.20872258-0.12616353j, -0.01630907-0.15987081j,\n",
      "         0.02689423+0.06700701j],\n",
      "       [ 0.07927221+0.12040571j, -0.32289462-0.32198198j,\n",
      "         0.01796548-0.0479578j ,  0.08289086-0.06226059j,\n",
      "         0.09127253-0.25180861j],\n",
      "       [-0.        +0.j        , -0.        +0.j        ,\n",
      "        -0.        +0.j        , -0.        +0.j        ,\n",
      "        -0.        +0.j        ]]), <__main__.Node object at 0x7fb84fe39e48>), (42.98163952984747, 42.98163952984747, array([ 0.,  1.,  1., -0.,  1.,  0.,  0., -0.]), array([[-0.        +0.j        , -0.        +0.j        ,\n",
      "        -0.        +0.j        , -0.        +0.j        ,\n",
      "        -0.        +0.j        ],\n",
      "       [ 0.02679124+1.02970952j, -0.90277878+0.65635092j,\n",
      "        -0.4324032 -0.90934759j, -0.6060231 +1.13054462j,\n",
      "        -0.65214034-2.91261414j],\n",
      "       [ 0.60551945+0.18527808j,  1.55789769+0.38082197j,\n",
      "        -0.17810748+1.65956101j,  1.75720614+0.28608259j,\n",
      "        -1.22251324+2.57793432j],\n",
      "       [-0.        +0.j        , -0.        +0.j        ,\n",
      "        -0.        +0.j        , -0.        +0.j        ,\n",
      "        -0.        +0.j        ],\n",
      "       [ 1.05011678+0.77033433j,  1.78913284-0.24357859j,\n",
      "         0.13481744+0.19627305j, -0.00384071-0.54316521j,\n",
      "         0.22995891+2.58398857j],\n",
      "       [-0.        +0.j        , -0.        +0.j        ,\n",
      "        -0.        +0.j        , -0.        +0.j        ,\n",
      "        -0.        +0.j        ],\n",
      "       [-0.        +0.j        , -0.        +0.j        ,\n",
      "        -0.        +0.j        , -0.        +0.j        ,\n",
      "        -0.        +0.j        ],\n",
      "       [-0.        +0.j        , -0.        +0.j        ,\n",
      "        -0.        +0.j        , -0.        +0.j        ,\n",
      "        -0.        +0.j        ]]), <__main__.Node object at 0x7fb84fe39748>)]\n",
      "\n",
      " L list [4.980858354219387, 1.1846110410857515, 1.3340593493977035, 1.4953237399516832, 1.4565589082945878, 1.441076166682805, 1.4215046036477437, 1.5587887040524067, 1.3664005207987322, 42.98163952984747]\n",
      "timestep 16 4.980858354219387 1.1846110410857515\n",
      "deleting node id  1\n",
      "expanding node id 1, children (array([0., 0., 1., 0., 0., 0., 1., 0.]), array([ 0.5002009 ,  0.49966118, -0.        ,  0.50587945,  0.50014412,\n",
      "        0.49695054, -0.        ,  0.49716378])), lb 1.1846110410857515, z_inc [0. 0. 1. 1. 0. 1. 0. 0.]\n",
      "args 2 8\n"
     ]
    },
    {
     "name": "stdout",
     "output_type": "stream",
     "text": [
      "relaxed lower bound  2.7551398560059552\n",
      "relaxed lower bound  1.1846110670369505\n",
      "relaxed upper bound 8.584101844203698\n",
      "get obj upper bound 8.584101844203698\n",
      "relaxed upper bound inf\n",
      "get obj upper bound inf\n",
      "children stats [(8.584101844203698, 2.7551398560059552, array([1., 1., 0., 0., 1., 0., 0., 0.]), array([[-3.31622809e-01-0.01935781j,  5.68532550e-01+0.23399058j,\n",
      "         2.99065126e-01-0.08955363j, -2.99176867e-01-0.0809064j ,\n",
      "         2.84093262e-01-0.33252889j],\n",
      "       [ 1.89559320e-01+0.26146769j,  1.90235067e-01-0.17220838j,\n",
      "        -1.50330215e-01-0.09331982j, -7.11806430e-02+0.51558493j,\n",
      "        -1.83370267e-01-0.23541838j],\n",
      "       [-0.00000000e+00+0.j        , -0.00000000e+00+0.j        ,\n",
      "        -0.00000000e+00+0.j        , -0.00000000e+00+0.j        ,\n",
      "        -0.00000000e+00+0.j        ],\n",
      "       [-0.00000000e+00+0.j        , -0.00000000e+00+0.j        ,\n",
      "        -0.00000000e+00+0.j        , -0.00000000e+00+0.j        ,\n",
      "        -0.00000000e+00+0.j        ],\n",
      "       [ 1.41296847e-01-0.08114802j,  7.14986825e-01-0.01530383j,\n",
      "         2.94779132e-03+0.06264502j, -3.57093935e-04+0.22705974j,\n",
      "         7.31685287e-02+0.36988963j],\n",
      "       [ 7.46212624e-02+0.27040637j,  1.93417757e-01+0.05755705j,\n",
      "         3.06629553e-01-0.24068214j, -1.01200842e-01-0.25164615j,\n",
      "        -1.06814974e-01-0.08482548j],\n",
      "       [-0.00000000e+00+0.j        , -0.00000000e+00+0.j        ,\n",
      "        -0.00000000e+00+0.j        , -0.00000000e+00+0.j        ,\n",
      "        -0.00000000e+00+0.j        ],\n",
      "       [-1.36858527e-01+0.03337552j,  2.32267682e-01+0.16825125j,\n",
      "        -2.35629867e-01+0.08042604j, -1.93400292e-01-0.07700149j,\n",
      "        -9.81914507e-02-0.0661223j ]]), <__main__.Node object at 0x7fb84fe39e80>), (inf, 1.1846110670369505, array([ 0.,  0., -0.,  1.,  0.,  0., -0.,  0.]), array([[-0.23188689+0.01025502j,  0.13837701+0.0959124j ,\n",
      "         0.14984438-0.07998201j, -0.2162171 +0.02799121j,\n",
      "         0.17152167-0.12431009j],\n",
      "       [ 0.12848048+0.18523202j,  0.06116013+0.04509238j,\n",
      "        -0.08550585-0.03296673j, -0.07575082+0.32687055j,\n",
      "         0.00805376-0.08408337j],\n",
      "       [-0.        +0.j        , -0.        +0.j        ,\n",
      "        -0.        +0.j        , -0.        +0.j        ,\n",
      "        -0.        +0.j        ],\n",
      "       [-0.097868  +0.02091819j, -0.20872607+0.31174204j,\n",
      "         0.16127042-0.11366798j, -0.2726531 -0.01024801j,\n",
      "        -0.20361465+0.24039231j],\n",
      "       [ 0.1396895 +0.03185902j,  0.32468008-0.00524811j,\n",
      "        -0.02971137-0.04313185j, -0.0511393 +0.20438184j,\n",
      "         0.06767809+0.15129588j],\n",
      "       [ 0.06132445+0.15872061j,  0.08567533-0.04364578j,\n",
      "         0.17726229-0.1237794j , -0.01481092-0.15671399j,\n",
      "        -0.05105453-0.01249649j],\n",
      "       [-0.        +0.j        , -0.        +0.j        ,\n",
      "        -0.        +0.j        , -0.        +0.j        ,\n",
      "        -0.        +0.j        ],\n",
      "       [-0.11458288+0.01141615j,  0.11687879-0.0091451j ,\n",
      "        -0.13781373+0.08513062j, -0.21806313-0.03804871j,\n",
      "        -0.10182451+0.08584354j]]), <__main__.Node object at 0x7fb84fe39908>)]\n",
      "\n",
      " L list [4.980858354219387, 1.3340593493977035, 1.4953237399516832, 1.4565589082945878, 1.441076166682805, 1.4215046036477437, 1.5587887040524067, 1.3664005207987322, 2.7551398560059552, 1.1846110670369505]\n",
      "timestep 17 4.980858354219387 1.1846110670369505\n",
      "deleting node id  9\n",
      "expanding node id 2, children (array([0., 0., 1., 1., 0., 0., 1., 0.]), array([ 0.40169622,  0.40122248, -0.        ,  1.        ,  0.40191686,\n",
      "        0.39741172, -0.        ,  0.3977527 ])), lb 1.1846110670369505, z_inc [0. 0. 1. 1. 0. 1. 0. 0.]\n",
      "args 2 8\n",
      "relaxed lower bound  1.4276847603341773\n",
      "relaxed upper bound 24.963004479742438\n",
      "get obj upper bound 24.963004479742438\n",
      "relaxed lower bound  1.1846110965364662\n",
      "relaxed upper bound inf\n",
      "get obj upper bound inf\n",
      "children stats [(24.963004479742438, 1.4276847603341773, array([ 1.,  0., -0.,  1.,  1., -0., -0.,  0.]), array([[-0.29275373+0.01597228j,  0.14219001+0.10039862j,\n",
      "         0.17876387-0.12534651j, -0.28534518+0.04264848j,\n",
      "         0.16948388-0.10226508j],\n",
      "       [ 0.11960628+0.15209033j,  0.04805986+0.08696142j,\n",
      "        -0.19117743+0.00778361j, -0.07823317+0.36584592j,\n",
      "         0.02984364-0.0782483j ],\n",
      "       [-0.        +0.j        , -0.        +0.j        ,\n",
      "        -0.        +0.j        , -0.        +0.j        ,\n",
      "        -0.        +0.j        ],\n",
      "       [-0.13171988+0.06208006j, -0.19390078+0.3227528j ,\n",
      "         0.21429442-0.15524132j, -0.33430762-0.02124816j,\n",
      "        -0.21656386+0.23637814j],\n",
      "       [ 0.2226497 +0.11250818j,  0.39810426-0.01166254j,\n",
      "         0.06574445-0.10651258j, -0.05560758+0.17350139j,\n",
      "         0.05134587+0.12720133j],\n",
      "       [-0.        +0.j        , -0.        +0.j        ,\n",
      "        -0.        +0.j        , -0.        +0.j        ,\n",
      "        -0.        +0.j        ],\n",
      "       [-0.        +0.j        , -0.        +0.j        ,\n",
      "        -0.        +0.j        , -0.        +0.j        ,\n",
      "        -0.        +0.j        ],\n",
      "       [-0.16274653+0.00971684j,  0.09299991+0.02831043j,\n",
      "        -0.17880234+0.09709962j, -0.27052324-0.03465746j,\n",
      "        -0.10589368+0.10439709j]]), <__main__.Node object at 0x7fb84fe393c8>), (inf, 1.1846110965364662, array([ 0.,  0., -0.,  1.,  0.,  1., -0.,  0.]), array([[-0.23188689+0.01025501j,  0.13837701+0.0959124j ,\n",
      "         0.14984438-0.07998201j, -0.2162171 +0.02799121j,\n",
      "         0.17152168-0.12431009j],\n",
      "       [ 0.12848049+0.18523203j,  0.06116013+0.04509238j,\n",
      "        -0.08550585-0.03296673j, -0.07575082+0.32687055j,\n",
      "         0.00805376-0.08408337j],\n",
      "       [-0.        +0.j        , -0.        +0.j        ,\n",
      "        -0.        +0.j        , -0.        +0.j        ,\n",
      "        -0.        +0.j        ],\n",
      "       [-0.097868  +0.02091819j, -0.20872608+0.31174205j,\n",
      "         0.16127043-0.11366798j, -0.2726531 -0.01024801j,\n",
      "        -0.20361466+0.24039232j],\n",
      "       [ 0.1396895 +0.03185902j,  0.32468007-0.00524812j,\n",
      "        -0.02971137-0.04313185j, -0.0511393 +0.20438184j,\n",
      "         0.06767809+0.15129588j],\n",
      "       [ 0.06132445+0.15872062j,  0.08567533-0.04364578j,\n",
      "         0.17726229-0.1237794j , -0.01481092-0.156714j  ,\n",
      "        -0.05105454-0.01249649j],\n",
      "       [-0.        +0.j        , -0.        +0.j        ,\n",
      "        -0.        +0.j        , -0.        +0.j        ,\n",
      "        -0.        +0.j        ],\n",
      "       [-0.11458288+0.01141615j,  0.11687879-0.0091451j ,\n",
      "        -0.13781373+0.08513062j, -0.21806313-0.03804871j,\n",
      "        -0.10182451+0.08584354j]]), <__main__.Node object at 0x7fb84fe39630>)]\n",
      "\n",
      " L list [4.980858354219387, 1.3340593493977035, 1.4953237399516832, 1.4565589082945878, 1.441076166682805, 1.4215046036477437, 1.5587887040524067, 1.3664005207987322, 2.7551398560059552, 1.4276847603341773, 1.1846110965364662]\n",
      "timestep 18 4.980858354219387 1.1846110965364662\n",
      "deleting node id  10\n",
      "expanding node id 2, children (array([0., 0., 1., 1., 0., 1., 1., 0.]), array([ 0.25095654,  0.25179977, -0.        ,  1.        ,  0.2528358 ,\n",
      "        1.        , -0.        ,  0.24440788])), lb 1.1846110965364662, z_inc [0. 0. 1. 1. 0. 1. 0. 0.]\n",
      "args 2 8\n",
      "relaxed lower bound  1.4979608928741277\n",
      "antennas: upper bound  24.40325509942894\n",
      "relaxed upper bound inf\n",
      "get obj upper bound inf\n",
      "children stats [(inf, 1.4979608928741277, array([ 0.,  0., -0.,  1.,  0.,  1., -0., -0.]), array([[-0.26447871-0.00159537j,  0.11990217+0.11907201j,\n",
      "         0.23947997-0.08830441j, -0.20262592+0.0644907j ,\n",
      "         0.18443281-0.16614722j],\n",
      "       [ 0.18677367+0.25460594j,  0.06331739+0.06380286j,\n",
      "        -0.10389006-0.11221398j, -0.06056443+0.41220261j,\n",
      "        -0.00910643-0.12881607j],\n",
      "       [-0.        +0.j        , -0.        +0.j        ,\n",
      "        -0.        +0.j        , -0.        +0.j        ,\n",
      "        -0.        +0.j        ],\n",
      "       [-0.11449867+0.01383639j, -0.22039253+0.33545352j,\n",
      "         0.21730014-0.16411297j, -0.26678451+0.06091195j,\n",
      "        -0.17265653+0.24749727j],\n",
      "       [ 0.09001788+0.0283168j ,  0.38445802+0.03877084j,\n",
      "        -0.13616094-0.0255193j , -0.08792939+0.2364823j ,\n",
      "         0.03538396+0.22109269j],\n",
      "       [ 0.07889041+0.23636022j,  0.06205939-0.04012077j,\n",
      "         0.2157698 -0.16031422j,  0.0029206 -0.23090373j,\n",
      "        -0.07797499-0.03354636j],\n",
      "       [-0.        +0.j        , -0.        +0.j        ,\n",
      "        -0.        +0.j        , -0.        +0.j        ,\n",
      "        -0.        +0.j        ],\n",
      "       [-0.        +0.j        , -0.        +0.j        ,\n",
      "        -0.        +0.j        , -0.        +0.j        ,\n",
      "        -0.        +0.j        ]]), <__main__.Node object at 0x7fb84fe39160>), (24.40325509942894, 24.40325509942894, array([ 0.,  0., -0.,  1.,  0.,  1., -0.,  1.]), array([[-0.        +0.00000000e+00j, -0.        +0.00000000e+00j,\n",
      "        -0.        +0.00000000e+00j, -0.        +0.00000000e+00j,\n",
      "        -0.        +0.00000000e+00j],\n",
      "       [-0.        +0.00000000e+00j, -0.        +0.00000000e+00j,\n",
      "        -0.        +0.00000000e+00j, -0.        +0.00000000e+00j,\n",
      "        -0.        +0.00000000e+00j],\n",
      "       [-0.        +0.00000000e+00j, -0.        +0.00000000e+00j,\n",
      "        -0.        +0.00000000e+00j, -0.        +0.00000000e+00j,\n",
      "        -0.        +0.00000000e+00j],\n",
      "       [-0.18338211-4.93464078e-01j, -0.94927411+1.16361977e+00j,\n",
      "         0.70749301-9.08694694e-01j, -1.26388091-9.09267092e-01j,\n",
      "        -2.12959309+1.95574767e+00j],\n",
      "       [-0.        +0.00000000e+00j, -0.        +0.00000000e+00j,\n",
      "        -0.        +0.00000000e+00j, -0.        +0.00000000e+00j,\n",
      "        -0.        +0.00000000e+00j],\n",
      "       [ 0.87316827+6.89803717e-01j,  0.01487341-3.53315890e-01j,\n",
      "         0.82751165-4.87340157e-01j, -0.37872921+1.76989294e-04j,\n",
      "        -0.55937457+2.87718951e-01j],\n",
      "       [-0.        +0.00000000e+00j, -0.        +0.00000000e+00j,\n",
      "        -0.        +0.00000000e+00j, -0.        +0.00000000e+00j,\n",
      "        -0.        +0.00000000e+00j],\n",
      "       [-0.43611929-1.46488574e-01j,  0.65316853-3.70956569e-01j,\n",
      "        -0.73572222+5.06051521e-01j, -1.89869509-7.31579092e-01j,\n",
      "        -0.57707116+9.42976043e-01j]]), <__main__.Node object at 0x7fb84fe39320>)]\n",
      "\n",
      " L list [4.980858354219387, 1.3340593493977035, 1.4953237399516832, 1.4565589082945878, 1.441076166682805, 1.4215046036477437, 1.5587887040524067, 1.3664005207987322, 2.7551398560059552, 1.4276847603341773, 1.4979608928741277, 24.40325509942894]\n",
      "timestep 19 4.980858354219387 1.3340593493977035\n",
      "deleting node id  1\n",
      "expanding node id 1, children (array([0., 1., 1., 1., 0., 1., 1., 0.]), array([ 0.33090798, -0.        ,  1.        ,  1.        ,  0.33526986,\n",
      "       -0.        , -0.        ,  0.33382215])), lb 1.3340593493977035, z_inc [0. 0. 1. 1. 0. 1. 0. 0.]\n",
      "args 2 8\n"
     ]
    },
    {
     "name": "stdout",
     "output_type": "stream",
     "text": [
      "relaxed lower bound  1.946327145834065\n",
      "antennas: upper bound  6.118729598554195\n",
      "relaxed upper bound 6.469117780212368\n",
      "get obj upper bound 6.469117780212368\n",
      "children stats [(6.469117780212368, 1.946327145834065, array([-0., -0.,  1.,  1.,  1., -0., -0.,  0.]), array([[-0.        +0.j        , -0.        +0.j        ,\n",
      "        -0.        +0.j        , -0.        +0.j        ,\n",
      "        -0.        +0.j        ],\n",
      "       [-0.        +0.j        , -0.        +0.j        ,\n",
      "        -0.        +0.j        , -0.        +0.j        ,\n",
      "        -0.        +0.j        ],\n",
      "       [-0.14060108+0.30780033j,  0.17761324+0.29729728j,\n",
      "        -0.17445766+0.12663544j,  0.3072615 +0.35340009j,\n",
      "         0.02767745+0.19726827j],\n",
      "       [-0.29503161+0.10588123j, -0.16203001+0.44660631j,\n",
      "         0.10643214-0.24046092j, -0.18169252+0.04659148j,\n",
      "        -0.3691356 +0.29686157j],\n",
      "       [ 0.38928012+0.21627767j,  0.38064634-0.03399618j,\n",
      "         0.07376296-0.06091676j, -0.01798237+0.01418943j,\n",
      "         0.1500861 +0.17622697j],\n",
      "       [-0.        +0.j        , -0.        +0.j        ,\n",
      "        -0.        +0.j        , -0.        +0.j        ,\n",
      "        -0.        +0.j        ],\n",
      "       [-0.        +0.j        , -0.        +0.j        ,\n",
      "        -0.        +0.j        , -0.        +0.j        ,\n",
      "        -0.        +0.j        ],\n",
      "       [-0.25515781+0.0275969j ,  0.04811012+0.0630832j ,\n",
      "        -0.22081479+0.17565112j, -0.32441389-0.12696109j,\n",
      "        -0.23045708+0.1409872j ]]), <__main__.Node object at 0x7fb84fe327b8>), (6.118729598554195, 6.118729598554195, array([ 1., -0.,  1.,  1.,  0., -0., -0.,  0.]), array([[-0.50732092+0.04538848j, -0.18103884+0.16405262j,\n",
      "         0.48163959-0.48498455j, -0.30836544+0.06641218j,\n",
      "         0.29595427-0.37216564j],\n",
      "       [-0.        +0.j        , -0.        +0.j        ,\n",
      "        -0.        +0.j        , -0.        +0.j        ,\n",
      "        -0.        +0.j        ],\n",
      "       [-0.08302967+0.43154455j,  0.35815067+0.69546422j,\n",
      "        -0.89205267-0.05671167j,  0.65400957+0.65209564j,\n",
      "        -0.11077325+0.26099165j],\n",
      "       [-0.19685742-0.02105387j, -0.25214832+0.94176355j,\n",
      "         0.43933619-0.83994911j, -0.13825545+0.39813633j,\n",
      "        -0.40722746+0.48759874j],\n",
      "       [-0.        +0.j        , -0.        +0.j        ,\n",
      "        -0.        +0.j        , -0.        +0.j        ,\n",
      "        -0.        +0.j        ],\n",
      "       [-0.        +0.j        , -0.        +0.j        ,\n",
      "        -0.        +0.j        , -0.        +0.j        ,\n",
      "        -0.        +0.j        ],\n",
      "       [-0.        +0.j        , -0.        +0.j        ,\n",
      "        -0.        +0.j        , -0.        +0.j        ,\n",
      "        -0.        +0.j        ],\n",
      "       [-0.        +0.j        , -0.        +0.j        ,\n",
      "        -0.        +0.j        , -0.        +0.j        ,\n",
      "        -0.        +0.j        ]]), <__main__.Node object at 0x7fb84fe32b38>)]\n",
      "\n",
      " L list [4.980858354219387, 1.4953237399516832, 1.4565589082945878, 1.441076166682805, 1.4215046036477437, 1.5587887040524067, 1.3664005207987322, 2.7551398560059552, 1.4276847603341773, 1.4979608928741277, 1.946327145834065, 6.118729598554195]\n",
      "timestep 20 4.980858354219387 1.3664005207987322\n",
      "deleting node id  6\n",
      "expanding node id 1, children (array([0., 1., 1., 1., 1., 0., 0., 1.]), array([ 0.33372409,  1.        ,  1.        , -0.        , -0.        ,\n",
      "        0.32886395,  0.33741195, -0.        ])), lb 1.3664005207987322, z_inc [0. 0. 1. 1. 0. 1. 0. 0.]\n",
      "args 2 8\n",
      "relaxed lower bound  2.1415768577438503\n",
      "antennas: upper bound  14.210889939272992\n",
      "relaxed upper bound 11.669880921863985\n",
      "get obj upper bound 11.669880921863985\n",
      "children stats [(11.669880921863985, 2.1415768577438503, array([ 1.,  1.,  1., -0., -0., -0.,  0., -0.]), array([[-0.4136933 +0.0411749j ,  0.09380246+0.0937965j ,\n",
      "         0.42034675-0.1689684j , -0.26141932+0.02488327j,\n",
      "         0.2747467 -0.2520567j ],\n",
      "       [ 0.15081016+0.20937752j,  0.24357163+0.25413682j,\n",
      "        -0.26111433-0.24957719j, -0.18512206+0.42212496j,\n",
      "        -0.12242012-0.17489266j],\n",
      "       [-0.01134066-0.04541991j,  0.36773101+0.05528482j,\n",
      "        -0.21228656+0.31574021j,  0.35298901+0.0879129j ,\n",
      "        -0.05431908+0.25641611j],\n",
      "       [-0.        +0.j        , -0.        +0.j        ,\n",
      "        -0.        +0.j        , -0.        +0.j        ,\n",
      "        -0.        +0.j        ],\n",
      "       [-0.        +0.j        , -0.        +0.j        ,\n",
      "        -0.        +0.j        , -0.        +0.j        ,\n",
      "        -0.        +0.j        ],\n",
      "       [-0.        +0.j        , -0.        +0.j        ,\n",
      "        -0.        +0.j        , -0.        +0.j        ,\n",
      "        -0.        +0.j        ],\n",
      "       [ 0.03580037+0.14459069j, -0.43694094-0.38240429j,\n",
      "        -0.00614601-0.00093888j,  0.11811443-0.08674639j,\n",
      "         0.08216495-0.29164928j],\n",
      "       [-0.        +0.j        , -0.        +0.j        ,\n",
      "        -0.        +0.j        , -0.        +0.j        ,\n",
      "        -0.        +0.j        ]]), <__main__.Node object at 0x7fb84fe325c0>), (14.210889939272992, 14.210889939272992, array([ 0.,  1.,  1., -0., -0.,  1.,  0., -0.]), array([[-0.00000000e+00+0.j        , -0.00000000e+00+0.j        ,\n",
      "        -0.00000000e+00+0.j        , -0.00000000e+00+0.j        ,\n",
      "        -0.00000000e+00+0.j        ],\n",
      "       [ 2.92497029e-01+0.46909618j,  5.61095423e-02+0.1206297j ,\n",
      "         7.49393654e-04-0.40478448j, -3.45911026e-01+0.20559484j,\n",
      "        -2.07772545e-02-1.31747973j],\n",
      "       [-1.60140775e-01+0.31549469j,  9.76619169e-01+0.54282578j,\n",
      "        -3.69768828e-02+0.75038213j,  8.64641644e-01+0.15111609j,\n",
      "        -9.73586584e-01+2.09667533j],\n",
      "       [-0.00000000e+00+0.j        , -0.00000000e+00+0.j        ,\n",
      "        -0.00000000e+00+0.j        , -0.00000000e+00+0.j        ,\n",
      "        -0.00000000e+00+0.j        ],\n",
      "       [-0.00000000e+00+0.j        , -0.00000000e+00+0.j        ,\n",
      "        -0.00000000e+00+0.j        , -0.00000000e+00+0.j        ,\n",
      "        -0.00000000e+00+0.j        ],\n",
      "       [ 3.77004256e-01+0.65483456j,  8.86262240e-01-0.2929496j ,\n",
      "         3.73697543e-01-0.22427544j, -3.82223065e-02-0.34478547j,\n",
      "         7.02952636e-01+1.23553542j],\n",
      "       [-0.00000000e+00+0.j        , -0.00000000e+00+0.j        ,\n",
      "        -0.00000000e+00+0.j        , -0.00000000e+00+0.j        ,\n",
      "        -0.00000000e+00+0.j        ],\n",
      "       [-0.00000000e+00+0.j        , -0.00000000e+00+0.j        ,\n",
      "        -0.00000000e+00+0.j        , -0.00000000e+00+0.j        ,\n",
      "        -0.00000000e+00+0.j        ]]), <__main__.Node object at 0x7fb84fe32668>)]\n",
      "\n",
      " L list [4.980858354219387, 1.4953237399516832, 1.4565589082945878, 1.441076166682805, 1.4215046036477437, 1.5587887040524067, 2.7551398560059552, 1.4276847603341773, 1.4979608928741277, 1.946327145834065, 2.1415768577438503, 14.210889939272992]\n",
      "timestep 21 4.980858354219387 1.4215046036477437\n",
      "deleting node id  4\n",
      "expanding node id 1, children (array([0., 1., 1., 1., 0., 1., 0., 0.]), array([ 0.50222034, -0.        ,  1.        , -0.        ,  0.49838986,\n",
      "       -0.        ,  0.50143401,  0.49795578])), lb 1.4215046036477437, z_inc [0. 0. 1. 1. 0. 1. 0. 0.]\n",
      "args 2 8\n",
      "relaxed lower bound  3.138025817132134\n",
      "relaxed upper bound 12.892833613235286\n",
      "get obj upper bound 12.892833613235286\n",
      "relaxed lower bound  1.421504686140531\n",
      "relaxed upper bound inf\n",
      "get obj upper bound inf\n",
      "children stats [(12.892833613235286, 3.138025817132134, array([0., 0., 1., 0., 1., 0., 1., 0.]), array([[-0.        +0.j        , -0.        +0.j        ,\n",
      "        -0.        +0.j        , -0.        +0.j        ,\n",
      "        -0.        +0.j        ],\n",
      "       [-0.        +0.j        , -0.        +0.j        ,\n",
      "        -0.        +0.j        , -0.        +0.j        ,\n",
      "        -0.        +0.j        ],\n",
      "       [-0.13449616+0.04499389j,  0.67194303+0.22852394j,\n",
      "        -0.25681288+0.24325833j,  0.41371234+0.34837801j,\n",
      "         0.06213178+0.16269281j],\n",
      "       [-0.        +0.j        , -0.        +0.j        ,\n",
      "        -0.        +0.j        , -0.        +0.j        ,\n",
      "        -0.        +0.j        ],\n",
      "       [ 0.42734312+0.54304734j,  0.44511254-0.17651382j,\n",
      "         0.16072286-0.02101269j, -0.11307224+0.05832679j,\n",
      "         0.31461558+0.26184939j],\n",
      "       [-0.        +0.j        , -0.        +0.j        ,\n",
      "        -0.        +0.j        , -0.        +0.j        ,\n",
      "        -0.        +0.j        ],\n",
      "       [ 0.41529188+0.37932993j, -0.39632723-0.37163741j,\n",
      "        -0.07417184+0.16694687j, -0.02048924+0.04280087j,\n",
      "         0.27089208-0.40001921j],\n",
      "       [-0.1088127 +0.04646506j,  0.02948802+0.10119257j,\n",
      "        -0.36442008+0.30616249j, -0.24447299-0.14854833j,\n",
      "        -0.1726507 +0.07434653j]]), <__main__.Node object at 0x7fb84fe39fd0>), (inf, 1.421504686140531, array([ 1., -0.,  1., -0.,  0., -0.,  0.,  0.]), array([[-0.19365561+0.04550899j,  0.33194892+0.05675716j,\n",
      "         0.09924854-0.14144398j, -0.25181048-0.00808111j,\n",
      "         0.20803806-0.21541006j],\n",
      "       [-0.        +0.j        , -0.        +0.j        ,\n",
      "        -0.        +0.j        , -0.        +0.j        ,\n",
      "        -0.        +0.j        ],\n",
      "       [-0.03183258+0.05063543j,  0.29461048+0.0945234j ,\n",
      "        -0.19073203+0.17050532j,  0.33706835+0.18808562j,\n",
      "        -0.01617055+0.08229527j],\n",
      "       [-0.        +0.j        , -0.        +0.j        ,\n",
      "        -0.        +0.j        , -0.        +0.j        ,\n",
      "        -0.        +0.j        ],\n",
      "       [ 0.18777992+0.19611558j,  0.33977912-0.06308087j,\n",
      "         0.07918463-0.03345877j, -0.12593814+0.07385893j,\n",
      "         0.04420355+0.06736995j],\n",
      "       [-0.        +0.j        , -0.        +0.j        ,\n",
      "        -0.        +0.j        , -0.        +0.j        ,\n",
      "        -0.        +0.j        ],\n",
      "       [ 0.14948911+0.17525303j, -0.26063898-0.25678897j,\n",
      "        -0.131261  +0.09847749j,  0.01749612+0.10916479j,\n",
      "         0.10014513-0.28530453j],\n",
      "       [-0.11384495+0.04120449j,  0.08307112+0.0643606j ,\n",
      "        -0.28155993+0.16665542j, -0.27449979-0.08498516j,\n",
      "        -0.0228838 +0.05491027j]]), <__main__.Node object at 0x7fb84fe39b00>)]\n",
      "\n",
      " L list [4.980858354219387, 1.4953237399516832, 1.4565589082945878, 1.441076166682805, 1.5587887040524067, 2.7551398560059552, 1.4276847603341773, 1.4979608928741277, 1.946327145834065, 2.1415768577438503, 3.138025817132134, 1.421504686140531]\n",
      "timestep 22 4.980858354219387 1.421504686140531\n",
      "deleting node id  11\n",
      "expanding node id 2, children (array([1., 1., 1., 1., 0., 1., 0., 0.]), array([ 1.        , -0.        ,  1.        , -0.        ,  0.33220804,\n",
      "       -0.        ,  0.33649826,  0.3312937 ])), lb 1.421504686140531, z_inc [0. 0. 1. 1. 0. 1. 0. 0.]\n",
      "args 2 8\n"
     ]
    },
    {
     "name": "stdout",
     "output_type": "stream",
     "text": [
      "relaxed lower bound  3.225197044806022\n",
      "antennas: upper bound  inf\n",
      "antennas: None not optimal, may be infeasible\n",
      "relaxed upper bound 9.48141601890271\n",
      "get obj upper bound 9.48141601890271\n",
      "children stats [(9.48141601890271, 3.225197044806022, array([ 1., -0.,  1., -0.,  0., -0.,  1., -0.]), array([[-0.2238119 +0.11148641j,  0.30879311-0.00571014j,\n",
      "         0.59095002-0.36871764j, -0.26890201+0.09406545j,\n",
      "         0.24243707-0.24473015j],\n",
      "       [-0.        +0.j        , -0.        +0.j        ,\n",
      "        -0.        +0.j        , -0.        +0.j        ,\n",
      "        -0.        +0.j        ],\n",
      "       [-0.02830648-0.08009679j,  0.36416917+0.18413043j,\n",
      "        -0.37445717+0.2949735j ,  0.44932832+0.22397938j,\n",
      "        -0.02988864+0.19828046j],\n",
      "       [-0.        +0.j        , -0.        +0.j        ,\n",
      "        -0.        +0.j        , -0.        +0.j        ,\n",
      "        -0.        +0.j        ],\n",
      "       [ 0.29823037+0.54450621j,  0.37270157-0.0220419j ,\n",
      "        -0.15864052-0.22577873j, -0.40760808+0.1250838j ,\n",
      "         0.0761531 +0.08138164j],\n",
      "       [-0.        +0.j        , -0.        +0.j        ,\n",
      "        -0.        +0.j        , -0.        +0.j        ,\n",
      "        -0.        +0.j        ],\n",
      "       [ 0.38335163+0.40541458j, -0.31936224-0.32725976j,\n",
      "        -0.34222077-0.1431634j ,  0.05603662+0.24190048j,\n",
      "         0.10228714-0.4046426j ],\n",
      "       [-0.        +0.j        , -0.        +0.j        ,\n",
      "        -0.        +0.j        , -0.        +0.j        ,\n",
      "        -0.        +0.j        ]]), <__main__.Node object at 0x7fb84fe39ba8>), (inf, inf, array([0., 0., 0., 0., 0., 0., 0., 0.]), array([0., 0., 0., 0., 0., 0., 0., 0.]), None)]\n",
      "\n",
      " L list [4.980858354219387, 1.4953237399516832, 1.4565589082945878, 1.441076166682805, 1.5587887040524067, 2.7551398560059552, 1.4276847603341773, 1.4979608928741277, 1.946327145834065, 2.1415768577438503, 3.138025817132134, 3.225197044806022]\n",
      "timestep 23 4.980858354219387 1.4276847603341773\n",
      "deleting node id  6\n",
      "expanding node id 1, children (array([0., 0., 1., 1., 0., 1., 1., 0.]), array([ 0.50141936,  0.49954506, -0.        ,  1.        ,  0.50182307,\n",
      "       -0.        , -0.        ,  0.49721249])), lb 1.4276847603341773, z_inc [0. 0. 1. 1. 0. 1. 0. 0.]\n",
      "args 2 8\n",
      "relaxed lower bound  2.1230176531265093\n",
      "relaxed lower bound  1.427684843967035\n",
      "relaxed upper bound 4.761729283131344\n",
      "get obj upper bound 4.761729283131344\n",
      "relaxed upper bound inf\n",
      "get obj upper bound inf\n",
      "children stats [(4.761729283131344, 2.1230176531265093, array([1., 1., 0., 1., 0., 0., 0., 0.]), array([[-0.40460225-0.01093324j,  0.12825694+0.12007718j,\n",
      "         0.34832797-0.19027812j, -0.34709474+0.07676627j,\n",
      "         0.18730216-0.14979665j],\n",
      "       [ 0.22612523+0.26091753j,  0.0457836 +0.10112714j,\n",
      "        -0.27815922-0.09175352j, -0.05201464+0.5798356j ,\n",
      "         0.01327374-0.13591481j],\n",
      "       [-0.        +0.j        , -0.        +0.j        ,\n",
      "        -0.        +0.j        , -0.        +0.j        ,\n",
      "        -0.        +0.j        ],\n",
      "       [-0.18621172+0.10637713j, -0.22502962+0.3538578j ,\n",
      "         0.36337251-0.25606571j, -0.33082713+0.09766075j,\n",
      "        -0.17717768+0.2373733j ],\n",
      "       [ 0.21210769+0.19210797j,  0.44576222+0.03429169j,\n",
      "        -0.03420608-0.14255036j, -0.09410028+0.17769485j,\n",
      "         0.00693851+0.2051608j ],\n",
      "       [-0.        +0.j        , -0.        +0.j        ,\n",
      "        -0.        +0.j        , -0.        +0.j        ,\n",
      "        -0.        +0.j        ],\n",
      "       [-0.        +0.j        , -0.        +0.j        ,\n",
      "        -0.        +0.j        , -0.        +0.j        ,\n",
      "        -0.        +0.j        ],\n",
      "       [-0.        +0.j        , -0.        +0.j        ,\n",
      "        -0.        +0.j        , -0.        +0.j        ,\n",
      "        -0.        +0.j        ]]), <__main__.Node object at 0x7fb84fe39940>), (inf, 1.427684843967035, array([ 0.,  0., -0.,  1.,  0., -0., -0.,  1.]), array([[-0.29275375+0.01597228j,  0.14219001+0.10039862j,\n",
      "         0.17876387-0.12534651j, -0.28534519+0.04264848j,\n",
      "         0.16948389-0.10226509j],\n",
      "       [ 0.11960629+0.15209034j,  0.04805985+0.08696142j,\n",
      "        -0.19117744+0.0077836j , -0.07823317+0.36584592j,\n",
      "         0.02984363-0.0782483j ],\n",
      "       [-0.        +0.j        , -0.        +0.j        ,\n",
      "        -0.        +0.j        , -0.        +0.j        ,\n",
      "        -0.        +0.j        ],\n",
      "       [-0.13171988+0.06208006j, -0.19390079+0.3227528j ,\n",
      "         0.21429443-0.15524133j, -0.33430763-0.02124816j,\n",
      "        -0.21656387+0.23637815j],\n",
      "       [ 0.2226497 +0.11250818j,  0.39810427-0.01166254j,\n",
      "         0.06574445-0.10651258j, -0.05560758+0.17350139j,\n",
      "         0.05134587+0.12720133j],\n",
      "       [-0.        +0.j        , -0.        +0.j        ,\n",
      "        -0.        +0.j        , -0.        +0.j        ,\n",
      "        -0.        +0.j        ],\n",
      "       [-0.        +0.j        , -0.        +0.j        ,\n",
      "        -0.        +0.j        , -0.        +0.j        ,\n",
      "        -0.        +0.j        ],\n",
      "       [-0.16274653+0.00971684j,  0.0929999 +0.02831044j,\n",
      "        -0.17880235+0.09709962j, -0.27052324-0.03465746j,\n",
      "        -0.10589369+0.10439709j]]), <__main__.Node object at 0x7fb84fe39710>)]\n",
      "\n",
      " L list [4.980858354219387, 1.4953237399516832, 1.4565589082945878, 1.441076166682805, 1.5587887040524067, 2.7551398560059552, 1.4979608928741277, 1.946327145834065, 2.1415768577438503, 3.138025817132134, 3.225197044806022, 2.1230176531265093, 1.427684843967035]\n",
      "timestep 24 4.761729283131344 1.427684843967035\n",
      "deleting node id  11\n",
      "expanding node id 2, children (array([0., 0., 1., 1., 0., 1., 1., 1.]), array([ 0.33348577,  0.33125671, -0.        ,  1.        ,  0.33525752,\n",
      "       -0.        , -0.        ,  1.        ])), lb 1.427684843967035, z_inc [1. 1. 0. 1. 0. 0. 0. 0.]\n",
      "args 2 8\n",
      "relaxed lower bound  2.15783500474319\n",
      "antennas: upper bound  9.437409743914861\n",
      "relaxed upper bound 5.159337343084001\n",
      "get obj upper bound 5.159337343084001\n",
      "children stats [(5.159337343084001, 2.15783500474319, array([ 0., -0., -0.,  1.,  1., -0., -0.,  1.]), array([[-0.31826715+0.09029207j,  0.26145946+0.11532716j,\n",
      "         0.12401093-0.08440807j, -0.34724276+0.10721413j,\n",
      "         0.21293653-0.10651248j],\n",
      "       [-0.        +0.j        , -0.        +0.j        ,\n",
      "        -0.        +0.j        , -0.        +0.j        ,\n",
      "        -0.        +0.j        ],\n",
      "       [-0.        +0.j        , -0.        +0.j        ,\n",
      "        -0.        +0.j        , -0.        +0.j        ,\n",
      "        -0.        +0.j        ],\n",
      "       [-0.12829637+0.05093687j, -0.2253859 +0.33566484j,\n",
      "         0.29201378-0.19398503j, -0.45126389-0.20837318j,\n",
      "        -0.3171915 +0.27327258j],\n",
      "       [ 0.33581473+0.12768292j,  0.51092228-0.03329441j,\n",
      "         0.05814759-0.18100351j, -0.20995918+0.28041578j,\n",
      "         0.1037502 +0.10692773j],\n",
      "       [-0.        +0.j        , -0.        +0.j        ,\n",
      "        -0.        +0.j        , -0.        +0.j        ,\n",
      "        -0.        +0.j        ],\n",
      "       [-0.        +0.j        , -0.        +0.j        ,\n",
      "        -0.        +0.j        , -0.        +0.j        ,\n",
      "        -0.        +0.j        ],\n",
      "       [-0.25527886-0.00877336j,  0.0827776 +0.08310266j,\n",
      "        -0.15627102+0.1965894j , -0.49481935-0.1572993j ,\n",
      "        -0.15620886+0.13909903j]]), <__main__.Node object at 0x7fb84fe39eb8>), (9.437409743914861, 9.437409743914861, array([ 0.,  1., -0.,  1.,  0., -0., -0.,  1.]), array([[-0.        +0.j        , -0.        +0.j        ,\n",
      "        -0.        +0.j        , -0.        +0.j        ,\n",
      "        -0.        +0.j        ],\n",
      "       [ 0.06278837+0.80810765j,  0.04151052+0.39603341j,\n",
      "        -0.24374253-0.04375124j, -0.22448458+0.50475605j,\n",
      "         0.45971449+0.18952916j],\n",
      "       [-0.        +0.j        , -0.        +0.j        ,\n",
      "        -0.        +0.j        , -0.        +0.j        ,\n",
      "        -0.        +0.j        ],\n",
      "       [-0.58721484-0.16668363j, -0.39721913+0.80922144j,\n",
      "         0.32958929-0.69907086j, -0.97346894-0.181418j  ,\n",
      "        -1.28401088+1.25246596j],\n",
      "       [-0.        +0.j        , -0.        +0.j        ,\n",
      "        -0.        +0.j        , -0.        +0.j        ,\n",
      "        -0.        +0.j        ],\n",
      "       [-0.        +0.j        , -0.        +0.j        ,\n",
      "        -0.        +0.j        , -0.        +0.j        ,\n",
      "        -0.        +0.j        ],\n",
      "       [-0.        +0.j        , -0.        +0.j        ,\n",
      "        -0.        +0.j        , -0.        +0.j        ,\n",
      "        -0.        +0.j        ],\n",
      "       [-0.170249  +0.26251918j,  0.24835623-0.12249797j,\n",
      "        -0.40038892+0.10347517j, -0.77108568-0.01777699j,\n",
      "        -0.55957886+0.87978374j]]), <__main__.Node object at 0x7fb84fe39438>)]\n",
      "\n",
      " L list [1.4953237399516832, 1.4565589082945878, 1.441076166682805, 1.5587887040524067, 2.7551398560059552, 1.4979608928741277, 1.946327145834065, 2.1415768577438503, 3.138025817132134, 3.225197044806022, 2.1230176531265093, 2.15783500474319, 9.437409743914861]\n",
      "timestep 25 4.761729283131344 1.441076166682805\n",
      "deleting node id  2\n",
      "expanding node id 1, children (array([0., 0., 1., 0., 1., 1., 1., 1.]), array([ 0.32725752,  0.34256335, -0.        ,  0.33017912, -0.        ,\n",
      "        1.        ,  1.        , -0.        ])), lb 1.441076166682805, z_inc [1. 1. 0. 1. 0. 0. 0. 0.]\n",
      "args 2 8\n"
     ]
    },
    {
     "name": "stdout",
     "output_type": "stream",
     "text": [
      "relaxed lower bound  2.5941284584077215\n",
      "antennas: upper bound  21.795507759503078\n",
      "relaxed upper bound 12.795058175361941\n",
      "get obj upper bound 12.795058175361941\n",
      "children stats [(12.795058175361941, 2.5941284584077215, array([-0.,  1., -0.,  0., -0.,  1.,  1., -0.]), array([[-0.        +0.j        , -0.        +0.j        ,\n",
      "        -0.        +0.j        , -0.        +0.j        ,\n",
      "        -0.        +0.j        ],\n",
      "       [ 0.12858113+0.29804721j,  0.31598318+0.11654993j,\n",
      "        -0.13759263-0.19414905j, -0.19768578+0.60166009j,\n",
      "         0.23705098+0.01556306j],\n",
      "       [-0.        +0.j        , -0.        +0.j        ,\n",
      "        -0.        +0.j        , -0.        +0.j        ,\n",
      "        -0.        +0.j        ],\n",
      "       [-0.01094883-0.0598727j , -0.39191299+0.20646128j,\n",
      "         0.40537752-0.38624929j, -0.2615592 +0.10772967j,\n",
      "        -0.32367604+0.24599704j],\n",
      "       [-0.        +0.j        , -0.        +0.j        ,\n",
      "        -0.        +0.j        , -0.        +0.j        ,\n",
      "        -0.        +0.j        ],\n",
      "       [ 0.18025374+0.53190628j,  0.12075342-0.05754836j,\n",
      "         0.23608705-0.27318761j, -0.05125203-0.21716122j,\n",
      "         0.08938695+0.10636178j],\n",
      "       [ 0.15889931+0.23038181j, -0.45415037-0.13234628j,\n",
      "         0.23277821-0.01064495j,  0.00855422-0.23382948j,\n",
      "         0.02690453-0.39726755j],\n",
      "       [-0.        +0.j        , -0.        +0.j        ,\n",
      "        -0.        +0.j        , -0.        +0.j        ,\n",
      "        -0.        +0.j        ]]), <__main__.Node object at 0x7fb84fe39c18>), (21.795507759503078, 21.795507759503078, array([ 1.,  0., -0.,  0., -0.,  1.,  1., -0.]), array([[-0.63803936+0.51225422j,  1.61872423+0.16591787j,\n",
      "         1.520185  -0.34470693j, -0.15184006+0.79357447j,\n",
      "         1.26608709-0.97955031j],\n",
      "       [-0.        +0.j        , -0.        +0.j        ,\n",
      "        -0.        +0.j        , -0.        +0.j        ,\n",
      "        -0.        +0.j        ],\n",
      "       [-0.        +0.j        , -0.        +0.j        ,\n",
      "        -0.        +0.j        , -0.        +0.j        ,\n",
      "        -0.        +0.j        ],\n",
      "       [-0.        +0.j        , -0.        +0.j        ,\n",
      "        -0.        +0.j        , -0.        +0.j        ,\n",
      "        -0.        +0.j        ],\n",
      "       [-0.        +0.j        , -0.        +0.j        ,\n",
      "        -0.        +0.j        , -0.        +0.j        ,\n",
      "        -0.        +0.j        ],\n",
      "       [ 0.19428853+1.20889105j, -0.21157138-0.8476188j ,\n",
      "         1.28043253-0.68218776j, -0.01908163-0.98911715j,\n",
      "         0.19133624-0.58592797j],\n",
      "       [ 0.33936011+1.09633611j, -1.14118579-1.51870472j,\n",
      "         0.14823088-0.55753831j,  0.50605836+0.18733491j,\n",
      "         0.26421588-1.21962964j],\n",
      "       [-0.        +0.j        , -0.        +0.j        ,\n",
      "        -0.        +0.j        , -0.        +0.j        ,\n",
      "        -0.        +0.j        ]]), <__main__.Node object at 0x7fb84fe32e48>)]\n",
      "\n",
      " L list [1.4953237399516832, 1.4565589082945878, 1.5587887040524067, 2.7551398560059552, 1.4979608928741277, 1.946327145834065, 2.1415768577438503, 3.138025817132134, 3.225197044806022, 2.1230176531265093, 2.15783500474319, 2.5941284584077215, 21.795507759503078]\n",
      "timestep 26 4.761729283131344 1.4565589082945878\n",
      "deleting node id  1\n",
      "expanding node id 1, children (array([0., 0., 1., 0., 1., 1., 1., 1.]), array([ 0.33180543,  0.33343335, -0.        ,  0.33476121, -0.        ,\n",
      "       -0.        ,  1.        ,  1.        ])), lb 1.4565589082945878, z_inc [1. 1. 0. 1. 0. 0. 0. 0.]\n",
      "args 2 8\n",
      "relaxed lower bound  3.0726825237561455\n",
      "antennas: upper bound  8.599916978695664\n",
      "relaxed upper bound 14.378135386165575\n",
      "get obj upper bound 14.378135386165575\n",
      "children stats [(14.378135386165575, 3.0726825237561455, array([-0.,  0., -0.,  1., -0., -0.,  1.,  1.]), array([[-0.        +0.j        , -0.        +0.j        ,\n",
      "        -0.        +0.j        , -0.        +0.j        ,\n",
      "        -0.        +0.j        ],\n",
      "       [ 0.04528856+0.21295079j,  0.3215372 +0.21835322j,\n",
      "        -0.09051214-0.0843021j , -0.2335377 +0.55636227j,\n",
      "         0.25628461+0.11509966j],\n",
      "       [-0.        +0.j        , -0.        +0.j        ,\n",
      "        -0.        +0.j        , -0.        +0.j        ,\n",
      "        -0.        +0.j        ],\n",
      "       [-0.02483665+0.12670659j, -0.43516008+0.22115568j,\n",
      "         0.3814416 -0.31581401j, -0.43556319-0.05599546j,\n",
      "        -0.60075031+0.48278867j],\n",
      "       [-0.        +0.j        , -0.        +0.j        ,\n",
      "        -0.        +0.j        , -0.        +0.j        ,\n",
      "        -0.        +0.j        ],\n",
      "       [-0.        +0.j        , -0.        +0.j        ,\n",
      "        -0.        +0.j        , -0.        +0.j        ,\n",
      "        -0.        +0.j        ],\n",
      "       [ 0.00360807+0.43962802j, -0.51689989-0.17075035j,\n",
      "         0.06327627+0.16809386j,  0.0545802 -0.26370777j,\n",
      "        -0.10227123-0.14492962j],\n",
      "       [-0.07637936+0.30346777j, -0.00298792-0.03765038j,\n",
      "        -0.25036448+0.22970107j, -0.3057255 -0.07358201j,\n",
      "        -0.28794384+0.32623571j]]), <__main__.Node object at 0x7fb84fe32978>), (8.599916978695664, 8.599916978695664, array([ 1.,  0., -0.,  0., -0., -0.,  1.,  1.]), array([[-0.69309831+0.33046439j,  1.01251748-0.03435314j,\n",
      "         0.15576974-0.47692543j, -0.65658712+0.22975911j,\n",
      "         0.68518   -0.5780227j ],\n",
      "       [-0.        +0.j        , -0.        +0.j        ,\n",
      "        -0.        +0.j        , -0.        +0.j        ,\n",
      "        -0.        +0.j        ],\n",
      "       [-0.        +0.j        , -0.        +0.j        ,\n",
      "        -0.        +0.j        , -0.        +0.j        ,\n",
      "        -0.        +0.j        ],\n",
      "       [-0.        +0.j        , -0.        +0.j        ,\n",
      "        -0.        +0.j        , -0.        +0.j        ,\n",
      "        -0.        +0.j        ],\n",
      "       [-0.        +0.j        , -0.        +0.j        ,\n",
      "        -0.        +0.j        , -0.        +0.j        ,\n",
      "        -0.        +0.j        ],\n",
      "       [-0.        +0.j        , -0.        +0.j        ,\n",
      "        -0.        +0.j        , -0.        +0.j        ,\n",
      "        -0.        +0.j        ],\n",
      "       [-0.02724034+0.56621671j, -0.75730645-0.73029692j,\n",
      "        -0.79553417+0.54695386j,  0.2112566 +0.48077625j,\n",
      "         0.22583956-0.69794223j],\n",
      "       [-0.34259493+0.35940065j,  0.3913799 -0.32122533j,\n",
      "        -0.98107639+0.3452804j , -0.79906699+0.09397017j,\n",
      "         0.19306493+0.03717748j]]), <__main__.Node object at 0x7fb84fe32b70>)]\n",
      "\n",
      " L list [1.4953237399516832, 1.5587887040524067, 2.7551398560059552, 1.4979608928741277, 1.946327145834065, 2.1415768577438503, 3.138025817132134, 3.225197044806022, 2.1230176531265093, 2.15783500474319, 2.5941284584077215, 3.0726825237561455, 8.599916978695664]\n",
      "timestep 27 4.761729283131344 1.4953237399516832\n",
      "deleting node id  0\n",
      "expanding node id 1, children (array([0., 0., 1., 0., 0., 1., 1., 1.]), array([ 0.4999378 ,  0.50302381, -0.        ,  0.50063932,  0.49639906,\n",
      "       -0.        ,  1.        , -0.        ])), lb 1.4953237399516832, z_inc [1. 1. 0. 1. 0. 0. 0. 0.]\n",
      "args 2 8\n",
      "relaxed lower bound  2.080664455860128\n",
      "relaxed lower bound  1.4953237340338397\n",
      "relaxed upper bound 11.100154446179253\n",
      "get obj upper bound 11.100154446179253\n",
      "relaxed upper bound inf\n",
      "get obj upper bound inf\n",
      "children stats [(11.100154446179253, 2.080664455860128, array([0., 1., 0., 1., 0., 0., 1., 0.]), array([[-0.40721509+0.01220404j,  0.10674659+0.00811788j,\n",
      "         0.3163702 -0.12269369j, -0.30286889+0.07244222j,\n",
      "         0.26681339-0.18814907j],\n",
      "       [ 0.1540192 +0.18048904j,  0.30623783+0.18046414j,\n",
      "        -0.27666276-0.1369729j , -0.05506013+0.62066205j,\n",
      "        -0.00459531-0.01394478j],\n",
      "       [-0.        +0.j        , -0.        +0.j        ,\n",
      "        -0.        +0.j        , -0.        +0.j        ,\n",
      "        -0.        +0.j        ],\n",
      "       [-0.01743686+0.06852674j, -0.38557786+0.18668502j,\n",
      "         0.33157109-0.27479749j, -0.25219122+0.10861199j,\n",
      "        -0.21628011+0.1314742j ],\n",
      "       [-0.        +0.j        , -0.        +0.j        ,\n",
      "        -0.        +0.j        , -0.        +0.j        ,\n",
      "        -0.        +0.j        ],\n",
      "       [-0.        +0.j        , -0.        +0.j        ,\n",
      "        -0.        +0.j        , -0.        +0.j        ,\n",
      "        -0.        +0.j        ],\n",
      "       [ 0.02300923+0.14452987j, -0.5188521 -0.19846601j,\n",
      "         0.06587246+0.02375461j,  0.05078124-0.09317752j,\n",
      "        -0.00778911-0.24171628j],\n",
      "       [-0.        +0.j        , -0.        +0.j        ,\n",
      "        -0.        +0.j        , -0.        +0.j        ,\n",
      "        -0.        +0.j        ]]), <__main__.Node object at 0x7fb84fe323c8>), (inf, 1.4953237340338397, array([ 0.,  0., -0.,  0.,  1., -0.,  1., -0.]), array([[-0.24280018+0.01256554j,  0.16212486+0.01783125j,\n",
      "         0.29734846-0.12386268j, -0.2778611 +0.09160127j,\n",
      "         0.17546036-0.14470714j],\n",
      "       [ 0.08315148+0.10896806j,  0.16706362+0.08782983j,\n",
      "        -0.23618975-0.08355208j, -0.07218491+0.49714802j,\n",
      "         0.01314111-0.04351921j],\n",
      "       [-0.        +0.j        , -0.        +0.j        ,\n",
      "        -0.        +0.j        , -0.        +0.j        ,\n",
      "        -0.        +0.j        ],\n",
      "       [-0.05479422+0.0877097j , -0.27507103+0.1607084j ,\n",
      "         0.28570164-0.23911785j, -0.22812344+0.07289032j,\n",
      "        -0.15805973+0.1227403j ],\n",
      "       [ 0.18591547+0.27089127j,  0.26269196-0.00446775j,\n",
      "        -0.02681598-0.10288256j, -0.10853455+0.13168014j,\n",
      "         0.02285661+0.10979307j],\n",
      "       [-0.        +0.j        , -0.        +0.j        ,\n",
      "        -0.        +0.j        , -0.        +0.j        ,\n",
      "        -0.        +0.j        ],\n",
      "       [ 0.16524298+0.19996055j, -0.31755906-0.14794787j,\n",
      "         0.00702777-0.01021493j,  0.06802664+0.00441601j,\n",
      "         0.01689757-0.15311407j],\n",
      "       [-0.        +0.j        , -0.        +0.j        ,\n",
      "        -0.        +0.j        , -0.        +0.j        ,\n",
      "        -0.        +0.j        ]]), <__main__.Node object at 0x7fb84fe32160>)]\n",
      "\n",
      " L list [1.5587887040524067, 2.7551398560059552, 1.4979608928741277, 1.946327145834065, 2.1415768577438503, 3.138025817132134, 3.225197044806022, 2.1230176531265093, 2.15783500474319, 2.5941284584077215, 3.0726825237561455, 2.080664455860128, 1.4953237340338397]\n",
      "timestep 28 4.761729283131344 1.4953237340338397\n",
      "deleting node id  12\n",
      "expanding node id 2, children (array([0., 0., 1., 0., 1., 1., 1., 1.]), array([ 0.32959608,  0.33968988, -0.        ,  0.33071404,  1.        ,\n",
      "       -0.        ,  1.        , -0.        ])), lb 1.4953237340338397, z_inc [1. 1. 0. 1. 0. 0. 0. 0.]\n",
      "args 2 8\n"
     ]
    },
    {
     "name": "stdout",
     "output_type": "stream",
     "text": [
      "relaxed lower bound  2.720227579837741\n",
      "antennas: upper bound  7.176113897213829\n",
      "relaxed upper bound 7.850679957654566\n",
      "get obj upper bound 7.850679957654566\n",
      "children stats [(7.850679957654566, 2.720227579837741, array([-0.,  0., -0.,  1.,  1., -0.,  1., -0.]), array([[-0.        +0.j        , -0.        +0.j        ,\n",
      "        -0.        +0.j        , -0.        +0.j        ,\n",
      "        -0.        +0.j        ],\n",
      "       [ 0.00236429+0.08027571j,  0.24224007+0.14082646j,\n",
      "        -0.19802951-0.10720928j, -0.26415389+0.66092431j,\n",
      "         0.13700998-0.10467015j],\n",
      "       [-0.        +0.j        , -0.        +0.j        ,\n",
      "        -0.        +0.j        , -0.        +0.j        ,\n",
      "        -0.        +0.j        ],\n",
      "       [-0.1097513 +0.15749883j, -0.32822654+0.21346678j,\n",
      "         0.41559353-0.47501042j, -0.36982071+0.02288602j,\n",
      "        -0.2098018 +0.22906847j],\n",
      "       [ 0.38985114+0.59967176j,  0.1944368 -0.00614576j,\n",
      "        -0.14052434-0.08250011j, -0.06279101+0.13940587j,\n",
      "         0.04344544+0.33724547j],\n",
      "       [-0.        +0.j        , -0.        +0.j        ,\n",
      "        -0.        +0.j        , -0.        +0.j        ,\n",
      "        -0.        +0.j        ],\n",
      "       [ 0.36844392+0.38796293j, -0.36862609-0.12351277j,\n",
      "         0.10159875+0.03663402j,  0.0958145 -0.16666837j,\n",
      "         0.01068395-0.15752884j],\n",
      "       [-0.        +0.j        , -0.        +0.j        ,\n",
      "        -0.        +0.j        , -0.        +0.j        ,\n",
      "        -0.        +0.j        ]]), <__main__.Node object at 0x7fb84fe32be0>), (7.176113897213829, 7.176113897213829, array([ 1.,  0., -0.,  0.,  1., -0.,  1., -0.]), array([[-0.2727565 +0.16589013j,  0.58106548+0.02308419j,\n",
      "         0.85898968-0.3339867j , -0.41005309+0.39808026j,\n",
      "         0.29795152-0.2427678j ],\n",
      "       [-0.        +0.j        , -0.        +0.j        ,\n",
      "        -0.        +0.j        , -0.        +0.j        ,\n",
      "        -0.        +0.j        ],\n",
      "       [-0.        +0.j        , -0.        +0.j        ,\n",
      "        -0.        +0.j        , -0.        +0.j        ,\n",
      "        -0.        +0.j        ],\n",
      "       [-0.        +0.j        , -0.        +0.j        ,\n",
      "        -0.        +0.j        , -0.        +0.j        ,\n",
      "        -0.        +0.j        ],\n",
      "       [ 0.4609838 +1.01826296j,  0.85633342-0.22388761j,\n",
      "        -0.46189814-0.38744742j, -0.47728772+0.54892353j,\n",
      "         0.18510452+0.08465606j],\n",
      "       [-0.        +0.j        , -0.        +0.j        ,\n",
      "        -0.        +0.j        , -0.        +0.j        ,\n",
      "        -0.        +0.j        ],\n",
      "       [ 0.67789628+0.66479405j, -0.20069508-0.54253745j,\n",
      "        -0.79743234-0.1672709j ,  0.2247312 +0.57926167j,\n",
      "         0.19615225-0.34779163j],\n",
      "       [-0.        +0.j        , -0.        +0.j        ,\n",
      "        -0.        +0.j        , -0.        +0.j        ,\n",
      "        -0.        +0.j        ]]), <__main__.Node object at 0x7fb84fe32d68>)]\n",
      "\n",
      " L list [1.5587887040524067, 2.7551398560059552, 1.4979608928741277, 1.946327145834065, 2.1415768577438503, 3.138025817132134, 3.225197044806022, 2.1230176531265093, 2.15783500474319, 2.5941284584077215, 3.0726825237561455, 2.080664455860128, 2.720227579837741, 7.176113897213829]\n",
      "timestep 29 4.761729283131344 1.4979608928741277\n",
      "deleting node id  2\n",
      "expanding node id 1, children (array([0., 0., 1., 1., 0., 1., 1., 1.]), array([ 0.3305621 ,  0.33592119, -0.        ,  1.        ,  0.33351671,\n",
      "        1.        , -0.        , -0.        ])), lb 1.4979608928741277, z_inc [1. 1. 0. 1. 0. 0. 0. 0.]\n",
      "args 2 8\n",
      "relaxed lower bound  2.3847704936460192\n",
      "antennas: upper bound  354.34961579804826\n",
      "relaxed upper bound 9.390568866059008\n",
      "get obj upper bound 9.390568866059008\n",
      "children stats [(9.390568866059008, 2.3847704936460192, array([-0.,  0., -0.,  1.,  1.,  1., -0., -0.]), array([[-0.        +0.00000000e+00j, -0.        +0.00000000e+00j,\n",
      "        -0.        +0.00000000e+00j, -0.        +0.00000000e+00j,\n",
      "        -0.        +0.00000000e+00j],\n",
      "       [ 0.18869817+4.02300471e-01j,  0.02176214+1.74769190e-01j,\n",
      "         0.01947368-1.39965524e-01j, -0.20010271+4.09126644e-01j,\n",
      "         0.06779676-1.82689525e-01j],\n",
      "       [-0.        +0.00000000e+00j, -0.        +0.00000000e+00j,\n",
      "        -0.        +0.00000000e+00j, -0.        +0.00000000e+00j,\n",
      "        -0.        +0.00000000e+00j],\n",
      "       [-0.20845834+1.67769955e-04j, -0.26922484+4.27764729e-01j,\n",
      "         0.25091775-3.33006308e-01j, -0.34197375+1.43341959e-01j,\n",
      "        -0.23662174+3.24348943e-01j],\n",
      "       [ 0.14930334+6.57556835e-02j,  0.43386822+1.92197359e-03j,\n",
      "        -0.31197998+3.74456321e-03j, -0.02871019+3.74468780e-01j,\n",
      "         0.05503271+3.66909327e-01j],\n",
      "       [ 0.13584337+4.19475842e-01j, -0.01514719-3.26818346e-02j,\n",
      "         0.34027657-2.22323024e-01j, -0.02342863-3.98907641e-01j,\n",
      "        -0.08571547-2.48385384e-02j],\n",
      "       [-0.        +0.00000000e+00j, -0.        +0.00000000e+00j,\n",
      "        -0.        +0.00000000e+00j, -0.        +0.00000000e+00j,\n",
      "        -0.        +0.00000000e+00j],\n",
      "       [-0.        +0.00000000e+00j, -0.        +0.00000000e+00j,\n",
      "        -0.        +0.00000000e+00j, -0.        +0.00000000e+00j,\n",
      "        -0.        +0.00000000e+00j]]), <__main__.Node object at 0x7fb84fe32dd8>), (354.34961579804826, 354.34961579804826, array([ 1.,  0., -0.,  1.,  0.,  1., -0., -0.]), array([[-4.99060562+3.0673402j ,  2.04134921+0.90635428j,\n",
      "         3.04440406-2.89362849j,  1.0440583 +1.81190889j,\n",
      "         5.69351204-4.2154218j ],\n",
      "       [-0.        +0.j        , -0.        +0.j        ,\n",
      "        -0.        +0.j        , -0.        +0.j        ,\n",
      "        -0.        +0.j        ],\n",
      "       [-0.        +0.j        , -0.        +0.j        ,\n",
      "        -0.        +0.j        , -0.        +0.j        ,\n",
      "        -0.        +0.j        ],\n",
      "       [ 0.16190298-2.95921189j, -4.33083799+4.16802987j,\n",
      "         5.11960905-2.58067527j, -2.63971528+0.62209941j,\n",
      "        -4.67449289+8.60401882j],\n",
      "       [-0.        +0.j        , -0.        +0.j        ,\n",
      "        -0.        +0.j        , -0.        +0.j        ,\n",
      "        -0.        +0.j        ],\n",
      "       [-0.19024671+2.19852299j,  1.94034171-2.26524844j,\n",
      "         3.55001963-2.23181775j, -0.51303404-5.16982423j,\n",
      "        -1.57482913-1.00434661j],\n",
      "       [-0.        +0.j        , -0.        +0.j        ,\n",
      "        -0.        +0.j        , -0.        +0.j        ,\n",
      "        -0.        +0.j        ],\n",
      "       [-0.        +0.j        , -0.        +0.j        ,\n",
      "        -0.        +0.j        , -0.        +0.j        ,\n",
      "        -0.        +0.j        ]]), <__main__.Node object at 0x7fb84fe394e0>)]\n",
      "\n",
      " L list [1.5587887040524067, 2.7551398560059552, 1.946327145834065, 2.1415768577438503, 3.138025817132134, 3.225197044806022, 2.1230176531265093, 2.15783500474319, 2.5941284584077215, 3.0726825237561455, 2.080664455860128, 2.720227579837741, 2.3847704936460192, 354.34961579804826]\n",
      "timestep 30 4.761729283131344 1.5587887040524067\n",
      "deleting node id  0\n",
      "\n",
      "*******************\n",
      "optimal node\n",
      "*******************\n",
      "\n",
      "[0. 1. 1. 1. 0. 1. 0. 1.]\n",
      "[ 0.33300781 -0.          1.         -0.          0.3312456   1.\n",
      "  0.33574658 -0.        ]\n",
      "expanding node id 1, children (array([0., 1., 1., 1., 0., 1., 0., 1.]), array([ 0.33300781, -0.        ,  1.        , -0.        ,  0.3312456 ,\n",
      "        1.        ,  0.33574658, -0.        ])), lb 1.5587887040524067, z_inc [1. 1. 0. 1. 0. 0. 0. 0.]\n",
      "args 2 8\n",
      "relaxed lower bound  2.280093818943269\n",
      "antennas: upper bound  inf\n",
      "antennas: None not optimal, may be infeasible\n",
      "relaxed upper bound 4.661845451241317\n",
      "get obj upper bound 4.661845451241317\n",
      "children stats [(4.661845451241317, 2.280093818943269, array([ 0., -0.,  1., -0., -0.,  1.,  1., -0.]), array([[-0.13361195+0.03214125j,  0.25475425+0.05415474j,\n",
      "         0.40604997-0.15162196j, -0.08248345+0.12469565j,\n",
      "         0.22761135-0.31837647j],\n",
      "       [-0.        +0.j        , -0.        +0.j        ,\n",
      "        -0.        +0.j        , -0.        +0.j        ,\n",
      "        -0.        +0.j        ],\n",
      "       [-0.10243228+0.19796906j,  0.46957272+0.18160369j,\n",
      "        -0.10415856+0.26444516j,  0.48845234+0.34990654j,\n",
      "        -0.09309282+0.20455016j],\n",
      "       [-0.        +0.j        , -0.        +0.j        ,\n",
      "        -0.        +0.j        , -0.        +0.j        ,\n",
      "        -0.        +0.j        ],\n",
      "       [-0.        +0.j        , -0.        +0.j        ,\n",
      "        -0.        +0.j        , -0.        +0.j        ,\n",
      "        -0.        +0.j        ],\n",
      "       [ 0.11119633+0.31238407j,  0.15781228-0.25258278j,\n",
      "         0.41845797-0.13696958j,  0.11988258-0.31351853j,\n",
      "         0.01034844+0.1162568j ],\n",
      "       [ 0.14724342+0.21117623j, -0.34261088-0.3770056j ,\n",
      "        -0.00514641-0.13880288j,  0.16143167-0.01791199j,\n",
      "         0.08604784-0.36991941j],\n",
      "       [-0.        +0.j        , -0.        +0.j        ,\n",
      "        -0.        +0.j        , -0.        +0.j        ,\n",
      "        -0.        +0.j        ]]), <__main__.Node object at 0x7fb84fe2ddd8>), (inf, inf, array([0., 0., 0., 0., 0., 0., 0., 0.]), array([0., 0., 0., 0., 0., 0., 0., 0.]), None)]\n",
      "\n",
      " L list [2.7551398560059552, 1.946327145834065, 2.1415768577438503, 3.138025817132134, 3.225197044806022, 2.1230176531265093, 2.15783500474319, 2.5941284584077215, 3.0726825237561455, 2.080664455860128, 2.720227579837741, 2.3847704936460192, 2.280093818943269]\n",
      "timestep 31 4.661845451241317 1.946327145834065\n",
      "deleting node id  1\n",
      "expanding node id 1, children (array([1., 1., 1., 1., 0., 1., 1., 0.]), array([-0.        , -0.        ,  1.        ,  1.        ,  0.50158816,\n",
      "       -0.        , -0.        ,  0.49841184])), lb 1.946327145834065, z_inc [ 0. -0.  1. -0. -0.  1.  1. -0.]\n",
      "args 2 8\n"
     ]
    },
    {
     "name": "stdout",
     "output_type": "stream",
     "text": [
      "relaxed lower bound  4.724140640646035\n",
      "antennas: upper bound  6.469117780212368relaxed upper bound\n",
      " 4.724140509535177\n",
      "get obj upper bound 4.724140509535177\n",
      "children stats [(4.724140509535177, 4.724140640646035, array([-0., -0.,  1.,  1., -0., -0., -0.,  1.]), array([[-0.        +0.j        , -0.        +0.j        ,\n",
      "        -0.        +0.j        , -0.        +0.j        ,\n",
      "        -0.        +0.j        ],\n",
      "       [-0.        +0.j        , -0.        +0.j        ,\n",
      "        -0.        +0.j        , -0.        +0.j        ,\n",
      "        -0.        +0.j        ],\n",
      "       [-0.46031563+0.75520105j,  0.13440206+0.54956701j,\n",
      "        -0.43279623+0.0684823j ,  0.36178685+0.43994223j,\n",
      "         0.13597559+0.26584965j],\n",
      "       [-0.50975106-0.08110468j, -0.27166835+0.80341814j,\n",
      "         0.10632248-0.70059471j, -0.32017747+0.0544099j ,\n",
      "        -0.60439307+0.53629719j],\n",
      "       [-0.        +0.j        , -0.        +0.j        ,\n",
      "        -0.        +0.j        , -0.        +0.j        ,\n",
      "        -0.        +0.j        ],\n",
      "       [-0.        +0.j        , -0.        +0.j        ,\n",
      "        -0.        +0.j        , -0.        +0.j        ,\n",
      "        -0.        +0.j        ],\n",
      "       [-0.        +0.j        , -0.        +0.j        ,\n",
      "        -0.        +0.j        , -0.        +0.j        ,\n",
      "        -0.        +0.j        ],\n",
      "       [-0.24197605+0.18386364j,  0.19830888-0.10212117j,\n",
      "        -0.39898075+0.17731323j, -0.44267919-0.14415112j,\n",
      "        -0.29156214+0.36811618j]]), <__main__.Node object at 0x7fb84fe2dcc0>), (6.469117780212368, 6.469117780212368, array([-0., -0.,  1.,  1.,  1., -0., -0.,  0.]), array([[-0.00000000e+00+0.j        , -0.00000000e+00+0.j        ,\n",
      "        -0.00000000e+00+0.j        , -0.00000000e+00+0.j        ,\n",
      "        -0.00000000e+00+0.j        ],\n",
      "       [-0.00000000e+00+0.j        , -0.00000000e+00+0.j        ,\n",
      "        -0.00000000e+00+0.j        , -0.00000000e+00+0.j        ,\n",
      "        -0.00000000e+00+0.j        ],\n",
      "       [-1.21029289e-01+0.6383555j ,  1.62680100e-01+0.43157428j,\n",
      "        -4.56019485e-01-0.19189597j,  8.60390816e-01+0.91144388j,\n",
      "        -3.69368283e-04+0.32868594j],\n",
      "       [-6.09557342e-01+0.24043949j, -2.03394084e-01+0.57913265j,\n",
      "         4.55843348e-01-1.02156523j,  1.41510178e-01+0.57966873j,\n",
      "        -4.67298764e-01+0.48270626j],\n",
      "       [ 4.82528814e-01+0.56130091j,  3.79756088e-01+0.01742276j,\n",
      "        -3.15696664e-01-0.06667678j,  2.10094964e-03-0.27663355j,\n",
      "         1.04660753e-01+0.40186102j],\n",
      "       [-0.00000000e+00+0.j        , -0.00000000e+00+0.j        ,\n",
      "        -0.00000000e+00+0.j        , -0.00000000e+00+0.j        ,\n",
      "        -0.00000000e+00+0.j        ],\n",
      "       [-0.00000000e+00+0.j        , -0.00000000e+00+0.j        ,\n",
      "        -0.00000000e+00+0.j        , -0.00000000e+00+0.j        ,\n",
      "        -0.00000000e+00+0.j        ],\n",
      "       [-0.00000000e+00+0.j        , -0.00000000e+00+0.j        ,\n",
      "        -0.00000000e+00+0.j        , -0.00000000e+00+0.j        ,\n",
      "        -0.00000000e+00+0.j        ]]), <__main__.Node object at 0x7fb84fe2dbe0>)]\n",
      "\n",
      " L list [2.7551398560059552, 2.1415768577438503, 3.138025817132134, 3.225197044806022, 2.1230176531265093, 2.15783500474319, 2.5941284584077215, 3.0726825237561455, 2.080664455860128, 2.720227579837741, 2.3847704936460192, 2.280093818943269, 4.724140640646035, 6.469117780212368]\n",
      "timestep 32 4.661845451241317 2.080664455860128\n",
      "deleting node id  8\n",
      "expanding node id 1, children (array([0., 0., 1., 0., 1., 1., 1., 1.]), array([ 0.6647479 ,  0.67024263, -0.        ,  0.66500945, -0.        ,\n",
      "       -0.        ,  1.        , -0.        ])), lb 2.080664455860128, z_inc [ 0. -0.  1. -0. -0.  1.  1. -0.]\n",
      "args 2 8\n",
      "relaxed lower bound  9.602993003120101\n",
      "relaxed lower bound  relaxed upper bound2.080664436363322 \n",
      "9.602992493301889\n",
      "get obj upper bound 9.602992493301889\n",
      "relaxed upper bound 11.100154446179253\n",
      "get obj upper bound 11.100154446179253\n",
      "children stats [(9.602992493301889, 9.602993003120101, array([ 1., -0., -0.,  1., -0., -0.,  1., -0.]), array([[-0.55720588+0.09824103j,  0.64218716-0.8649995j ,\n",
      "         0.33441066-0.2198593j , -0.43920736+0.59757959j,\n",
      "         0.50953841-0.32886279j],\n",
      "       [-0.        +0.j        , -0.        +0.j        ,\n",
      "        -0.        +0.j        , -0.        +0.j        ,\n",
      "        -0.        +0.j        ],\n",
      "       [-0.        +0.j        , -0.        +0.j        ,\n",
      "        -0.        +0.j        , -0.        +0.j        ,\n",
      "        -0.        +0.j        ],\n",
      "       [ 0.16920767+0.11002985j, -1.59031414+0.12788664j,\n",
      "         0.5993875 -0.62228459j,  0.21212628+0.1963273j ,\n",
      "        -0.41349217+0.18588163j],\n",
      "       [-0.        +0.j        , -0.        +0.j        ,\n",
      "        -0.        +0.j        , -0.        +0.j        ,\n",
      "        -0.        +0.j        ],\n",
      "       [-0.        +0.j        , -0.        +0.j        ,\n",
      "        -0.        +0.j        , -0.        +0.j        ,\n",
      "        -0.        +0.j        ],\n",
      "       [ 0.15475186+0.35532633j, -1.53095604+0.01197765j,\n",
      "        -0.10026799-0.14498956j,  0.6749203 +0.55081638j,\n",
      "        -0.11507767-0.35370485j],\n",
      "       [-0.        +0.j        , -0.        +0.j        ,\n",
      "        -0.        +0.j        , -0.        +0.j        ,\n",
      "        -0.        +0.j        ]]), <__main__.Node object at 0x7fb84fe2def0>), (11.100154446179253, 2.080664436363322, array([ 0.,  1., -0.,  1., -0., -0.,  1., -0.]), array([[-0.40721508+0.01220403j,  0.1067466 +0.00811788j,\n",
      "         0.3163702 -0.12269369j, -0.30286889+0.07244222j,\n",
      "         0.2668134 -0.18814906j],\n",
      "       [ 0.15401921+0.18048904j,  0.30623783+0.18046413j,\n",
      "        -0.27666277-0.1369729j , -0.05506014+0.62066205j,\n",
      "        -0.00459533-0.01394484j],\n",
      "       [-0.        +0.j        , -0.        +0.j        ,\n",
      "        -0.        +0.j        , -0.        +0.j        ,\n",
      "        -0.        +0.j        ],\n",
      "       [-0.01743686+0.06852676j, -0.38557786+0.18668502j,\n",
      "         0.33157109-0.27479749j, -0.25219122+0.10861199j,\n",
      "        -0.21628007+0.1314742j ],\n",
      "       [-0.        +0.j        , -0.        +0.j        ,\n",
      "        -0.        +0.j        , -0.        +0.j        ,\n",
      "        -0.        +0.j        ],\n",
      "       [-0.        +0.j        , -0.        +0.j        ,\n",
      "        -0.        +0.j        , -0.        +0.j        ,\n",
      "        -0.        +0.j        ],\n",
      "       [ 0.02300923+0.14452987j, -0.5188521 -0.19846601j,\n",
      "         0.06587247+0.02375462j,  0.05078124-0.09317753j,\n",
      "        -0.0077891 -0.24171625j],\n",
      "       [-0.        +0.j        , -0.        +0.j        ,\n",
      "        -0.        +0.j        , -0.        +0.j        ,\n",
      "        -0.        +0.j        ]]), <__main__.Node object at 0x7fb84fe2d7f0>)]\n",
      "\n",
      " L list [2.7551398560059552, 2.1415768577438503, 3.138025817132134, 3.225197044806022, 2.1230176531265093, 2.15783500474319, 2.5941284584077215, 3.0726825237561455, 2.720227579837741, 2.3847704936460192, 2.280093818943269, 9.602993003120101, 2.080664436363322]\n",
      "timestep 33 4.661845451241317 2.080664436363322\n",
      "deleting node id  11\n",
      "expanding node id 2, children (array([0., 1., 1., 0., 1., 1., 1., 1.]), array([ 0.49999682,  1.        , -0.        ,  0.50000318, -0.        ,\n",
      "       -0.        ,  1.        , -0.        ])), lb 2.080664436363322, z_inc [ 0. -0.  1. -0. -0.  1.  1. -0.]\n",
      "args 2 8\n",
      "relaxed lower bound  11.10015552376364\n",
      "antennas: upper bound  4.7507473734467105\n",
      "relaxed upper bound 11.100154446179253\n",
      "get obj upper bound 11.100154446179253\n",
      "children stats [(11.100154446179253, 11.10015552376364, array([-0.,  1., -0.,  1., -0., -0.,  1., -0.]), array([[-0.        +0.j        , -0.        +0.j        ,\n",
      "        -0.        +0.j        , -0.        +0.j        ,\n",
      "        -0.        +0.j        ],\n",
      "       [ 0.15705877+0.3507963j ,  0.57395248+0.34117193j,\n",
      "        -0.44659774-0.22701577j, -0.78035453+1.39180879j,\n",
      "         0.08961295+0.37105677j],\n",
      "       [-0.        +0.j        , -0.        +0.j        ,\n",
      "        -0.        +0.j        , -0.        +0.j        ,\n",
      "        -0.        +0.j        ],\n",
      "       [ 0.12811638+0.27249419j, -0.68438121+0.26419203j,\n",
      "         0.87870694-0.95147903j, -0.77535489-0.28594689j,\n",
      "        -0.95418932+0.26987479j],\n",
      "       [-0.        +0.j        , -0.        +0.j        ,\n",
      "        -0.        +0.j        , -0.        +0.j        ,\n",
      "        -0.        +0.j        ],\n",
      "       [-0.        +0.j        , -0.        +0.j        ,\n",
      "        -0.        +0.j        , -0.        +0.j        ,\n",
      "        -0.        +0.j        ],\n",
      "       [ 0.03448912+0.53374856j, -0.85441267-0.2438826j ,\n",
      "         0.68032142-0.03214357j,  0.26554921-1.22408675j,\n",
      "        -0.12829525-0.68299619j],\n",
      "       [-0.        +0.j        , -0.        +0.j        ,\n",
      "        -0.        +0.j        , -0.        +0.j        ,\n",
      "        -0.        +0.j        ]]), <__main__.Node object at 0x7fb84fe2d6a0>), (4.7507473734467105, 4.7507473734467105, array([ 1.,  1., -0.,  0., -0., -0.,  1., -0.]), array([[-0.57669896+0.03432422j,  0.29549862+0.34942103j,\n",
      "         0.81330831-0.1414821j , -0.46246012+0.14910666j,\n",
      "         0.38593263-0.28876306j],\n",
      "       [ 0.19137648+0.26883279j,  0.73434585+0.31382639j,\n",
      "        -0.49811492-0.26986086j, -0.12673655+0.84487248j,\n",
      "        -0.09323581-0.10366521j],\n",
      "       [-0.        +0.j        , -0.        +0.j        ,\n",
      "        -0.        +0.j        , -0.        +0.j        ,\n",
      "        -0.        +0.j        ],\n",
      "       [-0.        +0.j        , -0.        +0.j        ,\n",
      "        -0.        +0.j        , -0.        +0.j        ,\n",
      "        -0.        +0.j        ],\n",
      "       [-0.        +0.j        , -0.        +0.j        ,\n",
      "        -0.        +0.j        , -0.        +0.j        ,\n",
      "        -0.        +0.j        ],\n",
      "       [-0.        +0.j        , -0.        +0.j        ,\n",
      "        -0.        +0.j        , -0.        +0.j        ,\n",
      "        -0.        +0.j        ],\n",
      "       [ 0.05081883+0.14875798j, -0.71911716-0.68849361j,\n",
      "        -0.10796101-0.01412446j,  0.23954524-0.15324869j,\n",
      "         0.10184324-0.3489918j ],\n",
      "       [-0.        +0.j        , -0.        +0.j        ,\n",
      "        -0.        +0.j        , -0.        +0.j        ,\n",
      "        -0.        +0.j        ]]), <__main__.Node object at 0x7fb84fe2dc18>)]\n",
      "\n",
      " L list [2.7551398560059552, 2.1415768577438503, 3.138025817132134, 3.225197044806022, 2.1230176531265093, 2.15783500474319, 2.5941284584077215, 3.0726825237561455, 2.720227579837741, 2.3847704936460192, 2.280093818943269, 11.10015552376364, 4.7507473734467105]\n",
      "timestep 34 4.661845451241317 2.1230176531265093\n",
      "deleting node id  4\n",
      "expanding node id 1, children (array([0., 0., 1., 1., 0., 1., 1., 1.]), array([ 0.6672358 ,  0.66896933, -0.        ,  1.        ,  0.66379485,\n",
      "       -0.        , -0.        , -0.        ])), lb 2.1230176531265093, z_inc [ 0. -0.  1. -0. -0.  1.  1. -0.]\n",
      "args 2 8\n"
     ]
    },
    {
     "name": "stdout",
     "output_type": "stream",
     "text": [
      "relaxed lower bound  25.104978876168214\n",
      "relaxed lower bound  2.1230176718378186\n",
      "relaxed upper bound 24.963004479742438\n",
      "get obj upper bound 24.963004479742438\n",
      "relaxed upper bound 4.761729283131344\n",
      "get obj upper bound 4.761729283131344\n",
      "children stats [(24.963004479742438, 25.104978876168214, array([ 1., -0., -0.,  1.,  1., -0., -0., -0.]), array([[-0.99865037+0.12954341j,  0.59684235+0.29030716j,\n",
      "         0.3197783 -1.02892015j, -1.45957571+0.74075572j,\n",
      "         0.65737475-0.46984347j],\n",
      "       [-0.        +0.j        , -0.        +0.j        ,\n",
      "        -0.        +0.j        , -0.        +0.j        ,\n",
      "        -0.        +0.j        ],\n",
      "       [-0.        +0.j        , -0.        +0.j        ,\n",
      "        -0.        +0.j        , -0.        +0.j        ,\n",
      "        -0.        +0.j        ],\n",
      "       [-0.38053039+0.07329253j, -0.68557217+0.78286992j,\n",
      "         2.1591307 -1.68725288j, -1.48260305-0.41919974j,\n",
      "        -0.83142705+0.90597006j],\n",
      "       [ 0.84925404+0.39081764j,  1.09412132+0.06728162j,\n",
      "        -0.49371733-0.66642571j, -1.50088577+1.17397731j,\n",
      "         0.1128613 +0.35036879j],\n",
      "       [-0.        +0.j        , -0.        +0.j        ,\n",
      "        -0.        +0.j        , -0.        +0.j        ,\n",
      "        -0.        +0.j        ],\n",
      "       [-0.        +0.j        , -0.        +0.j        ,\n",
      "        -0.        +0.j        , -0.        +0.j        ,\n",
      "        -0.        +0.j        ],\n",
      "       [-0.        +0.j        , -0.        +0.j        ,\n",
      "        -0.        +0.j        , -0.        +0.j        ,\n",
      "        -0.        +0.j        ]]), <__main__.Node object at 0x7fb84fe390b8>), (4.761729283131344, 2.1230176718378186, array([ 1.,  1., -0.,  1.,  0., -0., -0., -0.]), array([[-0.40460226-0.01093324j,  0.12825694+0.12007718j,\n",
      "         0.34832797-0.19027812j, -0.34709474+0.07676627j,\n",
      "         0.18730216-0.14979665j],\n",
      "       [ 0.22612523+0.26091753j,  0.0457836 +0.10112714j,\n",
      "        -0.27815922-0.09175352j, -0.05201464+0.57983561j,\n",
      "         0.01327374-0.13591481j],\n",
      "       [-0.        +0.j        , -0.        +0.j        ,\n",
      "        -0.        +0.j        , -0.        +0.j        ,\n",
      "        -0.        +0.j        ],\n",
      "       [-0.18621172+0.10637714j, -0.22502962+0.3538578j ,\n",
      "         0.36337251-0.25606571j, -0.33082713+0.09766075j,\n",
      "        -0.17717768+0.2373733j ],\n",
      "       [ 0.21210769+0.19210797j,  0.44576222+0.03429169j,\n",
      "        -0.03420608-0.14255036j, -0.09410028+0.17769485j,\n",
      "         0.00693851+0.2051608j ],\n",
      "       [-0.        +0.j        , -0.        +0.j        ,\n",
      "        -0.        +0.j        , -0.        +0.j        ,\n",
      "        -0.        +0.j        ],\n",
      "       [-0.        +0.j        , -0.        +0.j        ,\n",
      "        -0.        +0.j        , -0.        +0.j        ,\n",
      "        -0.        +0.j        ],\n",
      "       [-0.        +0.j        , -0.        +0.j        ,\n",
      "        -0.        +0.j        , -0.        +0.j        ,\n",
      "        -0.        +0.j        ]]), <__main__.Node object at 0x7fb84fe2d588>)]\n",
      "\n",
      " L list [2.7551398560059552, 2.1415768577438503, 3.138025817132134, 3.225197044806022, 2.15783500474319, 2.5941284584077215, 3.0726825237561455, 2.720227579837741, 2.3847704936460192, 2.280093818943269, 25.104978876168214, 2.1230176718378186]\n",
      "timestep 35 4.661845451241317 2.1230176718378186\n",
      "deleting node id  10\n",
      "expanding node id 2, children (array([0., 1., 1., 1., 0., 1., 1., 1.]), array([ 0.50308146,  1.        , -0.        ,  1.        ,  0.49691854,\n",
      "       -0.        , -0.        , -0.        ])), lb 2.1230176718378186, z_inc [ 0. -0.  1. -0. -0.  1.  1. -0.]\n",
      "args 2 8\n",
      "relaxed lower bound  4.761729945723446\n",
      "antennas: upper bound  7.612437926881143\n",
      "relaxed upper bound 4.761729283131344\n",
      "get obj upper bound 4.761729283131344\n",
      "children stats [(4.761729283131344, 4.761729945723446, array([ 1.,  1., -0.,  1., -0., -0., -0., -0.]), array([[-0.64641304-0.04688731j, -0.31258303+0.31933714j,\n",
      "         0.61457834-0.27443108j, -0.42025775+0.03160284j,\n",
      "         0.48964589-0.30561598j],\n",
      "       [ 0.31004326+0.3428598j ,  0.29237804+0.5077292j ,\n",
      "        -0.50408481-0.16273506j,  0.04939267+0.77612942j,\n",
      "         0.04225131-0.19668192j],\n",
      "       [-0.        +0.j        , -0.        +0.j        ,\n",
      "        -0.        +0.j        , -0.        +0.j        ,\n",
      "        -0.        +0.j        ],\n",
      "       [-0.14483584-0.00578765j, -0.35689784+0.84854988j,\n",
      "         0.51112348-0.31136155j, -0.34728707+0.11523893j,\n",
      "        -0.25885321+0.51756668j],\n",
      "       [-0.        +0.j        , -0.        +0.j        ,\n",
      "        -0.        +0.j        , -0.        +0.j        ,\n",
      "        -0.        +0.j        ],\n",
      "       [-0.        +0.j        , -0.        +0.j        ,\n",
      "        -0.        +0.j        , -0.        +0.j        ,\n",
      "        -0.        +0.j        ],\n",
      "       [-0.        +0.j        , -0.        +0.j        ,\n",
      "        -0.        +0.j        , -0.        +0.j        ,\n",
      "        -0.        +0.j        ],\n",
      "       [-0.        +0.j        , -0.        +0.j        ,\n",
      "        -0.        +0.j        , -0.        +0.j        ,\n",
      "        -0.        +0.j        ]]), <__main__.Node object at 0x7fb84fe39048>), (7.612437926881143, 7.612437926881143, array([ 0.,  1., -0.,  1.,  1., -0., -0., -0.]), array([[-0.        +0.j        , -0.        +0.j        ,\n",
      "        -0.        +0.j        , -0.        +0.j        ,\n",
      "        -0.        +0.j        ],\n",
      "       [ 0.36468426+0.63434288j,  0.01959079+0.30353288j,\n",
      "        -0.17275759-0.15710378j, -0.35517227+1.10451352j,\n",
      "         0.17419245-0.27942701j],\n",
      "       [-0.        +0.j        , -0.        +0.j        ,\n",
      "        -0.        +0.j        , -0.        +0.j        ,\n",
      "        -0.        +0.j        ],\n",
      "       [-0.81301886+0.29776166j, -0.42066711+0.63579853j,\n",
      "         0.55358876-0.75242086j, -0.75188894+0.37480298j,\n",
      "        -0.34163673+0.52201413j],\n",
      "       [ 0.72915255+0.86026644j,  0.60821252-0.05457385j,\n",
      "        -0.24312207-0.1372863j ,  0.09048827+0.30942171j,\n",
      "         0.00877242+0.59195933j],\n",
      "       [-0.        +0.j        , -0.        +0.j        ,\n",
      "        -0.        +0.j        , -0.        +0.j        ,\n",
      "        -0.        +0.j        ],\n",
      "       [-0.        +0.j        , -0.        +0.j        ,\n",
      "        -0.        +0.j        , -0.        +0.j        ,\n",
      "        -0.        +0.j        ],\n",
      "       [-0.        +0.j        , -0.        +0.j        ,\n",
      "        -0.        +0.j        , -0.        +0.j        ,\n",
      "        -0.        +0.j        ]]), <__main__.Node object at 0x7fb84fe39518>)]\n",
      "\n",
      " L list [2.7551398560059552, 2.1415768577438503, 3.138025817132134, 3.225197044806022, 2.15783500474319, 2.5941284584077215, 3.0726825237561455, 2.720227579837741, 2.3847704936460192, 2.280093818943269, 4.761729945723446, 7.612437926881143]\n",
      "timestep 36 4.661845451241317 2.1415768577438503\n",
      "deleting node id  1\n",
      "expanding node id 1, children (array([0., 1., 1., 1., 1., 1., 0., 1.]), array([ 0.50249149,  1.        ,  1.        , -0.        , -0.        ,\n",
      "       -0.        ,  0.49750851, -0.        ])), lb 2.1415768577438503, z_inc [ 0. -0.  1. -0. -0.  1.  1. -0.]\n",
      "args 2 8\n",
      "relaxed lower bound  11.722562533686594\n",
      "antennas: upper bound  11.669880921863985\n",
      "relaxed upper bound 11.722562370662208\n",
      "get obj upper bound 11.722562370662208\n",
      "children stats [(11.722562370662208, 11.722562533686594, array([-0.,  1.,  1., -0., -0., -0.,  1., -0.]), array([[-0.        +0.j        , -0.        +0.j        ,\n",
      "        -0.        +0.j        , -0.        +0.j        ,\n",
      "        -0.        +0.j        ],\n",
      "       [-0.25414622+0.179322j  ,  0.61355912+0.82878019j,\n",
      "        -0.41600989-0.73502778j, -0.6111756 +0.67814289j,\n",
      "        -0.24250178+0.08691941j],\n",
      "       [-0.33557928+0.58019108j,  1.10195607+0.03478357j,\n",
      "        -0.43959054+1.18517723j,  0.46157346+0.45584712j,\n",
      "         0.28976257+0.76374063j],\n",
      "       [-0.        +0.j        , -0.        +0.j        ,\n",
      "        -0.        +0.j        , -0.        +0.j        ,\n",
      "        -0.        +0.j        ],\n",
      "       [-0.        +0.j        , -0.        +0.j        ,\n",
      "        -0.        +0.j        , -0.        +0.j        ,\n",
      "        -0.        +0.j        ],\n",
      "       [-0.        +0.j        , -0.        +0.j        ,\n",
      "        -0.        +0.j        , -0.        +0.j        ,\n",
      "        -0.        +0.j        ],\n",
      "       [ 0.41139811+0.4130404j , -1.14296469-0.99021894j,\n",
      "         0.59841146+0.21262235j,  0.42591311-0.67895236j,\n",
      "         0.24011466-0.93195631j],\n",
      "       [-0.        +0.j        , -0.        +0.j        ,\n",
      "        -0.        +0.j        , -0.        +0.j        ,\n",
      "        -0.        +0.j        ]]), <__main__.Node object at 0x7fb84fe32780>), (11.669880921863985, 11.669880921863985, array([ 1.,  1.,  1., -0., -0., -0.,  0., -0.]), array([[-1.27577993-0.19087223j, -0.34176901+0.43654675j,\n",
      "         0.78813049-0.22828766j, -0.43799502-0.28783969j,\n",
      "         0.75019685-0.79580315j],\n",
      "       [ 0.75280033+0.77723074j,  0.1787976 +0.71089529j,\n",
      "        -0.48166589-0.42511283j, -0.3072883 +0.55933275j,\n",
      "        -0.49089189-0.82738602j],\n",
      "       [ 0.3355302 -0.60052762j,  0.78708045+0.16847916j,\n",
      "        -0.40864886+0.70147895j,  0.95848083+0.07662329j,\n",
      "        -0.2904834 +1.14526025j],\n",
      "       [-0.        +0.j        , -0.        +0.j        ,\n",
      "        -0.        +0.j        , -0.        +0.j        ,\n",
      "        -0.        +0.j        ],\n",
      "       [-0.        +0.j        , -0.        +0.j        ,\n",
      "        -0.        +0.j        , -0.        +0.j        ,\n",
      "        -0.        +0.j        ],\n",
      "       [-0.        +0.j        , -0.        +0.j        ,\n",
      "        -0.        +0.j        , -0.        +0.j        ,\n",
      "        -0.        +0.j        ],\n",
      "       [-0.        +0.j        , -0.        +0.j        ,\n",
      "        -0.        +0.j        , -0.        +0.j        ,\n",
      "        -0.        +0.j        ],\n",
      "       [-0.        +0.j        , -0.        +0.j        ,\n",
      "        -0.        +0.j        , -0.        +0.j        ,\n",
      "        -0.        +0.j        ]]), <__main__.Node object at 0x7fb84fe32860>)]\n",
      "\n",
      " L list [2.7551398560059552, 3.138025817132134, 3.225197044806022, 2.15783500474319, 2.5941284584077215, 3.0726825237561455, 2.720227579837741, 2.3847704936460192, 2.280093818943269, 11.722562533686594, 11.669880921863985]\n",
      "timestep 37 4.661845451241317 2.15783500474319\n",
      "deleting node id  3\n",
      "expanding node id 1, children (array([0., 1., 1., 1., 0., 1., 1., 1.]), array([ 0.49570097, -0.        , -0.        ,  1.        ,  0.50429903,\n",
      "       -0.        , -0.        ,  1.        ])), lb 2.15783500474319, z_inc [ 0. -0.  1. -0. -0.  1.  1. -0.]\n",
      "args 2 8\n"
     ]
    },
    {
     "name": "stdout",
     "output_type": "stream",
     "text": [
      "relaxed lower bound  5.159337544241411\n",
      "antennas: upper bound  10.316551934385963\n",
      "relaxed upper bound 5.159337343084001\n",
      "get obj upper bound 5.159337343084001\n",
      "children stats [(5.159337343084001, 5.159337544241411, array([-0., -0., -0.,  1.,  1., -0., -0.,  1.]), array([[-0.        +0.j        , -0.        +0.j        ,\n",
      "        -0.        +0.j        , -0.        +0.j        ,\n",
      "        -0.        +0.j        ],\n",
      "       [-0.        +0.j        , -0.        +0.j        ,\n",
      "        -0.        +0.j        , -0.        +0.j        ,\n",
      "        -0.        +0.j        ],\n",
      "       [-0.        +0.j        , -0.        +0.j        ,\n",
      "        -0.        +0.j        , -0.        +0.j        ,\n",
      "        -0.        +0.j        ],\n",
      "       [-0.49911194+0.25540561j, -0.37481617+0.56639534j,\n",
      "         0.41690994-0.38448056j, -0.62794733-0.36438643j,\n",
      "        -0.61069456+0.39410273j],\n",
      "       [ 0.96213367+0.48887294j,  0.5927066 -0.10682122j,\n",
      "         0.07695248-0.25051304j, -0.22456322+0.2928612j ,\n",
      "         0.22251165+0.3012113j ],\n",
      "       [-0.        +0.j        , -0.        +0.j        ,\n",
      "        -0.        +0.j        , -0.        +0.j        ,\n",
      "        -0.        +0.j        ],\n",
      "       [-0.        +0.j        , -0.        +0.j        ,\n",
      "        -0.        +0.j        , -0.        +0.j        ,\n",
      "        -0.        +0.j        ],\n",
      "       [-0.55459871-0.06936579j,  0.13163941+0.02738471j,\n",
      "        -0.23795925+0.30605209j, -0.63692424-0.30219583j,\n",
      "        -0.362565  +0.15801091j]]), <__main__.Node object at 0x7fb84fe32400>), (10.316551934385963, 10.316551934385963, array([ 1., -0., -0.,  1.,  0., -0., -0.,  1.]), array([[-0.76669719+0.31414859j,  0.37855506+0.19060098j,\n",
      "         0.07959319-0.37820126j, -0.31326065+0.18193627j,\n",
      "         0.63693955-0.29636378j],\n",
      "       [-0.        +0.j        , -0.        +0.j        ,\n",
      "        -0.        +0.j        , -0.        +0.j        ,\n",
      "        -0.        +0.j        ],\n",
      "       [-0.        +0.j        , -0.        +0.j        ,\n",
      "        -0.        +0.j        , -0.        +0.j        ,\n",
      "        -0.        +0.j        ],\n",
      "       [-0.07788376-0.28548775j, -0.35402598+0.92559103j,\n",
      "         0.66260983-0.87320052j, -1.19327   -0.61752437j,\n",
      "        -0.97670478+0.93301983j],\n",
      "       [-0.        +0.j        , -0.        +0.j        ,\n",
      "        -0.        +0.j        , -0.        +0.j        ,\n",
      "        -0.        +0.j        ],\n",
      "       [-0.        +0.j        , -0.        +0.j        ,\n",
      "        -0.        +0.j        , -0.        +0.j        ,\n",
      "        -0.        +0.j        ],\n",
      "       [-0.        +0.j        , -0.        +0.j        ,\n",
      "        -0.        +0.j        , -0.        +0.j        ,\n",
      "        -0.        +0.j        ],\n",
      "       [-0.28885649+0.03743645j,  0.60017394-0.0641216j ,\n",
      "        -0.55714838+0.13098123j, -1.20847335-0.14005315j,\n",
      "        -0.36465272+0.62104092j]]), <__main__.Node object at 0x7fb84fe32710>)]\n",
      "\n",
      " L list [2.7551398560059552, 3.138025817132134, 3.225197044806022, 2.5941284584077215, 3.0726825237561455, 2.720227579837741, 2.3847704936460192, 2.280093818943269, 5.159337544241411, 10.316551934385963]\n",
      "timestep 38 4.661845451241317 2.280093818943269\n",
      "deleting node id  7\n",
      "\n",
      "*******************\n",
      "optimal node\n",
      "*******************\n",
      "\n",
      "[0. 1. 1. 1. 1. 1. 0. 1.]\n",
      "[ 0.49859763 -0.          1.         -0.         -0.          1.\n",
      "  0.50140237 -0.        ]\n",
      "expanding node id 1, children (array([0., 1., 1., 1., 1., 1., 0., 1.]), array([ 0.49859763, -0.        ,  1.        , -0.        , -0.        ,\n",
      "        1.        ,  0.50140237, -0.        ])), lb 2.280093818943269, z_inc [ 0. -0.  1. -0. -0.  1.  1. -0.]\n",
      "args 2 8\n",
      "relaxed lower bound  4.66184569286008\n",
      "antennas: upper bound  12.08209526946949\n",
      "relaxed upper bound 4.661845451241317\n",
      "get obj upper bound 4.661845451241317\n",
      "children stats [(4.661845451241317, 4.66184569286008, array([-0., -0.,  1., -0., -0.,  1.,  1., -0.]), array([[-0.        +0.j        , -0.        +0.j        ,\n",
      "        -0.        +0.j        , -0.        +0.j        ,\n",
      "        -0.        +0.j        ],\n",
      "       [-0.        +0.j        , -0.        +0.j        ,\n",
      "        -0.        +0.j        , -0.        +0.j        ,\n",
      "        -0.        +0.j        ],\n",
      "       [-0.23646233+0.37651903j,  0.71666952+0.17223839j,\n",
      "         0.01793255+0.60775439j,  0.64745496+0.45816993j,\n",
      "         0.06335052+0.60858032j],\n",
      "       [-0.        +0.j        , -0.        +0.j        ,\n",
      "        -0.        +0.j        , -0.        +0.j        ,\n",
      "        -0.        +0.j        ],\n",
      "       [-0.        +0.j        , -0.        +0.j        ,\n",
      "        -0.        +0.j        , -0.        +0.j        ,\n",
      "        -0.        +0.j        ],\n",
      "       [ 0.19206407+0.56180866j,  0.19220254-0.43027137j,\n",
      "         0.66258078-0.14907644j,  0.28057396-0.35078094j,\n",
      "         0.38565573+0.29183222j],\n",
      "       [ 0.27583428+0.33044844j, -0.40799298-0.46084466j,\n",
      "         0.21674384-0.20973167j,  0.17734166-0.1451941j ,\n",
      "         0.26104397-0.54812663j],\n",
      "       [-0.        +0.j        , -0.        +0.j        ,\n",
      "        -0.        +0.j        , -0.        +0.j        ,\n",
      "        -0.        +0.j        ]]), <__main__.Node object at 0x7fb84fe32c50>), (12.08209526946949, 12.08209526946949, array([ 1., -0.,  1., -0., -0.,  1.,  0., -0.]), array([[-3.51723902e-01+0.06277706j,  1.75275098e-01+0.20075035j,\n",
      "         6.53209404e-01-0.34578011j, -2.89237901e-01-0.1326672j ,\n",
      "         1.38152614e-01-1.55986054j],\n",
      "       [-0.00000000e+00+0.j        , -0.00000000e+00+0.j        ,\n",
      "        -0.00000000e+00+0.j        , -0.00000000e+00+0.j        ,\n",
      "        -0.00000000e+00+0.j        ],\n",
      "       [-6.24524374e-02+0.74104126j,  5.85336922e-01+0.35142639j,\n",
      "        -5.09905274e-01+0.54108208j,  1.04116599e+00+0.56778801j,\n",
      "        -1.43384121e+00+0.34226829j],\n",
      "       [-0.00000000e+00+0.j        , -0.00000000e+00+0.j        ,\n",
      "        -0.00000000e+00+0.j        , -0.00000000e+00+0.j        ,\n",
      "        -0.00000000e+00+0.j        ],\n",
      "       [-0.00000000e+00+0.j        , -0.00000000e+00+0.j        ,\n",
      "        -0.00000000e+00+0.j        , -0.00000000e+00+0.j        ,\n",
      "        -0.00000000e+00+0.j        ],\n",
      "       [ 2.68128616e-01+0.49468201j,  6.25865824e-01-0.22777092j,\n",
      "         6.04208707e-01-0.15751416j, -7.49443216e-04-0.57692094j,\n",
      "        -8.45070231e-01+1.19800695j],\n",
      "       [-0.00000000e+00+0.j        , -0.00000000e+00+0.j        ,\n",
      "        -0.00000000e+00+0.j        , -0.00000000e+00+0.j        ,\n",
      "        -0.00000000e+00+0.j        ],\n",
      "       [-0.00000000e+00+0.j        , -0.00000000e+00+0.j        ,\n",
      "        -0.00000000e+00+0.j        , -0.00000000e+00+0.j        ,\n",
      "        -0.00000000e+00+0.j        ]]), <__main__.Node object at 0x7fb84fe32cf8>)]\n",
      "\n",
      " L list [2.7551398560059552, 3.138025817132134, 3.225197044806022, 2.5941284584077215, 3.0726825237561455, 2.720227579837741, 2.3847704936460192, 4.66184569286008, 12.08209526946949]\n",
      "timestep 39 4.661845451241317 2.3847704936460192\n",
      "deleting node id  6\n",
      "expanding node id 1, children (array([1., 0., 1., 1., 0., 1., 1., 1.]), array([-0.        ,  0.49788969, -0.        ,  1.        ,  0.50211031,\n",
      "        1.        , -0.        , -0.        ])), lb 2.3847704936460192, z_inc [ 0. -0.  1. -0. -0.  1.  1. -0.]\n",
      "args 2 8\n",
      "relaxed lower bound  9.3905689851508\n",
      "antennas: upper bound  10.760499468501628\n",
      "relaxed upper bound 9.390568866059008\n",
      "get obj upper bound 9.390568866059008\n",
      "children stats [(9.390568866059008, 9.3905689851508, array([-0., -0., -0.,  1.,  1.,  1., -0., -0.]), array([[-0.        +0.j        , -0.        +0.j        ,\n",
      "        -0.        +0.j        , -0.        +0.j        ,\n",
      "        -0.        +0.j        ],\n",
      "       [-0.        +0.j        , -0.        +0.j        ,\n",
      "        -0.        +0.j        , -0.        +0.j        ,\n",
      "        -0.        +0.j        ],\n",
      "       [-0.        +0.j        , -0.        +0.j        ,\n",
      "        -0.        +0.j        , -0.        +0.j        ,\n",
      "        -0.        +0.j        ],\n",
      "       [-0.42932582+0.22471115j, -0.53951556+0.88376006j,\n",
      "         0.50959587-0.73831911j, -0.49845409-0.07056458j,\n",
      "        -0.68089232+0.90925014j],\n",
      "       [ 0.8652031 +0.40889881j,  0.74964374+0.28811596j,\n",
      "        -0.69761962-0.08067668j, -0.39067669+0.68897822j,\n",
      "         0.3595705 +0.5225813j ],\n",
      "       [ 0.002036  +0.36767229j, -0.38366845-0.29902945j,\n",
      "         0.90675428-0.29261095j,  0.19405083-0.96812315j,\n",
      "        -0.62875725+0.03918332j],\n",
      "       [-0.        +0.j        , -0.        +0.j        ,\n",
      "        -0.        +0.j        , -0.        +0.j        ,\n",
      "        -0.        +0.j        ],\n",
      "       [-0.        +0.j        , -0.        +0.j        ,\n",
      "        -0.        +0.j        , -0.        +0.j        ,\n",
      "        -0.        +0.j        ]]), <__main__.Node object at 0x7fb84fe39208>), (10.760499468501628, 10.760499468501628, array([-0.,  1., -0.,  1.,  0.,  1., -0., -0.]), array([[-0.        +0.j        , -0.        +0.j        ,\n",
      "        -0.        +0.j        , -0.        +0.j        ,\n",
      "        -0.        +0.j        ],\n",
      "       [ 0.53344138+1.08272055j,  0.32023835+0.15062906j,\n",
      "        -0.1130745 -0.57749096j, -0.18813467+0.81765747j,\n",
      "         0.73836075-0.13556803j],\n",
      "       [-0.        +0.j        , -0.        +0.j        ,\n",
      "        -0.        +0.j        , -0.        +0.j        ,\n",
      "        -0.        +0.j        ],\n",
      "       [-0.56890699-0.11590799j, -0.57814274+0.77353788j,\n",
      "         0.77966455-0.62053096j, -0.31437322+0.20296705j,\n",
      "        -0.64369297+1.10557891j],\n",
      "       [-0.        +0.j        , -0.        +0.j        ,\n",
      "        -0.        +0.j        , -0.        +0.j        ,\n",
      "        -0.        +0.j        ],\n",
      "       [ 0.51615244+1.2629793j ,  0.69539995-0.3177217j ,\n",
      "         0.26986042-0.81625297j, -0.10725489-0.07790149j,\n",
      "         0.28967679+0.48854431j],\n",
      "       [-0.        +0.j        , -0.        +0.j        ,\n",
      "        -0.        +0.j        , -0.        +0.j        ,\n",
      "        -0.        +0.j        ],\n",
      "       [-0.        +0.j        , -0.        +0.j        ,\n",
      "        -0.        +0.j        , -0.        +0.j        ,\n",
      "        -0.        +0.j        ]]), <__main__.Node object at 0x7fb84fe39588>)]\n",
      "\n",
      " L list [2.7551398560059552, 3.138025817132134, 3.225197044806022, 2.5941284584077215, 3.0726825237561455, 2.720227579837741, 4.66184569286008, 9.3905689851508, 10.760499468501628]\n",
      "timestep 40 4.661845451241317 2.5941284584077215\n",
      "deleting node id  3\n",
      "expanding node id 1, children (array([1., 0., 1., 0., 1., 1., 1., 1.]), array([-0.        ,  0.50103458, -0.        ,  0.49896542, -0.        ,\n",
      "        1.        ,  1.        , -0.        ])), lb 2.5941284584077215, z_inc [ 0. -0.  1. -0. -0.  1.  1. -0.]\n",
      "args 2 8\n"
     ]
    },
    {
     "name": "stdout",
     "output_type": "stream",
     "text": [
      "relaxed lower bound  44.84902440918849\n",
      "antennas: upper bound  12.795058175361941\n",
      "relaxed upper bound 44.75265144415926\n",
      "get obj upper bound 44.75265144415926\n",
      "children stats [(44.75265144415926, 44.84902440918849, array([-0., -0., -0.,  1., -0.,  1.,  1., -0.]), array([[-0.        +0.j        , -0.        +0.j        ,\n",
      "        -0.        +0.j        , -0.        +0.j        ,\n",
      "        -0.        +0.j        ],\n",
      "       [-0.        +0.j        , -0.        +0.j        ,\n",
      "        -0.        +0.j        , -0.        +0.j        ,\n",
      "        -0.        +0.j        ],\n",
      "       [-0.        +0.j        , -0.        +0.j        ,\n",
      "        -0.        +0.j        , -0.        +0.j        ,\n",
      "        -0.        +0.j        ],\n",
      "       [ 0.97773817+0.29268716j, -2.04511583+1.06289815j,\n",
      "         1.85177465-2.15913065j,  0.09582835+0.91901057j,\n",
      "        -1.65870304+1.04695858j],\n",
      "       [-0.        +0.j        , -0.        +0.j        ,\n",
      "        -0.        +0.j        , -0.        +0.j        ,\n",
      "        -0.        +0.j        ],\n",
      "       [ 0.9260786 +2.01832957j, -0.40188026-0.45404373j,\n",
      "         1.68014269-0.92342075j, -0.56913478-1.99820226j,\n",
      "        -0.48591233-0.32691105j],\n",
      "       [ 0.98947689+1.94041706j, -1.60321222+0.02318319j,\n",
      "         1.57991371-0.76465192j,  0.03272264+0.44754559j,\n",
      "        -0.03575538-1.21253065j],\n",
      "       [-0.        +0.j        , -0.        +0.j        ,\n",
      "        -0.        +0.j        , -0.        +0.j        ,\n",
      "        -0.        +0.j        ]]), <__main__.Node object at 0x7fb79427be80>), (12.795058175361941, 12.795058175361941, array([-0.,  1., -0.,  0., -0.,  1.,  1., -0.]), array([[-0.        +0.j        , -0.        +0.j        ,\n",
      "        -0.        +0.j        , -0.        +0.j        ,\n",
      "        -0.        +0.j        ],\n",
      "       [ 0.43603099+0.85159284j,  1.01443059+0.54057795j,\n",
      "         0.0430671 -0.58098474j, -0.5549047 +1.06385803j,\n",
      "         0.44039176-0.2144775j ],\n",
      "       [-0.        +0.j        , -0.        +0.j        ,\n",
      "        -0.        +0.j        , -0.        +0.j        ,\n",
      "        -0.        +0.j        ],\n",
      "       [-0.        +0.j        , -0.        +0.j        ,\n",
      "        -0.        +0.j        , -0.        +0.j        ,\n",
      "        -0.        +0.j        ],\n",
      "       [-0.        +0.j        , -0.        +0.j        ,\n",
      "        -0.        +0.j        , -0.        +0.j        ,\n",
      "        -0.        +0.j        ],\n",
      "       [ 0.46262788+1.60813291j,  0.05379067-0.02430005j,\n",
      "         0.77774204-1.01124478j, -0.46021231-0.18542075j,\n",
      "         0.59931683+0.02051919j],\n",
      "       [ 0.4737233 +0.74694372j, -1.02232439-0.85710506j,\n",
      "         0.04549868-0.24103652j,  0.10801398-0.25381697j,\n",
      "         0.42173834-0.79136631j],\n",
      "       [-0.        +0.j        , -0.        +0.j        ,\n",
      "        -0.        +0.j        , -0.        +0.j        ,\n",
      "        -0.        +0.j        ]]), <__main__.Node object at 0x7fb79427bc18>)]\n",
      "\n",
      " L list [2.7551398560059552, 3.138025817132134, 3.225197044806022, 3.0726825237561455, 2.720227579837741, 4.66184569286008, 44.84902440918849, 12.795058175361941]\n",
      "timestep 41 4.661845451241317 2.720227579837741\n",
      "deleting node id  4\n",
      "expanding node id 1, children (array([1., 0., 1., 0., 1., 1., 1., 1.]), array([-0.        ,  0.49983291, -0.        ,  0.50016709,  1.        ,\n",
      "       -0.        ,  1.        , -0.        ])), lb 2.720227579837741, z_inc [ 0. -0.  1. -0. -0.  1.  1. -0.]\n",
      "args 2 8\n",
      "relaxed lower bound  7.850681126533454\n",
      "antennas: upper bound  16.53784799258633\n",
      "relaxed upper bound 7.850679957654566\n",
      "get obj upper bound 7.850679957654566\n",
      "children stats [(7.850679957654566, 7.850681126533454, array([-0., -0., -0.,  1.,  1., -0.,  1., -0.]), array([[-0.        +0.j        , -0.        +0.j        ,\n",
      "        -0.        +0.j        , -0.        +0.j        ,\n",
      "        -0.        +0.j        ],\n",
      "       [-0.        +0.j        , -0.        +0.j        ,\n",
      "        -0.        +0.j        , -0.        +0.j        ,\n",
      "        -0.        +0.j        ],\n",
      "       [-0.        +0.j        , -0.        +0.j        ,\n",
      "        -0.        +0.j        , -0.        +0.j        ,\n",
      "        -0.        +0.j        ],\n",
      "       [-0.22191522+0.36934174j, -0.41857802+0.30741013j,\n",
      "         0.48505402-0.64974886j, -0.38790081+0.03836973j,\n",
      "        -0.28731539+0.27950697j],\n",
      "       [ 0.75654017+1.39514428j,  0.42348648-0.1255646j ,\n",
      "        -0.41962484-0.19574594j, -0.69306823+0.6437374j ,\n",
      "         0.34971065+0.40982296j],\n",
      "       [-0.        +0.j        , -0.        +0.j        ,\n",
      "        -0.        +0.j        , -0.        +0.j        ,\n",
      "        -0.        +0.j        ],\n",
      "       [ 0.88909745+0.88423169j, -0.22785824-0.04954667j,\n",
      "        -0.19536048-0.06437789j,  0.06498685+0.71334997j,\n",
      "         0.32741867-0.15042045j],\n",
      "       [-0.        +0.j        , -0.        +0.j        ,\n",
      "        -0.        +0.j        , -0.        +0.j        ,\n",
      "        -0.        +0.j        ]]), <__main__.Node object at 0x7fb79427bf98>), (16.53784799258633, 16.53784799258633, array([-0.,  1., -0.,  0.,  1., -0.,  1., -0.]), array([[-0.        +0.j        , -0.        +0.j        ,\n",
      "        -0.        +0.j        , -0.        +0.j        ,\n",
      "        -0.        +0.j        ],\n",
      "       [-0.6273853 -0.03747696j,  0.62514264+0.52751014j,\n",
      "        -0.27327052-0.52366489j, -0.58493183+0.82762854j,\n",
      "        -0.03102401-0.21672182j],\n",
      "       [-0.        +0.j        , -0.        +0.j        ,\n",
      "        -0.        +0.j        , -0.        +0.j        ,\n",
      "        -0.        +0.j        ],\n",
      "       [-0.        +0.j        , -0.        +0.j        ,\n",
      "        -0.        +0.j        , -0.        +0.j        ,\n",
      "        -0.        +0.j        ],\n",
      "       [ 1.24810901+1.79415162j,  0.49397765-0.5402079j ,\n",
      "        -0.97987292-0.01242402j,  0.10133022+0.22548935j,\n",
      "         0.32990958+0.6441727j ],\n",
      "       [-0.        +0.j        , -0.        +0.j        ,\n",
      "        -0.        +0.j        , -0.        +0.j        ,\n",
      "        -0.        +0.j        ],\n",
      "       [ 1.6782138 +0.9790581j , -0.59102882-1.0656653j ,\n",
      "        -0.87031573+0.68945451j,  0.73770721-0.11019944j,\n",
      "         0.32660587-0.19043113j],\n",
      "       [-0.        +0.j        , -0.        +0.j        ,\n",
      "        -0.        +0.j        , -0.        +0.j        ,\n",
      "        -0.        +0.j        ]]), <__main__.Node object at 0x7fb79427bda0>)]\n",
      "\n",
      " L list [2.7551398560059552, 3.138025817132134, 3.225197044806022, 3.0726825237561455, 4.66184569286008, 7.850681126533454, 16.53784799258633]\n",
      "timestep 42 4.661845451241317 2.7551398560059552\n",
      "deleting node id  0\n",
      "expanding node id 1, children (array([0., 0., 1., 1., 0., 0., 1., 0.]), array([ 0.60864686,  0.59998592, -0.        , -0.        ,  0.60799069,\n",
      "        0.59377389, -0.        ,  0.5896026 ])), lb 2.7551398560059552, z_inc [ 0. -0.  1. -0. -0.  1.  1. -0.]\n",
      "args 2 8\n",
      "relaxed lower bound  9.924124818265064\n",
      "relaxed lower bound  2.755139929337598\n",
      "relaxed upper bound 30.558103743361162\n",
      "get obj upper bound 30.558103743361162\n",
      "relaxed upper bound 8.584101844203698\n",
      "get obj upper bound 8.584101844203698\n",
      "children stats [(30.558103743361162, 9.924124818265064, array([0., 1., 0., 0., 1., 1., 0., 0.]), array([[-0.        +0.j        , -0.        +0.j        ,\n",
      "        -0.        +0.j        , -0.        +0.j        ,\n",
      "        -0.        +0.j        ],\n",
      "       [ 0.17988528+0.85318669j,  0.36593664+0.40109539j,\n",
      "         0.10643987-0.1245768j , -0.25148474+0.50514709j,\n",
      "        -0.34251582-0.6622275j ],\n",
      "       [-0.        +0.j        , -0.        +0.j        ,\n",
      "        -0.        +0.j        , -0.        +0.j        ,\n",
      "        -0.        +0.j        ],\n",
      "       [-0.        +0.j        , -0.        +0.j        ,\n",
      "        -0.        +0.j        , -0.        +0.j        ,\n",
      "        -0.        +0.j        ],\n",
      "       [ 0.20712553-0.51478781j,  1.29225276-0.50590997j,\n",
      "        -0.12830341+0.07286438j,  0.07569315+0.64198267j,\n",
      "         0.39732961+1.06420568j],\n",
      "       [ 0.14361648+1.13066413j, -0.016368  +0.66229615j,\n",
      "         0.71278056-0.4907665j , -0.19310441-0.78426622j,\n",
      "        -0.24569051-0.31150152j],\n",
      "       [-0.        +0.j        , -0.        +0.j        ,\n",
      "        -0.        +0.j        , -0.        +0.j        ,\n",
      "        -0.        +0.j        ],\n",
      "       [-0.09890728+0.16431833j,  0.13346394+0.38052355j,\n",
      "        -0.40192617+0.29832153j, -0.0574658 -0.1515374j ,\n",
      "        -0.28169208-0.38981566j]]), <__main__.Node object at 0x7fb79427bcf8>), (8.584101844203698, 2.755139929337598, array([ 1.,  1., -0., -0.,  1.,  0., -0.,  0.]), array([[-3.31622813e-01-0.01935781j,  5.68532552e-01+0.23399058j,\n",
      "         2.99065139e-01-0.08955364j, -2.99176868e-01-0.0809064j ,\n",
      "         2.84093264e-01-0.33252889j],\n",
      "       [ 1.89559319e-01+0.26146769j,  1.90235078e-01-0.17220838j,\n",
      "        -1.50330225e-01-0.09331983j, -7.11806453e-02+0.51558493j,\n",
      "        -1.83370273e-01-0.23541838j],\n",
      "       [-0.00000000e+00+0.j        , -0.00000000e+00+0.j        ,\n",
      "        -0.00000000e+00+0.j        , -0.00000000e+00+0.j        ,\n",
      "        -0.00000000e+00+0.j        ],\n",
      "       [-0.00000000e+00+0.j        , -0.00000000e+00+0.j        ,\n",
      "        -0.00000000e+00+0.j        , -0.00000000e+00+0.j        ,\n",
      "        -0.00000000e+00+0.j        ],\n",
      "       [ 1.41296852e-01-0.08114803j,  7.14986826e-01-0.01530383j,\n",
      "         2.94779399e-03+0.06264504j, -3.57091554e-04+0.22705974j,\n",
      "         7.31685337e-02+0.36988964j],\n",
      "       [ 7.46212612e-02+0.27040637j,  1.93417764e-01+0.05755705j,\n",
      "         3.06629553e-01-0.24068216j, -1.01200839e-01-0.25164616j,\n",
      "        -1.06814979e-01-0.08482548j],\n",
      "       [-0.00000000e+00+0.j        , -0.00000000e+00+0.j        ,\n",
      "        -0.00000000e+00+0.j        , -0.00000000e+00+0.j        ,\n",
      "        -0.00000000e+00+0.j        ],\n",
      "       [-1.36858532e-01+0.03337552j,  2.32267685e-01+0.16825124j,\n",
      "        -2.35629872e-01+0.08042603j, -1.93400300e-01-0.07700149j,\n",
      "        -9.81914551e-02-0.06612231j]]), <__main__.Node object at 0x7fb79427bef0>)]\n",
      "\n",
      " L list [3.138025817132134, 3.225197044806022, 3.0726825237561455, 4.66184569286008, 9.924124818265064, 2.755139929337598]\n",
      "timestep 43 4.661845451241317 2.755139929337598\n",
      "deleting node id  4\n",
      "expanding node id 2, children (array([1., 0., 1., 1., 0., 0., 1., 0.]), array([ 1.        ,  0.50238921, -0.        , -0.        ,  0.51665425,\n",
      "        0.49333697, -0.        ,  0.48761956])), lb 2.755139929337598, z_inc [ 0. -0.  1. -0. -0.  1.  1. -0.]\n",
      "args 2 8\n"
     ]
    },
    {
     "name": "stdout",
     "output_type": "stream",
     "text": [
      "relaxed lower bound  5.254883403048439\n",
      "relaxed lower bound  2.7551399687232294\n",
      "relaxed upper bound 14.5272871142579\n",
      "get obj upper bound 14.5272871142579\n",
      "relaxed upper bound inf\n",
      "get obj upper bound inf\n",
      "children stats [(14.5272871142579, 5.254883403048439, array([1., 1., 0., 0., 0., 1., 0., 0.]), array([[-0.40203497-0.06025583j,  0.74642946+0.45324942j,\n",
      "         0.41783255-0.15436969j, -0.50392224-0.22178488j,\n",
      "         0.53618588-0.48751838j],\n",
      "       [ 0.3270186 +0.29828988j,  0.50838744-0.42724516j,\n",
      "        -0.2019393 -0.10740789j, -0.06865123+0.83857359j,\n",
      "        -0.23401521-0.12925378j],\n",
      "       [-0.        +0.j        , -0.        +0.j        ,\n",
      "        -0.        +0.j        , -0.        +0.j        ,\n",
      "        -0.        +0.j        ],\n",
      "       [-0.        +0.j        , -0.        +0.j        ,\n",
      "        -0.        +0.j        , -0.        +0.j        ,\n",
      "        -0.        +0.j        ],\n",
      "       [-0.        +0.j        , -0.        +0.j        ,\n",
      "        -0.        +0.j        , -0.        +0.j        ,\n",
      "        -0.        +0.j        ],\n",
      "       [ 0.2378411 +0.28288037j,  0.84710121-0.15771141j,\n",
      "         0.46689765-0.29911799j, -0.06558675-0.07728357j,\n",
      "        -0.08618515+0.01604516j],\n",
      "       [-0.        +0.j        , -0.        +0.j        ,\n",
      "        -0.        +0.j        , -0.        +0.j        ,\n",
      "        -0.        +0.j        ],\n",
      "       [-0.11134861-0.02413364j,  0.61433035+0.06117798j,\n",
      "        -0.3317047 +0.14065918j, -0.24459509+0.09774625j,\n",
      "        -0.15010328+0.10668702j]]), <__main__.Node object at 0x7fb79427b2e8>), (inf, 2.7551399687232294, array([ 1.,  0., -0., -0.,  1.,  0., -0.,  0.]), array([[-3.31622815e-01-0.01935781j,  5.68532558e-01+0.23399059j,\n",
      "         2.99065139e-01-0.08955364j, -2.99176869e-01-0.0809064j ,\n",
      "         2.84093267e-01-0.3325289j ],\n",
      "       [ 1.89559319e-01+0.26146769j,  1.90235077e-01-0.17220838j,\n",
      "        -1.50330223e-01-0.09331983j, -7.11806454e-02+0.51558493j,\n",
      "        -1.83370273e-01-0.23541838j],\n",
      "       [-0.00000000e+00+0.j        , -0.00000000e+00+0.j        ,\n",
      "        -0.00000000e+00+0.j        , -0.00000000e+00+0.j        ,\n",
      "        -0.00000000e+00+0.j        ],\n",
      "       [-0.00000000e+00+0.j        , -0.00000000e+00+0.j        ,\n",
      "        -0.00000000e+00+0.j        , -0.00000000e+00+0.j        ,\n",
      "        -0.00000000e+00+0.j        ],\n",
      "       [ 1.41296853e-01-0.08114803j,  7.14986839e-01-0.01530383j,\n",
      "         2.94779387e-03+0.06264504j, -3.57092741e-04+0.22705974j,\n",
      "         7.31685340e-02+0.36988964j],\n",
      "       [ 7.46212609e-02+0.27040637j,  1.93417763e-01+0.05755706j,\n",
      "         3.06629553e-01-0.24068215j, -1.01200840e-01-0.25164616j,\n",
      "        -1.06814978e-01-0.08482548j],\n",
      "       [-0.00000000e+00+0.j        , -0.00000000e+00+0.j        ,\n",
      "        -0.00000000e+00+0.j        , -0.00000000e+00+0.j        ,\n",
      "        -0.00000000e+00+0.j        ],\n",
      "       [-1.36858533e-01+0.03337553j,  2.32267684e-01+0.16825124j,\n",
      "        -2.35629871e-01+0.08042603j, -1.93400301e-01-0.07700149j,\n",
      "        -9.81914548e-02-0.06612231j]]), <__main__.Node object at 0x7fb84fe32358>)]\n",
      "\n",
      " L list [3.138025817132134, 3.225197044806022, 3.0726825237561455, 4.66184569286008, 5.254883403048439, 2.7551399687232294]\n",
      "timestep 44 4.661845451241317 2.7551399687232294\n",
      "deleting node id  4\n",
      "expanding node id 2, children (array([1., 0., 1., 1., 1., 0., 1., 0.]), array([ 1.        ,  0.34839228, -0.        , -0.        ,  1.        ,\n",
      "        0.33035576, -0.        ,  0.32125196])), lb 2.7551399687232294, z_inc [ 0. -0.  1. -0. -0.  1.  1. -0.]\n",
      "args 2 8\n",
      "relaxed lower bound  3.6667386610929302\n",
      "antennas: upper bound  inf\n",
      "antennas: None not optimal, may be infeasible\n",
      "relaxed upper bound 8.584101844203698\n",
      "get obj upper bound 8.584101844203698\n",
      "children stats [(8.584101844203698, 3.6667386610929302, array([ 1.,  1., -0., -0.,  1.,  0., -0., -0.]), array([[-0.38031702-0.04102866j,  0.53151991+0.28325611j,\n",
      "         0.48877713+0.00831995j, -0.27512562-0.02792749j,\n",
      "         0.37650121-0.40188109j],\n",
      "       [ 0.286613  +0.37477873j,  0.15434922-0.17017682j,\n",
      "        -0.14178119-0.26842947j, -0.07252363+0.61385444j,\n",
      "        -0.21274461-0.29502698j],\n",
      "       [-0.        +0.j        , -0.        +0.j        ,\n",
      "        -0.        +0.j        , -0.        +0.j        ,\n",
      "        -0.        +0.j        ],\n",
      "       [-0.        +0.j        , -0.        +0.j        ,\n",
      "        -0.        +0.j        , -0.        +0.j        ,\n",
      "        -0.        +0.j        ],\n",
      "       [ 0.04302258-0.12245393j,  0.83723912+0.23044424j,\n",
      "        -0.190773  +0.12979381j, -0.06438744+0.23216428j,\n",
      "         0.0030893 +0.40254572j],\n",
      "       [ 0.12820602+0.4217574j ,  0.09775701+0.02285213j,\n",
      "         0.38463971-0.33404334j, -0.0745682 -0.29624612j,\n",
      "        -0.16295886-0.17020638j],\n",
      "       [-0.        +0.j        , -0.        +0.j        ,\n",
      "        -0.        +0.j        , -0.        +0.j        ,\n",
      "        -0.        +0.j        ],\n",
      "       [-0.        +0.j        , -0.        +0.j        ,\n",
      "        -0.        +0.j        , -0.        +0.j        ,\n",
      "        -0.        +0.j        ]]), <__main__.Node object at 0x7fb84fe26668>), (inf, inf, array([0., 0., 0., 0., 0., 0., 0., 0.]), array([0., 0., 0., 0., 0., 0., 0., 0.]), None)]\n",
      "\n",
      " L list [3.138025817132134, 3.225197044806022, 3.0726825237561455, 4.66184569286008, 3.6667386610929302]\n",
      "timestep 45 4.661845451241317 3.0726825237561455\n",
      "deleting node id  2\n",
      "expanding node id 1, children (array([1., 0., 1., 0., 1., 1., 1., 1.]), array([-0.        ,  0.48711483, -0.        ,  0.51288517, -0.        ,\n",
      "       -0.        ,  1.        ,  1.        ])), lb 3.0726825237561455, z_inc [ 0. -0.  1. -0. -0.  1.  1. -0.]\n",
      "args 2 8\n",
      "relaxed lower bound  14.378136010983045\n",
      "antennas: upper bound  inf\n",
      "antennas: None not optimal, may be infeasible\n",
      "relaxed upper bound 14.378135386165575\n",
      "get obj upper bound 14.378135386165575\n",
      "children stats [(14.378135386165575, 14.378136010983045, array([-0., -0., -0.,  1., -0., -0.,  1.,  1.]), array([[-0.00000000e+00+0.j        , -0.00000000e+00+0.j        ,\n",
      "        -0.00000000e+00+0.j        , -0.00000000e+00+0.j        ,\n",
      "        -0.00000000e+00+0.j        ],\n",
      "       [-0.00000000e+00+0.j        , -0.00000000e+00+0.j        ,\n",
      "        -0.00000000e+00+0.j        , -0.00000000e+00+0.j        ,\n",
      "        -0.00000000e+00+0.j        ],\n",
      "       [-0.00000000e+00+0.j        , -0.00000000e+00+0.j        ,\n",
      "        -0.00000000e+00+0.j        , -0.00000000e+00+0.j        ,\n",
      "        -0.00000000e+00+0.j        ],\n",
      "       [ 3.54024447e-01+0.45515889j, -1.20668592e+00+0.67347281j,\n",
      "         1.21035393e+00-0.58590153j, -6.90908301e-01-0.19766231j,\n",
      "        -1.46002375e+00+0.95629276j],\n",
      "       [-0.00000000e+00+0.j        , -0.00000000e+00+0.j        ,\n",
      "        -0.00000000e+00+0.j        , -0.00000000e+00+0.j        ,\n",
      "        -0.00000000e+00+0.j        ],\n",
      "       [-0.00000000e+00+0.j        , -0.00000000e+00+0.j        ,\n",
      "        -0.00000000e+00+0.j        , -0.00000000e+00+0.j        ,\n",
      "        -0.00000000e+00+0.j        ],\n",
      "       [ 7.18078339e-02+1.24816422j, -8.10839137e-01+0.06901731j,\n",
      "         4.62249093e-02+0.59127504j,  5.87010017e-05+0.214316j  ,\n",
      "        -7.17314121e-02-0.18303834j],\n",
      "       [-1.52798966e-01+0.79347268j,  5.54907406e-02-0.2755734j ,\n",
      "        -6.55421482e-01+0.77076064j, -1.30771987e+00-0.32636532j,\n",
      "        -5.63920225e-01+0.46180703j]]), <__main__.Node object at 0x7fb84fe26080>), (inf, inf, array([0., 0., 0., 0., 0., 0., 0., 0.]), array([0., 0., 0., 0., 0., 0., 0., 0.]), None)]\n",
      "\n",
      " L list [3.138025817132134, 3.225197044806022, 4.66184569286008, 3.6667386610929302, 14.378136010983045]\n",
      "timestep 46 4.661845451241317 3.138025817132134\n",
      "deleting node id  0\n",
      "expanding node id 1, children (array([1., 1., 1., 1., 0., 1., 0., 0.]), array([-0.        , -0.        ,  1.        , -0.        ,  0.67170029,\n",
      "       -0.        ,  0.67031831,  0.65798138])), lb 3.138025817132134, z_inc [ 0. -0.  1. -0. -0.  1.  1. -0.]\n",
      "args 2 8\n",
      "relaxed lower bound  16.951205624994053\n",
      "relaxed lower bound  3.1380258525307254\n",
      "relaxed upper bound 16.94903943515675\n",
      "get obj upper bound 16.94903943515675\n",
      "relaxed upper bound 12.892833613235286\n",
      "get obj upper bound 12.892833613235286\n",
      "children stats [(16.94903943515675, 16.951205624994053, array([-0., -0.,  1., -0., -0., -0.,  1.,  1.]), array([[-0.        +0.j        , -0.        +0.j        ,\n",
      "        -0.        +0.j        , -0.        +0.j        ,\n",
      "        -0.        +0.j        ],\n",
      "       [-0.        +0.j        , -0.        +0.j        ,\n",
      "        -0.        +0.j        , -0.        +0.j        ,\n",
      "        -0.        +0.j        ],\n",
      "       [-0.4502591 +0.86079406j,  2.15913062+0.81201822j,\n",
      "        -0.65096059+0.52858106j,  0.89215503+0.92263943j,\n",
      "         0.42765023+0.59248733j],\n",
      "       [-0.        +0.j        , -0.        +0.j        ,\n",
      "        -0.        +0.j        , -0.        +0.j        ,\n",
      "        -0.        +0.j        ],\n",
      "       [-0.        +0.j        , -0.        +0.j        ,\n",
      "        -0.        +0.j        , -0.        +0.j        ,\n",
      "        -0.        +0.j        ],\n",
      "       [-0.        +0.j        , -0.        +0.j        ,\n",
      "        -0.        +0.j        , -0.        +0.j        ,\n",
      "        -0.        +0.j        ],\n",
      "       [ 0.0785069 +0.82033888j, -1.35252395-0.96051362j,\n",
      "        -0.29057249+0.49064377j, -0.04715825-0.20977523j,\n",
      "         0.3326604 -1.09183678j],\n",
      "       [-0.21451103+0.65069022j, -0.10393576+0.02721879j,\n",
      "        -0.97039248+0.76720933j, -0.59301195-0.3450645j ,\n",
      "        -0.19516228+0.42044055j]]), <__main__.Node object at 0x7fb84fe32550>), (12.892833613235286, 3.1380258525307254, array([-0., -0.,  1., -0.,  1., -0.,  1.,  0.]), array([[-0.        +0.j        , -0.        +0.j        ,\n",
      "        -0.        +0.j        , -0.        +0.j        ,\n",
      "        -0.        +0.j        ],\n",
      "       [-0.        +0.j        , -0.        +0.j        ,\n",
      "        -0.        +0.j        , -0.        +0.j        ,\n",
      "        -0.        +0.j        ],\n",
      "       [-0.13449616+0.04499388j,  0.67194303+0.22852395j,\n",
      "        -0.25681288+0.24325833j,  0.41371234+0.34837802j,\n",
      "         0.06213178+0.16269281j],\n",
      "       [-0.        +0.j        , -0.        +0.j        ,\n",
      "        -0.        +0.j        , -0.        +0.j        ,\n",
      "        -0.        +0.j        ],\n",
      "       [ 0.42734312+0.54304734j,  0.44511255-0.17651382j,\n",
      "         0.16072285-0.02101269j, -0.11307223+0.05832678j,\n",
      "         0.31461558+0.26184939j],\n",
      "       [-0.        +0.j        , -0.        +0.j        ,\n",
      "        -0.        +0.j        , -0.        +0.j        ,\n",
      "        -0.        +0.j        ],\n",
      "       [ 0.41529188+0.37932993j, -0.39632724-0.37163742j,\n",
      "        -0.07417184+0.16694687j, -0.02048924+0.04280085j,\n",
      "         0.27089208-0.40001921j],\n",
      "       [-0.1088127 +0.04646505j,  0.02948802+0.10119257j,\n",
      "        -0.36442008+0.30616248j, -0.24447299-0.14854833j,\n",
      "        -0.1726507 +0.07434653j]]), <__main__.Node object at 0x7fb84fe32c18>)]\n",
      "\n",
      " L list [3.225197044806022, 4.66184569286008, 3.6667386610929302, 16.951205624994053, 3.1380258525307254]\n",
      "timestep 47 4.661845451241317 3.1380258525307254\n",
      "deleting node id  3\n",
      "expanding node id 2, children (array([1., 1., 1., 1., 1., 1., 0., 0.]), array([-0.        , -0.        ,  1.        , -0.        ,  1.        ,\n",
      "       -0.        ,  0.51054176,  0.48945824])), lb 3.1380258525307254, z_inc [ 0. -0.  1. -0. -0.  1.  1. -0.]\n",
      "args 2 8\n"
     ]
    },
    {
     "name": "stdout",
     "output_type": "stream",
     "text": [
      "relaxed lower bound  12.892833816879028\n",
      "antennas: upper bound  134.69307173448536\n",
      "relaxed upper bound 12.892833613235286\n",
      "get obj upper bound 12.892833613235286\n",
      "children stats [(12.892833613235286, 12.892833816879028, array([-0., -0.,  1., -0.,  1., -0.,  1., -0.]), array([[-0.        +0.j        , -0.        +0.j        ,\n",
      "        -0.        +0.j        , -0.        +0.j        ,\n",
      "        -0.        +0.j        ],\n",
      "       [-0.        +0.j        , -0.        +0.j        ,\n",
      "        -0.        +0.j        , -0.        +0.j        ,\n",
      "        -0.        +0.j        ],\n",
      "       [-0.02618881-0.64261499j,  0.65250738+0.2658967j ,\n",
      "        -0.27830283+0.85405241j,  0.65269386+0.35096697j,\n",
      "        -0.08425186+0.23389443j],\n",
      "       [-0.        +0.j        , -0.        +0.j        ,\n",
      "        -0.        +0.j        , -0.        +0.j        ,\n",
      "        -0.        +0.j        ],\n",
      "       [ 1.12035297+1.76300497j,  0.52404525-0.1294371j ,\n",
      "        -0.6556432 -0.36616945j, -0.63704652+0.17306302j,\n",
      "         0.41378669+0.45473785j],\n",
      "       [-0.        +0.j        , -0.        +0.j        ,\n",
      "        -0.        +0.j        , -0.        +0.j        ,\n",
      "        -0.        +0.j        ],\n",
      "       [ 1.32235775+1.09224373j, -0.54556197-0.43826029j,\n",
      "        -0.59873992-0.13468036j, -0.18532372+0.34343284j,\n",
      "         0.44433478-0.61212758j],\n",
      "       [-0.        +0.j        , -0.        +0.j        ,\n",
      "        -0.        +0.j        , -0.        +0.j        ,\n",
      "        -0.        +0.j        ]]), <__main__.Node object at 0x7fb84fe32f98>), (134.69307173448536, 134.69307173448536, array([-0., -0.,  1., -0.,  1., -0.,  0.,  1.]), array([[-0.        +0.j        , -0.        +0.j        ,\n",
      "        -0.        +0.j        , -0.        +0.j        ,\n",
      "        -0.        +0.j        ],\n",
      "       [-0.        +0.j        , -0.        +0.j        ,\n",
      "        -0.        +0.j        , -0.        +0.j        ,\n",
      "        -0.        +0.j        ],\n",
      "       [-2.38321205+2.00356132j,  3.77786966+0.57622969j,\n",
      "        -2.67288386+3.9017047j ,  1.4021827 +1.21309918j,\n",
      "         0.33106565+0.26324808j],\n",
      "       [-0.        +0.j        , -0.        +0.j        ,\n",
      "        -0.        +0.j        , -0.        +0.j        ,\n",
      "        -0.        +0.j        ],\n",
      "       [ 3.21166662-0.03013155j,  3.60979883-1.55893885j,\n",
      "         2.89267387-1.25280667j, -0.22318371+0.05474629j,\n",
      "         1.51687997+1.71261294j],\n",
      "       [-0.        +0.j        , -0.        +0.j        ,\n",
      "        -0.        +0.j        , -0.        +0.j        ,\n",
      "        -0.        +0.j        ],\n",
      "       [-0.        +0.j        , -0.        +0.j        ,\n",
      "        -0.        +0.j        , -0.        +0.j        ,\n",
      "        -0.        +0.j        ],\n",
      "       [-2.70253486+1.14292405j,  1.51837087+2.54083526j,\n",
      "        -3.29913516+3.28349142j, -0.5829922 -0.41109561j,\n",
      "        -1.95829045+0.17138254j]]), <__main__.Node object at 0x7fb84fe268d0>)]\n",
      "\n",
      " L list [3.225197044806022, 4.66184569286008, 3.6667386610929302, 12.892833816879028, 134.69307173448536]\n",
      "timestep 48 4.661845451241317 3.225197044806022\n",
      "deleting node id  0\n",
      "expanding node id 1, children (array([1., 1., 1., 1., 0., 1., 0., 1.]), array([ 1.        , -0.        ,  1.        , -0.        ,  0.49907494,\n",
      "       -0.        ,  0.50092506, -0.        ])), lb 3.225197044806022, z_inc [ 0. -0.  1. -0. -0.  1.  1. -0.]\n",
      "args 2 8\n",
      "relaxed lower bound  9.48141609241666\n",
      "antennas: upper bound  inf\n",
      "antennas: None not optimal, may be infeasible\n",
      "relaxed upper bound 9.48141601890271\n",
      "get obj upper bound 9.48141601890271\n",
      "children stats [(9.48141601890271, 9.48141609241666, array([ 1., -0.,  1., -0., -0., -0.,  1., -0.]), array([[-0.65015719+0.1703516j ,  0.44793904-0.20804647j,\n",
      "         1.01553428-0.72274306j, -0.25307079+0.28368801j,\n",
      "         0.56270167-0.55271603j],\n",
      "       [-0.        +0.j        , -0.        +0.j        ,\n",
      "        -0.        +0.j        , -0.        +0.j        ,\n",
      "        -0.        +0.j        ],\n",
      "       [-0.14822246+0.04900432j,  1.033974  +0.58583539j,\n",
      "        -0.84830784+0.44563058j,  0.55241607+0.54117343j,\n",
      "        -0.14823021+0.61255861j],\n",
      "       [-0.        +0.j        , -0.        +0.j        ,\n",
      "        -0.        +0.j        , -0.        +0.j        ,\n",
      "        -0.        +0.j        ],\n",
      "       [-0.        +0.j        , -0.        +0.j        ,\n",
      "        -0.        +0.j        , -0.        +0.j        ,\n",
      "        -0.        +0.j        ],\n",
      "       [-0.        +0.j        , -0.        +0.j        ,\n",
      "        -0.        +0.j        , -0.        +0.j        ,\n",
      "        -0.        +0.j        ],\n",
      "       [ 0.16452033+0.41983721j, -1.07370099-0.7463586j ,\n",
      "        -0.3151265 -0.24325693j,  0.28877883+0.16024779j,\n",
      "         0.0681909 -0.96431411j],\n",
      "       [-0.        +0.j        , -0.        +0.j        ,\n",
      "        -0.        +0.j        , -0.        +0.j        ,\n",
      "        -0.        +0.j        ]]), <__main__.Node object at 0x7fb84fe26b38>), (inf, inf, array([0., 0., 0., 0., 0., 0., 0., 0.]), array([0., 0., 0., 0., 0., 0., 0., 0.]), None)]\n",
      "\n",
      " L list [4.66184569286008, 3.6667386610929302, 9.48141609241666]\n",
      "timestep 49 4.661845451241317 3.6667386610929302\n",
      "deleting node id  1\n",
      "expanding node id 1, children (array([1., 0., 1., 1., 1., 0., 1., 1.]), array([ 1.        ,  0.50689276, -0.        , -0.        ,  1.        ,\n",
      "        0.49310724, -0.        , -0.        ])), lb 3.6667386610929302, z_inc [ 0. -0.  1. -0. -0.  1.  1. -0.]\n",
      "args 2 8\n",
      "relaxed lower bound  8.584101859527982\n",
      "antennas: upper bound  inf\n",
      "antennas: None not optimal, may be infeasible\n",
      "relaxed upper bound 8.584101844203698\n",
      "get obj upper bound 8.584101844203698\n",
      "children stats [(8.584101844203698, 8.584101859527982, array([ 1.,  1., -0., -0.,  1., -0., -0., -0.]), array([[-0.78541412+0.01075291j,  0.93566493+0.53400271j,\n",
      "         1.15806354-0.12922716j, -0.67188499+0.07342549j,\n",
      "         0.44578   -0.38786395j],\n",
      "       [ 0.41753416+0.39135041j,  0.12125964-0.38474985j,\n",
      "        -0.76967713-0.3371617j ,  0.07029561+0.9859989j ,\n",
      "        -0.15968842-0.45300032j],\n",
      "       [-0.        +0.j        , -0.        +0.j        ,\n",
      "        -0.        +0.j        , -0.        +0.j        ,\n",
      "        -0.        +0.j        ],\n",
      "       [-0.        +0.j        , -0.        +0.j        ,\n",
      "        -0.        +0.j        , -0.        +0.j        ,\n",
      "        -0.        +0.j        ],\n",
      "       [ 0.2426565 +0.20232832j,  1.29520986+0.40372589j,\n",
      "         0.14902335-0.07732408j, -0.22008671+0.10687708j,\n",
      "        -0.04118024+0.45652541j],\n",
      "       [-0.        +0.j        , -0.        +0.j        ,\n",
      "        -0.        +0.j        , -0.        +0.j        ,\n",
      "        -0.        +0.j        ],\n",
      "       [-0.        +0.j        , -0.        +0.j        ,\n",
      "        -0.        +0.j        , -0.        +0.j        ,\n",
      "        -0.        +0.j        ],\n",
      "       [-0.        +0.j        , -0.        +0.j        ,\n",
      "        -0.        +0.j        , -0.        +0.j        ,\n",
      "        -0.        +0.j        ]]), <__main__.Node object at 0x7fb84fe26828>), (inf, inf, array([0., 0., 0., 0., 0., 0., 0., 0.]), array([0., 0., 0., 0., 0., 0., 0., 0.]), None)]\n",
      "\n",
      " L list [4.66184569286008, 8.584101859527982]\n",
      "timestep 50 4.661845451241317 4.66184569286008\n",
      "deleting node id  0\n",
      "\n",
      "*******************\n",
      "optimal node\n",
      "*******************\n",
      "\n",
      "[1. 1. 1. 1. 1. 1. 1. 1.]\n",
      "[-0. -0.  1. -0. -0.  1.  1. -0.]\n",
      "\n",
      " #####################\n",
      "current node is already determined\n",
      "\n",
      "ended\n",
      "[ 0. -0.  1. -0. -0.  1.  1. -0.]\n",
      "4.661845451241317 21.344762325286865 51 4.661845451241317\n"
     ]
    }
   ],
   "source": [
    "import torch\n",
    "import torch.nn as nn\n",
    "import numpy as np\n",
    "import time \n",
    "from antenna_selection.beamforming import *\n",
    "from antenna_selection.observation import Observation, LinearObservation\n",
    "from models.gnn_policy import GNNPolicy, GNNNodeSelectionPolicy\n",
    "from models.fcn_policy import FCNNodeSelectionLinearPolicy\n",
    "from models.gnn_dataset import get_graph_from_obs\n",
    "from models.setting import MODEL_PATH\n",
    "from antenna_selection.beamforming_test import Beamforming, BeamformingWithSelectedAntennas\n",
    "from multiprocessing import Pool\n",
    "\n",
    "\n",
    "DEBUG=True\n",
    "\n",
    "class Node(object):\n",
    "    def __init__(self, z_mask=None, z_sol=None, z_feas=None, W_sol=None, U=False, L=False, depth=0, parent_node=None, node_index = 0):\n",
    "        \"\"\"\n",
    "        @params: \n",
    "            z_mask: vector of boolean, True means that the current variable is boolean\n",
    "            z_sol: value of z at the solution of the cvx relaxation\n",
    "            z_feas: value of z after making z_sol feasible (i.e. boolean)\n",
    "            U: True if it is the current global upper bound\n",
    "            L: True if it is the current global lower bound\n",
    "            depth: depth of the node from the root of the BB tree\n",
    "            node_index: unique index assigned to the node in the BB tree\n",
    "        \"\"\"\n",
    "        self.z_mask = z_mask.copy()\n",
    "        self.z_sol = z_sol.copy()\n",
    "        self.z_feas = z_feas.copy()\n",
    "        self.W_sol = W_sol.copy()\n",
    "        self.U = U\n",
    "        self.L = L\n",
    "        self.depth = depth\n",
    "        self.parent_node = parent_node\n",
    "        self.node_index = node_index\n",
    "\n",
    "class DefaultBranchingPolicy(object):\n",
    "    def __init__(self):\n",
    "        pass\n",
    "\n",
    "    def select_variable(self, observation, candidates):\n",
    "        z_mask = observation.antenna_features[:, 2]\n",
    "        z_sol = observation.antenna_features[:,0]\n",
    "        z_sol_rel = (1-z_mask)*(np.abs(z_sol - 0.5))\n",
    "        return np.argmax(z_sol_rel)\n",
    "\n",
    "\n",
    "class ASBBenv(object):\n",
    "    def __init__(self, observation_function=Observation, node_select_policy_path='default', policy_type='gnn', epsilon=0.001):\n",
    "        \"\"\"\n",
    "        @params: \n",
    "            node_select_policy_path: one of {'default', 'oracle', policy_params}\n",
    "                                     if the value is 'oracle', optimal solution should be provided in the reset function\n",
    "                                     policy_params refers to the actual state_dict of the policy network\n",
    "                                     appropriate policy_type should be given according the policy parameters provided in this argument\n",
    "            policy_type: One of 'gnn' or 'linear'\n",
    "        \"\"\"\n",
    "        self._is_reset = None\n",
    "        self.epsilon = epsilon # stopping criterion \n",
    "        self.H = None\n",
    "        \n",
    "        self.nodes = []     # list of problems (nodes)\n",
    "        self.num_nodes = 0\n",
    "        self.num_active_nodes = 0\n",
    "        self.all_nodes = [] # list of all nodes to serve as training data for node selection policy\n",
    "        self.optimal_nodes = []\n",
    "        self.node_index_count = 0\n",
    "\n",
    "        self.L_list = []    # list of lower bounds on the problem\n",
    "        self.U_list = []    # list of upper bounds on the problem\n",
    "        \n",
    "        self.global_L = np.nan # global lower bound\n",
    "        self.global_U = np.nan  # global upper bound        \n",
    "\n",
    "        self.action_set_indices = None \n",
    "        # current active node\n",
    "        self.active_node = None\n",
    "\n",
    "        self.global_U_ind = None\n",
    "        self.failed_reward = -2000\n",
    "\n",
    "        self.node_select_model = None\n",
    "\n",
    "        self.init_U = 999999\n",
    "        self.node_select_policy = self.default_node_select        \n",
    "        \n",
    "        self.z_incumbent = None\n",
    "        self.W_incumbent = None\n",
    "        self.current_opt_node = None\n",
    "        self.min_bound_gap = None\n",
    "\n",
    "        if node_select_policy_path == 'default':\n",
    "            self.node_select_policy = self.default_node_select\n",
    "        elif node_select_policy_path == 'oracle':\n",
    "            self.node_select_policy = self.oracle_node_select\n",
    "        else:\n",
    "            if policy_type=='gnn':\n",
    "                self.node_select_model = GNNPolicy()\n",
    "                self.node_select_model.load_state_dict(torch.load(node_select_policy_path))\n",
    "                self.node_select_policy = self.learnt_node_select\n",
    "            if policy_type=='linear':\n",
    "                self.node_select_model = FCNNodeSelectionLinearPolicy()\n",
    "                self.node_select_model.load_state_dict(torch.load(node_select_policy_path))\n",
    "                self.node_select_policy = self.learnt_node_select\n",
    "                \n",
    "        self.observation_function = observation_function\n",
    "        self.include_heuristic_solutions = False\n",
    "        self.heuristic_solutions = []\n",
    "        \n",
    "        self.bm_solver = None\n",
    "\n",
    "    def set_heuristic_solutions(self, solution):\n",
    "        \"\"\"\n",
    "        Provide antenna selections provided by heuristic methods in order to incorporate them into the BB\n",
    "        \"\"\"\n",
    "        self.include_heuristic_solutions = True\n",
    "        self.heuristic_solutions.append(solution)\n",
    "\n",
    "\n",
    "    def reset(self, instance, max_ant,  oracle_opt=None):\n",
    "        \n",
    "        # clear all variables\n",
    "        self.H = None\n",
    "        self.nodes = []  # list of problems (nodes)\n",
    "        self.all_nodes = []\n",
    "        self.optimal_nodes = []\n",
    "        self.node_index_count = 0\n",
    "\n",
    "        self.L_list = []    # list of lower bounds on the problem\n",
    "        self.U_list = []    # list of upper bounds on the problem\n",
    "        self.global_L = np.nan # global lower bound\n",
    "        self.global_U = np.nan  # global upper bound        \n",
    "        self.action_set_indices = None \n",
    "        self.active_node = None\n",
    "        self.global_U_ind = None\n",
    "        self.num_nodes = 1\n",
    "\n",
    "        self.H = instance\n",
    "        self.H_complex = self.H[0,:,:] + self.H[1,:,:]*1j\n",
    "\n",
    "        self.bm = Beamforming(self.H_complex, max_ant=max_ant)\n",
    "        self.bm_with_antennas = BeamformingWithSelectedAntennas(self.H_complex, max_ant=max_ant)\n",
    "\n",
    "        self.bm2 = Beamforming(self.H_complex, max_ant=max_ant)\n",
    "        self.bm_with_antennas2 = BeamformingWithSelectedAntennas(self.H_complex, max_ant=max_ant)\n",
    "\n",
    "        self.min_bound_gap = np.ones(self.H.shape[-1])*0.01\n",
    "        \n",
    "        self.max_ant = max_ant\n",
    "\n",
    "        # number of transmitters and users\n",
    "        _, self.N, self.M = self.H.shape \n",
    "        self._is_reset = True\n",
    "        self.action_set_indices = np.arange(1,self.N)\n",
    "\n",
    "        # boolean vars corresponding to each antenna denoting its selection if True\n",
    "        z_mask = np.zeros(self.N)\n",
    "        # values of z (selection var) at the z_mask locations\n",
    "        # for the root node it does not matter\n",
    "        z_sol = np.zeros(self.N)\n",
    "\n",
    "        done = False\n",
    "        # initialize the root node \n",
    "        # try:\n",
    "        # [z, W, lower_bound] = solve_beamforming_relaxed(self.H_complex, max_ant=self.max_ant, z_mask=z_mask, z_sol=z_sol)\n",
    "        [z, W, lower_bound, optimal] = self.bm.solve_beamforming(z_mask=z_mask, z_sol=z_sol)\n",
    "        # except:\n",
    "        #     print(\"exeption occured\")\n",
    "        #     return None, self.action_set_indices, -1000, done, None\n",
    "        print('\\n solution in reset {}, optimality {}\\n'.format(sum(z), optimal))\n",
    "\n",
    "        self.global_L = lower_bound\n",
    "        # print('reset z, H', z, self.H_complex.shape)\n",
    "        self.z_incumbent = self.get_feasible_z(z, self.max_ant)\n",
    "        # W_feas, self.global_U = solve_beamforming_with_selected_antennas(self.H_complex, self.z_incumbent)\n",
    "        [W_feas, self.global_U, optimal] = self.bm_with_antennas.solve_beamforming(z=self.z_incumbent)\n",
    "\n",
    "        # [z_feas, W_feas, L_feas, optimal] = self.bm.solve_beamforming(z_mask = np.ones(self.N), z_sol=self.z_incumbent)\n",
    "        # print('\\n upper bound using relaxed solver', L_feas, optimal)\n",
    "\n",
    "        if not self.global_U == np.inf:\n",
    "            self.W_incumbent = W_feas.copy()\n",
    "        else:\n",
    "            self.W_incumbent = np.zeros(self.H_complex.shape)\n",
    "\n",
    "        self.active_node = Node(z_mask=z_mask, z_sol=z, z_feas=self.z_incumbent, W_sol = W, U=self.global_U, L=lower_bound, depth=1, node_index=self.node_index_count) \n",
    "        self.current_opt_node = self.active_node\n",
    "        \n",
    "        self.active_node_index = 0\n",
    "        self.nodes.append(self.active_node)\n",
    "        self.L_list.append(lower_bound)\n",
    "        self.U_list.append(self.global_U)\n",
    "        self.all_nodes.append(self.active_node)\n",
    "\n",
    "        done = False\n",
    "        if self.is_terminal():\n",
    "            done = True\n",
    "        reward = 0\n",
    "\n",
    "        # TODO: build observation function\n",
    "        observation = self.observation_function().extract(self)\n",
    "        # observation = None\n",
    "\n",
    "        if oracle_opt is not None:\n",
    "            self.oracle_opt = oracle_opt\n",
    "        else:\n",
    "            self.oracle_opt = np.zeros(self.N)\n",
    "        self.z_ref = np.array([ 0, 0,  1, 0, 0,  1,  1, 0])\n",
    "        return \n",
    "\n",
    "    def push_children(self, action_id, node_id, parallel=False):\n",
    "        \n",
    "        self.delete_node(node_id)\n",
    "        print('deleting node id ', node_id)\n",
    "        if action_id == None:\n",
    "            return\n",
    "        \n",
    "        if self.is_optimal(self.active_node, oracle_opt=self.z_ref):\n",
    "            print('\\n*******************')\n",
    "            print('optimal node')\n",
    "            print('*******************\\n')\n",
    "            print(self.active_node.z_mask)\n",
    "            print(self.active_node.z_sol)\n",
    "        \n",
    "        if sum(self.active_node.z_mask*self.active_node.z_sol) == self.max_ant:\n",
    "            print('\\n #####################')\n",
    "            print('current node is already determined')\n",
    "            print()\n",
    "            return \n",
    "\n",
    "        max_possible_ant = sum(self.active_node.z_mask*self.active_node.z_sol) + sum(1-self.active_node.z_mask)\n",
    "        if max_possible_ant < self.max_ant:\n",
    "            # this condition should never occur (node would be infeasible, sum(z) != 1)\n",
    "            print('\\n*******************')\n",
    "            print('exception: max antenna possible < L')\n",
    "            return \n",
    "        elif max_possible_ant == self.max_ant:\n",
    "            # this condition should also never occur\n",
    "            print('\\n*******************')\n",
    "            print('exception: max antenna possible = L')\n",
    "            self.active_node.z_sol = self.active_node.z_mask*self.active_node.z_sol + (1-self.active_node.z_mask)*np.ones(self.N)\n",
    "            self.active_node.z_mask = np.ones(self.N)\n",
    "            return \n",
    "        else:\n",
    "            # print(self.active_node.z_mask, self.active_node.z_sol)\n",
    "            z_mask_left = self.active_node.z_mask.copy()\n",
    "            z_mask_left[action_id] = 1\n",
    "\n",
    "            z_mask_right = self.active_node.z_mask.copy()\n",
    "            z_mask_right[action_id] = 1\n",
    "\n",
    "            z_sol_left = self.active_node.z_sol.copy()\n",
    "            z_sol_left[action_id] = 0\n",
    "\n",
    "            z_sol_right = self.active_node.z_sol.copy()\n",
    "            z_sol_right[action_id] = 1\n",
    "\n",
    "            if sum(z_sol_right*z_mask_right) == self.max_ant:\n",
    "                z_sol_right = z_sol_right*z_mask_right\n",
    "                z_mask_right = np.ones(self.N)\n",
    "\n",
    "        children_sets = []\n",
    "        children_sets.append([z_mask_left.copy() , z_sol_left.copy()])\n",
    "        children_sets.append([z_mask_right.copy() , z_sol_right.copy()])\n",
    "        # children_sets[0].append(1)\n",
    "        # children_sets[1].append(2)\n",
    "\n",
    "        children_stats = []\n",
    "        if DEBUG:\n",
    "            print('expanding node id {}, children {}, lb {}, z_inc {}'.format(self.active_node.node_index, (self.active_node.z_mask, self.active_node.z_sol), self.active_node.L, self.z_incumbent))\n",
    "        \n",
    "        if parallel:\n",
    "            arguments = list(zip(children_sets, \n",
    "                                [self.bm, self.bm2], \n",
    "                                [self.bm_with_antennas, self.bm_with_antennas2], \n",
    "                                [self.max_ant]*2, \n",
    "                                [self.active_node]*2, \n",
    "                                [self.epsilon]*2, \n",
    "                                [self.node_index_count+1, self.node_index_count+2], \n",
    "                                [self.global_U]*2))\n",
    "            print('args', len(arguments), len(arguments[0]))\n",
    "            with Pool(2) as p:\n",
    "                children_stats = p.map(ASBBenv.create_children_par, arguments)\n",
    "                print('children stats', children_stats)\n",
    "        else:\n",
    "            for subset in children_sets:\n",
    "                if DEBUG:\n",
    "                    print('\\n creating children {}'.format(subset))\n",
    "                children_stats.append(self.create_children(subset))\n",
    "\n",
    "        for stat in children_stats:\n",
    "            U, L, _, _, new_node = stat\n",
    "            if new_node is not None:\n",
    "                self.L_list.append(L)\n",
    "                self.U_list.append(U)\n",
    "                self.nodes.append(new_node)\n",
    "                self.all_nodes.append(new_node)\n",
    "        # arguments_ml = list(zip(list(instances), optimal_solution_list, optimal_objective_list, range(num_egs), [MODEL_FILEPATH]*num_egs, [max_ant]*num_egs, mask_omar))\n",
    "        # with Pool(num_egs) as p:\n",
    "        # out_ml = p.map(collect_data_instance, arguments_ml)\n",
    "\n",
    "\n",
    "        \n",
    "        if len(self.nodes) == 0:\n",
    "            print('zero nodes')\n",
    "            return\n",
    "\n",
    "        # Update the global upper and lower bound \n",
    "        # update the incumbent solutions\n",
    "        min_L_child = min([children_stats[i][1] for i in range(len(children_stats))])\n",
    "        self.global_L = min(min(self.L_list), min_L_child)\n",
    "        print('\\n L list', self.L_list)\n",
    "        min_U_index = np.argmin([children_stats[i][0] for i in range(len(children_stats))])\n",
    "        if self.global_U > children_stats[min_U_index][0]:\n",
    "            # print('node depth at global U update {}'.format(self.active_node.depth + 1))\n",
    "            self.global_U = children_stats[min_U_index][0] \n",
    "            self.z_incumbent = children_stats[min_U_index][2].copy()\n",
    "            self.w_incumbent = children_stats[min_U_index][3].copy()\n",
    "            \n",
    "    @staticmethod\n",
    "    def create_children_par(arguments):\n",
    "        \"\"\"\n",
    "        Create the Node with the constraint set\n",
    "        Compute the local lower and upper bounds \n",
    "        return the computed bounds for the calling function to update\n",
    "        \"\"\"\n",
    "        (z_mask, z_sol), bm, bm_with_antennas, max_ant, active_node, epsilon, node_index_count, global_U = arguments\n",
    "        N = z_mask.shape[0]\n",
    "\n",
    "        # check if the maximum number of antennas are already selected or all antennas are already assigned (z is fully assigned)\n",
    "        if np.sum(z_mask*np.round(z_sol))==max_ant:\n",
    "            z_sol = np.round(z_sol)*z_mask\n",
    "            [W, L, optimal] = bm_with_antennas.solve_beamforming(z=z_sol)\n",
    "            print('antennas: upper bound ', L)\n",
    "            # check this constraint\n",
    "            if not optimal:\n",
    "                print('antennas: {} not optimal, may be infeasible'.format(None))\n",
    "                return np.inf, np.inf, np.zeros(N), np.zeros(N), None\n",
    "\n",
    "            \n",
    "            assert L >= active_node.L - epsilon, 'selected antennas: lower bound of child node less than that of parent'\n",
    "\n",
    "            z_feas = z_sol.copy()\n",
    "\n",
    "            #TODO: implement get_objective\n",
    "            U = np.linalg.norm(W*np.expand_dims(z_feas, 1), 'fro')**2 \n",
    "            \n",
    "            # create and append node\n",
    "            new_node = Node(z_mask=z_mask,\n",
    "                            z_sol=z_sol,\n",
    "                            z_feas=z_feas,\n",
    "                            W_sol=W,\n",
    "                            U=U,\n",
    "                            L=L,\n",
    "                            depth=active_node.depth+1,\n",
    "                            node_index=node_index_count\n",
    "                            )\n",
    "            return U, L, z_feas, W, new_node\n",
    "\n",
    "        elif np.sum(z_mask*np.round(z_sol))> max_ant:\n",
    "            return np.inf, np.inf, np.zeros(N), np.zeros(N), None\n",
    "\n",
    "        else:\n",
    "            # print('solving relaxed with z_mask {}, z_sol {}'.format(z_mask, z_sol))\n",
    "            # print('now solving relaxed problem')\n",
    "            [z, W, L, optimal] = bm.solve_beamforming(\n",
    "                                                    z_sol=z_sol,\n",
    "                                                    z_mask=z_mask,\n",
    "                                                    T=min(np.sqrt(global_U), 1000))\n",
    "\n",
    "            print('relaxed lower bound ', L)\n",
    "            \n",
    "            # check this constraint                                                                    \n",
    "            if not optimal:\n",
    "                if DEBUG:\n",
    "                    # print('relaxed: {} not optimal, may be infeasible'.format((self.H, z_mask, z_sol, l_angle, u_angle, self.max_ant, min(np.sqrt(self.global_U), 1000))))\n",
    "                    print('relaxed: not optimla', z,L,optimal)\n",
    "                else:\n",
    "                    print('relaxed: not optimal, may be infeasible')\n",
    "                return np.inf, np.inf, np.zeros(N), np.zeros(N), None\n",
    "\n",
    "            assert L >= active_node.L - epsilon, 'relaxed: lower bound of child node less than that of parent'\n",
    "\n",
    "            if not L == np.inf:\n",
    "                # if the z is nearly determined round it\n",
    "                temp = (1-z_mask)*(np.abs(z - 0.5))\n",
    "                z_mask[temp>0.499] = 1\n",
    "                z = np.round(z_mask*z) + (1-z_mask)*z\n",
    "                \n",
    "                z_feas = ASBBenv.get_feasible_z(z, max_ant)\n",
    "                [W_feas, L_feas_relaxed, optimal] =  bm_with_antennas.solve_beamforming(z=z_feas)\n",
    "                print('relaxed upper bound', L_feas_relaxed)\n",
    "                if optimal:\n",
    "                    U = np.linalg.norm(W_feas*np.expand_dims(z_feas, 1), 'fro')**2\n",
    "                else:\n",
    "                    U = np.inf\n",
    "                print('get obj upper bound', U)\n",
    "\n",
    "                # create and append node\n",
    "                new_node = Node(z_mask=z_mask,\n",
    "                                z_sol=z,\n",
    "                                z_feas=z_feas,\n",
    "                                W_sol=W,\n",
    "                                U=U,\n",
    "                                L=L,\n",
    "                                depth=active_node.depth+1,\n",
    "                                node_index=node_index_count\n",
    "                                )                                         \n",
    "                return U, L, z_feas, W, new_node\n",
    "            \n",
    "            else:\n",
    "                return np.inf, np.inf, np.zeros(N), np.zeros(N), None\n",
    "\n",
    "    def create_children(self, constraint_set):\n",
    "        \"\"\"\n",
    "        Create the Node with the constraint set\n",
    "        Compute the local lower and upper bounds \n",
    "        return the computed bounds for the calling function to update\n",
    "        \"\"\"\n",
    "        z_mask, z_sol, id = constraint_set \n",
    "        print('creating children', z_mask)\n",
    "        if id == 1:\n",
    "            bm_with_antennas = self.bm_with_antennas\n",
    "            bm = self.bm\n",
    "        else:\n",
    "            bm_with_antennas = self.bm_with_antennas2\n",
    "            bm = self.bm2\n",
    "\n",
    "        # check if the maximum number of antennas are already selected or all antennas are already assigned (z is fully assigned)\n",
    "        if np.sum(z_mask*np.round(z_sol))==self.max_ant:\n",
    "            z_sol = np.round(z_sol)*z_mask\n",
    "            [W, L, optimal] = bm_with_antennas.solve_beamforming(z=z_sol)\n",
    "            print('antennas: upper bound ', L)\n",
    "            # check this constraint\n",
    "            if not optimal:\n",
    "                print('antennas: {} not optimal, may be infeasible'.format(None))\n",
    "                return np.inf, np.inf, np.zeros(self.N), np.zeros(self.N), None\n",
    "\n",
    "            if not L >= self.active_node.L - self.epsilon:\n",
    "                print('asserting', L >= self.active_node.L - self.epsilon, constraint_set, self.active_node.z_mask, self.active_node.z_sol)\n",
    "                time.sleep(5)\n",
    "            assert L >= self.active_node.L - self.epsilon, 'selected antennas: lower bound of child node less than that of parent'\n",
    "\n",
    "            z_feas = z_sol.copy()\n",
    "\n",
    "            #TODO: implement get_objective\n",
    "            U = self.get_objective(W, z_feas)\n",
    "\n",
    "            # create and append node\n",
    "            self.node_index_count += 1\n",
    "            new_node = Node(z_mask=z_mask,\n",
    "                            z_sol=z_sol,\n",
    "                            z_feas=z_feas,\n",
    "                            W_sol=W,\n",
    "                            U=U,\n",
    "                            L=L,\n",
    "                            depth=self.active_node.depth+1,\n",
    "                            node_index=self.node_index_count\n",
    "                            )\n",
    "            # self.L_list.append(L)\n",
    "            # self.U_list.append(U)\n",
    "            # self.nodes.append(new_node)\n",
    "            # self.all_nodes.append(new_node)\n",
    "            return U, L, z_feas, W, new_node\n",
    "\n",
    "        elif np.sum(z_mask*np.round(z_sol))>self.max_ant:\n",
    "            return np.inf, np.inf, np.zeros(self.N), np.zeros(self.N), None\n",
    "\n",
    "        else:\n",
    "            # print('solving relaxed with z_mask {}, z_sol {}'.format(z_mask, z_sol))\n",
    "            # print('now solving relaxed problem')\n",
    "            [z, W, L, optimal] = bm.solve_beamforming(\n",
    "                                                        z_sol=z_sol,\n",
    "                                                        z_mask=z_mask,\n",
    "                                                        T=min(np.sqrt(self.global_U), 1000))\n",
    "\n",
    "            print('relaxed lower bound ', L)\n",
    "            \n",
    "            # check this constraint                                                                    \n",
    "            if not optimal:\n",
    "                if DEBUG:\n",
    "                    # print('relaxed: {} not optimal, may be infeasible'.format((self.H, z_mask, z_sol, l_angle, u_angle, self.max_ant, min(np.sqrt(self.global_U), 1000))))\n",
    "                    print('relaxed: not optimla', z,L,optimal)\n",
    "                else:\n",
    "                    print('relaxed: not optimal, may be infeasible')\n",
    "                return np.inf, np.inf, np.zeros(self.N), np.zeros(self.N), None\n",
    "\n",
    "            if L < self.active_node.L - self.epsilon:\n",
    "                print('child node', constraint_set, L)   \n",
    "                print('parent node', self.active_node.z_mask, self.active_node.z_sol, self.active_node.l_angle, self.active_node.u_angle, self.active_node.L)                                             \n",
    "                print(self.H)\n",
    "\n",
    "            \n",
    "            assert L >= self.active_node.L - self.epsilon, 'relaxed: lower bound of child node less than that of parent'\n",
    "\n",
    "            if not L == np.inf:\n",
    "                # if the z is nearly determined round it\n",
    "                temp = (1-z_mask)*(np.abs(z - 0.5))\n",
    "                z_mask[temp>0.499] = 1\n",
    "                z = np.round(z_mask*z) + (1-z_mask)*z\n",
    "                \n",
    "                z_feas = self.get_feasible_z(z, self.max_ant)\n",
    "                [W_feas, L_feas_relaxed, optimal] =  bm_with_antennas.solve_beamforming(z=z_feas)\n",
    "                print('relaxed upper bound', L_feas_relaxed)\n",
    "                if optimal:\n",
    "                    U = self.get_objective(W_feas, z_feas)\n",
    "                else:\n",
    "                    U = np.inf\n",
    "                print('get obj upper bound', U)\n",
    "\n",
    "                # create and append node\n",
    "                self.node_index_count += 1\n",
    "                new_node = Node(z_mask=z_mask,\n",
    "                                z_sol=z,\n",
    "                                z_feas=z_feas,\n",
    "                                W_sol=W,\n",
    "                                U=U,\n",
    "                                L=L,\n",
    "                                depth=self.active_node.depth+1,\n",
    "                                node_index=self.node_index_count\n",
    "                                )\n",
    "                # self.L_list.append(L)\n",
    "                # self.U_list.append(U)\n",
    "                # self.nodes.append(new_node)\n",
    "                # self.all_nodes.append(new_node)\n",
    "                                                                                    \n",
    "                return U, L, z_feas, W, new_node\n",
    "            \n",
    "            else:\n",
    "                return np.inf, np.inf, np.zeros(self.N), np.zeros(self.N), None\n",
    "\n",
    "    def get_objective(self, W, z_feas):\n",
    "        return np.linalg.norm(W*np.expand_dims(z_feas, 1), 'fro')**2\n",
    "\n",
    "    def set_node_select_policy(self, node_select_policy_path='default', policy_type='gnn'):\n",
    "        if node_select_policy_path=='default':\n",
    "            self.node_select_policy = 'default'\n",
    "        elif node_select_policy_path == 'oracle':\n",
    "            self.node_select_policy = 'oracle'\n",
    "        else:\n",
    "            if policy_type == 'gnn':\n",
    "                self.node_select_model = GNNNodeSelectionPolicy()\n",
    "                # self.node_select_model.load_state_dict(node_select_policy_path.state_dict())\n",
    "                print('policy path', node_select_policy_path)\n",
    "                model_state_dict = torch.load(node_select_policy_path)\n",
    "                self.node_select_model.load_state_dict(model_state_dict)\n",
    "                self.node_select_policy = 'ml_model'\n",
    "\n",
    "            elif policy_type == 'linear':\n",
    "                self.node_select_model = FCNNodeSelectionLinearPolicy()\n",
    "                # self.node_select_model.load_state_dict(node_select_policy_path.state_dict())\n",
    "                self.node_select_model.load_state_dict(node_select_policy_path)\n",
    "                self.node_select_policy = 'ml_model'\n",
    "\n",
    "    def select_variable_default(self):\n",
    "        z_sol_rel = (1-self.active_node.z_mask)*(np.abs(self.active_node.z_sol - 0.5))\n",
    "        return np.argmax(z_sol_rel)\n",
    "\n",
    "\n",
    "\n",
    "    def select_node(self):\n",
    "        node_id = 0\n",
    "        while len(self.nodes)>0:\n",
    "            node_id = self.rank_nodes()\n",
    "            # fathomed = self.fathom(node_id)\n",
    "            # if fathomed:\n",
    "            #     print('fathomed')\n",
    "            #     continue\n",
    "            self.active_node = self.nodes[node_id]\n",
    "            break\n",
    "        return node_id, self.observation_function().extract(self), self.is_optimal(self.active_node)\n",
    "\n",
    "\n",
    "    def prune(self, observation):\n",
    "        if isinstance(observation, Observation):\n",
    "            observation = get_graph_from_obs(observation, self.action_set_indices)\n",
    "        elif isinstance(observation, LinearObservation):\n",
    "            observation = torch.tensor(observation.observation, dtype=torch.float32).unsqueeze(0)\n",
    "        if self.node_select_policy == 'oracle':\n",
    "            return not self.is_optimal(self.active_node)\n",
    "        elif self.node_select_policy == 'default':\n",
    "            return False\n",
    "        else:\n",
    "            # out = self.node_select_model(observation.antenna_features, observation.edge_index, observation.edge_attr, observation.variable_features) \n",
    "            # out = out.sum()\n",
    "            # out = self.sigmoid(out) \n",
    "            if self.include_heuristic_solutions:\n",
    "                heuristic_match = self.contains_heuristic(self.active_node)\n",
    "                if heuristic_match:\n",
    "                    return False\n",
    "\n",
    "            with torch.no_grad():\n",
    "                out = self.node_select_model(observation, 1)\n",
    "\n",
    "            if out < 0.5:\n",
    "                # print('prune')\n",
    "                return True\n",
    "            else:\n",
    "                # print('select')\n",
    "                return False\n",
    "\n",
    "    def rank_nodes(self):\n",
    "        return np.argmin(self.L_list)\n",
    "\n",
    "    def fathom_nodes(self):\n",
    "        del_ind = np.argwhere(np.array(self.L_list) > self.global_U + self.epsilon)\n",
    "        if len(del_ind)>0:\n",
    "            del_ind = sorted(list(del_ind.squeeze(axis=1)))\n",
    "            for i in reversed(del_ind):\n",
    "                self.delete_node(i)\n",
    "        \n",
    "    def fathom(self, node_id):\n",
    "        if self.nodes[node_id].L > self.global_U:\n",
    "            self.delete_node(node_id)\n",
    "            return True\n",
    "        return False\n",
    "\n",
    "    def delete_node(self, node_id):\n",
    "        del self.nodes[node_id]\n",
    "        del self.L_list[node_id]\n",
    "        del self.U_list[node_id]\n",
    "\n",
    "    def is_optimal(self, node, oracle_opt=None):\n",
    "        if oracle_opt is None:\n",
    "            oracle = self.oracle_opt\n",
    "        else:\n",
    "            oracle = oracle_opt\n",
    "        if np.linalg.norm(node.z_mask*(node.z_sol - oracle)) < 0.0001:\n",
    "            return True\n",
    "        else:\n",
    "            return False\n",
    "\n",
    "    def contains_heuristic(self, node):\n",
    "        contains = False\n",
    "        for heuristic_sol in self.heuristic_solutions:\n",
    "            if np.linalg.norm(node.z_mask*(node.z_sol - heuristic_sol)) < 0.0001:\n",
    "                contains = True\n",
    "                break\n",
    "        return contains\n",
    "\n",
    "    def is_terminal(self):\n",
    "        if (self.global_U - self.global_L)/abs(self.global_U) < self.epsilon:\n",
    "            return True\n",
    "        else:\n",
    "            return False\n",
    "\n",
    "    def default_node_select(self):\n",
    "        \"\"\"\n",
    "        Use the node with the lowest lower bound\n",
    "        \"\"\"\n",
    "        return np.argmin(self.L_list)\n",
    "\n",
    "    @staticmethod\n",
    "    def get_feasible_z(z, max_ant):\n",
    "        z_round = np.round(z)\n",
    "        if np.sum(z_round) <= max_ant:\n",
    "            return z_round\n",
    "        else:\n",
    "            mask = np.zeros(len(z))\n",
    "            mask[np.argsort(z)[len(z)-max_ant:]] = 1\n",
    "            return mask\n",
    "\n",
    "\n",
    "\n",
    "def solve_bb(instance, max_ant=5, max_iter=10000, policy='default', policy_type='gnn', oracle_opt=None):\n",
    "    t1 = time.time()\n",
    "    if policy_type == 'default':\n",
    "        env = ASBBenv(observation_function=Observation, epsilon=0.001)\n",
    "    elif policy_type == 'gnn':\n",
    "        env = ASBBenv(observation_function=Observation, epsilon=0.001)\n",
    "    elif policy_type == 'linear':\n",
    "        env = ASBBenv(observation_function=LinearObservation, epsilon=0.001)\n",
    "    elif policy_type == 'oracle':\n",
    "        env = ASBBenv(observation_function=Observation, epsilon=0.001)\n",
    "        pass\n",
    "\n",
    "    branching_policy = DefaultBranchingPolicy()\n",
    "\n",
    "    t1 = time.time()\n",
    "\n",
    "    env.reset(instance, max_ant=max_ant)\n",
    "    timestep = 0\n",
    "    done = False\n",
    "    while timestep < max_iter and len(env.nodes)>0 and not done:\n",
    "        print('timestep', timestep, env.global_U, env.global_L)\n",
    "        \n",
    "        env.fathom_nodes()\n",
    "        if len(env.nodes) == 0:\n",
    "            break\n",
    "        node_id, node_feats, label = env.select_node()\n",
    "        \n",
    "        if len(env.nodes) == 0:\n",
    "            break\n",
    "        # prune_node = env.prune(node_feats)\n",
    "        # if prune_node:\n",
    "        #     env.delete_node(node_id)\n",
    "        #     continue\n",
    "        # else:\n",
    "        branching_var = branching_policy.select_variable(node_feats, env.action_set_indices)\n",
    "        done = env.push_children(branching_var, node_id, parallel=True)\n",
    "        timestep = timestep+1\n",
    "\n",
    "    print('ended')\n",
    "    print(env.z_incumbent)\n",
    "    # returns the solution, objective value, timestep and the time taken\n",
    "    return env.z_incumbent.copy(), env.global_U, timestep , time.time()-t1\n",
    "\n",
    "if __name__ == '__main__':\n",
    "    np.random.seed(seed = 100)\n",
    "    N = 8\n",
    "    M = 5\n",
    "    max_ant = 3\n",
    "    \n",
    "    u_avg = 0\n",
    "    t_avg = 0\n",
    "    tstep_avg = 0\n",
    "    for i in range(1):\n",
    "        H = np.random.randn(N, M) + 1j*np.random.randn(N,M)    \n",
    "        instance = np.stack((np.real(H), np.imag(H)), axis=0)\n",
    "        _, global_U, timesteps, t = solve_bb(instance, max_ant=max_ant, max_iter = 7000)\n",
    "        u_avg += global_U\n",
    "        t_avg += t\n",
    "        tstep_avg += timesteps\n",
    "\n",
    "    print(u_avg, t_avg, tstep_avg, u_avg)\n",
    "\n",
    "    # print('bb solution: {}, optimal: {}'.format(global_U, optimal_f) )\n"
   ]
  },
  {
   "cell_type": "code",
   "execution_count": 48,
   "id": "e06b54a4",
   "metadata": {},
   "outputs": [],
   "source": [
    "N, M, L = 8,5,3\n",
    "\n",
    "\n",
    "class Node(object):\n",
    "    def __init__(self, z_mask=None, z_sol=None, z_feas=None, W_sol=None, U=False, L=False, depth=0, parent_node=None, node_index = 0):\n",
    "        \"\"\"\n",
    "        @params: \n",
    "            z_mask: vector of boolean, True means that the current variable is boolean\n",
    "            z_sol: value of z at the solution of the cvx relaxation\n",
    "            z_feas: value of z after making z_sol feasible (i.e. boolean)\n",
    "            U: True if it is the current global upper bound\n",
    "            L: True if it is the current global lower bound\n",
    "            depth: depth of the node from the root of the BB tree\n",
    "            node_index: unique index assigned to the node in the BB tree\n",
    "        \"\"\"\n",
    "        self.z_mask = z_mask.copy()\n",
    "        self.z_sol = z_sol.copy()\n",
    "        self.z_feas = z_feas.copy()\n",
    "        self.W_sol = W_sol.copy()\n",
    "        self.U = U\n",
    "        self.L = L\n",
    "        self.depth = depth\n",
    "        self.parent_node = parent_node\n",
    "        self.node_index = node_index\n",
    "        \n",
    "    def copy(self):\n",
    "        N,M = self.W_sol.shape\n",
    "        new_node = Node(z_mask=np.zeros(N), \n",
    "                         z_sol=np.zeros(N), \n",
    "                         z_feas=np.zeros(N), \n",
    "                         W_sol=np.zeros((N,M)), \n",
    "                         U=10, \n",
    "                         L=0, \n",
    "                         depth=0, \n",
    "                         parent_node=None, \n",
    "                         node_index = 0)\n",
    "        return new_node\n",
    "\n",
    "a = Node(z_mask=np.zeros(N), \n",
    "         z_sol=np.zeros(N), \n",
    "         z_feas=np.zeros(N), \n",
    "         W_sol=np.zeros((N,M)), \n",
    "         U=10, \n",
    "         L=0, \n",
    "         depth=0, \n",
    "         parent_node=None, \n",
    "         node_index = 0)\n",
    "b = a.copy()\n",
    "c = a.copy()"
   ]
  },
  {
   "cell_type": "code",
   "execution_count": 49,
   "id": "6a38d594",
   "metadata": {},
   "outputs": [
    {
     "data": {
      "text/plain": [
       "<__main__.Node at 0x7fbdd0438cf8>"
      ]
     },
     "execution_count": 49,
     "metadata": {},
     "output_type": "execute_result"
    }
   ],
   "source": [
    "b"
   ]
  },
  {
   "cell_type": "code",
   "execution_count": 50,
   "id": "ced7b81a",
   "metadata": {},
   "outputs": [
    {
     "data": {
      "text/plain": [
       "<__main__.Node at 0x7fbdd0438a90>"
      ]
     },
     "execution_count": 50,
     "metadata": {},
     "output_type": "execute_result"
    }
   ],
   "source": [
    "c"
   ]
  },
  {
   "cell_type": "code",
   "execution_count": 51,
   "id": "f5f63125",
   "metadata": {},
   "outputs": [
    {
     "data": {
      "text/plain": [
       "<__main__.Node at 0x7fbdd0438a58>"
      ]
     },
     "execution_count": 51,
     "metadata": {},
     "output_type": "execute_result"
    }
   ],
   "source": [
    "a"
   ]
  },
  {
   "cell_type": "code",
   "execution_count": 52,
   "id": "5995f026",
   "metadata": {},
   "outputs": [],
   "source": [
    "d = a"
   ]
  },
  {
   "cell_type": "code",
   "execution_count": 53,
   "id": "727879be",
   "metadata": {},
   "outputs": [
    {
     "data": {
      "text/plain": [
       "<__main__.Node at 0x7fbdd0438a58>"
      ]
     },
     "execution_count": 53,
     "metadata": {},
     "output_type": "execute_result"
    }
   ],
   "source": [
    "d"
   ]
  },
  {
   "cell_type": "code",
   "execution_count": 41,
   "id": "4eefd903",
   "metadata": {},
   "outputs": [
    {
     "ename": "AttributeError",
     "evalue": "'Node' object has no attribute 'copy'",
     "output_type": "error",
     "traceback": [
      "\u001b[0;31m---------------------------------------------------------------------------\u001b[0m",
      "\u001b[0;31mAttributeError\u001b[0m                            Traceback (most recent call last)",
      "\u001b[0;32m<ipython-input-41-02bb7baf10a6>\u001b[0m in \u001b[0;36m<module>\u001b[0;34m\u001b[0m\n\u001b[0;32m----> 1\u001b[0;31m \u001b[0ma\u001b[0m\u001b[0;34m.\u001b[0m\u001b[0mcopy\u001b[0m\u001b[0;34m(\u001b[0m\u001b[0;34m)\u001b[0m\u001b[0;34m\u001b[0m\u001b[0;34m\u001b[0m\u001b[0m\n\u001b[0m",
      "\u001b[0;31mAttributeError\u001b[0m: 'Node' object has no attribute 'copy'"
     ]
    }
   ],
   "source": [
    "a.copy()"
   ]
  },
  {
   "cell_type": "code",
   "execution_count": null,
   "id": "63fd1580",
   "metadata": {},
   "outputs": [],
   "source": []
  },
  {
   "cell_type": "code",
   "execution_count": null,
   "id": "f3087098",
   "metadata": {},
   "outputs": [],
   "source": []
  }
 ],
 "metadata": {
  "kernelspec": {
   "display_name": "Python 3",
   "language": "python",
   "name": "python3"
  },
  "language_info": {
   "codemirror_mode": {
    "name": "ipython",
    "version": 3
   },
   "file_extension": ".py",
   "mimetype": "text/x-python",
   "name": "python",
   "nbconvert_exporter": "python",
   "pygments_lexer": "ipython3",
   "version": "3.6.8"
  }
 },
 "nbformat": 4,
 "nbformat_minor": 5
}
