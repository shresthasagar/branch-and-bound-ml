{
 "cells": [
  {
   "cell_type": "code",
   "execution_count": 59,
   "id": "56d35564",
   "metadata": {},
   "outputs": [
    {
     "name": "stdout",
     "output_type": "stream",
     "text": [
      "[[-0.01144787-0.01180469j -0.01559544-0.0032558j ]\n",
      " [ 0.02840486-0.02429711j -0.0023478 +0.04197601j]\n",
      " [-0.07357254+0.03371111j -0.01350595+0.11841373j]\n",
      " [-0.00015261-0.01618464j  0.0067697 +0.03383853j]\n",
      " [-0.04007321+0.06364236j  0.02661526+0.0089671j ]\n",
      " [ 0.04786561+0.05364511j -0.0623281 -0.00412571j]\n",
      " [-0.07832796-0.04161672j -0.069665  +0.02894552j]\n",
      " [-0.08115071+0.08236947j  0.00253385-0.09190328j]\n",
      " [ 0.01967615-0.02190635j  0.05210976-0.03164581j]\n",
      " [ 0.03082417+0.03671595j  0.05895479+0.03424878j]\n",
      " [-0.02761169-0.01847614j  0.06625997-0.1121177j ]\n",
      " [-0.01760637+0.01202843j -0.09067836+0.02479937j]\n",
      " [ 0.00150578-0.02660632j -0.00072486+0.06517021j]\n",
      " [-0.00357548-0.07619498j  0.0528799 -0.03504743j]\n",
      " [ 0.04086585-0.16538789j -0.03761601-0.00519723j]\n",
      " [-0.04457805-0.0290101j   0.07116224+0.00585452j]]\n",
      "0.29193692448144604\n"
     ]
    }
   ],
   "source": [
    "import cvxpy as cp\n",
    "import numpy as np\n",
    "\n",
    "N,M = 16,16\n",
    "K = 2\n",
    "H = np.random.randn(N,K) + 1j*np.random.randn(N,K)\n",
    "\n",
    "noise_var = 2\n",
    "min_snr = 1\n",
    "\n",
    "c_1 = (1/np.sqrt(min_snr*noise_var))\n",
    "c_2 = (1/noise_var)\n",
    "\n",
    "W = cp.Variable((N,K), complex=True)\n",
    "obj = cp.Minimize(cp.square(cp.norm(W)))\n",
    "\n",
    "constraints = []\n",
    "for k in range(K):\n",
    "    mask = np.eye(K)\n",
    "    mask[k,k] = 0\n",
    "    constraints += [c_1*cp.real(np.expand_dims(H[:,k], axis=0) @ W[:,k]) >= cp.norm(cp.hstack((c_2*(W @ mask).H @ H[:,k], np.ones(1))), 2)]\n",
    "\n",
    "\n",
    "    # constraints += [cp.SOC((A @ W[:,k]), cp.real(H[:,k].conj().T @ W[:,k]))]\n",
    "prob = cp.Problem(obj, constraints)\n",
    "prob.solve(verbose=False)\n",
    "print(W.value)\n",
    "print(np.linalg.norm(W.value, 2))"
   ]
  },
  {
   "cell_type": "code",
   "execution_count": null,
   "id": "4480f701",
   "metadata": {},
   "outputs": [],
   "source": [
    "I do not know if this is optimal"
   ]
  },
  {
   "cell_type": "code",
   "execution_count": 4,
   "id": "451c64a6",
   "metadata": {},
   "outputs": [
    {
     "data": {
      "text/plain": [
       "(2,)"
      ]
     },
     "execution_count": 4,
     "metadata": {},
     "output_type": "execute_result"
    }
   ],
   "source": [
    "((W @ mask).H @ H[:,k]).shape"
   ]
  },
  {
   "cell_type": "code",
   "execution_count": 58,
   "id": "d54e78c8",
   "metadata": {},
   "outputs": [
    {
     "data": {
      "text/plain": [
       "array([0.01717352+0.10963138j, 0.31553831-0.10765415j])"
      ]
     },
     "execution_count": 58,
     "metadata": {},
     "output_type": "execute_result"
    }
   ],
   "source": [
    "c_2*(W.value).conj().T @ H[:,1]"
   ]
  }
 ],
 "metadata": {
  "kernelspec": {
   "display_name": "Python 3",
   "language": "python",
   "name": "python3"
  },
  "language_info": {
   "codemirror_mode": {
    "name": "ipython",
    "version": 3
   },
   "file_extension": ".py",
   "mimetype": "text/x-python",
   "name": "python",
   "nbconvert_exporter": "python",
   "pygments_lexer": "ipython3",
   "version": "3.6.8"
  }
 },
 "nbformat": 4,
 "nbformat_minor": 5
}
