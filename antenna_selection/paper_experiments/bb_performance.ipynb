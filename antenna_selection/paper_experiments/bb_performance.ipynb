{
 "cells": [
  {
   "cell_type": "markdown",
   "id": "c83c27fc",
   "metadata": {},
   "source": [
    "## Plot of B\\&B convergence "
   ]
  },
  {
   "cell_type": "code",
   "execution_count": 3,
   "id": "3f7379ff",
   "metadata": {},
   "outputs": [
    {
     "name": "stdout",
     "output_type": "stream",
     "text": [
      "\n",
      "timestep 0 7.091429175239733 1.2750447714278146\n",
      "\n",
      "timestep 1 6.075326122022576 1.2750447714278146\n",
      "\n",
      "timestep 2 5.5932024213782725 1.2750447714278146\n",
      "\n",
      "timestep 3 5.5932024213782725 1.2750447714278146\n",
      "\n",
      "timestep 4 3.960379419578586 1.559225420692975\n",
      "\n",
      "timestep 5 3.9603794195785853 1.6974913327016237\n",
      "\n",
      "timestep 6 3.9603794195785853 1.6974913327016237\n",
      "\n",
      "timestep 7 3.9603794195785853 1.6974913327016237\n",
      "\n",
      "timestep 8 3.9603794195785853 1.783458536774994\n",
      "\n",
      "timestep 9 3.9603794195785853 1.783458536774994\n",
      "\n",
      "timestep 10 3.9603794195785853 1.783458536774994\n",
      "\n",
      "timestep 11 3.9603794195785853 1.783458536774994\n",
      "\n",
      "timestep 12 3.9603794195785853 2.0247911905459977\n",
      "\n",
      "timestep 13 3.9603794195785853 2.0247911905459977\n",
      "\n",
      "timestep 14 3.9603794195785853 2.196299253515746\n",
      "\n",
      "timestep 15 3.9603794195785853 2.2225526033931007\n",
      "\n",
      "timestep 16 3.9603794195785853 2.2225526033931007\n",
      "\n",
      "timestep 17 3.9603794195785853 2.2233686945657443\n",
      "\n",
      "timestep 18 3.9603794195785853 2.3149150335588784\n",
      "\n",
      "timestep 19 3.9603794195785853 2.6092054360098067\n",
      "\n",
      "timestep 20 3.9603794195785853 2.6092054360098067\n",
      "\n",
      "timestep 21 3.9603794195785853 2.6092054360098067\n",
      "\n",
      "timestep 22 3.9603794195785853 2.6380402683291484\n",
      "\n",
      "timestep 23 3.9603794195785853 2.69768032916238\n",
      "\n",
      "timestep 24 3.9603794195785853 2.69768032916238\n",
      "\n",
      "timestep 25 3.9603794195785853 2.69768032916238\n",
      "\n",
      "timestep 26 3.9603794195785853 2.69768032916238\n",
      "\n",
      "timestep 27 3.9603794195785853 2.9399144945653\n",
      "\n",
      "timestep 28 3.9603794195785853 2.9399144945653\n",
      "\n",
      "timestep 29 3.9603794195785853 2.981374210000176\n",
      "\n",
      "timestep 30 3.9603794195785853 2.981374210000176\n",
      "\n",
      "timestep 31 3.9603794195785853 3.1734492147894837\n",
      "\n",
      "timestep 32 3.9603794195785853 3.1734492147894837\n",
      "\n",
      "timestep 33 3.9603794195785853 3.1734492147894837\n",
      "relaxed: not optimal, may be infeasible\n",
      "\n",
      "timestep 34 3.9603794195785853 3.2024055372152205\n",
      "\n",
      "timestep 35 3.9603794195785853 3.2259398223618407\n",
      "\n",
      "timestep 36 3.9603794195785853 3.2259398223618407\n",
      "\n",
      "timestep 37 3.9603794195785853 3.5628630718962935\n",
      "\n",
      "timestep 38 3.9603794195785853 3.571165028855873\n",
      "\n",
      "timestep 39 3.9603794195785853 3.5759088737048477\n",
      "\n",
      "timestep 40 3.9603794195785853 3.6157221300782294\n",
      "\n",
      "timestep 41 3.9603794195785853 3.69356553011291\n",
      "\n",
      "timestep 42 3.9603794195785853 3.69356553011291\n",
      "\n",
      "timestep 43 3.9603794195785853 3.8544180970144017\n",
      "\n",
      "timestep 44 3.9603794195785853 3.8544180970144017\n",
      "\n",
      "timestep 45 3.9603794195785853 3.8544180970144017\n",
      "\n",
      "timestep 46 3.9603794195785853 3.9603794195785853\n",
      "ended\n",
      "[1. 0. 0. 0. 1. 0. 1. 1.]\n",
      "\n",
      "timestep 0 9.632647447439494 1.4396146850801343\n",
      "\n",
      "timestep 1 7.8739022909095455 1.4396146850801343\n",
      "\n",
      "timestep 2 7.8739022909095455 1.4396146850801343\n",
      "\n",
      "timestep 3 7.323973252097104 1.4396146850801343\n",
      "\n",
      "timestep 4 4.729674575389267 1.7893182772986085\n",
      "\n",
      "timestep 5 4.729674575389267 1.9398211674515293\n",
      "\n",
      "timestep 6 4.729674575389267 1.9398211674515293\n",
      "\n",
      "timestep 7 4.729674575389267 2.088927148426606\n",
      "\n",
      "timestep 8 4.729674575389267 2.088927148426606\n",
      "\n",
      "timestep 9 4.729674575389267 2.088927148426606\n",
      "\n",
      "timestep 10 4.729674575389267 2.088927148426606\n",
      "\n",
      "timestep 11 4.729674575389267 2.342200199624874\n",
      "\n",
      "timestep 12 4.729674575389267 2.342200199624874\n",
      "\n",
      "timestep 13 4.729674575389267 2.342200199624874\n",
      "\n",
      "timestep 14 4.729674575389267 2.5881796862130035\n",
      "\n",
      "timestep 15 4.729674575389267 2.5976626366848965\n",
      "\n",
      "timestep 16 4.729674575389267 2.5976626366848965\n",
      "\n",
      "timestep 17 4.729674575389267 2.6535015751425832\n",
      "\n",
      "timestep 18 4.729674575389267 2.7838045966541514\n",
      "\n",
      "timestep 19 4.729674575389267 3.1472772398261624\n",
      "\n",
      "timestep 20 4.729674575389267 3.157076089928224\n",
      "\n",
      "timestep 21 4.729674575389267 3.157076089928224\n",
      "\n",
      "timestep 22 4.729674575389267 3.157076089928224\n",
      "\n",
      "timestep 23 4.729674575389267 3.3784847485359504\n",
      "\n",
      "timestep 24 4.729674575389267 3.3784847485359504\n",
      "\n",
      "timestep 25 4.729674575389267 3.3784847485359504\n",
      "\n",
      "timestep 26 4.729674575389267 3.3784847485359504\n",
      "\n",
      "timestep 27 4.729674575389267 3.6097893900003606\n",
      "\n",
      "timestep 28 4.729674575389267 3.6097893900003606\n",
      "\n",
      "timestep 29 4.729674575389267 3.6097893900003606\n",
      "\n",
      "timestep 30 4.729674575389267 3.6139457733857556\n",
      "\n",
      "timestep 31 4.729674575389267 3.6139457733857556\n",
      "\n",
      "timestep 32 4.729674575389267 3.7404554679059654\n",
      "\n",
      "timestep 33 4.729674575389267 3.7404554679059654\n",
      "\n",
      "timestep 34 4.729674575389267 3.869040277350935\n",
      "\n",
      "timestep 35 4.729674575389267 3.869040277350935\n",
      "\n",
      "timestep 36 4.729674575389267 3.9986603550496627\n",
      "\n",
      "timestep 37 4.729674575389267 4.41826149758857\n",
      "\n",
      "timestep 38 4.729674575389267 4.507137349393352\n",
      "\n",
      "timestep 39 4.729674575389267 4.62258741049292\n",
      "\n",
      "timestep 40 4.729674575389267 4.6569154705088245\n",
      "\n",
      "timestep 41 4.729674575389267 4.6569154705088245\n",
      "\n",
      "timestep 42 4.729674575389267 4.729674578415205\n",
      "ended\n",
      "[1. 0. 0. 0. 1. 0. 1. 1.]\n"
     ]
    },
    {
     "data": {
      "image/png": "[encoded data removed]",
      "text/plain": [
       "<Figure size 432x288 with 1 Axes>"
      ]
     },
     "metadata": {
      "needs_background": "light"
     },
     "output_type": "display_data"
    }
   ],
   "source": [
    "perfect_csi_name = 'Perfect CSI'\n",
    "approximate_csi_name = 'Approximate CSI'\n",
    "\n",
    "from antenna_selection.bb_unified import solve_bb\n",
    "import numpy as np\n",
    "import matplotlib.pyplot as plt\n",
    "\n",
    "np.random.seed(seed = 1000)\n",
    "N = 8\n",
    "M = 6\n",
    "max_ant = 4\n",
    "\n",
    "H = (np.random.randn(N, M) + 1j*np.random.randn(N,M))/np.sqrt(2)\n",
    "instance = np.stack((np.real(H), np.imag(H)), axis=0)\n",
    "_, global_U, timesteps, t, lb_list, ub_list, num_sdps = solve_bb(instance, max_ant=max_ant, max_iter = 7000, robust_beamforming=False)\n",
    "_, global_U, timesteps, t, lb_list_approx, ub_list_approx, num_sdps_approx = solve_bb(instance, max_ant=max_ant, max_iter = 7000, robust_beamforming=True)\n",
    "\n",
    "fig, ax = plt.subplots(1,1)\n",
    "ax.plot(ub_list, color='blue')\n",
    "ax.plot(lb_list, color='red')\n",
    "ax.plot(ub_list_approx, color='blue', linestyle='--')\n",
    "ax.plot(lb_list_approx, color='red' , linestyle='--')\n",
    "ax.legend(['Perfect CSI Upper Bound', 'Perfect CSI Lower Bound',\n",
    "            'Approximate CSI Upper Bound', 'Approximate CSI Lower Bound'])\n",
    "ax.set_xlabel('iteration')\n",
    "ax.set_ylabel('objective')\n",
    "ax.grid('on')"
   ]
  },
  {
   "cell_type": "code",
   "execution_count": 7,
   "id": "48047a04",
   "metadata": {},
   "outputs": [],
   "source": [
    "a = np.random.rand(5,4)"
   ]
  },
  {
   "cell_type": "code",
   "execution_count": 8,
   "id": "eaae05b1",
   "metadata": {},
   "outputs": [
    {
     "data": {
      "text/plain": [
       "array([2.94593505, 3.27337299, 2.52153154, 1.62243265])"
      ]
     },
     "execution_count": 8,
     "metadata": {},
     "output_type": "execute_result"
    }
   ],
   "source": [
    "np.sum(a, axis=0)"
   ]
  },
  {
   "cell_type": "code",
   "execution_count": 9,
   "id": "54dd2dd0",
   "metadata": {},
   "outputs": [
    {
     "data": {
      "text/plain": [
       "array([[0.72001539, 0.79040298, 0.32105144, 0.03728096],\n",
       "       [0.56439251, 0.67787072, 0.96954623, 0.68415889],\n",
       "       [0.70833934, 0.73106852, 0.13938528, 0.09549539],\n",
       "       [0.9505924 , 0.96124814, 0.30456753, 0.55916402],\n",
       "       [0.00259541, 0.11278263, 0.78698106, 0.24633339]])"
      ]
     },
     "execution_count": 9,
     "metadata": {},
     "output_type": "execute_result"
    }
   ],
   "source": [
    "a"
   ]
  },
  {
   "cell_type": "code",
   "execution_count": 13,
   "id": "87a9aeaa",
   "metadata": {},
   "outputs": [],
   "source": [
    "# Save figure \n",
    "fig.savefig('data/figures/bb_convergence_plot.pdf')"
   ]
  },
  {
   "cell_type": "markdown",
   "id": "a256ab17",
   "metadata": {},
   "source": [
    "## B&B performance table compared to the exhaustive search"
   ]
  },
  {
   "cell_type": "code",
   "execution_count": 6,
   "id": "6684e460",
   "metadata": {},
   "outputs": [
    {
     "name": "stdout",
     "output_type": "stream",
     "text": [
      "   (4, 2, 2)     1.19     6.90      6\n",
      "   (4, 3, 2)     2.18     7.83      6\n",
      "   (8, 2, 4)     7.09     31.60      70\n",
      "   (8, 3, 4)     15.09     39.37      70\n",
      "   (8, 4, 4)     28.39     49.00      70\n",
      "   (8, 5, 4)     52.11     64.50      70\n",
      "  (10, 2, 6)     19.49     65.27      210\n"
     ]
    }
   ],
   "source": [
    "import numpy as np\n",
    "import math\n",
    "import pickle\n",
    "\n",
    "# Filepath where the results are saved\n",
    "# bb_eval_data contains the first set of results whereas bb_eval_data_additional* contains additional combinations trial\n",
    "save_data_filepath = 'data/bb_approximate_eval_data.pkl'\n",
    "\n",
    "with open(save_data_filepath, 'rb') as handle:\n",
    "    data = pickle.load( handle)\n",
    "\n",
    "\n",
    "def nCr(n,r):\n",
    "    f = math.factorial\n",
    "    return int(f(n) / f(r) / f(n-r))\n",
    "\n",
    "ll = [(str(data['size'][i]), np.mean(data['data'][i][3]), np.mean(data['data'][i][4]), nCr(data['size'][i][0], data['size'][i][2]) ) for i in range(len(data['data']))]\n",
    "# ll2 = [(str(combinations1[i]), np.mean(data1['data'][i][3]), np.mean(data1['data'][i][4]), nCr(combinations1[i][0], combinations1[i][2]) ) for i in range(len(data1['data']))]\n",
    "# ll = ll + ll2\n",
    "\n",
    "for i in range(len(ll)):\n",
    "#     ll[i]  = [str(item) for item in ll[i] ]\n",
    "    print('{:>12}     {:>.2f}     {:.2f}      {}'.format(*ll[i]))"
   ]
  },
  {
   "cell_type": "code",
   "execution_count": 2,
   "id": "075c3e3d",
   "metadata": {},
   "outputs": [
    {
     "data": {
      "text/plain": [
       "[(4, 2, 2),\n",
       " (4, 3, 2),\n",
       " (8, 3, 4),\n",
       " (8, 5, 4),\n",
       " (8, 7, 4),\n",
       " (10, 4, 6),\n",
       " (10, 6, 6),\n",
       " (10, 8, 6),\n",
       " (12, 6, 8),\n",
       " (12, 8, 8),\n",
       " (12, 10, 8)]"
      ]
     },
     "execution_count": 2,
     "metadata": {},
     "output_type": "execute_result"
    }
   ],
   "source": [
    "data['size']"
   ]
  },
  {
   "cell_type": "code",
   "execution_count": null,
   "id": "f5d101fc",
   "metadata": {},
   "outputs": [],
   "source": []
  },
  {
   "cell_type": "code",
   "execution_count": null,
   "id": "18071e1a",
   "metadata": {},
   "outputs": [],
   "source": []
  }
 ],
 "metadata": {
  "kernelspec": {
   "display_name": "Python 3",
   "language": "python",
   "name": "python3"
  },
  "language_info": {
   "codemirror_mode": {
    "name": "ipython",
    "version": 3
   },
   "file_extension": ".py",
   "mimetype": "text/x-python",
   "name": "python",
   "nbconvert_exporter": "python",
   "pygments_lexer": "ipython3",
   "version": "3.6.8"
  }
 },
 "nbformat": 4,
 "nbformat_minor": 5
}
